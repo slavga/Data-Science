{
 "cells": [
  {
   "cell_type": "markdown",
   "metadata": {},
   "source": [
    "# Выбор локации для скважины"
   ]
  },
  {
   "cell_type": "markdown",
   "metadata": {},
   "source": [
    "Добывающей компании «ГлавРосГосНефть» нужно решить, где бурить новую скважину.\n",
    "Предоставлены пробы нефти в трёх регионах: в каждом 10 000 месторождений, где измерили качество нефти и объём её запасов. <br>  \n",
    "<br>\n",
    "<font size=4>**Задача**</font> \n",
    "\n",
    "Необходимо построить модель машинного обучения, которая поможет определить регион, где добыча принесёт наибольшую прибыль.  \n",
    "Также проанализировать возможные прибыль и риски.  \n",
    "\n",
    "Шаги для выбора локации:\n",
    "\n",
    "- В избранном регионе ищут месторождения, для каждого определяют значения признаков;\n",
    "- Строят модель и оценивают объём запасов;\n",
    "- Выбирают месторождения с самым высокими оценками значений. Количество месторождений зависит от бюджета компании и стоимости разработки одной скважины;\n",
    "- Прибыль равна суммарной прибыли отобранных месторождений."
   ]
  },
  {
   "cell_type": "markdown",
   "metadata": {},
   "source": [
    "<font size=4>**Описание данных**</font>  \n",
    "- id — уникальный идентификатор скважины;  \n",
    "- f0, f1, f2 — три признака точек (неважно, что они означают, но сами признаки значимы);  \n",
    "- product — объём запасов в скважине (тыс. баррелей).\n"
   ]
  },
  {
   "cell_type": "markdown",
   "metadata": {},
   "source": [
    "<font size=4>**Условия задачи**</font> \n",
    "- Для обучения модели подходит только линейная регрессия (остальные — недостаточно предсказуемые).\n",
    "- При разведке региона исследуют 500 точек, из которых с помощью машинного обучения выбирают 200 лучших для разработки.\n",
    "- Бюджет на разработку скважин в регионе — 10 млрд рублей.\n",
    "- При нынешних ценах один баррель сырья приносит 450 рублей дохода. Доход с каждой единицы продукта составляет 450 тыс. рублей, поскольку объём указан в тысячах баррелей.\n",
    "- После оценки рисков нужно оставить лишь те регионы, в которых вероятность убытков меньше 2.5%. Среди них выбирают регион с наибольшей средней прибылью.\n"
   ]
  },
  {
   "cell_type": "markdown",
   "metadata": {},
   "source": [
    "Подключаем библиотеки"
   ]
  },
  {
   "cell_type": "code",
   "execution_count": 1,
   "metadata": {},
   "outputs": [],
   "source": [
    "import pandas as pd\n",
    "import numpy as np\n",
    "import seaborn as sns\n",
    "import matplotlib.pyplot as plt\n",
    "\n",
    "from numpy.random import RandomState\n",
    "\n",
    "from sklearn.linear_model import LinearRegression\n",
    "from sklearn.metrics import mean_squared_error\n",
    "from sklearn.model_selection import train_test_split"
   ]
  },
  {
   "cell_type": "code",
   "execution_count": 2,
   "metadata": {},
   "outputs": [],
   "source": [
    "import warnings\n",
    "warnings.filterwarnings('ignore')"
   ]
  },
  {
   "cell_type": "code",
   "execution_count": 3,
   "metadata": {},
   "outputs": [],
   "source": [
    "# Зададим темную тему для визуализации графиков\n",
    "sns.set(style=\"darkgrid\")"
   ]
  },
  {
   "cell_type": "code",
   "execution_count": 4,
   "metadata": {},
   "outputs": [],
   "source": [
    "# Создадим переменную SEED для использования в качестве random_state параметра\n",
    "SEED = 12345"
   ]
  },
  {
   "cell_type": "markdown",
   "metadata": {},
   "source": [
    "## Загрузка и подготовка данных"
   ]
  },
  {
   "cell_type": "code",
   "execution_count": 5,
   "metadata": {},
   "outputs": [],
   "source": [
    "# Напишем функцию для окрытия и обзора данных\n",
    "def read_and_print_info(path):\n",
    "    df = pd.read_csv(path)\n",
    "    display(df.head(10))\n",
    "    display(df.info(memory_usage='deep'))\n",
    "    display(df.describe().T)\n",
    "    print('Количество дублей:', df.duplicated().sum())\n",
    "    return df"
   ]
  },
  {
   "cell_type": "code",
   "execution_count": 6,
   "metadata": {},
   "outputs": [
    {
     "data": {
      "text/html": [
       "<div>\n",
       "<style scoped>\n",
       "    .dataframe tbody tr th:only-of-type {\n",
       "        vertical-align: middle;\n",
       "    }\n",
       "\n",
       "    .dataframe tbody tr th {\n",
       "        vertical-align: top;\n",
       "    }\n",
       "\n",
       "    .dataframe thead th {\n",
       "        text-align: right;\n",
       "    }\n",
       "</style>\n",
       "<table border=\"1\" class=\"dataframe\">\n",
       "  <thead>\n",
       "    <tr style=\"text-align: right;\">\n",
       "      <th></th>\n",
       "      <th>id</th>\n",
       "      <th>f0</th>\n",
       "      <th>f1</th>\n",
       "      <th>f2</th>\n",
       "      <th>product</th>\n",
       "    </tr>\n",
       "  </thead>\n",
       "  <tbody>\n",
       "    <tr>\n",
       "      <th>0</th>\n",
       "      <td>txEyH</td>\n",
       "      <td>0.705745</td>\n",
       "      <td>-0.497823</td>\n",
       "      <td>1.221170</td>\n",
       "      <td>105.280062</td>\n",
       "    </tr>\n",
       "    <tr>\n",
       "      <th>1</th>\n",
       "      <td>2acmU</td>\n",
       "      <td>1.334711</td>\n",
       "      <td>-0.340164</td>\n",
       "      <td>4.365080</td>\n",
       "      <td>73.037750</td>\n",
       "    </tr>\n",
       "    <tr>\n",
       "      <th>2</th>\n",
       "      <td>409Wp</td>\n",
       "      <td>1.022732</td>\n",
       "      <td>0.151990</td>\n",
       "      <td>1.419926</td>\n",
       "      <td>85.265647</td>\n",
       "    </tr>\n",
       "    <tr>\n",
       "      <th>3</th>\n",
       "      <td>iJLyR</td>\n",
       "      <td>-0.032172</td>\n",
       "      <td>0.139033</td>\n",
       "      <td>2.978566</td>\n",
       "      <td>168.620776</td>\n",
       "    </tr>\n",
       "    <tr>\n",
       "      <th>4</th>\n",
       "      <td>Xdl7t</td>\n",
       "      <td>1.988431</td>\n",
       "      <td>0.155413</td>\n",
       "      <td>4.751769</td>\n",
       "      <td>154.036647</td>\n",
       "    </tr>\n",
       "    <tr>\n",
       "      <th>5</th>\n",
       "      <td>wX4Hy</td>\n",
       "      <td>0.969570</td>\n",
       "      <td>0.489775</td>\n",
       "      <td>-0.735383</td>\n",
       "      <td>64.741541</td>\n",
       "    </tr>\n",
       "    <tr>\n",
       "      <th>6</th>\n",
       "      <td>tL6pL</td>\n",
       "      <td>0.645075</td>\n",
       "      <td>0.530656</td>\n",
       "      <td>1.780266</td>\n",
       "      <td>49.055285</td>\n",
       "    </tr>\n",
       "    <tr>\n",
       "      <th>7</th>\n",
       "      <td>BYPU6</td>\n",
       "      <td>-0.400648</td>\n",
       "      <td>0.808337</td>\n",
       "      <td>-5.624670</td>\n",
       "      <td>72.943292</td>\n",
       "    </tr>\n",
       "    <tr>\n",
       "      <th>8</th>\n",
       "      <td>j9Oui</td>\n",
       "      <td>0.643105</td>\n",
       "      <td>-0.551583</td>\n",
       "      <td>2.372141</td>\n",
       "      <td>113.356160</td>\n",
       "    </tr>\n",
       "    <tr>\n",
       "      <th>9</th>\n",
       "      <td>OLuZU</td>\n",
       "      <td>2.173381</td>\n",
       "      <td>0.563698</td>\n",
       "      <td>9.441852</td>\n",
       "      <td>127.910945</td>\n",
       "    </tr>\n",
       "  </tbody>\n",
       "</table>\n",
       "</div>"
      ],
      "text/plain": [
       "      id        f0        f1        f2     product\n",
       "0  txEyH  0.705745 -0.497823  1.221170  105.280062\n",
       "1  2acmU  1.334711 -0.340164  4.365080   73.037750\n",
       "2  409Wp  1.022732  0.151990  1.419926   85.265647\n",
       "3  iJLyR -0.032172  0.139033  2.978566  168.620776\n",
       "4  Xdl7t  1.988431  0.155413  4.751769  154.036647\n",
       "5  wX4Hy  0.969570  0.489775 -0.735383   64.741541\n",
       "6  tL6pL  0.645075  0.530656  1.780266   49.055285\n",
       "7  BYPU6 -0.400648  0.808337 -5.624670   72.943292\n",
       "8  j9Oui  0.643105 -0.551583  2.372141  113.356160\n",
       "9  OLuZU  2.173381  0.563698  9.441852  127.910945"
      ]
     },
     "metadata": {},
     "output_type": "display_data"
    },
    {
     "name": "stdout",
     "output_type": "stream",
     "text": [
      "<class 'pandas.core.frame.DataFrame'>\n",
      "RangeIndex: 100000 entries, 0 to 99999\n",
      "Data columns (total 5 columns):\n",
      " #   Column   Non-Null Count   Dtype  \n",
      "---  ------   --------------   -----  \n",
      " 0   id       100000 non-null  object \n",
      " 1   f0       100000 non-null  float64\n",
      " 2   f1       100000 non-null  float64\n",
      " 3   f2       100000 non-null  float64\n",
      " 4   product  100000 non-null  float64\n",
      "dtypes: float64(4), object(1)\n",
      "memory usage: 9.0 MB\n"
     ]
    },
    {
     "data": {
      "text/plain": [
       "None"
      ]
     },
     "metadata": {},
     "output_type": "display_data"
    },
    {
     "data": {
      "text/html": [
       "<div>\n",
       "<style scoped>\n",
       "    .dataframe tbody tr th:only-of-type {\n",
       "        vertical-align: middle;\n",
       "    }\n",
       "\n",
       "    .dataframe tbody tr th {\n",
       "        vertical-align: top;\n",
       "    }\n",
       "\n",
       "    .dataframe thead th {\n",
       "        text-align: right;\n",
       "    }\n",
       "</style>\n",
       "<table border=\"1\" class=\"dataframe\">\n",
       "  <thead>\n",
       "    <tr style=\"text-align: right;\">\n",
       "      <th></th>\n",
       "      <th>count</th>\n",
       "      <th>mean</th>\n",
       "      <th>std</th>\n",
       "      <th>min</th>\n",
       "      <th>25%</th>\n",
       "      <th>50%</th>\n",
       "      <th>75%</th>\n",
       "      <th>max</th>\n",
       "    </tr>\n",
       "  </thead>\n",
       "  <tbody>\n",
       "    <tr>\n",
       "      <th>f0</th>\n",
       "      <td>100000.0</td>\n",
       "      <td>0.500419</td>\n",
       "      <td>0.871832</td>\n",
       "      <td>-1.408605</td>\n",
       "      <td>-0.072580</td>\n",
       "      <td>0.502360</td>\n",
       "      <td>1.073581</td>\n",
       "      <td>2.362331</td>\n",
       "    </tr>\n",
       "    <tr>\n",
       "      <th>f1</th>\n",
       "      <td>100000.0</td>\n",
       "      <td>0.250143</td>\n",
       "      <td>0.504433</td>\n",
       "      <td>-0.848218</td>\n",
       "      <td>-0.200881</td>\n",
       "      <td>0.250252</td>\n",
       "      <td>0.700646</td>\n",
       "      <td>1.343769</td>\n",
       "    </tr>\n",
       "    <tr>\n",
       "      <th>f2</th>\n",
       "      <td>100000.0</td>\n",
       "      <td>2.502647</td>\n",
       "      <td>3.248248</td>\n",
       "      <td>-12.088328</td>\n",
       "      <td>0.287748</td>\n",
       "      <td>2.515969</td>\n",
       "      <td>4.715088</td>\n",
       "      <td>16.003790</td>\n",
       "    </tr>\n",
       "    <tr>\n",
       "      <th>product</th>\n",
       "      <td>100000.0</td>\n",
       "      <td>92.500000</td>\n",
       "      <td>44.288691</td>\n",
       "      <td>0.000000</td>\n",
       "      <td>56.497507</td>\n",
       "      <td>91.849972</td>\n",
       "      <td>128.564089</td>\n",
       "      <td>185.364347</td>\n",
       "    </tr>\n",
       "  </tbody>\n",
       "</table>\n",
       "</div>"
      ],
      "text/plain": [
       "            count       mean        std        min        25%        50%  \\\n",
       "f0       100000.0   0.500419   0.871832  -1.408605  -0.072580   0.502360   \n",
       "f1       100000.0   0.250143   0.504433  -0.848218  -0.200881   0.250252   \n",
       "f2       100000.0   2.502647   3.248248 -12.088328   0.287748   2.515969   \n",
       "product  100000.0  92.500000  44.288691   0.000000  56.497507  91.849972   \n",
       "\n",
       "                75%         max  \n",
       "f0         1.073581    2.362331  \n",
       "f1         0.700646    1.343769  \n",
       "f2         4.715088   16.003790  \n",
       "product  128.564089  185.364347  "
      ]
     },
     "metadata": {},
     "output_type": "display_data"
    },
    {
     "name": "stdout",
     "output_type": "stream",
     "text": [
      "Количество дублей: 0\n"
     ]
    }
   ],
   "source": [
    "df_zero = read_and_print_info('/datasets/geo_data_0.csv')"
   ]
  },
  {
   "cell_type": "code",
   "execution_count": 7,
   "metadata": {},
   "outputs": [
    {
     "data": {
      "text/html": [
       "<div>\n",
       "<style scoped>\n",
       "    .dataframe tbody tr th:only-of-type {\n",
       "        vertical-align: middle;\n",
       "    }\n",
       "\n",
       "    .dataframe tbody tr th {\n",
       "        vertical-align: top;\n",
       "    }\n",
       "\n",
       "    .dataframe thead th {\n",
       "        text-align: right;\n",
       "    }\n",
       "</style>\n",
       "<table border=\"1\" class=\"dataframe\">\n",
       "  <thead>\n",
       "    <tr style=\"text-align: right;\">\n",
       "      <th></th>\n",
       "      <th>id</th>\n",
       "      <th>f0</th>\n",
       "      <th>f1</th>\n",
       "      <th>f2</th>\n",
       "      <th>product</th>\n",
       "    </tr>\n",
       "  </thead>\n",
       "  <tbody>\n",
       "    <tr>\n",
       "      <th>0</th>\n",
       "      <td>kBEdx</td>\n",
       "      <td>-15.001348</td>\n",
       "      <td>-8.276000</td>\n",
       "      <td>-0.005876</td>\n",
       "      <td>3.179103</td>\n",
       "    </tr>\n",
       "    <tr>\n",
       "      <th>1</th>\n",
       "      <td>62mP7</td>\n",
       "      <td>14.272088</td>\n",
       "      <td>-3.475083</td>\n",
       "      <td>0.999183</td>\n",
       "      <td>26.953261</td>\n",
       "    </tr>\n",
       "    <tr>\n",
       "      <th>2</th>\n",
       "      <td>vyE1P</td>\n",
       "      <td>6.263187</td>\n",
       "      <td>-5.948386</td>\n",
       "      <td>5.001160</td>\n",
       "      <td>134.766305</td>\n",
       "    </tr>\n",
       "    <tr>\n",
       "      <th>3</th>\n",
       "      <td>KcrkZ</td>\n",
       "      <td>-13.081196</td>\n",
       "      <td>-11.506057</td>\n",
       "      <td>4.999415</td>\n",
       "      <td>137.945408</td>\n",
       "    </tr>\n",
       "    <tr>\n",
       "      <th>4</th>\n",
       "      <td>AHL4O</td>\n",
       "      <td>12.702195</td>\n",
       "      <td>-8.147433</td>\n",
       "      <td>5.004363</td>\n",
       "      <td>134.766305</td>\n",
       "    </tr>\n",
       "    <tr>\n",
       "      <th>5</th>\n",
       "      <td>HHckp</td>\n",
       "      <td>-3.327590</td>\n",
       "      <td>-2.205276</td>\n",
       "      <td>3.003647</td>\n",
       "      <td>84.038886</td>\n",
       "    </tr>\n",
       "    <tr>\n",
       "      <th>6</th>\n",
       "      <td>h5Ujo</td>\n",
       "      <td>-11.142655</td>\n",
       "      <td>-10.133399</td>\n",
       "      <td>4.002382</td>\n",
       "      <td>110.992147</td>\n",
       "    </tr>\n",
       "    <tr>\n",
       "      <th>7</th>\n",
       "      <td>muH9x</td>\n",
       "      <td>4.234715</td>\n",
       "      <td>-0.001354</td>\n",
       "      <td>2.004588</td>\n",
       "      <td>53.906522</td>\n",
       "    </tr>\n",
       "    <tr>\n",
       "      <th>8</th>\n",
       "      <td>YiRkx</td>\n",
       "      <td>13.355129</td>\n",
       "      <td>-0.332068</td>\n",
       "      <td>4.998647</td>\n",
       "      <td>134.766305</td>\n",
       "    </tr>\n",
       "    <tr>\n",
       "      <th>9</th>\n",
       "      <td>jG6Gi</td>\n",
       "      <td>1.069227</td>\n",
       "      <td>-11.025667</td>\n",
       "      <td>4.997844</td>\n",
       "      <td>137.945408</td>\n",
       "    </tr>\n",
       "  </tbody>\n",
       "</table>\n",
       "</div>"
      ],
      "text/plain": [
       "      id         f0         f1        f2     product\n",
       "0  kBEdx -15.001348  -8.276000 -0.005876    3.179103\n",
       "1  62mP7  14.272088  -3.475083  0.999183   26.953261\n",
       "2  vyE1P   6.263187  -5.948386  5.001160  134.766305\n",
       "3  KcrkZ -13.081196 -11.506057  4.999415  137.945408\n",
       "4  AHL4O  12.702195  -8.147433  5.004363  134.766305\n",
       "5  HHckp  -3.327590  -2.205276  3.003647   84.038886\n",
       "6  h5Ujo -11.142655 -10.133399  4.002382  110.992147\n",
       "7  muH9x   4.234715  -0.001354  2.004588   53.906522\n",
       "8  YiRkx  13.355129  -0.332068  4.998647  134.766305\n",
       "9  jG6Gi   1.069227 -11.025667  4.997844  137.945408"
      ]
     },
     "metadata": {},
     "output_type": "display_data"
    },
    {
     "name": "stdout",
     "output_type": "stream",
     "text": [
      "<class 'pandas.core.frame.DataFrame'>\n",
      "RangeIndex: 100000 entries, 0 to 99999\n",
      "Data columns (total 5 columns):\n",
      " #   Column   Non-Null Count   Dtype  \n",
      "---  ------   --------------   -----  \n",
      " 0   id       100000 non-null  object \n",
      " 1   f0       100000 non-null  float64\n",
      " 2   f1       100000 non-null  float64\n",
      " 3   f2       100000 non-null  float64\n",
      " 4   product  100000 non-null  float64\n",
      "dtypes: float64(4), object(1)\n",
      "memory usage: 9.0 MB\n"
     ]
    },
    {
     "data": {
      "text/plain": [
       "None"
      ]
     },
     "metadata": {},
     "output_type": "display_data"
    },
    {
     "data": {
      "text/html": [
       "<div>\n",
       "<style scoped>\n",
       "    .dataframe tbody tr th:only-of-type {\n",
       "        vertical-align: middle;\n",
       "    }\n",
       "\n",
       "    .dataframe tbody tr th {\n",
       "        vertical-align: top;\n",
       "    }\n",
       "\n",
       "    .dataframe thead th {\n",
       "        text-align: right;\n",
       "    }\n",
       "</style>\n",
       "<table border=\"1\" class=\"dataframe\">\n",
       "  <thead>\n",
       "    <tr style=\"text-align: right;\">\n",
       "      <th></th>\n",
       "      <th>count</th>\n",
       "      <th>mean</th>\n",
       "      <th>std</th>\n",
       "      <th>min</th>\n",
       "      <th>25%</th>\n",
       "      <th>50%</th>\n",
       "      <th>75%</th>\n",
       "      <th>max</th>\n",
       "    </tr>\n",
       "  </thead>\n",
       "  <tbody>\n",
       "    <tr>\n",
       "      <th>f0</th>\n",
       "      <td>100000.0</td>\n",
       "      <td>1.141296</td>\n",
       "      <td>8.965932</td>\n",
       "      <td>-31.609576</td>\n",
       "      <td>-6.298551</td>\n",
       "      <td>1.153055</td>\n",
       "      <td>8.621015</td>\n",
       "      <td>29.421755</td>\n",
       "    </tr>\n",
       "    <tr>\n",
       "      <th>f1</th>\n",
       "      <td>100000.0</td>\n",
       "      <td>-4.796579</td>\n",
       "      <td>5.119872</td>\n",
       "      <td>-26.358598</td>\n",
       "      <td>-8.267985</td>\n",
       "      <td>-4.813172</td>\n",
       "      <td>-1.332816</td>\n",
       "      <td>18.734063</td>\n",
       "    </tr>\n",
       "    <tr>\n",
       "      <th>f2</th>\n",
       "      <td>100000.0</td>\n",
       "      <td>2.494541</td>\n",
       "      <td>1.703572</td>\n",
       "      <td>-0.018144</td>\n",
       "      <td>1.000021</td>\n",
       "      <td>2.011479</td>\n",
       "      <td>3.999904</td>\n",
       "      <td>5.019721</td>\n",
       "    </tr>\n",
       "    <tr>\n",
       "      <th>product</th>\n",
       "      <td>100000.0</td>\n",
       "      <td>68.825000</td>\n",
       "      <td>45.944423</td>\n",
       "      <td>0.000000</td>\n",
       "      <td>26.953261</td>\n",
       "      <td>57.085625</td>\n",
       "      <td>107.813044</td>\n",
       "      <td>137.945408</td>\n",
       "    </tr>\n",
       "  </tbody>\n",
       "</table>\n",
       "</div>"
      ],
      "text/plain": [
       "            count       mean        std        min        25%        50%  \\\n",
       "f0       100000.0   1.141296   8.965932 -31.609576  -6.298551   1.153055   \n",
       "f1       100000.0  -4.796579   5.119872 -26.358598  -8.267985  -4.813172   \n",
       "f2       100000.0   2.494541   1.703572  -0.018144   1.000021   2.011479   \n",
       "product  100000.0  68.825000  45.944423   0.000000  26.953261  57.085625   \n",
       "\n",
       "                75%         max  \n",
       "f0         8.621015   29.421755  \n",
       "f1        -1.332816   18.734063  \n",
       "f2         3.999904    5.019721  \n",
       "product  107.813044  137.945408  "
      ]
     },
     "metadata": {},
     "output_type": "display_data"
    },
    {
     "name": "stdout",
     "output_type": "stream",
     "text": [
      "Количество дублей: 0\n"
     ]
    }
   ],
   "source": [
    "df_one = read_and_print_info('/datasets/geo_data_1.csv')"
   ]
  },
  {
   "cell_type": "code",
   "execution_count": 8,
   "metadata": {},
   "outputs": [
    {
     "data": {
      "text/html": [
       "<div>\n",
       "<style scoped>\n",
       "    .dataframe tbody tr th:only-of-type {\n",
       "        vertical-align: middle;\n",
       "    }\n",
       "\n",
       "    .dataframe tbody tr th {\n",
       "        vertical-align: top;\n",
       "    }\n",
       "\n",
       "    .dataframe thead th {\n",
       "        text-align: right;\n",
       "    }\n",
       "</style>\n",
       "<table border=\"1\" class=\"dataframe\">\n",
       "  <thead>\n",
       "    <tr style=\"text-align: right;\">\n",
       "      <th></th>\n",
       "      <th>id</th>\n",
       "      <th>f0</th>\n",
       "      <th>f1</th>\n",
       "      <th>f2</th>\n",
       "      <th>product</th>\n",
       "    </tr>\n",
       "  </thead>\n",
       "  <tbody>\n",
       "    <tr>\n",
       "      <th>0</th>\n",
       "      <td>fwXo0</td>\n",
       "      <td>-1.146987</td>\n",
       "      <td>0.963328</td>\n",
       "      <td>-0.828965</td>\n",
       "      <td>27.758673</td>\n",
       "    </tr>\n",
       "    <tr>\n",
       "      <th>1</th>\n",
       "      <td>WJtFt</td>\n",
       "      <td>0.262778</td>\n",
       "      <td>0.269839</td>\n",
       "      <td>-2.530187</td>\n",
       "      <td>56.069697</td>\n",
       "    </tr>\n",
       "    <tr>\n",
       "      <th>2</th>\n",
       "      <td>ovLUW</td>\n",
       "      <td>0.194587</td>\n",
       "      <td>0.289035</td>\n",
       "      <td>-5.586433</td>\n",
       "      <td>62.871910</td>\n",
       "    </tr>\n",
       "    <tr>\n",
       "      <th>3</th>\n",
       "      <td>q6cA6</td>\n",
       "      <td>2.236060</td>\n",
       "      <td>-0.553760</td>\n",
       "      <td>0.930038</td>\n",
       "      <td>114.572842</td>\n",
       "    </tr>\n",
       "    <tr>\n",
       "      <th>4</th>\n",
       "      <td>WPMUX</td>\n",
       "      <td>-0.515993</td>\n",
       "      <td>1.716266</td>\n",
       "      <td>5.899011</td>\n",
       "      <td>149.600746</td>\n",
       "    </tr>\n",
       "    <tr>\n",
       "      <th>5</th>\n",
       "      <td>LzZXx</td>\n",
       "      <td>-0.758092</td>\n",
       "      <td>0.710691</td>\n",
       "      <td>2.585887</td>\n",
       "      <td>90.222465</td>\n",
       "    </tr>\n",
       "    <tr>\n",
       "      <th>6</th>\n",
       "      <td>WBHRv</td>\n",
       "      <td>-0.574891</td>\n",
       "      <td>0.317727</td>\n",
       "      <td>1.773745</td>\n",
       "      <td>45.641478</td>\n",
       "    </tr>\n",
       "    <tr>\n",
       "      <th>7</th>\n",
       "      <td>XO8fn</td>\n",
       "      <td>-1.906649</td>\n",
       "      <td>-2.458350</td>\n",
       "      <td>-0.177097</td>\n",
       "      <td>72.480640</td>\n",
       "    </tr>\n",
       "    <tr>\n",
       "      <th>8</th>\n",
       "      <td>ybmQ5</td>\n",
       "      <td>1.776292</td>\n",
       "      <td>-0.279356</td>\n",
       "      <td>3.004156</td>\n",
       "      <td>106.616832</td>\n",
       "    </tr>\n",
       "    <tr>\n",
       "      <th>9</th>\n",
       "      <td>OilcN</td>\n",
       "      <td>-1.214452</td>\n",
       "      <td>-0.439314</td>\n",
       "      <td>5.922514</td>\n",
       "      <td>52.954532</td>\n",
       "    </tr>\n",
       "  </tbody>\n",
       "</table>\n",
       "</div>"
      ],
      "text/plain": [
       "      id        f0        f1        f2     product\n",
       "0  fwXo0 -1.146987  0.963328 -0.828965   27.758673\n",
       "1  WJtFt  0.262778  0.269839 -2.530187   56.069697\n",
       "2  ovLUW  0.194587  0.289035 -5.586433   62.871910\n",
       "3  q6cA6  2.236060 -0.553760  0.930038  114.572842\n",
       "4  WPMUX -0.515993  1.716266  5.899011  149.600746\n",
       "5  LzZXx -0.758092  0.710691  2.585887   90.222465\n",
       "6  WBHRv -0.574891  0.317727  1.773745   45.641478\n",
       "7  XO8fn -1.906649 -2.458350 -0.177097   72.480640\n",
       "8  ybmQ5  1.776292 -0.279356  3.004156  106.616832\n",
       "9  OilcN -1.214452 -0.439314  5.922514   52.954532"
      ]
     },
     "metadata": {},
     "output_type": "display_data"
    },
    {
     "name": "stdout",
     "output_type": "stream",
     "text": [
      "<class 'pandas.core.frame.DataFrame'>\n",
      "RangeIndex: 100000 entries, 0 to 99999\n",
      "Data columns (total 5 columns):\n",
      " #   Column   Non-Null Count   Dtype  \n",
      "---  ------   --------------   -----  \n",
      " 0   id       100000 non-null  object \n",
      " 1   f0       100000 non-null  float64\n",
      " 2   f1       100000 non-null  float64\n",
      " 3   f2       100000 non-null  float64\n",
      " 4   product  100000 non-null  float64\n",
      "dtypes: float64(4), object(1)\n",
      "memory usage: 9.0 MB\n"
     ]
    },
    {
     "data": {
      "text/plain": [
       "None"
      ]
     },
     "metadata": {},
     "output_type": "display_data"
    },
    {
     "data": {
      "text/html": [
       "<div>\n",
       "<style scoped>\n",
       "    .dataframe tbody tr th:only-of-type {\n",
       "        vertical-align: middle;\n",
       "    }\n",
       "\n",
       "    .dataframe tbody tr th {\n",
       "        vertical-align: top;\n",
       "    }\n",
       "\n",
       "    .dataframe thead th {\n",
       "        text-align: right;\n",
       "    }\n",
       "</style>\n",
       "<table border=\"1\" class=\"dataframe\">\n",
       "  <thead>\n",
       "    <tr style=\"text-align: right;\">\n",
       "      <th></th>\n",
       "      <th>count</th>\n",
       "      <th>mean</th>\n",
       "      <th>std</th>\n",
       "      <th>min</th>\n",
       "      <th>25%</th>\n",
       "      <th>50%</th>\n",
       "      <th>75%</th>\n",
       "      <th>max</th>\n",
       "    </tr>\n",
       "  </thead>\n",
       "  <tbody>\n",
       "    <tr>\n",
       "      <th>f0</th>\n",
       "      <td>100000.0</td>\n",
       "      <td>0.002023</td>\n",
       "      <td>1.732045</td>\n",
       "      <td>-8.760004</td>\n",
       "      <td>-1.162288</td>\n",
       "      <td>0.009424</td>\n",
       "      <td>1.158535</td>\n",
       "      <td>7.238262</td>\n",
       "    </tr>\n",
       "    <tr>\n",
       "      <th>f1</th>\n",
       "      <td>100000.0</td>\n",
       "      <td>-0.002081</td>\n",
       "      <td>1.730417</td>\n",
       "      <td>-7.084020</td>\n",
       "      <td>-1.174820</td>\n",
       "      <td>-0.009482</td>\n",
       "      <td>1.163678</td>\n",
       "      <td>7.844801</td>\n",
       "    </tr>\n",
       "    <tr>\n",
       "      <th>f2</th>\n",
       "      <td>100000.0</td>\n",
       "      <td>2.495128</td>\n",
       "      <td>3.473445</td>\n",
       "      <td>-11.970335</td>\n",
       "      <td>0.130359</td>\n",
       "      <td>2.484236</td>\n",
       "      <td>4.858794</td>\n",
       "      <td>16.739402</td>\n",
       "    </tr>\n",
       "    <tr>\n",
       "      <th>product</th>\n",
       "      <td>100000.0</td>\n",
       "      <td>95.000000</td>\n",
       "      <td>44.749921</td>\n",
       "      <td>0.000000</td>\n",
       "      <td>59.450441</td>\n",
       "      <td>94.925613</td>\n",
       "      <td>130.595027</td>\n",
       "      <td>190.029838</td>\n",
       "    </tr>\n",
       "  </tbody>\n",
       "</table>\n",
       "</div>"
      ],
      "text/plain": [
       "            count       mean        std        min        25%        50%  \\\n",
       "f0       100000.0   0.002023   1.732045  -8.760004  -1.162288   0.009424   \n",
       "f1       100000.0  -0.002081   1.730417  -7.084020  -1.174820  -0.009482   \n",
       "f2       100000.0   2.495128   3.473445 -11.970335   0.130359   2.484236   \n",
       "product  100000.0  95.000000  44.749921   0.000000  59.450441  94.925613   \n",
       "\n",
       "                75%         max  \n",
       "f0         1.158535    7.238262  \n",
       "f1         1.163678    7.844801  \n",
       "f2         4.858794   16.739402  \n",
       "product  130.595027  190.029838  "
      ]
     },
     "metadata": {},
     "output_type": "display_data"
    },
    {
     "name": "stdout",
     "output_type": "stream",
     "text": [
      "Количество дублей: 0\n"
     ]
    }
   ],
   "source": [
    "df_two =  read_and_print_info('/datasets/geo_data_2.csv')"
   ]
  },
  {
   "cell_type": "markdown",
   "metadata": {},
   "source": [
    "### Удаление данных"
   ]
  },
  {
   "cell_type": "markdown",
   "metadata": {},
   "source": [
    "В данных можно удалить столбец id, так как эти данные не нужны модели машинного обучения. Нас интересуют регионы, а не конкретные скважины. Но предварительно посмотрим на идентификатор, может есть аномалии. "
   ]
  },
  {
   "cell_type": "markdown",
   "metadata": {},
   "source": [
    "Проверим идентификатор на уникальные значения"
   ]
  },
  {
   "cell_type": "code",
   "execution_count": 9,
   "metadata": {},
   "outputs": [
    {
     "data": {
      "text/plain": [
       "74z30    2\n",
       "bsk9y    2\n",
       "Tdehs    2\n",
       "HZww2    2\n",
       "QcMuo    2\n",
       "        ..\n",
       "CPjRO    1\n",
       "mfDyg    1\n",
       "rHser    1\n",
       "nG7e7    1\n",
       "TNDIp    1\n",
       "Name: id, Length: 99990, dtype: int64"
      ]
     },
     "execution_count": 9,
     "metadata": {},
     "output_type": "execute_result"
    }
   ],
   "source": [
    "df_zero['id'].value_counts()\n",
    "   \n",
    "    "
   ]
  },
  {
   "cell_type": "code",
   "execution_count": 10,
   "metadata": {},
   "outputs": [
    {
     "data": {
      "text/plain": [
       "bfPNe    2\n",
       "5ltQ6    2\n",
       "wt4Uk    2\n",
       "LHZR0    2\n",
       "D686N    1\n",
       "        ..\n",
       "BVYaI    1\n",
       "mVTxL    1\n",
       "q68zX    1\n",
       "zcy4Z    1\n",
       "vOUC4    1\n",
       "Name: id, Length: 99996, dtype: int64"
      ]
     },
     "execution_count": 10,
     "metadata": {},
     "output_type": "execute_result"
    }
   ],
   "source": [
    "df_one['id'].value_counts()"
   ]
  },
  {
   "cell_type": "code",
   "execution_count": 11,
   "metadata": {},
   "outputs": [
    {
     "data": {
      "text/plain": [
       "VF7Jo    2\n",
       "KUPhW    2\n",
       "xCHr8    2\n",
       "Vcm5J    2\n",
       "ZdIiI    1\n",
       "        ..\n",
       "iKL2O    1\n",
       "pockI    1\n",
       "7cswX    1\n",
       "mjlH2    1\n",
       "zeHX7    1\n",
       "Name: id, Length: 99996, dtype: int64"
      ]
     },
     "execution_count": 11,
     "metadata": {},
     "output_type": "execute_result"
    }
   ],
   "source": [
    "df_two['id'].value_counts()"
   ]
  },
  {
   "cell_type": "code",
   "execution_count": 12,
   "metadata": {},
   "outputs": [
    {
     "name": "stdout",
     "output_type": "stream",
     "text": [
      "          id        f0        f1        f2    product\n",
      "1364   bxg6G  0.411645  0.856830 -3.653440  73.604260\n",
      "41724  bxg6G -0.823752  0.546319  3.630479  93.007798\n",
      "\n",
      "          id        f0        f1        f2     product\n",
      "2721   bfPNe -9.494442 -5.463692  4.006042  110.992147\n",
      "82178  bfPNe -6.202799 -4.820045  2.995107   84.038886\n",
      "\n",
      "          id        f0        f1        f2     product\n",
      "45404  KUPhW  0.231846 -1.698941  4.990775   11.716299\n",
      "55967  KUPhW  1.211150  3.176408  5.543540  132.831802\n"
     ]
    }
   ],
   "source": [
    "print(df_zero.query('id == \"bxg6G\"'))\n",
    "print()\n",
    "print(df_one.query('id == \"bfPNe\"'))\n",
    "print()\n",
    "print(df_two.query('id == \"KUPhW\"'))"
   ]
  },
  {
   "cell_type": "markdown",
   "metadata": {},
   "source": [
    "В датасетах есть сведения о скважинах с одинаковыми именами, но разными признаками. Таких дублирующихся скважин немного, но они подозрительны. Удалим их, оставив только уникальные. На качество модели удаление такого небольшого количества данных повлиять не должно."
   ]
  },
  {
   "cell_type": "code",
   "execution_count": 13,
   "metadata": {},
   "outputs": [],
   "source": [
    "#напишем функцию для удаления наблюдений с дублирующимися id, которая на вход будет принимать название датасета\n",
    "def remove_double (data):\n",
    "    names = data['id'].value_counts().reset_index()\n",
    "    unique_names = names.query('id == 1')['index'].to_list()\n",
    "    data.query('id in @unique_names', inplace=True)"
   ]
  },
  {
   "cell_type": "code",
   "execution_count": 14,
   "metadata": {},
   "outputs": [
    {
     "name": "stdout",
     "output_type": "stream",
     "text": [
      "(99980, 5)\n",
      "(99992, 5)\n",
      "(99992, 5)\n"
     ]
    }
   ],
   "source": [
    "remove_double(df_zero)\n",
    "print(df_zero.shape)\n",
    "remove_double(df_one)\n",
    "print(df_one.shape)\n",
    "remove_double(df_two)\n",
    "print(df_two.shape)"
   ]
  },
  {
   "cell_type": "markdown",
   "metadata": {},
   "source": [
    "Теперь удалим столбец id, так как эти данные не нужны модели машинного обучения. "
   ]
  },
  {
   "cell_type": "code",
   "execution_count": 15,
   "metadata": {},
   "outputs": [],
   "source": [
    "df_zero.drop(['id'], axis=1, inplace=True)\n",
    "df_one.drop(['id'], axis=1, inplace=True)\n",
    "df_two.drop(['id'], axis=1, inplace=True)\n",
    "\n",
    "df_zero = df_zero.reset_index(drop=True)\n",
    "df_one = df_one.reset_index(drop=True)\n",
    "df_two = df_two.reset_index(drop=True)"
   ]
  },
  {
   "cell_type": "code",
   "execution_count": 16,
   "metadata": {},
   "outputs": [
    {
     "name": "stdout",
     "output_type": "stream",
     "text": [
      "         f0        f1        f2     product\n",
      "0  0.705745 -0.497823  1.221170  105.280062\n",
      "1  1.334711 -0.340164  4.365080   73.037750\n",
      "2  1.022732  0.151990  1.419926   85.265647\n",
      "3 -0.032172  0.139033  2.978566  168.620776\n",
      "4  1.988431  0.155413  4.751769  154.036647\n",
      "\n",
      "          f0         f1        f2     product\n",
      "0 -15.001348  -8.276000 -0.005876    3.179103\n",
      "1  14.272088  -3.475083  0.999183   26.953261\n",
      "2   6.263187  -5.948386  5.001160  134.766305\n",
      "3 -13.081196 -11.506057  4.999415  137.945408\n",
      "4  12.702195  -8.147433  5.004363  134.766305\n",
      "\n",
      "         f0        f1        f2     product\n",
      "0 -1.146987  0.963328 -0.828965   27.758673\n",
      "1  0.262778  0.269839 -2.530187   56.069697\n",
      "2  0.194587  0.289035 -5.586433   62.871910\n",
      "3  2.236060 -0.553760  0.930038  114.572842\n",
      "4 -0.515993  1.716266  5.899011  149.600746\n"
     ]
    }
   ],
   "source": [
    "print(df_zero.head())\n",
    "print()\n",
    "print(df_one.head())\n",
    "print()\n",
    "print(df_two.head())"
   ]
  },
  {
   "cell_type": "markdown",
   "metadata": {},
   "source": [
    "### Распределения данных\n",
    "Посмотрим на распределения данных. Добавим функции:\n",
    "- две функции строят гистограмму и диаграмму размаха по полученному датафрейму и имени столбца\n",
    "- ещё одна функция принимает на вход датафрейм и передаёт его первым двум функциям вместе с именами столбцов"
   ]
  },
  {
   "cell_type": "code",
   "execution_count": 17,
   "metadata": {},
   "outputs": [],
   "source": [
    "def draw_hist(column, subtitle, ax):\n",
    "    sns.distplot(column, bins=20, color='#66B032', ax=ax)\n",
    "    ax.set(title=subtitle)"
   ]
  },
  {
   "cell_type": "code",
   "execution_count": 18,
   "metadata": {},
   "outputs": [],
   "source": [
    "def draw_box(column, subtitle, ax):\n",
    "    sns.boxplot(y=column, boxprops=dict(facecolor='b', color='#347C98'), medianprops=dict(color='#66B032'), capprops=dict(color='#347C98'), whiskerprops=dict(color='#347C98'), ax=ax)\n",
    "    ax.set(title=subtitle)"
   ]
  },
  {
   "cell_type": "code",
   "execution_count": 19,
   "metadata": {},
   "outputs": [],
   "source": [
    "def draw_distribution(df, title):\n",
    "    for column in df.columns:\n",
    "        fig, axes = plt.subplots(1, 2, figsize=(16, 6))\n",
    "        fig.suptitle(title)\n",
    "        draw_hist(df[column], ('Распределение ' + column), axes[0])\n",
    "        draw_box(df[column], ('Диаграмма размаха ' + column), axes[1])"
   ]
  },
  {
   "cell_type": "code",
   "execution_count": 20,
   "metadata": {},
   "outputs": [
    {
     "data": {
      "image/png": "[encoded data removed]",
      "text/plain": [
       "<Figure size 1152x432 with 2 Axes>"
      ]
     },
     "metadata": {},
     "output_type": "display_data"
    },
    {
     "data": {
      "image/png": "[encoded data removed]",
      "text/plain": [
       "<Figure size 1152x432 with 2 Axes>"
      ]
     },
     "metadata": {},
     "output_type": "display_data"
    },
    {
     "data": {
      "image/png": "[encoded data removed]",
      "text/plain": [
       "<Figure size 1152x432 with 2 Axes>"
      ]
     },
     "metadata": {},
     "output_type": "display_data"
    },
    {
     "data": {
      "image/png": "[encoded data removed]",
      "text/plain": [
       "<Figure size 1152x432 with 2 Axes>"
      ]
     },
     "metadata": {},
     "output_type": "display_data"
    }
   ],
   "source": [
    "draw_distribution(df_zero, title='Geo_Zero')"
   ]
  },
  {
   "cell_type": "code",
   "execution_count": 21,
   "metadata": {},
   "outputs": [
    {
     "data": {
      "image/png": "[encoded data removed]",
      "text/plain": [
       "<Figure size 1152x432 with 2 Axes>"
      ]
     },
     "metadata": {},
     "output_type": "display_data"
    },
    {
     "data": {
      "image/png": "[encoded data removed]",
      "text/plain": [
       "<Figure size 1152x432 with 2 Axes>"
      ]
     },
     "metadata": {},
     "output_type": "display_data"
    },
    {
     "data": {
      "image/png": "[encoded data removed]",
      "text/plain": [
       "<Figure size 1152x432 with 2 Axes>"
      ]
     },
     "metadata": {},
     "output_type": "display_data"
    },
    {
     "data": {
      "image/png": "[encoded data removed]",
      "text/plain": [
       "<Figure size 1152x432 with 2 Axes>"
      ]
     },
     "metadata": {},
     "output_type": "display_data"
    }
   ],
   "source": [
    "draw_distribution(df_one, title='Geo_One')"
   ]
  },
  {
   "cell_type": "code",
   "execution_count": 22,
   "metadata": {},
   "outputs": [
    {
     "data": {
      "image/png": "[encoded data removed]",
      "text/plain": [
       "<Figure size 1152x432 with 2 Axes>"
      ]
     },
     "metadata": {},
     "output_type": "display_data"
    },
    {
     "data": {
      "image/png": "[encoded data removed]",
      "text/plain": [
       "<Figure size 1152x432 with 2 Axes>"
      ]
     },
     "metadata": {},
     "output_type": "display_data"
    },
    {
     "data": {
      "image/png": "[encoded data removed]",
      "text/plain": [
       "<Figure size 1152x432 with 2 Axes>"
      ]
     },
     "metadata": {},
     "output_type": "display_data"
    },
    {
     "data": {
      "image/png": "[encoded data removed]",
      "text/plain": [
       "<Figure size 1152x432 with 2 Axes>"
      ]
     },
     "metadata": {},
     "output_type": "display_data"
    }
   ],
   "source": [
    "draw_distribution(df_two, title='Geo_Two')"
   ]
  },
  {
   "cell_type": "markdown",
   "metadata": {},
   "source": [
    "- Распределения некоторых признаков отличаются от нормального. Также присутствуют небольшие выбросы. Так как неизвестно, что означают сами признаки, сложно оценить адекватность распределений и выбросов.\n",
    "- Масштабы распределений признаков f0, f1, f2 не сильно отличаются друг от друга (меньше одного порядка). Нет необходимости применять масштабирование.\n",
    "- На данном этапе оставим данные как есть.\n",
    "- Разделим данные на признаки и целевой признак."
   ]
  },
  {
   "cell_type": "markdown",
   "metadata": {},
   "source": [
    "<font size=4>**Вывод**</font>  \n",
    "Первичный осмотр данных показал:\n",
    "\n",
    "- в данных нет пропусков\n",
    "- нет дубликатов\n",
    "- типы данных подходящие\n",
    "- масштабы распределений признаков не сильно отличны\n",
    "- на данном этапе мы оставляем данные в том виде, в котором они нам предоставлены"
   ]
  },
  {
   "cell_type": "markdown",
   "metadata": {},
   "source": [
    "## Обучение и проверка модели"
   ]
  },
  {
   "cell_type": "markdown",
   "metadata": {},
   "source": [
    "### Выделение целевого признака\n",
    "Выделим предикторы и целевой признак"
   ]
  },
  {
   "cell_type": "code",
   "execution_count": 23,
   "metadata": {},
   "outputs": [],
   "source": [
    "features = ['f0', 'f1', 'f2']\n",
    "target = ['product']\n",
    "\n",
    "X_0 = df_zero[features]\n",
    "y_0 = df_zero[target]\n",
    "X_1 = df_one[features]\n",
    "y_1 = df_one[target]\n",
    "X_2 = df_two[features]\n",
    "y_2 = df_two[target]"
   ]
  },
  {
   "cell_type": "markdown",
   "metadata": {},
   "source": [
    "### Разбиение данных, обучение и проверка модели\n",
    "\n",
    "Добавим функцию, которая выводит процент количества элементов одного датафрейма от другого"
   ]
  },
  {
   "cell_type": "code",
   "execution_count": 24,
   "metadata": {},
   "outputs": [],
   "source": [
    "def elements_percent(title, first, second):\n",
    "    print(title, '{:.2%}'.format(first.shape[0]/second.shape[0]))"
   ]
  },
  {
   "cell_type": "code",
   "execution_count": 25,
   "metadata": {},
   "outputs": [],
   "source": [
    "def model_fit_valid(X, y):\n",
    "    \"\"\"\n",
    "    input: X, y - признаки и целевой признак для модели\n",
    "    output: y_valid - целевой пизнак валидационной выборки \n",
    "            predict - предсказания модели на валидационной выборке\n",
    "    description: функция разделяет исходные данные на обучающую и валидационную выборки (75/25),\n",
    "                 обучает модель линейной регрессии, делает предсказания на валидационной выборке,\n",
    "                 считает и выводит на экран среднее значение предсказаний и RMSE модели.\n",
    "    \"\"\"\n",
    "    X_train, X_valid, y_train, y_valid = train_test_split(X, y, test_size=0.25, random_state=42)\n",
    "    elements_percent('Размер обучающей выборки:', X_train, X)\n",
    "    elements_percent('Размер валидационной выборки:', X_valid, X)\n",
    "    \n",
    "    model = LinearRegression()\n",
    "    model.fit(X_train, y_train)\n",
    "    predict = model.predict(X_valid)\n",
    "\n",
    "    predict_mean = predict.mean()\n",
    "    rmse = mean_squared_error(y_valid, predict)**.5\n",
    "\n",
    "    print('Cредний запас предсказанного сырья: {:.4f}'.format(predict_mean))\n",
    "    print('RMSE модели: {:.4f}'.format(rmse))\n",
    "    \n",
    "    return y_valid, predict"
   ]
  },
  {
   "cell_type": "code",
   "execution_count": 26,
   "metadata": {},
   "outputs": [
    {
     "name": "stdout",
     "output_type": "stream",
     "text": [
      "Размер обучающей выборки: 75.00%\n",
      "Размер валидационной выборки: 25.00%\n",
      "Cредний запас предсказанного сырья: 92.2865\n",
      "RMSE модели: 37.7611\n"
     ]
    }
   ],
   "source": [
    "y_valid_0, predicts_0 = model_fit_valid(X_0, y_0)"
   ]
  },
  {
   "cell_type": "code",
   "execution_count": 27,
   "metadata": {},
   "outputs": [
    {
     "name": "stdout",
     "output_type": "stream",
     "text": [
      "Размер обучающей выборки: 75.00%\n",
      "Размер валидационной выборки: 25.00%\n",
      "Cредний запас предсказанного сырья: 69.1689\n",
      "RMSE модели: 0.8929\n"
     ]
    }
   ],
   "source": [
    "y_valid_1, predicts_1 = model_fit_valid(X_1, y_1)"
   ]
  },
  {
   "cell_type": "code",
   "execution_count": 28,
   "metadata": {},
   "outputs": [
    {
     "name": "stdout",
     "output_type": "stream",
     "text": [
      "Размер обучающей выборки: 75.00%\n",
      "Размер валидационной выборки: 25.00%\n",
      "Cредний запас предсказанного сырья: 94.8207\n",
      "RMSE модели: 40.1312\n"
     ]
    }
   ],
   "source": [
    "y_valid_2, predicts_2 =  model_fit_valid(X_2, y_2)"
   ]
  },
  {
   "cell_type": "markdown",
   "metadata": {},
   "source": [
    "<font size=4>**Вывод**</font>     \n",
    "\n",
    "- В регионах Zero и Two достаточно большой показатель среднего предсказанного запаса сырья (92.2865 и 94.8207), но у этих регионов достаточно высокая RMSE (37.76 и 40.13), что говорит о том, что модель неоднозначна и не отличается высокой точностью.\n",
    "- В регионе One средний предсказанный запас сырья меньше - 69.1689, но RMSE равен 0.89. Можем сделать вывод, что эта модель точнее."
   ]
  },
  {
   "cell_type": "markdown",
   "metadata": {},
   "source": [
    "## Подготовка к расчёту прибыли"
   ]
  },
  {
   "cell_type": "markdown",
   "metadata": {},
   "source": [
    "- Рассчитаем достаточный объём сырья для безубыточной разработки новой скважины.\n",
    "- Сравним полученный объём сырья со средним запасом в каждом регионе.  \n",
    "\n",
    "\n",
    "- **min_product = budget / (top_wells * unit_income)**\n",
    " - budget - Бюджет на разработку скважин в регионе — 10 млрд рублей\n",
    " - top_wells, samp_wells - При расчёте выбирают 200 лучших скважин из 500 в выборке\n",
    " - unit_income - Доход с каждой единицы продукта составляет 450 тыс. рублей"
   ]
  },
  {
   "cell_type": "code",
   "execution_count": 29,
   "metadata": {},
   "outputs": [],
   "source": [
    "BUDGET = 10**10\n",
    "TOP_WELLS = 200\n",
    "SAMP_WELLS = 500\n",
    "UNIT_INCOME = 4.5*10**5"
   ]
  },
  {
   "cell_type": "code",
   "execution_count": 30,
   "metadata": {},
   "outputs": [
    {
     "name": "stdout",
     "output_type": "stream",
     "text": [
      "Минимальный объём продукта с одной скважины для безубыточной разработки: 111.11\n"
     ]
    }
   ],
   "source": [
    "min_product = BUDGET / (TOP_WELLS * UNIT_INCOME)\n",
    "print('Минимальный объём продукта с одной скважины для безубыточной разработки: {:.2f}'.format(min_product))"
   ]
  },
  {
   "cell_type": "markdown",
   "metadata": {},
   "source": [
    "<font size=4>**Вывод**</font>\n",
    "\n",
    "- Минимальный объём продукта для безубыточной разработки составляет 111.11. \n",
    "- Данный показатель рассчитан при условии выбора 200 лучших скважин из 500 в выборке.\n",
    "- Данное значение превышает средние значения запасов скважин по всем регионам."
   ]
  },
  {
   "cell_type": "markdown",
   "metadata": {},
   "source": [
    "## Расчёт прибыли и рисков "
   ]
  },
  {
   "cell_type": "code",
   "execution_count": null,
   "metadata": {},
   "outputs": [],
   "source": []
  },
  {
   "cell_type": "code",
   "execution_count": 31,
   "metadata": {},
   "outputs": [],
   "source": [
    "valid_y_0 = pd.Series(y_valid_0['product']).reset_index(drop=True)\n",
    "valid_y_1 = pd.Series(y_valid_1['product']).reset_index(drop=True)\n",
    "valid_y_2 = pd.Series(y_valid_2['product']).reset_index(drop=True)\n",
    "\n",
    "predicts_y_0 = pd.Series(predicts_0[:, 0])\n",
    "predicts_y_1 = pd.Series(predicts_1[:, 0])\n",
    "predicts_y_2 = pd.Series(predicts_2[:, 0])"
   ]
  },
  {
   "cell_type": "code",
   "execution_count": null,
   "metadata": {},
   "outputs": [],
   "source": []
  },
  {
   "cell_type": "markdown",
   "metadata": {},
   "source": [
    "### Расчёт прибыли\n",
    "Напишем функцию для расчёта прибыли:\n",
    "\n",
    "выберем случайно 500 точек и отберём 200 с максимальным показателем объёма сырья\n",
    "просуммируем целевое значение объёма сырья\n",
    "рассчитаем прибыль"
   ]
  },
  {
   "cell_type": "code",
   "execution_count": 32,
   "metadata": {},
   "outputs": [],
   "source": [
    "#def income_predict(y_target, y_predict, state, title='', need_to_print=False):\n",
    "def profit_predict(y_target, y_predict, state, title='', need_to_print=False):\n",
    "    sample = y_predict.sample(n=SAMP_WELLS, replace=True, random_state=state)\n",
    "    top_predictions = sample.sort_values(ascending=False).head(TOP_WELLS)\n",
    "    top_targets = y_target[top_predictions.index]\n",
    "    top_mean = top_targets.mean()\n",
    "    top_sum = top_targets.sum()\n",
    "    #top_income = top_sum * UNIT_INCOME - BUDGET\n",
    "    top_profit = top_sum * UNIT_INCOME - BUDGET\n",
    "    if need_to_print:\n",
    "        print('-----', title, '-----')\n",
    "        print('Средний запас сырья: {:.2f}'.format(top_mean))\n",
    "        print('Суммарный объём сырья: {:.1f}'.format(top_sum))\n",
    "        print('Прибыль для полученного суммарного объёма сырья: {:.0f}'.format(top_profit))\n",
    "    return top_profit"
   ]
  },
  {
   "cell_type": "code",
   "execution_count": 33,
   "metadata": {},
   "outputs": [
    {
     "name": "stdout",
     "output_type": "stream",
     "text": [
      "----- Регион \"Zero\" -----\n",
      "Средний запас сырья: 117.30\n",
      "Суммарный объём сырья: 23460.7\n",
      "Прибыль для полученного суммарного объёма сырья: 557304911\n"
     ]
    }
   ],
   "source": [
    "income_0 = profit_predict(valid_y_0, predicts_y_0, SEED, title='Регион \"Zero\"', need_to_print=True)"
   ]
  },
  {
   "cell_type": "code",
   "execution_count": 34,
   "metadata": {},
   "outputs": [
    {
     "name": "stdout",
     "output_type": "stream",
     "text": [
      "----- Регион \"One\" -----\n",
      "Средний запас сырья: 116.08\n",
      "Суммарный объём сырья: 23215.6\n",
      "Прибыль для полученного суммарного объёма сырья: 447021776\n"
     ]
    }
   ],
   "source": [
    "income_1 = profit_predict(valid_y_1, predicts_y_1, SEED, title='Регион \"One\"', need_to_print=True)"
   ]
  },
  {
   "cell_type": "code",
   "execution_count": 35,
   "metadata": {},
   "outputs": [
    {
     "name": "stdout",
     "output_type": "stream",
     "text": [
      "----- Регион \"Two\" -----\n",
      "Средний запас сырья: 116.38\n",
      "Суммарный объём сырья: 23276.5\n",
      "Прибыль для полученного суммарного объёма сырья: 474445907\n"
     ]
    }
   ],
   "source": [
    "income_2 = profit_predict(valid_y_2, predicts_y_2, SEED, title='Регион \"Two\"', need_to_print=True)"
   ]
  },
  {
   "cell_type": "markdown",
   "metadata": {},
   "source": [
    "### Расчёт рисков\n",
    "Добавим некоторые переменные для техники Bootstrap  \n",
    "- Применим технику Bootstrap с 1000 выборок, чтобы найти распределение прибыли.\n",
    "- Найдём среднюю прибыль, 95%-й доверительный интервал и риск убытков. Убыток — это отрицательная прибыль."
   ]
  },
  {
   "cell_type": "code",
   "execution_count": 36,
   "metadata": {},
   "outputs": [],
   "source": [
    "samples_count = 1000\n",
    "alpha = .05"
   ]
  },
  {
   "cell_type": "code",
   "execution_count": 37,
   "metadata": {},
   "outputs": [],
   "source": [
    "def risk_calc(title, y_target, y_predict):\n",
    "    #incomes = []\n",
    "    profits = []\n",
    "    loss_count = 0\n",
    "    state = np.random.RandomState(SEED)\n",
    "    for i in range(samples_count):\n",
    "        profit = profit_predict(y_target, y_predict, state)\n",
    "        profits.append(profit)\n",
    "        if profit < 0:\n",
    "            loss_count += 1\n",
    "    profits = pd.Series(profits)\n",
    "    profits_mean = profits.mean()\n",
    "    lower = profits.quantile(alpha / 2)\n",
    "    upper = profits.quantile(1 - alpha / 2)\n",
    "    #loss_rate = loss_count / samples_count\n",
    "    \n",
    "    print('-----', title, '-----')\n",
    "    print('Количество повторений Bootstrap техники:', samples_count)\n",
    "    print('Средняя прибыль: {:.2f}'.format(profits_mean))\n",
    "    print('Нижняя граница доверительного интервала: {:.2f}'.format(lower))\n",
    "    print('Верхняя граница доверительного интервала: {:.2f}'.format(upper))\n",
    "    #print('Риск убытков: {:.2%}'.format(loss_rate))\n",
    "    print('Риск убытков:', (profits < 0).mean())"
   ]
  },
  {
   "cell_type": "code",
   "execution_count": 38,
   "metadata": {},
   "outputs": [
    {
     "name": "stdout",
     "output_type": "stream",
     "text": [
      "----- Регион \"Zero\" -----\n",
      "Количество повторений Bootstrap техники: 1000\n",
      "Средняя прибыль: 396713209.98\n",
      "Нижняя граница доверительного интервала: -101791405.46\n",
      "Верхняя граница доверительного интервала: 931564037.52\n",
      "Риск убытков: 0.072\n"
     ]
    }
   ],
   "source": [
    "risk_calc('Регион \"Zero\"', valid_y_0, predicts_y_0)"
   ]
  },
  {
   "cell_type": "code",
   "execution_count": 39,
   "metadata": {},
   "outputs": [
    {
     "name": "stdout",
     "output_type": "stream",
     "text": [
      "----- Регион \"One\" -----\n",
      "Количество повторений Bootstrap техники: 1000\n",
      "Средняя прибыль: 488472615.60\n",
      "Нижняя граница доверительного интервала: 90888856.31\n",
      "Верхняя граница доверительного интервала: 894380080.96\n",
      "Риск убытков: 0.01\n"
     ]
    }
   ],
   "source": [
    "risk_calc('Регион \"One\"', valid_y_1, predicts_y_1)"
   ]
  },
  {
   "cell_type": "code",
   "execution_count": 40,
   "metadata": {},
   "outputs": [
    {
     "name": "stdout",
     "output_type": "stream",
     "text": [
      "----- Регион \"Two\" -----\n",
      "Количество повторений Bootstrap техники: 1000\n",
      "Средняя прибыль: 357474160.79\n",
      "Нижняя граница доверительного интервала: -120489907.85\n",
      "Верхняя граница доверительного интервала: 897140764.49\n",
      "Риск убытков: 0.073\n"
     ]
    }
   ],
   "source": [
    "risk_calc('Регион \"Two\"', valid_y_2, predicts_y_2)"
   ]
  },
  {
   "cell_type": "markdown",
   "metadata": {},
   "source": [
    "<font size=4>**Выводы**</font>  \n",
    "\n",
    "При расчёте показателей для 200 наилучших скважин из 500 в выборке:\n",
    "- Средний запас сырья с одной скважины среди всех регионов (117, 116, 116 соответственно) превосходит минимально необходимый объём 111.11.  \n",
    "\n",
    "При применении техники bootstrap:  \n",
    "- Оценка средней прибыли максимальна для региона 1 (488 млн.).\n",
    "- Только регион 1 прогнозирует прибыльную разработку по 95% доверительному интервалу.\n",
    "- Риск убытков для региона 1 (1.0%)  \n",
    "\n",
    "Рекомендуем регион 1 для разработки.\n",
    "\n",
    "\n",
    "## Общий Вывод  \n",
    "\n",
    "\n",
    "При начальном построении модели и предсказаний:  \n",
    "\n",
    "В регионах 0 и 2 достаточно высокий средний показатель запаса предсказанного сырья. Однако RMSE для данных регионов также высок (37.76 и 40.13 соответственно). Это свидетельствует о неоднозначности показателя, неточности модели регрессии.  \n",
    "\n",
    "В регионе 1 средний показатель запаса предсказанного сырья составляет 69.2 (ниже остальных регионов). Однако RMSE в данном регионе также мал (0.9). Это говорит о точности предсказаний и качестве построенной модели.  \n",
    "\n",
    "Средние показатели предсказанного сырья для одной скважины ниже теоретически необходимых (111.11)\n",
    "\n",
    "***При расчёте показателей для 200 наилучших скважин из выборочных 500:***\n",
    "- Средний запас сырья с одной скважины среди всех регионов превосходит минимально необходимый объём.  \n",
    "\n",
    "\n",
    "При применении техники bootstrap:\n",
    "- Оценка средней прибыли максимальна для региона 1 (488 млн.).\n",
    "- Только регион 1 прогнозирует прибыльную разработку по 95% доверительному интервалу.\n",
    "- Риск убытков для региона 1 (1.0%)\n",
    "- Рекомендуем регион 1 для разработки."
   ]
  }
 ],
 "metadata": {
  "ExecuteTimeLog": [
   {
    "duration": 11,
    "start_time": "2022-04-11T19:15:17.528Z"
   },
   {
    "duration": 134,
    "start_time": "2022-04-11T19:18:38.311Z"
   },
   {
    "duration": 3326,
    "start_time": "2022-04-11T19:18:46.370Z"
   },
   {
    "duration": 7,
    "start_time": "2022-04-11T19:18:49.700Z"
   },
   {
    "duration": 20,
    "start_time": "2022-04-11T19:18:49.711Z"
   },
   {
    "duration": 5,
    "start_time": "2022-04-11T19:22:08.515Z"
   },
   {
    "duration": 238,
    "start_time": "2022-04-11T19:22:09.568Z"
   },
   {
    "duration": 582,
    "start_time": "2022-04-11T19:22:43.096Z"
   },
   {
    "duration": 6,
    "start_time": "2022-04-11T19:23:37.906Z"
   },
   {
    "duration": 322,
    "start_time": "2022-04-11T19:23:40.280Z"
   },
   {
    "duration": 9,
    "start_time": "2022-04-11T19:24:22.223Z"
   },
   {
    "duration": 459,
    "start_time": "2022-04-11T19:24:23.360Z"
   },
   {
    "duration": 377,
    "start_time": "2022-04-11T19:26:20.616Z"
   },
   {
    "duration": 463,
    "start_time": "2022-04-11T19:26:24.443Z"
   },
   {
    "duration": 5,
    "start_time": "2022-04-11T19:27:26.966Z"
   },
   {
    "duration": 6,
    "start_time": "2022-04-11T19:27:43.514Z"
   },
   {
    "duration": 338,
    "start_time": "2022-04-11T19:27:44.463Z"
   },
   {
    "duration": 451,
    "start_time": "2022-04-11T19:27:45.963Z"
   },
   {
    "duration": 370,
    "start_time": "2022-04-11T19:27:48.262Z"
   },
   {
    "duration": 5,
    "start_time": "2022-04-11T19:28:22.788Z"
   },
   {
    "duration": 323,
    "start_time": "2022-04-11T19:28:23.423Z"
   },
   {
    "duration": 404,
    "start_time": "2022-04-11T19:28:25.603Z"
   },
   {
    "duration": 329,
    "start_time": "2022-04-11T19:28:28.192Z"
   },
   {
    "duration": 629,
    "start_time": "2022-04-11T19:32:43.645Z"
   },
   {
    "duration": 5,
    "start_time": "2022-04-11T19:38:05.223Z"
   },
   {
    "duration": 496,
    "start_time": "2022-04-11T19:38:06.148Z"
   },
   {
    "duration": 23,
    "start_time": "2022-04-11T19:41:07.007Z"
   },
   {
    "duration": 13,
    "start_time": "2022-04-11T19:41:08.365Z"
   },
   {
    "duration": 5,
    "start_time": "2022-04-11T19:45:04.471Z"
   },
   {
    "duration": 172,
    "start_time": "2022-04-11T19:45:06.339Z"
   },
   {
    "duration": 5,
    "start_time": "2022-04-11T19:48:04.484Z"
   },
   {
    "duration": 28,
    "start_time": "2022-04-11T19:48:07.924Z"
   },
   {
    "duration": 5,
    "start_time": "2022-04-11T19:50:46.397Z"
   },
   {
    "duration": 33,
    "start_time": "2022-04-11T19:50:48.495Z"
   },
   {
    "duration": 28,
    "start_time": "2022-04-11T19:50:49.467Z"
   },
   {
    "duration": 6,
    "start_time": "2022-04-11T19:51:14.856Z"
   },
   {
    "duration": 5,
    "start_time": "2022-04-11T19:51:15.495Z"
   },
   {
    "duration": 4,
    "start_time": "2022-04-11T19:51:16.370Z"
   },
   {
    "duration": 6,
    "start_time": "2022-04-11T19:51:17.688Z"
   },
   {
    "duration": 1109,
    "start_time": "2022-04-11T19:51:18.651Z"
   },
   {
    "duration": 2846,
    "start_time": "2022-04-11T19:51:19.764Z"
   },
   {
    "duration": 1160,
    "start_time": "2022-04-11T19:51:22.613Z"
   },
   {
    "duration": 5,
    "start_time": "2022-04-11T19:51:23.777Z"
   },
   {
    "duration": 16,
    "start_time": "2022-04-11T19:51:25.325Z"
   },
   {
    "duration": 6,
    "start_time": "2022-04-11T19:52:00.642Z"
   },
   {
    "duration": 32,
    "start_time": "2022-04-11T19:52:01.301Z"
   },
   {
    "duration": 5,
    "start_time": "2022-04-11T19:52:23.672Z"
   },
   {
    "duration": 30,
    "start_time": "2022-04-11T19:52:24.512Z"
   },
   {
    "duration": 7,
    "start_time": "2022-04-11T19:52:30.803Z"
   },
   {
    "duration": 10,
    "start_time": "2022-04-11T19:52:31.359Z"
   },
   {
    "duration": 5,
    "start_time": "2022-04-11T19:52:31.902Z"
   },
   {
    "duration": 6,
    "start_time": "2022-04-11T19:52:32.981Z"
   },
   {
    "duration": 337,
    "start_time": "2022-04-11T19:52:33.643Z"
   },
   {
    "duration": 440,
    "start_time": "2022-04-11T19:52:34.568Z"
   },
   {
    "duration": 445,
    "start_time": "2022-04-11T19:52:35.633Z"
   },
   {
    "duration": 5,
    "start_time": "2022-04-11T19:52:38.735Z"
   },
   {
    "duration": 10,
    "start_time": "2022-04-11T19:52:39.779Z"
   },
   {
    "duration": 5,
    "start_time": "2022-04-11T19:56:55.617Z"
   },
   {
    "duration": 21,
    "start_time": "2022-04-11T19:56:56.309Z"
   },
   {
    "duration": 6,
    "start_time": "2022-04-11T19:57:10.636Z"
   },
   {
    "duration": 5,
    "start_time": "2022-04-11T19:57:12.910Z"
   },
   {
    "duration": 4,
    "start_time": "2022-04-11T19:57:13.768Z"
   },
   {
    "duration": 7,
    "start_time": "2022-04-11T19:57:15.317Z"
   },
   {
    "duration": 396,
    "start_time": "2022-04-11T19:57:16.194Z"
   },
   {
    "duration": 359,
    "start_time": "2022-04-11T19:57:17.796Z"
   },
   {
    "duration": 319,
    "start_time": "2022-04-11T19:57:18.849Z"
   },
   {
    "duration": 4,
    "start_time": "2022-04-11T19:57:22.288Z"
   },
   {
    "duration": 10,
    "start_time": "2022-04-11T19:57:23.522Z"
   },
   {
    "duration": 5,
    "start_time": "2022-04-11T19:58:01.552Z"
   },
   {
    "duration": 28,
    "start_time": "2022-04-11T19:58:02.207Z"
   },
   {
    "duration": 6,
    "start_time": "2022-04-11T19:58:15.282Z"
   },
   {
    "duration": 422,
    "start_time": "2022-04-11T19:58:15.926Z"
   },
   {
    "duration": 416,
    "start_time": "2022-04-11T19:58:16.449Z"
   },
   {
    "duration": 308,
    "start_time": "2022-04-11T19:58:17.668Z"
   },
   {
    "duration": 4,
    "start_time": "2022-04-11T19:58:20.104Z"
   },
   {
    "duration": 10,
    "start_time": "2022-04-11T19:58:21.132Z"
   },
   {
    "duration": 23,
    "start_time": "2022-04-11T19:58:39.680Z"
   },
   {
    "duration": 25,
    "start_time": "2022-04-11T19:59:24.399Z"
   },
   {
    "duration": 2573,
    "start_time": "2022-04-11T19:59:35.068Z"
   },
   {
    "duration": 4,
    "start_time": "2022-04-11T19:59:37.645Z"
   },
   {
    "duration": 13,
    "start_time": "2022-04-11T19:59:37.652Z"
   },
   {
    "duration": 16,
    "start_time": "2022-04-11T19:59:37.668Z"
   },
   {
    "duration": 439,
    "start_time": "2022-04-11T19:59:37.691Z"
   },
   {
    "duration": 397,
    "start_time": "2022-04-11T19:59:38.132Z"
   },
   {
    "duration": 311,
    "start_time": "2022-04-11T19:59:38.532Z"
   },
   {
    "duration": 27,
    "start_time": "2022-04-11T19:59:38.845Z"
   },
   {
    "duration": 8,
    "start_time": "2022-04-11T19:59:38.874Z"
   },
   {
    "duration": 13,
    "start_time": "2022-04-11T19:59:38.884Z"
   },
   {
    "duration": 3625,
    "start_time": "2022-04-11T19:59:38.900Z"
   },
   {
    "duration": 3451,
    "start_time": "2022-04-11T20:02:10.740Z"
   },
   {
    "duration": 6,
    "start_time": "2022-04-11T20:03:24.238Z"
   },
   {
    "duration": 4,
    "start_time": "2022-04-11T20:03:24.970Z"
   },
   {
    "duration": 4,
    "start_time": "2022-04-11T20:03:25.579Z"
   },
   {
    "duration": 6,
    "start_time": "2022-04-11T20:03:26.745Z"
   },
   {
    "duration": 375,
    "start_time": "2022-04-11T20:03:27.536Z"
   },
   {
    "duration": 319,
    "start_time": "2022-04-11T20:03:28.618Z"
   },
   {
    "duration": 322,
    "start_time": "2022-04-11T20:03:29.466Z"
   },
   {
    "duration": 87,
    "start_time": "2022-04-11T20:03:33.427Z"
   },
   {
    "duration": 4,
    "start_time": "2022-04-11T20:52:01.472Z"
   },
   {
    "duration": 88,
    "start_time": "2022-04-11T20:52:02.148Z"
   },
   {
    "duration": 4,
    "start_time": "2022-04-11T20:52:50.881Z"
   },
   {
    "duration": 99,
    "start_time": "2022-04-11T20:52:53.560Z"
   },
   {
    "duration": 4,
    "start_time": "2022-04-11T20:53:58.593Z"
   },
   {
    "duration": 72,
    "start_time": "2022-04-11T20:53:59.349Z"
   },
   {
    "duration": 114,
    "start_time": "2022-04-11T20:54:16.013Z"
   },
   {
    "duration": 114,
    "start_time": "2022-04-11T20:54:59.279Z"
   },
   {
    "duration": 138,
    "start_time": "2022-04-11T20:55:17.876Z"
   },
   {
    "duration": 94,
    "start_time": "2022-04-11T20:55:33.436Z"
   },
   {
    "duration": 33,
    "start_time": "2022-04-11T20:57:29.337Z"
   },
   {
    "duration": 22,
    "start_time": "2022-04-11T20:58:48.089Z"
   },
   {
    "duration": 21,
    "start_time": "2022-04-11T20:59:38.289Z"
   },
   {
    "duration": 13,
    "start_time": "2022-04-11T21:09:03.621Z"
   },
   {
    "duration": 35,
    "start_time": "2022-04-11T21:09:39.688Z"
   },
   {
    "duration": 79,
    "start_time": "2022-04-11T21:10:04.558Z"
   },
   {
    "duration": 73,
    "start_time": "2022-04-11T21:10:11.345Z"
   },
   {
    "duration": 6,
    "start_time": "2022-04-11T21:12:14.724Z"
   },
   {
    "duration": 535,
    "start_time": "2022-04-11T21:12:18.557Z"
   },
   {
    "duration": 17,
    "start_time": "2022-04-11T21:19:28.656Z"
   },
   {
    "duration": 25,
    "start_time": "2022-04-11T21:20:00.183Z"
   },
   {
    "duration": 2084,
    "start_time": "2022-04-11T21:20:21.829Z"
   },
   {
    "duration": 5,
    "start_time": "2022-04-11T21:20:23.917Z"
   },
   {
    "duration": 10,
    "start_time": "2022-04-11T21:20:23.924Z"
   },
   {
    "duration": 14,
    "start_time": "2022-04-11T21:20:23.937Z"
   },
   {
    "duration": 348,
    "start_time": "2022-04-11T21:20:23.955Z"
   },
   {
    "duration": 319,
    "start_time": "2022-04-11T21:20:24.305Z"
   },
   {
    "duration": 325,
    "start_time": "2022-04-11T21:20:24.626Z"
   },
   {
    "duration": 94,
    "start_time": "2022-04-11T21:20:24.954Z"
   },
   {
    "duration": 140,
    "start_time": "2022-04-11T21:20:25.051Z"
   },
   {
    "duration": 150,
    "start_time": "2022-04-11T21:20:25.194Z"
   },
   {
    "duration": 50,
    "start_time": "2022-04-11T21:20:25.347Z"
   },
   {
    "duration": 4,
    "start_time": "2022-04-11T21:20:25.400Z"
   },
   {
    "duration": 399,
    "start_time": "2022-04-11T21:20:25.407Z"
   },
   {
    "duration": 31,
    "start_time": "2022-04-11T21:20:25.811Z"
   },
   {
    "duration": 23,
    "start_time": "2022-04-11T21:20:25.845Z"
   },
   {
    "duration": 7,
    "start_time": "2022-04-11T21:22:15.680Z"
   },
   {
    "duration": 17,
    "start_time": "2022-04-11T21:22:30.103Z"
   },
   {
    "duration": 181,
    "start_time": "2022-04-11T21:26:12.120Z"
   },
   {
    "duration": 2041,
    "start_time": "2022-04-11T21:26:34.862Z"
   },
   {
    "duration": 4,
    "start_time": "2022-04-11T21:26:36.906Z"
   },
   {
    "duration": 8,
    "start_time": "2022-04-11T21:26:36.913Z"
   },
   {
    "duration": 21,
    "start_time": "2022-04-11T21:26:36.923Z"
   },
   {
    "duration": 355,
    "start_time": "2022-04-11T21:26:36.948Z"
   },
   {
    "duration": 328,
    "start_time": "2022-04-11T21:26:37.305Z"
   },
   {
    "duration": 327,
    "start_time": "2022-04-11T21:26:37.642Z"
   },
   {
    "duration": 112,
    "start_time": "2022-04-11T21:26:37.972Z"
   },
   {
    "duration": 169,
    "start_time": "2022-04-11T21:26:38.087Z"
   },
   {
    "duration": 125,
    "start_time": "2022-04-11T21:26:38.258Z"
   },
   {
    "duration": 38,
    "start_time": "2022-04-11T21:26:38.386Z"
   },
   {
    "duration": 4,
    "start_time": "2022-04-11T21:26:38.443Z"
   },
   {
    "duration": 394,
    "start_time": "2022-04-11T21:26:38.450Z"
   },
   {
    "duration": 19,
    "start_time": "2022-04-11T21:26:38.847Z"
   },
   {
    "duration": 14,
    "start_time": "2022-04-11T21:28:03.057Z"
   },
   {
    "duration": 5,
    "start_time": "2022-04-11T21:37:39.072Z"
   },
   {
    "duration": 4,
    "start_time": "2022-04-11T21:37:39.875Z"
   },
   {
    "duration": 7,
    "start_time": "2022-04-11T21:37:40.656Z"
   },
   {
    "duration": 4527,
    "start_time": "2022-04-11T21:37:41.666Z"
   },
   {
    "duration": 4,
    "start_time": "2022-04-11T21:38:44.285Z"
   },
   {
    "duration": 2066,
    "start_time": "2022-04-11T21:38:48.979Z"
   },
   {
    "duration": 6,
    "start_time": "2022-04-11T21:38:51.048Z"
   },
   {
    "duration": 15,
    "start_time": "2022-04-11T21:38:51.057Z"
   },
   {
    "duration": 5,
    "start_time": "2022-04-11T21:38:51.075Z"
   },
   {
    "duration": 7,
    "start_time": "2022-04-11T21:38:51.085Z"
   },
   {
    "duration": 376,
    "start_time": "2022-04-11T21:38:51.094Z"
   },
   {
    "duration": 356,
    "start_time": "2022-04-11T21:38:51.473Z"
   },
   {
    "duration": 353,
    "start_time": "2022-04-11T21:38:51.831Z"
   },
   {
    "duration": 83,
    "start_time": "2022-04-11T21:38:52.187Z"
   },
   {
    "duration": 96,
    "start_time": "2022-04-11T21:38:52.272Z"
   },
   {
    "duration": 126,
    "start_time": "2022-04-11T21:38:52.370Z"
   },
   {
    "duration": 54,
    "start_time": "2022-04-11T21:38:52.498Z"
   },
   {
    "duration": 5,
    "start_time": "2022-04-11T21:38:52.555Z"
   },
   {
    "duration": 356,
    "start_time": "2022-04-11T21:38:52.565Z"
   },
   {
    "duration": 28,
    "start_time": "2022-04-11T21:38:52.923Z"
   },
   {
    "duration": 15,
    "start_time": "2022-04-11T21:38:52.954Z"
   },
   {
    "duration": 5,
    "start_time": "2022-04-11T21:38:52.972Z"
   },
   {
    "duration": 11,
    "start_time": "2022-04-11T21:38:52.979Z"
   },
   {
    "duration": 6,
    "start_time": "2022-04-11T21:38:52.992Z"
   },
   {
    "duration": 4625,
    "start_time": "2022-04-11T21:38:53.000Z"
   },
   {
    "duration": 4,
    "start_time": "2022-04-11T21:39:19.254Z"
   },
   {
    "duration": 5,
    "start_time": "2022-04-11T21:39:20.529Z"
   },
   {
    "duration": 6,
    "start_time": "2022-04-11T21:39:21.303Z"
   },
   {
    "duration": 4080,
    "start_time": "2022-04-11T21:39:22.599Z"
   },
   {
    "duration": 5,
    "start_time": "2022-04-11T21:39:50.190Z"
   },
   {
    "duration": 6,
    "start_time": "2022-04-11T21:39:51.075Z"
   },
   {
    "duration": 4147,
    "start_time": "2022-04-11T21:39:51.998Z"
   },
   {
    "duration": 5,
    "start_time": "2022-04-11T21:40:19.991Z"
   },
   {
    "duration": 4,
    "start_time": "2022-04-11T21:40:21.975Z"
   },
   {
    "duration": 5,
    "start_time": "2022-04-11T21:40:22.890Z"
   },
   {
    "duration": 1215,
    "start_time": "2022-04-11T21:40:26.346Z"
   },
   {
    "duration": 5,
    "start_time": "2022-04-11T21:40:44.824Z"
   },
   {
    "duration": 5,
    "start_time": "2022-04-11T21:40:45.815Z"
   },
   {
    "duration": 4081,
    "start_time": "2022-04-11T21:40:46.665Z"
   },
   {
    "duration": 4,
    "start_time": "2022-04-11T21:41:04.017Z"
   },
   {
    "duration": 4,
    "start_time": "2022-04-11T21:41:04.623Z"
   },
   {
    "duration": 5,
    "start_time": "2022-04-11T21:41:05.380Z"
   },
   {
    "duration": 3922,
    "start_time": "2022-04-11T21:41:06.914Z"
   },
   {
    "duration": 5,
    "start_time": "2022-04-11T21:41:20.518Z"
   },
   {
    "duration": 6,
    "start_time": "2022-04-11T21:41:21.764Z"
   },
   {
    "duration": 4032,
    "start_time": "2022-04-11T21:41:24.493Z"
   },
   {
    "duration": 4,
    "start_time": "2022-04-11T21:42:16.283Z"
   },
   {
    "duration": 6,
    "start_time": "2022-04-11T21:42:17.308Z"
   },
   {
    "duration": 1148,
    "start_time": "2022-04-11T21:42:18.564Z"
   },
   {
    "duration": 5,
    "start_time": "2022-04-11T21:42:55.185Z"
   },
   {
    "duration": 5,
    "start_time": "2022-04-11T21:42:56.200Z"
   },
   {
    "duration": 4081,
    "start_time": "2022-04-11T21:42:58.629Z"
   },
   {
    "duration": 4,
    "start_time": "2022-04-11T21:43:20.802Z"
   },
   {
    "duration": 5,
    "start_time": "2022-04-11T21:43:21.699Z"
   },
   {
    "duration": 1020,
    "start_time": "2022-04-11T21:43:22.418Z"
   },
   {
    "duration": 4,
    "start_time": "2022-04-11T21:44:33.037Z"
   },
   {
    "duration": 5,
    "start_time": "2022-04-11T21:44:34.910Z"
   },
   {
    "duration": 3963,
    "start_time": "2022-04-11T21:44:35.654Z"
   },
   {
    "duration": 5,
    "start_time": "2022-04-11T21:45:12.278Z"
   },
   {
    "duration": 5,
    "start_time": "2022-04-11T21:45:13.204Z"
   },
   {
    "duration": 4084,
    "start_time": "2022-04-11T21:45:14.071Z"
   },
   {
    "duration": 5,
    "start_time": "2022-04-11T21:45:46.083Z"
   },
   {
    "duration": 4,
    "start_time": "2022-04-11T21:45:47.045Z"
   },
   {
    "duration": 6,
    "start_time": "2022-04-11T21:45:47.920Z"
   },
   {
    "duration": 3965,
    "start_time": "2022-04-11T21:45:51.465Z"
   },
   {
    "duration": 4,
    "start_time": "2022-04-11T21:57:10.691Z"
   },
   {
    "duration": 6,
    "start_time": "2022-04-11T21:57:11.496Z"
   },
   {
    "duration": 7,
    "start_time": "2022-04-11T21:57:13.811Z"
   },
   {
    "duration": 1505,
    "start_time": "2022-04-11T21:57:15.318Z"
   },
   {
    "duration": 5,
    "start_time": "2022-04-11T21:58:21.496Z"
   },
   {
    "duration": 6,
    "start_time": "2022-04-11T21:58:22.149Z"
   },
   {
    "duration": 6,
    "start_time": "2022-04-11T21:58:23.106Z"
   },
   {
    "duration": 4679,
    "start_time": "2022-04-11T21:58:24.034Z"
   },
   {
    "duration": 4,
    "start_time": "2022-04-11T21:59:00.210Z"
   },
   {
    "duration": 5,
    "start_time": "2022-04-11T21:59:01.480Z"
   },
   {
    "duration": 5645,
    "start_time": "2022-04-11T21:59:02.897Z"
   },
   {
    "duration": 6,
    "start_time": "2022-04-11T21:59:29.863Z"
   },
   {
    "duration": 6,
    "start_time": "2022-04-11T21:59:30.622Z"
   },
   {
    "duration": 4445,
    "start_time": "2022-04-11T21:59:31.384Z"
   },
   {
    "duration": 6,
    "start_time": "2022-04-11T22:00:34.239Z"
   },
   {
    "duration": 6,
    "start_time": "2022-04-11T22:00:34.975Z"
   },
   {
    "duration": 4482,
    "start_time": "2022-04-11T22:00:35.833Z"
   },
   {
    "duration": 6,
    "start_time": "2022-04-11T22:02:14.041Z"
   },
   {
    "duration": 6,
    "start_time": "2022-04-11T22:02:14.889Z"
   },
   {
    "duration": 4052,
    "start_time": "2022-04-11T22:02:16.049Z"
   },
   {
    "duration": 5,
    "start_time": "2022-04-11T22:02:40.665Z"
   },
   {
    "duration": 6,
    "start_time": "2022-04-11T22:02:41.871Z"
   },
   {
    "duration": 3837,
    "start_time": "2022-04-11T22:02:44.306Z"
   },
   {
    "duration": 5,
    "start_time": "2022-04-11T22:02:58.779Z"
   },
   {
    "duration": 6,
    "start_time": "2022-04-11T22:02:59.456Z"
   },
   {
    "duration": 2969,
    "start_time": "2022-04-11T22:03:00.648Z"
   },
   {
    "duration": 5,
    "start_time": "2022-04-11T22:06:06.035Z"
   },
   {
    "duration": 5,
    "start_time": "2022-04-11T22:06:07.252Z"
   },
   {
    "duration": 4182,
    "start_time": "2022-04-11T22:06:08.501Z"
   },
   {
    "duration": 5,
    "start_time": "2022-04-11T22:06:32.254Z"
   },
   {
    "duration": 10,
    "start_time": "2022-04-11T22:06:33.080Z"
   },
   {
    "duration": 5845,
    "start_time": "2022-04-11T22:06:33.905Z"
   },
   {
    "duration": 5,
    "start_time": "2022-04-11T22:08:22.728Z"
   },
   {
    "duration": 5,
    "start_time": "2022-04-11T22:08:23.653Z"
   },
   {
    "duration": 4062,
    "start_time": "2022-04-11T22:08:24.526Z"
   },
   {
    "duration": 4,
    "start_time": "2022-04-11T22:08:47.377Z"
   },
   {
    "duration": 5,
    "start_time": "2022-04-11T22:08:48.110Z"
   },
   {
    "duration": 5695,
    "start_time": "2022-04-11T22:08:48.901Z"
   },
   {
    "duration": 5,
    "start_time": "2022-04-11T22:10:02.535Z"
   },
   {
    "duration": 5,
    "start_time": "2022-04-11T22:10:03.443Z"
   },
   {
    "duration": 4598,
    "start_time": "2022-04-11T22:10:04.312Z"
   },
   {
    "duration": 5,
    "start_time": "2022-04-11T22:10:25.405Z"
   },
   {
    "duration": 7,
    "start_time": "2022-04-11T22:10:26.156Z"
   },
   {
    "duration": 4490,
    "start_time": "2022-04-11T22:10:27.030Z"
   },
   {
    "duration": 4980,
    "start_time": "2022-04-11T22:11:54.763Z"
   },
   {
    "duration": 5325,
    "start_time": "2022-04-11T22:11:59.745Z"
   },
   {
    "duration": 20,
    "start_time": "2022-04-11T22:20:36.214Z"
   },
   {
    "duration": 21,
    "start_time": "2022-04-11T22:22:31.154Z"
   },
   {
    "duration": 5,
    "start_time": "2022-04-11T22:24:11.274Z"
   },
   {
    "duration": 7,
    "start_time": "2022-04-11T22:34:07.316Z"
   },
   {
    "duration": 34,
    "start_time": "2022-04-11T22:34:08.340Z"
   },
   {
    "duration": 5,
    "start_time": "2022-04-11T22:36:09.268Z"
   },
   {
    "duration": 7,
    "start_time": "2022-04-11T22:36:10.795Z"
   },
   {
    "duration": 33,
    "start_time": "2022-04-11T22:36:11.668Z"
   },
   {
    "duration": 58,
    "start_time": "2022-04-11T22:37:46.490Z"
   },
   {
    "duration": 91,
    "start_time": "2022-04-11T22:39:04.255Z"
   },
   {
    "duration": 5,
    "start_time": "2022-04-11T22:46:49.395Z"
   },
   {
    "duration": 4,
    "start_time": "2022-04-11T22:47:20.282Z"
   },
   {
    "duration": 5,
    "start_time": "2022-04-11T22:47:31.456Z"
   },
   {
    "duration": 5,
    "start_time": "2022-04-11T22:47:41.202Z"
   },
   {
    "duration": 11,
    "start_time": "2022-04-11T22:52:55.989Z"
   },
   {
    "duration": 13,
    "start_time": "2022-04-11T22:54:58.482Z"
   },
   {
    "duration": 1977,
    "start_time": "2022-04-11T22:57:07.835Z"
   },
   {
    "duration": 3,
    "start_time": "2022-04-11T22:57:09.815Z"
   },
   {
    "duration": 8,
    "start_time": "2022-04-11T22:57:09.820Z"
   },
   {
    "duration": 13,
    "start_time": "2022-04-11T22:57:09.830Z"
   },
   {
    "duration": 7,
    "start_time": "2022-04-11T22:57:09.846Z"
   },
   {
    "duration": 326,
    "start_time": "2022-04-11T22:57:09.855Z"
   },
   {
    "duration": 288,
    "start_time": "2022-04-11T22:57:10.184Z"
   },
   {
    "duration": 297,
    "start_time": "2022-04-11T22:57:10.474Z"
   },
   {
    "duration": 92,
    "start_time": "2022-04-11T22:57:10.774Z"
   },
   {
    "duration": 96,
    "start_time": "2022-04-11T22:57:10.868Z"
   },
   {
    "duration": 108,
    "start_time": "2022-04-11T22:57:10.967Z"
   },
   {
    "duration": 39,
    "start_time": "2022-04-11T22:57:11.078Z"
   },
   {
    "duration": 5,
    "start_time": "2022-04-11T22:57:11.144Z"
   },
   {
    "duration": 357,
    "start_time": "2022-04-11T22:57:11.156Z"
   },
   {
    "duration": 31,
    "start_time": "2022-04-11T22:57:11.516Z"
   },
   {
    "duration": 19,
    "start_time": "2022-04-11T22:57:11.549Z"
   },
   {
    "duration": 7,
    "start_time": "2022-04-11T22:57:11.570Z"
   },
   {
    "duration": 6,
    "start_time": "2022-04-11T22:57:11.579Z"
   },
   {
    "duration": 7,
    "start_time": "2022-04-11T22:57:11.588Z"
   },
   {
    "duration": 4040,
    "start_time": "2022-04-11T22:57:11.597Z"
   },
   {
    "duration": 4208,
    "start_time": "2022-04-11T22:57:15.642Z"
   },
   {
    "duration": 4197,
    "start_time": "2022-04-11T22:57:19.852Z"
   },
   {
    "duration": 17,
    "start_time": "2022-04-11T22:57:24.051Z"
   },
   {
    "duration": 23,
    "start_time": "2022-04-11T22:57:24.070Z"
   },
   {
    "duration": 15,
    "start_time": "2022-04-11T22:57:24.095Z"
   },
   {
    "duration": 134,
    "start_time": "2022-04-11T22:57:24.111Z"
   },
   {
    "duration": 104,
    "start_time": "2022-04-11T22:57:24.342Z"
   },
   {
    "duration": 125,
    "start_time": "2022-04-11T22:57:24.449Z"
   },
   {
    "duration": 5,
    "start_time": "2022-04-11T22:57:24.644Z"
   },
   {
    "duration": 104,
    "start_time": "2022-04-11T22:57:24.652Z"
   },
   {
    "duration": 13,
    "start_time": "2022-04-11T22:57:24.758Z"
   },
   {
    "duration": 7,
    "start_time": "2022-04-11T22:57:24.773Z"
   },
   {
    "duration": 168,
    "start_time": "2022-04-11T22:57:24.782Z"
   },
   {
    "duration": 7,
    "start_time": "2022-04-11T22:59:34.191Z"
   },
   {
    "duration": 9,
    "start_time": "2022-04-11T22:59:36.591Z"
   },
   {
    "duration": 8,
    "start_time": "2022-04-11T23:00:19.357Z"
   },
   {
    "duration": 10,
    "start_time": "2022-04-11T23:00:20.768Z"
   },
   {
    "duration": 5,
    "start_time": "2022-04-11T23:10:35.862Z"
   },
   {
    "duration": 9,
    "start_time": "2022-04-11T23:10:36.755Z"
   },
   {
    "duration": 5,
    "start_time": "2022-04-11T23:13:24.445Z"
   },
   {
    "duration": 7,
    "start_time": "2022-04-11T23:13:25.539Z"
   },
   {
    "duration": 16,
    "start_time": "2022-04-11T23:13:26.750Z"
   },
   {
    "duration": 7,
    "start_time": "2022-04-11T23:15:39.317Z"
   },
   {
    "duration": 16,
    "start_time": "2022-04-11T23:15:40.312Z"
   },
   {
    "duration": 7,
    "start_time": "2022-04-11T23:16:18.583Z"
   },
   {
    "duration": 17,
    "start_time": "2022-04-11T23:16:19.660Z"
   },
   {
    "duration": 4,
    "start_time": "2022-04-11T23:18:06.255Z"
   },
   {
    "duration": 7,
    "start_time": "2022-04-11T23:18:07.030Z"
   },
   {
    "duration": 1073,
    "start_time": "2022-04-11T23:18:07.770Z"
   },
   {
    "duration": 4,
    "start_time": "2022-04-11T23:18:32.902Z"
   },
   {
    "duration": 7,
    "start_time": "2022-04-11T23:18:34.169Z"
   },
   {
    "duration": 1047,
    "start_time": "2022-04-11T23:18:35.576Z"
   },
   {
    "duration": 1347,
    "start_time": "2022-04-11T23:19:17.633Z"
   },
   {
    "duration": 1429,
    "start_time": "2022-04-11T23:19:19.821Z"
   },
   {
    "duration": 1980,
    "start_time": "2022-04-11T23:37:30.258Z"
   },
   {
    "duration": 3,
    "start_time": "2022-04-11T23:37:32.241Z"
   },
   {
    "duration": 9,
    "start_time": "2022-04-11T23:37:32.246Z"
   },
   {
    "duration": 12,
    "start_time": "2022-04-11T23:37:32.257Z"
   },
   {
    "duration": 14,
    "start_time": "2022-04-11T23:37:32.272Z"
   },
   {
    "duration": 313,
    "start_time": "2022-04-11T23:37:32.288Z"
   },
   {
    "duration": 293,
    "start_time": "2022-04-11T23:37:32.603Z"
   },
   {
    "duration": 310,
    "start_time": "2022-04-11T23:37:32.898Z"
   },
   {
    "duration": 87,
    "start_time": "2022-04-11T23:37:33.211Z"
   },
   {
    "duration": 87,
    "start_time": "2022-04-11T23:37:33.300Z"
   },
   {
    "duration": 92,
    "start_time": "2022-04-11T23:37:33.389Z"
   },
   {
    "duration": 37,
    "start_time": "2022-04-11T23:37:33.483Z"
   },
   {
    "duration": 22,
    "start_time": "2022-04-11T23:37:33.522Z"
   },
   {
    "duration": 338,
    "start_time": "2022-04-11T23:37:33.548Z"
   },
   {
    "duration": 18,
    "start_time": "2022-04-11T23:37:33.888Z"
   },
   {
    "duration": 36,
    "start_time": "2022-04-11T23:37:33.908Z"
   },
   {
    "duration": 8,
    "start_time": "2022-04-11T23:37:33.947Z"
   },
   {
    "duration": 7,
    "start_time": "2022-04-11T23:37:33.957Z"
   },
   {
    "duration": 7,
    "start_time": "2022-04-11T23:37:33.966Z"
   },
   {
    "duration": 3921,
    "start_time": "2022-04-11T23:37:33.975Z"
   },
   {
    "duration": 4208,
    "start_time": "2022-04-11T23:37:37.898Z"
   },
   {
    "duration": 4199,
    "start_time": "2022-04-11T23:37:42.108Z"
   },
   {
    "duration": 16,
    "start_time": "2022-04-11T23:37:46.309Z"
   },
   {
    "duration": 20,
    "start_time": "2022-04-11T23:37:46.327Z"
   },
   {
    "duration": 7,
    "start_time": "2022-04-11T23:37:46.349Z"
   },
   {
    "duration": 88,
    "start_time": "2022-04-11T23:37:46.358Z"
   },
   {
    "duration": 32,
    "start_time": "2022-04-11T23:37:46.542Z"
   },
   {
    "duration": 121,
    "start_time": "2022-04-11T23:37:46.644Z"
   },
   {
    "duration": 5,
    "start_time": "2022-04-11T23:37:46.845Z"
   },
   {
    "duration": 100,
    "start_time": "2022-04-11T23:37:46.853Z"
   },
   {
    "duration": 8,
    "start_time": "2022-04-11T23:37:46.956Z"
   },
   {
    "duration": 15,
    "start_time": "2022-04-11T23:37:46.967Z"
   },
   {
    "duration": 11,
    "start_time": "2022-04-11T23:37:46.985Z"
   },
   {
    "duration": 7,
    "start_time": "2022-04-11T23:37:46.999Z"
   },
   {
    "duration": 36,
    "start_time": "2022-04-11T23:37:47.008Z"
   },
   {
    "duration": 4,
    "start_time": "2022-04-11T23:37:47.046Z"
   },
   {
    "duration": 10,
    "start_time": "2022-04-11T23:37:47.052Z"
   },
   {
    "duration": 1065,
    "start_time": "2022-04-11T23:37:47.064Z"
   },
   {
    "duration": 1032,
    "start_time": "2022-04-11T23:37:48.131Z"
   },
   {
    "duration": 1027,
    "start_time": "2022-04-11T23:37:49.165Z"
   },
   {
    "duration": 78,
    "start_time": "2022-04-12T06:45:11.707Z"
   },
   {
    "duration": 5,
    "start_time": "2022-04-12T06:46:18.407Z"
   },
   {
    "duration": 42,
    "start_time": "2022-04-12T06:46:24.216Z"
   },
   {
    "duration": 1567,
    "start_time": "2022-04-12T06:46:33.426Z"
   },
   {
    "duration": 3,
    "start_time": "2022-04-12T06:46:34.995Z"
   },
   {
    "duration": 9,
    "start_time": "2022-04-12T06:46:35.000Z"
   },
   {
    "duration": 7,
    "start_time": "2022-04-12T06:46:35.012Z"
   },
   {
    "duration": 4,
    "start_time": "2022-04-12T06:46:35.026Z"
   },
   {
    "duration": 263,
    "start_time": "2022-04-12T06:46:35.032Z"
   },
   {
    "duration": 232,
    "start_time": "2022-04-12T06:46:35.310Z"
   },
   {
    "duration": 264,
    "start_time": "2022-04-12T06:46:35.545Z"
   },
   {
    "duration": 72,
    "start_time": "2022-04-12T06:46:35.810Z"
   },
   {
    "duration": 82,
    "start_time": "2022-04-12T06:46:35.884Z"
   },
   {
    "duration": 85,
    "start_time": "2022-04-12T06:46:35.968Z"
   },
   {
    "duration": 26,
    "start_time": "2022-04-12T06:46:36.054Z"
   },
   {
    "duration": 3,
    "start_time": "2022-04-12T06:46:36.082Z"
   },
   {
    "duration": 331,
    "start_time": "2022-04-12T06:46:36.088Z"
   },
   {
    "duration": 13,
    "start_time": "2022-04-12T06:46:36.422Z"
   },
   {
    "duration": 13,
    "start_time": "2022-04-12T06:46:36.437Z"
   },
   {
    "duration": 4,
    "start_time": "2022-04-12T06:46:36.452Z"
   },
   {
    "duration": 4,
    "start_time": "2022-04-12T06:46:36.458Z"
   },
   {
    "duration": 6,
    "start_time": "2022-04-12T06:46:36.463Z"
   },
   {
    "duration": 3073,
    "start_time": "2022-04-12T06:46:36.470Z"
   },
   {
    "duration": 3090,
    "start_time": "2022-04-12T06:46:39.545Z"
   },
   {
    "duration": 3234,
    "start_time": "2022-04-12T06:46:42.637Z"
   },
   {
    "duration": 11,
    "start_time": "2022-04-12T06:46:45.873Z"
   },
   {
    "duration": 5,
    "start_time": "2022-04-12T06:46:45.886Z"
   },
   {
    "duration": 18,
    "start_time": "2022-04-12T06:46:45.892Z"
   },
   {
    "duration": 196,
    "start_time": "2022-04-12T06:46:45.912Z"
   },
   {
    "duration": 106,
    "start_time": "2022-04-12T06:46:46.110Z"
   },
   {
    "duration": 113,
    "start_time": "2022-04-12T06:46:46.218Z"
   },
   {
    "duration": 77,
    "start_time": "2022-04-12T06:46:46.333Z"
   },
   {
    "duration": 6,
    "start_time": "2022-04-12T06:46:46.413Z"
   },
   {
    "duration": 6,
    "start_time": "2022-04-12T06:46:46.509Z"
   },
   {
    "duration": 6,
    "start_time": "2022-04-12T06:46:46.516Z"
   },
   {
    "duration": 7,
    "start_time": "2022-04-12T06:46:46.524Z"
   },
   {
    "duration": 5,
    "start_time": "2022-04-12T06:46:46.532Z"
   },
   {
    "duration": 5,
    "start_time": "2022-04-12T06:46:46.538Z"
   },
   {
    "duration": 2,
    "start_time": "2022-04-12T06:46:46.545Z"
   },
   {
    "duration": 5,
    "start_time": "2022-04-12T06:46:46.548Z"
   },
   {
    "duration": 932,
    "start_time": "2022-04-12T06:46:46.554Z"
   },
   {
    "duration": 0,
    "start_time": "2022-04-12T06:46:47.488Z"
   },
   {
    "duration": 0,
    "start_time": "2022-04-12T06:46:47.489Z"
   },
   {
    "duration": 5,
    "start_time": "2022-04-12T06:47:28.249Z"
   },
   {
    "duration": 703,
    "start_time": "2022-04-12T06:47:33.169Z"
   },
   {
    "duration": 5,
    "start_time": "2022-04-12T06:49:32.136Z"
   },
   {
    "duration": 705,
    "start_time": "2022-04-12T06:49:38.428Z"
   },
   {
    "duration": 1541,
    "start_time": "2022-04-12T20:59:24.075Z"
   },
   {
    "duration": 2,
    "start_time": "2022-04-12T20:59:25.619Z"
   },
   {
    "duration": 8,
    "start_time": "2022-04-12T20:59:25.623Z"
   },
   {
    "duration": 5,
    "start_time": "2022-04-12T20:59:25.632Z"
   },
   {
    "duration": 4,
    "start_time": "2022-04-12T20:59:25.641Z"
   },
   {
    "duration": 245,
    "start_time": "2022-04-12T20:59:25.647Z"
   },
   {
    "duration": 225,
    "start_time": "2022-04-12T20:59:25.893Z"
   },
   {
    "duration": 217,
    "start_time": "2022-04-12T20:59:26.120Z"
   },
   {
    "duration": 70,
    "start_time": "2022-04-12T20:59:26.339Z"
   },
   {
    "duration": 81,
    "start_time": "2022-04-12T20:59:26.411Z"
   },
   {
    "duration": 68,
    "start_time": "2022-04-12T20:59:26.493Z"
   },
   {
    "duration": 26,
    "start_time": "2022-04-12T20:59:26.572Z"
   },
   {
    "duration": 3,
    "start_time": "2022-04-12T20:59:26.599Z"
   },
   {
    "duration": 299,
    "start_time": "2022-04-12T20:59:26.605Z"
   },
   {
    "duration": 14,
    "start_time": "2022-04-12T20:59:26.906Z"
   },
   {
    "duration": 11,
    "start_time": "2022-04-12T20:59:26.921Z"
   },
   {
    "duration": 3,
    "start_time": "2022-04-12T20:59:26.934Z"
   },
   {
    "duration": 5,
    "start_time": "2022-04-12T20:59:26.938Z"
   },
   {
    "duration": 29,
    "start_time": "2022-04-12T20:59:26.944Z"
   },
   {
    "duration": 2844,
    "start_time": "2022-04-12T20:59:26.975Z"
   },
   {
    "duration": 2952,
    "start_time": "2022-04-12T20:59:29.821Z"
   },
   {
    "duration": 2860,
    "start_time": "2022-04-12T20:59:32.775Z"
   },
   {
    "duration": 13,
    "start_time": "2022-04-12T20:59:35.637Z"
   },
   {
    "duration": 10,
    "start_time": "2022-04-12T20:59:35.652Z"
   },
   {
    "duration": 14,
    "start_time": "2022-04-12T20:59:35.663Z"
   },
   {
    "duration": 101,
    "start_time": "2022-04-12T20:59:35.679Z"
   },
   {
    "duration": 114,
    "start_time": "2022-04-12T20:59:35.783Z"
   },
   {
    "duration": 187,
    "start_time": "2022-04-12T20:59:35.899Z"
   },
   {
    "duration": 4,
    "start_time": "2022-04-12T20:59:36.088Z"
   },
   {
    "duration": 101,
    "start_time": "2022-04-12T20:59:36.179Z"
   },
   {
    "duration": 7,
    "start_time": "2022-04-12T20:59:36.281Z"
   },
   {
    "duration": 16,
    "start_time": "2022-04-12T20:59:36.290Z"
   },
   {
    "duration": 7,
    "start_time": "2022-04-12T20:59:36.308Z"
   },
   {
    "duration": 11,
    "start_time": "2022-04-12T20:59:36.317Z"
   },
   {
    "duration": 9,
    "start_time": "2022-04-12T20:59:36.330Z"
   },
   {
    "duration": 3,
    "start_time": "2022-04-12T20:59:36.341Z"
   },
   {
    "duration": 6,
    "start_time": "2022-04-12T20:59:36.346Z"
   },
   {
    "duration": 687,
    "start_time": "2022-04-12T20:59:36.353Z"
   },
   {
    "duration": 709,
    "start_time": "2022-04-12T20:59:37.042Z"
   },
   {
    "duration": 705,
    "start_time": "2022-04-12T20:59:37.753Z"
   },
   {
    "duration": 4,
    "start_time": "2022-04-12T21:03:29.312Z"
   },
   {
    "duration": 655,
    "start_time": "2022-04-12T21:03:38.063Z"
   },
   {
    "duration": 5,
    "start_time": "2022-04-12T21:05:44.501Z"
   },
   {
    "duration": 769,
    "start_time": "2022-04-12T21:05:47.132Z"
   },
   {
    "duration": 1363,
    "start_time": "2022-04-12T21:06:27.777Z"
   },
   {
    "duration": 3,
    "start_time": "2022-04-12T21:06:29.142Z"
   },
   {
    "duration": 8,
    "start_time": "2022-04-12T21:06:29.146Z"
   },
   {
    "duration": 5,
    "start_time": "2022-04-12T21:06:29.156Z"
   },
   {
    "duration": 8,
    "start_time": "2022-04-12T21:06:29.162Z"
   },
   {
    "duration": 228,
    "start_time": "2022-04-12T21:06:29.173Z"
   },
   {
    "duration": 219,
    "start_time": "2022-04-12T21:06:29.403Z"
   },
   {
    "duration": 219,
    "start_time": "2022-04-12T21:06:29.624Z"
   },
   {
    "duration": 75,
    "start_time": "2022-04-12T21:06:29.845Z"
   },
   {
    "duration": 82,
    "start_time": "2022-04-12T21:06:29.922Z"
   },
   {
    "duration": 88,
    "start_time": "2022-04-12T21:06:30.006Z"
   },
   {
    "duration": 26,
    "start_time": "2022-04-12T21:06:30.096Z"
   },
   {
    "duration": 3,
    "start_time": "2022-04-12T21:06:30.124Z"
   },
   {
    "duration": 327,
    "start_time": "2022-04-12T21:06:30.128Z"
   },
   {
    "duration": 24,
    "start_time": "2022-04-12T21:06:30.457Z"
   },
   {
    "duration": 22,
    "start_time": "2022-04-12T21:06:30.482Z"
   },
   {
    "duration": 13,
    "start_time": "2022-04-12T21:06:30.506Z"
   },
   {
    "duration": 13,
    "start_time": "2022-04-12T21:06:30.520Z"
   },
   {
    "duration": 17,
    "start_time": "2022-04-12T21:06:30.535Z"
   },
   {
    "duration": 2792,
    "start_time": "2022-04-12T21:06:30.554Z"
   },
   {
    "duration": 2883,
    "start_time": "2022-04-12T21:06:33.348Z"
   },
   {
    "duration": 2831,
    "start_time": "2022-04-12T21:06:36.232Z"
   },
   {
    "duration": 12,
    "start_time": "2022-04-12T21:06:39.073Z"
   },
   {
    "duration": 5,
    "start_time": "2022-04-12T21:06:39.087Z"
   },
   {
    "duration": 7,
    "start_time": "2022-04-12T21:06:39.094Z"
   },
   {
    "duration": 71,
    "start_time": "2022-04-12T21:06:39.103Z"
   },
   {
    "duration": 119,
    "start_time": "2022-04-12T21:06:39.176Z"
   },
   {
    "duration": 114,
    "start_time": "2022-04-12T21:06:39.377Z"
   },
   {
    "duration": 4,
    "start_time": "2022-04-12T21:06:39.574Z"
   },
   {
    "duration": 100,
    "start_time": "2022-04-12T21:06:39.580Z"
   },
   {
    "duration": 7,
    "start_time": "2022-04-12T21:06:39.682Z"
   },
   {
    "duration": 6,
    "start_time": "2022-04-12T21:06:39.691Z"
   },
   {
    "duration": 8,
    "start_time": "2022-04-12T21:06:39.698Z"
   },
   {
    "duration": 6,
    "start_time": "2022-04-12T21:06:39.707Z"
   },
   {
    "duration": 5,
    "start_time": "2022-04-12T21:06:39.714Z"
   },
   {
    "duration": 4,
    "start_time": "2022-04-12T21:06:39.720Z"
   },
   {
    "duration": 6,
    "start_time": "2022-04-12T21:06:39.725Z"
   },
   {
    "duration": 812,
    "start_time": "2022-04-12T21:06:39.732Z"
   },
   {
    "duration": 0,
    "start_time": "2022-04-12T21:06:40.545Z"
   },
   {
    "duration": 0,
    "start_time": "2022-04-12T21:06:40.547Z"
   },
   {
    "duration": 112,
    "start_time": "2022-04-12T21:07:36.890Z"
   },
   {
    "duration": 132,
    "start_time": "2022-04-12T21:07:53.121Z"
   },
   {
    "duration": 5,
    "start_time": "2022-04-12T21:08:04.562Z"
   },
   {
    "duration": 714,
    "start_time": "2022-04-12T21:08:07.781Z"
   },
   {
    "duration": 1335,
    "start_time": "2022-04-12T21:08:15.322Z"
   },
   {
    "duration": 3,
    "start_time": "2022-04-12T21:08:16.659Z"
   },
   {
    "duration": 6,
    "start_time": "2022-04-12T21:08:16.664Z"
   },
   {
    "duration": 5,
    "start_time": "2022-04-12T21:08:16.672Z"
   },
   {
    "duration": 6,
    "start_time": "2022-04-12T21:08:16.679Z"
   },
   {
    "duration": 233,
    "start_time": "2022-04-12T21:08:16.686Z"
   },
   {
    "duration": 224,
    "start_time": "2022-04-12T21:08:16.921Z"
   },
   {
    "duration": 234,
    "start_time": "2022-04-12T21:08:17.147Z"
   },
   {
    "duration": 66,
    "start_time": "2022-04-12T21:08:17.383Z"
   },
   {
    "duration": 80,
    "start_time": "2022-04-12T21:08:17.451Z"
   },
   {
    "duration": 86,
    "start_time": "2022-04-12T21:08:17.533Z"
   },
   {
    "duration": 25,
    "start_time": "2022-04-12T21:08:17.621Z"
   },
   {
    "duration": 3,
    "start_time": "2022-04-12T21:08:17.647Z"
   },
   {
    "duration": 278,
    "start_time": "2022-04-12T21:08:17.674Z"
   },
   {
    "duration": 23,
    "start_time": "2022-04-12T21:08:17.954Z"
   },
   {
    "duration": 14,
    "start_time": "2022-04-12T21:08:17.979Z"
   },
   {
    "duration": 13,
    "start_time": "2022-04-12T21:08:17.995Z"
   },
   {
    "duration": 7,
    "start_time": "2022-04-12T21:08:18.009Z"
   },
   {
    "duration": 6,
    "start_time": "2022-04-12T21:08:18.017Z"
   },
   {
    "duration": 2884,
    "start_time": "2022-04-12T21:08:18.025Z"
   },
   {
    "duration": 3073,
    "start_time": "2022-04-12T21:08:20.911Z"
   },
   {
    "duration": 2861,
    "start_time": "2022-04-12T21:08:23.986Z"
   },
   {
    "duration": 13,
    "start_time": "2022-04-12T21:08:26.849Z"
   },
   {
    "duration": 12,
    "start_time": "2022-04-12T21:08:26.863Z"
   },
   {
    "duration": 6,
    "start_time": "2022-04-12T21:08:26.877Z"
   },
   {
    "duration": 36,
    "start_time": "2022-04-12T21:08:26.885Z"
   },
   {
    "duration": 117,
    "start_time": "2022-04-12T21:08:26.975Z"
   },
   {
    "duration": 196,
    "start_time": "2022-04-12T21:08:27.094Z"
   },
   {
    "duration": 89,
    "start_time": "2022-04-12T21:08:27.292Z"
   },
   {
    "duration": 98,
    "start_time": "2022-04-12T21:08:27.383Z"
   },
   {
    "duration": 8,
    "start_time": "2022-04-12T21:08:27.483Z"
   },
   {
    "duration": 9,
    "start_time": "2022-04-12T21:08:27.493Z"
   },
   {
    "duration": 11,
    "start_time": "2022-04-12T21:08:27.503Z"
   },
   {
    "duration": 6,
    "start_time": "2022-04-12T21:08:27.516Z"
   },
   {
    "duration": 9,
    "start_time": "2022-04-12T21:08:27.523Z"
   },
   {
    "duration": 4,
    "start_time": "2022-04-12T21:08:27.534Z"
   },
   {
    "duration": 7,
    "start_time": "2022-04-12T21:08:27.539Z"
   },
   {
    "duration": 798,
    "start_time": "2022-04-12T21:08:27.547Z"
   },
   {
    "duration": 1,
    "start_time": "2022-04-12T21:08:28.346Z"
   },
   {
    "duration": 0,
    "start_time": "2022-04-12T21:08:28.348Z"
   },
   {
    "duration": 6,
    "start_time": "2022-04-12T21:12:10.676Z"
   },
   {
    "duration": 678,
    "start_time": "2022-04-12T21:12:14.909Z"
   },
   {
    "duration": 6,
    "start_time": "2022-04-12T21:13:48.997Z"
   },
   {
    "duration": 5,
    "start_time": "2022-04-12T21:13:52.230Z"
   },
   {
    "duration": 721,
    "start_time": "2022-04-12T21:13:54.184Z"
   },
   {
    "duration": 5,
    "start_time": "2022-04-12T21:15:45.297Z"
   },
   {
    "duration": 5,
    "start_time": "2022-04-12T21:15:48.697Z"
   },
   {
    "duration": 655,
    "start_time": "2022-04-12T21:15:50.279Z"
   },
   {
    "duration": 5,
    "start_time": "2022-04-12T21:16:03.711Z"
   },
   {
    "duration": 682,
    "start_time": "2022-04-12T21:16:05.601Z"
   },
   {
    "duration": 6,
    "start_time": "2022-04-12T21:16:20.758Z"
   },
   {
    "duration": 668,
    "start_time": "2022-04-12T21:16:23.179Z"
   },
   {
    "duration": 5,
    "start_time": "2022-04-12T21:16:56.271Z"
   },
   {
    "duration": 669,
    "start_time": "2022-04-12T21:16:58.443Z"
   },
   {
    "duration": 5,
    "start_time": "2022-04-12T21:18:54.822Z"
   },
   {
    "duration": 664,
    "start_time": "2022-04-12T21:18:56.091Z"
   },
   {
    "duration": 5,
    "start_time": "2022-04-12T21:32:33.166Z"
   },
   {
    "duration": 12,
    "start_time": "2022-04-12T21:32:38.389Z"
   },
   {
    "duration": 4,
    "start_time": "2022-04-12T21:32:48.056Z"
   },
   {
    "duration": 6,
    "start_time": "2022-04-12T21:32:50.869Z"
   },
   {
    "duration": 6,
    "start_time": "2022-04-12T21:32:52.440Z"
   },
   {
    "duration": 5,
    "start_time": "2022-04-12T21:33:14.021Z"
   },
   {
    "duration": 3,
    "start_time": "2022-04-12T21:33:19.344Z"
   },
   {
    "duration": 5,
    "start_time": "2022-04-12T21:33:20.435Z"
   },
   {
    "duration": 14,
    "start_time": "2022-04-12T21:33:23.745Z"
   },
   {
    "duration": 5,
    "start_time": "2022-04-12T21:33:50.852Z"
   },
   {
    "duration": 666,
    "start_time": "2022-04-12T21:33:53.071Z"
   },
   {
    "duration": 649,
    "start_time": "2022-04-12T21:33:56.107Z"
   },
   {
    "duration": 644,
    "start_time": "2022-04-12T21:33:57.278Z"
   },
   {
    "duration": 1416,
    "start_time": "2022-04-12T21:35:43.107Z"
   },
   {
    "duration": 3,
    "start_time": "2022-04-12T21:35:44.525Z"
   },
   {
    "duration": 6,
    "start_time": "2022-04-12T21:35:44.529Z"
   },
   {
    "duration": 6,
    "start_time": "2022-04-12T21:35:44.536Z"
   },
   {
    "duration": 5,
    "start_time": "2022-04-12T21:35:44.544Z"
   },
   {
    "duration": 261,
    "start_time": "2022-04-12T21:35:44.550Z"
   },
   {
    "duration": 237,
    "start_time": "2022-04-12T21:35:44.813Z"
   },
   {
    "duration": 231,
    "start_time": "2022-04-12T21:35:45.052Z"
   },
   {
    "duration": 67,
    "start_time": "2022-04-12T21:35:45.285Z"
   },
   {
    "duration": 76,
    "start_time": "2022-04-12T21:35:45.354Z"
   },
   {
    "duration": 89,
    "start_time": "2022-04-12T21:35:45.432Z"
   },
   {
    "duration": 28,
    "start_time": "2022-04-12T21:35:45.523Z"
   },
   {
    "duration": 4,
    "start_time": "2022-04-12T21:35:45.573Z"
   },
   {
    "duration": 277,
    "start_time": "2022-04-12T21:35:45.580Z"
   },
   {
    "duration": 23,
    "start_time": "2022-04-12T21:35:45.859Z"
   },
   {
    "duration": 14,
    "start_time": "2022-04-12T21:35:45.884Z"
   },
   {
    "duration": 5,
    "start_time": "2022-04-12T21:35:45.900Z"
   },
   {
    "duration": 7,
    "start_time": "2022-04-12T21:35:45.906Z"
   },
   {
    "duration": 6,
    "start_time": "2022-04-12T21:35:45.915Z"
   },
   {
    "duration": 2882,
    "start_time": "2022-04-12T21:35:45.923Z"
   },
   {
    "duration": 2790,
    "start_time": "2022-04-12T21:35:48.807Z"
   },
   {
    "duration": 2833,
    "start_time": "2022-04-12T21:35:51.598Z"
   },
   {
    "duration": 13,
    "start_time": "2022-04-12T21:35:54.432Z"
   },
   {
    "duration": 6,
    "start_time": "2022-04-12T21:35:54.446Z"
   },
   {
    "duration": 5,
    "start_time": "2022-04-12T21:35:54.453Z"
   },
   {
    "duration": 41,
    "start_time": "2022-04-12T21:35:54.459Z"
   },
   {
    "duration": 190,
    "start_time": "2022-04-12T21:35:54.503Z"
   },
   {
    "duration": 195,
    "start_time": "2022-04-12T21:35:54.696Z"
   },
   {
    "duration": 95,
    "start_time": "2022-04-12T21:35:54.978Z"
   },
   {
    "duration": 7,
    "start_time": "2022-04-12T21:35:55.075Z"
   },
   {
    "duration": 9,
    "start_time": "2022-04-12T21:35:55.084Z"
   },
   {
    "duration": 7,
    "start_time": "2022-04-12T21:35:55.094Z"
   },
   {
    "duration": 9,
    "start_time": "2022-04-12T21:35:55.103Z"
   },
   {
    "duration": 6,
    "start_time": "2022-04-12T21:35:55.113Z"
   },
   {
    "duration": 7,
    "start_time": "2022-04-12T21:35:55.120Z"
   },
   {
    "duration": 2,
    "start_time": "2022-04-12T21:35:55.129Z"
   },
   {
    "duration": 10,
    "start_time": "2022-04-12T21:35:55.133Z"
   },
   {
    "duration": 713,
    "start_time": "2022-04-12T21:35:55.144Z"
   },
   {
    "duration": 660,
    "start_time": "2022-04-12T21:35:55.858Z"
   },
   {
    "duration": 653,
    "start_time": "2022-04-12T21:35:56.520Z"
   }
  ],
  "kernelspec": {
   "display_name": "Python 3 (ipykernel)",
   "language": "python",
   "name": "python3"
  },
  "language_info": {
   "codemirror_mode": {
    "name": "ipython",
    "version": 3
   },
   "file_extension": ".py",
   "mimetype": "text/x-python",
   "name": "python",
   "nbconvert_exporter": "python",
   "pygments_lexer": "ipython3",
   "version": "3.9.5"
  },
  "toc": {
   "base_numbering": 1,
   "nav_menu": {},
   "number_sections": true,
   "sideBar": true,
   "skip_h1_title": true,
   "title_cell": "Table of Contents",
   "title_sidebar": "Contents",
   "toc_cell": false,
   "toc_position": {
    "height": "calc(100% - 180px)",
    "left": "10px",
    "top": "150px",
    "width": "358.398px"
   },
   "toc_section_display": true,
   "toc_window_display": true
  }
 },
 "nbformat": 4,
 "nbformat_minor": 2
}
