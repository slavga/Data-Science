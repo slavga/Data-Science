{
 "cells": [
  {
   "cell_type": "markdown",
   "metadata": {
    "toc": true
   },
   "source": [
    "<h1>Содержание<span class=\"tocSkip\"></span></h1>\n",
    "<div class=\"toc\"><ul class=\"toc-item\"><li><span><a href=\"#Загрузка-данных\" data-toc-modified-id=\"Загрузка-данных-1\"><span class=\"toc-item-num\">1&nbsp;&nbsp;</span>Загрузка данных</a></span></li><li><span><a href=\"#Умножение-матриц\" data-toc-modified-id=\"Умножение-матриц-2\"><span class=\"toc-item-num\">2&nbsp;&nbsp;</span>Умножение матриц</a></span></li><li><span><a href=\"#Алгоритм-преобразования\" data-toc-modified-id=\"Алгоритм-преобразования-3\"><span class=\"toc-item-num\">3&nbsp;&nbsp;</span>Алгоритм преобразования</a></span></li><li><span><a href=\"#Проверка-алгоритма\" data-toc-modified-id=\"Проверка-алгоритма-4\"><span class=\"toc-item-num\">4&nbsp;&nbsp;</span>Проверка алгоритма</a></span></li><li><span><a href=\"#Чек-лист-проверки\" data-toc-modified-id=\"Чек-лист-проверки-5\"><span class=\"toc-item-num\">5&nbsp;&nbsp;</span>Чек-лист проверки</a></span></li></ul></div>"
   ]
  },
  {
   "cell_type": "markdown",
   "metadata": {},
   "source": [
    "# Защита персональных данных клиентов"
   ]
  },
  {
   "cell_type": "markdown",
   "metadata": {},
   "source": [
    "Вам нужно защитить данные клиентов страховой компании «Хоть потоп». Разработайте такой метод преобразования данных, чтобы по ним было сложно восстановить персональную информацию. Обоснуйте корректность его работы.\n",
    "\n",
    "Нужно защитить данные, чтобы при преобразовании качество моделей машинного обучения не ухудшилось. Подбирать наилучшую модель не требуется."
   ]
  },
  {
   "cell_type": "code",
   "execution_count": 1,
   "metadata": {},
   "outputs": [],
   "source": [
    "import pandas as pd\n",
    "import numpy as np\n",
    "import matplotlib.pyplot as plt\n",
    "import seaborn as sns\n",
    "from sklearn.linear_model import LinearRegression\n",
    "from sklearn.model_selection import train_test_split\n",
    "from sklearn.metrics import mean_squared_error, r2_score"
   ]
  },
  {
   "cell_type": "code",
   "execution_count": 2,
   "metadata": {},
   "outputs": [],
   "source": [
    "import warnings\n",
    "warnings.filterwarnings('ignore')\n",
    "\n",
    "pd.options.display.max_columns = None\n",
    "\n",
    "import timeit"
   ]
  },
  {
   "cell_type": "code",
   "execution_count": 3,
   "metadata": {},
   "outputs": [],
   "source": [
    "#randomstate\n",
    "SEED = 12345"
   ]
  },
  {
   "cell_type": "markdown",
   "metadata": {},
   "source": [
    "## Загрузка данных"
   ]
  },
  {
   "cell_type": "code",
   "execution_count": 4,
   "metadata": {},
   "outputs": [
    {
     "name": "stdout",
     "output_type": "stream",
     "text": [
      "Прочитан файл с данными: df\n"
     ]
    }
   ],
   "source": [
    "# Загрузим датасеты с помощью конструкции обработки исключений\n",
    "try:\n",
    "    df = pd.read_csv('/datasets/insurance.csv')\n",
    "    print('Прочитан файл с данными: df' )\n",
    "except:\n",
    "    print(repr(err))"
   ]
  },
  {
   "cell_type": "code",
   "execution_count": 5,
   "metadata": {},
   "outputs": [],
   "source": [
    "#создам функцию для обзора датасетов\n",
    "def info_df(data):\n",
    "    display(data.head(10))\n",
    "    data.info()\n",
    "    display(df.describe().T)\n",
    "    print('Дубликаты:', data.duplicated().sum())\n",
    "    return data"
   ]
  },
  {
   "cell_type": "code",
   "execution_count": 6,
   "metadata": {},
   "outputs": [
    {
     "data": {
      "text/html": [
       "<div>\n",
       "<style scoped>\n",
       "    .dataframe tbody tr th:only-of-type {\n",
       "        vertical-align: middle;\n",
       "    }\n",
       "\n",
       "    .dataframe tbody tr th {\n",
       "        vertical-align: top;\n",
       "    }\n",
       "\n",
       "    .dataframe thead th {\n",
       "        text-align: right;\n",
       "    }\n",
       "</style>\n",
       "<table border=\"1\" class=\"dataframe\">\n",
       "  <thead>\n",
       "    <tr style=\"text-align: right;\">\n",
       "      <th></th>\n",
       "      <th>Пол</th>\n",
       "      <th>Возраст</th>\n",
       "      <th>Зарплата</th>\n",
       "      <th>Члены семьи</th>\n",
       "      <th>Страховые выплаты</th>\n",
       "    </tr>\n",
       "  </thead>\n",
       "  <tbody>\n",
       "    <tr>\n",
       "      <th>0</th>\n",
       "      <td>1</td>\n",
       "      <td>41.0</td>\n",
       "      <td>49600.0</td>\n",
       "      <td>1</td>\n",
       "      <td>0</td>\n",
       "    </tr>\n",
       "    <tr>\n",
       "      <th>1</th>\n",
       "      <td>0</td>\n",
       "      <td>46.0</td>\n",
       "      <td>38000.0</td>\n",
       "      <td>1</td>\n",
       "      <td>1</td>\n",
       "    </tr>\n",
       "    <tr>\n",
       "      <th>2</th>\n",
       "      <td>0</td>\n",
       "      <td>29.0</td>\n",
       "      <td>21000.0</td>\n",
       "      <td>0</td>\n",
       "      <td>0</td>\n",
       "    </tr>\n",
       "    <tr>\n",
       "      <th>3</th>\n",
       "      <td>0</td>\n",
       "      <td>21.0</td>\n",
       "      <td>41700.0</td>\n",
       "      <td>2</td>\n",
       "      <td>0</td>\n",
       "    </tr>\n",
       "    <tr>\n",
       "      <th>4</th>\n",
       "      <td>1</td>\n",
       "      <td>28.0</td>\n",
       "      <td>26100.0</td>\n",
       "      <td>0</td>\n",
       "      <td>0</td>\n",
       "    </tr>\n",
       "    <tr>\n",
       "      <th>5</th>\n",
       "      <td>1</td>\n",
       "      <td>43.0</td>\n",
       "      <td>41000.0</td>\n",
       "      <td>2</td>\n",
       "      <td>1</td>\n",
       "    </tr>\n",
       "    <tr>\n",
       "      <th>6</th>\n",
       "      <td>1</td>\n",
       "      <td>39.0</td>\n",
       "      <td>39700.0</td>\n",
       "      <td>2</td>\n",
       "      <td>0</td>\n",
       "    </tr>\n",
       "    <tr>\n",
       "      <th>7</th>\n",
       "      <td>1</td>\n",
       "      <td>25.0</td>\n",
       "      <td>38600.0</td>\n",
       "      <td>4</td>\n",
       "      <td>0</td>\n",
       "    </tr>\n",
       "    <tr>\n",
       "      <th>8</th>\n",
       "      <td>1</td>\n",
       "      <td>36.0</td>\n",
       "      <td>49700.0</td>\n",
       "      <td>1</td>\n",
       "      <td>0</td>\n",
       "    </tr>\n",
       "    <tr>\n",
       "      <th>9</th>\n",
       "      <td>1</td>\n",
       "      <td>32.0</td>\n",
       "      <td>51700.0</td>\n",
       "      <td>1</td>\n",
       "      <td>0</td>\n",
       "    </tr>\n",
       "  </tbody>\n",
       "</table>\n",
       "</div>"
      ],
      "text/plain": [
       "   Пол  Возраст  Зарплата  Члены семьи  Страховые выплаты\n",
       "0    1     41.0   49600.0            1                  0\n",
       "1    0     46.0   38000.0            1                  1\n",
       "2    0     29.0   21000.0            0                  0\n",
       "3    0     21.0   41700.0            2                  0\n",
       "4    1     28.0   26100.0            0                  0\n",
       "5    1     43.0   41000.0            2                  1\n",
       "6    1     39.0   39700.0            2                  0\n",
       "7    1     25.0   38600.0            4                  0\n",
       "8    1     36.0   49700.0            1                  0\n",
       "9    1     32.0   51700.0            1                  0"
      ]
     },
     "metadata": {},
     "output_type": "display_data"
    },
    {
     "name": "stdout",
     "output_type": "stream",
     "text": [
      "<class 'pandas.core.frame.DataFrame'>\n",
      "RangeIndex: 5000 entries, 0 to 4999\n",
      "Data columns (total 5 columns):\n",
      " #   Column             Non-Null Count  Dtype  \n",
      "---  ------             --------------  -----  \n",
      " 0   Пол                5000 non-null   int64  \n",
      " 1   Возраст            5000 non-null   float64\n",
      " 2   Зарплата           5000 non-null   float64\n",
      " 3   Члены семьи        5000 non-null   int64  \n",
      " 4   Страховые выплаты  5000 non-null   int64  \n",
      "dtypes: float64(2), int64(3)\n",
      "memory usage: 195.4 KB\n"
     ]
    },
    {
     "data": {
      "text/html": [
       "<div>\n",
       "<style scoped>\n",
       "    .dataframe tbody tr th:only-of-type {\n",
       "        vertical-align: middle;\n",
       "    }\n",
       "\n",
       "    .dataframe tbody tr th {\n",
       "        vertical-align: top;\n",
       "    }\n",
       "\n",
       "    .dataframe thead th {\n",
       "        text-align: right;\n",
       "    }\n",
       "</style>\n",
       "<table border=\"1\" class=\"dataframe\">\n",
       "  <thead>\n",
       "    <tr style=\"text-align: right;\">\n",
       "      <th></th>\n",
       "      <th>count</th>\n",
       "      <th>mean</th>\n",
       "      <th>std</th>\n",
       "      <th>min</th>\n",
       "      <th>25%</th>\n",
       "      <th>50%</th>\n",
       "      <th>75%</th>\n",
       "      <th>max</th>\n",
       "    </tr>\n",
       "  </thead>\n",
       "  <tbody>\n",
       "    <tr>\n",
       "      <th>Пол</th>\n",
       "      <td>5000.0</td>\n",
       "      <td>0.4990</td>\n",
       "      <td>0.500049</td>\n",
       "      <td>0.0</td>\n",
       "      <td>0.0</td>\n",
       "      <td>0.0</td>\n",
       "      <td>1.0</td>\n",
       "      <td>1.0</td>\n",
       "    </tr>\n",
       "    <tr>\n",
       "      <th>Возраст</th>\n",
       "      <td>5000.0</td>\n",
       "      <td>30.9528</td>\n",
       "      <td>8.440807</td>\n",
       "      <td>18.0</td>\n",
       "      <td>24.0</td>\n",
       "      <td>30.0</td>\n",
       "      <td>37.0</td>\n",
       "      <td>65.0</td>\n",
       "    </tr>\n",
       "    <tr>\n",
       "      <th>Зарплата</th>\n",
       "      <td>5000.0</td>\n",
       "      <td>39916.3600</td>\n",
       "      <td>9900.083569</td>\n",
       "      <td>5300.0</td>\n",
       "      <td>33300.0</td>\n",
       "      <td>40200.0</td>\n",
       "      <td>46600.0</td>\n",
       "      <td>79000.0</td>\n",
       "    </tr>\n",
       "    <tr>\n",
       "      <th>Члены семьи</th>\n",
       "      <td>5000.0</td>\n",
       "      <td>1.1942</td>\n",
       "      <td>1.091387</td>\n",
       "      <td>0.0</td>\n",
       "      <td>0.0</td>\n",
       "      <td>1.0</td>\n",
       "      <td>2.0</td>\n",
       "      <td>6.0</td>\n",
       "    </tr>\n",
       "    <tr>\n",
       "      <th>Страховые выплаты</th>\n",
       "      <td>5000.0</td>\n",
       "      <td>0.1480</td>\n",
       "      <td>0.463183</td>\n",
       "      <td>0.0</td>\n",
       "      <td>0.0</td>\n",
       "      <td>0.0</td>\n",
       "      <td>0.0</td>\n",
       "      <td>5.0</td>\n",
       "    </tr>\n",
       "  </tbody>\n",
       "</table>\n",
       "</div>"
      ],
      "text/plain": [
       "                    count        mean          std     min      25%      50%  \\\n",
       "Пол                5000.0      0.4990     0.500049     0.0      0.0      0.0   \n",
       "Возраст            5000.0     30.9528     8.440807    18.0     24.0     30.0   \n",
       "Зарплата           5000.0  39916.3600  9900.083569  5300.0  33300.0  40200.0   \n",
       "Члены семьи        5000.0      1.1942     1.091387     0.0      0.0      1.0   \n",
       "Страховые выплаты  5000.0      0.1480     0.463183     0.0      0.0      0.0   \n",
       "\n",
       "                       75%      max  \n",
       "Пол                    1.0      1.0  \n",
       "Возраст               37.0     65.0  \n",
       "Зарплата           46600.0  79000.0  \n",
       "Члены семьи            2.0      6.0  \n",
       "Страховые выплаты      0.0      5.0  "
      ]
     },
     "metadata": {},
     "output_type": "display_data"
    },
    {
     "name": "stdout",
     "output_type": "stream",
     "text": [
      "Дубликаты: 153\n"
     ]
    },
    {
     "data": {
      "text/html": [
       "<div>\n",
       "<style scoped>\n",
       "    .dataframe tbody tr th:only-of-type {\n",
       "        vertical-align: middle;\n",
       "    }\n",
       "\n",
       "    .dataframe tbody tr th {\n",
       "        vertical-align: top;\n",
       "    }\n",
       "\n",
       "    .dataframe thead th {\n",
       "        text-align: right;\n",
       "    }\n",
       "</style>\n",
       "<table border=\"1\" class=\"dataframe\">\n",
       "  <thead>\n",
       "    <tr style=\"text-align: right;\">\n",
       "      <th></th>\n",
       "      <th>Пол</th>\n",
       "      <th>Возраст</th>\n",
       "      <th>Зарплата</th>\n",
       "      <th>Члены семьи</th>\n",
       "      <th>Страховые выплаты</th>\n",
       "    </tr>\n",
       "  </thead>\n",
       "  <tbody>\n",
       "    <tr>\n",
       "      <th>0</th>\n",
       "      <td>1</td>\n",
       "      <td>41.0</td>\n",
       "      <td>49600.0</td>\n",
       "      <td>1</td>\n",
       "      <td>0</td>\n",
       "    </tr>\n",
       "    <tr>\n",
       "      <th>1</th>\n",
       "      <td>0</td>\n",
       "      <td>46.0</td>\n",
       "      <td>38000.0</td>\n",
       "      <td>1</td>\n",
       "      <td>1</td>\n",
       "    </tr>\n",
       "    <tr>\n",
       "      <th>2</th>\n",
       "      <td>0</td>\n",
       "      <td>29.0</td>\n",
       "      <td>21000.0</td>\n",
       "      <td>0</td>\n",
       "      <td>0</td>\n",
       "    </tr>\n",
       "    <tr>\n",
       "      <th>3</th>\n",
       "      <td>0</td>\n",
       "      <td>21.0</td>\n",
       "      <td>41700.0</td>\n",
       "      <td>2</td>\n",
       "      <td>0</td>\n",
       "    </tr>\n",
       "    <tr>\n",
       "      <th>4</th>\n",
       "      <td>1</td>\n",
       "      <td>28.0</td>\n",
       "      <td>26100.0</td>\n",
       "      <td>0</td>\n",
       "      <td>0</td>\n",
       "    </tr>\n",
       "    <tr>\n",
       "      <th>...</th>\n",
       "      <td>...</td>\n",
       "      <td>...</td>\n",
       "      <td>...</td>\n",
       "      <td>...</td>\n",
       "      <td>...</td>\n",
       "    </tr>\n",
       "    <tr>\n",
       "      <th>4995</th>\n",
       "      <td>0</td>\n",
       "      <td>28.0</td>\n",
       "      <td>35700.0</td>\n",
       "      <td>2</td>\n",
       "      <td>0</td>\n",
       "    </tr>\n",
       "    <tr>\n",
       "      <th>4996</th>\n",
       "      <td>0</td>\n",
       "      <td>34.0</td>\n",
       "      <td>52400.0</td>\n",
       "      <td>1</td>\n",
       "      <td>0</td>\n",
       "    </tr>\n",
       "    <tr>\n",
       "      <th>4997</th>\n",
       "      <td>0</td>\n",
       "      <td>20.0</td>\n",
       "      <td>33900.0</td>\n",
       "      <td>2</td>\n",
       "      <td>0</td>\n",
       "    </tr>\n",
       "    <tr>\n",
       "      <th>4998</th>\n",
       "      <td>1</td>\n",
       "      <td>22.0</td>\n",
       "      <td>32700.0</td>\n",
       "      <td>3</td>\n",
       "      <td>0</td>\n",
       "    </tr>\n",
       "    <tr>\n",
       "      <th>4999</th>\n",
       "      <td>1</td>\n",
       "      <td>28.0</td>\n",
       "      <td>40600.0</td>\n",
       "      <td>1</td>\n",
       "      <td>0</td>\n",
       "    </tr>\n",
       "  </tbody>\n",
       "</table>\n",
       "<p>5000 rows × 5 columns</p>\n",
       "</div>"
      ],
      "text/plain": [
       "      Пол  Возраст  Зарплата  Члены семьи  Страховые выплаты\n",
       "0       1     41.0   49600.0            1                  0\n",
       "1       0     46.0   38000.0            1                  1\n",
       "2       0     29.0   21000.0            0                  0\n",
       "3       0     21.0   41700.0            2                  0\n",
       "4       1     28.0   26100.0            0                  0\n",
       "...   ...      ...       ...          ...                ...\n",
       "4995    0     28.0   35700.0            2                  0\n",
       "4996    0     34.0   52400.0            1                  0\n",
       "4997    0     20.0   33900.0            2                  0\n",
       "4998    1     22.0   32700.0            3                  0\n",
       "4999    1     28.0   40600.0            1                  0\n",
       "\n",
       "[5000 rows x 5 columns]"
      ]
     },
     "execution_count": 6,
     "metadata": {},
     "output_type": "execute_result"
    }
   ],
   "source": [
    " info_df(df)"
   ]
  },
  {
   "cell_type": "code",
   "execution_count": 7,
   "metadata": {},
   "outputs": [],
   "source": [
    "# Заменим имена столбцов \n",
    "\n",
    "df.rename(columns={'Пол': 'gender', 'Возраст': 'age', 'Зарплата':'solary', 'Члены семьи':'family_members',\n",
    "                   'Страховые выплаты': 'insurance_payments'}, inplace=True)"
   ]
  },
  {
   "cell_type": "code",
   "execution_count": 8,
   "metadata": {},
   "outputs": [
    {
     "data": {
      "text/html": [
       "<div>\n",
       "<style scoped>\n",
       "    .dataframe tbody tr th:only-of-type {\n",
       "        vertical-align: middle;\n",
       "    }\n",
       "\n",
       "    .dataframe tbody tr th {\n",
       "        vertical-align: top;\n",
       "    }\n",
       "\n",
       "    .dataframe thead th {\n",
       "        text-align: right;\n",
       "    }\n",
       "</style>\n",
       "<table border=\"1\" class=\"dataframe\">\n",
       "  <thead>\n",
       "    <tr style=\"text-align: right;\">\n",
       "      <th></th>\n",
       "      <th>gender</th>\n",
       "      <th>age</th>\n",
       "      <th>solary</th>\n",
       "      <th>family_members</th>\n",
       "      <th>insurance_payments</th>\n",
       "    </tr>\n",
       "  </thead>\n",
       "  <tbody>\n",
       "    <tr>\n",
       "      <th>0</th>\n",
       "      <td>1</td>\n",
       "      <td>41.0</td>\n",
       "      <td>49600.0</td>\n",
       "      <td>1</td>\n",
       "      <td>0</td>\n",
       "    </tr>\n",
       "    <tr>\n",
       "      <th>1</th>\n",
       "      <td>0</td>\n",
       "      <td>46.0</td>\n",
       "      <td>38000.0</td>\n",
       "      <td>1</td>\n",
       "      <td>1</td>\n",
       "    </tr>\n",
       "  </tbody>\n",
       "</table>\n",
       "</div>"
      ],
      "text/plain": [
       "   gender   age   solary  family_members  insurance_payments\n",
       "0       1  41.0  49600.0               1                   0\n",
       "1       0  46.0  38000.0               1                   1"
      ]
     },
     "execution_count": 8,
     "metadata": {},
     "output_type": "execute_result"
    }
   ],
   "source": [
    "df.head(2)"
   ]
  },
  {
   "cell_type": "code",
   "execution_count": 9,
   "metadata": {},
   "outputs": [],
   "source": [
    "# Заменим тип данных на int в признаках возраст и зарплата\n",
    "\n",
    "df[['age', 'solary']] = df[['age', 'solary']].astype(int)"
   ]
  },
  {
   "cell_type": "code",
   "execution_count": 10,
   "metadata": {},
   "outputs": [
    {
     "name": "stdout",
     "output_type": "stream",
     "text": [
      "<class 'pandas.core.frame.DataFrame'>\n",
      "RangeIndex: 5000 entries, 0 to 4999\n",
      "Data columns (total 5 columns):\n",
      " #   Column              Non-Null Count  Dtype\n",
      "---  ------              --------------  -----\n",
      " 0   gender              5000 non-null   int64\n",
      " 1   age                 5000 non-null   int64\n",
      " 2   solary              5000 non-null   int64\n",
      " 3   family_members      5000 non-null   int64\n",
      " 4   insurance_payments  5000 non-null   int64\n",
      "dtypes: int64(5)\n",
      "memory usage: 195.4 KB\n"
     ]
    }
   ],
   "source": [
    "df.info()"
   ]
  },
  {
   "cell_type": "code",
   "execution_count": 11,
   "metadata": {},
   "outputs": [
    {
     "data": {
      "text/html": [
       "<div>\n",
       "<style scoped>\n",
       "    .dataframe tbody tr th:only-of-type {\n",
       "        vertical-align: middle;\n",
       "    }\n",
       "\n",
       "    .dataframe tbody tr th {\n",
       "        vertical-align: top;\n",
       "    }\n",
       "\n",
       "    .dataframe thead th {\n",
       "        text-align: right;\n",
       "    }\n",
       "</style>\n",
       "<table border=\"1\" class=\"dataframe\">\n",
       "  <thead>\n",
       "    <tr style=\"text-align: right;\">\n",
       "      <th></th>\n",
       "      <th>gender</th>\n",
       "      <th>age</th>\n",
       "      <th>solary</th>\n",
       "      <th>family_members</th>\n",
       "      <th>insurance_payments</th>\n",
       "    </tr>\n",
       "  </thead>\n",
       "  <tbody>\n",
       "    <tr>\n",
       "      <th>4688</th>\n",
       "      <td>1</td>\n",
       "      <td>36</td>\n",
       "      <td>36400</td>\n",
       "      <td>0</td>\n",
       "      <td>0</td>\n",
       "    </tr>\n",
       "    <tr>\n",
       "      <th>3580</th>\n",
       "      <td>0</td>\n",
       "      <td>37</td>\n",
       "      <td>39200</td>\n",
       "      <td>0</td>\n",
       "      <td>0</td>\n",
       "    </tr>\n",
       "    <tr>\n",
       "      <th>1314</th>\n",
       "      <td>0</td>\n",
       "      <td>22</td>\n",
       "      <td>47700</td>\n",
       "      <td>0</td>\n",
       "      <td>0</td>\n",
       "    </tr>\n",
       "    <tr>\n",
       "      <th>4448</th>\n",
       "      <td>0</td>\n",
       "      <td>47</td>\n",
       "      <td>37900</td>\n",
       "      <td>2</td>\n",
       "      <td>1</td>\n",
       "    </tr>\n",
       "    <tr>\n",
       "      <th>1095</th>\n",
       "      <td>0</td>\n",
       "      <td>25</td>\n",
       "      <td>11300</td>\n",
       "      <td>2</td>\n",
       "      <td>0</td>\n",
       "    </tr>\n",
       "    <tr>\n",
       "      <th>1762</th>\n",
       "      <td>0</td>\n",
       "      <td>33</td>\n",
       "      <td>28400</td>\n",
       "      <td>3</td>\n",
       "      <td>0</td>\n",
       "    </tr>\n",
       "    <tr>\n",
       "      <th>1849</th>\n",
       "      <td>1</td>\n",
       "      <td>18</td>\n",
       "      <td>39200</td>\n",
       "      <td>2</td>\n",
       "      <td>0</td>\n",
       "    </tr>\n",
       "    <tr>\n",
       "      <th>2794</th>\n",
       "      <td>1</td>\n",
       "      <td>34</td>\n",
       "      <td>42900</td>\n",
       "      <td>1</td>\n",
       "      <td>0</td>\n",
       "    </tr>\n",
       "    <tr>\n",
       "      <th>1070</th>\n",
       "      <td>0</td>\n",
       "      <td>28</td>\n",
       "      <td>42300</td>\n",
       "      <td>0</td>\n",
       "      <td>0</td>\n",
       "    </tr>\n",
       "    <tr>\n",
       "      <th>3415</th>\n",
       "      <td>0</td>\n",
       "      <td>20</td>\n",
       "      <td>41900</td>\n",
       "      <td>2</td>\n",
       "      <td>0</td>\n",
       "    </tr>\n",
       "  </tbody>\n",
       "</table>\n",
       "</div>"
      ],
      "text/plain": [
       "      gender  age  solary  family_members  insurance_payments\n",
       "4688       1   36   36400               0                   0\n",
       "3580       0   37   39200               0                   0\n",
       "1314       0   22   47700               0                   0\n",
       "4448       0   47   37900               2                   1\n",
       "1095       0   25   11300               2                   0\n",
       "1762       0   33   28400               3                   0\n",
       "1849       1   18   39200               2                   0\n",
       "2794       1   34   42900               1                   0\n",
       "1070       0   28   42300               0                   0\n",
       "3415       0   20   41900               2                   0"
      ]
     },
     "execution_count": 11,
     "metadata": {},
     "output_type": "execute_result"
    }
   ],
   "source": [
    "df.sample(10)"
   ]
  },
  {
   "cell_type": "code",
   "execution_count": 12,
   "metadata": {},
   "outputs": [
    {
     "name": "stdout",
     "output_type": "stream",
     "text": [
      "\n",
      "\n",
      "Повторяющиеся строки : \n",
      "       gender  age  solary  family_members  insurance_payments\n",
      "281        1   39   48100               1                   0\n",
      "488        1   24   32900               1                   0\n",
      "513        0   31   37400               2                   0\n",
      "718        1   22   32600               1                   0\n",
      "785        0   20   35800               0                   0\n",
      "...      ...  ...     ...             ...                 ...\n",
      "4793       1   24   37800               0                   0\n",
      "4902       1   35   38700               1                   0\n",
      "4935       1   19   32700               0                   0\n",
      "4945       1   21   45800               0                   0\n",
      "4965       0   22   40100               1                   0\n",
      "\n",
      "[153 rows x 5 columns]\n"
     ]
    }
   ],
   "source": [
    "# Посмотрим на дубликаты\n",
    "\n",
    "dup_rows = df[df.duplicated()]\n",
    "print(\"\\n\\nПовторяющиеся строки : \\n {}\".format(dup_rows))"
   ]
  },
  {
   "cell_type": "code",
   "execution_count": 13,
   "metadata": {},
   "outputs": [
    {
     "name": "stdout",
     "output_type": "stream",
     "text": [
      "Дубликатов: 0\n"
     ]
    }
   ],
   "source": [
    "# Удалим добуликаты\n",
    "\n",
    "df.drop_duplicates(inplace=True)\n",
    "print('Дубликатов:', df.duplicated().sum())"
   ]
  },
  {
   "cell_type": "code",
   "execution_count": 14,
   "metadata": {},
   "outputs": [
    {
     "data": {
      "text/plain": [
       "(4847, 5)"
      ]
     },
     "execution_count": 14,
     "metadata": {},
     "output_type": "execute_result"
    }
   ],
   "source": [
    "df.shape"
   ]
  },
  {
   "cell_type": "code",
   "execution_count": 15,
   "metadata": {},
   "outputs": [],
   "source": [
    "#Напишем функцию построения гистограммы\n",
    "\n",
    "def hist(col):\n",
    "    sns.set(style=\"darkgrid\")\n",
    "    fig, ax = plt.subplots(figsize=(10,7))\n",
    "    plt.xlabel(col, fontsize=16)\n",
    "    plt.ylabel('Частота', fontsize=16)\n",
    "    sns_plot = sns.distplot(df[col], color='green', bins=15)\n",
    "    plt.title('Гистограмма частот')\n",
    "       "
   ]
  },
  {
   "cell_type": "code",
   "execution_count": 16,
   "metadata": {},
   "outputs": [],
   "source": [
    "#Напишем функцию построения диаграммы размаха\n",
    "\n",
    "def boxplot(col):\n",
    "    plt.figure(figsize=(11,7))\n",
    "    sns.boxplot(x=df[col], width=0.5, color='#8fc1da')\n",
    "    plt.title('Диаграмма размаха')\n",
    "    plt.xlabel(col, fontsize=16)\n",
    "    plt.show()"
   ]
  },
  {
   "cell_type": "code",
   "execution_count": 17,
   "metadata": {},
   "outputs": [
    {
     "data": {
      "image/png": "[encoded data removed]",
      "text/plain": [
       "<Figure size 720x504 with 1 Axes>"
      ]
     },
     "metadata": {},
     "output_type": "display_data"
    }
   ],
   "source": [
    "hist('gender')"
   ]
  },
  {
   "cell_type": "code",
   "execution_count": 18,
   "metadata": {},
   "outputs": [
    {
     "data": {
      "image/png": "[encoded data removed]",
      "text/plain": [
       "<Figure size 792x504 with 1 Axes>"
      ]
     },
     "metadata": {},
     "output_type": "display_data"
    }
   ],
   "source": [
    "boxplot('gender')"
   ]
  },
  {
   "cell_type": "markdown",
   "metadata": {},
   "source": [
    "Распределение по полу равномерное"
   ]
  },
  {
   "cell_type": "code",
   "execution_count": 19,
   "metadata": {},
   "outputs": [
    {
     "data": {
      "image/png": "[encoded data removed]",
      "text/plain": [
       "<Figure size 720x504 with 1 Axes>"
      ]
     },
     "metadata": {},
     "output_type": "display_data"
    }
   ],
   "source": [
    "hist('age')"
   ]
  },
  {
   "cell_type": "code",
   "execution_count": 20,
   "metadata": {},
   "outputs": [
    {
     "data": {
      "image/png": "[encoded data removed]",
      "text/plain": [
       "<Figure size 792x504 with 1 Axes>"
      ]
     },
     "metadata": {},
     "output_type": "display_data"
    }
   ],
   "source": [
    "boxplot('age')"
   ]
  },
  {
   "cell_type": "markdown",
   "metadata": {},
   "source": [
    "Основная часть клиентов в возрасте от 24 до 38 лет. Есть выбросы. Но так как важны все клиенты чисить от выбросов данные не будем."
   ]
  },
  {
   "cell_type": "code",
   "execution_count": 21,
   "metadata": {},
   "outputs": [
    {
     "data": {
      "image/png": "[encoded data removed]",
      "text/plain": [
       "<Figure size 720x504 with 1 Axes>"
      ]
     },
     "metadata": {},
     "output_type": "display_data"
    }
   ],
   "source": [
    "hist('solary')"
   ]
  },
  {
   "cell_type": "code",
   "execution_count": 22,
   "metadata": {},
   "outputs": [
    {
     "data": {
      "image/png": "[encoded data removed]",
      "text/plain": [
       "<Figure size 792x504 with 1 Axes>"
      ]
     },
     "metadata": {},
     "output_type": "display_data"
    }
   ],
   "source": [
    "boxplot('solary')"
   ]
  },
  {
   "cell_type": "markdown",
   "metadata": {},
   "source": [
    "Данные имеют нормальное распределение. Оставим все данные для обучения."
   ]
  },
  {
   "cell_type": "code",
   "execution_count": 23,
   "metadata": {},
   "outputs": [
    {
     "data": {
      "image/png": "[encoded data removed]",
      "text/plain": [
       "<Figure size 720x504 with 1 Axes>"
      ]
     },
     "metadata": {},
     "output_type": "display_data"
    }
   ],
   "source": [
    "hist('family_members')"
   ]
  },
  {
   "cell_type": "code",
   "execution_count": 24,
   "metadata": {},
   "outputs": [
    {
     "data": {
      "image/png": "[encoded data removed]",
      "text/plain": [
       "<Figure size 792x504 with 1 Axes>"
      ]
     },
     "metadata": {},
     "output_type": "display_data"
    }
   ],
   "source": [
    "boxplot('family_members')"
   ]
  },
  {
   "cell_type": "markdown",
   "metadata": {},
   "source": [
    "Данные по количеству челенов семьи тоже соханим. Непонятен столбец с нулевым значением. Возможно этот признак не про членов семьи, а про количество детей в семье. Оставим данные как есть."
   ]
  },
  {
   "cell_type": "code",
   "execution_count": 25,
   "metadata": {},
   "outputs": [
    {
     "data": {
      "image/png": "[encoded data removed]",
      "text/plain": [
       "<Figure size 720x504 with 1 Axes>"
      ]
     },
     "metadata": {},
     "output_type": "display_data"
    }
   ],
   "source": [
    "hist('insurance_payments')"
   ]
  },
  {
   "cell_type": "code",
   "execution_count": 26,
   "metadata": {},
   "outputs": [
    {
     "data": {
      "image/png": "[encoded data removed]",
      "text/plain": [
       "<Figure size 792x504 with 1 Axes>"
      ]
     },
     "metadata": {},
     "output_type": "display_data"
    }
   ],
   "source": [
    "boxplot('insurance_payments')"
   ]
  },
  {
   "cell_type": "markdown",
   "metadata": {},
   "source": [
    "Этот признак оставим как есть."
   ]
  },
  {
   "cell_type": "markdown",
   "metadata": {},
   "source": [
    "**Вывод:**\n",
    "\n",
    "- провели выгрузку данных\n",
    "- сделали обзор данных\n",
    "- нашшли и удалили дубликаты\n",
    "- пропусков не обнаружили\n",
    "- переименовали столбцы\n",
    "- преобразовали типы данных\n",
    "- посмотрели на распределение признаков"
   ]
  },
  {
   "cell_type": "markdown",
   "metadata": {},
   "source": [
    "## Умножение матриц"
   ]
  },
  {
   "cell_type": "markdown",
   "metadata": {},
   "source": [
    "\n",
    "\n",
    "Чтобы записать формулу внутри текста, окружите её символами доллара \\\\$; если снаружи —  двойными символами \\\\$\\\\$. Эти формулы записываются на языке вёрстки *LaTeX.* \n",
    "\n",
    "Для примера мы записали формулы линейной регрессии. Можете их скопировать и отредактировать, чтобы решить задачу.\n",
    "\n"
   ]
  },
  {
   "cell_type": "markdown",
   "metadata": {},
   "source": [
    "Обозначения:\n",
    "\n",
    "- $X$ — матрица признаков (нулевой столбец состоит из единиц)\n",
    "\n",
    "- $y$ — вектор целевого признака\n",
    "\n",
    "- $P$ — матрица, на которую умножаются признаки\n",
    "\n",
    "- $w$ — вектор весов линейной регрессии (нулевой элемент равен сдвигу)"
   ]
  },
  {
   "cell_type": "markdown",
   "metadata": {},
   "source": [
    "**Предсказания:**\n",
    "\n",
    "$$\n",
    "a = Xw\n",
    "$$\n",
    "\n",
    "где $X$ - матрица признаков, а $w = (X^T X)^{-1} X^T y$ - матрица весов\n",
    "\n",
    "\n",
    "\n",
    "**Задача обучения:**\n",
    "\n",
    "$$\n",
    "w = \\arg\\min_w MSE(Xw, y)\n",
    "$$\n",
    "\n",
    "**Формула обучения:**\n",
    "\n",
    "$$\n",
    "w = (X^T X)^{-1} X^T y\n",
    "$$"
   ]
  },
  {
   "cell_type": "markdown",
   "metadata": {},
   "source": [
    "**Проверим следующее:** \n",
    "\n",
    "Признаки умножают на обратимую матрицу. Изменится ли качество линейной регрессии? (Её можно обучить заново.)\n",
    "Иными словами, если матрицу $X$ умножим на обратимую матрицу $P$, то при вычислении весов линейной регрессии $w$ предсказания $ a = Xw $ не изменятся"
   ]
  },
  {
   "cell_type": "markdown",
   "metadata": {},
   "source": [
    "**Ответ:** Предсказания не изменятся\n",
    "\n",
    "**Обоснование:**   \n",
    "- Предсказания на новых признаках будут $a_p = X_pw_p$   \n",
    "- Матрица весов $w_p = (X_p^T X_p)^{-1} X_p^T y$\n",
    "\n",
    "- - -\n",
    "\n",
    "**Свойства матриц:**\n",
    "\n",
    "$(AB)^{-1} = B^{-1}A^{-1}$ - для обратимых матриц  \n",
    "$(AB)^T = B^TA^T$ - при транспонировании матриц  \n",
    "$AA^{-1} = E$ - произведение прямой и обратной матрицы приводит к единице  \n",
    "\n",
    "- - -\n",
    "\n",
    "Подставим в формулу расчета весов $ w = (X^T X)^{-1} X^T y $ вместо матрицы $X$ произведение матрицы $X$ на обратимую матрицу $P$\n",
    "\n",
    "$$w_p = ((XP)^T(XP)^{-1}(XP)^Ty$$\n",
    "\n",
    "1. Раскрываем скобки. Если определено произведение AB (т.е. количество строк A равен количеству столбцов B ), то $(AB)^T=B^TA^T$\n",
    "$$w_p = (P^TX^TXP)^{-1}P^TX^Ty$$\n",
    "\n",
    "2. Раскроем обратные матрицы \n",
    "$$w_p = P^{-1}(X^TX)^{-1}(P^T)^{-1}P^TX^Ty$$  \n",
    "\n",
    "\n",
    "3. Перемножение прямой и обратной матрицы дает единицу. $AA^{-1} = E$  \n",
    "По условию, P - обратимая матрица. Следовательно, $(P^T)^{-1}P^T$ даёт единичную матрицу $E$\n",
    "\n",
    "$$w_p = P^{-1}(X^TX)^{-1}EX^Ty$$ \n",
    "$$w_p = P^{-1}(X^TX)^{-1}X^Ty$$ \n",
    "\n",
    "4. Полученная в третьем пункте формула в части состоит из исходной формулы обучения $w$, подставим ее в формулу $w_p$\n",
    "$$w_p = P^{-1}w$$ \n",
    "\n",
    "\n",
    "5. Составим формулу предсказания на новых признаках\n",
    "$$a_p = XPP^{-1}w$$\n",
    "\n",
    "\n",
    "6. В формуле приcутсвует произведение прямой и обратной матрицы $PP^{-1}$, на остновании этого преобразум формулу.\n",
    "$$a_p = XEw$$\n",
    "\n",
    "\n",
    "7. В правой части равенства сокращаем единицу и получем значение исходной формулы предсказания $a$\n",
    "$$a_p = a$$\n",
    "\n",
    "\n",
    "При умножении матрицы признаков $X$ на обратимую матрицу $P$, предсказания модели останутся такими же, как на исходной матрице."
   ]
  },
  {
   "cell_type": "markdown",
   "metadata": {},
   "source": [
    "**Вывод**\n",
    "\n",
    "В теоритеческих рассчетах результат предсказаний не меняется. Но в связи с изменением признаков и матрицы весов целевая зависимая переменная будет формироваться новыми взаимосвязями, поэтому нужно переобучить модель."
   ]
  },
  {
   "cell_type": "markdown",
   "metadata": {},
   "source": [
    "## Алгоритм преобразования"
   ]
  },
  {
   "cell_type": "markdown",
   "metadata": {},
   "source": [
    "**Алгоритм**\n",
    "- Разделим выборку\n",
    "- Обучим модель на исходных данных\n",
    "- Получим R2\n",
    "\n",
    "- Создадим модифицированную матрицу\n",
    "- Раделим ее на выбрки\n",
    "- Заново обучим модель\n",
    "- Получим R2\n",
    "\n",
    "Сравним результаты R2 полученные на исходных данных и на модифицированных"
   ]
  },
  {
   "cell_type": "markdown",
   "metadata": {},
   "source": [
    "**Обоснование**\n",
    "\n",
    "Если R2 на исходных и модифицированнх данных равны, то подтверждаем, что при умножении матрицы признаков  𝑋  на обратимую матрицу  𝑃 , предсказания модели останутся такими же. "
   ]
  },
  {
   "cell_type": "markdown",
   "metadata": {},
   "source": [
    "## Проверка алгоритма"
   ]
  },
  {
   "cell_type": "code",
   "execution_count": 27,
   "metadata": {},
   "outputs": [],
   "source": [
    "features = df.drop('insurance_payments', axis=1)\n",
    "target = df['insurance_payments']"
   ]
  },
  {
   "cell_type": "code",
   "execution_count": 28,
   "metadata": {},
   "outputs": [
    {
     "name": "stdout",
     "output_type": "stream",
     "text": [
      "R2 на исходных данных : 0.4230772761583642\n"
     ]
    }
   ],
   "source": [
    "features_train, features_valid, target_train, target_valid \\\n",
    "= train_test_split(features, target, test_size=0.25, random_state=SEED)\n",
    "model = LinearRegression()\n",
    "model.fit(features_train, target_train)\n",
    "predictions_valid = model.predict(features_valid)\n",
    "print('R2 на исходных данных :', r2_score(target_valid, predictions_valid))"
   ]
  },
  {
   "cell_type": "code",
   "execution_count": 29,
   "metadata": {},
   "outputs": [
    {
     "data": {
      "text/plain": [
       "(3635, 4)"
      ]
     },
     "execution_count": 29,
     "metadata": {},
     "output_type": "execute_result"
    }
   ],
   "source": [
    "features_train.shape"
   ]
  },
  {
   "cell_type": "code",
   "execution_count": 30,
   "metadata": {},
   "outputs": [
    {
     "data": {
      "text/plain": [
       "(1212, 4)"
      ]
     },
     "execution_count": 30,
     "metadata": {},
     "output_type": "execute_result"
    }
   ],
   "source": [
    "features_valid.shape"
   ]
  },
  {
   "cell_type": "code",
   "execution_count": 31,
   "metadata": {},
   "outputs": [
    {
     "name": "stdout",
     "output_type": "stream",
     "text": [
      "Обратимая матрица P:\n",
      "[[0.35495439 0.36473468 0.92493686 0.5149289 ]\n",
      " [0.9658695  0.37803194 0.16293552 0.68143889]\n",
      " [0.24281511 0.88524463 0.83199906 0.94931737]\n",
      " [0.15493852 0.33634613 0.66029188 0.63352102]]\n"
     ]
    }
   ],
   "source": [
    "# Создадим обратимую матрицу  P\n",
    "\n",
    "matrix_p = np.random.rand(features.shape[1], features.shape[1])\n",
    "print('Обратимая матрица P:')\n",
    "print(matrix_p)\n"
   ]
  },
  {
   "cell_type": "code",
   "execution_count": 32,
   "metadata": {},
   "outputs": [
    {
     "name": "stdout",
     "output_type": "stream",
     "text": [
      "Обратная матрица к P:\n",
      "[[ 1.16839939  0.92067069 -0.31920043 -1.46167353]\n",
      " [ 0.68030173 -0.22783466  2.46973469 -4.00872829]\n",
      " [ 1.7263877  -0.4894771  -0.39281401 -0.28809308]\n",
      " [-2.44627509  0.40595606 -0.82374118  4.36452018]]\n"
     ]
    }
   ],
   "source": [
    "# Проверим обратимую матрицуу обратной\n",
    "\n",
    "invert_p = np.linalg.inv(matrix_p)\n",
    "print('Обратная матрица к P:')\n",
    "print(invert_p)"
   ]
  },
  {
   "cell_type": "code",
   "execution_count": 33,
   "metadata": {},
   "outputs": [],
   "source": [
    "# Создадим модифицированную матрицу\n",
    "\n",
    "def modif_matrix(features_train, features_valid):\n",
    "    modif_matrix_train = features_train.dot(matrix_p)\n",
    "    modif_matrix_valid = features_valid.dot(matrix_p)\n",
    "    return modif_matrix_train, modif_matrix_valid\n",
    "\n",
    "\n",
    "modif_matrix_train, modif_matrix_valid = modif_matrix(features_train, features_valid)"
   ]
  },
  {
   "cell_type": "code",
   "execution_count": 34,
   "metadata": {},
   "outputs": [
    {
     "data": {
      "text/plain": [
       "(3635, 4)"
      ]
     },
     "execution_count": 34,
     "metadata": {},
     "output_type": "execute_result"
    }
   ],
   "source": [
    "modif_matrix_train.shape"
   ]
  },
  {
   "cell_type": "code",
   "execution_count": 35,
   "metadata": {},
   "outputs": [
    {
     "data": {
      "text/plain": [
       "(1212, 4)"
      ]
     },
     "execution_count": 35,
     "metadata": {},
     "output_type": "execute_result"
    }
   ],
   "source": [
    "modif_matrix_valid.shape"
   ]
  },
  {
   "cell_type": "code",
   "execution_count": 36,
   "metadata": {},
   "outputs": [
    {
     "name": "stdout",
     "output_type": "stream",
     "text": [
      "R2 на модифицированных данных: 0.4230772761583207\n"
     ]
    }
   ],
   "source": [
    "# Заново обучим модель и проверим ее работу \n",
    "\n",
    "model = LinearRegression()\n",
    "model.fit(modif_matrix_train, target_train)\n",
    "predictions_valid_modif = model.predict(modif_matrix_valid)\n",
    "print('R2 на модифицированных данных:', r2_score(target_valid, predictions_valid_modif))"
   ]
  },
  {
   "cell_type": "markdown",
   "metadata": {},
   "source": [
    "**Вывод:**\n",
    "\n",
    "Предсказания не изменились, прогоноз подтвердился. "
   ]
  }
 ],
 "metadata": {
  "ExecuteTimeLog": [
   {
    "duration": 1807,
    "start_time": "2022-04-24T20:05:48.572Z"
   },
   {
    "duration": 3,
    "start_time": "2022-04-24T20:05:50.381Z"
   },
   {
    "duration": 17,
    "start_time": "2022-04-24T20:05:52.961Z"
   },
   {
    "duration": 22,
    "start_time": "2022-04-24T20:07:03.458Z"
   },
   {
    "duration": 4,
    "start_time": "2022-04-24T20:07:04.253Z"
   },
   {
    "duration": 16,
    "start_time": "2022-04-24T20:07:12.869Z"
   },
   {
    "duration": 4,
    "start_time": "2022-04-24T20:07:14.475Z"
   },
   {
    "duration": 48,
    "start_time": "2022-04-24T20:07:15.366Z"
   },
   {
    "duration": 4,
    "start_time": "2022-04-24T20:07:40.191Z"
   },
   {
    "duration": 41,
    "start_time": "2022-04-24T20:07:41.329Z"
   },
   {
    "duration": 3,
    "start_time": "2022-04-24T20:08:33.602Z"
   },
   {
    "duration": 3067,
    "start_time": "2022-04-27T20:09:37.064Z"
   },
   {
    "duration": 4,
    "start_time": "2022-04-27T20:09:40.135Z"
   },
   {
    "duration": 7,
    "start_time": "2022-04-27T20:09:40.142Z"
   },
   {
    "duration": 23,
    "start_time": "2022-04-27T20:09:42.619Z"
   },
   {
    "duration": 4,
    "start_time": "2022-04-27T20:09:43.397Z"
   },
   {
    "duration": 90,
    "start_time": "2022-04-27T20:09:44.461Z"
   },
   {
    "duration": 585,
    "start_time": "2022-04-27T20:13:32.690Z"
   },
   {
    "duration": 463,
    "start_time": "2022-04-27T20:14:04.978Z"
   },
   {
    "duration": 461,
    "start_time": "2022-04-27T20:14:34.326Z"
   },
   {
    "duration": 4,
    "start_time": "2022-04-27T20:14:49.436Z"
   },
   {
    "duration": 405,
    "start_time": "2022-04-27T20:14:50.237Z"
   },
   {
    "duration": 648,
    "start_time": "2022-04-27T20:15:01.617Z"
   },
   {
    "duration": 283,
    "start_time": "2022-04-27T20:17:09.905Z"
   },
   {
    "duration": 627,
    "start_time": "2022-04-27T20:18:19.907Z"
   },
   {
    "duration": 613,
    "start_time": "2022-04-27T20:18:39.458Z"
   },
   {
    "duration": 5,
    "start_time": "2022-04-27T20:18:46.566Z"
   },
   {
    "duration": 621,
    "start_time": "2022-04-27T20:18:47.358Z"
   },
   {
    "duration": 338,
    "start_time": "2022-04-27T20:19:10.290Z"
   },
   {
    "duration": 5,
    "start_time": "2022-04-27T20:21:36.963Z"
   },
   {
    "duration": 5,
    "start_time": "2022-04-27T20:21:44.054Z"
   },
   {
    "duration": 555,
    "start_time": "2022-04-27T20:21:44.914Z"
   },
   {
    "duration": 4,
    "start_time": "2022-04-27T20:22:39.061Z"
   },
   {
    "duration": 561,
    "start_time": "2022-04-27T20:22:40.282Z"
   },
   {
    "duration": 6,
    "start_time": "2022-04-27T20:23:26.627Z"
   },
   {
    "duration": 419,
    "start_time": "2022-04-27T20:23:27.407Z"
   },
   {
    "duration": 6,
    "start_time": "2022-04-27T20:25:12.509Z"
   },
   {
    "duration": 405,
    "start_time": "2022-04-27T20:25:13.977Z"
   },
   {
    "duration": 4,
    "start_time": "2022-04-27T20:25:21.843Z"
   },
   {
    "duration": 394,
    "start_time": "2022-04-27T20:25:22.639Z"
   },
   {
    "duration": 4,
    "start_time": "2022-04-27T20:29:37.457Z"
   },
   {
    "duration": 556,
    "start_time": "2022-04-27T20:29:38.164Z"
   },
   {
    "duration": 5,
    "start_time": "2022-04-27T20:30:22.913Z"
   },
   {
    "duration": 407,
    "start_time": "2022-04-27T20:30:23.721Z"
   },
   {
    "duration": 6,
    "start_time": "2022-04-27T20:30:32.948Z"
   },
   {
    "duration": 6,
    "start_time": "2022-04-27T20:30:45.125Z"
   },
   {
    "duration": 281,
    "start_time": "2022-04-27T20:30:46.835Z"
   },
   {
    "duration": 4,
    "start_time": "2022-04-27T20:31:02.421Z"
   },
   {
    "duration": 312,
    "start_time": "2022-04-27T20:31:02.431Z"
   },
   {
    "duration": 6,
    "start_time": "2022-04-27T20:31:33.232Z"
   },
   {
    "duration": 412,
    "start_time": "2022-04-27T20:31:33.994Z"
   },
   {
    "duration": 5,
    "start_time": "2022-04-27T20:31:47.196Z"
   },
   {
    "duration": 451,
    "start_time": "2022-04-27T20:31:48.560Z"
   },
   {
    "duration": 214,
    "start_time": "2022-04-27T20:49:25.498Z"
   },
   {
    "duration": 461,
    "start_time": "2022-04-27T20:49:27.311Z"
   },
   {
    "duration": 210,
    "start_time": "2022-04-27T20:50:41.289Z"
   },
   {
    "duration": 460,
    "start_time": "2022-04-27T20:50:42.850Z"
   },
   {
    "duration": 308,
    "start_time": "2022-04-27T20:50:56.356Z"
   },
   {
    "duration": 133,
    "start_time": "2022-04-27T20:57:28.259Z"
   },
   {
    "duration": 210,
    "start_time": "2022-04-27T20:58:10.618Z"
   },
   {
    "duration": 171,
    "start_time": "2022-04-27T20:58:25.657Z"
   },
   {
    "duration": 5,
    "start_time": "2022-04-27T21:10:57.106Z"
   },
   {
    "duration": 428,
    "start_time": "2022-04-27T21:11:08.017Z"
   },
   {
    "duration": 546,
    "start_time": "2022-04-27T21:11:49.452Z"
   },
   {
    "duration": 4,
    "start_time": "2022-04-27T21:12:10.003Z"
   },
   {
    "duration": 681,
    "start_time": "2022-04-27T21:12:10.746Z"
   },
   {
    "duration": 5,
    "start_time": "2022-04-27T21:12:58.382Z"
   },
   {
    "duration": 349,
    "start_time": "2022-04-27T21:12:59.052Z"
   },
   {
    "duration": 4,
    "start_time": "2022-04-27T21:13:14.027Z"
   },
   {
    "duration": 346,
    "start_time": "2022-04-27T21:13:14.718Z"
   },
   {
    "duration": 5,
    "start_time": "2022-04-27T21:13:46.759Z"
   },
   {
    "duration": 490,
    "start_time": "2022-04-27T21:13:47.413Z"
   },
   {
    "duration": 6,
    "start_time": "2022-04-27T21:15:31.506Z"
   },
   {
    "duration": 211,
    "start_time": "2022-04-27T21:15:33.140Z"
   },
   {
    "duration": 6,
    "start_time": "2022-04-27T21:15:43.821Z"
   },
   {
    "duration": 4,
    "start_time": "2022-04-27T21:15:44.572Z"
   },
   {
    "duration": 329,
    "start_time": "2022-04-27T21:15:46.087Z"
   },
   {
    "duration": 7,
    "start_time": "2022-04-27T21:16:24.556Z"
   },
   {
    "duration": 4,
    "start_time": "2022-04-27T21:16:25.527Z"
   },
   {
    "duration": 511,
    "start_time": "2022-04-27T21:16:26.371Z"
   },
   {
    "duration": 13,
    "start_time": "2022-04-27T21:20:13.416Z"
   },
   {
    "duration": 213,
    "start_time": "2022-04-27T21:20:19.535Z"
   },
   {
    "duration": 4,
    "start_time": "2022-04-27T21:20:34.264Z"
   },
   {
    "duration": 23,
    "start_time": "2022-04-27T21:20:36.266Z"
   },
   {
    "duration": 13,
    "start_time": "2022-04-27T21:20:56.594Z"
   },
   {
    "duration": 25,
    "start_time": "2022-04-27T21:21:10.307Z"
   },
   {
    "duration": 5,
    "start_time": "2022-04-27T21:21:46.633Z"
   },
   {
    "duration": 294,
    "start_time": "2022-04-27T21:21:52.322Z"
   },
   {
    "duration": 294,
    "start_time": "2022-04-27T21:23:14.494Z"
   },
   {
    "duration": 6,
    "start_time": "2022-04-27T21:23:56.124Z"
   },
   {
    "duration": 505,
    "start_time": "2022-04-27T21:23:56.974Z"
   },
   {
    "duration": 8,
    "start_time": "2022-04-27T21:24:30.579Z"
   },
   {
    "duration": 5,
    "start_time": "2022-04-27T21:24:48.500Z"
   },
   {
    "duration": 314,
    "start_time": "2022-04-27T21:24:49.360Z"
   },
   {
    "duration": 199,
    "start_time": "2022-04-27T21:27:40.393Z"
   },
   {
    "duration": 427,
    "start_time": "2022-04-27T21:28:00.341Z"
   },
   {
    "duration": 310,
    "start_time": "2022-04-27T21:28:39.345Z"
   },
   {
    "duration": 404,
    "start_time": "2022-04-27T21:30:38.748Z"
   },
   {
    "duration": 177,
    "start_time": "2022-04-27T21:32:13.443Z"
   },
   {
    "duration": 184,
    "start_time": "2022-04-27T21:32:21.409Z"
   },
   {
    "duration": 182,
    "start_time": "2022-04-27T21:32:28.026Z"
   },
   {
    "duration": 176,
    "start_time": "2022-04-27T21:32:39.361Z"
   },
   {
    "duration": 260,
    "start_time": "2022-04-27T21:33:14.383Z"
   },
   {
    "duration": 550,
    "start_time": "2022-04-27T21:34:14.045Z"
   },
   {
    "duration": 214,
    "start_time": "2022-04-27T21:34:56.485Z"
   },
   {
    "duration": 29,
    "start_time": "2022-04-27T21:35:28.248Z"
   },
   {
    "duration": 29,
    "start_time": "2022-04-27T21:35:38.384Z"
   },
   {
    "duration": 348,
    "start_time": "2022-04-27T21:35:43.786Z"
   },
   {
    "duration": 38,
    "start_time": "2022-04-27T21:35:49.041Z"
   },
   {
    "duration": 31,
    "start_time": "2022-04-27T21:36:02.363Z"
   },
   {
    "duration": 27,
    "start_time": "2022-04-27T21:36:05.679Z"
   },
   {
    "duration": 215,
    "start_time": "2022-04-27T21:36:56.400Z"
   },
   {
    "duration": 236,
    "start_time": "2022-04-27T21:37:16.082Z"
   },
   {
    "duration": 195,
    "start_time": "2022-04-27T21:37:46.918Z"
   },
   {
    "duration": 322,
    "start_time": "2022-04-27T21:38:00.526Z"
   },
   {
    "duration": 328,
    "start_time": "2022-04-27T21:38:09.604Z"
   },
   {
    "duration": 213,
    "start_time": "2022-04-27T21:38:16.952Z"
   },
   {
    "duration": 257,
    "start_time": "2022-04-27T21:39:11.517Z"
   },
   {
    "duration": 323,
    "start_time": "2022-04-27T21:39:18.037Z"
   },
   {
    "duration": 223,
    "start_time": "2022-04-27T21:40:56.667Z"
   },
   {
    "duration": 5,
    "start_time": "2022-04-27T21:42:56.671Z"
   },
   {
    "duration": 314,
    "start_time": "2022-04-27T21:42:57.008Z"
   },
   {
    "duration": 6,
    "start_time": "2022-04-27T21:43:17.562Z"
   },
   {
    "duration": 420,
    "start_time": "2022-04-27T21:43:18.730Z"
   },
   {
    "duration": 4,
    "start_time": "2022-04-27T21:43:30.371Z"
   },
   {
    "duration": 328,
    "start_time": "2022-04-27T21:43:53.018Z"
   },
   {
    "duration": 6,
    "start_time": "2022-04-27T21:44:39.760Z"
   },
   {
    "duration": 227,
    "start_time": "2022-04-27T21:44:45.102Z"
   },
   {
    "duration": 5,
    "start_time": "2022-04-27T21:44:56.407Z"
   },
   {
    "duration": 324,
    "start_time": "2022-04-27T21:44:56.560Z"
   },
   {
    "duration": 4,
    "start_time": "2022-04-27T21:45:09.098Z"
   },
   {
    "duration": 231,
    "start_time": "2022-04-27T21:45:12.993Z"
   },
   {
    "duration": 5,
    "start_time": "2022-04-27T21:45:20.920Z"
   },
   {
    "duration": 50,
    "start_time": "2022-04-27T21:45:21.753Z"
   },
   {
    "duration": 4,
    "start_time": "2022-04-27T21:46:48.057Z"
   },
   {
    "duration": 219,
    "start_time": "2022-04-27T21:46:51.903Z"
   },
   {
    "duration": 5,
    "start_time": "2022-04-27T21:47:37.070Z"
   },
   {
    "duration": 218,
    "start_time": "2022-04-27T21:47:38.045Z"
   },
   {
    "duration": 4,
    "start_time": "2022-04-27T21:48:12.281Z"
   },
   {
    "duration": 31,
    "start_time": "2022-04-27T21:48:12.968Z"
   },
   {
    "duration": 4,
    "start_time": "2022-04-27T21:48:18.808Z"
   },
   {
    "duration": 224,
    "start_time": "2022-04-27T21:48:24.743Z"
   },
   {
    "duration": 5,
    "start_time": "2022-04-27T21:49:16.212Z"
   },
   {
    "duration": 286,
    "start_time": "2022-04-27T21:49:17.523Z"
   },
   {
    "duration": 6,
    "start_time": "2022-04-27T21:50:24.579Z"
   },
   {
    "duration": 229,
    "start_time": "2022-04-27T21:50:25.304Z"
   },
   {
    "duration": 8,
    "start_time": "2022-04-27T21:50:52.692Z"
   },
   {
    "duration": 242,
    "start_time": "2022-04-27T21:50:53.546Z"
   },
   {
    "duration": 6,
    "start_time": "2022-04-27T21:51:35.531Z"
   },
   {
    "duration": 337,
    "start_time": "2022-04-27T21:51:40.525Z"
   },
   {
    "duration": 5,
    "start_time": "2022-04-27T21:51:53.981Z"
   },
   {
    "duration": 353,
    "start_time": "2022-04-27T21:51:54.974Z"
   },
   {
    "duration": 4,
    "start_time": "2022-04-27T21:52:01.185Z"
   },
   {
    "duration": 27,
    "start_time": "2022-04-27T21:57:14.518Z"
   },
   {
    "duration": 77,
    "start_time": "2022-04-27T21:57:32.712Z"
   },
   {
    "duration": 736,
    "start_time": "2022-04-27T21:57:57.177Z"
   },
   {
    "duration": 578,
    "start_time": "2022-04-27T21:58:06.909Z"
   },
   {
    "duration": 219,
    "start_time": "2022-04-27T22:06:11.553Z"
   },
   {
    "duration": 4,
    "start_time": "2022-04-27T22:06:12.167Z"
   },
   {
    "duration": 6,
    "start_time": "2022-04-27T22:06:18.306Z"
   },
   {
    "duration": 5,
    "start_time": "2022-04-27T22:06:19.279Z"
   },
   {
    "duration": 467,
    "start_time": "2022-04-27T22:06:43.072Z"
   },
   {
    "duration": 6,
    "start_time": "2022-04-27T22:06:52.414Z"
   },
   {
    "duration": 5,
    "start_time": "2022-04-27T22:06:53.230Z"
   },
   {
    "duration": 357,
    "start_time": "2022-04-27T22:06:53.822Z"
   },
   {
    "duration": 250,
    "start_time": "2022-04-27T22:07:31.206Z"
   },
   {
    "duration": 5,
    "start_time": "2022-04-27T22:08:47.868Z"
   },
   {
    "duration": 346,
    "start_time": "2022-04-27T22:08:56.433Z"
   },
   {
    "duration": 264,
    "start_time": "2022-04-27T22:08:59.783Z"
   },
   {
    "duration": 5,
    "start_time": "2022-04-27T22:09:25.100Z"
   },
   {
    "duration": 354,
    "start_time": "2022-04-27T22:09:27.306Z"
   },
   {
    "duration": 244,
    "start_time": "2022-04-27T22:09:34.554Z"
   },
   {
    "duration": 1578,
    "start_time": "2022-05-01T15:17:50.005Z"
   },
   {
    "duration": 3,
    "start_time": "2022-05-01T15:17:51.585Z"
   },
   {
    "duration": 6,
    "start_time": "2022-05-01T15:17:51.590Z"
   },
   {
    "duration": 15,
    "start_time": "2022-05-01T15:17:51.598Z"
   },
   {
    "duration": 3,
    "start_time": "2022-05-01T15:17:51.615Z"
   },
   {
    "duration": 82,
    "start_time": "2022-05-01T15:17:51.620Z"
   },
   {
    "duration": 4,
    "start_time": "2022-05-01T15:17:51.703Z"
   },
   {
    "duration": 47,
    "start_time": "2022-05-01T15:17:51.709Z"
   },
   {
    "duration": 273,
    "start_time": "2022-05-01T15:17:51.759Z"
   },
   {
    "duration": 154,
    "start_time": "2022-05-01T15:17:52.034Z"
   },
   {
    "duration": 210,
    "start_time": "2022-05-01T15:17:52.190Z"
   },
   {
    "duration": 169,
    "start_time": "2022-05-01T15:17:52.402Z"
   },
   {
    "duration": 11,
    "start_time": "2022-05-01T15:26:41.567Z"
   },
   {
    "duration": 111,
    "start_time": "2022-05-01T15:36:56.579Z"
   },
   {
    "duration": 4,
    "start_time": "2022-05-01T15:37:48.956Z"
   },
   {
    "duration": 10,
    "start_time": "2022-05-01T15:38:01.084Z"
   },
   {
    "duration": 3,
    "start_time": "2022-05-01T15:47:58.299Z"
   },
   {
    "duration": 2,
    "start_time": "2022-05-01T15:47:59.331Z"
   },
   {
    "duration": 16,
    "start_time": "2022-05-01T15:48:00.917Z"
   },
   {
    "duration": 3,
    "start_time": "2022-05-01T15:48:01.459Z"
   },
   {
    "duration": 43,
    "start_time": "2022-05-01T15:48:02.026Z"
   },
   {
    "duration": 9,
    "start_time": "2022-05-01T15:48:02.691Z"
   },
   {
    "duration": 4,
    "start_time": "2022-05-01T15:48:18.167Z"
   },
   {
    "duration": 5,
    "start_time": "2022-05-01T15:48:30.506Z"
   },
   {
    "duration": 4,
    "start_time": "2022-05-01T15:49:41.218Z"
   },
   {
    "duration": 3,
    "start_time": "2022-05-01T15:49:41.979Z"
   },
   {
    "duration": 102,
    "start_time": "2022-05-01T15:57:21.084Z"
   },
   {
    "duration": 1455,
    "start_time": "2022-05-01T15:57:51.029Z"
   },
   {
    "duration": 3,
    "start_time": "2022-05-01T15:57:52.486Z"
   },
   {
    "duration": 5,
    "start_time": "2022-05-01T15:57:52.490Z"
   },
   {
    "duration": 23,
    "start_time": "2022-05-01T15:57:52.496Z"
   },
   {
    "duration": 26,
    "start_time": "2022-05-01T15:57:52.522Z"
   },
   {
    "duration": 99,
    "start_time": "2022-05-01T15:57:52.550Z"
   },
   {
    "duration": 13,
    "start_time": "2022-05-01T15:57:52.651Z"
   },
   {
    "duration": 138,
    "start_time": "2022-05-01T15:57:52.666Z"
   },
   {
    "duration": 0,
    "start_time": "2022-05-01T15:57:52.806Z"
   },
   {
    "duration": 0,
    "start_time": "2022-05-01T15:57:52.808Z"
   },
   {
    "duration": 0,
    "start_time": "2022-05-01T15:57:52.809Z"
   },
   {
    "duration": 0,
    "start_time": "2022-05-01T15:57:52.810Z"
   },
   {
    "duration": 0,
    "start_time": "2022-05-01T15:57:52.812Z"
   },
   {
    "duration": 0,
    "start_time": "2022-05-01T15:57:52.813Z"
   },
   {
    "duration": 1729,
    "start_time": "2022-05-01T15:59:52.345Z"
   },
   {
    "duration": 10,
    "start_time": "2022-05-01T16:01:53.014Z"
   },
   {
    "duration": 9,
    "start_time": "2022-05-01T16:03:15.272Z"
   },
   {
    "duration": 9,
    "start_time": "2022-05-01T16:03:25.556Z"
   },
   {
    "duration": 1319,
    "start_time": "2022-05-01T16:03:41.786Z"
   },
   {
    "duration": 3,
    "start_time": "2022-05-01T16:03:43.107Z"
   },
   {
    "duration": 7,
    "start_time": "2022-05-01T16:03:43.111Z"
   },
   {
    "duration": 20,
    "start_time": "2022-05-01T16:03:43.120Z"
   },
   {
    "duration": 3,
    "start_time": "2022-05-01T16:03:43.147Z"
   },
   {
    "duration": 50,
    "start_time": "2022-05-01T16:03:43.151Z"
   },
   {
    "duration": 129,
    "start_time": "2022-05-01T16:03:43.203Z"
   },
   {
    "duration": 0,
    "start_time": "2022-05-01T16:03:43.334Z"
   },
   {
    "duration": 0,
    "start_time": "2022-05-01T16:03:43.335Z"
   },
   {
    "duration": 0,
    "start_time": "2022-05-01T16:03:43.347Z"
   },
   {
    "duration": 0,
    "start_time": "2022-05-01T16:03:43.348Z"
   },
   {
    "duration": 0,
    "start_time": "2022-05-01T16:03:43.349Z"
   },
   {
    "duration": 0,
    "start_time": "2022-05-01T16:03:43.350Z"
   },
   {
    "duration": 0,
    "start_time": "2022-05-01T16:03:43.351Z"
   },
   {
    "duration": 3,
    "start_time": "2022-05-01T16:03:57.252Z"
   },
   {
    "duration": 8,
    "start_time": "2022-05-01T16:04:07.272Z"
   },
   {
    "duration": 4,
    "start_time": "2022-05-01T16:04:12.746Z"
   },
   {
    "duration": 12,
    "start_time": "2022-05-01T16:04:36.820Z"
   },
   {
    "duration": 4,
    "start_time": "2022-05-01T16:05:09.826Z"
   },
   {
    "duration": 10,
    "start_time": "2022-05-01T16:05:10.841Z"
   },
   {
    "duration": 8,
    "start_time": "2022-05-01T16:05:37.107Z"
   },
   {
    "duration": 8,
    "start_time": "2022-05-01T16:05:50.418Z"
   },
   {
    "duration": 111,
    "start_time": "2022-05-01T16:07:03.300Z"
   },
   {
    "duration": 111,
    "start_time": "2022-05-01T16:07:17.459Z"
   },
   {
    "duration": 5,
    "start_time": "2022-05-01T16:07:32.666Z"
   },
   {
    "duration": 4,
    "start_time": "2022-05-01T16:07:58.690Z"
   },
   {
    "duration": 3,
    "start_time": "2022-05-01T16:10:41.871Z"
   },
   {
    "duration": 9,
    "start_time": "2022-05-01T16:10:44.882Z"
   },
   {
    "duration": 3,
    "start_time": "2022-05-01T16:10:53.429Z"
   },
   {
    "duration": 2,
    "start_time": "2022-05-01T16:10:54.438Z"
   },
   {
    "duration": 103,
    "start_time": "2022-05-01T16:10:56.357Z"
   },
   {
    "duration": 3,
    "start_time": "2022-05-01T16:11:13.502Z"
   },
   {
    "duration": 3,
    "start_time": "2022-05-01T16:11:14.387Z"
   },
   {
    "duration": 193,
    "start_time": "2022-05-01T16:11:15.754Z"
   },
   {
    "duration": 116,
    "start_time": "2022-05-01T16:11:16.983Z"
   },
   {
    "duration": 179,
    "start_time": "2022-05-01T16:11:17.995Z"
   },
   {
    "duration": 113,
    "start_time": "2022-05-01T16:11:19.117Z"
   },
   {
    "duration": 312,
    "start_time": "2022-05-01T16:11:20.138Z"
   },
   {
    "duration": 130,
    "start_time": "2022-05-01T16:11:21.765Z"
   },
   {
    "duration": 185,
    "start_time": "2022-05-01T16:11:22.845Z"
   },
   {
    "duration": 131,
    "start_time": "2022-05-01T16:11:24.048Z"
   },
   {
    "duration": 191,
    "start_time": "2022-05-01T16:11:25.017Z"
   },
   {
    "duration": 122,
    "start_time": "2022-05-01T16:11:26.051Z"
   },
   {
    "duration": 7,
    "start_time": "2022-05-01T16:25:33.767Z"
   },
   {
    "duration": 10,
    "start_time": "2022-05-01T16:30:09.287Z"
   },
   {
    "duration": 1475,
    "start_time": "2022-05-01T16:30:39.831Z"
   },
   {
    "duration": 4,
    "start_time": "2022-05-01T16:30:41.308Z"
   },
   {
    "duration": 8,
    "start_time": "2022-05-01T16:30:41.314Z"
   },
   {
    "duration": 25,
    "start_time": "2022-05-01T16:30:41.324Z"
   },
   {
    "duration": 4,
    "start_time": "2022-05-01T16:30:41.352Z"
   },
   {
    "duration": 91,
    "start_time": "2022-05-01T16:30:41.358Z"
   },
   {
    "duration": 4,
    "start_time": "2022-05-01T16:30:41.451Z"
   },
   {
    "duration": 12,
    "start_time": "2022-05-01T16:30:41.457Z"
   },
   {
    "duration": 7,
    "start_time": "2022-05-01T16:30:41.471Z"
   },
   {
    "duration": 69,
    "start_time": "2022-05-01T16:30:41.480Z"
   },
   {
    "duration": 12,
    "start_time": "2022-05-01T16:30:41.551Z"
   },
   {
    "duration": 8,
    "start_time": "2022-05-01T16:30:41.565Z"
   },
   {
    "duration": 9,
    "start_time": "2022-05-01T16:30:41.574Z"
   },
   {
    "duration": 4,
    "start_time": "2022-05-01T16:30:41.586Z"
   },
   {
    "duration": 58,
    "start_time": "2022-05-01T16:30:41.591Z"
   },
   {
    "duration": 265,
    "start_time": "2022-05-01T16:30:41.651Z"
   },
   {
    "duration": 151,
    "start_time": "2022-05-01T16:30:41.918Z"
   },
   {
    "duration": 197,
    "start_time": "2022-05-01T16:30:42.070Z"
   },
   {
    "duration": 137,
    "start_time": "2022-05-01T16:30:42.269Z"
   },
   {
    "duration": 224,
    "start_time": "2022-05-01T16:30:42.408Z"
   },
   {
    "duration": 224,
    "start_time": "2022-05-01T16:30:42.634Z"
   },
   {
    "duration": 245,
    "start_time": "2022-05-01T16:30:42.861Z"
   },
   {
    "duration": 142,
    "start_time": "2022-05-01T16:30:43.108Z"
   },
   {
    "duration": 231,
    "start_time": "2022-05-01T16:30:43.252Z"
   },
   {
    "duration": 137,
    "start_time": "2022-05-01T16:30:43.484Z"
   },
   {
    "duration": 7,
    "start_time": "2022-05-01T16:31:25.132Z"
   },
   {
    "duration": 8,
    "start_time": "2022-05-01T16:31:36.665Z"
   },
   {
    "duration": 8,
    "start_time": "2022-05-01T16:31:39.875Z"
   },
   {
    "duration": 6,
    "start_time": "2022-05-01T16:31:59.637Z"
   },
   {
    "duration": 1490,
    "start_time": "2022-05-01T16:32:14.918Z"
   },
   {
    "duration": 3,
    "start_time": "2022-05-01T16:32:16.410Z"
   },
   {
    "duration": 6,
    "start_time": "2022-05-01T16:32:16.414Z"
   },
   {
    "duration": 29,
    "start_time": "2022-05-01T16:32:16.423Z"
   },
   {
    "duration": 4,
    "start_time": "2022-05-01T16:32:16.453Z"
   },
   {
    "duration": 96,
    "start_time": "2022-05-01T16:32:16.459Z"
   },
   {
    "duration": 4,
    "start_time": "2022-05-01T16:32:16.556Z"
   },
   {
    "duration": 9,
    "start_time": "2022-05-01T16:32:16.562Z"
   },
   {
    "duration": 9,
    "start_time": "2022-05-01T16:32:16.573Z"
   },
   {
    "duration": 12,
    "start_time": "2022-05-01T16:32:16.584Z"
   },
   {
    "duration": 54,
    "start_time": "2022-05-01T16:32:16.597Z"
   },
   {
    "duration": 10,
    "start_time": "2022-05-01T16:32:16.653Z"
   },
   {
    "duration": 10,
    "start_time": "2022-05-01T16:32:16.665Z"
   },
   {
    "duration": 4,
    "start_time": "2022-05-01T16:32:16.677Z"
   },
   {
    "duration": 5,
    "start_time": "2022-05-01T16:32:16.683Z"
   },
   {
    "duration": 282,
    "start_time": "2022-05-01T16:32:16.690Z"
   },
   {
    "duration": 140,
    "start_time": "2022-05-01T16:32:16.974Z"
   },
   {
    "duration": 203,
    "start_time": "2022-05-01T16:32:17.115Z"
   },
   {
    "duration": 144,
    "start_time": "2022-05-01T16:32:17.320Z"
   },
   {
    "duration": 235,
    "start_time": "2022-05-01T16:32:17.466Z"
   },
   {
    "duration": 246,
    "start_time": "2022-05-01T16:32:17.703Z"
   },
   {
    "duration": 214,
    "start_time": "2022-05-01T16:32:17.951Z"
   },
   {
    "duration": 162,
    "start_time": "2022-05-01T16:32:18.167Z"
   },
   {
    "duration": 227,
    "start_time": "2022-05-01T16:32:18.332Z"
   },
   {
    "duration": 154,
    "start_time": "2022-05-01T16:32:18.562Z"
   },
   {
    "duration": 10,
    "start_time": "2022-05-01T16:33:35.052Z"
   },
   {
    "duration": 102,
    "start_time": "2022-05-01T16:34:13.657Z"
   },
   {
    "duration": 4,
    "start_time": "2022-05-01T16:34:18.833Z"
   },
   {
    "duration": 3,
    "start_time": "2022-05-01T16:34:46.162Z"
   },
   {
    "duration": 4,
    "start_time": "2022-05-01T16:34:51.260Z"
   },
   {
    "duration": 3,
    "start_time": "2022-05-01T16:34:56.719Z"
   },
   {
    "duration": 52,
    "start_time": "2022-05-04T21:33:18.814Z"
   },
   {
    "duration": 7,
    "start_time": "2022-05-04T21:33:20.733Z"
   },
   {
    "duration": 1568,
    "start_time": "2022-05-04T21:33:31.798Z"
   },
   {
    "duration": 2,
    "start_time": "2022-05-04T21:33:33.368Z"
   },
   {
    "duration": 5,
    "start_time": "2022-05-04T21:33:33.372Z"
   },
   {
    "duration": 33,
    "start_time": "2022-05-04T21:33:33.379Z"
   },
   {
    "duration": 4,
    "start_time": "2022-05-04T21:33:33.414Z"
   },
   {
    "duration": 57,
    "start_time": "2022-05-04T21:33:33.419Z"
   },
   {
    "duration": 4,
    "start_time": "2022-05-04T21:33:33.478Z"
   },
   {
    "duration": 29,
    "start_time": "2022-05-04T21:33:33.483Z"
   },
   {
    "duration": 6,
    "start_time": "2022-05-04T21:33:33.514Z"
   },
   {
    "duration": 13,
    "start_time": "2022-05-04T21:33:33.522Z"
   },
   {
    "duration": 8,
    "start_time": "2022-05-04T21:33:33.536Z"
   },
   {
    "duration": 8,
    "start_time": "2022-05-04T21:33:33.546Z"
   },
   {
    "duration": 7,
    "start_time": "2022-05-04T21:33:33.556Z"
   },
   {
    "duration": 3,
    "start_time": "2022-05-04T21:33:33.566Z"
   },
   {
    "duration": 4,
    "start_time": "2022-05-04T21:33:33.607Z"
   },
   {
    "duration": 5,
    "start_time": "2022-05-04T21:33:33.613Z"
   },
   {
    "duration": 253,
    "start_time": "2022-05-04T21:33:33.620Z"
   },
   {
    "duration": 157,
    "start_time": "2022-05-04T21:33:33.875Z"
   },
   {
    "duration": 224,
    "start_time": "2022-05-04T21:33:34.033Z"
   },
   {
    "duration": 149,
    "start_time": "2022-05-04T21:33:34.259Z"
   },
   {
    "duration": 233,
    "start_time": "2022-05-04T21:33:34.410Z"
   },
   {
    "duration": 247,
    "start_time": "2022-05-04T21:33:34.645Z"
   },
   {
    "duration": 224,
    "start_time": "2022-05-04T21:33:34.894Z"
   },
   {
    "duration": 150,
    "start_time": "2022-05-04T21:33:35.119Z"
   },
   {
    "duration": 230,
    "start_time": "2022-05-04T21:33:35.271Z"
   },
   {
    "duration": 150,
    "start_time": "2022-05-04T21:33:35.507Z"
   },
   {
    "duration": 2,
    "start_time": "2022-05-04T21:33:35.658Z"
   },
   {
    "duration": 5,
    "start_time": "2022-05-04T21:33:35.662Z"
   },
   {
    "duration": 126,
    "start_time": "2022-05-04T21:33:35.669Z"
   },
   {
    "duration": 0,
    "start_time": "2022-05-04T21:33:35.796Z"
   },
   {
    "duration": 3,
    "start_time": "2022-05-04T21:35:15.888Z"
   },
   {
    "duration": 1426,
    "start_time": "2022-05-04T21:35:20.743Z"
   },
   {
    "duration": 3,
    "start_time": "2022-05-04T21:35:22.171Z"
   },
   {
    "duration": 5,
    "start_time": "2022-05-04T21:35:22.175Z"
   },
   {
    "duration": 16,
    "start_time": "2022-05-04T21:35:22.181Z"
   },
   {
    "duration": 8,
    "start_time": "2022-05-04T21:35:22.199Z"
   },
   {
    "duration": 59,
    "start_time": "2022-05-04T21:35:22.209Z"
   },
   {
    "duration": 3,
    "start_time": "2022-05-04T21:35:22.270Z"
   },
   {
    "duration": 32,
    "start_time": "2022-05-04T21:35:22.276Z"
   },
   {
    "duration": 7,
    "start_time": "2022-05-04T21:35:22.310Z"
   },
   {
    "duration": 13,
    "start_time": "2022-05-04T21:35:22.319Z"
   },
   {
    "duration": 9,
    "start_time": "2022-05-04T21:35:22.335Z"
   },
   {
    "duration": 7,
    "start_time": "2022-05-04T21:35:22.346Z"
   },
   {
    "duration": 7,
    "start_time": "2022-05-04T21:35:22.355Z"
   },
   {
    "duration": 4,
    "start_time": "2022-05-04T21:35:22.365Z"
   },
   {
    "duration": 38,
    "start_time": "2022-05-04T21:35:22.371Z"
   },
   {
    "duration": 5,
    "start_time": "2022-05-04T21:35:22.411Z"
   },
   {
    "duration": 252,
    "start_time": "2022-05-04T21:35:22.417Z"
   },
   {
    "duration": 152,
    "start_time": "2022-05-04T21:35:22.671Z"
   },
   {
    "duration": 228,
    "start_time": "2022-05-04T21:35:22.825Z"
   },
   {
    "duration": 154,
    "start_time": "2022-05-04T21:35:23.055Z"
   },
   {
    "duration": 224,
    "start_time": "2022-05-04T21:35:23.211Z"
   },
   {
    "duration": 250,
    "start_time": "2022-05-04T21:35:23.436Z"
   },
   {
    "duration": 224,
    "start_time": "2022-05-04T21:35:23.688Z"
   },
   {
    "duration": 155,
    "start_time": "2022-05-04T21:35:23.914Z"
   },
   {
    "duration": 243,
    "start_time": "2022-05-04T21:35:24.072Z"
   },
   {
    "duration": 143,
    "start_time": "2022-05-04T21:35:24.317Z"
   },
   {
    "duration": 3,
    "start_time": "2022-05-04T21:35:24.462Z"
   },
   {
    "duration": 5,
    "start_time": "2022-05-04T21:35:24.467Z"
   },
   {
    "duration": 126,
    "start_time": "2022-05-04T21:35:24.473Z"
   },
   {
    "duration": 0,
    "start_time": "2022-05-04T21:35:24.601Z"
   },
   {
    "duration": 12,
    "start_time": "2022-05-04T21:36:39.417Z"
   },
   {
    "duration": 11,
    "start_time": "2022-05-04T21:37:26.027Z"
   },
   {
    "duration": 7,
    "start_time": "2022-05-04T22:11:43.546Z"
   },
   {
    "duration": 3,
    "start_time": "2022-05-04T22:12:07.439Z"
   },
   {
    "duration": 7,
    "start_time": "2022-05-04T22:12:09.745Z"
   },
   {
    "duration": 3,
    "start_time": "2022-05-04T22:12:36.789Z"
   },
   {
    "duration": 9,
    "start_time": "2022-05-04T22:12:37.606Z"
   },
   {
    "duration": 9,
    "start_time": "2022-05-04T22:12:50.536Z"
   },
   {
    "duration": 5,
    "start_time": "2022-05-04T22:17:48.276Z"
   },
   {
    "duration": 3,
    "start_time": "2022-05-04T22:19:46.951Z"
   },
   {
    "duration": 4,
    "start_time": "2022-05-04T22:19:47.808Z"
   },
   {
    "duration": 7,
    "start_time": "2022-05-04T22:19:48.574Z"
   },
   {
    "duration": 7,
    "start_time": "2022-05-04T22:20:12.977Z"
   },
   {
    "duration": 9,
    "start_time": "2022-05-04T22:20:36.368Z"
   },
   {
    "duration": 3,
    "start_time": "2022-05-04T22:24:11.919Z"
   },
   {
    "duration": 9,
    "start_time": "2022-05-04T22:24:12.659Z"
   },
   {
    "duration": 122,
    "start_time": "2022-05-05T18:12:15.842Z"
   },
   {
    "duration": 3047,
    "start_time": "2022-05-05T18:12:27.496Z"
   },
   {
    "duration": 4,
    "start_time": "2022-05-05T18:12:30.547Z"
   },
   {
    "duration": 28,
    "start_time": "2022-05-05T18:12:30.557Z"
   },
   {
    "duration": 34,
    "start_time": "2022-05-05T18:12:30.587Z"
   },
   {
    "duration": 8,
    "start_time": "2022-05-05T18:12:30.627Z"
   },
   {
    "duration": 118,
    "start_time": "2022-05-05T18:12:30.640Z"
   },
   {
    "duration": 7,
    "start_time": "2022-05-05T18:12:30.761Z"
   },
   {
    "duration": 17,
    "start_time": "2022-05-05T18:12:30.770Z"
   },
   {
    "duration": 46,
    "start_time": "2022-05-05T18:12:30.791Z"
   },
   {
    "duration": 41,
    "start_time": "2022-05-05T18:12:30.840Z"
   },
   {
    "duration": 37,
    "start_time": "2022-05-05T18:12:30.884Z"
   },
   {
    "duration": 26,
    "start_time": "2022-05-05T18:12:30.925Z"
   },
   {
    "duration": 27,
    "start_time": "2022-05-05T18:12:30.954Z"
   },
   {
    "duration": 21,
    "start_time": "2022-05-05T18:12:30.988Z"
   },
   {
    "duration": 18,
    "start_time": "2022-05-05T18:12:31.012Z"
   },
   {
    "duration": 21,
    "start_time": "2022-05-05T18:12:31.034Z"
   },
   {
    "duration": 552,
    "start_time": "2022-05-05T18:12:31.057Z"
   },
   {
    "duration": 368,
    "start_time": "2022-05-05T18:12:31.612Z"
   },
   {
    "duration": 532,
    "start_time": "2022-05-05T18:12:31.983Z"
   },
   {
    "duration": 335,
    "start_time": "2022-05-05T18:12:32.526Z"
   },
   {
    "duration": 542,
    "start_time": "2022-05-05T18:12:32.864Z"
   },
   {
    "duration": 280,
    "start_time": "2022-05-05T18:12:33.410Z"
   },
   {
    "duration": 373,
    "start_time": "2022-05-05T18:12:33.692Z"
   },
   {
    "duration": 276,
    "start_time": "2022-05-05T18:12:34.067Z"
   },
   {
    "duration": 548,
    "start_time": "2022-05-05T18:12:34.346Z"
   },
   {
    "duration": 277,
    "start_time": "2022-05-05T18:12:34.896Z"
   },
   {
    "duration": 6,
    "start_time": "2022-05-05T18:12:35.176Z"
   },
   {
    "duration": 44,
    "start_time": "2022-05-05T18:12:35.185Z"
   },
   {
    "duration": 5,
    "start_time": "2022-05-05T18:12:35.232Z"
   },
   {
    "duration": 12,
    "start_time": "2022-05-05T18:12:35.240Z"
   },
   {
    "duration": 16,
    "start_time": "2022-05-05T18:12:35.255Z"
   },
   {
    "duration": 54,
    "start_time": "2022-05-05T18:12:35.273Z"
   },
   {
    "duration": 115,
    "start_time": "2022-05-05T18:12:35.330Z"
   },
   {
    "duration": 30,
    "start_time": "2022-05-05T18:12:35.447Z"
   },
   {
    "duration": 5,
    "start_time": "2022-05-05T18:12:35.536Z"
   },
   {
    "duration": 13,
    "start_time": "2022-05-05T18:12:35.545Z"
   },
   {
    "duration": 34,
    "start_time": "2022-05-05T18:12:35.561Z"
   },
   {
    "duration": 14,
    "start_time": "2022-05-05T18:29:56.840Z"
   },
   {
    "duration": 191,
    "start_time": "2022-05-05T18:30:12.444Z"
   },
   {
    "duration": 18,
    "start_time": "2022-05-05T18:30:20.312Z"
   },
   {
    "duration": 15,
    "start_time": "2022-05-05T18:33:46.202Z"
   },
   {
    "duration": 6,
    "start_time": "2022-05-05T18:33:51.274Z"
   },
   {
    "duration": 7,
    "start_time": "2022-05-05T18:34:11.481Z"
   },
   {
    "duration": 6,
    "start_time": "2022-05-05T18:35:04.848Z"
   },
   {
    "duration": 6,
    "start_time": "2022-05-05T18:35:34.256Z"
   },
   {
    "duration": 6,
    "start_time": "2022-05-05T18:41:26.482Z"
   },
   {
    "duration": 7,
    "start_time": "2022-05-05T18:42:00.474Z"
   },
   {
    "duration": 6,
    "start_time": "2022-05-05T18:42:54.009Z"
   },
   {
    "duration": 7,
    "start_time": "2022-05-05T18:43:51.109Z"
   },
   {
    "duration": 14,
    "start_time": "2022-05-05T18:45:03.669Z"
   },
   {
    "duration": 6,
    "start_time": "2022-05-05T18:45:05.142Z"
   },
   {
    "duration": 2011,
    "start_time": "2022-05-05T18:45:12.094Z"
   },
   {
    "duration": 5,
    "start_time": "2022-05-05T18:45:14.108Z"
   },
   {
    "duration": 10,
    "start_time": "2022-05-05T18:45:14.115Z"
   },
   {
    "duration": 29,
    "start_time": "2022-05-05T18:45:14.128Z"
   },
   {
    "duration": 5,
    "start_time": "2022-05-05T18:45:14.162Z"
   },
   {
    "duration": 102,
    "start_time": "2022-05-05T18:45:14.169Z"
   },
   {
    "duration": 5,
    "start_time": "2022-05-05T18:45:14.273Z"
   },
   {
    "duration": 14,
    "start_time": "2022-05-05T18:45:14.281Z"
   },
   {
    "duration": 28,
    "start_time": "2022-05-05T18:45:14.297Z"
   },
   {
    "duration": 19,
    "start_time": "2022-05-05T18:45:14.327Z"
   },
   {
    "duration": 13,
    "start_time": "2022-05-05T18:45:14.348Z"
   },
   {
    "duration": 13,
    "start_time": "2022-05-05T18:45:14.363Z"
   },
   {
    "duration": 47,
    "start_time": "2022-05-05T18:45:14.378Z"
   },
   {
    "duration": 5,
    "start_time": "2022-05-05T18:45:14.430Z"
   },
   {
    "duration": 8,
    "start_time": "2022-05-05T18:45:14.437Z"
   },
   {
    "duration": 16,
    "start_time": "2022-05-05T18:45:14.447Z"
   },
   {
    "duration": 404,
    "start_time": "2022-05-05T18:45:14.465Z"
   },
   {
    "duration": 256,
    "start_time": "2022-05-05T18:45:14.872Z"
   },
   {
    "duration": 356,
    "start_time": "2022-05-05T18:45:15.131Z"
   },
   {
    "duration": 241,
    "start_time": "2022-05-05T18:45:15.490Z"
   },
   {
    "duration": 457,
    "start_time": "2022-05-05T18:45:15.733Z"
   },
   {
    "duration": 331,
    "start_time": "2022-05-05T18:45:16.193Z"
   },
   {
    "duration": 363,
    "start_time": "2022-05-05T18:45:16.526Z"
   },
   {
    "duration": 267,
    "start_time": "2022-05-05T18:45:16.891Z"
   },
   {
    "duration": 377,
    "start_time": "2022-05-05T18:45:17.160Z"
   },
   {
    "duration": 258,
    "start_time": "2022-05-05T18:45:17.540Z"
   },
   {
    "duration": 6,
    "start_time": "2022-05-05T18:45:17.801Z"
   },
   {
    "duration": 16,
    "start_time": "2022-05-05T18:45:17.825Z"
   },
   {
    "duration": 4,
    "start_time": "2022-05-05T18:45:17.843Z"
   },
   {
    "duration": 11,
    "start_time": "2022-05-05T18:45:17.849Z"
   },
   {
    "duration": 11,
    "start_time": "2022-05-05T18:45:17.862Z"
   },
   {
    "duration": 12,
    "start_time": "2022-05-05T18:45:17.875Z"
   },
   {
    "duration": 38,
    "start_time": "2022-05-05T18:45:17.889Z"
   },
   {
    "duration": 100,
    "start_time": "2022-05-05T18:45:17.930Z"
   },
   {
    "duration": 9,
    "start_time": "2022-05-05T18:45:18.032Z"
   },
   {
    "duration": 8,
    "start_time": "2022-05-05T18:45:18.043Z"
   },
   {
    "duration": 15,
    "start_time": "2022-05-05T18:45:18.053Z"
   },
   {
    "duration": 55,
    "start_time": "2022-05-05T18:45:18.071Z"
   },
   {
    "duration": 7,
    "start_time": "2022-05-05T18:45:18.129Z"
   },
   {
    "duration": 7,
    "start_time": "2022-05-05T18:45:18.138Z"
   },
   {
    "duration": 6,
    "start_time": "2022-05-05T18:45:18.151Z"
   },
   {
    "duration": 102,
    "start_time": "2022-05-05T18:45:18.223Z"
   },
   {
    "duration": 5,
    "start_time": "2022-05-05T18:45:18.327Z"
   },
   {
    "duration": 9,
    "start_time": "2022-05-05T18:45:18.334Z"
   },
   {
    "duration": 13,
    "start_time": "2022-05-05T18:47:08.705Z"
   },
   {
    "duration": 6,
    "start_time": "2022-05-05T18:47:53.083Z"
   },
   {
    "duration": 6,
    "start_time": "2022-05-05T18:47:54.468Z"
   },
   {
    "duration": 6,
    "start_time": "2022-05-05T18:47:55.279Z"
   },
   {
    "duration": 15,
    "start_time": "2022-05-05T18:47:56.704Z"
   },
   {
    "duration": 6,
    "start_time": "2022-05-05T18:48:08.598Z"
   },
   {
    "duration": 6,
    "start_time": "2022-05-05T19:23:25.730Z"
   },
   {
    "duration": 3558,
    "start_time": "2022-05-05T19:23:32.374Z"
   },
   {
    "duration": 5,
    "start_time": "2022-05-05T19:23:35.936Z"
   },
   {
    "duration": 49,
    "start_time": "2022-05-05T19:23:35.944Z"
   },
   {
    "duration": 21,
    "start_time": "2022-05-05T19:23:35.996Z"
   },
   {
    "duration": 5,
    "start_time": "2022-05-05T19:23:36.021Z"
   },
   {
    "duration": 97,
    "start_time": "2022-05-05T19:23:36.028Z"
   },
   {
    "duration": 6,
    "start_time": "2022-05-05T19:23:36.128Z"
   },
   {
    "duration": 21,
    "start_time": "2022-05-05T19:23:36.136Z"
   },
   {
    "duration": 8,
    "start_time": "2022-05-05T19:23:36.160Z"
   },
   {
    "duration": 14,
    "start_time": "2022-05-05T19:23:36.171Z"
   },
   {
    "duration": 45,
    "start_time": "2022-05-05T19:23:36.188Z"
   },
   {
    "duration": 18,
    "start_time": "2022-05-05T19:23:36.236Z"
   },
   {
    "duration": 13,
    "start_time": "2022-05-05T19:23:36.256Z"
   },
   {
    "duration": 6,
    "start_time": "2022-05-05T19:23:36.273Z"
   },
   {
    "duration": 6,
    "start_time": "2022-05-05T19:23:36.281Z"
   },
   {
    "duration": 6,
    "start_time": "2022-05-05T19:23:36.324Z"
   },
   {
    "duration": 422,
    "start_time": "2022-05-05T19:23:36.332Z"
   },
   {
    "duration": 249,
    "start_time": "2022-05-05T19:23:36.757Z"
   },
   {
    "duration": 354,
    "start_time": "2022-05-05T19:23:37.008Z"
   },
   {
    "duration": 238,
    "start_time": "2022-05-05T19:23:37.365Z"
   },
   {
    "duration": 361,
    "start_time": "2022-05-05T19:23:37.605Z"
   },
   {
    "duration": 348,
    "start_time": "2022-05-05T19:23:37.969Z"
   },
   {
    "duration": 385,
    "start_time": "2022-05-05T19:23:38.324Z"
   },
   {
    "duration": 261,
    "start_time": "2022-05-05T19:23:38.712Z"
   },
   {
    "duration": 513,
    "start_time": "2022-05-05T19:23:38.977Z"
   },
   {
    "duration": 315,
    "start_time": "2022-05-05T19:23:39.492Z"
   },
   {
    "duration": 6,
    "start_time": "2022-05-05T19:23:39.810Z"
   },
   {
    "duration": 17,
    "start_time": "2022-05-05T19:23:39.825Z"
   },
   {
    "duration": 6,
    "start_time": "2022-05-05T19:23:39.844Z"
   },
   {
    "duration": 8,
    "start_time": "2022-05-05T19:23:39.852Z"
   },
   {
    "duration": 12,
    "start_time": "2022-05-05T19:23:39.862Z"
   },
   {
    "duration": 51,
    "start_time": "2022-05-05T19:23:39.876Z"
   },
   {
    "duration": 12,
    "start_time": "2022-05-05T19:23:39.930Z"
   },
   {
    "duration": 7,
    "start_time": "2022-05-05T19:23:40.025Z"
   },
   {
    "duration": 25,
    "start_time": "2022-05-05T19:23:40.035Z"
   },
   {
    "duration": 17,
    "start_time": "2022-05-05T19:23:40.063Z"
   }
  ],
  "kernelspec": {
   "display_name": "Python 3 (ipykernel)",
   "language": "python",
   "name": "python3"
  },
  "language_info": {
   "codemirror_mode": {
    "name": "ipython",
    "version": 3
   },
   "file_extension": ".py",
   "mimetype": "text/x-python",
   "name": "python",
   "nbconvert_exporter": "python",
   "pygments_lexer": "ipython3",
   "version": "3.9.5"
  },
  "toc": {
   "base_numbering": 1,
   "nav_menu": {},
   "number_sections": true,
   "sideBar": true,
   "skip_h1_title": true,
   "title_cell": "Содержание",
   "title_sidebar": "Contents",
   "toc_cell": true,
   "toc_position": {},
   "toc_section_display": true,
   "toc_window_display": true
  }
 },
 "nbformat": 4,
 "nbformat_minor": 2
}
