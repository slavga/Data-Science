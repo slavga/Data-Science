{
 "cells": [
  {
   "cell_type": "markdown",
   "metadata": {},
   "source": [
    "# Определение перспективного тарифа телеком компании\n",
    "<br>\n",
    "<br>\n",
    "\n",
    "**<font size='4'>Исходные данные  </font>**   <font color=#708090> <br><br>\n",
    "«Мегалайн» — федеральный оператор сотовой связи. Продает клинетам два тарифных плана: «Смарт» и «Ультра». Чтобы скорректировать рекламный бюджет, нужно определить, какой тариф приносит больше денег. Предоставлены данные небольшой выборки клиентов за 2018 год.  В данных 500 клиентов использовавших указанные выше тарифы. Информация о клиентах содержит: кто они, откуда, каким тарифом пользуются, сколько звонков и соощений каждый отправил.</font>\n",
    "\n",
    "<br>\n",
    "\n",
    "**<font size='4'>Цель проекта:</font>** \n",
    "<font color=#708090>\n",
    "Проанализировать поведение клиентов и сделать вывод — какой тариф приносит больше денег. </font>\n",
    "<br>\n",
    "<br>\n",
    "***\n",
    "<font size='3'>Описание тарифов</font>\n",
    "\n",
    "\n",
    "Тариф «Смарт»\n",
    "<font color=#708090>\n",
    "1. Ежемесячная плата: 550 рублей\n",
    "2. Включено 500 минут разговора, 50 сообщений и 15 Гб интернет-трафика \n",
    "3. Стоимость услуг сверх тарифного пакета: 1.минута разговора: 3 рубля («Мегалайн» всегда округляет вверх значения минут и мегабайтов. Если пользователь проговорил всего 1 секунду, в тарифе засчитывается целая минута); 2. сообщение: 3 рубля; 3. 1 Гб интернет-трафика: 200 рублей.</font>\n",
    "\n",
    "Тариф «Ультра»\n",
    "<font color=#708090>\n",
    "1. Ежемесячная плата: 1950 рублей\n",
    "2. Включено 3000 минут разговора, 1000 сообщений и 30 Гб интернет-трафика\n",
    "3. Стоимость услуг сверх тарифного пакета: 1. минута разговора: 1 рубль; 2. сообщение: 1 рубль; 3. 1 Гб интернет-трафика: 150 рублей.\n",
    "</font>\n",
    "\n",
    "<br>\n",
    "<br>\n",
    "<dfn>Примечание: </dfn>\n",
    "<font size='2' color=#708090><dfn>\n",
    "    «Мегалайн» всегда округляет секунды до минут, а мегабайты — до гигабайт. Каждый звонок округляется отдельно: даже если он длился всего 1 секунду, будет засчитан как 1 минута.\n",
    "Для веб-трафика отдельные сессии не считаются. Вместо этого общая сумма за месяц округляется в бо́льшую сторону. Если абонент использует 1025 мегабайт в этом месяце, с него возьмут плату за 2 гигабайта.</dfn></font>\n",
    "<br>\n",
    "<br>\n",
    "<br>\n",
    "<br>\n",
    "\n",
    "<font size='5'>Описание данных</font>\n",
    "\n",
    "\n",
    "Таблица users (информация о пользователях):\n",
    "<br>\n",
    "<font color=#708090>\n",
    "<li>user_id — уникальный идентификатор пользователя</li>\n",
    "<li>first_name — имя пользователя</li>\n",
    "<li>last_name — фамилия пользователя</li>\n",
    "<li>age — возраст пользователя (годы)</li>\n",
    "<li>reg_date — дата подключения тарифа (день, месяц, год)</li>\n",
    "<li>churn_date — дата прекращения пользования тарифом (если значение пропущено, то тариф ещё действовал на момент выгрузки данных)</li>\n",
    "<li>city — город проживания пользователя</li>\n",
    "<li>tarif — название тарифного плана</li>\n",
    "</font>\n",
    "<br>\n",
    "Таблица calls (информация о звонках):\n",
    "<br>\n",
    "<font color=#708090>\n",
    "<li>id — уникальный номер звонка</li>\n",
    "<li>call_date — дата звонка</li>\n",
    "<li>duration — длительность звонка в минутах</li>\n",
    "<li>user_id — идентификатор пользователя, сделавшего звонок</li>\n",
    "</font>\n",
    "<br>\n",
    "Таблица messages (информация о сообщениях):\n",
    "<br>\n",
    "<font color=#708090>\n",
    "<li>id — уникальный номер сообщения</li>\n",
    "<li>message_date — дата сообщения</li>\n",
    "<li>user_id — идентификатор пользователя, отправившего сообщение</li>\n",
    "</font>\n",
    "<br>\n",
    "Таблица internet (информация об интернет-сессиях):\n",
    "<br>\n",
    "<font color=#708090>\n",
    "<li>id — уникальный номер сессии</li>\n",
    "<li>mb_used — объём потраченного за сессию интернет-трафика (в мегабайтах)</li>\n",
    "<li>session_date — дата интернет-сессии</li>\n",
    "<li>user_id — идентификатор пользователя</li>\n",
    "</font>\n",
    "<br>\n",
    "Таблица tariffs (информация о тарифах):\n",
    "<br>\n",
    "<font color=#708090>\n",
    "<li>tariff_name — название тарифа</li>\n",
    "<li>rub_monthly_fee — ежемесячная абонентская плата в рублях</li>\n",
    "<li>minutes_included — количество минут разговора в месяц, включённых в абонентскую плату</li>\n",
    "<li>messages_included — количество сообщений в месяц, включённых в абонентскую плату</li>\n",
    "<li>mb_per_month_included — объём интернет-трафика, включённого в абонентскую плату (в мегабайтах)</li>\n",
    "<li>rub_per_minute — стоимость минуты разговора сверх тарифного пакета (например, если в тарифе 100 минут разговора в месяц, то со 101 минуты будет взиматься плата)</li>\n",
    "<li>rub_per_message — стоимость отправки сообщения сверх тарифного пакета</li>\n",
    "<li>rub_per_gb — стоимость дополнительного гигабайта интернет-трафика сверх тарифного пакета (1 гигабайт = 1024 мегабайта)</li>\n",
    "</font>\n",
    "\n"
   ]
  },
  {
   "cell_type": "markdown",
   "metadata": {},
   "source": [
    "## Загрузка и изучение общей информации датасета"
   ]
  },
  {
   "cell_type": "code",
   "execution_count": 1,
   "metadata": {},
   "outputs": [],
   "source": [
    "# Импортируем необходимые библиотеки\n",
    "\n",
    "import pandas as pd\n",
    "import math\n",
    "import numpy as np\n",
    "import matplotlib.pyplot as plt\n",
    "from scipy import stats as st\n",
    "import seaborn as sns"
   ]
  },
  {
   "cell_type": "markdown",
   "metadata": {},
   "source": [
    "<font size='2' color=#708090>\n",
    "<br>\n",
    "</font>"
   ]
  },
  {
   "cell_type": "code",
   "execution_count": 2,
   "metadata": {},
   "outputs": [
    {
     "data": {
      "text/plain": [
       "50"
      ]
     },
     "execution_count": 2,
     "metadata": {},
     "output_type": "execute_result"
    }
   ],
   "source": [
    "# Отключим scientific notation \n",
    "# Изменим и проверим количество отображаемых столбцов\n",
    "\n",
    "pd.set_option('display.float_format', lambda x: '%.6f' % x)\n",
    "pd.options.display.max_columns=50\n",
    "pd.get_option(\"display.max_columns\")"
   ]
  },
  {
   "cell_type": "markdown",
   "metadata": {},
   "source": [
    "<font size='2' color=#708090></font>"
   ]
  },
  {
   "cell_type": "code",
   "execution_count": 3,
   "metadata": {},
   "outputs": [],
   "source": [
    "# Читаем файлы с данными\n",
    "\n",
    "df_calls = pd.read_csv('/datasets/calls.csv', sep=',')\n",
    "df_internet = pd.read_csv('/datasets/internet.csv', sep=',')\n",
    "df_messages = pd.read_csv('/datasets/messages.csv', sep=',')\n",
    "df_tariffs = pd.read_csv('/datasets/tariffs.csv', sep=',')\n",
    "df_users = pd.read_csv('/datasets/users.csv', sep=',')"
   ]
  },
  {
   "cell_type": "markdown",
   "metadata": {},
   "source": [
    "### Изучим загруженные датасеты"
   ]
  },
  {
   "cell_type": "code",
   "execution_count": 4,
   "metadata": {},
   "outputs": [
    {
     "name": "stdout",
     "output_type": "stream",
     "text": [
      "<class 'pandas.core.frame.DataFrame'>\n",
      "RangeIndex: 202607 entries, 0 to 202606\n",
      "Data columns (total 4 columns):\n",
      "id           202607 non-null object\n",
      "call_date    202607 non-null object\n",
      "duration     202607 non-null float64\n",
      "user_id      202607 non-null int64\n",
      "dtypes: float64(1), int64(1), object(2)\n",
      "memory usage: 6.2+ MB\n"
     ]
    },
    {
     "data": {
      "text/html": [
       "<div>\n",
       "<style scoped>\n",
       "    .dataframe tbody tr th:only-of-type {\n",
       "        vertical-align: middle;\n",
       "    }\n",
       "\n",
       "    .dataframe tbody tr th {\n",
       "        vertical-align: top;\n",
       "    }\n",
       "\n",
       "    .dataframe thead th {\n",
       "        text-align: right;\n",
       "    }\n",
       "</style>\n",
       "<table border=\"1\" class=\"dataframe\">\n",
       "  <thead>\n",
       "    <tr style=\"text-align: right;\">\n",
       "      <th></th>\n",
       "      <th>id</th>\n",
       "      <th>call_date</th>\n",
       "      <th>duration</th>\n",
       "      <th>user_id</th>\n",
       "    </tr>\n",
       "  </thead>\n",
       "  <tbody>\n",
       "    <tr>\n",
       "      <td>0</td>\n",
       "      <td>1000_0</td>\n",
       "      <td>2018-07-25</td>\n",
       "      <td>0.000000</td>\n",
       "      <td>1000</td>\n",
       "    </tr>\n",
       "    <tr>\n",
       "      <td>1</td>\n",
       "      <td>1000_1</td>\n",
       "      <td>2018-08-17</td>\n",
       "      <td>0.000000</td>\n",
       "      <td>1000</td>\n",
       "    </tr>\n",
       "    <tr>\n",
       "      <td>2</td>\n",
       "      <td>1000_2</td>\n",
       "      <td>2018-06-11</td>\n",
       "      <td>2.850000</td>\n",
       "      <td>1000</td>\n",
       "    </tr>\n",
       "    <tr>\n",
       "      <td>3</td>\n",
       "      <td>1000_3</td>\n",
       "      <td>2018-09-21</td>\n",
       "      <td>13.800000</td>\n",
       "      <td>1000</td>\n",
       "    </tr>\n",
       "    <tr>\n",
       "      <td>4</td>\n",
       "      <td>1000_4</td>\n",
       "      <td>2018-12-15</td>\n",
       "      <td>5.180000</td>\n",
       "      <td>1000</td>\n",
       "    </tr>\n",
       "    <tr>\n",
       "      <td>5</td>\n",
       "      <td>1000_5</td>\n",
       "      <td>2018-11-02</td>\n",
       "      <td>0.000000</td>\n",
       "      <td>1000</td>\n",
       "    </tr>\n",
       "    <tr>\n",
       "      <td>6</td>\n",
       "      <td>1000_6</td>\n",
       "      <td>2018-10-18</td>\n",
       "      <td>0.000000</td>\n",
       "      <td>1000</td>\n",
       "    </tr>\n",
       "    <tr>\n",
       "      <td>7</td>\n",
       "      <td>1000_7</td>\n",
       "      <td>2018-08-22</td>\n",
       "      <td>18.310000</td>\n",
       "      <td>1000</td>\n",
       "    </tr>\n",
       "    <tr>\n",
       "      <td>8</td>\n",
       "      <td>1000_8</td>\n",
       "      <td>2018-09-15</td>\n",
       "      <td>18.440000</td>\n",
       "      <td>1000</td>\n",
       "    </tr>\n",
       "    <tr>\n",
       "      <td>9</td>\n",
       "      <td>1000_9</td>\n",
       "      <td>2018-08-15</td>\n",
       "      <td>0.000000</td>\n",
       "      <td>1000</td>\n",
       "    </tr>\n",
       "  </tbody>\n",
       "</table>\n",
       "</div>"
      ],
      "text/plain": [
       "       id   call_date  duration  user_id\n",
       "0  1000_0  2018-07-25  0.000000     1000\n",
       "1  1000_1  2018-08-17  0.000000     1000\n",
       "2  1000_2  2018-06-11  2.850000     1000\n",
       "3  1000_3  2018-09-21 13.800000     1000\n",
       "4  1000_4  2018-12-15  5.180000     1000\n",
       "5  1000_5  2018-11-02  0.000000     1000\n",
       "6  1000_6  2018-10-18  0.000000     1000\n",
       "7  1000_7  2018-08-22 18.310000     1000\n",
       "8  1000_8  2018-09-15 18.440000     1000\n",
       "9  1000_9  2018-08-15  0.000000     1000"
      ]
     },
     "execution_count": 4,
     "metadata": {},
     "output_type": "execute_result"
    }
   ],
   "source": [
    "# Просматриваем датасет с информацией о звонках\n",
    "df_calls.info()\n",
    "df_calls.head(10)"
   ]
  },
  {
   "cell_type": "code",
   "execution_count": 5,
   "metadata": {},
   "outputs": [],
   "source": [
    "#df_calls['duration'].plot(kind='hist', bins = 39, color=\"dodgerblue\", figsize=(10, 5))"
   ]
  },
  {
   "cell_type": "code",
   "execution_count": 6,
   "metadata": {},
   "outputs": [
    {
     "name": "stdout",
     "output_type": "stream",
     "text": [
      "<class 'pandas.core.frame.DataFrame'>\n",
      "RangeIndex: 149396 entries, 0 to 149395\n",
      "Data columns (total 5 columns):\n",
      "Unnamed: 0      149396 non-null int64\n",
      "id              149396 non-null object\n",
      "mb_used         149396 non-null float64\n",
      "session_date    149396 non-null object\n",
      "user_id         149396 non-null int64\n",
      "dtypes: float64(1), int64(2), object(2)\n",
      "memory usage: 5.7+ MB\n"
     ]
    },
    {
     "data": {
      "text/html": [
       "<div>\n",
       "<style scoped>\n",
       "    .dataframe tbody tr th:only-of-type {\n",
       "        vertical-align: middle;\n",
       "    }\n",
       "\n",
       "    .dataframe tbody tr th {\n",
       "        vertical-align: top;\n",
       "    }\n",
       "\n",
       "    .dataframe thead th {\n",
       "        text-align: right;\n",
       "    }\n",
       "</style>\n",
       "<table border=\"1\" class=\"dataframe\">\n",
       "  <thead>\n",
       "    <tr style=\"text-align: right;\">\n",
       "      <th></th>\n",
       "      <th>Unnamed: 0</th>\n",
       "      <th>id</th>\n",
       "      <th>mb_used</th>\n",
       "      <th>session_date</th>\n",
       "      <th>user_id</th>\n",
       "    </tr>\n",
       "  </thead>\n",
       "  <tbody>\n",
       "    <tr>\n",
       "      <td>0</td>\n",
       "      <td>0</td>\n",
       "      <td>1000_0</td>\n",
       "      <td>112.950000</td>\n",
       "      <td>2018-11-25</td>\n",
       "      <td>1000</td>\n",
       "    </tr>\n",
       "    <tr>\n",
       "      <td>1</td>\n",
       "      <td>1</td>\n",
       "      <td>1000_1</td>\n",
       "      <td>1052.810000</td>\n",
       "      <td>2018-09-07</td>\n",
       "      <td>1000</td>\n",
       "    </tr>\n",
       "    <tr>\n",
       "      <td>2</td>\n",
       "      <td>2</td>\n",
       "      <td>1000_2</td>\n",
       "      <td>1197.260000</td>\n",
       "      <td>2018-06-25</td>\n",
       "      <td>1000</td>\n",
       "    </tr>\n",
       "    <tr>\n",
       "      <td>3</td>\n",
       "      <td>3</td>\n",
       "      <td>1000_3</td>\n",
       "      <td>550.270000</td>\n",
       "      <td>2018-08-22</td>\n",
       "      <td>1000</td>\n",
       "    </tr>\n",
       "    <tr>\n",
       "      <td>4</td>\n",
       "      <td>4</td>\n",
       "      <td>1000_4</td>\n",
       "      <td>302.560000</td>\n",
       "      <td>2018-09-24</td>\n",
       "      <td>1000</td>\n",
       "    </tr>\n",
       "    <tr>\n",
       "      <td>5</td>\n",
       "      <td>5</td>\n",
       "      <td>1000_5</td>\n",
       "      <td>399.970000</td>\n",
       "      <td>2018-10-02</td>\n",
       "      <td>1000</td>\n",
       "    </tr>\n",
       "    <tr>\n",
       "      <td>6</td>\n",
       "      <td>6</td>\n",
       "      <td>1000_6</td>\n",
       "      <td>540.080000</td>\n",
       "      <td>2018-09-07</td>\n",
       "      <td>1000</td>\n",
       "    </tr>\n",
       "    <tr>\n",
       "      <td>7</td>\n",
       "      <td>7</td>\n",
       "      <td>1000_7</td>\n",
       "      <td>415.700000</td>\n",
       "      <td>2018-07-11</td>\n",
       "      <td>1000</td>\n",
       "    </tr>\n",
       "    <tr>\n",
       "      <td>8</td>\n",
       "      <td>8</td>\n",
       "      <td>1000_8</td>\n",
       "      <td>505.400000</td>\n",
       "      <td>2018-10-08</td>\n",
       "      <td>1000</td>\n",
       "    </tr>\n",
       "    <tr>\n",
       "      <td>9</td>\n",
       "      <td>9</td>\n",
       "      <td>1000_9</td>\n",
       "      <td>345.540000</td>\n",
       "      <td>2018-09-03</td>\n",
       "      <td>1000</td>\n",
       "    </tr>\n",
       "  </tbody>\n",
       "</table>\n",
       "</div>"
      ],
      "text/plain": [
       "   Unnamed: 0      id     mb_used session_date  user_id\n",
       "0           0  1000_0  112.950000   2018-11-25     1000\n",
       "1           1  1000_1 1052.810000   2018-09-07     1000\n",
       "2           2  1000_2 1197.260000   2018-06-25     1000\n",
       "3           3  1000_3  550.270000   2018-08-22     1000\n",
       "4           4  1000_4  302.560000   2018-09-24     1000\n",
       "5           5  1000_5  399.970000   2018-10-02     1000\n",
       "6           6  1000_6  540.080000   2018-09-07     1000\n",
       "7           7  1000_7  415.700000   2018-07-11     1000\n",
       "8           8  1000_8  505.400000   2018-10-08     1000\n",
       "9           9  1000_9  345.540000   2018-09-03     1000"
      ]
     },
     "execution_count": 6,
     "metadata": {},
     "output_type": "execute_result"
    }
   ],
   "source": [
    "# Просматриваем датасет с информацией об интернет сессиях\n",
    "df_internet.info()\n",
    "df_internet.head(10)"
   ]
  },
  {
   "cell_type": "code",
   "execution_count": 7,
   "metadata": {},
   "outputs": [],
   "source": [
    "#df_internet['mb_used'].plot(kind='hist', bins = 39, color=\"dodgerblue\", figsize=(10, 5))"
   ]
  },
  {
   "cell_type": "code",
   "execution_count": 8,
   "metadata": {},
   "outputs": [
    {
     "name": "stdout",
     "output_type": "stream",
     "text": [
      "<class 'pandas.core.frame.DataFrame'>\n",
      "RangeIndex: 123036 entries, 0 to 123035\n",
      "Data columns (total 3 columns):\n",
      "id              123036 non-null object\n",
      "message_date    123036 non-null object\n",
      "user_id         123036 non-null int64\n",
      "dtypes: int64(1), object(2)\n",
      "memory usage: 2.8+ MB\n"
     ]
    },
    {
     "data": {
      "text/html": [
       "<div>\n",
       "<style scoped>\n",
       "    .dataframe tbody tr th:only-of-type {\n",
       "        vertical-align: middle;\n",
       "    }\n",
       "\n",
       "    .dataframe tbody tr th {\n",
       "        vertical-align: top;\n",
       "    }\n",
       "\n",
       "    .dataframe thead th {\n",
       "        text-align: right;\n",
       "    }\n",
       "</style>\n",
       "<table border=\"1\" class=\"dataframe\">\n",
       "  <thead>\n",
       "    <tr style=\"text-align: right;\">\n",
       "      <th></th>\n",
       "      <th>id</th>\n",
       "      <th>message_date</th>\n",
       "      <th>user_id</th>\n",
       "    </tr>\n",
       "  </thead>\n",
       "  <tbody>\n",
       "    <tr>\n",
       "      <td>0</td>\n",
       "      <td>1000_0</td>\n",
       "      <td>2018-06-27</td>\n",
       "      <td>1000</td>\n",
       "    </tr>\n",
       "    <tr>\n",
       "      <td>1</td>\n",
       "      <td>1000_1</td>\n",
       "      <td>2018-10-08</td>\n",
       "      <td>1000</td>\n",
       "    </tr>\n",
       "    <tr>\n",
       "      <td>2</td>\n",
       "      <td>1000_2</td>\n",
       "      <td>2018-08-04</td>\n",
       "      <td>1000</td>\n",
       "    </tr>\n",
       "    <tr>\n",
       "      <td>3</td>\n",
       "      <td>1000_3</td>\n",
       "      <td>2018-06-16</td>\n",
       "      <td>1000</td>\n",
       "    </tr>\n",
       "    <tr>\n",
       "      <td>4</td>\n",
       "      <td>1000_4</td>\n",
       "      <td>2018-12-05</td>\n",
       "      <td>1000</td>\n",
       "    </tr>\n",
       "    <tr>\n",
       "      <td>5</td>\n",
       "      <td>1000_5</td>\n",
       "      <td>2018-06-20</td>\n",
       "      <td>1000</td>\n",
       "    </tr>\n",
       "    <tr>\n",
       "      <td>6</td>\n",
       "      <td>1000_6</td>\n",
       "      <td>2018-11-19</td>\n",
       "      <td>1000</td>\n",
       "    </tr>\n",
       "    <tr>\n",
       "      <td>7</td>\n",
       "      <td>1000_7</td>\n",
       "      <td>2018-10-29</td>\n",
       "      <td>1000</td>\n",
       "    </tr>\n",
       "    <tr>\n",
       "      <td>8</td>\n",
       "      <td>1000_8</td>\n",
       "      <td>2018-06-25</td>\n",
       "      <td>1000</td>\n",
       "    </tr>\n",
       "    <tr>\n",
       "      <td>9</td>\n",
       "      <td>1000_9</td>\n",
       "      <td>2018-12-18</td>\n",
       "      <td>1000</td>\n",
       "    </tr>\n",
       "  </tbody>\n",
       "</table>\n",
       "</div>"
      ],
      "text/plain": [
       "       id message_date  user_id\n",
       "0  1000_0   2018-06-27     1000\n",
       "1  1000_1   2018-10-08     1000\n",
       "2  1000_2   2018-08-04     1000\n",
       "3  1000_3   2018-06-16     1000\n",
       "4  1000_4   2018-12-05     1000\n",
       "5  1000_5   2018-06-20     1000\n",
       "6  1000_6   2018-11-19     1000\n",
       "7  1000_7   2018-10-29     1000\n",
       "8  1000_8   2018-06-25     1000\n",
       "9  1000_9   2018-12-18     1000"
      ]
     },
     "execution_count": 8,
     "metadata": {},
     "output_type": "execute_result"
    }
   ],
   "source": [
    "# Просматриваем датасет с информацией о сообщениях\n",
    "df_messages.info()\n",
    "df_messages.head(10)"
   ]
  },
  {
   "cell_type": "code",
   "execution_count": 9,
   "metadata": {},
   "outputs": [
    {
     "name": "stdout",
     "output_type": "stream",
     "text": [
      "<class 'pandas.core.frame.DataFrame'>\n",
      "RangeIndex: 2 entries, 0 to 1\n",
      "Data columns (total 8 columns):\n",
      "messages_included        2 non-null int64\n",
      "mb_per_month_included    2 non-null int64\n",
      "minutes_included         2 non-null int64\n",
      "rub_monthly_fee          2 non-null int64\n",
      "rub_per_gb               2 non-null int64\n",
      "rub_per_message          2 non-null int64\n",
      "rub_per_minute           2 non-null int64\n",
      "tariff_name              2 non-null object\n",
      "dtypes: int64(7), object(1)\n",
      "memory usage: 256.0+ bytes\n"
     ]
    },
    {
     "data": {
      "text/html": [
       "<div>\n",
       "<style scoped>\n",
       "    .dataframe tbody tr th:only-of-type {\n",
       "        vertical-align: middle;\n",
       "    }\n",
       "\n",
       "    .dataframe tbody tr th {\n",
       "        vertical-align: top;\n",
       "    }\n",
       "\n",
       "    .dataframe thead th {\n",
       "        text-align: right;\n",
       "    }\n",
       "</style>\n",
       "<table border=\"1\" class=\"dataframe\">\n",
       "  <thead>\n",
       "    <tr style=\"text-align: right;\">\n",
       "      <th></th>\n",
       "      <th>messages_included</th>\n",
       "      <th>mb_per_month_included</th>\n",
       "      <th>minutes_included</th>\n",
       "      <th>rub_monthly_fee</th>\n",
       "      <th>rub_per_gb</th>\n",
       "      <th>rub_per_message</th>\n",
       "      <th>rub_per_minute</th>\n",
       "      <th>tariff_name</th>\n",
       "    </tr>\n",
       "  </thead>\n",
       "  <tbody>\n",
       "    <tr>\n",
       "      <td>0</td>\n",
       "      <td>50</td>\n",
       "      <td>15360</td>\n",
       "      <td>500</td>\n",
       "      <td>550</td>\n",
       "      <td>200</td>\n",
       "      <td>3</td>\n",
       "      <td>3</td>\n",
       "      <td>smart</td>\n",
       "    </tr>\n",
       "    <tr>\n",
       "      <td>1</td>\n",
       "      <td>1000</td>\n",
       "      <td>30720</td>\n",
       "      <td>3000</td>\n",
       "      <td>1950</td>\n",
       "      <td>150</td>\n",
       "      <td>1</td>\n",
       "      <td>1</td>\n",
       "      <td>ultra</td>\n",
       "    </tr>\n",
       "  </tbody>\n",
       "</table>\n",
       "</div>"
      ],
      "text/plain": [
       "   messages_included  mb_per_month_included  minutes_included  \\\n",
       "0                 50                  15360               500   \n",
       "1               1000                  30720              3000   \n",
       "\n",
       "   rub_monthly_fee  rub_per_gb  rub_per_message  rub_per_minute tariff_name  \n",
       "0              550         200                3               3       smart  \n",
       "1             1950         150                1               1       ultra  "
      ]
     },
     "execution_count": 9,
     "metadata": {},
     "output_type": "execute_result"
    }
   ],
   "source": [
    "# Просматриваем датасет с информацией о тарифах\n",
    "df_tariffs.info()\n",
    "df_tariffs.head(10)"
   ]
  },
  {
   "cell_type": "code",
   "execution_count": 10,
   "metadata": {},
   "outputs": [
    {
     "name": "stdout",
     "output_type": "stream",
     "text": [
      "<class 'pandas.core.frame.DataFrame'>\n",
      "RangeIndex: 500 entries, 0 to 499\n",
      "Data columns (total 8 columns):\n",
      "user_id       500 non-null int64\n",
      "age           500 non-null int64\n",
      "churn_date    38 non-null object\n",
      "city          500 non-null object\n",
      "first_name    500 non-null object\n",
      "last_name     500 non-null object\n",
      "reg_date      500 non-null object\n",
      "tariff        500 non-null object\n",
      "dtypes: int64(2), object(6)\n",
      "memory usage: 31.4+ KB\n"
     ]
    },
    {
     "data": {
      "text/html": [
       "<div>\n",
       "<style scoped>\n",
       "    .dataframe tbody tr th:only-of-type {\n",
       "        vertical-align: middle;\n",
       "    }\n",
       "\n",
       "    .dataframe tbody tr th {\n",
       "        vertical-align: top;\n",
       "    }\n",
       "\n",
       "    .dataframe thead th {\n",
       "        text-align: right;\n",
       "    }\n",
       "</style>\n",
       "<table border=\"1\" class=\"dataframe\">\n",
       "  <thead>\n",
       "    <tr style=\"text-align: right;\">\n",
       "      <th></th>\n",
       "      <th>user_id</th>\n",
       "      <th>age</th>\n",
       "      <th>churn_date</th>\n",
       "      <th>city</th>\n",
       "      <th>first_name</th>\n",
       "      <th>last_name</th>\n",
       "      <th>reg_date</th>\n",
       "      <th>tariff</th>\n",
       "    </tr>\n",
       "  </thead>\n",
       "  <tbody>\n",
       "    <tr>\n",
       "      <td>0</td>\n",
       "      <td>1000</td>\n",
       "      <td>52</td>\n",
       "      <td>NaN</td>\n",
       "      <td>Краснодар</td>\n",
       "      <td>Рафаил</td>\n",
       "      <td>Верещагин</td>\n",
       "      <td>2018-05-25</td>\n",
       "      <td>ultra</td>\n",
       "    </tr>\n",
       "    <tr>\n",
       "      <td>1</td>\n",
       "      <td>1001</td>\n",
       "      <td>41</td>\n",
       "      <td>NaN</td>\n",
       "      <td>Москва</td>\n",
       "      <td>Иван</td>\n",
       "      <td>Ежов</td>\n",
       "      <td>2018-11-01</td>\n",
       "      <td>smart</td>\n",
       "    </tr>\n",
       "    <tr>\n",
       "      <td>2</td>\n",
       "      <td>1002</td>\n",
       "      <td>59</td>\n",
       "      <td>NaN</td>\n",
       "      <td>Стерлитамак</td>\n",
       "      <td>Евгений</td>\n",
       "      <td>Абрамович</td>\n",
       "      <td>2018-06-17</td>\n",
       "      <td>smart</td>\n",
       "    </tr>\n",
       "    <tr>\n",
       "      <td>3</td>\n",
       "      <td>1003</td>\n",
       "      <td>23</td>\n",
       "      <td>NaN</td>\n",
       "      <td>Москва</td>\n",
       "      <td>Белла</td>\n",
       "      <td>Белякова</td>\n",
       "      <td>2018-08-17</td>\n",
       "      <td>ultra</td>\n",
       "    </tr>\n",
       "    <tr>\n",
       "      <td>4</td>\n",
       "      <td>1004</td>\n",
       "      <td>68</td>\n",
       "      <td>NaN</td>\n",
       "      <td>Новокузнецк</td>\n",
       "      <td>Татьяна</td>\n",
       "      <td>Авдеенко</td>\n",
       "      <td>2018-05-14</td>\n",
       "      <td>ultra</td>\n",
       "    </tr>\n",
       "    <tr>\n",
       "      <td>5</td>\n",
       "      <td>1005</td>\n",
       "      <td>67</td>\n",
       "      <td>NaN</td>\n",
       "      <td>Набережные Челны</td>\n",
       "      <td>Афанасий</td>\n",
       "      <td>Горлов</td>\n",
       "      <td>2018-01-25</td>\n",
       "      <td>smart</td>\n",
       "    </tr>\n",
       "    <tr>\n",
       "      <td>6</td>\n",
       "      <td>1006</td>\n",
       "      <td>21</td>\n",
       "      <td>NaN</td>\n",
       "      <td>Ульяновск</td>\n",
       "      <td>Леонид</td>\n",
       "      <td>Ермолаев</td>\n",
       "      <td>2018-02-26</td>\n",
       "      <td>smart</td>\n",
       "    </tr>\n",
       "    <tr>\n",
       "      <td>7</td>\n",
       "      <td>1007</td>\n",
       "      <td>65</td>\n",
       "      <td>NaN</td>\n",
       "      <td>Москва</td>\n",
       "      <td>Юна</td>\n",
       "      <td>Березина</td>\n",
       "      <td>2018-04-19</td>\n",
       "      <td>smart</td>\n",
       "    </tr>\n",
       "    <tr>\n",
       "      <td>8</td>\n",
       "      <td>1008</td>\n",
       "      <td>63</td>\n",
       "      <td>NaN</td>\n",
       "      <td>Челябинск</td>\n",
       "      <td>Рустэм</td>\n",
       "      <td>Пономарёв</td>\n",
       "      <td>2018-12-19</td>\n",
       "      <td>smart</td>\n",
       "    </tr>\n",
       "    <tr>\n",
       "      <td>9</td>\n",
       "      <td>1009</td>\n",
       "      <td>24</td>\n",
       "      <td>NaN</td>\n",
       "      <td>Пермь</td>\n",
       "      <td>Василиса</td>\n",
       "      <td>Блинова</td>\n",
       "      <td>2018-03-22</td>\n",
       "      <td>smart</td>\n",
       "    </tr>\n",
       "  </tbody>\n",
       "</table>\n",
       "</div>"
      ],
      "text/plain": [
       "   user_id  age churn_date              city first_name  last_name  \\\n",
       "0     1000   52        NaN         Краснодар     Рафаил  Верещагин   \n",
       "1     1001   41        NaN            Москва       Иван       Ежов   \n",
       "2     1002   59        NaN       Стерлитамак    Евгений  Абрамович   \n",
       "3     1003   23        NaN            Москва      Белла   Белякова   \n",
       "4     1004   68        NaN       Новокузнецк    Татьяна   Авдеенко   \n",
       "5     1005   67        NaN  Набережные Челны   Афанасий     Горлов   \n",
       "6     1006   21        NaN         Ульяновск     Леонид   Ермолаев   \n",
       "7     1007   65        NaN            Москва        Юна   Березина   \n",
       "8     1008   63        NaN         Челябинск     Рустэм  Пономарёв   \n",
       "9     1009   24        NaN             Пермь   Василиса    Блинова   \n",
       "\n",
       "     reg_date tariff  \n",
       "0  2018-05-25  ultra  \n",
       "1  2018-11-01  smart  \n",
       "2  2018-06-17  smart  \n",
       "3  2018-08-17  ultra  \n",
       "4  2018-05-14  ultra  \n",
       "5  2018-01-25  smart  \n",
       "6  2018-02-26  smart  \n",
       "7  2018-04-19  smart  \n",
       "8  2018-12-19  smart  \n",
       "9  2018-03-22  smart  "
      ]
     },
     "execution_count": 10,
     "metadata": {},
     "output_type": "execute_result"
    }
   ],
   "source": [
    "# Просматриваем датасет с информацией о пользователях\n",
    "df_users.info()\n",
    "df_users.head(10)"
   ]
  },
  {
   "cell_type": "markdown",
   "metadata": {},
   "source": [
    "***\n",
    "### Вывод\n",
    "Определили объём и формат данных:\n",
    "* 500 клиентов\n",
    "* 202607 звонков\n",
    "* 149396 интернет сессий\n",
    "* 123036 сообщений\n",
    "\n",
    "> *Пропущенные значения отсутствуют (кроме параметра churn_date в таблице users, который принимает значение NaN, если тариф действующий)*\n",
    "\n",
    "\n",
    "\n",
    "В датасете **df_calls** с информацией о звонках столбец с датой звонка имет неверный тип данных - строчный.\n",
    "Также столбец с длительностью звонка стоит округлить в соответсвии с условиями тарифов.\n",
    "<br>\n",
    "<br>\n",
    "В датасете **df_internet** с информацией об интернет трафике есть ненужный столбец 'unnamed 0', повторяющий индексы. Аналогично - неверный тип данныху столбца со временем. Данные в столбце с использованными мегабайтами стоит округлить в соответсвии с условием тарифов.\n",
    "<br>\n",
    "<br>\n",
    "В датасете **df_messages** с информацией о сообщениях у даты неверный тип данных.\n",
    "<br>\n",
    "<br>\n",
    "В датасете **df_users** с информацией о пользователях имеются пропуски в дате прекращения пользования тарифом, связано с тем, что на момент извлечения данных клиент продолжал пользоваться тарифом. У даты регистрации тоже неверный формат данных.\n",
    "\n"
   ]
  },
  {
   "cell_type": "markdown",
   "metadata": {},
   "source": [
    "## Предобработка данных"
   ]
  },
  {
   "cell_type": "markdown",
   "metadata": {},
   "source": [
    "### Замена типов данных, обнаружение ошибок, проверка дубликатов."
   ]
  },
  {
   "cell_type": "markdown",
   "metadata": {},
   "source": [
    "<br>\n",
    "<br>\n",
    "<font size='4' color=#708090>Обработаем таблицу calls (информация о звонках)</font>"
   ]
  },
  {
   "cell_type": "code",
   "execution_count": 11,
   "metadata": {},
   "outputs": [],
   "source": [
    "# Преобразуем столбец call_date к типу datetime\n",
    "df_calls['call_date'] = pd.to_datetime(df_calls['call_date'],format='%Y-%m-%d')"
   ]
  },
  {
   "cell_type": "code",
   "execution_count": 12,
   "metadata": {},
   "outputs": [],
   "source": [
    "# По условиям тарифа округлим до бо́льшего целого значения израсходованный трафик в каждой сессии\n",
    "df_calls.loc[:, 'duration'] = df_calls.loc[:, 'duration'].apply(lambda x: math.ceil(x))"
   ]
  },
  {
   "cell_type": "code",
   "execution_count": 13,
   "metadata": {},
   "outputs": [
    {
     "data": {
      "text/html": [
       "<div>\n",
       "<style scoped>\n",
       "    .dataframe tbody tr th:only-of-type {\n",
       "        vertical-align: middle;\n",
       "    }\n",
       "\n",
       "    .dataframe tbody tr th {\n",
       "        vertical-align: top;\n",
       "    }\n",
       "\n",
       "    .dataframe thead th {\n",
       "        text-align: right;\n",
       "    }\n",
       "</style>\n",
       "<table border=\"1\" class=\"dataframe\">\n",
       "  <thead>\n",
       "    <tr style=\"text-align: right;\">\n",
       "      <th></th>\n",
       "      <th>id</th>\n",
       "      <th>call_date</th>\n",
       "      <th>duration</th>\n",
       "      <th>user_id</th>\n",
       "      <th>month</th>\n",
       "    </tr>\n",
       "  </thead>\n",
       "  <tbody>\n",
       "    <tr>\n",
       "      <td>0</td>\n",
       "      <td>1000_0</td>\n",
       "      <td>2018-07-25</td>\n",
       "      <td>0</td>\n",
       "      <td>1000</td>\n",
       "      <td>7</td>\n",
       "    </tr>\n",
       "    <tr>\n",
       "      <td>1</td>\n",
       "      <td>1000_1</td>\n",
       "      <td>2018-08-17</td>\n",
       "      <td>0</td>\n",
       "      <td>1000</td>\n",
       "      <td>8</td>\n",
       "    </tr>\n",
       "  </tbody>\n",
       "</table>\n",
       "</div>"
      ],
      "text/plain": [
       "       id  call_date  duration  user_id  month\n",
       "0  1000_0 2018-07-25         0     1000      7\n",
       "1  1000_1 2018-08-17         0     1000      8"
      ]
     },
     "execution_count": 13,
     "metadata": {},
     "output_type": "execute_result"
    }
   ],
   "source": [
    "# Создадим столбец с месяцом\n",
    "df_calls['month'] = df_calls['call_date'].dt.month\n",
    "df_calls.head(2)"
   ]
  },
  {
   "cell_type": "code",
   "execution_count": 14,
   "metadata": {},
   "outputs": [
    {
     "data": {
      "text/plain": [
       "39613"
      ]
     },
     "execution_count": 14,
     "metadata": {},
     "output_type": "execute_result"
    }
   ],
   "source": [
    "#Посмотрим количество звонков со значением 0\n",
    "df_calls[df_calls['duration'] == 0.0].shape[0]"
   ]
  },
  {
   "cell_type": "markdown",
   "metadata": {},
   "source": [
    "Длительность 19.5% звонков — 0.0 минут. Это могут быть пропущенные звонки либо звонки, когда клиент не дозвонился до адресата. Оставим их как есть. К тому же, они никак не повлияют на сумму использованных минут."
   ]
  },
  {
   "cell_type": "code",
   "execution_count": 15,
   "metadata": {},
   "outputs": [
    {
     "data": {
      "text/plain": [
       "0"
      ]
     },
     "execution_count": 15,
     "metadata": {},
     "output_type": "execute_result"
    }
   ],
   "source": [
    "# Проверяем на наличие дубликатов\n",
    "df_calls.duplicated().sum()"
   ]
  },
  {
   "cell_type": "markdown",
   "metadata": {},
   "source": [
    "<br>\n",
    "<br>\n",
    "<font size='4' color=#708090>Обработаем таблицу internet (информация об интернет-сессиях)\n",
    "</font>"
   ]
  },
  {
   "cell_type": "code",
   "execution_count": 16,
   "metadata": {},
   "outputs": [],
   "source": [
    "# Удалим столбец дублирующий индекс 'Unnamed: 0'\n",
    "del df_internet['Unnamed: 0']"
   ]
  },
  {
   "cell_type": "code",
   "execution_count": 17,
   "metadata": {},
   "outputs": [],
   "source": [
    "# Преобразуем столбец session_date к типу datetime\n",
    "df_internet['session_date'] = pd.to_datetime(df_internet['session_date'],format='%Y-%m-%d')"
   ]
  },
  {
   "cell_type": "code",
   "execution_count": 18,
   "metadata": {},
   "outputs": [],
   "source": [
    "# По условиям тарифа округлим до бо́льшего целого значения израсходованный трафик в каждой сессии\n",
    "df_internet.loc[:, 'mb_used'] = df_internet.loc[:, 'mb_used'].apply(lambda x: math.ceil(x))"
   ]
  },
  {
   "cell_type": "code",
   "execution_count": 19,
   "metadata": {},
   "outputs": [],
   "source": [
    "# Cоздадим столбец с месяцом\n",
    "df_internet['month'] = df_internet['session_date'].dt.month"
   ]
  },
  {
   "cell_type": "code",
   "execution_count": 20,
   "metadata": {},
   "outputs": [
    {
     "data": {
      "text/html": [
       "<div>\n",
       "<style scoped>\n",
       "    .dataframe tbody tr th:only-of-type {\n",
       "        vertical-align: middle;\n",
       "    }\n",
       "\n",
       "    .dataframe tbody tr th {\n",
       "        vertical-align: top;\n",
       "    }\n",
       "\n",
       "    .dataframe thead th {\n",
       "        text-align: right;\n",
       "    }\n",
       "</style>\n",
       "<table border=\"1\" class=\"dataframe\">\n",
       "  <thead>\n",
       "    <tr style=\"text-align: right;\">\n",
       "      <th></th>\n",
       "      <th>id</th>\n",
       "      <th>mb_used</th>\n",
       "      <th>session_date</th>\n",
       "      <th>user_id</th>\n",
       "      <th>month</th>\n",
       "    </tr>\n",
       "  </thead>\n",
       "  <tbody>\n",
       "    <tr>\n",
       "      <td>0</td>\n",
       "      <td>1000_0</td>\n",
       "      <td>113</td>\n",
       "      <td>2018-11-25</td>\n",
       "      <td>1000</td>\n",
       "      <td>11</td>\n",
       "    </tr>\n",
       "    <tr>\n",
       "      <td>1</td>\n",
       "      <td>1000_1</td>\n",
       "      <td>1053</td>\n",
       "      <td>2018-09-07</td>\n",
       "      <td>1000</td>\n",
       "      <td>9</td>\n",
       "    </tr>\n",
       "  </tbody>\n",
       "</table>\n",
       "</div>"
      ],
      "text/plain": [
       "       id  mb_used session_date  user_id  month\n",
       "0  1000_0      113   2018-11-25     1000     11\n",
       "1  1000_1     1053   2018-09-07     1000      9"
      ]
     },
     "execution_count": 20,
     "metadata": {},
     "output_type": "execute_result"
    }
   ],
   "source": [
    "df_internet.head(2)"
   ]
  },
  {
   "cell_type": "code",
   "execution_count": 21,
   "metadata": {},
   "outputs": [
    {
     "data": {
      "text/plain": [
       "19598"
      ]
     },
     "execution_count": 21,
     "metadata": {},
     "output_type": "execute_result"
    }
   ],
   "source": [
    "# Проверим есть ли строки с 0 значением использованного трафика\n",
    "df_internet[df_internet['mb_used'] == 0.0].shape[0]"
   ]
  },
  {
   "cell_type": "markdown",
   "metadata": {},
   "source": [
    "Сессий с нулевым объёмом трафика около 13% от общего количества. Нулевой объём трафика может быть связан с отсутствием интернет соединения, или отменой сессии до начала передачи трафика. Оставим данные как есть."
   ]
  },
  {
   "cell_type": "code",
   "execution_count": 22,
   "metadata": {},
   "outputs": [
    {
     "data": {
      "text/plain": [
       "0"
      ]
     },
     "execution_count": 22,
     "metadata": {},
     "output_type": "execute_result"
    }
   ],
   "source": [
    "# проверяем на наличие дубликатов\n",
    "df_internet.duplicated().sum()"
   ]
  },
  {
   "cell_type": "markdown",
   "metadata": {},
   "source": [
    "<br>\n",
    "<br>\n",
    "<font size='4' color=#708090>Обработаем таблицу messages (информация о сообщениях)</font>"
   ]
  },
  {
   "cell_type": "code",
   "execution_count": 23,
   "metadata": {},
   "outputs": [],
   "source": [
    "# Преобразуем столбец message_date к типу datetime\n",
    "df_messages['message_date'] = pd.to_datetime(df_messages['message_date'],format='%Y-%m-%d')"
   ]
  },
  {
   "cell_type": "code",
   "execution_count": 24,
   "metadata": {},
   "outputs": [
    {
     "data": {
      "text/html": [
       "<div>\n",
       "<style scoped>\n",
       "    .dataframe tbody tr th:only-of-type {\n",
       "        vertical-align: middle;\n",
       "    }\n",
       "\n",
       "    .dataframe tbody tr th {\n",
       "        vertical-align: top;\n",
       "    }\n",
       "\n",
       "    .dataframe thead th {\n",
       "        text-align: right;\n",
       "    }\n",
       "</style>\n",
       "<table border=\"1\" class=\"dataframe\">\n",
       "  <thead>\n",
       "    <tr style=\"text-align: right;\">\n",
       "      <th></th>\n",
       "      <th>id</th>\n",
       "      <th>message_date</th>\n",
       "      <th>user_id</th>\n",
       "      <th>month</th>\n",
       "    </tr>\n",
       "  </thead>\n",
       "  <tbody>\n",
       "    <tr>\n",
       "      <td>0</td>\n",
       "      <td>1000_0</td>\n",
       "      <td>2018-06-27</td>\n",
       "      <td>1000</td>\n",
       "      <td>6</td>\n",
       "    </tr>\n",
       "    <tr>\n",
       "      <td>1</td>\n",
       "      <td>1000_1</td>\n",
       "      <td>2018-10-08</td>\n",
       "      <td>1000</td>\n",
       "      <td>10</td>\n",
       "    </tr>\n",
       "  </tbody>\n",
       "</table>\n",
       "</div>"
      ],
      "text/plain": [
       "       id message_date  user_id  month\n",
       "0  1000_0   2018-06-27     1000      6\n",
       "1  1000_1   2018-10-08     1000     10"
      ]
     },
     "execution_count": 24,
     "metadata": {},
     "output_type": "execute_result"
    }
   ],
   "source": [
    "# Создадим столбец с месяцом\n",
    "df_messages['month'] = df_messages['message_date'].dt.month\n",
    "df_messages.head(2)"
   ]
  },
  {
   "cell_type": "code",
   "execution_count": 25,
   "metadata": {},
   "outputs": [
    {
     "data": {
      "text/plain": [
       "0"
      ]
     },
     "execution_count": 25,
     "metadata": {},
     "output_type": "execute_result"
    }
   ],
   "source": [
    "# проверяем на наличие дубликатов\n",
    "df_messages.duplicated().sum()"
   ]
  },
  {
   "cell_type": "markdown",
   "metadata": {},
   "source": [
    "<br>\n",
    "<br>\n",
    "<font size='4' color=#708090>Обработаем таблицу tariffs (информация о тарифах)</font>"
   ]
  },
  {
   "cell_type": "code",
   "execution_count": 26,
   "metadata": {},
   "outputs": [
    {
     "data": {
      "text/html": [
       "<div>\n",
       "<style scoped>\n",
       "    .dataframe tbody tr th:only-of-type {\n",
       "        vertical-align: middle;\n",
       "    }\n",
       "\n",
       "    .dataframe tbody tr th {\n",
       "        vertical-align: top;\n",
       "    }\n",
       "\n",
       "    .dataframe thead th {\n",
       "        text-align: right;\n",
       "    }\n",
       "</style>\n",
       "<table border=\"1\" class=\"dataframe\">\n",
       "  <thead>\n",
       "    <tr style=\"text-align: right;\">\n",
       "      <th></th>\n",
       "      <th>messages_included</th>\n",
       "      <th>mb_per_month_included</th>\n",
       "      <th>minutes_included</th>\n",
       "      <th>rub_monthly_fee</th>\n",
       "      <th>rub_per_gb</th>\n",
       "      <th>rub_per_message</th>\n",
       "      <th>rub_per_minute</th>\n",
       "      <th>tariff_name</th>\n",
       "    </tr>\n",
       "  </thead>\n",
       "  <tbody>\n",
       "    <tr>\n",
       "      <td>0</td>\n",
       "      <td>50</td>\n",
       "      <td>15360</td>\n",
       "      <td>500</td>\n",
       "      <td>550</td>\n",
       "      <td>200</td>\n",
       "      <td>3</td>\n",
       "      <td>3</td>\n",
       "      <td>smart</td>\n",
       "    </tr>\n",
       "    <tr>\n",
       "      <td>1</td>\n",
       "      <td>1000</td>\n",
       "      <td>30720</td>\n",
       "      <td>3000</td>\n",
       "      <td>1950</td>\n",
       "      <td>150</td>\n",
       "      <td>1</td>\n",
       "      <td>1</td>\n",
       "      <td>ultra</td>\n",
       "    </tr>\n",
       "  </tbody>\n",
       "</table>\n",
       "</div>"
      ],
      "text/plain": [
       "   messages_included  mb_per_month_included  minutes_included  \\\n",
       "0                 50                  15360               500   \n",
       "1               1000                  30720              3000   \n",
       "\n",
       "   rub_monthly_fee  rub_per_gb  rub_per_message  rub_per_minute tariff_name  \n",
       "0              550         200                3               3       smart  \n",
       "1             1950         150                1               1       ultra  "
      ]
     },
     "execution_count": 26,
     "metadata": {},
     "output_type": "execute_result"
    }
   ],
   "source": [
    "# Имеется всего 2 строки (2 тарифа), отсутствуют пропущенные значения и установленные типы данных правильные\n",
    "\n",
    "df_tariffs"
   ]
  },
  {
   "cell_type": "markdown",
   "metadata": {},
   "source": [
    "<br>\n",
    "<br>\n",
    "<font size='4' color=#708090>Обработаем таблицу users (информация о пользователях)</font>"
   ]
  },
  {
   "cell_type": "code",
   "execution_count": 27,
   "metadata": {},
   "outputs": [
    {
     "name": "stdout",
     "output_type": "stream",
     "text": [
      "<class 'pandas.core.frame.DataFrame'>\n",
      "RangeIndex: 500 entries, 0 to 499\n",
      "Data columns (total 8 columns):\n",
      "user_id       500 non-null int64\n",
      "age           500 non-null int64\n",
      "churn_date    38 non-null datetime64[ns]\n",
      "city          500 non-null object\n",
      "first_name    500 non-null object\n",
      "last_name     500 non-null object\n",
      "reg_date      500 non-null datetime64[ns]\n",
      "tariff        500 non-null object\n",
      "dtypes: datetime64[ns](2), int64(2), object(4)\n",
      "memory usage: 31.4+ KB\n"
     ]
    },
    {
     "data": {
      "text/html": [
       "<div>\n",
       "<style scoped>\n",
       "    .dataframe tbody tr th:only-of-type {\n",
       "        vertical-align: middle;\n",
       "    }\n",
       "\n",
       "    .dataframe tbody tr th {\n",
       "        vertical-align: top;\n",
       "    }\n",
       "\n",
       "    .dataframe thead th {\n",
       "        text-align: right;\n",
       "    }\n",
       "</style>\n",
       "<table border=\"1\" class=\"dataframe\">\n",
       "  <thead>\n",
       "    <tr style=\"text-align: right;\">\n",
       "      <th></th>\n",
       "      <th>user_id</th>\n",
       "      <th>age</th>\n",
       "      <th>churn_date</th>\n",
       "      <th>city</th>\n",
       "      <th>first_name</th>\n",
       "      <th>last_name</th>\n",
       "      <th>reg_date</th>\n",
       "      <th>tariff</th>\n",
       "    </tr>\n",
       "  </thead>\n",
       "  <tbody>\n",
       "    <tr>\n",
       "      <td>0</td>\n",
       "      <td>1000</td>\n",
       "      <td>52</td>\n",
       "      <td>NaT</td>\n",
       "      <td>Краснодар</td>\n",
       "      <td>Рафаил</td>\n",
       "      <td>Верещагин</td>\n",
       "      <td>2018-05-25</td>\n",
       "      <td>ultra</td>\n",
       "    </tr>\n",
       "    <tr>\n",
       "      <td>1</td>\n",
       "      <td>1001</td>\n",
       "      <td>41</td>\n",
       "      <td>NaT</td>\n",
       "      <td>Москва</td>\n",
       "      <td>Иван</td>\n",
       "      <td>Ежов</td>\n",
       "      <td>2018-11-01</td>\n",
       "      <td>smart</td>\n",
       "    </tr>\n",
       "    <tr>\n",
       "      <td>2</td>\n",
       "      <td>1002</td>\n",
       "      <td>59</td>\n",
       "      <td>NaT</td>\n",
       "      <td>Стерлитамак</td>\n",
       "      <td>Евгений</td>\n",
       "      <td>Абрамович</td>\n",
       "      <td>2018-06-17</td>\n",
       "      <td>smart</td>\n",
       "    </tr>\n",
       "    <tr>\n",
       "      <td>3</td>\n",
       "      <td>1003</td>\n",
       "      <td>23</td>\n",
       "      <td>NaT</td>\n",
       "      <td>Москва</td>\n",
       "      <td>Белла</td>\n",
       "      <td>Белякова</td>\n",
       "      <td>2018-08-17</td>\n",
       "      <td>ultra</td>\n",
       "    </tr>\n",
       "    <tr>\n",
       "      <td>4</td>\n",
       "      <td>1004</td>\n",
       "      <td>68</td>\n",
       "      <td>NaT</td>\n",
       "      <td>Новокузнецк</td>\n",
       "      <td>Татьяна</td>\n",
       "      <td>Авдеенко</td>\n",
       "      <td>2018-05-14</td>\n",
       "      <td>ultra</td>\n",
       "    </tr>\n",
       "  </tbody>\n",
       "</table>\n",
       "</div>"
      ],
      "text/plain": [
       "   user_id  age churn_date         city first_name  last_name   reg_date  \\\n",
       "0     1000   52        NaT    Краснодар     Рафаил  Верещагин 2018-05-25   \n",
       "1     1001   41        NaT       Москва       Иван       Ежов 2018-11-01   \n",
       "2     1002   59        NaT  Стерлитамак    Евгений  Абрамович 2018-06-17   \n",
       "3     1003   23        NaT       Москва      Белла   Белякова 2018-08-17   \n",
       "4     1004   68        NaT  Новокузнецк    Татьяна   Авдеенко 2018-05-14   \n",
       "\n",
       "  tariff  \n",
       "0  ultra  \n",
       "1  smart  \n",
       "2  smart  \n",
       "3  ultra  \n",
       "4  ultra  "
      ]
     },
     "execution_count": 27,
     "metadata": {},
     "output_type": "execute_result"
    }
   ],
   "source": [
    "# переводим столбцы 'churn_date' и 'reg_date' в df_users к нужному формату:\n",
    "df_users['churn_date'] = pd.to_datetime(df_users['churn_date'], format='%Y-%m-%d')\n",
    "df_users['reg_date'] = pd.to_datetime(df_users['reg_date'], format='%Y-%m-%d')\n",
    "\n",
    "# проверяем\n",
    "df_users.info()\n",
    "df_users.head()"
   ]
  },
  {
   "cell_type": "markdown",
   "metadata": {},
   "source": [
    "Пропущенные значения в 'churn_date' означают, что тариф еще действовал на момент выгрузки данных. Удалять не будем. "
   ]
  },
  {
   "cell_type": "code",
   "execution_count": 28,
   "metadata": {},
   "outputs": [
    {
     "data": {
      "text/plain": [
       "0"
      ]
     },
     "execution_count": 28,
     "metadata": {},
     "output_type": "execute_result"
    }
   ],
   "source": [
    "# проверяем на наличие дубликатов\n",
    "df_users.duplicated().sum()"
   ]
  },
  {
   "cell_type": "code",
   "execution_count": 29,
   "metadata": {},
   "outputs": [
    {
     "data": {
      "text/plain": [
       "users          500\n",
       "calls       202607\n",
       "internet    149396\n",
       "messages    123036\n",
       "dtype: int64"
      ]
     },
     "execution_count": 29,
     "metadata": {},
     "output_type": "execute_result"
    }
   ],
   "source": [
    "# Выведем получившиеся размеры датасетов после обработки\n",
    "\n",
    "len_dataframes = pd.Series(\n",
    "    data=[df_users.shape[0], df_calls.shape[0], df_internet.shape[0], df_messages.shape[0]],\n",
    "    index=['users', 'calls', 'internet', 'messages']\n",
    ")\n",
    "len_dataframes"
   ]
  },
  {
   "cell_type": "markdown",
   "metadata": {},
   "source": [
    "**<font size='4'>Вывод</font>**\n",
    "     \n",
    "* Выполнено преобразование типов данных в столбцах с датами в формат дат для всех датафреймов.\n",
    "* Выполнено округление длительности звонков в большую сторону с учетом особенности, что разговор в 1 секунду округляется до минуты, и преобразовано в целочисленные значения.\n",
    "* Обнаружены звонки длительностью 0 минут. Принято оставить эти звонки в датафрейме и посмотреть как они повлияют на анализ в дальнейшем.\n",
    "* Округлили объем интернет сессий в бо́льшую сторону и привели значение к целочисленному. \n",
    "* Удален столбец дублирующий индекс из данных по интернет трафику."
   ]
  },
  {
   "cell_type": "markdown",
   "metadata": {},
   "source": [
    "### Расчёт дополнительных параметров\n"
   ]
  },
  {
   "cell_type": "markdown",
   "metadata": {},
   "source": [
    "<br>\n",
    "<br>\n",
    "<font size='4' color=#708090>Посчитаем количество сделанных звонков и израсходованных минут разговора по месяцам</font>"
   ]
  },
  {
   "cell_type": "code",
   "execution_count": 30,
   "metadata": {},
   "outputs": [
    {
     "data": {
      "text/html": [
       "<div>\n",
       "<style scoped>\n",
       "    .dataframe tbody tr th:only-of-type {\n",
       "        vertical-align: middle;\n",
       "    }\n",
       "\n",
       "    .dataframe tbody tr th {\n",
       "        vertical-align: top;\n",
       "    }\n",
       "\n",
       "    .dataframe thead th {\n",
       "        text-align: right;\n",
       "    }\n",
       "</style>\n",
       "<table border=\"1\" class=\"dataframe\">\n",
       "  <thead>\n",
       "    <tr style=\"text-align: right;\">\n",
       "      <th></th>\n",
       "      <th>user_id</th>\n",
       "      <th>month</th>\n",
       "      <th>calls_count</th>\n",
       "      <th>calls_duration</th>\n",
       "    </tr>\n",
       "  </thead>\n",
       "  <tbody>\n",
       "    <tr>\n",
       "      <td>0</td>\n",
       "      <td>1000</td>\n",
       "      <td>5</td>\n",
       "      <td>22</td>\n",
       "      <td>159</td>\n",
       "    </tr>\n",
       "    <tr>\n",
       "      <td>1</td>\n",
       "      <td>1000</td>\n",
       "      <td>6</td>\n",
       "      <td>43</td>\n",
       "      <td>172</td>\n",
       "    </tr>\n",
       "    <tr>\n",
       "      <td>2</td>\n",
       "      <td>1000</td>\n",
       "      <td>7</td>\n",
       "      <td>47</td>\n",
       "      <td>340</td>\n",
       "    </tr>\n",
       "    <tr>\n",
       "      <td>3</td>\n",
       "      <td>1000</td>\n",
       "      <td>8</td>\n",
       "      <td>52</td>\n",
       "      <td>408</td>\n",
       "    </tr>\n",
       "    <tr>\n",
       "      <td>4</td>\n",
       "      <td>1000</td>\n",
       "      <td>9</td>\n",
       "      <td>58</td>\n",
       "      <td>466</td>\n",
       "    </tr>\n",
       "    <tr>\n",
       "      <td>...</td>\n",
       "      <td>...</td>\n",
       "      <td>...</td>\n",
       "      <td>...</td>\n",
       "      <td>...</td>\n",
       "    </tr>\n",
       "    <tr>\n",
       "      <td>3169</td>\n",
       "      <td>1498</td>\n",
       "      <td>10</td>\n",
       "      <td>41</td>\n",
       "      <td>247</td>\n",
       "    </tr>\n",
       "    <tr>\n",
       "      <td>3170</td>\n",
       "      <td>1499</td>\n",
       "      <td>9</td>\n",
       "      <td>9</td>\n",
       "      <td>70</td>\n",
       "    </tr>\n",
       "    <tr>\n",
       "      <td>3171</td>\n",
       "      <td>1499</td>\n",
       "      <td>10</td>\n",
       "      <td>68</td>\n",
       "      <td>449</td>\n",
       "    </tr>\n",
       "    <tr>\n",
       "      <td>3172</td>\n",
       "      <td>1499</td>\n",
       "      <td>11</td>\n",
       "      <td>74</td>\n",
       "      <td>612</td>\n",
       "    </tr>\n",
       "    <tr>\n",
       "      <td>3173</td>\n",
       "      <td>1499</td>\n",
       "      <td>12</td>\n",
       "      <td>69</td>\n",
       "      <td>492</td>\n",
       "    </tr>\n",
       "  </tbody>\n",
       "</table>\n",
       "<p>3174 rows × 4 columns</p>\n",
       "</div>"
      ],
      "text/plain": [
       "      user_id  month  calls_count  calls_duration\n",
       "0        1000      5           22             159\n",
       "1        1000      6           43             172\n",
       "2        1000      7           47             340\n",
       "3        1000      8           52             408\n",
       "4        1000      9           58             466\n",
       "...       ...    ...          ...             ...\n",
       "3169     1498     10           41             247\n",
       "3170     1499      9            9              70\n",
       "3171     1499     10           68             449\n",
       "3172     1499     11           74             612\n",
       "3173     1499     12           69             492\n",
       "\n",
       "[3174 rows x 4 columns]"
      ]
     },
     "execution_count": 30,
     "metadata": {},
     "output_type": "execute_result"
    }
   ],
   "source": [
    "# Cгруппируем данные по месяцам для расчёта кол-ва звонков и минут\n",
    "calls_month = df_calls.groupby(['user_id','month'])[['duration']].agg(['count','sum']).reset_index()\n",
    "calls_month.columns = ['user_id', 'month', 'calls_count', 'calls_duration']\n",
    "calls_month"
   ]
  },
  {
   "cell_type": "code",
   "execution_count": 31,
   "metadata": {},
   "outputs": [
    {
     "data": {
      "text/plain": [
       "True"
      ]
     },
     "execution_count": 31,
     "metadata": {},
     "output_type": "execute_result"
    }
   ],
   "source": [
    "# Проверим совпадает ли общая длительность звонков изначальной и сгруппрованной таблицы\n",
    "sum(df_calls['duration']) == sum(calls_month['calls_duration'])\n"
   ]
  },
  {
   "cell_type": "code",
   "execution_count": 32,
   "metadata": {},
   "outputs": [
    {
     "data": {
      "text/plain": [
       "True"
      ]
     },
     "execution_count": 32,
     "metadata": {},
     "output_type": "execute_result"
    }
   ],
   "source": [
    "# Проверим совпадает ли количество звонков изначальной и сгруппированной таблицы\n",
    "df_calls.shape[0] == sum(calls_month['calls_count'])"
   ]
  },
  {
   "cell_type": "code",
   "execution_count": 33,
   "metadata": {},
   "outputs": [
    {
     "name": "stdout",
     "output_type": "stream",
     "text": [
      "Общее коли-во истраченных минут: 1450301 , кол-во звонков: 202607\n",
      "Общее коли-во истраченных минут: 1450301 , кол-во звонков: 202607\n"
     ]
    }
   ],
   "source": [
    "print('Общее коли-во истраченных минут:', sum(df_calls['duration']), ', кол-во звонков:', df_calls.shape[0])\n",
    "print('Общее коли-во истраченных минут:', sum(calls_month['calls_duration']), ', кол-во звонков:', sum(calls_month['calls_count']))"
   ]
  },
  {
   "cell_type": "markdown",
   "metadata": {},
   "source": [
    "<br>\n",
    "<br>\n",
    "<font size='4' color=#708090>Посчитаем количество отправленных сообщений по месяцам</font>"
   ]
  },
  {
   "cell_type": "code",
   "execution_count": 34,
   "metadata": {},
   "outputs": [
    {
     "data": {
      "text/html": [
       "<div>\n",
       "<style scoped>\n",
       "    .dataframe tbody tr th:only-of-type {\n",
       "        vertical-align: middle;\n",
       "    }\n",
       "\n",
       "    .dataframe tbody tr th {\n",
       "        vertical-align: top;\n",
       "    }\n",
       "\n",
       "    .dataframe thead th {\n",
       "        text-align: right;\n",
       "    }\n",
       "</style>\n",
       "<table border=\"1\" class=\"dataframe\">\n",
       "  <thead>\n",
       "    <tr style=\"text-align: right;\">\n",
       "      <th></th>\n",
       "      <th>user_id</th>\n",
       "      <th>month</th>\n",
       "      <th>messages</th>\n",
       "    </tr>\n",
       "  </thead>\n",
       "  <tbody>\n",
       "    <tr>\n",
       "      <td>0</td>\n",
       "      <td>1000</td>\n",
       "      <td>5</td>\n",
       "      <td>22</td>\n",
       "    </tr>\n",
       "    <tr>\n",
       "      <td>1</td>\n",
       "      <td>1000</td>\n",
       "      <td>6</td>\n",
       "      <td>60</td>\n",
       "    </tr>\n",
       "    <tr>\n",
       "      <td>2</td>\n",
       "      <td>1000</td>\n",
       "      <td>7</td>\n",
       "      <td>75</td>\n",
       "    </tr>\n",
       "    <tr>\n",
       "      <td>3</td>\n",
       "      <td>1000</td>\n",
       "      <td>8</td>\n",
       "      <td>81</td>\n",
       "    </tr>\n",
       "    <tr>\n",
       "      <td>4</td>\n",
       "      <td>1000</td>\n",
       "      <td>9</td>\n",
       "      <td>57</td>\n",
       "    </tr>\n",
       "    <tr>\n",
       "      <td>...</td>\n",
       "      <td>...</td>\n",
       "      <td>...</td>\n",
       "      <td>...</td>\n",
       "    </tr>\n",
       "    <tr>\n",
       "      <td>2712</td>\n",
       "      <td>1498</td>\n",
       "      <td>10</td>\n",
       "      <td>42</td>\n",
       "    </tr>\n",
       "    <tr>\n",
       "      <td>2713</td>\n",
       "      <td>1499</td>\n",
       "      <td>9</td>\n",
       "      <td>11</td>\n",
       "    </tr>\n",
       "    <tr>\n",
       "      <td>2714</td>\n",
       "      <td>1499</td>\n",
       "      <td>10</td>\n",
       "      <td>48</td>\n",
       "    </tr>\n",
       "    <tr>\n",
       "      <td>2715</td>\n",
       "      <td>1499</td>\n",
       "      <td>11</td>\n",
       "      <td>59</td>\n",
       "    </tr>\n",
       "    <tr>\n",
       "      <td>2716</td>\n",
       "      <td>1499</td>\n",
       "      <td>12</td>\n",
       "      <td>66</td>\n",
       "    </tr>\n",
       "  </tbody>\n",
       "</table>\n",
       "<p>2717 rows × 3 columns</p>\n",
       "</div>"
      ],
      "text/plain": [
       "      user_id  month  messages\n",
       "0        1000      5        22\n",
       "1        1000      6        60\n",
       "2        1000      7        75\n",
       "3        1000      8        81\n",
       "4        1000      9        57\n",
       "...       ...    ...       ...\n",
       "2712     1498     10        42\n",
       "2713     1499      9        11\n",
       "2714     1499     10        48\n",
       "2715     1499     11        59\n",
       "2716     1499     12        66\n",
       "\n",
       "[2717 rows x 3 columns]"
      ]
     },
     "execution_count": 34,
     "metadata": {},
     "output_type": "execute_result"
    }
   ],
   "source": [
    "# Cгруппируем данные по месяцам для расчёта кол-ва sms\n",
    "messages_month = df_messages.groupby(['user_id','month'])[['id']].agg(['count']).reset_index()\n",
    "messages_month.columns = ['user_id', 'month', 'messages']\n",
    "messages_month"
   ]
  },
  {
   "cell_type": "code",
   "execution_count": 35,
   "metadata": {},
   "outputs": [
    {
     "data": {
      "text/plain": [
       "True"
      ]
     },
     "execution_count": 35,
     "metadata": {},
     "output_type": "execute_result"
    }
   ],
   "source": [
    "df_messages.shape[0] == sum(messages_month['messages'])"
   ]
  },
  {
   "cell_type": "markdown",
   "metadata": {},
   "source": [
    "<br>\n",
    "<br>\n",
    "<font size='4' color=#708090>Посчитаем объём израсходованного интернет-трафика по месяцам</font>"
   ]
  },
  {
   "cell_type": "code",
   "execution_count": 36,
   "metadata": {},
   "outputs": [
    {
     "data": {
      "text/html": [
       "<div>\n",
       "<style scoped>\n",
       "    .dataframe tbody tr th:only-of-type {\n",
       "        vertical-align: middle;\n",
       "    }\n",
       "\n",
       "    .dataframe tbody tr th {\n",
       "        vertical-align: top;\n",
       "    }\n",
       "\n",
       "    .dataframe thead th {\n",
       "        text-align: right;\n",
       "    }\n",
       "</style>\n",
       "<table border=\"1\" class=\"dataframe\">\n",
       "  <thead>\n",
       "    <tr style=\"text-align: right;\">\n",
       "      <th></th>\n",
       "      <th>user_id</th>\n",
       "      <th>month</th>\n",
       "      <th>mb_used</th>\n",
       "    </tr>\n",
       "  </thead>\n",
       "  <tbody>\n",
       "    <tr>\n",
       "      <td>0</td>\n",
       "      <td>1000</td>\n",
       "      <td>5</td>\n",
       "      <td>2256</td>\n",
       "    </tr>\n",
       "    <tr>\n",
       "      <td>1</td>\n",
       "      <td>1000</td>\n",
       "      <td>6</td>\n",
       "      <td>23257</td>\n",
       "    </tr>\n",
       "    <tr>\n",
       "      <td>2</td>\n",
       "      <td>1000</td>\n",
       "      <td>7</td>\n",
       "      <td>14016</td>\n",
       "    </tr>\n",
       "    <tr>\n",
       "      <td>3</td>\n",
       "      <td>1000</td>\n",
       "      <td>8</td>\n",
       "      <td>14070</td>\n",
       "    </tr>\n",
       "    <tr>\n",
       "      <td>4</td>\n",
       "      <td>1000</td>\n",
       "      <td>9</td>\n",
       "      <td>14581</td>\n",
       "    </tr>\n",
       "    <tr>\n",
       "      <td>...</td>\n",
       "      <td>...</td>\n",
       "      <td>...</td>\n",
       "      <td>...</td>\n",
       "    </tr>\n",
       "    <tr>\n",
       "      <td>3198</td>\n",
       "      <td>1498</td>\n",
       "      <td>10</td>\n",
       "      <td>20604</td>\n",
       "    </tr>\n",
       "    <tr>\n",
       "      <td>3199</td>\n",
       "      <td>1499</td>\n",
       "      <td>9</td>\n",
       "      <td>1848</td>\n",
       "    </tr>\n",
       "    <tr>\n",
       "      <td>3200</td>\n",
       "      <td>1499</td>\n",
       "      <td>10</td>\n",
       "      <td>17809</td>\n",
       "    </tr>\n",
       "    <tr>\n",
       "      <td>3201</td>\n",
       "      <td>1499</td>\n",
       "      <td>11</td>\n",
       "      <td>17984</td>\n",
       "    </tr>\n",
       "    <tr>\n",
       "      <td>3202</td>\n",
       "      <td>1499</td>\n",
       "      <td>12</td>\n",
       "      <td>13077</td>\n",
       "    </tr>\n",
       "  </tbody>\n",
       "</table>\n",
       "<p>3203 rows × 3 columns</p>\n",
       "</div>"
      ],
      "text/plain": [
       "      user_id  month  mb_used\n",
       "0        1000      5     2256\n",
       "1        1000      6    23257\n",
       "2        1000      7    14016\n",
       "3        1000      8    14070\n",
       "4        1000      9    14581\n",
       "...       ...    ...      ...\n",
       "3198     1498     10    20604\n",
       "3199     1499      9     1848\n",
       "3200     1499     10    17809\n",
       "3201     1499     11    17984\n",
       "3202     1499     12    13077\n",
       "\n",
       "[3203 rows x 3 columns]"
      ]
     },
     "execution_count": 36,
     "metadata": {},
     "output_type": "execute_result"
    }
   ],
   "source": [
    "# Cгруппируем данные по месяцам для расчёта кол-ва использованных mb\n",
    "internet_month = df_internet.groupby(['user_id','month'])[['mb_used']].agg(['sum']).reset_index()\n",
    "internet_month.columns = ['user_id', 'month', 'mb_used']\n",
    "internet_month"
   ]
  },
  {
   "cell_type": "code",
   "execution_count": 37,
   "metadata": {},
   "outputs": [
    {
     "data": {
      "text/plain": [
       "True"
      ]
     },
     "execution_count": 37,
     "metadata": {},
     "output_type": "execute_result"
    }
   ],
   "source": [
    "sum(df_internet['mb_used']) == sum(internet_month['mb_used'])"
   ]
  },
  {
   "cell_type": "code",
   "execution_count": 38,
   "metadata": {},
   "outputs": [
    {
     "name": "stdout",
     "output_type": "stream",
     "text": [
      "55369459\n",
      "55369459\n"
     ]
    }
   ],
   "source": [
    "print(sum(df_internet['mb_used']))\n",
    "print(sum(internet_month['mb_used']))"
   ]
  },
  {
   "cell_type": "code",
   "execution_count": 39,
   "metadata": {},
   "outputs": [],
   "source": [
    "# Переведем мегабайты в гигабайты в соответсвии с требованиями тарифа. Округлим полученные гигабайты в бо́льшую сторону.\n",
    "mb_in_gb = 1024\n",
    "internet_month['gb_used'] = (internet_month['mb_used'] / mb_in_gb).apply(np.ceil).astype('int')"
   ]
  },
  {
   "cell_type": "code",
   "execution_count": 40,
   "metadata": {},
   "outputs": [
    {
     "data": {
      "text/html": [
       "<div>\n",
       "<style scoped>\n",
       "    .dataframe tbody tr th:only-of-type {\n",
       "        vertical-align: middle;\n",
       "    }\n",
       "\n",
       "    .dataframe tbody tr th {\n",
       "        vertical-align: top;\n",
       "    }\n",
       "\n",
       "    .dataframe thead th {\n",
       "        text-align: right;\n",
       "    }\n",
       "</style>\n",
       "<table border=\"1\" class=\"dataframe\">\n",
       "  <thead>\n",
       "    <tr style=\"text-align: right;\">\n",
       "      <th></th>\n",
       "      <th>user_id</th>\n",
       "      <th>month</th>\n",
       "      <th>mb_used</th>\n",
       "      <th>gb_used</th>\n",
       "    </tr>\n",
       "  </thead>\n",
       "  <tbody>\n",
       "    <tr>\n",
       "      <td>0</td>\n",
       "      <td>1000</td>\n",
       "      <td>5</td>\n",
       "      <td>2256</td>\n",
       "      <td>3</td>\n",
       "    </tr>\n",
       "    <tr>\n",
       "      <td>1</td>\n",
       "      <td>1000</td>\n",
       "      <td>6</td>\n",
       "      <td>23257</td>\n",
       "      <td>23</td>\n",
       "    </tr>\n",
       "    <tr>\n",
       "      <td>2</td>\n",
       "      <td>1000</td>\n",
       "      <td>7</td>\n",
       "      <td>14016</td>\n",
       "      <td>14</td>\n",
       "    </tr>\n",
       "    <tr>\n",
       "      <td>3</td>\n",
       "      <td>1000</td>\n",
       "      <td>8</td>\n",
       "      <td>14070</td>\n",
       "      <td>14</td>\n",
       "    </tr>\n",
       "    <tr>\n",
       "      <td>4</td>\n",
       "      <td>1000</td>\n",
       "      <td>9</td>\n",
       "      <td>14581</td>\n",
       "      <td>15</td>\n",
       "    </tr>\n",
       "  </tbody>\n",
       "</table>\n",
       "</div>"
      ],
      "text/plain": [
       "   user_id  month  mb_used  gb_used\n",
       "0     1000      5     2256        3\n",
       "1     1000      6    23257       23\n",
       "2     1000      7    14016       14\n",
       "3     1000      8    14070       14\n",
       "4     1000      9    14581       15"
      ]
     },
     "execution_count": 40,
     "metadata": {},
     "output_type": "execute_result"
    }
   ],
   "source": [
    "internet_month.head()"
   ]
  },
  {
   "cell_type": "markdown",
   "metadata": {},
   "source": [
    "<br>\n",
    "<br>\n",
    "<font size='4' color=#708090>Посчитаем помесячную выручку с каждого пользователя</font>"
   ]
  },
  {
   "cell_type": "code",
   "execution_count": 41,
   "metadata": {},
   "outputs": [
    {
     "data": {
      "text/html": [
       "<div>\n",
       "<style scoped>\n",
       "    .dataframe tbody tr th:only-of-type {\n",
       "        vertical-align: middle;\n",
       "    }\n",
       "\n",
       "    .dataframe tbody tr th {\n",
       "        vertical-align: top;\n",
       "    }\n",
       "\n",
       "    .dataframe thead th {\n",
       "        text-align: right;\n",
       "    }\n",
       "</style>\n",
       "<table border=\"1\" class=\"dataframe\">\n",
       "  <thead>\n",
       "    <tr style=\"text-align: right;\">\n",
       "      <th></th>\n",
       "      <th>messages_included</th>\n",
       "      <th>mb_per_month_included</th>\n",
       "      <th>minutes_included</th>\n",
       "      <th>rub_monthly_fee</th>\n",
       "      <th>rub_per_gb</th>\n",
       "      <th>rub_per_message</th>\n",
       "      <th>rub_per_minute</th>\n",
       "      <th>tariff_name</th>\n",
       "    </tr>\n",
       "  </thead>\n",
       "  <tbody>\n",
       "    <tr>\n",
       "      <td>0</td>\n",
       "      <td>50</td>\n",
       "      <td>15360</td>\n",
       "      <td>500</td>\n",
       "      <td>550</td>\n",
       "      <td>200</td>\n",
       "      <td>3</td>\n",
       "      <td>3</td>\n",
       "      <td>smart</td>\n",
       "    </tr>\n",
       "    <tr>\n",
       "      <td>1</td>\n",
       "      <td>1000</td>\n",
       "      <td>30720</td>\n",
       "      <td>3000</td>\n",
       "      <td>1950</td>\n",
       "      <td>150</td>\n",
       "      <td>1</td>\n",
       "      <td>1</td>\n",
       "      <td>ultra</td>\n",
       "    </tr>\n",
       "  </tbody>\n",
       "</table>\n",
       "</div>"
      ],
      "text/plain": [
       "   messages_included  mb_per_month_included  minutes_included  \\\n",
       "0                 50                  15360               500   \n",
       "1               1000                  30720              3000   \n",
       "\n",
       "   rub_monthly_fee  rub_per_gb  rub_per_message  rub_per_minute tariff_name  \n",
       "0              550         200                3               3       smart  \n",
       "1             1950         150                1               1       ultra  "
      ]
     },
     "execution_count": 41,
     "metadata": {},
     "output_type": "execute_result"
    }
   ],
   "source": [
    "# Посмотрим параметры тарифов\n",
    "df_tariffs"
   ]
  },
  {
   "cell_type": "code",
   "execution_count": 42,
   "metadata": {},
   "outputs": [
    {
     "data": {
      "text/html": [
       "<div>\n",
       "<style scoped>\n",
       "    .dataframe tbody tr th:only-of-type {\n",
       "        vertical-align: middle;\n",
       "    }\n",
       "\n",
       "    .dataframe tbody tr th {\n",
       "        vertical-align: top;\n",
       "    }\n",
       "\n",
       "    .dataframe thead th {\n",
       "        text-align: right;\n",
       "    }\n",
       "</style>\n",
       "<table border=\"1\" class=\"dataframe\">\n",
       "  <thead>\n",
       "    <tr style=\"text-align: right;\">\n",
       "      <th></th>\n",
       "      <th>user_id</th>\n",
       "      <th>month</th>\n",
       "      <th>calls_count</th>\n",
       "      <th>calls_duration</th>\n",
       "      <th>messages</th>\n",
       "      <th>mb_used</th>\n",
       "      <th>gb_used</th>\n",
       "    </tr>\n",
       "  </thead>\n",
       "  <tbody>\n",
       "    <tr>\n",
       "      <td>0</td>\n",
       "      <td>1000</td>\n",
       "      <td>5</td>\n",
       "      <td>22.000000</td>\n",
       "      <td>159.000000</td>\n",
       "      <td>22.000000</td>\n",
       "      <td>2256.000000</td>\n",
       "      <td>3.000000</td>\n",
       "    </tr>\n",
       "    <tr>\n",
       "      <td>1</td>\n",
       "      <td>1000</td>\n",
       "      <td>6</td>\n",
       "      <td>43.000000</td>\n",
       "      <td>172.000000</td>\n",
       "      <td>60.000000</td>\n",
       "      <td>23257.000000</td>\n",
       "      <td>23.000000</td>\n",
       "    </tr>\n",
       "    <tr>\n",
       "      <td>2</td>\n",
       "      <td>1000</td>\n",
       "      <td>7</td>\n",
       "      <td>47.000000</td>\n",
       "      <td>340.000000</td>\n",
       "      <td>75.000000</td>\n",
       "      <td>14016.000000</td>\n",
       "      <td>14.000000</td>\n",
       "    </tr>\n",
       "    <tr>\n",
       "      <td>3</td>\n",
       "      <td>1000</td>\n",
       "      <td>8</td>\n",
       "      <td>52.000000</td>\n",
       "      <td>408.000000</td>\n",
       "      <td>81.000000</td>\n",
       "      <td>14070.000000</td>\n",
       "      <td>14.000000</td>\n",
       "    </tr>\n",
       "    <tr>\n",
       "      <td>4</td>\n",
       "      <td>1000</td>\n",
       "      <td>9</td>\n",
       "      <td>58.000000</td>\n",
       "      <td>466.000000</td>\n",
       "      <td>57.000000</td>\n",
       "      <td>14581.000000</td>\n",
       "      <td>15.000000</td>\n",
       "    </tr>\n",
       "    <tr>\n",
       "      <td>...</td>\n",
       "      <td>...</td>\n",
       "      <td>...</td>\n",
       "      <td>...</td>\n",
       "      <td>...</td>\n",
       "      <td>...</td>\n",
       "      <td>...</td>\n",
       "      <td>...</td>\n",
       "    </tr>\n",
       "    <tr>\n",
       "      <td>3209</td>\n",
       "      <td>1489</td>\n",
       "      <td>9</td>\n",
       "      <td>nan</td>\n",
       "      <td>nan</td>\n",
       "      <td>32.000000</td>\n",
       "      <td>17232.000000</td>\n",
       "      <td>17.000000</td>\n",
       "    </tr>\n",
       "    <tr>\n",
       "      <td>3210</td>\n",
       "      <td>1489</td>\n",
       "      <td>10</td>\n",
       "      <td>nan</td>\n",
       "      <td>nan</td>\n",
       "      <td>21.000000</td>\n",
       "      <td>19588.000000</td>\n",
       "      <td>20.000000</td>\n",
       "    </tr>\n",
       "    <tr>\n",
       "      <td>3211</td>\n",
       "      <td>1489</td>\n",
       "      <td>11</td>\n",
       "      <td>nan</td>\n",
       "      <td>nan</td>\n",
       "      <td>20.000000</td>\n",
       "      <td>17516.000000</td>\n",
       "      <td>18.000000</td>\n",
       "    </tr>\n",
       "    <tr>\n",
       "      <td>3212</td>\n",
       "      <td>1489</td>\n",
       "      <td>12</td>\n",
       "      <td>nan</td>\n",
       "      <td>nan</td>\n",
       "      <td>35.000000</td>\n",
       "      <td>17341.000000</td>\n",
       "      <td>17.000000</td>\n",
       "    </tr>\n",
       "    <tr>\n",
       "      <td>3213</td>\n",
       "      <td>1476</td>\n",
       "      <td>4</td>\n",
       "      <td>nan</td>\n",
       "      <td>nan</td>\n",
       "      <td>nan</td>\n",
       "      <td>531.000000</td>\n",
       "      <td>1.000000</td>\n",
       "    </tr>\n",
       "  </tbody>\n",
       "</table>\n",
       "<p>3214 rows × 7 columns</p>\n",
       "</div>"
      ],
      "text/plain": [
       "      user_id  month  calls_count  calls_duration  messages      mb_used  \\\n",
       "0        1000      5    22.000000      159.000000 22.000000  2256.000000   \n",
       "1        1000      6    43.000000      172.000000 60.000000 23257.000000   \n",
       "2        1000      7    47.000000      340.000000 75.000000 14016.000000   \n",
       "3        1000      8    52.000000      408.000000 81.000000 14070.000000   \n",
       "4        1000      9    58.000000      466.000000 57.000000 14581.000000   \n",
       "...       ...    ...          ...             ...       ...          ...   \n",
       "3209     1489      9          nan             nan 32.000000 17232.000000   \n",
       "3210     1489     10          nan             nan 21.000000 19588.000000   \n",
       "3211     1489     11          nan             nan 20.000000 17516.000000   \n",
       "3212     1489     12          nan             nan 35.000000 17341.000000   \n",
       "3213     1476      4          nan             nan       nan   531.000000   \n",
       "\n",
       "       gb_used  \n",
       "0     3.000000  \n",
       "1    23.000000  \n",
       "2    14.000000  \n",
       "3    14.000000  \n",
       "4    15.000000  \n",
       "...        ...  \n",
       "3209 17.000000  \n",
       "3210 20.000000  \n",
       "3211 18.000000  \n",
       "3212 17.000000  \n",
       "3213  1.000000  \n",
       "\n",
       "[3214 rows x 7 columns]"
      ]
     },
     "execution_count": 42,
     "metadata": {},
     "output_type": "execute_result"
    }
   ],
   "source": [
    "# Выполним слияние таблиц по звонкам, сообщениям и интернет-трафику в одну общую таблицу\n",
    "merged_table = pd.merge(calls_month, messages_month, how='outer', on=['user_id', 'month'])\n",
    "merged_table = pd.merge(merged_table, internet_month, how='outer', on=['user_id', 'month'])\n",
    "merged_table"
   ]
  },
  {
   "cell_type": "code",
   "execution_count": 43,
   "metadata": {},
   "outputs": [
    {
     "data": {
      "text/html": [
       "<div>\n",
       "<style scoped>\n",
       "    .dataframe tbody tr th:only-of-type {\n",
       "        vertical-align: middle;\n",
       "    }\n",
       "\n",
       "    .dataframe tbody tr th {\n",
       "        vertical-align: top;\n",
       "    }\n",
       "\n",
       "    .dataframe thead th {\n",
       "        text-align: right;\n",
       "    }\n",
       "</style>\n",
       "<table border=\"1\" class=\"dataframe\">\n",
       "  <thead>\n",
       "    <tr style=\"text-align: right;\">\n",
       "      <th></th>\n",
       "      <th>user_id</th>\n",
       "      <th>month</th>\n",
       "      <th>calls_count</th>\n",
       "      <th>calls_duration</th>\n",
       "      <th>messages</th>\n",
       "      <th>mb_used</th>\n",
       "      <th>gb_used</th>\n",
       "      <th>tariff</th>\n",
       "      <th>city</th>\n",
       "    </tr>\n",
       "  </thead>\n",
       "  <tbody>\n",
       "    <tr>\n",
       "      <td>0</td>\n",
       "      <td>1000</td>\n",
       "      <td>5</td>\n",
       "      <td>22.000000</td>\n",
       "      <td>159.000000</td>\n",
       "      <td>22.000000</td>\n",
       "      <td>2256.000000</td>\n",
       "      <td>3.000000</td>\n",
       "      <td>ultra</td>\n",
       "      <td>Краснодар</td>\n",
       "    </tr>\n",
       "    <tr>\n",
       "      <td>1</td>\n",
       "      <td>1000</td>\n",
       "      <td>6</td>\n",
       "      <td>43.000000</td>\n",
       "      <td>172.000000</td>\n",
       "      <td>60.000000</td>\n",
       "      <td>23257.000000</td>\n",
       "      <td>23.000000</td>\n",
       "      <td>ultra</td>\n",
       "      <td>Краснодар</td>\n",
       "    </tr>\n",
       "    <tr>\n",
       "      <td>2</td>\n",
       "      <td>1000</td>\n",
       "      <td>7</td>\n",
       "      <td>47.000000</td>\n",
       "      <td>340.000000</td>\n",
       "      <td>75.000000</td>\n",
       "      <td>14016.000000</td>\n",
       "      <td>14.000000</td>\n",
       "      <td>ultra</td>\n",
       "      <td>Краснодар</td>\n",
       "    </tr>\n",
       "    <tr>\n",
       "      <td>3</td>\n",
       "      <td>1000</td>\n",
       "      <td>8</td>\n",
       "      <td>52.000000</td>\n",
       "      <td>408.000000</td>\n",
       "      <td>81.000000</td>\n",
       "      <td>14070.000000</td>\n",
       "      <td>14.000000</td>\n",
       "      <td>ultra</td>\n",
       "      <td>Краснодар</td>\n",
       "    </tr>\n",
       "    <tr>\n",
       "      <td>4</td>\n",
       "      <td>1000</td>\n",
       "      <td>9</td>\n",
       "      <td>58.000000</td>\n",
       "      <td>466.000000</td>\n",
       "      <td>57.000000</td>\n",
       "      <td>14581.000000</td>\n",
       "      <td>15.000000</td>\n",
       "      <td>ultra</td>\n",
       "      <td>Краснодар</td>\n",
       "    </tr>\n",
       "    <tr>\n",
       "      <td>...</td>\n",
       "      <td>...</td>\n",
       "      <td>...</td>\n",
       "      <td>...</td>\n",
       "      <td>...</td>\n",
       "      <td>...</td>\n",
       "      <td>...</td>\n",
       "      <td>...</td>\n",
       "      <td>...</td>\n",
       "      <td>...</td>\n",
       "    </tr>\n",
       "    <tr>\n",
       "      <td>3209</td>\n",
       "      <td>1489</td>\n",
       "      <td>9</td>\n",
       "      <td>nan</td>\n",
       "      <td>nan</td>\n",
       "      <td>32.000000</td>\n",
       "      <td>17232.000000</td>\n",
       "      <td>17.000000</td>\n",
       "      <td>smart</td>\n",
       "      <td>Санкт-Петербург</td>\n",
       "    </tr>\n",
       "    <tr>\n",
       "      <td>3210</td>\n",
       "      <td>1489</td>\n",
       "      <td>10</td>\n",
       "      <td>nan</td>\n",
       "      <td>nan</td>\n",
       "      <td>21.000000</td>\n",
       "      <td>19588.000000</td>\n",
       "      <td>20.000000</td>\n",
       "      <td>smart</td>\n",
       "      <td>Санкт-Петербург</td>\n",
       "    </tr>\n",
       "    <tr>\n",
       "      <td>3211</td>\n",
       "      <td>1489</td>\n",
       "      <td>11</td>\n",
       "      <td>nan</td>\n",
       "      <td>nan</td>\n",
       "      <td>20.000000</td>\n",
       "      <td>17516.000000</td>\n",
       "      <td>18.000000</td>\n",
       "      <td>smart</td>\n",
       "      <td>Санкт-Петербург</td>\n",
       "    </tr>\n",
       "    <tr>\n",
       "      <td>3212</td>\n",
       "      <td>1489</td>\n",
       "      <td>12</td>\n",
       "      <td>nan</td>\n",
       "      <td>nan</td>\n",
       "      <td>35.000000</td>\n",
       "      <td>17341.000000</td>\n",
       "      <td>17.000000</td>\n",
       "      <td>smart</td>\n",
       "      <td>Санкт-Петербург</td>\n",
       "    </tr>\n",
       "    <tr>\n",
       "      <td>3213</td>\n",
       "      <td>1476</td>\n",
       "      <td>4</td>\n",
       "      <td>nan</td>\n",
       "      <td>nan</td>\n",
       "      <td>nan</td>\n",
       "      <td>531.000000</td>\n",
       "      <td>1.000000</td>\n",
       "      <td>ultra</td>\n",
       "      <td>Москва</td>\n",
       "    </tr>\n",
       "  </tbody>\n",
       "</table>\n",
       "<p>3214 rows × 9 columns</p>\n",
       "</div>"
      ],
      "text/plain": [
       "      user_id  month  calls_count  calls_duration  messages      mb_used  \\\n",
       "0        1000      5    22.000000      159.000000 22.000000  2256.000000   \n",
       "1        1000      6    43.000000      172.000000 60.000000 23257.000000   \n",
       "2        1000      7    47.000000      340.000000 75.000000 14016.000000   \n",
       "3        1000      8    52.000000      408.000000 81.000000 14070.000000   \n",
       "4        1000      9    58.000000      466.000000 57.000000 14581.000000   \n",
       "...       ...    ...          ...             ...       ...          ...   \n",
       "3209     1489      9          nan             nan 32.000000 17232.000000   \n",
       "3210     1489     10          nan             nan 21.000000 19588.000000   \n",
       "3211     1489     11          nan             nan 20.000000 17516.000000   \n",
       "3212     1489     12          nan             nan 35.000000 17341.000000   \n",
       "3213     1476      4          nan             nan       nan   531.000000   \n",
       "\n",
       "       gb_used tariff             city  \n",
       "0     3.000000  ultra        Краснодар  \n",
       "1    23.000000  ultra        Краснодар  \n",
       "2    14.000000  ultra        Краснодар  \n",
       "3    14.000000  ultra        Краснодар  \n",
       "4    15.000000  ultra        Краснодар  \n",
       "...        ...    ...              ...  \n",
       "3209 17.000000  smart  Санкт-Петербург  \n",
       "3210 20.000000  smart  Санкт-Петербург  \n",
       "3211 18.000000  smart  Санкт-Петербург  \n",
       "3212 17.000000  smart  Санкт-Петербург  \n",
       "3213  1.000000  ultra           Москва  \n",
       "\n",
       "[3214 rows x 9 columns]"
      ]
     },
     "execution_count": 43,
     "metadata": {},
     "output_type": "execute_result"
    }
   ],
   "source": [
    "# Добавим в таблицу merged_table столбцы с тарифом и городом для все строк пользователей\n",
    "df_full = pd.merge(merged_table, df_users[['user_id', 'tariff', 'city']], how='left', on=['user_id'])\n",
    "df_full"
   ]
  },
  {
   "cell_type": "code",
   "execution_count": 44,
   "metadata": {},
   "outputs": [
    {
     "data": {
      "text/html": [
       "<div>\n",
       "<style scoped>\n",
       "    .dataframe tbody tr th:only-of-type {\n",
       "        vertical-align: middle;\n",
       "    }\n",
       "\n",
       "    .dataframe tbody tr th {\n",
       "        vertical-align: top;\n",
       "    }\n",
       "\n",
       "    .dataframe thead th {\n",
       "        text-align: right;\n",
       "    }\n",
       "</style>\n",
       "<table border=\"1\" class=\"dataframe\">\n",
       "  <thead>\n",
       "    <tr style=\"text-align: right;\">\n",
       "      <th></th>\n",
       "      <th>user_id</th>\n",
       "      <th>month</th>\n",
       "      <th>calls_count</th>\n",
       "      <th>calls_duration</th>\n",
       "      <th>messages</th>\n",
       "      <th>mb_used</th>\n",
       "      <th>gb_used</th>\n",
       "      <th>tariff</th>\n",
       "      <th>city</th>\n",
       "    </tr>\n",
       "  </thead>\n",
       "  <tbody>\n",
       "    <tr>\n",
       "      <td>0</td>\n",
       "      <td>1000</td>\n",
       "      <td>5</td>\n",
       "      <td>22</td>\n",
       "      <td>159</td>\n",
       "      <td>22</td>\n",
       "      <td>2256</td>\n",
       "      <td>3</td>\n",
       "      <td>ultra</td>\n",
       "      <td>Краснодар</td>\n",
       "    </tr>\n",
       "    <tr>\n",
       "      <td>1</td>\n",
       "      <td>1000</td>\n",
       "      <td>6</td>\n",
       "      <td>43</td>\n",
       "      <td>172</td>\n",
       "      <td>60</td>\n",
       "      <td>23257</td>\n",
       "      <td>23</td>\n",
       "      <td>ultra</td>\n",
       "      <td>Краснодар</td>\n",
       "    </tr>\n",
       "    <tr>\n",
       "      <td>2</td>\n",
       "      <td>1000</td>\n",
       "      <td>7</td>\n",
       "      <td>47</td>\n",
       "      <td>340</td>\n",
       "      <td>75</td>\n",
       "      <td>14016</td>\n",
       "      <td>14</td>\n",
       "      <td>ultra</td>\n",
       "      <td>Краснодар</td>\n",
       "    </tr>\n",
       "    <tr>\n",
       "      <td>3</td>\n",
       "      <td>1000</td>\n",
       "      <td>8</td>\n",
       "      <td>52</td>\n",
       "      <td>408</td>\n",
       "      <td>81</td>\n",
       "      <td>14070</td>\n",
       "      <td>14</td>\n",
       "      <td>ultra</td>\n",
       "      <td>Краснодар</td>\n",
       "    </tr>\n",
       "    <tr>\n",
       "      <td>4</td>\n",
       "      <td>1000</td>\n",
       "      <td>9</td>\n",
       "      <td>58</td>\n",
       "      <td>466</td>\n",
       "      <td>57</td>\n",
       "      <td>14581</td>\n",
       "      <td>15</td>\n",
       "      <td>ultra</td>\n",
       "      <td>Краснодар</td>\n",
       "    </tr>\n",
       "    <tr>\n",
       "      <td>...</td>\n",
       "      <td>...</td>\n",
       "      <td>...</td>\n",
       "      <td>...</td>\n",
       "      <td>...</td>\n",
       "      <td>...</td>\n",
       "      <td>...</td>\n",
       "      <td>...</td>\n",
       "      <td>...</td>\n",
       "      <td>...</td>\n",
       "    </tr>\n",
       "    <tr>\n",
       "      <td>3209</td>\n",
       "      <td>1489</td>\n",
       "      <td>9</td>\n",
       "      <td>0</td>\n",
       "      <td>0</td>\n",
       "      <td>32</td>\n",
       "      <td>17232</td>\n",
       "      <td>17</td>\n",
       "      <td>smart</td>\n",
       "      <td>Санкт-Петербург</td>\n",
       "    </tr>\n",
       "    <tr>\n",
       "      <td>3210</td>\n",
       "      <td>1489</td>\n",
       "      <td>10</td>\n",
       "      <td>0</td>\n",
       "      <td>0</td>\n",
       "      <td>21</td>\n",
       "      <td>19588</td>\n",
       "      <td>20</td>\n",
       "      <td>smart</td>\n",
       "      <td>Санкт-Петербург</td>\n",
       "    </tr>\n",
       "    <tr>\n",
       "      <td>3211</td>\n",
       "      <td>1489</td>\n",
       "      <td>11</td>\n",
       "      <td>0</td>\n",
       "      <td>0</td>\n",
       "      <td>20</td>\n",
       "      <td>17516</td>\n",
       "      <td>18</td>\n",
       "      <td>smart</td>\n",
       "      <td>Санкт-Петербург</td>\n",
       "    </tr>\n",
       "    <tr>\n",
       "      <td>3212</td>\n",
       "      <td>1489</td>\n",
       "      <td>12</td>\n",
       "      <td>0</td>\n",
       "      <td>0</td>\n",
       "      <td>35</td>\n",
       "      <td>17341</td>\n",
       "      <td>17</td>\n",
       "      <td>smart</td>\n",
       "      <td>Санкт-Петербург</td>\n",
       "    </tr>\n",
       "    <tr>\n",
       "      <td>3213</td>\n",
       "      <td>1476</td>\n",
       "      <td>4</td>\n",
       "      <td>0</td>\n",
       "      <td>0</td>\n",
       "      <td>0</td>\n",
       "      <td>531</td>\n",
       "      <td>1</td>\n",
       "      <td>ultra</td>\n",
       "      <td>Москва</td>\n",
       "    </tr>\n",
       "  </tbody>\n",
       "</table>\n",
       "<p>3214 rows × 9 columns</p>\n",
       "</div>"
      ],
      "text/plain": [
       "      user_id  month  calls_count  calls_duration  messages  mb_used  gb_used  \\\n",
       "0        1000      5           22             159        22     2256        3   \n",
       "1        1000      6           43             172        60    23257       23   \n",
       "2        1000      7           47             340        75    14016       14   \n",
       "3        1000      8           52             408        81    14070       14   \n",
       "4        1000      9           58             466        57    14581       15   \n",
       "...       ...    ...          ...             ...       ...      ...      ...   \n",
       "3209     1489      9            0               0        32    17232       17   \n",
       "3210     1489     10            0               0        21    19588       20   \n",
       "3211     1489     11            0               0        20    17516       18   \n",
       "3212     1489     12            0               0        35    17341       17   \n",
       "3213     1476      4            0               0         0      531        1   \n",
       "\n",
       "     tariff             city  \n",
       "0     ultra        Краснодар  \n",
       "1     ultra        Краснодар  \n",
       "2     ultra        Краснодар  \n",
       "3     ultra        Краснодар  \n",
       "4     ultra        Краснодар  \n",
       "...     ...              ...  \n",
       "3209  smart  Санкт-Петербург  \n",
       "3210  smart  Санкт-Петербург  \n",
       "3211  smart  Санкт-Петербург  \n",
       "3212  smart  Санкт-Петербург  \n",
       "3213  ultra           Москва  \n",
       "\n",
       "[3214 rows x 9 columns]"
      ]
     },
     "execution_count": 44,
     "metadata": {},
     "output_type": "execute_result"
    }
   ],
   "source": [
    "# Заполним пропуски в столбцах нулями\n",
    "df_full[['calls_count', 'calls_duration', 'messages', 'mb_used', 'gb_used']] = df_full[['calls_count', 'calls_duration', 'messages', 'mb_used', 'gb_used']].fillna(0.0).astype('int')\n",
    "df_full"
   ]
  },
  {
   "cell_type": "markdown",
   "metadata": {},
   "source": [
    "<br>\n",
    "<br>\n",
    "<font size='4' color=#708090>Посчитаем выручку с каждого клиента за каждый месяц и добавим в общую таблицу</font>"
   ]
  },
  {
   "cell_type": "code",
   "execution_count": 45,
   "metadata": {},
   "outputs": [],
   "source": [
    "# Функция возвращает значение выручки в зависимости от тарифа (какой-то жуткий монстр)\n",
    "# Считается стоимость потраченных минут/сообщений/трафика сверх тарифа и прибавляется базовая стоимость тарифа\n",
    "def calc_earnings(row):\n",
    "    tariff_cond = df_tariffs['tariff_name'] == row['tariff']\n",
    "    \n",
    "    return (\n",
    "    max(0, row['calls_duration'] - df_tariffs.loc[tariff_cond, 'minutes_included'].iloc[0]) * df_tariffs.loc[tariff_cond, 'rub_per_minute'].iloc[0]\n",
    "    + max(0, row['messages'] - df_tariffs.loc[tariff_cond, 'messages_included'].iloc[0]) * df_tariffs.loc[tariff_cond, 'rub_per_message'].iloc[0]\n",
    "    + max(0, row['mb_used'] - df_tariffs.loc[tariff_cond, 'mb_per_month_included'].iloc[0]) * (df_tariffs.loc[tariff_cond, 'rub_per_gb'].iloc[0] / 1024.0)\n",
    "    + df_tariffs.loc[tariff_cond, 'rub_monthly_fee'].iloc[0]\n",
    "    )"
   ]
  },
  {
   "cell_type": "code",
   "execution_count": 46,
   "metadata": {},
   "outputs": [
    {
     "data": {
      "text/html": [
       "<div>\n",
       "<style scoped>\n",
       "    .dataframe tbody tr th:only-of-type {\n",
       "        vertical-align: middle;\n",
       "    }\n",
       "\n",
       "    .dataframe tbody tr th {\n",
       "        vertical-align: top;\n",
       "    }\n",
       "\n",
       "    .dataframe thead th {\n",
       "        text-align: right;\n",
       "    }\n",
       "</style>\n",
       "<table border=\"1\" class=\"dataframe\">\n",
       "  <thead>\n",
       "    <tr style=\"text-align: right;\">\n",
       "      <th></th>\n",
       "      <th>user_id</th>\n",
       "      <th>month</th>\n",
       "      <th>calls_count</th>\n",
       "      <th>calls_duration</th>\n",
       "      <th>messages</th>\n",
       "      <th>mb_used</th>\n",
       "      <th>gb_used</th>\n",
       "      <th>tariff</th>\n",
       "      <th>city</th>\n",
       "      <th>earnings</th>\n",
       "    </tr>\n",
       "  </thead>\n",
       "  <tbody>\n",
       "    <tr>\n",
       "      <td>0</td>\n",
       "      <td>1000</td>\n",
       "      <td>5</td>\n",
       "      <td>22</td>\n",
       "      <td>159</td>\n",
       "      <td>22</td>\n",
       "      <td>2256</td>\n",
       "      <td>3</td>\n",
       "      <td>ultra</td>\n",
       "      <td>Краснодар</td>\n",
       "      <td>1950.000000</td>\n",
       "    </tr>\n",
       "    <tr>\n",
       "      <td>1</td>\n",
       "      <td>1000</td>\n",
       "      <td>6</td>\n",
       "      <td>43</td>\n",
       "      <td>172</td>\n",
       "      <td>60</td>\n",
       "      <td>23257</td>\n",
       "      <td>23</td>\n",
       "      <td>ultra</td>\n",
       "      <td>Краснодар</td>\n",
       "      <td>1950.000000</td>\n",
       "    </tr>\n",
       "    <tr>\n",
       "      <td>2</td>\n",
       "      <td>1000</td>\n",
       "      <td>7</td>\n",
       "      <td>47</td>\n",
       "      <td>340</td>\n",
       "      <td>75</td>\n",
       "      <td>14016</td>\n",
       "      <td>14</td>\n",
       "      <td>ultra</td>\n",
       "      <td>Краснодар</td>\n",
       "      <td>1950.000000</td>\n",
       "    </tr>\n",
       "    <tr>\n",
       "      <td>3</td>\n",
       "      <td>1000</td>\n",
       "      <td>8</td>\n",
       "      <td>52</td>\n",
       "      <td>408</td>\n",
       "      <td>81</td>\n",
       "      <td>14070</td>\n",
       "      <td>14</td>\n",
       "      <td>ultra</td>\n",
       "      <td>Краснодар</td>\n",
       "      <td>1950.000000</td>\n",
       "    </tr>\n",
       "    <tr>\n",
       "      <td>4</td>\n",
       "      <td>1000</td>\n",
       "      <td>9</td>\n",
       "      <td>58</td>\n",
       "      <td>466</td>\n",
       "      <td>57</td>\n",
       "      <td>14581</td>\n",
       "      <td>15</td>\n",
       "      <td>ultra</td>\n",
       "      <td>Краснодар</td>\n",
       "      <td>1950.000000</td>\n",
       "    </tr>\n",
       "    <tr>\n",
       "      <td>...</td>\n",
       "      <td>...</td>\n",
       "      <td>...</td>\n",
       "      <td>...</td>\n",
       "      <td>...</td>\n",
       "      <td>...</td>\n",
       "      <td>...</td>\n",
       "      <td>...</td>\n",
       "      <td>...</td>\n",
       "      <td>...</td>\n",
       "      <td>...</td>\n",
       "    </tr>\n",
       "    <tr>\n",
       "      <td>3209</td>\n",
       "      <td>1489</td>\n",
       "      <td>9</td>\n",
       "      <td>0</td>\n",
       "      <td>0</td>\n",
       "      <td>32</td>\n",
       "      <td>17232</td>\n",
       "      <td>17</td>\n",
       "      <td>smart</td>\n",
       "      <td>Санкт-Петербург</td>\n",
       "      <td>915.625000</td>\n",
       "    </tr>\n",
       "    <tr>\n",
       "      <td>3210</td>\n",
       "      <td>1489</td>\n",
       "      <td>10</td>\n",
       "      <td>0</td>\n",
       "      <td>0</td>\n",
       "      <td>21</td>\n",
       "      <td>19588</td>\n",
       "      <td>20</td>\n",
       "      <td>smart</td>\n",
       "      <td>Санкт-Петербург</td>\n",
       "      <td>1375.781250</td>\n",
       "    </tr>\n",
       "    <tr>\n",
       "      <td>3211</td>\n",
       "      <td>1489</td>\n",
       "      <td>11</td>\n",
       "      <td>0</td>\n",
       "      <td>0</td>\n",
       "      <td>20</td>\n",
       "      <td>17516</td>\n",
       "      <td>18</td>\n",
       "      <td>smart</td>\n",
       "      <td>Санкт-Петербург</td>\n",
       "      <td>971.093750</td>\n",
       "    </tr>\n",
       "    <tr>\n",
       "      <td>3212</td>\n",
       "      <td>1489</td>\n",
       "      <td>12</td>\n",
       "      <td>0</td>\n",
       "      <td>0</td>\n",
       "      <td>35</td>\n",
       "      <td>17341</td>\n",
       "      <td>17</td>\n",
       "      <td>smart</td>\n",
       "      <td>Санкт-Петербург</td>\n",
       "      <td>936.914062</td>\n",
       "    </tr>\n",
       "    <tr>\n",
       "      <td>3213</td>\n",
       "      <td>1476</td>\n",
       "      <td>4</td>\n",
       "      <td>0</td>\n",
       "      <td>0</td>\n",
       "      <td>0</td>\n",
       "      <td>531</td>\n",
       "      <td>1</td>\n",
       "      <td>ultra</td>\n",
       "      <td>Москва</td>\n",
       "      <td>1950.000000</td>\n",
       "    </tr>\n",
       "  </tbody>\n",
       "</table>\n",
       "<p>3214 rows × 10 columns</p>\n",
       "</div>"
      ],
      "text/plain": [
       "      user_id  month  calls_count  calls_duration  messages  mb_used  gb_used  \\\n",
       "0        1000      5           22             159        22     2256        3   \n",
       "1        1000      6           43             172        60    23257       23   \n",
       "2        1000      7           47             340        75    14016       14   \n",
       "3        1000      8           52             408        81    14070       14   \n",
       "4        1000      9           58             466        57    14581       15   \n",
       "...       ...    ...          ...             ...       ...      ...      ...   \n",
       "3209     1489      9            0               0        32    17232       17   \n",
       "3210     1489     10            0               0        21    19588       20   \n",
       "3211     1489     11            0               0        20    17516       18   \n",
       "3212     1489     12            0               0        35    17341       17   \n",
       "3213     1476      4            0               0         0      531        1   \n",
       "\n",
       "     tariff             city    earnings  \n",
       "0     ultra        Краснодар 1950.000000  \n",
       "1     ultra        Краснодар 1950.000000  \n",
       "2     ultra        Краснодар 1950.000000  \n",
       "3     ultra        Краснодар 1950.000000  \n",
       "4     ultra        Краснодар 1950.000000  \n",
       "...     ...              ...         ...  \n",
       "3209  smart  Санкт-Петербург  915.625000  \n",
       "3210  smart  Санкт-Петербург 1375.781250  \n",
       "3211  smart  Санкт-Петербург  971.093750  \n",
       "3212  smart  Санкт-Петербург  936.914062  \n",
       "3213  ultra           Москва 1950.000000  \n",
       "\n",
       "[3214 rows x 10 columns]"
      ]
     },
     "execution_count": 46,
     "metadata": {},
     "output_type": "execute_result"
    }
   ],
   "source": [
    "df_full['earnings'] = df_full.apply(calc_earnings, axis=1)\n",
    "df_full"
   ]
  },
  {
   "cell_type": "markdown",
   "metadata": {},
   "source": [
    "**Выводы:**\n",
    "\n",
    "\n",
    "- округлили до бо́льшего целого длительность звонков и количество потраченных мегабайт\n",
    "- привели даты к типу datetime\n",
    "- посчитали для каждого клиента за каждый месяц объем израсходованного трафика, количество минут разговора и количествои смс\n",
    "- обединили данные в итоговую таблицу в которой посчитали потраченные клиентом деньги за каждый месяц\n",
    "\n"
   ]
  },
  {
   "cell_type": "markdown",
   "metadata": {},
   "source": [
    "## Анализ данных"
   ]
  },
  {
   "cell_type": "markdown",
   "metadata": {},
   "source": [
    "Анализ поведения клиентов исходя из имеющейся выборки\n",
    "\n",
    "\n",
    "<br>\n",
    "<br>\n",
    "<font size='4' color=#708090>Посчитаем среднее количество, дисперсию и стандартное отклонение по минутам разговора, кол-ву сообщений и объёму интернет-трафика</font>\n"
   ]
  },
  {
   "cell_type": "code",
   "execution_count": 47,
   "metadata": {},
   "outputs": [
    {
     "data": {
      "text/html": [
       "<div>\n",
       "<style scoped>\n",
       "    .dataframe tbody tr th:only-of-type {\n",
       "        vertical-align: middle;\n",
       "    }\n",
       "\n",
       "    .dataframe tbody tr th {\n",
       "        vertical-align: top;\n",
       "    }\n",
       "\n",
       "    .dataframe thead th {\n",
       "        text-align: right;\n",
       "    }\n",
       "</style>\n",
       "<table border=\"1\" class=\"dataframe\">\n",
       "  <thead>\n",
       "    <tr style=\"text-align: right;\">\n",
       "      <th></th>\n",
       "      <th>calls_duration</th>\n",
       "      <th>messages</th>\n",
       "      <th>mb_used</th>\n",
       "    </tr>\n",
       "  </thead>\n",
       "  <tbody>\n",
       "    <tr>\n",
       "      <td>mean</td>\n",
       "      <td>417.934948</td>\n",
       "      <td>33.384029</td>\n",
       "      <td>16229.188425</td>\n",
       "    </tr>\n",
       "    <tr>\n",
       "      <td>var</td>\n",
       "      <td>36203.066652</td>\n",
       "      <td>796.455483</td>\n",
       "      <td>34530412.737040</td>\n",
       "    </tr>\n",
       "    <tr>\n",
       "      <td>std</td>\n",
       "      <td>190.271035</td>\n",
       "      <td>28.221543</td>\n",
       "      <td>5876.258396</td>\n",
       "    </tr>\n",
       "  </tbody>\n",
       "</table>\n",
       "</div>"
      ],
      "text/plain": [
       "     calls_duration   messages         mb_used\n",
       "mean     417.934948  33.384029    16229.188425\n",
       "var    36203.066652 796.455483 34530412.737040\n",
       "std      190.271035  28.221543     5876.258396"
      ]
     },
     "execution_count": 47,
     "metadata": {},
     "output_type": "execute_result"
    }
   ],
   "source": [
    "table_smart = pd.DataFrame(index=['mean', 'var', 'std'], columns=['calls_duration','messages','mb_used'])\n",
    "\n",
    "for clmn in table_smart.columns:\n",
    "    table_smart.loc['mean',clmn] = df_full.loc[df_full['tariff'] == 'smart', clmn].mean()\n",
    "    table_smart.loc['var', clmn] = np.var(df_full.loc[df_full['tariff'] == 'smart', clmn])\n",
    "    table_smart.loc['std', clmn] = np.sqrt(np.var(df_full.loc[df_full['tariff'] == 'smart', clmn]))\n",
    "    \n",
    "table_smart"
   ]
  },
  {
   "cell_type": "code",
   "execution_count": 48,
   "metadata": {},
   "outputs": [
    {
     "data": {
      "text/html": [
       "<div>\n",
       "<style scoped>\n",
       "    .dataframe tbody tr th:only-of-type {\n",
       "        vertical-align: middle;\n",
       "    }\n",
       "\n",
       "    .dataframe tbody tr th {\n",
       "        vertical-align: top;\n",
       "    }\n",
       "\n",
       "    .dataframe thead th {\n",
       "        text-align: right;\n",
       "    }\n",
       "</style>\n",
       "<table border=\"1\" class=\"dataframe\">\n",
       "  <thead>\n",
       "    <tr style=\"text-align: right;\">\n",
       "      <th></th>\n",
       "      <th>calls_duration</th>\n",
       "      <th>messages</th>\n",
       "      <th>mb_used</th>\n",
       "    </tr>\n",
       "  </thead>\n",
       "  <tbody>\n",
       "    <tr>\n",
       "      <td>mean</td>\n",
       "      <td>526.623350</td>\n",
       "      <td>49.363452</td>\n",
       "      <td>19486.901523</td>\n",
       "    </tr>\n",
       "    <tr>\n",
       "      <td>var</td>\n",
       "      <td>100771.223617</td>\n",
       "      <td>2282.946075</td>\n",
       "      <td>101832133.108069</td>\n",
       "    </tr>\n",
       "    <tr>\n",
       "      <td>std</td>\n",
       "      <td>317.444836</td>\n",
       "      <td>47.780185</td>\n",
       "      <td>10091.190867</td>\n",
       "    </tr>\n",
       "  </tbody>\n",
       "</table>\n",
       "</div>"
      ],
      "text/plain": [
       "     calls_duration    messages          mb_used\n",
       "mean     526.623350   49.363452     19486.901523\n",
       "var   100771.223617 2282.946075 101832133.108069\n",
       "std      317.444836   47.780185     10091.190867"
      ]
     },
     "execution_count": 48,
     "metadata": {},
     "output_type": "execute_result"
    }
   ],
   "source": [
    "table_ultra = pd.DataFrame(index=['mean', 'var', 'std'], columns=['calls_duration','messages','mb_used'])\n",
    "\n",
    "for clmn in table_ultra.columns:\n",
    "    table_ultra.loc['mean',clmn] = df_full.loc[df_full['tariff'] == 'ultra', clmn].mean()\n",
    "    table_ultra.loc['var', clmn] = np.var(df_full.loc[df_full['tariff'] == 'ultra', clmn])\n",
    "    table_ultra.loc['std', clmn] = np.sqrt(np.var(df_full.loc[df_full['tariff'] == 'ultra', clmn]))\n",
    "    \n",
    "table_ultra"
   ]
  },
  {
   "cell_type": "markdown",
   "metadata": {},
   "source": [
    "Соединим данные в сводную таблицу"
   ]
  },
  {
   "cell_type": "code",
   "execution_count": 49,
   "metadata": {},
   "outputs": [
    {
     "data": {
      "text/html": [
       "<div>\n",
       "<style scoped>\n",
       "    .dataframe tbody tr th:only-of-type {\n",
       "        vertical-align: middle;\n",
       "    }\n",
       "\n",
       "    .dataframe tbody tr th {\n",
       "        vertical-align: top;\n",
       "    }\n",
       "\n",
       "    .dataframe thead th {\n",
       "        text-align: right;\n",
       "    }\n",
       "</style>\n",
       "<table border=\"1\" class=\"dataframe\">\n",
       "  <thead>\n",
       "    <tr style=\"text-align: right;\">\n",
       "      <th></th>\n",
       "      <th>tariff</th>\n",
       "      <th>smart</th>\n",
       "      <th>ultra</th>\n",
       "    </tr>\n",
       "  </thead>\n",
       "  <tbody>\n",
       "    <tr>\n",
       "      <td rowspan=\"3\" valign=\"top\">mean</td>\n",
       "      <td>calls_duration</td>\n",
       "      <td>417.934948</td>\n",
       "      <td>526.623350</td>\n",
       "    </tr>\n",
       "    <tr>\n",
       "      <td>mb_used</td>\n",
       "      <td>16229.188425</td>\n",
       "      <td>19486.901523</td>\n",
       "    </tr>\n",
       "    <tr>\n",
       "      <td>messages</td>\n",
       "      <td>33.384029</td>\n",
       "      <td>49.363452</td>\n",
       "    </tr>\n",
       "    <tr>\n",
       "      <td rowspan=\"3\" valign=\"top\">var</td>\n",
       "      <td>calls_duration</td>\n",
       "      <td>36219.315784</td>\n",
       "      <td>100873.633397</td>\n",
       "    </tr>\n",
       "    <tr>\n",
       "      <td>mb_used</td>\n",
       "      <td>34545911.126958</td>\n",
       "      <td>101935621.048219</td>\n",
       "    </tr>\n",
       "    <tr>\n",
       "      <td>messages</td>\n",
       "      <td>796.812958</td>\n",
       "      <td>2285.266143</td>\n",
       "    </tr>\n",
       "    <tr>\n",
       "      <td rowspan=\"3\" valign=\"top\">std</td>\n",
       "      <td>calls_duration</td>\n",
       "      <td>190.313730</td>\n",
       "      <td>317.606098</td>\n",
       "    </tr>\n",
       "    <tr>\n",
       "      <td>mb_used</td>\n",
       "      <td>5877.576978</td>\n",
       "      <td>10096.317202</td>\n",
       "    </tr>\n",
       "    <tr>\n",
       "      <td>messages</td>\n",
       "      <td>28.227876</td>\n",
       "      <td>47.804457</td>\n",
       "    </tr>\n",
       "  </tbody>\n",
       "</table>\n",
       "</div>"
      ],
      "text/plain": [
       "tariff                        smart            ultra\n",
       "mean calls_duration      417.934948       526.623350\n",
       "     mb_used           16229.188425     19486.901523\n",
       "     messages             33.384029        49.363452\n",
       "var  calls_duration    36219.315784    100873.633397\n",
       "     mb_used        34545911.126958 101935621.048219\n",
       "     messages            796.812958      2285.266143\n",
       "std  calls_duration      190.313730       317.606098\n",
       "     mb_used            5877.576978     10096.317202\n",
       "     messages             28.227876        47.804457"
      ]
     },
     "execution_count": 49,
     "metadata": {},
     "output_type": "execute_result"
    }
   ],
   "source": [
    "df_full.pivot_table(index='tariff', values=['calls_duration','messages','mb_used'], aggfunc=['mean', np.var, np.std]).transpose()"
   ]
  },
  {
   "cell_type": "markdown",
   "metadata": {},
   "source": [
    "**Посмотрим соотношение пользователей тарифов**"
   ]
  },
  {
   "cell_type": "code",
   "execution_count": 50,
   "metadata": {},
   "outputs": [
    {
     "data": {
      "text/html": [
       "<div>\n",
       "<style scoped>\n",
       "    .dataframe tbody tr th:only-of-type {\n",
       "        vertical-align: middle;\n",
       "    }\n",
       "\n",
       "    .dataframe tbody tr th {\n",
       "        vertical-align: top;\n",
       "    }\n",
       "\n",
       "    .dataframe thead th {\n",
       "        text-align: right;\n",
       "    }\n",
       "</style>\n",
       "<table border=\"1\" class=\"dataframe\">\n",
       "  <thead>\n",
       "    <tr style=\"text-align: right;\">\n",
       "      <th></th>\n",
       "      <th>user_id</th>\n",
       "    </tr>\n",
       "    <tr>\n",
       "      <th>tariff</th>\n",
       "      <th></th>\n",
       "    </tr>\n",
       "  </thead>\n",
       "  <tbody>\n",
       "    <tr>\n",
       "      <td>smart</td>\n",
       "      <td>2229</td>\n",
       "    </tr>\n",
       "    <tr>\n",
       "      <td>ultra</td>\n",
       "      <td>985</td>\n",
       "    </tr>\n",
       "  </tbody>\n",
       "</table>\n",
       "</div>"
      ],
      "text/plain": [
       "        user_id\n",
       "tariff         \n",
       "smart      2229\n",
       "ultra       985"
      ]
     },
     "execution_count": 50,
     "metadata": {},
     "output_type": "execute_result"
    }
   ],
   "source": [
    "df_full.pivot_table(index='tariff', values='user_id', aggfunc='count')"
   ]
  },
  {
   "cell_type": "code",
   "execution_count": 51,
   "metadata": {},
   "outputs": [
    {
     "data": {
      "text/plain": [
       "Text(0.02, -0.5, 'Количество клиентов с тарифом \"Ультра\": 29.8%')"
      ]
     },
     "execution_count": 51,
     "metadata": {},
     "output_type": "execute_result"
    },
    {
     "data": {
      "image/png": "[encoded data removed]",
      "text/plain": [
       "<Figure size 1080x648 with 1 Axes>"
      ]
     },
     "metadata": {},
     "output_type": "display_data"
    }
   ],
   "source": [
    "# посчитаем процентное соотношение тарифов между клиентами.\n",
    "smart_percent = df_users['user_id'][df_users['tariff'] == 'smart'].count() / df_users['user_id'].count()\n",
    "ultra_percnet = df_users['user_id'][df_users['tariff'] == 'ultra'].count() / df_users['user_id'].count()\n",
    "\n",
    "# текстовые сообщения\n",
    "smart_perncent_text = 'Количество клиентов с тарифом \"Смарт\": {:.1%}'.format(smart_percent)\n",
    "ultra_percnet_text = 'Количество клиентов с тарифом \"Ультра\": {:.1%}'.format(ultra_percnet)\n",
    "\n",
    "#строим круговую диаграмму\n",
    "df_full.pivot_table(index='tariff', values='user_id', aggfunc='count').plot(y='user_id', kind='pie', figsize =(15, 9))\n",
    "plt.title('Соотношение тарифов среди клиентов \"Мегалайн\"', fontsize = 18, fontweight = 'bold')\n",
    "plt.text(-0.1, 0.5, smart_perncent_text, fontsize=12)\n",
    "plt.text(0.02, -0.5, ultra_percnet_text, fontsize=12)\n"
   ]
  },
  {
   "cell_type": "markdown",
   "metadata": {},
   "source": [
    "**Построим гистограммы по услугам для тарифов**"
   ]
  },
  {
   "cell_type": "code",
   "execution_count": 52,
   "metadata": {},
   "outputs": [],
   "source": [
    "# Функция построения гистограммы\n",
    "def plot_my_hist(data=None, index=None, value=None, custom_bins=None):\n",
    "    \"\"\"Plot custom histogram\"\"\"\n",
    "    plt.figure(figsize=(14,6))\n",
    "    plt.title('Histogram of '+value, fontsize=16)\n",
    "    plt.xlabel(value, fontsize=14)\n",
    "    plt.ylabel(\"count\", fontsize=14)\n",
    "    if custom_bins == None:\n",
    "        bins=50\n",
    "    else:\n",
    "        bins=custom_bins\n",
    "    for i in data[index].unique():\n",
    "        plt.hist(data.loc[data[index] == i, value], bins=bins, alpha=0.7)\n",
    "    plt.grid(True)\n",
    "    plt.legend(data[index].unique(), loc='best', fontsize=14)\n",
    "    #plt.show()"
   ]
  },
  {
   "cell_type": "markdown",
   "metadata": {},
   "source": [
    "\n",
    "<br>\n",
    "<br>\n",
    "<font size='4' color=#708090>Сторим гистограммы по звонкам</font>"
   ]
  },
  {
   "cell_type": "code",
   "execution_count": 53,
   "metadata": {},
   "outputs": [
    {
     "data": {
      "image/png": "[encoded data removed]",
      "text/plain": [
       "<Figure size 1008x432 with 1 Axes>"
      ]
     },
     "metadata": {
      "needs_background": "light"
     },
     "output_type": "display_data"
    }
   ],
   "source": [
    "\n",
    "plot_my_hist(df_full, index='tariff', value='calls_duration')\n",
    "min_ylim, max_ylim = plt.ylim()\n",
    "plt.axvline(df_tariffs.loc[df_tariffs['tariff_name'] == 'smart', 'minutes_included'].iloc[0], color='r', linestyle='dashed', linewidth=2)\n",
    "plt.text(df_tariffs.loc[df_tariffs['tariff_name'] == 'smart', 'minutes_included'].iloc[0]*1.05, max_ylim*0.9, 'smart minutes included', fontsize=14)\n",
    "plt.show()"
   ]
  },
  {
   "cell_type": "markdown",
   "metadata": {},
   "source": [
    "Большая часть клиентов перерасходует лимит минут звонков на тарифе SMART. Лимит на тарифе ULTRA не будем отображать на графике так как все (или почти все) клиенты укладываются в лимит звонков предоставляюемый тарифом."
   ]
  },
  {
   "cell_type": "markdown",
   "metadata": {},
   "source": [
    "<br>\n",
    "<br>\n",
    "<font size='4' color=#708090>Сторим гистограммы по сообщениям</font>"
   ]
  },
  {
   "cell_type": "code",
   "execution_count": 54,
   "metadata": {},
   "outputs": [
    {
     "data": {
      "image/png": "[encoded data removed]",
      "text/plain": [
       "<Figure size 1008x432 with 1 Axes>"
      ]
     },
     "metadata": {
      "needs_background": "light"
     },
     "output_type": "display_data"
    }
   ],
   "source": [
    "plot_my_hist(df_full, index='tariff', value='messages')\n",
    "min_ylim, max_ylim = plt.ylim()\n",
    "plt.axvline(df_tariffs.loc[df_tariffs['tariff_name'] == 'smart', 'messages_included'].iloc[0], color='r', linestyle='dashed', linewidth=2)\n",
    "plt.text(df_tariffs.loc[df_tariffs['tariff_name'] == 'smart', 'messages_included'].iloc[0]*1.05, max_ylim*0.9, 'smart messages included', fontsize=14)\n",
    "plt.show()"
   ]
  },
  {
   "cell_type": "markdown",
   "metadata": {},
   "source": [
    "Пользователи тарифа SMART довольно часто пользуются сообщениями сверх лимита. Пользователи тарифа ULTRA укладываются в тариф."
   ]
  },
  {
   "cell_type": "markdown",
   "metadata": {},
   "source": [
    "<br>\n",
    "<br>\n",
    "<font size='4' color=#708090>Сторим гистограммы по интернет-трафику</font>"
   ]
  },
  {
   "cell_type": "code",
   "execution_count": 55,
   "metadata": {},
   "outputs": [
    {
     "data": {
      "image/png": "[encoded data removed]",
      "text/plain": [
       "<Figure size 1008x432 with 1 Axes>"
      ]
     },
     "metadata": {
      "needs_background": "light"
     },
     "output_type": "display_data"
    }
   ],
   "source": [
    "plot_my_hist(df_full, index='tariff', value='mb_used')\n",
    "min_ylim, max_ylim = plt.ylim()\n",
    "plt.axvline(df_tariffs.loc[df_tariffs['tariff_name'] == 'smart', 'mb_per_month_included'].iloc[0], color='r', linestyle='dashed', linewidth=2)\n",
    "plt.text(df_tariffs.loc[df_tariffs['tariff_name'] == 'smart', 'mb_per_month_included'].iloc[0]*1.05, max_ylim*0.9, 'smart mb included', fontsize=14)\n",
    "plt.axvline(df_tariffs.loc[df_tariffs['tariff_name'] == 'ultra', 'mb_per_month_included'].iloc[0], color='b', linestyle='dashed', linewidth=2)\n",
    "plt.text(df_tariffs.loc[df_tariffs['tariff_name'] == 'ultra', 'mb_per_month_included'].iloc[0]*1.05, max_ylim*0.9, 'ultra mb included', fontsize=14)\n",
    "plt.show()"
   ]
  },
  {
   "cell_type": "markdown",
   "metadata": {},
   "source": [
    "Клиенты переплачивают за используемый интернет, особенно это заметно на тарифе SMART (более половины перерасходует лимит трафика)."
   ]
  },
  {
   "cell_type": "markdown",
   "metadata": {},
   "source": [
    "**Вывод:**\n",
    "\n",
    "- Пользователи тарифа ULTRA в среднем больше пользуются всеми услугами связи.\n",
    "- Разброс по использованию услуг связи на тарифе ULTRA выше, чем на тарифе smart. Велика вероятность, что отдельно взятый клиент на тарифе ULTRA пользуется услугами связи меньше, чем отдельной взятый клиент на тарифе SMART. Но нужно отметить, что в выборке пользователей тарифа SMART более, чем в 2 раза больше, чем пользователей тарифы ULTRA, поэтому может быть данные по тарифу ULTRA менее репрезентативны.\n",
    "- Видны всплески на графиках около нуля по продолжительности звонков и, особенно, по количеству смс. Заметная часть пользователей пользуется только интернетом.\n",
    "- Есть заметный перекос вправо на графике использования смс на тарифе ULTRA, но клиенты укладываются в лимит на тарифе.\n",
    "- Гистограммы по тарифу SMART представляют собой нормальное распределение со скошенностью влево по звонкам и сообщениях.\n",
    "- Гистограммы по тарифу ULTRA тоже напоминают нормальное распределение, но разброс значений значительный.\n",
    "- Клиенты переплачивают за используемый интернет, особенно это заметно на тарифе SMART (более половины перерасходует лимит трафика).\n",
    "- Часть клиентов тарифа SMART перерасходуют минуты и сообщения из лимита тарифа."
   ]
  },
  {
   "cell_type": "markdown",
   "metadata": {},
   "source": [
    "## Проверка гипотез"
   ]
  },
  {
   "cell_type": "markdown",
   "metadata": {},
   "source": [
    "Зададим предварительно уровень статистической значимости по которому будем делать вывод по проверке гипотез\n"
   ]
  },
  {
   "cell_type": "code",
   "execution_count": 56,
   "metadata": {},
   "outputs": [],
   "source": [
    "alpha = 0.05 # критический уровень статистической значимости"
   ]
  },
  {
   "cell_type": "markdown",
   "metadata": {},
   "source": [
    "### Гипотеза: средняя выручка пользователей тарифов «Ультра» и «Смарт» различается\n",
    "\n",
    "- Нулевая гипотеза: средние выручки пользователей тарифов «Ультра» и «Смарт» РАВНЫ\n",
    "- Альтернативная гипотеза: средняя выручка пользователей тарифов «Ультра» и «Смарт» РАЗЛИЧАЮТСЯ"
   ]
  },
  {
   "cell_type": "code",
   "execution_count": 57,
   "metadata": {},
   "outputs": [
    {
     "name": "stdout",
     "output_type": "stream",
     "text": [
      "Средняя выручка пользователей тариф ultra:  2060.5299710501267\n",
      "Средняя выручка пользователей тариф smart:  1233.3494665489009\n",
      "p-значение: 1.172655564462924e-190\n",
      "Отвергаем нулевую гипотезу\n"
     ]
    }
   ],
   "source": [
    "results = st.ttest_ind(\n",
    "    df_full.loc[df_full['tariff'] == 'ultra', 'earnings'], \n",
    "    df_full.loc[df_full['tariff'] == 'smart', 'earnings'])\n",
    "\n",
    "print('Средняя выручка пользователей тариф ultra: ', df_full.loc[df_full['tariff'] == 'ultra', 'earnings'].mean())\n",
    "print('Средняя выручка пользователей тариф smart: ', df_full.loc[df_full['tariff'] == 'smart', 'earnings'].mean())\n",
    "\n",
    "print('p-значение:', results.pvalue)\n",
    "\n",
    "if (results.pvalue < alpha):\n",
    "    print(\"Отвергаем нулевую гипотезу\")\n",
    "else:\n",
    "    print(\"Не получилось отвергнуть нулевую гипотезу\")"
   ]
  },
  {
   "cell_type": "markdown",
   "metadata": {},
   "source": [
    "Средние выручки отличаются почти в 2 раза, а проверка гипотезы показывает, что крайне маловероятно, что выборки по выручке равны: p-value 1 в -190 степени."
   ]
  },
  {
   "cell_type": "markdown",
   "metadata": {},
   "source": [
    "### Гипотеза: средняя выручка пользователей из Москвы отличается от выручки пользователей из других регионов\n",
    "\n",
    "- Нулевая гипотеза: средние выручки пользователей Москвы и пользователей из других регионов РАВНЫ\n",
    "- Альтернативная гипотеза: средние выручки пользователей Москвы и пользователей из других регионов РАЗЛИЧАЮТСЯ"
   ]
  },
  {
   "cell_type": "code",
   "execution_count": 58,
   "metadata": {},
   "outputs": [
    {
     "name": "stdout",
     "output_type": "stream",
     "text": [
      "Средняя выручка пользователей в Москве:    1507.276761968085\n",
      "Средняя выручка пользователей в регионах:  1482.0637267996062\n",
      "p-значение: 0.47443187631524797\n",
      "Не получилось отвергнуть нулевую гипотезу\n"
     ]
    }
   ],
   "source": [
    "results = st.ttest_ind(\n",
    "    df_full.loc[df_full['city'] == 'Москва', 'earnings'], \n",
    "    df_full.loc[df_full['city'] != 'Москва', 'earnings'])\n",
    "\n",
    "print('Средняя выручка пользователей в Москве:   ', df_full.loc[df_full['city'] == 'Москва', 'earnings'].mean())\n",
    "print('Средняя выручка пользователей в регионах: ', df_full.loc[df_full['city'] != 'Москва', 'earnings'].mean())\n",
    "\n",
    "print('p-значение:', results.pvalue)\n",
    "\n",
    "if (results.pvalue < alpha):\n",
    "    print(\"Отвергаем нулевую гипотезу\")\n",
    "else:\n",
    "    print(\"Не получилось отвергнуть нулевую гипотезу\")"
   ]
  },
  {
   "cell_type": "markdown",
   "metadata": {},
   "source": [
    "При уровне статистической значимости в 5% мы получаем p-value около 0.5, что не даёт нам оснований отвергнуть гипотезу, что выручки пользователей из Москвы и регионов отличаются. При этом средние выручки в Москве и регионах очень близки."
   ]
  },
  {
   "cell_type": "markdown",
   "metadata": {},
   "source": [
    "**Вывод:**\n",
    "- Мы не отвергаем гипозету, что средние выручки пользователей тарифов «Ультра» и «Смарт» РАВНЫ\n",
    "- У нас нет оснований считать, что выручка пользователей в разных регионах РАЗЛИЧАЮТСЯ"
   ]
  },
  {
   "cell_type": "markdown",
   "metadata": {},
   "source": [
    "## Общий вывод"
   ]
  },
  {
   "cell_type": "markdown",
   "metadata": {},
   "source": [
    "- Мы обработали и проанализировали значения по смс, звонкам и использованному интернет-трафику.  \n",
    "- Сравнили выручку пользователей разных тарифов по месяцам. Построили гистограммы смс, звонков и по интернет-трафику, наложили лимиты тарифов. \n",
    "- Определили, что пользователи тарифа SMART часто используют весь лимит определённый в тарифе, при этом, учитывая, что выручка пользователей тарифа SMART с высокой вероятностью выше, чем пользователей тарифа ULTRA, то предполагаем, что тариф SMART более выгоден для телеком компании."
   ]
  },
  {
   "cell_type": "code",
   "execution_count": null,
   "metadata": {},
   "outputs": [],
   "source": []
  }
 ],
 "metadata": {
  "ExecuteTimeLog": [
   {
    "duration": 571,
    "start_time": "2022-01-24T21:20:12.180Z"
   },
   {
    "duration": 1034,
    "start_time": "2022-01-24T22:42:43.916Z"
   },
   {
    "duration": 3,
    "start_time": "2022-01-24T22:44:17.335Z"
   },
   {
    "duration": 385,
    "start_time": "2022-01-24T22:51:24.209Z"
   },
   {
    "duration": 99,
    "start_time": "2022-01-24T22:51:33.094Z"
   },
   {
    "duration": 3,
    "start_time": "2022-01-24T22:54:07.836Z"
   },
   {
    "duration": 110,
    "start_time": "2022-01-24T22:54:09.895Z"
   },
   {
    "duration": 2102,
    "start_time": "2022-01-24T22:54:18.940Z"
   },
   {
    "duration": -18,
    "start_time": "2022-01-24T22:54:21.062Z"
   },
   {
    "duration": -18,
    "start_time": "2022-01-24T22:54:21.063Z"
   },
   {
    "duration": 3,
    "start_time": "2022-01-24T22:54:27.049Z"
   },
   {
    "duration": 3,
    "start_time": "2022-01-24T22:54:30.051Z"
   },
   {
    "duration": 2104,
    "start_time": "2022-01-24T22:54:42.429Z"
   },
   {
    "duration": 376,
    "start_time": "2022-01-24T22:55:03.638Z"
   },
   {
    "duration": 3,
    "start_time": "2022-01-24T22:55:04.871Z"
   },
   {
    "duration": 113,
    "start_time": "2022-01-24T22:55:05.570Z"
   },
   {
    "duration": 20,
    "start_time": "2022-01-24T22:55:12.537Z"
   },
   {
    "duration": 3,
    "start_time": "2022-01-24T22:59:22.105Z"
   },
   {
    "duration": 21,
    "start_time": "2022-01-24T22:59:22.867Z"
   },
   {
    "duration": 3,
    "start_time": "2022-01-24T22:59:30.200Z"
   },
   {
    "duration": 19,
    "start_time": "2022-01-24T22:59:31.127Z"
   },
   {
    "duration": 3,
    "start_time": "2022-01-24T23:00:00.235Z"
   },
   {
    "duration": 11,
    "start_time": "2022-01-24T23:00:00.843Z"
   },
   {
    "duration": 3,
    "start_time": "2022-01-24T23:00:55.823Z"
   },
   {
    "duration": 21,
    "start_time": "2022-01-24T23:00:56.511Z"
   },
   {
    "duration": 2,
    "start_time": "2022-01-24T23:01:29.976Z"
   },
   {
    "duration": 45,
    "start_time": "2022-01-24T23:01:30.652Z"
   },
   {
    "duration": 3,
    "start_time": "2022-01-24T23:02:04.718Z"
   },
   {
    "duration": 684,
    "start_time": "2022-01-24T23:02:05.391Z"
   },
   {
    "duration": 4,
    "start_time": "2022-01-24T23:02:13.953Z"
   },
   {
    "duration": 42,
    "start_time": "2022-01-24T23:02:14.614Z"
   },
   {
    "duration": 3,
    "start_time": "2022-01-24T23:02:36.466Z"
   },
   {
    "duration": 39,
    "start_time": "2022-01-24T23:02:37.108Z"
   },
   {
    "duration": 44,
    "start_time": "2022-01-24T23:03:25.965Z"
   },
   {
    "duration": 305,
    "start_time": "2022-01-24T23:07:31.578Z"
   },
   {
    "duration": 3,
    "start_time": "2022-01-24T23:07:37.792Z"
   },
   {
    "duration": 39,
    "start_time": "2022-01-24T23:07:39.094Z"
   },
   {
    "duration": 37,
    "start_time": "2022-01-24T23:07:39.971Z"
   },
   {
    "duration": 23,
    "start_time": "2022-01-24T23:09:31.473Z"
   },
   {
    "duration": 3,
    "start_time": "2022-01-24T23:10:22.842Z"
   },
   {
    "duration": 745,
    "start_time": "2022-01-24T23:10:28.441Z"
   },
   {
    "duration": 4,
    "start_time": "2022-01-24T23:10:34.197Z"
   },
   {
    "duration": 696,
    "start_time": "2022-01-24T23:10:35.429Z"
   },
   {
    "duration": 4,
    "start_time": "2022-01-24T23:11:51.798Z"
   },
   {
    "duration": 42,
    "start_time": "2022-01-24T23:11:52.943Z"
   },
   {
    "duration": 40,
    "start_time": "2022-01-24T23:12:04.293Z"
   },
   {
    "duration": 3,
    "start_time": "2022-01-24T23:13:02.466Z"
   },
   {
    "duration": 41,
    "start_time": "2022-01-24T23:13:03.977Z"
   },
   {
    "duration": 7,
    "start_time": "2022-01-24T23:13:50.179Z"
   },
   {
    "duration": 274,
    "start_time": "2022-01-25T19:57:13.337Z"
   },
   {
    "duration": 239,
    "start_time": "2022-01-25T19:57:23.997Z"
   },
   {
    "duration": 1486,
    "start_time": "2022-01-25T19:57:27.850Z"
   },
   {
    "duration": 9,
    "start_time": "2022-01-25T19:57:29.922Z"
   },
   {
    "duration": 312,
    "start_time": "2022-01-25T20:00:02.161Z"
   },
   {
    "duration": 466,
    "start_time": "2022-01-25T20:00:24.409Z"
   },
   {
    "duration": 33,
    "start_time": "2022-01-25T20:00:28.969Z"
   },
   {
    "duration": 5,
    "start_time": "2022-01-25T20:00:46.633Z"
   },
   {
    "duration": 483,
    "start_time": "2022-01-25T20:00:49.682Z"
   },
   {
    "duration": 33,
    "start_time": "2022-01-25T20:00:50.379Z"
   },
   {
    "duration": 3,
    "start_time": "2022-01-25T20:00:59.577Z"
   },
   {
    "duration": 5,
    "start_time": "2022-01-25T20:01:01.199Z"
   },
   {
    "duration": 454,
    "start_time": "2022-01-25T20:01:02.698Z"
   },
   {
    "duration": 30,
    "start_time": "2022-01-25T20:01:03.609Z"
   },
   {
    "duration": 1170,
    "start_time": "2022-01-25T20:01:21.943Z"
   },
   {
    "duration": 7,
    "start_time": "2022-01-25T20:01:24.798Z"
   },
   {
    "duration": 447,
    "start_time": "2022-01-25T20:01:27.079Z"
   },
   {
    "duration": 35,
    "start_time": "2022-01-25T20:01:28.442Z"
   },
   {
    "duration": 5,
    "start_time": "2022-01-25T20:01:50.998Z"
   },
   {
    "duration": 474,
    "start_time": "2022-01-25T20:01:52.796Z"
   },
   {
    "duration": 30,
    "start_time": "2022-01-25T20:01:53.471Z"
   },
   {
    "duration": 32,
    "start_time": "2022-01-25T20:02:12.093Z"
   },
   {
    "duration": 3,
    "start_time": "2022-01-25T20:04:05.239Z"
   },
   {
    "duration": 5,
    "start_time": "2022-01-25T20:04:06.474Z"
   },
   {
    "duration": 599,
    "start_time": "2022-01-25T20:04:07.716Z"
   },
   {
    "duration": 357,
    "start_time": "2022-01-25T20:06:51.553Z"
   },
   {
    "duration": 30,
    "start_time": "2022-01-25T20:07:02.477Z"
   },
   {
    "duration": 29,
    "start_time": "2022-01-25T20:08:54.702Z"
   },
   {
    "duration": 6,
    "start_time": "2022-01-25T20:10:21.282Z"
   },
   {
    "duration": 5,
    "start_time": "2022-01-25T20:10:31.675Z"
   },
   {
    "duration": 6,
    "start_time": "2022-01-25T20:14:57.770Z"
   },
   {
    "duration": 13,
    "start_time": "2022-01-25T20:15:52.616Z"
   },
   {
    "duration": 26,
    "start_time": "2022-01-25T20:16:17.845Z"
   },
   {
    "duration": 24,
    "start_time": "2022-01-25T20:16:28.080Z"
   },
   {
    "duration": 1152,
    "start_time": "2022-01-25T20:18:05.005Z"
   },
   {
    "duration": 6,
    "start_time": "2022-01-25T20:18:06.160Z"
   },
   {
    "duration": 491,
    "start_time": "2022-01-25T20:18:06.168Z"
   },
   {
    "duration": 32,
    "start_time": "2022-01-25T20:18:06.661Z"
   },
   {
    "duration": 25,
    "start_time": "2022-01-25T20:18:06.695Z"
   },
   {
    "duration": 24,
    "start_time": "2022-01-25T20:18:06.721Z"
   },
   {
    "duration": 15,
    "start_time": "2022-01-25T20:18:06.748Z"
   },
   {
    "duration": 44,
    "start_time": "2022-01-25T20:18:06.764Z"
   },
   {
    "duration": 27,
    "start_time": "2022-01-25T20:19:58.012Z"
   },
   {
    "duration": 26,
    "start_time": "2022-01-25T20:21:04.289Z"
   },
   {
    "duration": 24,
    "start_time": "2022-01-25T20:22:15.099Z"
   },
   {
    "duration": 15,
    "start_time": "2022-01-25T20:23:03.241Z"
   },
   {
    "duration": 15,
    "start_time": "2022-01-25T20:23:14.761Z"
   },
   {
    "duration": 428,
    "start_time": "2022-01-25T21:34:10.662Z"
   },
   {
    "duration": 243,
    "start_time": "2022-01-25T21:34:23.505Z"
   },
   {
    "duration": 533,
    "start_time": "2022-01-25T21:34:39.966Z"
   },
   {
    "duration": 75,
    "start_time": "2022-01-25T21:35:29.057Z"
   },
   {
    "duration": 313,
    "start_time": "2022-01-25T21:35:42.175Z"
   },
   {
    "duration": 300,
    "start_time": "2022-01-25T21:36:51.448Z"
   },
   {
    "duration": 360,
    "start_time": "2022-01-25T21:37:09.408Z"
   },
   {
    "duration": 329,
    "start_time": "2022-01-25T21:38:26.881Z"
   },
   {
    "duration": 429,
    "start_time": "2022-01-25T21:40:40.871Z"
   },
   {
    "duration": 702,
    "start_time": "2022-01-25T21:41:22.263Z"
   },
   {
    "duration": 485,
    "start_time": "2022-01-25T21:41:42.450Z"
   },
   {
    "duration": 294,
    "start_time": "2022-01-25T21:41:50.137Z"
   },
   {
    "duration": 365,
    "start_time": "2022-01-25T21:43:24.662Z"
   },
   {
    "duration": 301,
    "start_time": "2022-01-25T21:43:53.921Z"
   },
   {
    "duration": 302,
    "start_time": "2022-01-26T19:28:36.799Z"
   },
   {
    "duration": 1563,
    "start_time": "2022-01-26T19:28:40.801Z"
   },
   {
    "duration": 10,
    "start_time": "2022-01-26T19:28:42.367Z"
   },
   {
    "duration": 534,
    "start_time": "2022-01-26T19:28:44.183Z"
   },
   {
    "duration": 4,
    "start_time": "2022-01-26T19:31:23.480Z"
   },
   {
    "duration": 7,
    "start_time": "2022-01-26T19:31:24.827Z"
   },
   {
    "duration": 634,
    "start_time": "2022-01-26T19:31:27.198Z"
   },
   {
    "duration": 4,
    "start_time": "2022-01-26T19:32:14.251Z"
   },
   {
    "duration": 3,
    "start_time": "2022-01-26T19:32:28.572Z"
   },
   {
    "duration": 6,
    "start_time": "2022-01-26T19:32:32.180Z"
   },
   {
    "duration": 539,
    "start_time": "2022-01-26T19:32:34.844Z"
   },
   {
    "duration": 3,
    "start_time": "2022-01-26T19:37:40.103Z"
   },
   {
    "duration": 3,
    "start_time": "2022-01-26T19:37:50.768Z"
   },
   {
    "duration": 51,
    "start_time": "2022-01-26T19:46:00.817Z"
   },
   {
    "duration": 154,
    "start_time": "2022-01-26T19:48:38.896Z"
   },
   {
    "duration": 10,
    "start_time": "2022-01-26T19:50:58.596Z"
   },
   {
    "duration": 189,
    "start_time": "2022-01-26T19:51:18.695Z"
   },
   {
    "duration": 6,
    "start_time": "2022-01-26T20:06:21.820Z"
   },
   {
    "duration": 16,
    "start_time": "2022-01-26T20:06:43.187Z"
   },
   {
    "duration": 29,
    "start_time": "2022-01-26T20:07:48.495Z"
   },
   {
    "duration": 9,
    "start_time": "2022-01-26T20:08:29.652Z"
   },
   {
    "duration": 141,
    "start_time": "2022-01-26T20:12:31.046Z"
   },
   {
    "duration": 8559,
    "start_time": "2022-01-26T20:12:32.819Z"
   },
   {
    "duration": 69,
    "start_time": "2022-01-26T20:12:41.312Z"
   },
   {
    "duration": 70,
    "start_time": "2022-01-26T20:12:41.313Z"
   },
   {
    "duration": 6421,
    "start_time": "2022-01-26T20:12:44.514Z"
   },
   {
    "duration": 71,
    "start_time": "2022-01-26T20:12:50.868Z"
   },
   {
    "duration": 17,
    "start_time": "2022-01-26T20:12:51.106Z"
   },
   {
    "duration": 191,
    "start_time": "2022-01-26T20:13:07.546Z"
   },
   {
    "duration": 25,
    "start_time": "2022-01-26T20:13:27.121Z"
   },
   {
    "duration": 6629,
    "start_time": "2022-01-26T20:13:51.998Z"
   },
   {
    "duration": 34,
    "start_time": "2022-01-26T20:13:58.596Z"
   },
   {
    "duration": 13,
    "start_time": "2022-01-26T20:14:13.096Z"
   },
   {
    "duration": 1849,
    "start_time": "2022-01-26T20:14:26.726Z"
   },
   {
    "duration": 12,
    "start_time": "2022-01-26T20:14:28.579Z"
   },
   {
    "duration": 779,
    "start_time": "2022-01-26T20:14:28.595Z"
   },
   {
    "duration": 63,
    "start_time": "2022-01-26T20:14:29.378Z"
   },
   {
    "duration": 5,
    "start_time": "2022-01-26T20:14:29.444Z"
   },
   {
    "duration": 46,
    "start_time": "2022-01-26T20:14:29.452Z"
   },
   {
    "duration": 4,
    "start_time": "2022-01-26T20:14:29.500Z"
   },
   {
    "duration": 59,
    "start_time": "2022-01-26T20:14:29.534Z"
   },
   {
    "duration": 47,
    "start_time": "2022-01-26T20:14:29.597Z"
   },
   {
    "duration": 33,
    "start_time": "2022-01-26T20:14:29.647Z"
   },
   {
    "duration": 71,
    "start_time": "2022-01-26T20:14:29.683Z"
   },
   {
    "duration": 284,
    "start_time": "2022-01-26T20:14:29.757Z"
   },
   {
    "duration": 6,
    "start_time": "2022-01-26T20:14:30.045Z"
   },
   {
    "duration": 22,
    "start_time": "2022-01-26T20:14:30.055Z"
   },
   {
    "duration": 77,
    "start_time": "2022-01-26T20:14:30.080Z"
   },
   {
    "duration": 164,
    "start_time": "2022-01-26T20:14:30.160Z"
   },
   {
    "duration": 24,
    "start_time": "2022-01-26T20:14:30.326Z"
   },
   {
    "duration": 112,
    "start_time": "2022-01-26T20:17:55.356Z"
   },
   {
    "duration": 14,
    "start_time": "2022-01-26T20:18:08.700Z"
   },
   {
    "duration": 11,
    "start_time": "2022-01-26T20:18:57.278Z"
   },
   {
    "duration": 140,
    "start_time": "2022-01-26T20:19:24.650Z"
   },
   {
    "duration": 11,
    "start_time": "2022-01-26T20:19:25.357Z"
   },
   {
    "duration": 13,
    "start_time": "2022-01-26T20:19:27.124Z"
   },
   {
    "duration": 7,
    "start_time": "2022-01-26T20:49:13.103Z"
   },
   {
    "duration": 7,
    "start_time": "2022-01-26T20:49:29.293Z"
   },
   {
    "duration": 18,
    "start_time": "2022-01-26T20:55:49.458Z"
   },
   {
    "duration": 12,
    "start_time": "2022-01-26T20:57:19.359Z"
   },
   {
    "duration": 28,
    "start_time": "2022-01-26T20:58:20.513Z"
   },
   {
    "duration": 5,
    "start_time": "2022-01-26T21:01:46.703Z"
   },
   {
    "duration": 134,
    "start_time": "2022-01-26T21:05:29.169Z"
   },
   {
    "duration": 154,
    "start_time": "2022-01-26T21:05:43.296Z"
   },
   {
    "duration": 10,
    "start_time": "2022-01-26T21:06:38.457Z"
   },
   {
    "duration": 144,
    "start_time": "2022-01-26T21:06:41.057Z"
   },
   {
    "duration": 6671,
    "start_time": "2022-01-26T21:07:29.049Z"
   },
   {
    "duration": 7701,
    "start_time": "2022-01-26T21:07:41.202Z"
   },
   {
    "duration": 10,
    "start_time": "2022-01-26T21:08:06.845Z"
   },
   {
    "duration": 6801,
    "start_time": "2022-01-26T21:08:16.992Z"
   },
   {
    "duration": 28,
    "start_time": "2022-01-26T21:08:23.768Z"
   },
   {
    "duration": 6386,
    "start_time": "2022-01-26T21:08:28.113Z"
   },
   {
    "duration": -21,
    "start_time": "2022-01-26T21:08:34.523Z"
   },
   {
    "duration": 1394,
    "start_time": "2022-01-26T21:08:40.463Z"
   },
   {
    "duration": 12,
    "start_time": "2022-01-26T21:08:41.861Z"
   },
   {
    "duration": 646,
    "start_time": "2022-01-26T21:08:41.876Z"
   },
   {
    "duration": 57,
    "start_time": "2022-01-26T21:08:42.525Z"
   },
   {
    "duration": 3,
    "start_time": "2022-01-26T21:08:42.584Z"
   },
   {
    "duration": 65,
    "start_time": "2022-01-26T21:08:42.590Z"
   },
   {
    "duration": 5,
    "start_time": "2022-01-26T21:08:42.659Z"
   },
   {
    "duration": 32,
    "start_time": "2022-01-26T21:08:42.670Z"
   },
   {
    "duration": 53,
    "start_time": "2022-01-26T21:08:42.706Z"
   },
   {
    "duration": 35,
    "start_time": "2022-01-26T21:08:42.761Z"
   },
   {
    "duration": 81,
    "start_time": "2022-01-26T21:08:42.798Z"
   },
   {
    "duration": 189,
    "start_time": "2022-01-26T21:08:42.882Z"
   },
   {
    "duration": 14,
    "start_time": "2022-01-26T21:08:43.074Z"
   },
   {
    "duration": 4,
    "start_time": "2022-01-26T21:08:43.091Z"
   },
   {
    "duration": 59,
    "start_time": "2022-01-26T21:08:43.097Z"
   },
   {
    "duration": 125,
    "start_time": "2022-01-26T21:08:43.160Z"
   },
   {
    "duration": 13,
    "start_time": "2022-01-26T21:08:43.288Z"
   },
   {
    "duration": 41,
    "start_time": "2022-01-26T21:08:43.304Z"
   },
   {
    "duration": 1514,
    "start_time": "2022-01-26T21:10:51.638Z"
   },
   {
    "duration": 11,
    "start_time": "2022-01-26T21:10:53.156Z"
   },
   {
    "duration": 589,
    "start_time": "2022-01-26T21:10:53.170Z"
   },
   {
    "duration": 39,
    "start_time": "2022-01-26T21:10:53.762Z"
   },
   {
    "duration": 3,
    "start_time": "2022-01-26T21:10:53.803Z"
   },
   {
    "duration": 46,
    "start_time": "2022-01-26T21:10:53.808Z"
   },
   {
    "duration": 4,
    "start_time": "2022-01-26T21:10:53.856Z"
   },
   {
    "duration": 31,
    "start_time": "2022-01-26T21:10:53.862Z"
   },
   {
    "duration": 57,
    "start_time": "2022-01-26T21:10:53.897Z"
   },
   {
    "duration": 21,
    "start_time": "2022-01-26T21:10:53.957Z"
   },
   {
    "duration": 74,
    "start_time": "2022-01-26T21:10:53.981Z"
   },
   {
    "duration": 189,
    "start_time": "2022-01-26T21:10:54.057Z"
   },
   {
    "duration": 19,
    "start_time": "2022-01-26T21:10:54.249Z"
   },
   {
    "duration": 6,
    "start_time": "2022-01-26T21:10:54.271Z"
   },
   {
    "duration": 71,
    "start_time": "2022-01-26T21:10:54.279Z"
   },
   {
    "duration": 131,
    "start_time": "2022-01-26T21:10:54.353Z"
   },
   {
    "duration": 14,
    "start_time": "2022-01-26T21:10:54.486Z"
   },
   {
    "duration": 30,
    "start_time": "2022-01-26T21:10:54.502Z"
   },
   {
    "duration": 7,
    "start_time": "2022-01-26T21:11:59.020Z"
   },
   {
    "duration": 1380,
    "start_time": "2022-01-26T21:12:08.945Z"
   },
   {
    "duration": 14,
    "start_time": "2022-01-26T21:12:10.328Z"
   },
   {
    "duration": 548,
    "start_time": "2022-01-26T21:12:10.346Z"
   },
   {
    "duration": 61,
    "start_time": "2022-01-26T21:12:10.898Z"
   },
   {
    "duration": 4,
    "start_time": "2022-01-26T21:12:10.962Z"
   },
   {
    "duration": 40,
    "start_time": "2022-01-26T21:12:10.968Z"
   },
   {
    "duration": 25,
    "start_time": "2022-01-26T21:12:11.010Z"
   },
   {
    "duration": 39,
    "start_time": "2022-01-26T21:12:11.041Z"
   },
   {
    "duration": 17,
    "start_time": "2022-01-26T21:12:11.084Z"
   },
   {
    "duration": 56,
    "start_time": "2022-01-26T21:12:11.103Z"
   },
   {
    "duration": 71,
    "start_time": "2022-01-26T21:12:11.162Z"
   },
   {
    "duration": 278,
    "start_time": "2022-01-26T21:12:11.236Z"
   },
   {
    "duration": 28,
    "start_time": "2022-01-26T21:12:11.517Z"
   },
   {
    "duration": 6,
    "start_time": "2022-01-26T21:12:11.548Z"
   },
   {
    "duration": 56,
    "start_time": "2022-01-26T21:12:11.557Z"
   },
   {
    "duration": 200,
    "start_time": "2022-01-26T21:12:11.633Z"
   },
   {
    "duration": 19,
    "start_time": "2022-01-26T21:12:11.836Z"
   },
   {
    "duration": 29,
    "start_time": "2022-01-26T21:12:11.859Z"
   },
   {
    "duration": 4,
    "start_time": "2022-01-26T21:12:44.614Z"
   },
   {
    "duration": 1453,
    "start_time": "2022-01-26T21:12:53.598Z"
   },
   {
    "duration": 8,
    "start_time": "2022-01-26T21:12:55.054Z"
   },
   {
    "duration": 567,
    "start_time": "2022-01-26T21:12:55.070Z"
   },
   {
    "duration": 39,
    "start_time": "2022-01-26T21:12:55.640Z"
   },
   {
    "duration": 5,
    "start_time": "2022-01-26T21:12:55.681Z"
   },
   {
    "duration": 64,
    "start_time": "2022-01-26T21:12:55.688Z"
   },
   {
    "duration": 3,
    "start_time": "2022-01-26T21:12:55.755Z"
   },
   {
    "duration": 30,
    "start_time": "2022-01-26T21:12:55.762Z"
   },
   {
    "duration": 52,
    "start_time": "2022-01-26T21:12:55.795Z"
   },
   {
    "duration": 35,
    "start_time": "2022-01-26T21:12:55.849Z"
   },
   {
    "duration": 57,
    "start_time": "2022-01-26T21:12:55.886Z"
   },
   {
    "duration": 171,
    "start_time": "2022-01-26T21:12:55.945Z"
   },
   {
    "duration": 27,
    "start_time": "2022-01-26T21:12:56.118Z"
   },
   {
    "duration": 6,
    "start_time": "2022-01-26T21:12:56.148Z"
   },
   {
    "duration": 31,
    "start_time": "2022-01-26T21:12:56.157Z"
   },
   {
    "duration": 133,
    "start_time": "2022-01-26T21:12:56.191Z"
   },
   {
    "duration": 19,
    "start_time": "2022-01-26T21:12:56.327Z"
   },
   {
    "duration": 31,
    "start_time": "2022-01-26T21:12:56.349Z"
   },
   {
    "duration": 24,
    "start_time": "2022-01-26T21:15:55.978Z"
   },
   {
    "duration": 11,
    "start_time": "2022-01-26T21:16:10.623Z"
   },
   {
    "duration": 8,
    "start_time": "2022-01-26T21:16:17.168Z"
   },
   {
    "duration": 6414,
    "start_time": "2022-01-26T21:16:24.926Z"
   },
   {
    "duration": 49,
    "start_time": "2022-01-26T21:16:31.295Z"
   },
   {
    "duration": 50,
    "start_time": "2022-01-26T21:16:31.296Z"
   },
   {
    "duration": 51,
    "start_time": "2022-01-26T21:16:31.297Z"
   },
   {
    "duration": 47,
    "start_time": "2022-01-26T21:16:31.303Z"
   },
   {
    "duration": 1347,
    "start_time": "2022-01-26T21:16:39.947Z"
   },
   {
    "duration": 8,
    "start_time": "2022-01-26T21:16:41.297Z"
   },
   {
    "duration": 516,
    "start_time": "2022-01-26T21:16:41.308Z"
   },
   {
    "duration": 42,
    "start_time": "2022-01-26T21:16:41.827Z"
   },
   {
    "duration": 4,
    "start_time": "2022-01-26T21:16:41.871Z"
   },
   {
    "duration": 32,
    "start_time": "2022-01-26T21:16:41.877Z"
   },
   {
    "duration": 25,
    "start_time": "2022-01-26T21:16:41.912Z"
   },
   {
    "duration": 31,
    "start_time": "2022-01-26T21:16:41.940Z"
   },
   {
    "duration": 18,
    "start_time": "2022-01-26T21:16:41.976Z"
   },
   {
    "duration": 58,
    "start_time": "2022-01-26T21:16:41.997Z"
   },
   {
    "duration": 77,
    "start_time": "2022-01-26T21:16:42.057Z"
   },
   {
    "duration": 210,
    "start_time": "2022-01-26T21:16:42.136Z"
   },
   {
    "duration": 14,
    "start_time": "2022-01-26T21:16:42.349Z"
   },
   {
    "duration": 4,
    "start_time": "2022-01-26T21:16:42.366Z"
   },
   {
    "duration": 32,
    "start_time": "2022-01-26T21:16:42.372Z"
   },
   {
    "duration": 124,
    "start_time": "2022-01-26T21:16:42.433Z"
   },
   {
    "duration": 11,
    "start_time": "2022-01-26T21:16:42.560Z"
   },
   {
    "duration": 18,
    "start_time": "2022-01-26T21:16:42.573Z"
   },
   {
    "duration": 46,
    "start_time": "2022-01-26T21:16:42.593Z"
   },
   {
    "duration": 8,
    "start_time": "2022-01-26T21:18:48.545Z"
   },
   {
    "duration": 12,
    "start_time": "2022-01-26T21:21:02.486Z"
   },
   {
    "duration": 30,
    "start_time": "2022-01-26T21:33:09.331Z"
   },
   {
    "duration": 11,
    "start_time": "2022-01-26T21:35:51.241Z"
   },
   {
    "duration": 13,
    "start_time": "2022-01-26T21:49:43.445Z"
   },
   {
    "duration": 14,
    "start_time": "2022-01-26T21:50:13.047Z"
   },
   {
    "duration": 7,
    "start_time": "2022-01-26T21:50:47.207Z"
   },
   {
    "duration": 15,
    "start_time": "2022-01-26T21:50:48.556Z"
   },
   {
    "duration": 7,
    "start_time": "2022-01-26T21:51:36.638Z"
   },
   {
    "duration": 14,
    "start_time": "2022-01-26T21:51:37.545Z"
   },
   {
    "duration": 7,
    "start_time": "2022-01-26T21:52:03.699Z"
   },
   {
    "duration": 18,
    "start_time": "2022-01-26T21:52:04.726Z"
   },
   {
    "duration": 9,
    "start_time": "2022-01-26T21:53:19.331Z"
   },
   {
    "duration": 6,
    "start_time": "2022-01-26T21:55:35.094Z"
   },
   {
    "duration": 1457,
    "start_time": "2022-01-26T21:58:07.233Z"
   },
   {
    "duration": 8,
    "start_time": "2022-01-26T21:58:08.693Z"
   },
   {
    "duration": 546,
    "start_time": "2022-01-26T21:58:08.704Z"
   },
   {
    "duration": 39,
    "start_time": "2022-01-26T21:58:09.253Z"
   },
   {
    "duration": 3,
    "start_time": "2022-01-26T21:58:09.294Z"
   },
   {
    "duration": 54,
    "start_time": "2022-01-26T21:58:09.299Z"
   },
   {
    "duration": 3,
    "start_time": "2022-01-26T21:58:09.355Z"
   },
   {
    "duration": 30,
    "start_time": "2022-01-26T21:58:09.360Z"
   },
   {
    "duration": 47,
    "start_time": "2022-01-26T21:58:09.394Z"
   },
   {
    "duration": 37,
    "start_time": "2022-01-26T21:58:09.444Z"
   },
   {
    "duration": 84,
    "start_time": "2022-01-26T21:58:09.484Z"
   },
   {
    "duration": 167,
    "start_time": "2022-01-26T21:58:09.571Z"
   },
   {
    "duration": 17,
    "start_time": "2022-01-26T21:58:09.740Z"
   },
   {
    "duration": 4,
    "start_time": "2022-01-26T21:58:09.760Z"
   },
   {
    "duration": 31,
    "start_time": "2022-01-26T21:58:09.766Z"
   },
   {
    "duration": 123,
    "start_time": "2022-01-26T21:58:09.832Z"
   },
   {
    "duration": 11,
    "start_time": "2022-01-26T21:58:09.957Z"
   },
   {
    "duration": 14,
    "start_time": "2022-01-26T21:58:09.970Z"
   },
   {
    "duration": 27,
    "start_time": "2022-01-26T21:58:09.987Z"
   },
   {
    "duration": 30,
    "start_time": "2022-01-26T21:58:10.033Z"
   },
   {
    "duration": 11,
    "start_time": "2022-01-26T21:58:10.066Z"
   },
   {
    "duration": 75,
    "start_time": "2022-01-26T21:58:10.080Z"
   },
   {
    "duration": 8,
    "start_time": "2022-01-26T21:58:10.157Z"
   },
   {
    "duration": 12,
    "start_time": "2022-01-26T22:17:15.032Z"
   },
   {
    "duration": 97,
    "start_time": "2022-01-26T22:17:24.691Z"
   },
   {
    "duration": 12,
    "start_time": "2022-01-26T22:17:25.382Z"
   },
   {
    "duration": 1313,
    "start_time": "2022-01-26T22:17:36.241Z"
   },
   {
    "duration": 8,
    "start_time": "2022-01-26T22:17:37.557Z"
   },
   {
    "duration": 499,
    "start_time": "2022-01-26T22:17:37.568Z"
   },
   {
    "duration": 37,
    "start_time": "2022-01-26T22:17:38.070Z"
   },
   {
    "duration": 3,
    "start_time": "2022-01-26T22:17:38.109Z"
   },
   {
    "duration": 32,
    "start_time": "2022-01-26T22:17:38.115Z"
   },
   {
    "duration": 4,
    "start_time": "2022-01-26T22:17:38.149Z"
   },
   {
    "duration": 28,
    "start_time": "2022-01-26T22:17:38.156Z"
   },
   {
    "duration": 48,
    "start_time": "2022-01-26T22:17:38.187Z"
   },
   {
    "duration": 21,
    "start_time": "2022-01-26T22:17:38.238Z"
   },
   {
    "duration": 72,
    "start_time": "2022-01-26T22:17:38.262Z"
   },
   {
    "duration": 165,
    "start_time": "2022-01-26T22:17:38.338Z"
   },
   {
    "duration": 13,
    "start_time": "2022-01-26T22:17:38.506Z"
   },
   {
    "duration": 13,
    "start_time": "2022-01-26T22:17:38.521Z"
   },
   {
    "duration": 28,
    "start_time": "2022-01-26T22:17:38.536Z"
   },
   {
    "duration": 132,
    "start_time": "2022-01-26T22:17:38.566Z"
   },
   {
    "duration": 11,
    "start_time": "2022-01-26T22:17:38.701Z"
   },
   {
    "duration": 23,
    "start_time": "2022-01-26T22:17:38.714Z"
   },
   {
    "duration": 23,
    "start_time": "2022-01-26T22:17:38.739Z"
   },
   {
    "duration": 10,
    "start_time": "2022-01-26T22:17:38.765Z"
   },
   {
    "duration": 58,
    "start_time": "2022-01-26T22:17:38.777Z"
   },
   {
    "duration": 7,
    "start_time": "2022-01-26T22:17:38.838Z"
   },
   {
    "duration": 111,
    "start_time": "2022-01-26T22:29:29.339Z"
   },
   {
    "duration": 59,
    "start_time": "2022-01-26T22:30:13.003Z"
   },
   {
    "duration": 53,
    "start_time": "2022-01-26T22:30:40.988Z"
   },
   {
    "duration": 9,
    "start_time": "2022-01-26T22:31:25.683Z"
   },
   {
    "duration": 7,
    "start_time": "2022-01-26T22:31:33.356Z"
   },
   {
    "duration": 2046,
    "start_time": "2022-01-27T21:35:32.081Z"
   },
   {
    "duration": 1178,
    "start_time": "2022-01-27T21:35:42.699Z"
   },
   {
    "duration": 5,
    "start_time": "2022-01-27T21:35:43.879Z"
   },
   {
    "duration": 439,
    "start_time": "2022-01-27T21:35:43.886Z"
   },
   {
    "duration": 27,
    "start_time": "2022-01-27T21:35:44.327Z"
   },
   {
    "duration": 3,
    "start_time": "2022-01-27T21:35:44.356Z"
   },
   {
    "duration": 25,
    "start_time": "2022-01-27T21:35:44.360Z"
   },
   {
    "duration": 2,
    "start_time": "2022-01-27T21:35:44.387Z"
   },
   {
    "duration": 26,
    "start_time": "2022-01-27T21:35:44.390Z"
   },
   {
    "duration": 12,
    "start_time": "2022-01-27T21:35:44.418Z"
   },
   {
    "duration": 67,
    "start_time": "2022-01-27T21:35:44.432Z"
   },
   {
    "duration": 33,
    "start_time": "2022-01-27T21:35:44.500Z"
   },
   {
    "duration": 129,
    "start_time": "2022-01-27T21:35:44.534Z"
   },
   {
    "duration": 33,
    "start_time": "2022-01-27T21:35:44.665Z"
   },
   {
    "duration": 15,
    "start_time": "2022-01-27T21:35:44.700Z"
   },
   {
    "duration": 109,
    "start_time": "2022-01-27T21:35:44.717Z"
   },
   {
    "duration": 3,
    "start_time": "2022-01-27T21:35:44.828Z"
   },
   {
    "duration": 24,
    "start_time": "2022-01-27T21:35:44.832Z"
   },
   {
    "duration": 95,
    "start_time": "2022-01-27T21:35:44.858Z"
   },
   {
    "duration": 7,
    "start_time": "2022-01-27T21:35:44.955Z"
   },
   {
    "duration": 11,
    "start_time": "2022-01-27T21:35:44.964Z"
   },
   {
    "duration": 60,
    "start_time": "2022-01-27T21:35:44.976Z"
   },
   {
    "duration": 17,
    "start_time": "2022-01-27T21:35:45.038Z"
   },
   {
    "duration": 64,
    "start_time": "2022-01-27T21:35:45.056Z"
   },
   {
    "duration": 7,
    "start_time": "2022-01-27T21:35:45.121Z"
   },
   {
    "duration": 19,
    "start_time": "2022-01-27T21:35:45.130Z"
   },
   {
    "duration": 6,
    "start_time": "2022-01-27T21:35:45.150Z"
   },
   {
    "duration": 42,
    "start_time": "2022-01-27T21:35:45.160Z"
   },
   {
    "duration": 27,
    "start_time": "2022-01-27T21:36:13.032Z"
   },
   {
    "duration": 17,
    "start_time": "2022-01-27T21:36:51.895Z"
   },
   {
    "duration": 8,
    "start_time": "2022-01-27T21:36:52.776Z"
   },
   {
    "duration": 21,
    "start_time": "2022-01-27T21:38:20.589Z"
   },
   {
    "duration": 8,
    "start_time": "2022-01-27T21:38:26.677Z"
   },
   {
    "duration": 27,
    "start_time": "2022-01-27T21:38:34.283Z"
   },
   {
    "duration": 74,
    "start_time": "2022-01-27T21:38:40.427Z"
   },
   {
    "duration": 396,
    "start_time": "2022-01-27T21:43:00.968Z"
   },
   {
    "duration": 48,
    "start_time": "2022-01-27T21:43:44.792Z"
   },
   {
    "duration": 272,
    "start_time": "2022-01-27T21:45:49.690Z"
   },
   {
    "duration": 268,
    "start_time": "2022-01-27T21:46:39.874Z"
   },
   {
    "duration": 277,
    "start_time": "2022-01-27T21:46:58.169Z"
   },
   {
    "duration": 254,
    "start_time": "2022-01-27T21:47:29.355Z"
   },
   {
    "duration": 285,
    "start_time": "2022-01-27T21:47:42.447Z"
   },
   {
    "duration": 32,
    "start_time": "2022-01-27T21:48:14.392Z"
   },
   {
    "duration": 34,
    "start_time": "2022-01-27T21:58:56.238Z"
   },
   {
    "duration": 19,
    "start_time": "2022-01-27T22:00:10.122Z"
   },
   {
    "duration": 18,
    "start_time": "2022-01-27T22:02:48.683Z"
   },
   {
    "duration": 19,
    "start_time": "2022-01-27T22:02:52.735Z"
   },
   {
    "duration": 20,
    "start_time": "2022-01-27T22:03:03.842Z"
   },
   {
    "duration": 4,
    "start_time": "2022-01-27T22:03:08.387Z"
   },
   {
    "duration": 18,
    "start_time": "2022-01-27T22:03:37.130Z"
   },
   {
    "duration": 274,
    "start_time": "2022-01-27T22:04:23.073Z"
   },
   {
    "duration": 5,
    "start_time": "2022-01-27T22:04:44.911Z"
   },
   {
    "duration": 83,
    "start_time": "2022-01-27T22:05:40.395Z"
   },
   {
    "duration": 4,
    "start_time": "2022-01-27T22:05:49.234Z"
   },
   {
    "duration": 4,
    "start_time": "2022-01-27T22:07:11.787Z"
   },
   {
    "duration": 33,
    "start_time": "2022-01-27T22:09:37.498Z"
   },
   {
    "duration": 5,
    "start_time": "2022-01-27T22:11:50.687Z"
   },
   {
    "duration": 30,
    "start_time": "2022-01-27T22:12:06.490Z"
   },
   {
    "duration": 25,
    "start_time": "2022-01-27T22:13:46.729Z"
   },
   {
    "duration": 6,
    "start_time": "2022-01-27T22:18:14.775Z"
   },
   {
    "duration": 8,
    "start_time": "2022-01-27T22:18:24.090Z"
   },
   {
    "duration": 4,
    "start_time": "2022-01-27T22:20:29.420Z"
   },
   {
    "duration": 17,
    "start_time": "2022-01-27T22:23:15.440Z"
   },
   {
    "duration": 1117,
    "start_time": "2022-01-27T22:23:53.468Z"
   },
   {
    "duration": 5,
    "start_time": "2022-01-27T22:23:54.587Z"
   },
   {
    "duration": 443,
    "start_time": "2022-01-27T22:23:54.599Z"
   },
   {
    "duration": 29,
    "start_time": "2022-01-27T22:23:55.044Z"
   },
   {
    "duration": 5,
    "start_time": "2022-01-27T22:23:55.075Z"
   },
   {
    "duration": 31,
    "start_time": "2022-01-27T22:23:55.082Z"
   },
   {
    "duration": 3,
    "start_time": "2022-01-27T22:23:55.115Z"
   },
   {
    "duration": 26,
    "start_time": "2022-01-27T22:23:55.119Z"
   },
   {
    "duration": 16,
    "start_time": "2022-01-27T22:23:55.148Z"
   },
   {
    "duration": 43,
    "start_time": "2022-01-27T22:23:55.168Z"
   },
   {
    "duration": 34,
    "start_time": "2022-01-27T22:23:55.213Z"
   },
   {
    "duration": 132,
    "start_time": "2022-01-27T22:23:55.249Z"
   },
   {
    "duration": 35,
    "start_time": "2022-01-27T22:23:55.383Z"
   },
   {
    "duration": 17,
    "start_time": "2022-01-27T22:23:55.420Z"
   },
   {
    "duration": 134,
    "start_time": "2022-01-27T22:23:55.439Z"
   },
   {
    "duration": 4,
    "start_time": "2022-01-27T22:23:55.575Z"
   },
   {
    "duration": 39,
    "start_time": "2022-01-27T22:23:55.581Z"
   },
   {
    "duration": 97,
    "start_time": "2022-01-27T22:23:55.623Z"
   },
   {
    "duration": 20,
    "start_time": "2022-01-27T22:23:55.722Z"
   },
   {
    "duration": 10,
    "start_time": "2022-01-27T22:23:55.744Z"
   },
   {
    "duration": 44,
    "start_time": "2022-01-27T22:23:55.756Z"
   },
   {
    "duration": 41,
    "start_time": "2022-01-27T22:23:55.802Z"
   },
   {
    "duration": 19,
    "start_time": "2022-01-27T22:23:55.845Z"
   },
   {
    "duration": 49,
    "start_time": "2022-01-27T22:23:55.866Z"
   },
   {
    "duration": 77,
    "start_time": "2022-01-27T22:23:55.922Z"
   },
   {
    "duration": 13,
    "start_time": "2022-01-27T22:23:56.002Z"
   },
   {
    "duration": 23,
    "start_time": "2022-01-27T22:23:56.019Z"
   },
   {
    "duration": 7,
    "start_time": "2022-01-27T22:23:56.045Z"
   },
   {
    "duration": 58,
    "start_time": "2022-01-27T22:23:56.054Z"
   },
   {
    "duration": 48,
    "start_time": "2022-01-27T22:23:56.115Z"
   },
   {
    "duration": 27,
    "start_time": "2022-01-27T22:23:56.165Z"
   },
   {
    "duration": 19,
    "start_time": "2022-01-27T22:23:56.193Z"
   },
   {
    "duration": 48,
    "start_time": "2022-01-27T22:23:56.215Z"
   },
   {
    "duration": 5,
    "start_time": "2022-01-27T22:23:56.265Z"
   },
   {
    "duration": 63,
    "start_time": "2022-01-27T22:23:56.273Z"
   },
   {
    "duration": 36,
    "start_time": "2022-01-27T22:23:56.339Z"
   },
   {
    "duration": 22,
    "start_time": "2022-01-27T22:23:56.377Z"
   },
   {
    "duration": 47,
    "start_time": "2022-01-27T22:23:56.402Z"
   },
   {
    "duration": 89,
    "start_time": "2022-01-27T22:25:59.181Z"
   },
   {
    "duration": 86,
    "start_time": "2022-01-27T22:26:54.202Z"
   },
   {
    "duration": 93,
    "start_time": "2022-01-27T22:27:08.087Z"
   },
   {
    "duration": 8,
    "start_time": "2022-01-27T22:28:55.434Z"
   },
   {
    "duration": 22,
    "start_time": "2022-01-27T22:31:19.051Z"
   },
   {
    "duration": 23,
    "start_time": "2022-01-27T22:34:29.970Z"
   },
   {
    "duration": 19,
    "start_time": "2022-01-27T22:36:00.662Z"
   },
   {
    "duration": 19,
    "start_time": "2022-01-27T22:37:42.534Z"
   },
   {
    "duration": 463,
    "start_time": "2022-01-27T22:44:15.460Z"
   },
   {
    "duration": 17,
    "start_time": "2022-01-27T22:45:34.134Z"
   },
   {
    "duration": 16,
    "start_time": "2022-01-27T22:46:10.862Z"
   },
   {
    "duration": 5,
    "start_time": "2022-01-27T22:51:08.033Z"
   },
   {
    "duration": 5,
    "start_time": "2022-01-27T22:51:41.900Z"
   },
   {
    "duration": 4942,
    "start_time": "2022-01-27T22:51:43.101Z"
   },
   {
    "duration": 4,
    "start_time": "2022-01-27T22:53:14.773Z"
   },
   {
    "duration": 95,
    "start_time": "2022-01-27T23:03:36.609Z"
   },
   {
    "duration": 4952,
    "start_time": "2022-01-27T23:03:39.359Z"
   },
   {
    "duration": 122,
    "start_time": "2022-01-27T23:04:09.563Z"
   },
   {
    "duration": 93,
    "start_time": "2022-01-27T23:06:09.833Z"
   },
   {
    "duration": 86,
    "start_time": "2022-01-27T23:06:19.739Z"
   },
   {
    "duration": 96,
    "start_time": "2022-01-27T23:06:39.456Z"
   },
   {
    "duration": 86,
    "start_time": "2022-01-27T23:06:52.801Z"
   },
   {
    "duration": 87,
    "start_time": "2022-01-27T23:07:08.658Z"
   },
   {
    "duration": 155,
    "start_time": "2022-01-27T23:07:40.432Z"
   },
   {
    "duration": 86,
    "start_time": "2022-01-27T23:08:23.208Z"
   },
   {
    "duration": 93,
    "start_time": "2022-01-27T23:08:33.168Z"
   },
   {
    "duration": 102,
    "start_time": "2022-01-27T23:09:31.274Z"
   },
   {
    "duration": 1112,
    "start_time": "2022-01-27T23:09:48.768Z"
   },
   {
    "duration": 6,
    "start_time": "2022-01-27T23:09:49.883Z"
   },
   {
    "duration": 422,
    "start_time": "2022-01-27T23:09:49.899Z"
   },
   {
    "duration": 29,
    "start_time": "2022-01-27T23:09:50.324Z"
   },
   {
    "duration": 2,
    "start_time": "2022-01-27T23:09:50.355Z"
   },
   {
    "duration": 33,
    "start_time": "2022-01-27T23:09:50.359Z"
   },
   {
    "duration": 4,
    "start_time": "2022-01-27T23:09:50.394Z"
   },
   {
    "duration": 21,
    "start_time": "2022-01-27T23:09:50.401Z"
   },
   {
    "duration": 12,
    "start_time": "2022-01-27T23:09:50.425Z"
   },
   {
    "duration": 20,
    "start_time": "2022-01-27T23:09:50.438Z"
   },
   {
    "duration": 72,
    "start_time": "2022-01-27T23:09:50.460Z"
   },
   {
    "duration": 103,
    "start_time": "2022-01-27T23:09:50.534Z"
   },
   {
    "duration": 29,
    "start_time": "2022-01-27T23:09:50.639Z"
   },
   {
    "duration": 33,
    "start_time": "2022-01-27T23:09:50.669Z"
   },
   {
    "duration": 117,
    "start_time": "2022-01-27T23:09:50.704Z"
   },
   {
    "duration": 3,
    "start_time": "2022-01-27T23:09:50.823Z"
   },
   {
    "duration": 27,
    "start_time": "2022-01-27T23:09:50.828Z"
   },
   {
    "duration": 98,
    "start_time": "2022-01-27T23:09:50.856Z"
   },
   {
    "duration": 19,
    "start_time": "2022-01-27T23:09:50.955Z"
   },
   {
    "duration": 8,
    "start_time": "2022-01-27T23:09:50.975Z"
   },
   {
    "duration": 24,
    "start_time": "2022-01-27T23:09:50.985Z"
   },
   {
    "duration": 37,
    "start_time": "2022-01-27T23:09:51.011Z"
   },
   {
    "duration": 48,
    "start_time": "2022-01-27T23:09:51.051Z"
   },
   {
    "duration": 21,
    "start_time": "2022-01-27T23:09:51.101Z"
   },
   {
    "duration": 48,
    "start_time": "2022-01-27T23:09:51.124Z"
   },
   {
    "duration": 32,
    "start_time": "2022-01-27T23:09:51.173Z"
   },
   {
    "duration": 24,
    "start_time": "2022-01-27T23:09:51.207Z"
   },
   {
    "duration": 7,
    "start_time": "2022-01-27T23:09:51.233Z"
   },
   {
    "duration": 8,
    "start_time": "2022-01-27T23:09:51.241Z"
   },
   {
    "duration": 70,
    "start_time": "2022-01-27T23:09:51.251Z"
   },
   {
    "duration": 20,
    "start_time": "2022-01-27T23:09:51.322Z"
   },
   {
    "duration": 9,
    "start_time": "2022-01-27T23:09:51.343Z"
   },
   {
    "duration": 55,
    "start_time": "2022-01-27T23:09:51.354Z"
   },
   {
    "duration": 4,
    "start_time": "2022-01-27T23:09:51.411Z"
   },
   {
    "duration": 30,
    "start_time": "2022-01-27T23:09:51.417Z"
   },
   {
    "duration": 17,
    "start_time": "2022-01-27T23:09:51.449Z"
   },
   {
    "duration": 11,
    "start_time": "2022-01-27T23:09:51.467Z"
   },
   {
    "duration": 9,
    "start_time": "2022-01-27T23:09:51.499Z"
   },
   {
    "duration": 11,
    "start_time": "2022-01-27T23:09:51.509Z"
   },
   {
    "duration": 25,
    "start_time": "2022-01-27T23:09:51.522Z"
   },
   {
    "duration": 51,
    "start_time": "2022-01-27T23:09:51.549Z"
   },
   {
    "duration": 16,
    "start_time": "2022-01-27T23:09:51.602Z"
   },
   {
    "duration": 99,
    "start_time": "2022-01-27T23:09:51.620Z"
   },
   {
    "duration": 74,
    "start_time": "2022-01-27T23:09:51.647Z"
   },
   {
    "duration": 5,
    "start_time": "2022-01-27T23:10:17.858Z"
   },
   {
    "duration": 4733,
    "start_time": "2022-01-27T23:10:19.739Z"
   },
   {
    "duration": 342,
    "start_time": "2022-01-27T23:23:56.639Z"
   },
   {
    "duration": 264,
    "start_time": "2022-01-27T23:24:12.553Z"
   },
   {
    "duration": -30,
    "start_time": "2022-01-27T23:24:34.461Z"
   },
   {
    "duration": 7045,
    "start_time": "2022-01-27T23:24:42.087Z"
   },
   {
    "duration": 794,
    "start_time": "2022-02-08T20:07:43.727Z"
   },
   {
    "duration": 1965,
    "start_time": "2022-02-08T20:07:53.224Z"
   },
   {
    "duration": 5,
    "start_time": "2022-02-08T20:07:55.191Z"
   },
   {
    "duration": 2223,
    "start_time": "2022-02-08T20:07:55.198Z"
   },
   {
    "duration": 25,
    "start_time": "2022-02-08T20:07:57.423Z"
   },
   {
    "duration": 2,
    "start_time": "2022-02-08T20:07:57.450Z"
   },
   {
    "duration": 22,
    "start_time": "2022-02-08T20:07:57.453Z"
   },
   {
    "duration": 2,
    "start_time": "2022-02-08T20:07:57.476Z"
   },
   {
    "duration": 17,
    "start_time": "2022-02-08T20:07:57.481Z"
   },
   {
    "duration": 10,
    "start_time": "2022-02-08T20:07:57.527Z"
   },
   {
    "duration": 13,
    "start_time": "2022-02-08T20:07:57.539Z"
   },
   {
    "duration": 29,
    "start_time": "2022-02-08T20:07:57.553Z"
   },
   {
    "duration": 115,
    "start_time": "2022-02-08T20:07:57.583Z"
   },
   {
    "duration": 32,
    "start_time": "2022-02-08T20:07:57.700Z"
   },
   {
    "duration": 14,
    "start_time": "2022-02-08T20:07:57.733Z"
   },
   {
    "duration": 95,
    "start_time": "2022-02-08T20:07:57.749Z"
   },
   {
    "duration": 3,
    "start_time": "2022-02-08T20:07:57.846Z"
   },
   {
    "duration": 23,
    "start_time": "2022-02-08T20:07:57.850Z"
   },
   {
    "duration": 74,
    "start_time": "2022-02-08T20:07:57.875Z"
   },
   {
    "duration": 16,
    "start_time": "2022-02-08T20:07:57.951Z"
   },
   {
    "duration": 7,
    "start_time": "2022-02-08T20:07:57.968Z"
   },
   {
    "duration": 10,
    "start_time": "2022-02-08T20:07:57.976Z"
   },
   {
    "duration": 45,
    "start_time": "2022-02-08T20:07:57.987Z"
   },
   {
    "duration": 15,
    "start_time": "2022-02-08T20:07:58.035Z"
   },
   {
    "duration": 98,
    "start_time": "2022-02-08T20:07:58.052Z"
   },
   {
    "duration": 34,
    "start_time": "2022-02-08T20:07:58.152Z"
   },
   {
    "duration": 6,
    "start_time": "2022-02-08T20:07:58.188Z"
   },
   {
    "duration": 21,
    "start_time": "2022-02-08T20:07:58.195Z"
   },
   {
    "duration": 11,
    "start_time": "2022-02-08T20:07:58.217Z"
   },
   {
    "duration": 8,
    "start_time": "2022-02-08T20:07:58.229Z"
   },
   {
    "duration": 26,
    "start_time": "2022-02-08T20:07:58.238Z"
   },
   {
    "duration": 20,
    "start_time": "2022-02-08T20:07:58.265Z"
   },
   {
    "duration": 4,
    "start_time": "2022-02-08T20:07:58.287Z"
   },
   {
    "duration": 61,
    "start_time": "2022-02-08T20:07:58.293Z"
   },
   {
    "duration": 4,
    "start_time": "2022-02-08T20:07:58.356Z"
   },
   {
    "duration": 26,
    "start_time": "2022-02-08T20:07:58.362Z"
   },
   {
    "duration": 13,
    "start_time": "2022-02-08T20:07:58.389Z"
   },
   {
    "duration": 28,
    "start_time": "2022-02-08T20:07:58.404Z"
   },
   {
    "duration": 7,
    "start_time": "2022-02-08T20:07:58.433Z"
   },
   {
    "duration": 8,
    "start_time": "2022-02-08T20:07:58.441Z"
   },
   {
    "duration": 19,
    "start_time": "2022-02-08T20:07:58.450Z"
   },
   {
    "duration": 14,
    "start_time": "2022-02-08T20:07:58.471Z"
   },
   {
    "duration": 13,
    "start_time": "2022-02-08T20:07:58.486Z"
   },
   {
    "duration": 3,
    "start_time": "2022-02-08T20:07:58.527Z"
   },
   {
    "duration": 4319,
    "start_time": "2022-02-08T20:07:58.532Z"
   },
   {
    "duration": 18,
    "start_time": "2022-02-08T20:34:39.782Z"
   },
   {
    "duration": 19,
    "start_time": "2022-02-08T20:35:22.411Z"
   },
   {
    "duration": 25,
    "start_time": "2022-02-08T20:36:24.749Z"
   },
   {
    "duration": 10,
    "start_time": "2022-02-08T20:38:11.430Z"
   },
   {
    "duration": 5,
    "start_time": "2022-02-08T20:40:21.231Z"
   },
   {
    "duration": 526,
    "start_time": "2022-02-08T20:45:00.392Z"
   },
   {
    "duration": 516,
    "start_time": "2022-02-08T20:48:22.839Z"
   },
   {
    "duration": 513,
    "start_time": "2022-02-08T20:52:03.627Z"
   },
   {
    "duration": 528,
    "start_time": "2022-02-08T21:07:29.121Z"
   },
   {
    "duration": 604,
    "start_time": "2022-02-08T21:08:57.142Z"
   },
   {
    "duration": 3,
    "start_time": "2022-02-08T21:13:37.982Z"
   },
   {
    "duration": 9,
    "start_time": "2022-02-08T21:15:36.118Z"
   },
   {
    "duration": 9,
    "start_time": "2022-02-08T21:16:50.297Z"
   },
   {
    "duration": 116,
    "start_time": "2022-02-08T21:17:49.175Z"
   },
   {
    "duration": 361,
    "start_time": "2022-02-09T07:27:30.858Z"
   },
   {
    "duration": 1086,
    "start_time": "2022-02-09T07:30:25.739Z"
   },
   {
    "duration": 6,
    "start_time": "2022-02-09T07:30:26.827Z"
   },
   {
    "duration": 416,
    "start_time": "2022-02-09T07:30:26.838Z"
   },
   {
    "duration": 29,
    "start_time": "2022-02-09T07:30:27.256Z"
   },
   {
    "duration": 3,
    "start_time": "2022-02-09T07:30:27.286Z"
   },
   {
    "duration": 26,
    "start_time": "2022-02-09T07:30:27.291Z"
   },
   {
    "duration": 2,
    "start_time": "2022-02-09T07:30:27.321Z"
   },
   {
    "duration": 23,
    "start_time": "2022-02-09T07:30:27.326Z"
   },
   {
    "duration": 13,
    "start_time": "2022-02-09T07:30:27.351Z"
   },
   {
    "duration": 17,
    "start_time": "2022-02-09T07:30:27.366Z"
   },
   {
    "duration": 66,
    "start_time": "2022-02-09T07:30:27.385Z"
   },
   {
    "duration": 116,
    "start_time": "2022-02-09T07:30:27.453Z"
   },
   {
    "duration": 29,
    "start_time": "2022-02-09T07:30:27.571Z"
   },
   {
    "duration": 30,
    "start_time": "2022-02-09T07:30:27.601Z"
   },
   {
    "duration": 109,
    "start_time": "2022-02-09T07:30:27.633Z"
   },
   {
    "duration": 3,
    "start_time": "2022-02-09T07:30:27.744Z"
   },
   {
    "duration": 46,
    "start_time": "2022-02-09T07:30:27.749Z"
   },
   {
    "duration": 76,
    "start_time": "2022-02-09T07:30:27.797Z"
   },
   {
    "duration": 18,
    "start_time": "2022-02-09T07:30:27.875Z"
   },
   {
    "duration": 24,
    "start_time": "2022-02-09T07:30:27.895Z"
   },
   {
    "duration": 31,
    "start_time": "2022-02-09T07:30:27.920Z"
   },
   {
    "duration": 56,
    "start_time": "2022-02-09T07:30:27.954Z"
   },
   {
    "duration": 17,
    "start_time": "2022-02-09T07:30:28.012Z"
   },
   {
    "duration": 22,
    "start_time": "2022-02-09T07:30:28.031Z"
   },
   {
    "duration": 45,
    "start_time": "2022-02-09T07:30:28.054Z"
   },
   {
    "duration": 21,
    "start_time": "2022-02-09T07:30:28.101Z"
   },
   {
    "duration": 43,
    "start_time": "2022-02-09T07:30:28.124Z"
   },
   {
    "duration": 12,
    "start_time": "2022-02-09T07:30:28.170Z"
   },
   {
    "duration": 21,
    "start_time": "2022-02-09T07:30:28.183Z"
   },
   {
    "duration": 43,
    "start_time": "2022-02-09T07:30:28.206Z"
   },
   {
    "duration": 21,
    "start_time": "2022-02-09T07:30:28.251Z"
   },
   {
    "duration": 24,
    "start_time": "2022-02-09T07:30:28.274Z"
   },
   {
    "duration": 38,
    "start_time": "2022-02-09T07:30:28.300Z"
   },
   {
    "duration": 3,
    "start_time": "2022-02-09T07:30:28.340Z"
   },
   {
    "duration": 46,
    "start_time": "2022-02-09T07:30:28.345Z"
   },
   {
    "duration": 17,
    "start_time": "2022-02-09T07:30:28.392Z"
   },
   {
    "duration": 44,
    "start_time": "2022-02-09T07:30:28.411Z"
   },
   {
    "duration": 8,
    "start_time": "2022-02-09T07:30:28.457Z"
   },
   {
    "duration": 20,
    "start_time": "2022-02-09T07:30:28.466Z"
   },
   {
    "duration": 41,
    "start_time": "2022-02-09T07:30:28.488Z"
   },
   {
    "duration": 17,
    "start_time": "2022-02-09T07:30:28.531Z"
   },
   {
    "duration": 22,
    "start_time": "2022-02-09T07:30:28.550Z"
   },
   {
    "duration": 9,
    "start_time": "2022-02-09T07:30:28.574Z"
   },
   {
    "duration": 4992,
    "start_time": "2022-02-09T07:30:28.586Z"
   },
   {
    "duration": 22,
    "start_time": "2022-02-09T07:30:33.580Z"
   },
   {
    "duration": 37,
    "start_time": "2022-02-09T07:30:33.604Z"
   },
   {
    "duration": 48,
    "start_time": "2022-02-09T07:30:33.643Z"
   },
   {
    "duration": 14,
    "start_time": "2022-02-09T07:30:33.693Z"
   },
   {
    "duration": 23,
    "start_time": "2022-02-09T07:30:33.709Z"
   },
   {
    "duration": 616,
    "start_time": "2022-02-09T07:30:33.734Z"
   },
   {
    "duration": 612,
    "start_time": "2022-02-09T07:30:34.352Z"
   },
   {
    "duration": 611,
    "start_time": "2022-02-09T07:30:34.965Z"
   },
   {
    "duration": 3,
    "start_time": "2022-02-09T07:30:35.577Z"
   },
   {
    "duration": 16,
    "start_time": "2022-02-09T07:30:35.582Z"
   },
   {
    "duration": 24,
    "start_time": "2022-02-09T07:30:35.600Z"
   },
   {
    "duration": 373,
    "start_time": "2022-02-09T07:30:35.626Z"
   },
   {
    "duration": 384,
    "start_time": "2022-02-09T07:33:34.650Z"
   },
   {
    "duration": 1086,
    "start_time": "2022-02-09T07:33:49.132Z"
   },
   {
    "duration": 6,
    "start_time": "2022-02-09T07:33:50.220Z"
   },
   {
    "duration": 390,
    "start_time": "2022-02-09T07:33:50.231Z"
   },
   {
    "duration": 28,
    "start_time": "2022-02-09T07:33:50.623Z"
   },
   {
    "duration": 2,
    "start_time": "2022-02-09T07:33:50.653Z"
   },
   {
    "duration": 30,
    "start_time": "2022-02-09T07:33:50.656Z"
   },
   {
    "duration": 2,
    "start_time": "2022-02-09T07:33:50.687Z"
   },
   {
    "duration": 40,
    "start_time": "2022-02-09T07:33:50.693Z"
   },
   {
    "duration": 13,
    "start_time": "2022-02-09T07:33:50.736Z"
   },
   {
    "duration": 17,
    "start_time": "2022-02-09T07:33:50.751Z"
   },
   {
    "duration": 60,
    "start_time": "2022-02-09T07:33:50.770Z"
   },
   {
    "duration": 103,
    "start_time": "2022-02-09T07:33:50.832Z"
   },
   {
    "duration": 31,
    "start_time": "2022-02-09T07:33:50.937Z"
   },
   {
    "duration": 17,
    "start_time": "2022-02-09T07:33:50.970Z"
   },
   {
    "duration": 130,
    "start_time": "2022-02-09T07:33:50.989Z"
   },
   {
    "duration": 3,
    "start_time": "2022-02-09T07:33:51.122Z"
   },
   {
    "duration": 25,
    "start_time": "2022-02-09T07:33:51.127Z"
   },
   {
    "duration": 88,
    "start_time": "2022-02-09T07:33:51.153Z"
   },
   {
    "duration": 18,
    "start_time": "2022-02-09T07:33:51.243Z"
   },
   {
    "duration": 8,
    "start_time": "2022-02-09T07:33:51.263Z"
   },
   {
    "duration": 30,
    "start_time": "2022-02-09T07:33:51.273Z"
   },
   {
    "duration": 40,
    "start_time": "2022-02-09T07:33:51.305Z"
   },
   {
    "duration": 18,
    "start_time": "2022-02-09T07:33:51.347Z"
   },
   {
    "duration": 21,
    "start_time": "2022-02-09T07:33:51.366Z"
   },
   {
    "duration": 65,
    "start_time": "2022-02-09T07:33:51.388Z"
   },
   {
    "duration": 8,
    "start_time": "2022-02-09T07:33:51.456Z"
   },
   {
    "duration": 20,
    "start_time": "2022-02-09T07:33:51.466Z"
   },
   {
    "duration": 30,
    "start_time": "2022-02-09T07:33:51.488Z"
   },
   {
    "duration": 6,
    "start_time": "2022-02-09T07:33:51.520Z"
   },
   {
    "duration": 40,
    "start_time": "2022-02-09T07:33:51.527Z"
   },
   {
    "duration": 18,
    "start_time": "2022-02-09T07:33:51.569Z"
   },
   {
    "duration": 10,
    "start_time": "2022-02-09T07:33:51.588Z"
   },
   {
    "duration": 46,
    "start_time": "2022-02-09T07:33:51.599Z"
   },
   {
    "duration": 4,
    "start_time": "2022-02-09T07:33:51.647Z"
   },
   {
    "duration": 32,
    "start_time": "2022-02-09T07:33:51.652Z"
   },
   {
    "duration": 34,
    "start_time": "2022-02-09T07:33:51.685Z"
   },
   {
    "duration": 11,
    "start_time": "2022-02-09T07:33:51.721Z"
   },
   {
    "duration": 9,
    "start_time": "2022-02-09T07:33:51.734Z"
   },
   {
    "duration": 12,
    "start_time": "2022-02-09T07:33:51.745Z"
   },
   {
    "duration": 24,
    "start_time": "2022-02-09T07:33:51.759Z"
   },
   {
    "duration": 39,
    "start_time": "2022-02-09T07:33:51.784Z"
   },
   {
    "duration": 16,
    "start_time": "2022-02-09T07:33:51.824Z"
   },
   {
    "duration": 5,
    "start_time": "2022-02-09T07:33:51.842Z"
   },
   {
    "duration": 4845,
    "start_time": "2022-02-09T07:33:51.848Z"
   },
   {
    "duration": 29,
    "start_time": "2022-02-09T07:33:56.695Z"
   },
   {
    "duration": 21,
    "start_time": "2022-02-09T07:33:56.725Z"
   },
   {
    "duration": 28,
    "start_time": "2022-02-09T07:33:56.747Z"
   },
   {
    "duration": 11,
    "start_time": "2022-02-09T07:33:56.776Z"
   },
   {
    "duration": 34,
    "start_time": "2022-02-09T07:33:56.789Z"
   },
   {
    "duration": 600,
    "start_time": "2022-02-09T07:33:56.825Z"
   },
   {
    "duration": 631,
    "start_time": "2022-02-09T07:33:57.426Z"
   },
   {
    "duration": 607,
    "start_time": "2022-02-09T07:33:58.058Z"
   },
   {
    "duration": 3,
    "start_time": "2022-02-09T07:33:58.667Z"
   },
   {
    "duration": 16,
    "start_time": "2022-02-09T07:33:58.672Z"
   },
   {
    "duration": 28,
    "start_time": "2022-02-09T07:33:58.690Z"
   },
   {
    "duration": 57,
    "start_time": "2022-02-09T07:33:59.131Z"
   },
   {
    "duration": 275,
    "start_time": "2022-02-09T07:34:04.719Z"
   },
   {
    "duration": 97,
    "start_time": "2022-02-09T07:51:07.101Z"
   },
   {
    "duration": 1140,
    "start_time": "2022-02-09T07:53:44.528Z"
   },
   {
    "duration": 6,
    "start_time": "2022-02-09T07:53:45.670Z"
   },
   {
    "duration": 388,
    "start_time": "2022-02-09T07:53:45.678Z"
   },
   {
    "duration": 30,
    "start_time": "2022-02-09T07:53:46.068Z"
   },
   {
    "duration": 3,
    "start_time": "2022-02-09T07:53:46.099Z"
   },
   {
    "duration": 39,
    "start_time": "2022-02-09T07:53:46.104Z"
   },
   {
    "duration": 2,
    "start_time": "2022-02-09T07:53:46.145Z"
   },
   {
    "duration": 37,
    "start_time": "2022-02-09T07:53:46.149Z"
   },
   {
    "duration": 13,
    "start_time": "2022-02-09T07:53:46.188Z"
   },
   {
    "duration": 18,
    "start_time": "2022-02-09T07:53:46.202Z"
   },
   {
    "duration": 30,
    "start_time": "2022-02-09T07:53:46.222Z"
   },
   {
    "duration": 109,
    "start_time": "2022-02-09T07:53:46.254Z"
   },
   {
    "duration": 29,
    "start_time": "2022-02-09T07:53:46.365Z"
   },
   {
    "duration": 29,
    "start_time": "2022-02-09T07:53:46.395Z"
   },
   {
    "duration": 108,
    "start_time": "2022-02-09T07:53:46.426Z"
   },
   {
    "duration": 4,
    "start_time": "2022-02-09T07:53:46.536Z"
   },
   {
    "duration": 27,
    "start_time": "2022-02-09T07:53:46.542Z"
   },
   {
    "duration": 80,
    "start_time": "2022-02-09T07:53:46.571Z"
   },
   {
    "duration": 18,
    "start_time": "2022-02-09T07:53:46.652Z"
   },
   {
    "duration": 8,
    "start_time": "2022-02-09T07:53:46.671Z"
   },
   {
    "duration": 14,
    "start_time": "2022-02-09T07:53:46.681Z"
   },
   {
    "duration": 54,
    "start_time": "2022-02-09T07:53:46.697Z"
   },
   {
    "duration": 18,
    "start_time": "2022-02-09T07:53:46.755Z"
   },
   {
    "duration": 46,
    "start_time": "2022-02-09T07:53:46.776Z"
   },
   {
    "duration": 46,
    "start_time": "2022-02-09T07:53:46.824Z"
   },
   {
    "duration": 8,
    "start_time": "2022-02-09T07:53:46.872Z"
   },
   {
    "duration": 45,
    "start_time": "2022-02-09T07:53:46.883Z"
   },
   {
    "duration": 8,
    "start_time": "2022-02-09T07:53:46.930Z"
   },
   {
    "duration": 8,
    "start_time": "2022-02-09T07:53:46.940Z"
   },
   {
    "duration": 40,
    "start_time": "2022-02-09T07:53:46.949Z"
   },
   {
    "duration": 37,
    "start_time": "2022-02-09T07:53:46.991Z"
   },
   {
    "duration": 12,
    "start_time": "2022-02-09T07:53:47.030Z"
   },
   {
    "duration": 36,
    "start_time": "2022-02-09T07:53:47.043Z"
   },
   {
    "duration": 5,
    "start_time": "2022-02-09T07:53:47.080Z"
   },
   {
    "duration": 44,
    "start_time": "2022-02-09T07:53:47.086Z"
   },
   {
    "duration": 17,
    "start_time": "2022-02-09T07:53:47.132Z"
   },
   {
    "duration": 12,
    "start_time": "2022-02-09T07:53:47.151Z"
   },
   {
    "duration": 9,
    "start_time": "2022-02-09T07:53:47.165Z"
   },
   {
    "duration": 12,
    "start_time": "2022-02-09T07:53:47.176Z"
   },
   {
    "duration": 43,
    "start_time": "2022-02-09T07:53:47.190Z"
   },
   {
    "duration": 19,
    "start_time": "2022-02-09T07:53:47.235Z"
   },
   {
    "duration": 19,
    "start_time": "2022-02-09T07:53:47.256Z"
   },
   {
    "duration": 5,
    "start_time": "2022-02-09T07:53:47.277Z"
   },
   {
    "duration": 4771,
    "start_time": "2022-02-09T07:53:47.284Z"
   },
   {
    "duration": 28,
    "start_time": "2022-02-09T07:53:52.057Z"
   },
   {
    "duration": 54,
    "start_time": "2022-02-09T07:53:52.087Z"
   },
   {
    "duration": 36,
    "start_time": "2022-02-09T07:53:52.143Z"
   },
   {
    "duration": 42,
    "start_time": "2022-02-09T07:53:52.181Z"
   },
   {
    "duration": 5,
    "start_time": "2022-02-09T07:53:52.226Z"
   },
   {
    "duration": 786,
    "start_time": "2022-02-09T07:53:52.233Z"
   },
   {
    "duration": 744,
    "start_time": "2022-02-09T07:53:53.021Z"
   },
   {
    "duration": 703,
    "start_time": "2022-02-09T07:53:53.768Z"
   },
   {
    "duration": 3,
    "start_time": "2022-02-09T07:53:54.472Z"
   },
   {
    "duration": 16,
    "start_time": "2022-02-09T07:53:54.477Z"
   },
   {
    "duration": 27,
    "start_time": "2022-02-09T07:53:54.495Z"
   },
   {
    "duration": 81,
    "start_time": "2022-02-09T07:53:54.531Z"
   },
   {
    "duration": 81,
    "start_time": "2022-02-09T07:53:54.534Z"
   },
   {
    "duration": 500,
    "start_time": "2022-02-09T07:54:20.780Z"
   },
   {
    "duration": 96,
    "start_time": "2022-02-09T07:54:37.986Z"
   },
   {
    "duration": 1117,
    "start_time": "2022-02-09T07:54:44.907Z"
   },
   {
    "duration": 5,
    "start_time": "2022-02-09T07:54:46.026Z"
   },
   {
    "duration": 422,
    "start_time": "2022-02-09T07:54:46.034Z"
   },
   {
    "duration": 28,
    "start_time": "2022-02-09T07:54:46.458Z"
   },
   {
    "duration": 6,
    "start_time": "2022-02-09T07:54:46.488Z"
   },
   {
    "duration": 58,
    "start_time": "2022-02-09T07:54:46.496Z"
   },
   {
    "duration": 3,
    "start_time": "2022-02-09T07:54:46.556Z"
   },
   {
    "duration": 36,
    "start_time": "2022-02-09T07:54:46.560Z"
   },
   {
    "duration": 12,
    "start_time": "2022-02-09T07:54:46.600Z"
   },
   {
    "duration": 19,
    "start_time": "2022-02-09T07:54:46.614Z"
   },
   {
    "duration": 40,
    "start_time": "2022-02-09T07:54:46.635Z"
   },
   {
    "duration": 101,
    "start_time": "2022-02-09T07:54:46.677Z"
   },
   {
    "duration": 28,
    "start_time": "2022-02-09T07:54:46.780Z"
   },
   {
    "duration": 22,
    "start_time": "2022-02-09T07:54:46.810Z"
   },
   {
    "duration": 118,
    "start_time": "2022-02-09T07:54:46.833Z"
   },
   {
    "duration": 4,
    "start_time": "2022-02-09T07:54:46.952Z"
   },
   {
    "duration": 29,
    "start_time": "2022-02-09T07:54:46.957Z"
   },
   {
    "duration": 85,
    "start_time": "2022-02-09T07:54:46.988Z"
   },
   {
    "duration": 18,
    "start_time": "2022-02-09T07:54:47.075Z"
   },
   {
    "duration": 8,
    "start_time": "2022-02-09T07:54:47.095Z"
   },
   {
    "duration": 14,
    "start_time": "2022-02-09T07:54:47.118Z"
   },
   {
    "duration": 49,
    "start_time": "2022-02-09T07:54:47.135Z"
   },
   {
    "duration": 34,
    "start_time": "2022-02-09T07:54:47.186Z"
   },
   {
    "duration": 21,
    "start_time": "2022-02-09T07:54:47.222Z"
   },
   {
    "duration": 44,
    "start_time": "2022-02-09T07:54:47.245Z"
   },
   {
    "duration": 27,
    "start_time": "2022-02-09T07:54:47.291Z"
   },
   {
    "duration": 20,
    "start_time": "2022-02-09T07:54:47.322Z"
   },
   {
    "duration": 12,
    "start_time": "2022-02-09T07:54:47.344Z"
   },
   {
    "duration": 13,
    "start_time": "2022-02-09T07:54:47.358Z"
   },
   {
    "duration": 77,
    "start_time": "2022-02-09T07:54:47.373Z"
   },
   {
    "duration": 20,
    "start_time": "2022-02-09T07:54:47.452Z"
   },
   {
    "duration": 24,
    "start_time": "2022-02-09T07:54:47.474Z"
   },
   {
    "duration": 43,
    "start_time": "2022-02-09T07:54:47.500Z"
   },
   {
    "duration": 5,
    "start_time": "2022-02-09T07:54:47.546Z"
   },
   {
    "duration": 28,
    "start_time": "2022-02-09T07:54:47.553Z"
   },
   {
    "duration": 18,
    "start_time": "2022-02-09T07:54:47.583Z"
   },
   {
    "duration": 11,
    "start_time": "2022-02-09T07:54:47.619Z"
   },
   {
    "duration": 8,
    "start_time": "2022-02-09T07:54:47.632Z"
   },
   {
    "duration": 14,
    "start_time": "2022-02-09T07:54:47.642Z"
   },
   {
    "duration": 27,
    "start_time": "2022-02-09T07:54:47.658Z"
   },
   {
    "duration": 43,
    "start_time": "2022-02-09T07:54:47.687Z"
   },
   {
    "duration": 18,
    "start_time": "2022-02-09T07:54:47.731Z"
   },
   {
    "duration": 5,
    "start_time": "2022-02-09T07:54:47.750Z"
   },
   {
    "duration": 4785,
    "start_time": "2022-02-09T07:54:47.757Z"
   },
   {
    "duration": 22,
    "start_time": "2022-02-09T07:54:52.543Z"
   },
   {
    "duration": 20,
    "start_time": "2022-02-09T07:54:52.567Z"
   },
   {
    "duration": 53,
    "start_time": "2022-02-09T07:54:52.588Z"
   },
   {
    "duration": 11,
    "start_time": "2022-02-09T07:54:52.643Z"
   },
   {
    "duration": 18,
    "start_time": "2022-02-09T07:54:52.655Z"
   },
   {
    "duration": 594,
    "start_time": "2022-02-09T07:54:52.674Z"
   },
   {
    "duration": 585,
    "start_time": "2022-02-09T07:54:53.270Z"
   },
   {
    "duration": 624,
    "start_time": "2022-02-09T07:54:53.856Z"
   },
   {
    "duration": 3,
    "start_time": "2022-02-09T07:54:54.482Z"
   },
   {
    "duration": 14,
    "start_time": "2022-02-09T07:54:54.487Z"
   },
   {
    "duration": 20,
    "start_time": "2022-02-09T07:54:54.503Z"
   },
   {
    "duration": 100,
    "start_time": "2022-02-09T07:54:54.513Z"
   },
   {
    "duration": 99,
    "start_time": "2022-02-09T07:54:54.515Z"
   },
   {
    "duration": 98,
    "start_time": "2022-02-09T07:54:54.517Z"
   },
   {
    "duration": 413,
    "start_time": "2022-02-09T07:54:57.015Z"
   },
   {
    "duration": 290,
    "start_time": "2022-02-09T07:59:13.404Z"
   },
   {
    "duration": 266,
    "start_time": "2022-02-09T08:00:53.418Z"
   },
   {
    "duration": 285,
    "start_time": "2022-02-09T08:01:23.603Z"
   },
   {
    "duration": 87,
    "start_time": "2022-02-09T08:02:31.709Z"
   },
   {
    "duration": 6,
    "start_time": "2022-02-09T08:03:26.659Z"
   },
   {
    "duration": 11,
    "start_time": "2022-02-09T08:03:28.886Z"
   },
   {
    "duration": 6,
    "start_time": "2022-02-09T08:04:11.780Z"
   },
   {
    "duration": 10,
    "start_time": "2022-02-09T08:04:12.807Z"
   },
   {
    "duration": 327,
    "start_time": "2022-02-09T08:04:58.537Z"
   },
   {
    "duration": 6,
    "start_time": "2022-02-09T08:05:01.384Z"
   },
   {
    "duration": 10,
    "start_time": "2022-02-09T08:05:02.361Z"
   },
   {
    "duration": 460,
    "start_time": "2022-02-09T08:06:14.874Z"
   },
   {
    "duration": 369,
    "start_time": "2022-02-09T08:06:45.073Z"
   },
   {
    "duration": 374,
    "start_time": "2022-02-09T08:07:24.057Z"
   },
   {
    "duration": 473,
    "start_time": "2022-02-09T08:07:38.611Z"
   },
   {
    "duration": 490,
    "start_time": "2022-02-09T08:15:15.182Z"
   },
   {
    "duration": 379,
    "start_time": "2022-02-09T08:15:27.539Z"
   },
   {
    "duration": 353,
    "start_time": "2022-02-09T08:16:39.582Z"
   },
   {
    "duration": 417,
    "start_time": "2022-02-09T08:24:42.396Z"
   },
   {
    "duration": 2,
    "start_time": "2022-02-09T08:26:10.367Z"
   },
   {
    "duration": 7131,
    "start_time": "2022-02-09T08:26:22.987Z"
   },
   {
    "duration": 431,
    "start_time": "2022-02-09T08:27:14.011Z"
   },
   {
    "duration": 297,
    "start_time": "2022-02-09T08:28:26.287Z"
   },
   {
    "duration": 554,
    "start_time": "2022-02-09T08:34:42.407Z"
   },
   {
    "duration": 1190,
    "start_time": "2022-02-09T08:36:38.814Z"
   },
   {
    "duration": 7,
    "start_time": "2022-02-09T08:36:40.006Z"
   },
   {
    "duration": 429,
    "start_time": "2022-02-09T08:36:40.015Z"
   },
   {
    "duration": 29,
    "start_time": "2022-02-09T08:36:40.446Z"
   },
   {
    "duration": 3,
    "start_time": "2022-02-09T08:36:40.477Z"
   },
   {
    "duration": 28,
    "start_time": "2022-02-09T08:36:40.481Z"
   },
   {
    "duration": 2,
    "start_time": "2022-02-09T08:36:40.511Z"
   },
   {
    "duration": 22,
    "start_time": "2022-02-09T08:36:40.518Z"
   },
   {
    "duration": 12,
    "start_time": "2022-02-09T08:36:40.542Z"
   },
   {
    "duration": 17,
    "start_time": "2022-02-09T08:36:40.557Z"
   },
   {
    "duration": 67,
    "start_time": "2022-02-09T08:36:40.576Z"
   },
   {
    "duration": 115,
    "start_time": "2022-02-09T08:36:40.645Z"
   },
   {
    "duration": 31,
    "start_time": "2022-02-09T08:36:40.762Z"
   },
   {
    "duration": 29,
    "start_time": "2022-02-09T08:36:40.795Z"
   },
   {
    "duration": 116,
    "start_time": "2022-02-09T08:36:40.826Z"
   },
   {
    "duration": 3,
    "start_time": "2022-02-09T08:36:40.944Z"
   },
   {
    "duration": 24,
    "start_time": "2022-02-09T08:36:40.948Z"
   },
   {
    "duration": 92,
    "start_time": "2022-02-09T08:36:40.974Z"
   },
   {
    "duration": 19,
    "start_time": "2022-02-09T08:36:41.067Z"
   },
   {
    "duration": 9,
    "start_time": "2022-02-09T08:36:41.088Z"
   },
   {
    "duration": 28,
    "start_time": "2022-02-09T08:36:41.098Z"
   },
   {
    "duration": 39,
    "start_time": "2022-02-09T08:36:41.128Z"
   },
   {
    "duration": 18,
    "start_time": "2022-02-09T08:36:41.169Z"
   },
   {
    "duration": 45,
    "start_time": "2022-02-09T08:36:41.189Z"
   },
   {
    "duration": 45,
    "start_time": "2022-02-09T08:36:41.236Z"
   },
   {
    "duration": 8,
    "start_time": "2022-02-09T08:36:41.283Z"
   },
   {
    "duration": 41,
    "start_time": "2022-02-09T08:36:41.294Z"
   },
   {
    "duration": 10,
    "start_time": "2022-02-09T08:36:41.338Z"
   },
   {
    "duration": 6,
    "start_time": "2022-02-09T08:36:41.350Z"
   },
   {
    "duration": 34,
    "start_time": "2022-02-09T08:36:41.357Z"
   },
   {
    "duration": 40,
    "start_time": "2022-02-09T08:36:41.393Z"
   },
   {
    "duration": 20,
    "start_time": "2022-02-09T08:36:41.435Z"
   },
   {
    "duration": 55,
    "start_time": "2022-02-09T08:36:41.457Z"
   },
   {
    "duration": 4,
    "start_time": "2022-02-09T08:36:41.514Z"
   },
   {
    "duration": 28,
    "start_time": "2022-02-09T08:36:41.520Z"
   },
   {
    "duration": 17,
    "start_time": "2022-02-09T08:36:41.549Z"
   },
   {
    "duration": 22,
    "start_time": "2022-02-09T08:36:41.568Z"
   },
   {
    "duration": 18,
    "start_time": "2022-02-09T08:36:41.592Z"
   },
   {
    "duration": 14,
    "start_time": "2022-02-09T08:36:41.612Z"
   },
   {
    "duration": 38,
    "start_time": "2022-02-09T08:36:41.627Z"
   },
   {
    "duration": 22,
    "start_time": "2022-02-09T08:36:41.667Z"
   },
   {
    "duration": 16,
    "start_time": "2022-02-09T08:36:41.691Z"
   },
   {
    "duration": 7,
    "start_time": "2022-02-09T08:36:41.709Z"
   },
   {
    "duration": 4812,
    "start_time": "2022-02-09T08:36:41.718Z"
   },
   {
    "duration": 22,
    "start_time": "2022-02-09T08:36:46.533Z"
   },
   {
    "duration": 24,
    "start_time": "2022-02-09T08:36:46.557Z"
   },
   {
    "duration": 56,
    "start_time": "2022-02-09T08:36:46.583Z"
   },
   {
    "duration": 13,
    "start_time": "2022-02-09T08:36:46.641Z"
   },
   {
    "duration": 10,
    "start_time": "2022-02-09T08:36:46.656Z"
   },
   {
    "duration": 622,
    "start_time": "2022-02-09T08:36:46.668Z"
   },
   {
    "duration": 585,
    "start_time": "2022-02-09T08:36:47.291Z"
   },
   {
    "duration": 606,
    "start_time": "2022-02-09T08:36:47.878Z"
   },
   {
    "duration": 2,
    "start_time": "2022-02-09T08:36:48.486Z"
   },
   {
    "duration": 14,
    "start_time": "2022-02-09T08:36:48.490Z"
   },
   {
    "duration": 20,
    "start_time": "2022-02-09T08:36:48.505Z"
   },
   {
    "duration": 402,
    "start_time": "2022-02-09T08:36:48.526Z"
   },
   {
    "duration": 15,
    "start_time": "2022-02-09T08:36:56.615Z"
   },
   {
    "duration": 11,
    "start_time": "2022-02-09T08:49:21.295Z"
   },
   {
    "duration": 1212,
    "start_time": "2022-02-09T08:50:08.211Z"
   },
   {
    "duration": 5,
    "start_time": "2022-02-09T08:50:09.426Z"
   },
   {
    "duration": 417,
    "start_time": "2022-02-09T08:50:09.436Z"
   },
   {
    "duration": 31,
    "start_time": "2022-02-09T08:50:09.855Z"
   },
   {
    "duration": 3,
    "start_time": "2022-02-09T08:50:09.888Z"
   },
   {
    "duration": 35,
    "start_time": "2022-02-09T08:50:09.893Z"
   },
   {
    "duration": 3,
    "start_time": "2022-02-09T08:50:09.932Z"
   },
   {
    "duration": 26,
    "start_time": "2022-02-09T08:50:09.937Z"
   },
   {
    "duration": 17,
    "start_time": "2022-02-09T08:50:09.965Z"
   },
   {
    "duration": 40,
    "start_time": "2022-02-09T08:50:09.983Z"
   },
   {
    "duration": 36,
    "start_time": "2022-02-09T08:50:10.025Z"
   },
   {
    "duration": 124,
    "start_time": "2022-02-09T08:50:10.063Z"
   },
   {
    "duration": 41,
    "start_time": "2022-02-09T08:50:10.189Z"
   },
   {
    "duration": 19,
    "start_time": "2022-02-09T08:50:10.233Z"
   },
   {
    "duration": 133,
    "start_time": "2022-02-09T08:50:10.254Z"
   },
   {
    "duration": 7,
    "start_time": "2022-02-09T08:50:10.390Z"
   },
   {
    "duration": 38,
    "start_time": "2022-02-09T08:50:10.399Z"
   },
   {
    "duration": 106,
    "start_time": "2022-02-09T08:50:10.439Z"
   },
   {
    "duration": 21,
    "start_time": "2022-02-09T08:50:10.547Z"
   },
   {
    "duration": 11,
    "start_time": "2022-02-09T08:50:10.570Z"
   },
   {
    "duration": 14,
    "start_time": "2022-02-09T08:50:10.583Z"
   },
   {
    "duration": 56,
    "start_time": "2022-02-09T08:50:10.621Z"
   },
   {
    "duration": 41,
    "start_time": "2022-02-09T08:50:10.680Z"
   },
   {
    "duration": 25,
    "start_time": "2022-02-09T08:50:10.724Z"
   },
   {
    "duration": 77,
    "start_time": "2022-02-09T08:50:10.751Z"
   },
   {
    "duration": 11,
    "start_time": "2022-02-09T08:50:10.830Z"
   },
   {
    "duration": 33,
    "start_time": "2022-02-09T08:50:10.843Z"
   },
   {
    "duration": 9,
    "start_time": "2022-02-09T08:50:10.878Z"
   },
   {
    "duration": 31,
    "start_time": "2022-02-09T08:50:10.889Z"
   },
   {
    "duration": 65,
    "start_time": "2022-02-09T08:50:10.922Z"
   },
   {
    "duration": 20,
    "start_time": "2022-02-09T08:50:10.989Z"
   },
   {
    "duration": 18,
    "start_time": "2022-02-09T08:50:11.011Z"
   },
   {
    "duration": 48,
    "start_time": "2022-02-09T08:50:11.031Z"
   },
   {
    "duration": 5,
    "start_time": "2022-02-09T08:50:11.081Z"
   },
   {
    "duration": 38,
    "start_time": "2022-02-09T08:50:11.088Z"
   },
   {
    "duration": 18,
    "start_time": "2022-02-09T08:50:11.129Z"
   },
   {
    "duration": 14,
    "start_time": "2022-02-09T08:50:11.150Z"
   },
   {
    "duration": 9,
    "start_time": "2022-02-09T08:50:11.166Z"
   },
   {
    "duration": 12,
    "start_time": "2022-02-09T08:50:11.177Z"
   },
   {
    "duration": 53,
    "start_time": "2022-02-09T08:50:11.191Z"
   },
   {
    "duration": 21,
    "start_time": "2022-02-09T08:50:11.246Z"
   },
   {
    "duration": 50,
    "start_time": "2022-02-09T08:50:11.270Z"
   },
   {
    "duration": 6,
    "start_time": "2022-02-09T08:50:11.322Z"
   },
   {
    "duration": 4959,
    "start_time": "2022-02-09T08:50:11.330Z"
   },
   {
    "duration": 37,
    "start_time": "2022-02-09T08:50:16.291Z"
   },
   {
    "duration": 22,
    "start_time": "2022-02-09T08:50:16.331Z"
   },
   {
    "duration": 32,
    "start_time": "2022-02-09T08:50:16.355Z"
   },
   {
    "duration": 39,
    "start_time": "2022-02-09T08:50:16.389Z"
   },
   {
    "duration": 15,
    "start_time": "2022-02-09T08:50:16.430Z"
   },
   {
    "duration": 643,
    "start_time": "2022-02-09T08:50:16.447Z"
   },
   {
    "duration": 589,
    "start_time": "2022-02-09T08:50:17.093Z"
   },
   {
    "duration": 623,
    "start_time": "2022-02-09T08:50:17.684Z"
   },
   {
    "duration": 11,
    "start_time": "2022-02-09T08:50:18.309Z"
   },
   {
    "duration": 26,
    "start_time": "2022-02-09T08:50:18.322Z"
   },
   {
    "duration": 31,
    "start_time": "2022-02-09T08:50:18.350Z"
   },
   {
    "duration": 11,
    "start_time": "2022-02-09T08:55:50.543Z"
   },
   {
    "duration": 1127,
    "start_time": "2022-02-09T08:55:58.965Z"
   },
   {
    "duration": 6,
    "start_time": "2022-02-09T08:56:00.094Z"
   },
   {
    "duration": 424,
    "start_time": "2022-02-09T08:56:00.102Z"
   },
   {
    "duration": 30,
    "start_time": "2022-02-09T08:56:00.528Z"
   },
   {
    "duration": 2,
    "start_time": "2022-02-09T08:56:00.560Z"
   },
   {
    "duration": 32,
    "start_time": "2022-02-09T08:56:00.564Z"
   },
   {
    "duration": 2,
    "start_time": "2022-02-09T08:56:00.598Z"
   },
   {
    "duration": 36,
    "start_time": "2022-02-09T08:56:00.602Z"
   },
   {
    "duration": 19,
    "start_time": "2022-02-09T08:56:00.641Z"
   },
   {
    "duration": 25,
    "start_time": "2022-02-09T08:56:00.662Z"
   },
   {
    "duration": 50,
    "start_time": "2022-02-09T08:56:00.688Z"
   },
   {
    "duration": 114,
    "start_time": "2022-02-09T08:56:00.740Z"
   },
   {
    "duration": 34,
    "start_time": "2022-02-09T08:56:00.856Z"
   },
   {
    "duration": 29,
    "start_time": "2022-02-09T08:56:00.892Z"
   },
   {
    "duration": 110,
    "start_time": "2022-02-09T08:56:00.923Z"
   },
   {
    "duration": 3,
    "start_time": "2022-02-09T08:56:01.035Z"
   },
   {
    "duration": 34,
    "start_time": "2022-02-09T08:56:01.039Z"
   },
   {
    "duration": 77,
    "start_time": "2022-02-09T08:56:01.074Z"
   },
   {
    "duration": 18,
    "start_time": "2022-02-09T08:56:01.153Z"
   },
   {
    "duration": 8,
    "start_time": "2022-02-09T08:56:01.173Z"
   },
   {
    "duration": 15,
    "start_time": "2022-02-09T08:56:01.183Z"
   },
   {
    "duration": 55,
    "start_time": "2022-02-09T08:56:01.200Z"
   },
   {
    "duration": 17,
    "start_time": "2022-02-09T08:56:01.257Z"
   },
   {
    "duration": 43,
    "start_time": "2022-02-09T08:56:01.276Z"
   },
   {
    "duration": 44,
    "start_time": "2022-02-09T08:56:01.321Z"
   },
   {
    "duration": 7,
    "start_time": "2022-02-09T08:56:01.367Z"
   },
   {
    "duration": 39,
    "start_time": "2022-02-09T08:56:01.378Z"
   },
   {
    "duration": 7,
    "start_time": "2022-02-09T08:56:01.420Z"
   },
   {
    "duration": 20,
    "start_time": "2022-02-09T08:56:01.428Z"
   },
   {
    "duration": 39,
    "start_time": "2022-02-09T08:56:01.450Z"
   },
   {
    "duration": 28,
    "start_time": "2022-02-09T08:56:01.491Z"
   },
   {
    "duration": 14,
    "start_time": "2022-02-09T08:56:01.521Z"
   },
   {
    "duration": 45,
    "start_time": "2022-02-09T08:56:01.537Z"
   },
   {
    "duration": 4,
    "start_time": "2022-02-09T08:56:01.584Z"
   },
   {
    "duration": 47,
    "start_time": "2022-02-09T08:56:01.590Z"
   },
   {
    "duration": 18,
    "start_time": "2022-02-09T08:56:01.639Z"
   },
   {
    "duration": 37,
    "start_time": "2022-02-09T08:56:01.659Z"
   },
   {
    "duration": 67,
    "start_time": "2022-02-09T08:56:01.698Z"
   },
   {
    "duration": 25,
    "start_time": "2022-02-09T08:56:01.767Z"
   },
   {
    "duration": 37,
    "start_time": "2022-02-09T08:56:01.793Z"
   },
   {
    "duration": 17,
    "start_time": "2022-02-09T08:56:01.832Z"
   },
   {
    "duration": 15,
    "start_time": "2022-02-09T08:56:01.851Z"
   },
   {
    "duration": 4,
    "start_time": "2022-02-09T08:56:01.868Z"
   },
   {
    "duration": 4766,
    "start_time": "2022-02-09T08:56:01.874Z"
   },
   {
    "duration": 21,
    "start_time": "2022-02-09T08:56:06.641Z"
   },
   {
    "duration": 22,
    "start_time": "2022-02-09T08:56:06.664Z"
   },
   {
    "duration": 56,
    "start_time": "2022-02-09T08:56:06.688Z"
   },
   {
    "duration": 14,
    "start_time": "2022-02-09T08:56:06.746Z"
   },
   {
    "duration": 5,
    "start_time": "2022-02-09T08:56:06.762Z"
   },
   {
    "duration": 607,
    "start_time": "2022-02-09T08:56:06.768Z"
   },
   {
    "duration": 574,
    "start_time": "2022-02-09T08:56:07.377Z"
   },
   {
    "duration": 612,
    "start_time": "2022-02-09T08:56:07.953Z"
   },
   {
    "duration": 3,
    "start_time": "2022-02-09T08:56:08.566Z"
   },
   {
    "duration": 29,
    "start_time": "2022-02-09T08:56:08.571Z"
   },
   {
    "duration": 17,
    "start_time": "2022-02-09T08:56:08.602Z"
   },
   {
    "duration": 11,
    "start_time": "2022-02-09T09:04:12.373Z"
   },
   {
    "duration": 3,
    "start_time": "2022-02-09T09:05:06.528Z"
   },
   {
    "duration": 1209,
    "start_time": "2022-02-09T09:05:12.191Z"
   },
   {
    "duration": 7,
    "start_time": "2022-02-09T09:05:13.402Z"
   },
   {
    "duration": 406,
    "start_time": "2022-02-09T09:05:13.412Z"
   },
   {
    "duration": 31,
    "start_time": "2022-02-09T09:05:13.820Z"
   },
   {
    "duration": 3,
    "start_time": "2022-02-09T09:05:13.853Z"
   },
   {
    "duration": 30,
    "start_time": "2022-02-09T09:05:13.858Z"
   },
   {
    "duration": 3,
    "start_time": "2022-02-09T09:05:13.890Z"
   },
   {
    "duration": 37,
    "start_time": "2022-02-09T09:05:13.919Z"
   },
   {
    "duration": 13,
    "start_time": "2022-02-09T09:05:13.959Z"
   },
   {
    "duration": 14,
    "start_time": "2022-02-09T09:05:13.974Z"
   },
   {
    "duration": 54,
    "start_time": "2022-02-09T09:05:13.990Z"
   },
   {
    "duration": 112,
    "start_time": "2022-02-09T09:05:14.046Z"
   },
   {
    "duration": 31,
    "start_time": "2022-02-09T09:05:14.159Z"
   },
   {
    "duration": 34,
    "start_time": "2022-02-09T09:05:14.191Z"
   },
   {
    "duration": 112,
    "start_time": "2022-02-09T09:05:14.227Z"
   },
   {
    "duration": 3,
    "start_time": "2022-02-09T09:05:14.340Z"
   },
   {
    "duration": 25,
    "start_time": "2022-02-09T09:05:14.345Z"
   },
   {
    "duration": 92,
    "start_time": "2022-02-09T09:05:14.371Z"
   },
   {
    "duration": 18,
    "start_time": "2022-02-09T09:05:14.465Z"
   },
   {
    "duration": 9,
    "start_time": "2022-02-09T09:05:14.485Z"
   },
   {
    "duration": 31,
    "start_time": "2022-02-09T09:05:14.495Z"
   },
   {
    "duration": 39,
    "start_time": "2022-02-09T09:05:14.528Z"
   },
   {
    "duration": 19,
    "start_time": "2022-02-09T09:05:14.571Z"
   },
   {
    "duration": 41,
    "start_time": "2022-02-09T09:05:14.592Z"
   },
   {
    "duration": 49,
    "start_time": "2022-02-09T09:05:14.635Z"
   },
   {
    "duration": 34,
    "start_time": "2022-02-09T09:05:14.686Z"
   },
   {
    "duration": 22,
    "start_time": "2022-02-09T09:05:14.723Z"
   },
   {
    "duration": 8,
    "start_time": "2022-02-09T09:05:14.747Z"
   },
   {
    "duration": 15,
    "start_time": "2022-02-09T09:05:14.756Z"
   },
   {
    "duration": 52,
    "start_time": "2022-02-09T09:05:14.773Z"
   },
   {
    "duration": 17,
    "start_time": "2022-02-09T09:05:14.827Z"
   },
   {
    "duration": 10,
    "start_time": "2022-02-09T09:05:14.845Z"
   },
   {
    "duration": 40,
    "start_time": "2022-02-09T09:05:14.857Z"
   },
   {
    "duration": 19,
    "start_time": "2022-02-09T09:05:14.899Z"
   },
   {
    "duration": 34,
    "start_time": "2022-02-09T09:05:14.920Z"
   },
   {
    "duration": 28,
    "start_time": "2022-02-09T09:05:14.956Z"
   },
   {
    "duration": 33,
    "start_time": "2022-02-09T09:05:14.986Z"
   },
   {
    "duration": 9,
    "start_time": "2022-02-09T09:05:15.022Z"
   },
   {
    "duration": 13,
    "start_time": "2022-02-09T09:05:15.033Z"
   },
   {
    "duration": 28,
    "start_time": "2022-02-09T09:05:15.048Z"
   },
   {
    "duration": 45,
    "start_time": "2022-02-09T09:05:15.078Z"
   },
   {
    "duration": 21,
    "start_time": "2022-02-09T09:05:15.125Z"
   },
   {
    "duration": 6,
    "start_time": "2022-02-09T09:05:15.149Z"
   },
   {
    "duration": 5030,
    "start_time": "2022-02-09T09:05:15.157Z"
   },
   {
    "duration": 36,
    "start_time": "2022-02-09T09:05:20.189Z"
   },
   {
    "duration": 23,
    "start_time": "2022-02-09T09:05:20.226Z"
   },
   {
    "duration": 35,
    "start_time": "2022-02-09T09:05:20.251Z"
   },
   {
    "duration": 32,
    "start_time": "2022-02-09T09:05:20.288Z"
   },
   {
    "duration": 27,
    "start_time": "2022-02-09T09:05:20.322Z"
   },
   {
    "duration": 594,
    "start_time": "2022-02-09T09:05:20.351Z"
   },
   {
    "duration": 587,
    "start_time": "2022-02-09T09:05:20.948Z"
   },
   {
    "duration": 627,
    "start_time": "2022-02-09T09:05:21.537Z"
   },
   {
    "duration": 3,
    "start_time": "2022-02-09T09:05:22.166Z"
   },
   {
    "duration": 16,
    "start_time": "2022-02-09T09:05:22.171Z"
   },
   {
    "duration": 30,
    "start_time": "2022-02-09T09:05:22.188Z"
   },
   {
    "duration": 5,
    "start_time": "2022-02-09T09:43:13.542Z"
   },
   {
    "duration": 16,
    "start_time": "2022-02-09T09:44:29.562Z"
   },
   {
    "duration": 23,
    "start_time": "2022-02-09T09:45:11.753Z"
   },
   {
    "duration": 23,
    "start_time": "2022-02-09T09:53:30.110Z"
   },
   {
    "duration": 27,
    "start_time": "2022-02-09T09:53:49.518Z"
   },
   {
    "duration": 11,
    "start_time": "2022-02-09T09:53:50.375Z"
   },
   {
    "duration": 1176,
    "start_time": "2022-02-09T09:53:58.437Z"
   },
   {
    "duration": 6,
    "start_time": "2022-02-09T09:53:59.615Z"
   },
   {
    "duration": 405,
    "start_time": "2022-02-09T09:53:59.622Z"
   },
   {
    "duration": 30,
    "start_time": "2022-02-09T09:54:00.030Z"
   },
   {
    "duration": 10,
    "start_time": "2022-02-09T09:54:00.062Z"
   },
   {
    "duration": 34,
    "start_time": "2022-02-09T09:54:00.074Z"
   },
   {
    "duration": 9,
    "start_time": "2022-02-09T09:54:00.110Z"
   },
   {
    "duration": 30,
    "start_time": "2022-02-09T09:54:00.121Z"
   },
   {
    "duration": 14,
    "start_time": "2022-02-09T09:54:00.155Z"
   },
   {
    "duration": 31,
    "start_time": "2022-02-09T09:54:00.171Z"
   },
   {
    "duration": 64,
    "start_time": "2022-02-09T09:54:00.204Z"
   },
   {
    "duration": 104,
    "start_time": "2022-02-09T09:54:00.270Z"
   },
   {
    "duration": 42,
    "start_time": "2022-02-09T09:54:00.376Z"
   },
   {
    "duration": 31,
    "start_time": "2022-02-09T09:54:00.420Z"
   },
   {
    "duration": 11,
    "start_time": "2022-02-09T09:54:00.453Z"
   },
   {
    "duration": 71,
    "start_time": "2022-02-09T09:54:00.466Z"
   },
   {
    "duration": 4,
    "start_time": "2022-02-09T09:54:00.539Z"
   },
   {
    "duration": 44,
    "start_time": "2022-02-09T09:54:00.544Z"
   },
   {
    "duration": 82,
    "start_time": "2022-02-09T09:54:00.590Z"
   },
   {
    "duration": 17,
    "start_time": "2022-02-09T09:54:00.674Z"
   },
   {
    "duration": 8,
    "start_time": "2022-02-09T09:54:00.693Z"
   },
   {
    "duration": 24,
    "start_time": "2022-02-09T09:54:00.702Z"
   },
   {
    "duration": 34,
    "start_time": "2022-02-09T09:54:00.727Z"
   },
   {
    "duration": 16,
    "start_time": "2022-02-09T09:54:00.762Z"
   },
   {
    "duration": 42,
    "start_time": "2022-02-09T09:54:00.780Z"
   },
   {
    "duration": 41,
    "start_time": "2022-02-09T09:54:00.823Z"
   },
   {
    "duration": 7,
    "start_time": "2022-02-09T09:54:00.867Z"
   },
   {
    "duration": 33,
    "start_time": "2022-02-09T09:54:00.876Z"
   },
   {
    "duration": 12,
    "start_time": "2022-02-09T09:54:00.910Z"
   },
   {
    "duration": 11,
    "start_time": "2022-02-09T09:54:00.924Z"
   },
   {
    "duration": 34,
    "start_time": "2022-02-09T09:54:00.937Z"
   },
   {
    "duration": 14,
    "start_time": "2022-02-09T09:54:00.972Z"
   },
   {
    "duration": 11,
    "start_time": "2022-02-09T09:54:00.988Z"
   },
   {
    "duration": 48,
    "start_time": "2022-02-09T09:54:01.001Z"
   },
   {
    "duration": 5,
    "start_time": "2022-02-09T09:54:01.051Z"
   },
   {
    "duration": 36,
    "start_time": "2022-02-09T09:54:01.058Z"
   },
   {
    "duration": 25,
    "start_time": "2022-02-09T09:54:01.096Z"
   },
   {
    "duration": 18,
    "start_time": "2022-02-09T09:54:01.123Z"
   },
   {
    "duration": 30,
    "start_time": "2022-02-09T09:54:01.143Z"
   },
   {
    "duration": 26,
    "start_time": "2022-02-09T09:54:01.175Z"
   },
   {
    "duration": 35,
    "start_time": "2022-02-09T09:54:01.203Z"
   },
   {
    "duration": 19,
    "start_time": "2022-02-09T09:54:01.240Z"
   },
   {
    "duration": 18,
    "start_time": "2022-02-09T09:54:01.261Z"
   },
   {
    "duration": 12,
    "start_time": "2022-02-09T09:54:01.281Z"
   },
   {
    "duration": 4910,
    "start_time": "2022-02-09T09:54:01.295Z"
   },
   {
    "duration": 21,
    "start_time": "2022-02-09T09:54:06.207Z"
   },
   {
    "duration": 23,
    "start_time": "2022-02-09T09:54:06.230Z"
   },
   {
    "duration": 21,
    "start_time": "2022-02-09T09:54:06.255Z"
   },
   {
    "duration": 46,
    "start_time": "2022-02-09T09:54:06.277Z"
   },
   {
    "duration": 28,
    "start_time": "2022-02-09T09:54:06.324Z"
   },
   {
    "duration": 11,
    "start_time": "2022-02-09T09:54:06.354Z"
   },
   {
    "duration": 5,
    "start_time": "2022-02-09T09:54:06.366Z"
   },
   {
    "duration": 623,
    "start_time": "2022-02-09T09:54:06.373Z"
   },
   {
    "duration": 568,
    "start_time": "2022-02-09T09:54:06.998Z"
   },
   {
    "duration": 614,
    "start_time": "2022-02-09T09:54:07.568Z"
   },
   {
    "duration": 3,
    "start_time": "2022-02-09T09:54:08.185Z"
   },
   {
    "duration": 18,
    "start_time": "2022-02-09T09:54:08.189Z"
   },
   {
    "duration": 10,
    "start_time": "2022-02-09T09:54:08.218Z"
   },
   {
    "duration": 11,
    "start_time": "2022-02-09T09:54:21.627Z"
   },
   {
    "duration": 7,
    "start_time": "2022-02-09T09:55:02.798Z"
   },
   {
    "duration": 1442,
    "start_time": "2022-02-09T17:58:23.245Z"
   },
   {
    "duration": 8,
    "start_time": "2022-02-09T17:58:24.690Z"
   },
   {
    "duration": 553,
    "start_time": "2022-02-09T17:58:24.705Z"
   },
   {
    "duration": 36,
    "start_time": "2022-02-09T17:58:25.260Z"
   },
   {
    "duration": 3,
    "start_time": "2022-02-09T17:58:25.299Z"
   },
   {
    "duration": 43,
    "start_time": "2022-02-09T17:58:25.304Z"
   },
   {
    "duration": 3,
    "start_time": "2022-02-09T17:58:25.352Z"
   },
   {
    "duration": 29,
    "start_time": "2022-02-09T17:58:25.358Z"
   },
   {
    "duration": 17,
    "start_time": "2022-02-09T17:58:25.424Z"
   },
   {
    "duration": 23,
    "start_time": "2022-02-09T17:58:25.443Z"
   },
   {
    "duration": 83,
    "start_time": "2022-02-09T17:58:25.468Z"
   },
   {
    "duration": 171,
    "start_time": "2022-02-09T17:58:25.554Z"
   },
   {
    "duration": 41,
    "start_time": "2022-02-09T17:58:25.727Z"
   },
   {
    "duration": 18,
    "start_time": "2022-02-09T17:58:25.770Z"
   },
   {
    "duration": 154,
    "start_time": "2022-02-09T17:58:25.790Z"
   },
   {
    "duration": 4,
    "start_time": "2022-02-09T17:58:25.946Z"
   },
   {
    "duration": 29,
    "start_time": "2022-02-09T17:58:25.953Z"
   },
   {
    "duration": 123,
    "start_time": "2022-02-09T17:58:25.984Z"
   },
   {
    "duration": 31,
    "start_time": "2022-02-09T17:58:26.110Z"
   },
   {
    "duration": 11,
    "start_time": "2022-02-09T17:58:26.144Z"
   },
   {
    "duration": 14,
    "start_time": "2022-02-09T17:58:26.158Z"
   },
   {
    "duration": 92,
    "start_time": "2022-02-09T17:58:26.177Z"
   },
   {
    "duration": 24,
    "start_time": "2022-02-09T17:58:26.272Z"
   },
   {
    "duration": 48,
    "start_time": "2022-02-09T17:58:26.299Z"
   },
   {
    "duration": 77,
    "start_time": "2022-02-09T17:58:26.349Z"
   },
   {
    "duration": 11,
    "start_time": "2022-02-09T17:58:26.428Z"
   },
   {
    "duration": 28,
    "start_time": "2022-02-09T17:58:26.442Z"
   },
   {
    "duration": 8,
    "start_time": "2022-02-09T17:58:26.473Z"
   },
   {
    "duration": 7,
    "start_time": "2022-02-09T17:58:26.522Z"
   },
   {
    "duration": 38,
    "start_time": "2022-02-09T17:58:26.532Z"
   },
   {
    "duration": 60,
    "start_time": "2022-02-09T17:58:26.572Z"
   },
   {
    "duration": 8,
    "start_time": "2022-02-09T17:58:26.634Z"
   },
   {
    "duration": 45,
    "start_time": "2022-02-09T17:58:26.644Z"
   },
   {
    "duration": 5,
    "start_time": "2022-02-09T17:58:26.723Z"
   },
   {
    "duration": 34,
    "start_time": "2022-02-09T17:58:26.730Z"
   },
   {
    "duration": 23,
    "start_time": "2022-02-09T17:58:26.766Z"
   },
   {
    "duration": 40,
    "start_time": "2022-02-09T17:58:26.791Z"
   },
   {
    "duration": 9,
    "start_time": "2022-02-09T17:58:26.834Z"
   },
   {
    "duration": 12,
    "start_time": "2022-02-09T17:58:26.845Z"
   },
   {
    "duration": 75,
    "start_time": "2022-02-09T17:58:26.860Z"
   },
   {
    "duration": 26,
    "start_time": "2022-02-09T17:58:26.937Z"
   },
   {
    "duration": 23,
    "start_time": "2022-02-09T17:58:26.965Z"
   },
   {
    "duration": 7,
    "start_time": "2022-02-09T17:58:27.022Z"
   },
   {
    "duration": 8609,
    "start_time": "2022-02-09T17:58:27.031Z"
   },
   {
    "duration": 24,
    "start_time": "2022-02-09T17:58:35.642Z"
   },
   {
    "duration": 72,
    "start_time": "2022-02-09T17:58:35.669Z"
   },
   {
    "duration": 34,
    "start_time": "2022-02-09T17:58:35.744Z"
   },
   {
    "duration": 62,
    "start_time": "2022-02-09T17:58:35.781Z"
   },
   {
    "duration": 79,
    "start_time": "2022-02-09T17:58:35.846Z"
   },
   {
    "duration": 18,
    "start_time": "2022-02-09T17:58:35.927Z"
   },
   {
    "duration": 7,
    "start_time": "2022-02-09T17:58:35.948Z"
   },
   {
    "duration": 974,
    "start_time": "2022-02-09T17:58:35.957Z"
   },
   {
    "duration": 894,
    "start_time": "2022-02-09T17:58:36.934Z"
   },
   {
    "duration": 938,
    "start_time": "2022-02-09T17:58:37.830Z"
   },
   {
    "duration": 4,
    "start_time": "2022-02-09T17:58:38.770Z"
   },
   {
    "duration": 47,
    "start_time": "2022-02-09T17:58:38.777Z"
   },
   {
    "duration": 14,
    "start_time": "2022-02-09T17:58:38.827Z"
   },
   {
    "duration": 28,
    "start_time": "2022-02-09T18:16:05.983Z"
   },
   {
    "duration": 27,
    "start_time": "2022-02-09T18:17:58.557Z"
   },
   {
    "duration": 41,
    "start_time": "2022-02-09T18:19:07.918Z"
   },
   {
    "duration": 42,
    "start_time": "2022-02-09T18:19:15.971Z"
   },
   {
    "duration": 46,
    "start_time": "2022-02-09T18:20:17.831Z"
   },
   {
    "duration": 48,
    "start_time": "2022-02-09T18:20:35.926Z"
   },
   {
    "duration": 39,
    "start_time": "2022-02-09T18:22:06.330Z"
   },
   {
    "duration": 24,
    "start_time": "2022-02-09T18:23:43.876Z"
   },
   {
    "duration": 113,
    "start_time": "2022-02-09T18:30:36.519Z"
   },
   {
    "duration": 34,
    "start_time": "2022-02-09T18:31:31.556Z"
   },
   {
    "duration": 734,
    "start_time": "2022-02-09T18:35:04.615Z"
   },
   {
    "duration": 580,
    "start_time": "2022-02-09T18:35:39.139Z"
   },
   {
    "duration": 696,
    "start_time": "2022-02-09T18:36:25.707Z"
   },
   {
    "duration": 715,
    "start_time": "2022-02-09T18:38:34.194Z"
   },
   {
    "duration": 403,
    "start_time": "2022-02-09T18:38:55.791Z"
   },
   {
    "duration": 17,
    "start_time": "2022-02-09T18:39:27.646Z"
   },
   {
    "duration": 306,
    "start_time": "2022-02-09T18:39:48.697Z"
   },
   {
    "duration": 425,
    "start_time": "2022-02-09T18:42:23.824Z"
   },
   {
    "duration": 328,
    "start_time": "2022-02-09T18:44:44.374Z"
   },
   {
    "duration": 309,
    "start_time": "2022-02-09T18:50:45.443Z"
   },
   {
    "duration": 808,
    "start_time": "2022-02-09T18:50:57.950Z"
   },
   {
    "duration": 784,
    "start_time": "2022-02-09T18:52:23.081Z"
   },
   {
    "duration": 341,
    "start_time": "2022-02-09T18:52:31.997Z"
   },
   {
    "duration": 588,
    "start_time": "2022-02-09T18:53:05.798Z"
   },
   {
    "duration": 605,
    "start_time": "2022-02-09T18:53:16.321Z"
   },
   {
    "duration": 481,
    "start_time": "2022-02-09T18:53:54.942Z"
   },
   {
    "duration": 6,
    "start_time": "2022-02-09T18:55:23.394Z"
   },
   {
    "duration": 1086,
    "start_time": "2022-02-09T18:57:09.287Z"
   },
   {
    "duration": 1203,
    "start_time": "2022-02-09T18:57:23.763Z"
   },
   {
    "duration": 1081,
    "start_time": "2022-02-09T18:57:45.047Z"
   },
   {
    "duration": 1068,
    "start_time": "2022-02-09T18:58:03.745Z"
   },
   {
    "duration": 1060,
    "start_time": "2022-02-09T18:58:24.304Z"
   },
   {
    "duration": 7,
    "start_time": "2022-02-09T18:58:32.207Z"
   },
   {
    "duration": 898,
    "start_time": "2022-02-09T18:58:35.395Z"
   },
   {
    "duration": 884,
    "start_time": "2022-02-09T18:58:46.212Z"
   },
   {
    "duration": 1001,
    "start_time": "2022-02-09T18:58:59.973Z"
   },
   {
    "duration": 985,
    "start_time": "2022-02-09T18:59:09.180Z"
   },
   {
    "duration": 903,
    "start_time": "2022-02-09T18:59:17.540Z"
   },
   {
    "duration": 7,
    "start_time": "2022-02-09T18:59:52.813Z"
   },
   {
    "duration": 1101,
    "start_time": "2022-02-09T18:59:55.353Z"
   },
   {
    "duration": 7,
    "start_time": "2022-02-09T19:00:04.407Z"
   },
   {
    "duration": 885,
    "start_time": "2022-02-09T19:00:06.551Z"
   },
   {
    "duration": 321,
    "start_time": "2022-02-09T19:01:52.824Z"
   },
   {
    "duration": 330,
    "start_time": "2022-02-09T19:08:07.468Z"
   },
   {
    "duration": 332,
    "start_time": "2022-02-09T19:09:31.391Z"
   },
   {
    "duration": 15,
    "start_time": "2022-02-09T19:14:27.082Z"
   },
   {
    "duration": 16,
    "start_time": "2022-02-09T19:14:31.424Z"
   },
   {
    "duration": 332,
    "start_time": "2022-02-09T19:24:05.626Z"
   },
   {
    "duration": 7391,
    "start_time": "2022-02-09T19:25:13.801Z"
   },
   {
    "duration": 14,
    "start_time": "2022-02-09T19:45:58.774Z"
   },
   {
    "duration": 9,
    "start_time": "2022-02-09T19:46:05.867Z"
   },
   {
    "duration": 330,
    "start_time": "2022-02-09T19:47:24.386Z"
   },
   {
    "duration": 296,
    "start_time": "2022-02-09T19:47:32.292Z"
   },
   {
    "duration": 12,
    "start_time": "2022-02-09T19:48:02.031Z"
   },
   {
    "duration": 135,
    "start_time": "2022-02-09T19:48:47.440Z"
   },
   {
    "duration": 5,
    "start_time": "2022-02-09T19:49:14.856Z"
   },
   {
    "duration": 17,
    "start_time": "2022-02-09T19:57:16.556Z"
   },
   {
    "duration": 7,
    "start_time": "2022-02-09T20:02:53.196Z"
   },
   {
    "duration": 1473,
    "start_time": "2022-02-09T20:03:05.427Z"
   },
   {
    "duration": 20,
    "start_time": "2022-02-09T20:03:06.903Z"
   },
   {
    "duration": 492,
    "start_time": "2022-02-09T20:03:06.926Z"
   },
   {
    "duration": 36,
    "start_time": "2022-02-09T20:03:07.420Z"
   },
   {
    "duration": 3,
    "start_time": "2022-02-09T20:03:07.459Z"
   },
   {
    "duration": 74,
    "start_time": "2022-02-09T20:03:07.465Z"
   },
   {
    "duration": 3,
    "start_time": "2022-02-09T20:03:07.542Z"
   },
   {
    "duration": 26,
    "start_time": "2022-02-09T20:03:07.549Z"
   },
   {
    "duration": 59,
    "start_time": "2022-02-09T20:03:07.578Z"
   },
   {
    "duration": 22,
    "start_time": "2022-02-09T20:03:07.639Z"
   },
   {
    "duration": 87,
    "start_time": "2022-02-09T20:03:07.663Z"
   },
   {
    "duration": 139,
    "start_time": "2022-02-09T20:03:07.753Z"
   },
   {
    "duration": 53,
    "start_time": "2022-02-09T20:03:07.894Z"
   },
   {
    "duration": 19,
    "start_time": "2022-02-09T20:03:07.949Z"
   },
   {
    "duration": 154,
    "start_time": "2022-02-09T20:03:07.970Z"
   },
   {
    "duration": 4,
    "start_time": "2022-02-09T20:03:08.127Z"
   },
   {
    "duration": 35,
    "start_time": "2022-02-09T20:03:08.133Z"
   },
   {
    "duration": 136,
    "start_time": "2022-02-09T20:03:08.171Z"
   },
   {
    "duration": 27,
    "start_time": "2022-02-09T20:03:08.310Z"
   },
   {
    "duration": 12,
    "start_time": "2022-02-09T20:03:08.339Z"
   },
   {
    "duration": 15,
    "start_time": "2022-02-09T20:03:08.353Z"
   },
   {
    "duration": 92,
    "start_time": "2022-02-09T20:03:08.371Z"
   },
   {
    "duration": 55,
    "start_time": "2022-02-09T20:03:08.473Z"
   },
   {
    "duration": 28,
    "start_time": "2022-02-09T20:03:08.532Z"
   },
   {
    "duration": 79,
    "start_time": "2022-02-09T20:03:08.562Z"
   },
   {
    "duration": 12,
    "start_time": "2022-02-09T20:03:08.643Z"
   },
   {
    "duration": 65,
    "start_time": "2022-02-09T20:03:08.658Z"
   },
   {
    "duration": 12,
    "start_time": "2022-02-09T20:03:08.726Z"
   },
   {
    "duration": 9,
    "start_time": "2022-02-09T20:03:08.741Z"
   },
   {
    "duration": 102,
    "start_time": "2022-02-09T20:03:08.753Z"
   },
   {
    "duration": 26,
    "start_time": "2022-02-09T20:03:08.858Z"
   },
   {
    "duration": 7,
    "start_time": "2022-02-09T20:03:08.886Z"
   },
   {
    "duration": 52,
    "start_time": "2022-02-09T20:03:08.896Z"
   },
   {
    "duration": 82,
    "start_time": "2022-02-09T20:03:08.951Z"
   },
   {
    "duration": 8,
    "start_time": "2022-02-09T20:03:09.037Z"
   },
   {
    "duration": 40,
    "start_time": "2022-02-09T20:03:09.047Z"
   },
   {
    "duration": 53,
    "start_time": "2022-02-09T20:03:09.090Z"
   },
   {
    "duration": 23,
    "start_time": "2022-02-09T20:03:09.145Z"
   },
   {
    "duration": 12,
    "start_time": "2022-02-09T20:03:09.171Z"
   },
   {
    "duration": 43,
    "start_time": "2022-02-09T20:03:09.186Z"
   },
   {
    "duration": 15,
    "start_time": "2022-02-09T20:03:09.231Z"
   },
   {
    "duration": 32,
    "start_time": "2022-02-09T20:03:09.248Z"
   },
   {
    "duration": 64,
    "start_time": "2022-02-09T20:03:09.282Z"
   },
   {
    "duration": 24,
    "start_time": "2022-02-09T20:03:09.349Z"
   },
   {
    "duration": 6,
    "start_time": "2022-02-09T20:03:09.375Z"
   },
   {
    "duration": 9130,
    "start_time": "2022-02-09T20:03:09.424Z"
   },
   {
    "duration": 34,
    "start_time": "2022-02-09T20:03:18.557Z"
   },
   {
    "duration": 62,
    "start_time": "2022-02-09T20:03:18.594Z"
   },
   {
    "duration": 92,
    "start_time": "2022-02-09T20:03:18.659Z"
   },
   {
    "duration": 20,
    "start_time": "2022-02-09T20:03:18.755Z"
   },
   {
    "duration": 376,
    "start_time": "2022-02-09T20:03:18.777Z"
   },
   {
    "duration": 7,
    "start_time": "2022-02-09T20:03:19.156Z"
   },
   {
    "duration": 934,
    "start_time": "2022-02-09T20:03:19.166Z"
   },
   {
    "duration": 936,
    "start_time": "2022-02-09T20:03:20.102Z"
   },
   {
    "duration": 979,
    "start_time": "2022-02-09T20:03:21.041Z"
   },
   {
    "duration": 4,
    "start_time": "2022-02-09T20:03:22.022Z"
   },
   {
    "duration": 14,
    "start_time": "2022-02-09T20:03:22.028Z"
   },
   {
    "duration": 17,
    "start_time": "2022-02-09T20:03:22.045Z"
   }
  ],
  "kernelspec": {
   "display_name": "Python 3 (ipykernel)",
   "language": "python",
   "name": "python3"
  },
  "language_info": {
   "codemirror_mode": {
    "name": "ipython",
    "version": 3
   },
   "file_extension": ".py",
   "mimetype": "text/x-python",
   "name": "python",
   "nbconvert_exporter": "python",
   "pygments_lexer": "ipython3",
   "version": "3.9.5"
  },
  "toc": {
   "base_numbering": 1,
   "nav_menu": {},
   "number_sections": true,
   "sideBar": true,
   "skip_h1_title": true,
   "title_cell": "Table of Contents",
   "title_sidebar": "Contents",
   "toc_cell": false,
   "toc_position": {
    "height": "calc(100% - 180px)",
    "left": "10px",
    "top": "150px",
    "width": "226.594px"
   },
   "toc_section_display": true,
   "toc_window_display": true
  }
 },
 "nbformat": 4,
 "nbformat_minor": 2
}
