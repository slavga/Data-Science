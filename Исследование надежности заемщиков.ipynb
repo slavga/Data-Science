{
 "cells": [
  {
   "cell_type": "markdown",
   "metadata": {},
   "source": [
    "# Исследование надёжности заёмщиков\n",
    "\n",
    "Заказчик — кредитный отдел банка. Нужно разобраться, влияет ли семейное положение и количество детей клиента на факт погашения кредита в срок. Входные данные от банка — статистика о платёжеспособности клиентов.\n",
    "\n",
    "Результаты исследования будут учтены при построении модели **кредитного скоринга** — специальной системы, которая оценивает способность потенциального заёмщика вернуть кредит банку."
   ]
  },
  {
   "cell_type": "markdown",
   "metadata": {},
   "source": [
    "## Открываем файл с данными и изучаем общую информацию"
   ]
  },
  {
   "cell_type": "code",
   "execution_count": 15,
   "metadata": {},
   "outputs": [],
   "source": [
    "# Подключаем библиотеку Pandas \n",
    "# Подключаем библиотеку с функцией лемматизации на русском языке. Для поиска слов записанных в разной форме"
   ]
  },
  {
   "cell_type": "code",
   "execution_count": 16,
   "metadata": {},
   "outputs": [],
   "source": [
    "\n",
    "import pandas as pd\n",
    "from pymystem3 import Mystem \n",
    "m = Mystem()\n",
    "\n",
    "data = pd.read_csv('/datasets/data.csv')"
   ]
  },
  {
   "cell_type": "markdown",
   "metadata": {},
   "source": [
    "<h3>Исследуем загруженные данные </h3>"
   ]
  },
  {
   "cell_type": "code",
   "execution_count": 17,
   "metadata": {},
   "outputs": [
    {
     "data": {
      "text/plain": [
       "(21525, 12)"
      ]
     },
     "execution_count": 17,
     "metadata": {},
     "output_type": "execute_result"
    }
   ],
   "source": [
    "# Узнаем количество строк и столбцов в датасете\n",
    "data.shape"
   ]
  },
  {
   "cell_type": "code",
   "execution_count": 18,
   "metadata": {
    "scrolled": true
   },
   "outputs": [
    {
     "name": "stdout",
     "output_type": "stream",
     "text": [
      "<class 'pandas.core.frame.DataFrame'>\n",
      "RangeIndex: 21525 entries, 0 to 21524\n",
      "Data columns (total 12 columns):\n",
      "children            21525 non-null int64\n",
      "days_employed       19351 non-null float64\n",
      "dob_years           21525 non-null int64\n",
      "education           21525 non-null object\n",
      "education_id        21525 non-null int64\n",
      "family_status       21525 non-null object\n",
      "family_status_id    21525 non-null int64\n",
      "gender              21525 non-null object\n",
      "income_type         21525 non-null object\n",
      "debt                21525 non-null int64\n",
      "total_income        19351 non-null float64\n",
      "purpose             21525 non-null object\n",
      "dtypes: float64(2), int64(5), object(5)\n",
      "memory usage: 2.0+ MB\n"
     ]
    }
   ],
   "source": [
    "# Просмотрим общую информацию о данных. Названия колонок, количество строк в конкретной колонке, типы данных.\n",
    "data.info()"
   ]
  },
  {
   "cell_type": "code",
   "execution_count": 19,
   "metadata": {
    "scrolled": true
   },
   "outputs": [
    {
     "data": {
      "text/html": [
       "<div>\n",
       "<style scoped>\n",
       "    .dataframe tbody tr th:only-of-type {\n",
       "        vertical-align: middle;\n",
       "    }\n",
       "\n",
       "    .dataframe tbody tr th {\n",
       "        vertical-align: top;\n",
       "    }\n",
       "\n",
       "    .dataframe thead th {\n",
       "        text-align: right;\n",
       "    }\n",
       "</style>\n",
       "<table border=\"1\" class=\"dataframe\">\n",
       "  <thead>\n",
       "    <tr style=\"text-align: right;\">\n",
       "      <th></th>\n",
       "      <th>children</th>\n",
       "      <th>days_employed</th>\n",
       "      <th>dob_years</th>\n",
       "      <th>education</th>\n",
       "      <th>education_id</th>\n",
       "      <th>family_status</th>\n",
       "      <th>family_status_id</th>\n",
       "      <th>gender</th>\n",
       "      <th>income_type</th>\n",
       "      <th>debt</th>\n",
       "      <th>total_income</th>\n",
       "      <th>purpose</th>\n",
       "    </tr>\n",
       "  </thead>\n",
       "  <tbody>\n",
       "    <tr>\n",
       "      <td>0</td>\n",
       "      <td>1</td>\n",
       "      <td>-8437.673028</td>\n",
       "      <td>42</td>\n",
       "      <td>высшее</td>\n",
       "      <td>0</td>\n",
       "      <td>женат / замужем</td>\n",
       "      <td>0</td>\n",
       "      <td>F</td>\n",
       "      <td>сотрудник</td>\n",
       "      <td>0</td>\n",
       "      <td>253875.639453</td>\n",
       "      <td>покупка жилья</td>\n",
       "    </tr>\n",
       "    <tr>\n",
       "      <td>1</td>\n",
       "      <td>1</td>\n",
       "      <td>-4024.803754</td>\n",
       "      <td>36</td>\n",
       "      <td>среднее</td>\n",
       "      <td>1</td>\n",
       "      <td>женат / замужем</td>\n",
       "      <td>0</td>\n",
       "      <td>F</td>\n",
       "      <td>сотрудник</td>\n",
       "      <td>0</td>\n",
       "      <td>112080.014102</td>\n",
       "      <td>приобретение автомобиля</td>\n",
       "    </tr>\n",
       "    <tr>\n",
       "      <td>2</td>\n",
       "      <td>0</td>\n",
       "      <td>-5623.422610</td>\n",
       "      <td>33</td>\n",
       "      <td>Среднее</td>\n",
       "      <td>1</td>\n",
       "      <td>женат / замужем</td>\n",
       "      <td>0</td>\n",
       "      <td>M</td>\n",
       "      <td>сотрудник</td>\n",
       "      <td>0</td>\n",
       "      <td>145885.952297</td>\n",
       "      <td>покупка жилья</td>\n",
       "    </tr>\n",
       "    <tr>\n",
       "      <td>3</td>\n",
       "      <td>3</td>\n",
       "      <td>-4124.747207</td>\n",
       "      <td>32</td>\n",
       "      <td>среднее</td>\n",
       "      <td>1</td>\n",
       "      <td>женат / замужем</td>\n",
       "      <td>0</td>\n",
       "      <td>M</td>\n",
       "      <td>сотрудник</td>\n",
       "      <td>0</td>\n",
       "      <td>267628.550329</td>\n",
       "      <td>дополнительное образование</td>\n",
       "    </tr>\n",
       "    <tr>\n",
       "      <td>4</td>\n",
       "      <td>0</td>\n",
       "      <td>340266.072047</td>\n",
       "      <td>53</td>\n",
       "      <td>среднее</td>\n",
       "      <td>1</td>\n",
       "      <td>гражданский брак</td>\n",
       "      <td>1</td>\n",
       "      <td>F</td>\n",
       "      <td>пенсионер</td>\n",
       "      <td>0</td>\n",
       "      <td>158616.077870</td>\n",
       "      <td>сыграть свадьбу</td>\n",
       "    </tr>\n",
       "    <tr>\n",
       "      <td>5</td>\n",
       "      <td>0</td>\n",
       "      <td>-926.185831</td>\n",
       "      <td>27</td>\n",
       "      <td>высшее</td>\n",
       "      <td>0</td>\n",
       "      <td>гражданский брак</td>\n",
       "      <td>1</td>\n",
       "      <td>M</td>\n",
       "      <td>компаньон</td>\n",
       "      <td>0</td>\n",
       "      <td>255763.565419</td>\n",
       "      <td>покупка жилья</td>\n",
       "    </tr>\n",
       "    <tr>\n",
       "      <td>6</td>\n",
       "      <td>0</td>\n",
       "      <td>-2879.202052</td>\n",
       "      <td>43</td>\n",
       "      <td>высшее</td>\n",
       "      <td>0</td>\n",
       "      <td>женат / замужем</td>\n",
       "      <td>0</td>\n",
       "      <td>F</td>\n",
       "      <td>компаньон</td>\n",
       "      <td>0</td>\n",
       "      <td>240525.971920</td>\n",
       "      <td>операции с жильем</td>\n",
       "    </tr>\n",
       "    <tr>\n",
       "      <td>7</td>\n",
       "      <td>0</td>\n",
       "      <td>-152.779569</td>\n",
       "      <td>50</td>\n",
       "      <td>СРЕДНЕЕ</td>\n",
       "      <td>1</td>\n",
       "      <td>женат / замужем</td>\n",
       "      <td>0</td>\n",
       "      <td>M</td>\n",
       "      <td>сотрудник</td>\n",
       "      <td>0</td>\n",
       "      <td>135823.934197</td>\n",
       "      <td>образование</td>\n",
       "    </tr>\n",
       "    <tr>\n",
       "      <td>8</td>\n",
       "      <td>2</td>\n",
       "      <td>-6929.865299</td>\n",
       "      <td>35</td>\n",
       "      <td>ВЫСШЕЕ</td>\n",
       "      <td>0</td>\n",
       "      <td>гражданский брак</td>\n",
       "      <td>1</td>\n",
       "      <td>F</td>\n",
       "      <td>сотрудник</td>\n",
       "      <td>0</td>\n",
       "      <td>95856.832424</td>\n",
       "      <td>на проведение свадьбы</td>\n",
       "    </tr>\n",
       "    <tr>\n",
       "      <td>9</td>\n",
       "      <td>0</td>\n",
       "      <td>-2188.756445</td>\n",
       "      <td>41</td>\n",
       "      <td>среднее</td>\n",
       "      <td>1</td>\n",
       "      <td>женат / замужем</td>\n",
       "      <td>0</td>\n",
       "      <td>M</td>\n",
       "      <td>сотрудник</td>\n",
       "      <td>0</td>\n",
       "      <td>144425.938277</td>\n",
       "      <td>покупка жилья для семьи</td>\n",
       "    </tr>\n",
       "    <tr>\n",
       "      <td>10</td>\n",
       "      <td>2</td>\n",
       "      <td>-4171.483647</td>\n",
       "      <td>36</td>\n",
       "      <td>высшее</td>\n",
       "      <td>0</td>\n",
       "      <td>женат / замужем</td>\n",
       "      <td>0</td>\n",
       "      <td>M</td>\n",
       "      <td>компаньон</td>\n",
       "      <td>0</td>\n",
       "      <td>113943.491460</td>\n",
       "      <td>покупка недвижимости</td>\n",
       "    </tr>\n",
       "    <tr>\n",
       "      <td>11</td>\n",
       "      <td>0</td>\n",
       "      <td>-792.701887</td>\n",
       "      <td>40</td>\n",
       "      <td>среднее</td>\n",
       "      <td>1</td>\n",
       "      <td>женат / замужем</td>\n",
       "      <td>0</td>\n",
       "      <td>F</td>\n",
       "      <td>сотрудник</td>\n",
       "      <td>0</td>\n",
       "      <td>77069.234271</td>\n",
       "      <td>покупка коммерческой недвижимости</td>\n",
       "    </tr>\n",
       "    <tr>\n",
       "      <td>12</td>\n",
       "      <td>0</td>\n",
       "      <td>NaN</td>\n",
       "      <td>65</td>\n",
       "      <td>среднее</td>\n",
       "      <td>1</td>\n",
       "      <td>гражданский брак</td>\n",
       "      <td>1</td>\n",
       "      <td>M</td>\n",
       "      <td>пенсионер</td>\n",
       "      <td>0</td>\n",
       "      <td>NaN</td>\n",
       "      <td>сыграть свадьбу</td>\n",
       "    </tr>\n",
       "    <tr>\n",
       "      <td>13</td>\n",
       "      <td>0</td>\n",
       "      <td>-1846.641941</td>\n",
       "      <td>54</td>\n",
       "      <td>неоконченное высшее</td>\n",
       "      <td>2</td>\n",
       "      <td>женат / замужем</td>\n",
       "      <td>0</td>\n",
       "      <td>F</td>\n",
       "      <td>сотрудник</td>\n",
       "      <td>0</td>\n",
       "      <td>130458.228857</td>\n",
       "      <td>приобретение автомобиля</td>\n",
       "    </tr>\n",
       "    <tr>\n",
       "      <td>14</td>\n",
       "      <td>0</td>\n",
       "      <td>-1844.956182</td>\n",
       "      <td>56</td>\n",
       "      <td>высшее</td>\n",
       "      <td>0</td>\n",
       "      <td>гражданский брак</td>\n",
       "      <td>1</td>\n",
       "      <td>F</td>\n",
       "      <td>компаньон</td>\n",
       "      <td>1</td>\n",
       "      <td>165127.911772</td>\n",
       "      <td>покупка жилой недвижимости</td>\n",
       "    </tr>\n",
       "    <tr>\n",
       "      <td>15</td>\n",
       "      <td>1</td>\n",
       "      <td>-972.364419</td>\n",
       "      <td>26</td>\n",
       "      <td>среднее</td>\n",
       "      <td>1</td>\n",
       "      <td>женат / замужем</td>\n",
       "      <td>0</td>\n",
       "      <td>F</td>\n",
       "      <td>сотрудник</td>\n",
       "      <td>0</td>\n",
       "      <td>116820.904450</td>\n",
       "      <td>строительство собственной недвижимости</td>\n",
       "    </tr>\n",
       "    <tr>\n",
       "      <td>16</td>\n",
       "      <td>0</td>\n",
       "      <td>-1719.934226</td>\n",
       "      <td>35</td>\n",
       "      <td>среднее</td>\n",
       "      <td>1</td>\n",
       "      <td>женат / замужем</td>\n",
       "      <td>0</td>\n",
       "      <td>F</td>\n",
       "      <td>сотрудник</td>\n",
       "      <td>0</td>\n",
       "      <td>289202.704229</td>\n",
       "      <td>недвижимость</td>\n",
       "    </tr>\n",
       "    <tr>\n",
       "      <td>17</td>\n",
       "      <td>0</td>\n",
       "      <td>-2369.999720</td>\n",
       "      <td>33</td>\n",
       "      <td>высшее</td>\n",
       "      <td>0</td>\n",
       "      <td>гражданский брак</td>\n",
       "      <td>1</td>\n",
       "      <td>M</td>\n",
       "      <td>сотрудник</td>\n",
       "      <td>0</td>\n",
       "      <td>90410.586745</td>\n",
       "      <td>строительство недвижимости</td>\n",
       "    </tr>\n",
       "    <tr>\n",
       "      <td>18</td>\n",
       "      <td>0</td>\n",
       "      <td>400281.136913</td>\n",
       "      <td>53</td>\n",
       "      <td>среднее</td>\n",
       "      <td>1</td>\n",
       "      <td>вдовец / вдова</td>\n",
       "      <td>2</td>\n",
       "      <td>F</td>\n",
       "      <td>пенсионер</td>\n",
       "      <td>0</td>\n",
       "      <td>56823.777243</td>\n",
       "      <td>на покупку подержанного автомобиля</td>\n",
       "    </tr>\n",
       "    <tr>\n",
       "      <td>19</td>\n",
       "      <td>0</td>\n",
       "      <td>-10038.818549</td>\n",
       "      <td>48</td>\n",
       "      <td>СРЕДНЕЕ</td>\n",
       "      <td>1</td>\n",
       "      <td>в разводе</td>\n",
       "      <td>3</td>\n",
       "      <td>F</td>\n",
       "      <td>сотрудник</td>\n",
       "      <td>0</td>\n",
       "      <td>242831.107982</td>\n",
       "      <td>на покупку своего автомобиля</td>\n",
       "    </tr>\n",
       "  </tbody>\n",
       "</table>\n",
       "</div>"
      ],
      "text/plain": [
       "    children  days_employed  dob_years            education  education_id  \\\n",
       "0          1   -8437.673028         42               высшее             0   \n",
       "1          1   -4024.803754         36              среднее             1   \n",
       "2          0   -5623.422610         33              Среднее             1   \n",
       "3          3   -4124.747207         32              среднее             1   \n",
       "4          0  340266.072047         53              среднее             1   \n",
       "5          0    -926.185831         27               высшее             0   \n",
       "6          0   -2879.202052         43               высшее             0   \n",
       "7          0    -152.779569         50              СРЕДНЕЕ             1   \n",
       "8          2   -6929.865299         35               ВЫСШЕЕ             0   \n",
       "9          0   -2188.756445         41              среднее             1   \n",
       "10         2   -4171.483647         36               высшее             0   \n",
       "11         0    -792.701887         40              среднее             1   \n",
       "12         0            NaN         65              среднее             1   \n",
       "13         0   -1846.641941         54  неоконченное высшее             2   \n",
       "14         0   -1844.956182         56               высшее             0   \n",
       "15         1    -972.364419         26              среднее             1   \n",
       "16         0   -1719.934226         35              среднее             1   \n",
       "17         0   -2369.999720         33               высшее             0   \n",
       "18         0  400281.136913         53              среднее             1   \n",
       "19         0  -10038.818549         48              СРЕДНЕЕ             1   \n",
       "\n",
       "       family_status  family_status_id gender income_type  debt  \\\n",
       "0    женат / замужем                 0      F   сотрудник     0   \n",
       "1    женат / замужем                 0      F   сотрудник     0   \n",
       "2    женат / замужем                 0      M   сотрудник     0   \n",
       "3    женат / замужем                 0      M   сотрудник     0   \n",
       "4   гражданский брак                 1      F   пенсионер     0   \n",
       "5   гражданский брак                 1      M   компаньон     0   \n",
       "6    женат / замужем                 0      F   компаньон     0   \n",
       "7    женат / замужем                 0      M   сотрудник     0   \n",
       "8   гражданский брак                 1      F   сотрудник     0   \n",
       "9    женат / замужем                 0      M   сотрудник     0   \n",
       "10   женат / замужем                 0      M   компаньон     0   \n",
       "11   женат / замужем                 0      F   сотрудник     0   \n",
       "12  гражданский брак                 1      M   пенсионер     0   \n",
       "13   женат / замужем                 0      F   сотрудник     0   \n",
       "14  гражданский брак                 1      F   компаньон     1   \n",
       "15   женат / замужем                 0      F   сотрудник     0   \n",
       "16   женат / замужем                 0      F   сотрудник     0   \n",
       "17  гражданский брак                 1      M   сотрудник     0   \n",
       "18    вдовец / вдова                 2      F   пенсионер     0   \n",
       "19         в разводе                 3      F   сотрудник     0   \n",
       "\n",
       "     total_income                                 purpose  \n",
       "0   253875.639453                           покупка жилья  \n",
       "1   112080.014102                 приобретение автомобиля  \n",
       "2   145885.952297                           покупка жилья  \n",
       "3   267628.550329              дополнительное образование  \n",
       "4   158616.077870                         сыграть свадьбу  \n",
       "5   255763.565419                           покупка жилья  \n",
       "6   240525.971920                       операции с жильем  \n",
       "7   135823.934197                             образование  \n",
       "8    95856.832424                   на проведение свадьбы  \n",
       "9   144425.938277                 покупка жилья для семьи  \n",
       "10  113943.491460                    покупка недвижимости  \n",
       "11   77069.234271       покупка коммерческой недвижимости  \n",
       "12            NaN                         сыграть свадьбу  \n",
       "13  130458.228857                 приобретение автомобиля  \n",
       "14  165127.911772              покупка жилой недвижимости  \n",
       "15  116820.904450  строительство собственной недвижимости  \n",
       "16  289202.704229                            недвижимость  \n",
       "17   90410.586745              строительство недвижимости  \n",
       "18   56823.777243      на покупку подержанного автомобиля  \n",
       "19  242831.107982            на покупку своего автомобиля  "
      ]
     },
     "execution_count": 19,
     "metadata": {},
     "output_type": "execute_result"
    }
   ],
   "source": [
    "# Сделаем визуальный обзор верхнего кадра датасета, выведем первые 20 строк. Определим категориальные и количественные колонки. \n",
    "data.head(20)"
   ]
  },
  {
   "cell_type": "code",
   "execution_count": 20,
   "metadata": {},
   "outputs": [
    {
     "data": {
      "text/html": [
       "<div>\n",
       "<style scoped>\n",
       "    .dataframe tbody tr th:only-of-type {\n",
       "        vertical-align: middle;\n",
       "    }\n",
       "\n",
       "    .dataframe tbody tr th {\n",
       "        vertical-align: top;\n",
       "    }\n",
       "\n",
       "    .dataframe thead th {\n",
       "        text-align: right;\n",
       "    }\n",
       "</style>\n",
       "<table border=\"1\" class=\"dataframe\">\n",
       "  <thead>\n",
       "    <tr style=\"text-align: right;\">\n",
       "      <th></th>\n",
       "      <th>children</th>\n",
       "      <th>days_employed</th>\n",
       "      <th>dob_years</th>\n",
       "      <th>education</th>\n",
       "      <th>education_id</th>\n",
       "      <th>family_status</th>\n",
       "      <th>family_status_id</th>\n",
       "      <th>gender</th>\n",
       "      <th>income_type</th>\n",
       "      <th>debt</th>\n",
       "      <th>total_income</th>\n",
       "      <th>purpose</th>\n",
       "    </tr>\n",
       "  </thead>\n",
       "  <tbody>\n",
       "    <tr>\n",
       "      <td>12</td>\n",
       "      <td>0</td>\n",
       "      <td>NaN</td>\n",
       "      <td>65</td>\n",
       "      <td>среднее</td>\n",
       "      <td>1</td>\n",
       "      <td>гражданский брак</td>\n",
       "      <td>1</td>\n",
       "      <td>M</td>\n",
       "      <td>пенсионер</td>\n",
       "      <td>0</td>\n",
       "      <td>NaN</td>\n",
       "      <td>сыграть свадьбу</td>\n",
       "    </tr>\n",
       "    <tr>\n",
       "      <td>26</td>\n",
       "      <td>0</td>\n",
       "      <td>NaN</td>\n",
       "      <td>41</td>\n",
       "      <td>среднее</td>\n",
       "      <td>1</td>\n",
       "      <td>женат / замужем</td>\n",
       "      <td>0</td>\n",
       "      <td>M</td>\n",
       "      <td>госслужащий</td>\n",
       "      <td>0</td>\n",
       "      <td>NaN</td>\n",
       "      <td>образование</td>\n",
       "    </tr>\n",
       "    <tr>\n",
       "      <td>29</td>\n",
       "      <td>0</td>\n",
       "      <td>NaN</td>\n",
       "      <td>63</td>\n",
       "      <td>среднее</td>\n",
       "      <td>1</td>\n",
       "      <td>Не женат / не замужем</td>\n",
       "      <td>4</td>\n",
       "      <td>F</td>\n",
       "      <td>пенсионер</td>\n",
       "      <td>0</td>\n",
       "      <td>NaN</td>\n",
       "      <td>строительство жилой недвижимости</td>\n",
       "    </tr>\n",
       "    <tr>\n",
       "      <td>41</td>\n",
       "      <td>0</td>\n",
       "      <td>NaN</td>\n",
       "      <td>50</td>\n",
       "      <td>среднее</td>\n",
       "      <td>1</td>\n",
       "      <td>женат / замужем</td>\n",
       "      <td>0</td>\n",
       "      <td>F</td>\n",
       "      <td>госслужащий</td>\n",
       "      <td>0</td>\n",
       "      <td>NaN</td>\n",
       "      <td>сделка с подержанным автомобилем</td>\n",
       "    </tr>\n",
       "    <tr>\n",
       "      <td>55</td>\n",
       "      <td>0</td>\n",
       "      <td>NaN</td>\n",
       "      <td>54</td>\n",
       "      <td>среднее</td>\n",
       "      <td>1</td>\n",
       "      <td>гражданский брак</td>\n",
       "      <td>1</td>\n",
       "      <td>F</td>\n",
       "      <td>пенсионер</td>\n",
       "      <td>1</td>\n",
       "      <td>NaN</td>\n",
       "      <td>сыграть свадьбу</td>\n",
       "    </tr>\n",
       "    <tr>\n",
       "      <td>...</td>\n",
       "      <td>...</td>\n",
       "      <td>...</td>\n",
       "      <td>...</td>\n",
       "      <td>...</td>\n",
       "      <td>...</td>\n",
       "      <td>...</td>\n",
       "      <td>...</td>\n",
       "      <td>...</td>\n",
       "      <td>...</td>\n",
       "      <td>...</td>\n",
       "      <td>...</td>\n",
       "      <td>...</td>\n",
       "    </tr>\n",
       "    <tr>\n",
       "      <td>21489</td>\n",
       "      <td>2</td>\n",
       "      <td>NaN</td>\n",
       "      <td>47</td>\n",
       "      <td>Среднее</td>\n",
       "      <td>1</td>\n",
       "      <td>женат / замужем</td>\n",
       "      <td>0</td>\n",
       "      <td>M</td>\n",
       "      <td>компаньон</td>\n",
       "      <td>0</td>\n",
       "      <td>NaN</td>\n",
       "      <td>сделка с автомобилем</td>\n",
       "    </tr>\n",
       "    <tr>\n",
       "      <td>21495</td>\n",
       "      <td>1</td>\n",
       "      <td>NaN</td>\n",
       "      <td>50</td>\n",
       "      <td>среднее</td>\n",
       "      <td>1</td>\n",
       "      <td>гражданский брак</td>\n",
       "      <td>1</td>\n",
       "      <td>F</td>\n",
       "      <td>сотрудник</td>\n",
       "      <td>0</td>\n",
       "      <td>NaN</td>\n",
       "      <td>свадьба</td>\n",
       "    </tr>\n",
       "    <tr>\n",
       "      <td>21497</td>\n",
       "      <td>0</td>\n",
       "      <td>NaN</td>\n",
       "      <td>48</td>\n",
       "      <td>ВЫСШЕЕ</td>\n",
       "      <td>0</td>\n",
       "      <td>женат / замужем</td>\n",
       "      <td>0</td>\n",
       "      <td>F</td>\n",
       "      <td>компаньон</td>\n",
       "      <td>0</td>\n",
       "      <td>NaN</td>\n",
       "      <td>строительство недвижимости</td>\n",
       "    </tr>\n",
       "    <tr>\n",
       "      <td>21502</td>\n",
       "      <td>1</td>\n",
       "      <td>NaN</td>\n",
       "      <td>42</td>\n",
       "      <td>среднее</td>\n",
       "      <td>1</td>\n",
       "      <td>женат / замужем</td>\n",
       "      <td>0</td>\n",
       "      <td>F</td>\n",
       "      <td>сотрудник</td>\n",
       "      <td>0</td>\n",
       "      <td>NaN</td>\n",
       "      <td>строительство жилой недвижимости</td>\n",
       "    </tr>\n",
       "    <tr>\n",
       "      <td>21510</td>\n",
       "      <td>2</td>\n",
       "      <td>NaN</td>\n",
       "      <td>28</td>\n",
       "      <td>среднее</td>\n",
       "      <td>1</td>\n",
       "      <td>женат / замужем</td>\n",
       "      <td>0</td>\n",
       "      <td>F</td>\n",
       "      <td>сотрудник</td>\n",
       "      <td>0</td>\n",
       "      <td>NaN</td>\n",
       "      <td>приобретение автомобиля</td>\n",
       "    </tr>\n",
       "  </tbody>\n",
       "</table>\n",
       "<p>2174 rows × 12 columns</p>\n",
       "</div>"
      ],
      "text/plain": [
       "       children  days_employed  dob_years education  education_id  \\\n",
       "12            0            NaN         65   среднее             1   \n",
       "26            0            NaN         41   среднее             1   \n",
       "29            0            NaN         63   среднее             1   \n",
       "41            0            NaN         50   среднее             1   \n",
       "55            0            NaN         54   среднее             1   \n",
       "...         ...            ...        ...       ...           ...   \n",
       "21489         2            NaN         47   Среднее             1   \n",
       "21495         1            NaN         50   среднее             1   \n",
       "21497         0            NaN         48    ВЫСШЕЕ             0   \n",
       "21502         1            NaN         42   среднее             1   \n",
       "21510         2            NaN         28   среднее             1   \n",
       "\n",
       "               family_status  family_status_id gender  income_type  debt  \\\n",
       "12          гражданский брак                 1      M    пенсионер     0   \n",
       "26           женат / замужем                 0      M  госслужащий     0   \n",
       "29     Не женат / не замужем                 4      F    пенсионер     0   \n",
       "41           женат / замужем                 0      F  госслужащий     0   \n",
       "55          гражданский брак                 1      F    пенсионер     1   \n",
       "...                      ...               ...    ...          ...   ...   \n",
       "21489        женат / замужем                 0      M    компаньон     0   \n",
       "21495       гражданский брак                 1      F    сотрудник     0   \n",
       "21497        женат / замужем                 0      F    компаньон     0   \n",
       "21502        женат / замужем                 0      F    сотрудник     0   \n",
       "21510        женат / замужем                 0      F    сотрудник     0   \n",
       "\n",
       "       total_income                           purpose  \n",
       "12              NaN                   сыграть свадьбу  \n",
       "26              NaN                       образование  \n",
       "29              NaN  строительство жилой недвижимости  \n",
       "41              NaN  сделка с подержанным автомобилем  \n",
       "55              NaN                   сыграть свадьбу  \n",
       "...             ...                               ...  \n",
       "21489           NaN              сделка с автомобилем  \n",
       "21495           NaN                           свадьба  \n",
       "21497           NaN        строительство недвижимости  \n",
       "21502           NaN  строительство жилой недвижимости  \n",
       "21510           NaN           приобретение автомобиля  \n",
       "\n",
       "[2174 rows x 12 columns]"
      ]
     },
     "execution_count": 20,
     "metadata": {},
     "output_type": "execute_result"
    }
   ],
   "source": [
    "#  Проверим строки NaN в датасете\n",
    "data[pd.isnull(data['days_employed'])]"
   ]
  },
  {
   "cell_type": "code",
   "execution_count": 21,
   "metadata": {},
   "outputs": [
    {
     "data": {
      "text/plain": [
       " 0     14149\n",
       " 1      4818\n",
       " 2      2055\n",
       " 3       330\n",
       " 20       76\n",
       "-1        47\n",
       " 4        41\n",
       " 5         9\n",
       "Name: children, dtype: int64"
      ]
     },
     "execution_count": 21,
     "metadata": {},
     "output_type": "execute_result"
    }
   ],
   "source": [
    "# столбец childeren нобходим для исследования, посчитем поличество категорий в колонке\n",
    "data['children'].value_counts() "
   ]
  },
  {
   "cell_type": "code",
   "execution_count": 22,
   "metadata": {},
   "outputs": [
    {
     "data": {
      "text/plain": [
       "среднее                13750\n",
       "высшее                  4718\n",
       "СРЕДНЕЕ                  772\n",
       "Среднее                  711\n",
       "неоконченное высшее      668\n",
       "ВЫСШЕЕ                   274\n",
       "Высшее                   268\n",
       "начальное                250\n",
       "Неоконченное высшее       47\n",
       "НЕОКОНЧЕННОЕ ВЫСШЕЕ       29\n",
       "НАЧАЛЬНОЕ                 17\n",
       "Начальное                 15\n",
       "ученая степень             4\n",
       "УЧЕНАЯ СТЕПЕНЬ             1\n",
       "Ученая степень             1\n",
       "Name: education, dtype: int64"
      ]
     },
     "execution_count": 22,
     "metadata": {},
     "output_type": "execute_result"
    }
   ],
   "source": [
    "# посчитаем категории в колонке education\n",
    "data['education'].value_counts() "
   ]
  },
  {
   "cell_type": "code",
   "execution_count": 23,
   "metadata": {},
   "outputs": [
    {
     "data": {
      "text/plain": [
       "женат / замужем          12380\n",
       "гражданский брак          4177\n",
       "Не женат / не замужем     2813\n",
       "в разводе                 1195\n",
       "вдовец / вдова             960\n",
       "Name: family_status, dtype: int64"
      ]
     },
     "execution_count": 23,
     "metadata": {},
     "output_type": "execute_result"
    }
   ],
   "source": [
    "# посчитаем категории в колонке family_status\n",
    "data['family_status'].value_counts() "
   ]
  },
  {
   "cell_type": "code",
   "execution_count": 24,
   "metadata": {},
   "outputs": [
    {
     "data": {
      "text/plain": [
       "свадьба                                   797\n",
       "на проведение свадьбы                     777\n",
       "сыграть свадьбу                           774\n",
       "операции с недвижимостью                  676\n",
       "покупка коммерческой недвижимости         664\n",
       "операции с жильем                         653\n",
       "покупка жилья для сдачи                   653\n",
       "операции с коммерческой недвижимостью     651\n",
       "покупка жилья                             647\n",
       "жилье                                     647\n",
       "покупка жилья для семьи                   641\n",
       "строительство собственной недвижимости    635\n",
       "недвижимость                              634\n",
       "операции со своей недвижимостью           630\n",
       "строительство жилой недвижимости          626\n",
       "покупка недвижимости                      624\n",
       "строительство недвижимости                620\n",
       "покупка своего жилья                      620\n",
       "ремонт жилью                              612\n",
       "покупка жилой недвижимости                607\n",
       "на покупку своего автомобиля              505\n",
       "заняться высшим образованием              496\n",
       "автомобиль                                495\n",
       "сделка с подержанным автомобилем          489\n",
       "свой автомобиль                           480\n",
       "на покупку подержанного автомобиля        479\n",
       "автомобили                                478\n",
       "на покупку автомобиля                     472\n",
       "приобретение автомобиля                   462\n",
       "дополнительное образование                462\n",
       "сделка с автомобилем                      455\n",
       "высшее образование                        453\n",
       "получение дополнительного образования     447\n",
       "образование                               447\n",
       "получение образования                     443\n",
       "профильное образование                    436\n",
       "получение высшего образования             426\n",
       "заняться образованием                     412\n",
       "Name: purpose, dtype: int64"
      ]
     },
     "execution_count": 24,
     "metadata": {},
     "output_type": "execute_result"
    }
   ],
   "source": [
    "# посчитаем категории в колонке purpose\n",
    "data['purpose'].value_counts()"
   ]
  },
  {
   "cell_type": "markdown",
   "metadata": {},
   "source": [
    "**Вывод**\n",
    "\n",
    "В датасте 21525 строк, 12 колонок\n",
    "<font color='gray'><p>\n",
    "<li>Значения в столбце children выражены типом int и, с точки зрения статистики, являются категориальными.</li> \n",
    "<li>Значения в столбце days_employed  выражены типом float и, с точки зрения статистики, являются количественными.</li> \n",
    "<li>Значения в столбце dob_years  выражены типом int и, с точки зрения статистики, являются количественными.</li> \n",
    "<li>Значения в столбце education выражены типом str и, с точки зрения статистики, являются категориальными.</li>  \n",
    "<li>Значения в столбце education_id выражены типом int и, с точки зрения статистики, являются категориальными.</li>  \n",
    "<li>Значения в столбце family_status выражены типом str и, с точки зрения статистики, являются категориальными.</li>  \n",
    "<li>Значения в столбце family_status_id выражены типом int и, с точки зрения статистики, являются категориальными.</li>  \n",
    "<li>Значения в столбце gender выражены типом str и, с точки зрения статистики, являются категориальными.</li>  \n",
    "<li>Значения в столбце income_type выражены типом str и, с точки зрения статистики, являются категориальными.</li>  \n",
    "<li>Значения в столбце debt выражены типом bool и, с точки зрения статистики, являются категориальными.</li>  \n",
    "<li>Значения в столбце total_income выражены типом float и, с точки зрения статистики, являются количественными.</li>  \n",
    "<li>Значения в столбце purpose выражены типом str и, с точки зрения статистики, являются категориальными.</li></p></font>\n",
    "<br>\n",
    "\n",
    "<p>\n",
    "<li>С помщью метода info() видим что в датафрейме есть пустые значения</li> \n",
    "<li>В колонке  children есть отрицательныое заначение и категория с количеством 20 детей (скорее всего ошибка в заполнении данных) </li> \n",
    "<li>В имени категорий колонки education используется верхний регистр. Это создает дубли и проблемы при категоризации.</li>\n",
    "<li>В колонке family_status в наименовании категорий есть верхний регистр, нужно привести к нижнему</li>\n",
    "<li>В колонке purpose  есть похожие категории по смыслу, исправим с помощью лемматизации</li>\n",
    "<li>В колонке days_employed имеются отрицательные значения. Количестсто дней трудового стажа не может буть отрицательным, возможно ошбика в заполнении</li>\n",
    "<li>Есть взаимосвязь days_employed и total_income по значению NaN. Отсутсвие стажа связано с отсутсвием дохода</li>\n",
    "</p>\n"
   ]
  },
  {
   "cell_type": "markdown",
   "metadata": {},
   "source": [
    "##  Предобработка данных"
   ]
  },
  {
   "cell_type": "markdown",
   "metadata": {},
   "source": [
    "### Обработка пропусков"
   ]
  },
  {
   "cell_type": "code",
   "execution_count": 25,
   "metadata": {},
   "outputs": [],
   "source": [
    "# Определяю количество значений NaN в столбцах с пропусками"
   ]
  },
  {
   "cell_type": "code",
   "execution_count": 26,
   "metadata": {},
   "outputs": [
    {
     "data": {
      "text/plain": [
       "children               0\n",
       "days_employed       2174\n",
       "dob_years              0\n",
       "education              0\n",
       "education_id           0\n",
       "family_status          0\n",
       "family_status_id       0\n",
       "gender                 0\n",
       "income_type            0\n",
       "debt                   0\n",
       "total_income        2174\n",
       "purpose                0\n",
       "dtype: int64"
      ]
     },
     "execution_count": 26,
     "metadata": {},
     "output_type": "execute_result"
    }
   ],
   "source": [
    "data.isna().sum() "
   ]
  },
  {
   "cell_type": "markdown",
   "metadata": {},
   "source": [
    "<font color='gray'> В колонке days_employed 2174 пропуска со заначением NaN <br> \n",
    "В колонке total_income  2174 пропуска со значением NaN</font>"
   ]
  },
  {
   "cell_type": "code",
   "execution_count": 27,
   "metadata": {},
   "outputs": [],
   "source": [
    "# Сгруппируем данные total_income по категориями income_type и змеменим пропуски на медианные с помощью transform\n",
    "data['total_income'] = data['total_income'].fillna(data.groupby('income_type')['total_income'].transform('median'))"
   ]
  },
  {
   "cell_type": "code",
   "execution_count": 28,
   "metadata": {},
   "outputs": [],
   "source": [
    "# Сгруппируем данные days_employed  по категориям dob_years и змеменим пропуски на медианные с помощью transform\n",
    "\n",
    "data['days_employed'] = data['days_employed'].apply(lambda x: x/24 if x>0  else abs(x))\n",
    "\n",
    "data['days_employed'] = data['days_employed'].fillna(data.groupby('dob_years')['days_employed'].transform('median'))"
   ]
  },
  {
   "cell_type": "code",
   "execution_count": 29,
   "metadata": {},
   "outputs": [
    {
     "data": {
      "text/plain": [
       "children            0\n",
       "days_employed       0\n",
       "dob_years           0\n",
       "education           0\n",
       "education_id        0\n",
       "family_status       0\n",
       "family_status_id    0\n",
       "gender              0\n",
       "income_type         0\n",
       "debt                0\n",
       "total_income        0\n",
       "purpose             0\n",
       "dtype: int64"
      ]
     },
     "execution_count": 29,
     "metadata": {},
     "output_type": "execute_result"
    }
   ],
   "source": [
    "data.isna().sum() "
   ]
  },
  {
   "cell_type": "code",
   "execution_count": 30,
   "metadata": {},
   "outputs": [
    {
     "data": {
      "text/html": [
       "<div>\n",
       "<style scoped>\n",
       "    .dataframe tbody tr th:only-of-type {\n",
       "        vertical-align: middle;\n",
       "    }\n",
       "\n",
       "    .dataframe tbody tr th {\n",
       "        vertical-align: top;\n",
       "    }\n",
       "\n",
       "    .dataframe thead th {\n",
       "        text-align: right;\n",
       "    }\n",
       "</style>\n",
       "<table border=\"1\" class=\"dataframe\">\n",
       "  <thead>\n",
       "    <tr style=\"text-align: right;\">\n",
       "      <th></th>\n",
       "      <th>children</th>\n",
       "      <th>days_employed</th>\n",
       "      <th>dob_years</th>\n",
       "      <th>education</th>\n",
       "      <th>education_id</th>\n",
       "      <th>family_status</th>\n",
       "      <th>family_status_id</th>\n",
       "      <th>gender</th>\n",
       "      <th>income_type</th>\n",
       "      <th>debt</th>\n",
       "      <th>total_income</th>\n",
       "      <th>purpose</th>\n",
       "    </tr>\n",
       "  </thead>\n",
       "  <tbody>\n",
       "    <tr>\n",
       "      <td>0</td>\n",
       "      <td>1</td>\n",
       "      <td>8437.673028</td>\n",
       "      <td>42</td>\n",
       "      <td>высшее</td>\n",
       "      <td>0</td>\n",
       "      <td>женат / замужем</td>\n",
       "      <td>0</td>\n",
       "      <td>F</td>\n",
       "      <td>сотрудник</td>\n",
       "      <td>0</td>\n",
       "      <td>253875.639453</td>\n",
       "      <td>покупка жилья</td>\n",
       "    </tr>\n",
       "    <tr>\n",
       "      <td>1</td>\n",
       "      <td>1</td>\n",
       "      <td>4024.803754</td>\n",
       "      <td>36</td>\n",
       "      <td>среднее</td>\n",
       "      <td>1</td>\n",
       "      <td>женат / замужем</td>\n",
       "      <td>0</td>\n",
       "      <td>F</td>\n",
       "      <td>сотрудник</td>\n",
       "      <td>0</td>\n",
       "      <td>112080.014102</td>\n",
       "      <td>приобретение автомобиля</td>\n",
       "    </tr>\n",
       "    <tr>\n",
       "      <td>2</td>\n",
       "      <td>0</td>\n",
       "      <td>5623.422610</td>\n",
       "      <td>33</td>\n",
       "      <td>Среднее</td>\n",
       "      <td>1</td>\n",
       "      <td>женат / замужем</td>\n",
       "      <td>0</td>\n",
       "      <td>M</td>\n",
       "      <td>сотрудник</td>\n",
       "      <td>0</td>\n",
       "      <td>145885.952297</td>\n",
       "      <td>покупка жилья</td>\n",
       "    </tr>\n",
       "    <tr>\n",
       "      <td>3</td>\n",
       "      <td>3</td>\n",
       "      <td>4124.747207</td>\n",
       "      <td>32</td>\n",
       "      <td>среднее</td>\n",
       "      <td>1</td>\n",
       "      <td>женат / замужем</td>\n",
       "      <td>0</td>\n",
       "      <td>M</td>\n",
       "      <td>сотрудник</td>\n",
       "      <td>0</td>\n",
       "      <td>267628.550329</td>\n",
       "      <td>дополнительное образование</td>\n",
       "    </tr>\n",
       "    <tr>\n",
       "      <td>4</td>\n",
       "      <td>0</td>\n",
       "      <td>14177.753002</td>\n",
       "      <td>53</td>\n",
       "      <td>среднее</td>\n",
       "      <td>1</td>\n",
       "      <td>гражданский брак</td>\n",
       "      <td>1</td>\n",
       "      <td>F</td>\n",
       "      <td>пенсионер</td>\n",
       "      <td>0</td>\n",
       "      <td>158616.077870</td>\n",
       "      <td>сыграть свадьбу</td>\n",
       "    </tr>\n",
       "    <tr>\n",
       "      <td>5</td>\n",
       "      <td>0</td>\n",
       "      <td>926.185831</td>\n",
       "      <td>27</td>\n",
       "      <td>высшее</td>\n",
       "      <td>0</td>\n",
       "      <td>гражданский брак</td>\n",
       "      <td>1</td>\n",
       "      <td>M</td>\n",
       "      <td>компаньон</td>\n",
       "      <td>0</td>\n",
       "      <td>255763.565419</td>\n",
       "      <td>покупка жилья</td>\n",
       "    </tr>\n",
       "    <tr>\n",
       "      <td>6</td>\n",
       "      <td>0</td>\n",
       "      <td>2879.202052</td>\n",
       "      <td>43</td>\n",
       "      <td>высшее</td>\n",
       "      <td>0</td>\n",
       "      <td>женат / замужем</td>\n",
       "      <td>0</td>\n",
       "      <td>F</td>\n",
       "      <td>компаньон</td>\n",
       "      <td>0</td>\n",
       "      <td>240525.971920</td>\n",
       "      <td>операции с жильем</td>\n",
       "    </tr>\n",
       "    <tr>\n",
       "      <td>7</td>\n",
       "      <td>0</td>\n",
       "      <td>152.779569</td>\n",
       "      <td>50</td>\n",
       "      <td>СРЕДНЕЕ</td>\n",
       "      <td>1</td>\n",
       "      <td>женат / замужем</td>\n",
       "      <td>0</td>\n",
       "      <td>M</td>\n",
       "      <td>сотрудник</td>\n",
       "      <td>0</td>\n",
       "      <td>135823.934197</td>\n",
       "      <td>образование</td>\n",
       "    </tr>\n",
       "    <tr>\n",
       "      <td>8</td>\n",
       "      <td>2</td>\n",
       "      <td>6929.865299</td>\n",
       "      <td>35</td>\n",
       "      <td>ВЫСШЕЕ</td>\n",
       "      <td>0</td>\n",
       "      <td>гражданский брак</td>\n",
       "      <td>1</td>\n",
       "      <td>F</td>\n",
       "      <td>сотрудник</td>\n",
       "      <td>0</td>\n",
       "      <td>95856.832424</td>\n",
       "      <td>на проведение свадьбы</td>\n",
       "    </tr>\n",
       "    <tr>\n",
       "      <td>9</td>\n",
       "      <td>0</td>\n",
       "      <td>2188.756445</td>\n",
       "      <td>41</td>\n",
       "      <td>среднее</td>\n",
       "      <td>1</td>\n",
       "      <td>женат / замужем</td>\n",
       "      <td>0</td>\n",
       "      <td>M</td>\n",
       "      <td>сотрудник</td>\n",
       "      <td>0</td>\n",
       "      <td>144425.938277</td>\n",
       "      <td>покупка жилья для семьи</td>\n",
       "    </tr>\n",
       "    <tr>\n",
       "      <td>10</td>\n",
       "      <td>2</td>\n",
       "      <td>4171.483647</td>\n",
       "      <td>36</td>\n",
       "      <td>высшее</td>\n",
       "      <td>0</td>\n",
       "      <td>женат / замужем</td>\n",
       "      <td>0</td>\n",
       "      <td>M</td>\n",
       "      <td>компаньон</td>\n",
       "      <td>0</td>\n",
       "      <td>113943.491460</td>\n",
       "      <td>покупка недвижимости</td>\n",
       "    </tr>\n",
       "    <tr>\n",
       "      <td>11</td>\n",
       "      <td>0</td>\n",
       "      <td>792.701887</td>\n",
       "      <td>40</td>\n",
       "      <td>среднее</td>\n",
       "      <td>1</td>\n",
       "      <td>женат / замужем</td>\n",
       "      <td>0</td>\n",
       "      <td>F</td>\n",
       "      <td>сотрудник</td>\n",
       "      <td>0</td>\n",
       "      <td>77069.234271</td>\n",
       "      <td>покупка коммерческой недвижимости</td>\n",
       "    </tr>\n",
       "    <tr>\n",
       "      <td>12</td>\n",
       "      <td>0</td>\n",
       "      <td>14902.851210</td>\n",
       "      <td>65</td>\n",
       "      <td>среднее</td>\n",
       "      <td>1</td>\n",
       "      <td>гражданский брак</td>\n",
       "      <td>1</td>\n",
       "      <td>M</td>\n",
       "      <td>пенсионер</td>\n",
       "      <td>0</td>\n",
       "      <td>118514.486412</td>\n",
       "      <td>сыграть свадьбу</td>\n",
       "    </tr>\n",
       "    <tr>\n",
       "      <td>13</td>\n",
       "      <td>0</td>\n",
       "      <td>1846.641941</td>\n",
       "      <td>54</td>\n",
       "      <td>неоконченное высшее</td>\n",
       "      <td>2</td>\n",
       "      <td>женат / замужем</td>\n",
       "      <td>0</td>\n",
       "      <td>F</td>\n",
       "      <td>сотрудник</td>\n",
       "      <td>0</td>\n",
       "      <td>130458.228857</td>\n",
       "      <td>приобретение автомобиля</td>\n",
       "    </tr>\n",
       "    <tr>\n",
       "      <td>14</td>\n",
       "      <td>0</td>\n",
       "      <td>1844.956182</td>\n",
       "      <td>56</td>\n",
       "      <td>высшее</td>\n",
       "      <td>0</td>\n",
       "      <td>гражданский брак</td>\n",
       "      <td>1</td>\n",
       "      <td>F</td>\n",
       "      <td>компаньон</td>\n",
       "      <td>1</td>\n",
       "      <td>165127.911772</td>\n",
       "      <td>покупка жилой недвижимости</td>\n",
       "    </tr>\n",
       "    <tr>\n",
       "      <td>15</td>\n",
       "      <td>1</td>\n",
       "      <td>972.364419</td>\n",
       "      <td>26</td>\n",
       "      <td>среднее</td>\n",
       "      <td>1</td>\n",
       "      <td>женат / замужем</td>\n",
       "      <td>0</td>\n",
       "      <td>F</td>\n",
       "      <td>сотрудник</td>\n",
       "      <td>0</td>\n",
       "      <td>116820.904450</td>\n",
       "      <td>строительство собственной недвижимости</td>\n",
       "    </tr>\n",
       "    <tr>\n",
       "      <td>16</td>\n",
       "      <td>0</td>\n",
       "      <td>1719.934226</td>\n",
       "      <td>35</td>\n",
       "      <td>среднее</td>\n",
       "      <td>1</td>\n",
       "      <td>женат / замужем</td>\n",
       "      <td>0</td>\n",
       "      <td>F</td>\n",
       "      <td>сотрудник</td>\n",
       "      <td>0</td>\n",
       "      <td>289202.704229</td>\n",
       "      <td>недвижимость</td>\n",
       "    </tr>\n",
       "    <tr>\n",
       "      <td>17</td>\n",
       "      <td>0</td>\n",
       "      <td>2369.999720</td>\n",
       "      <td>33</td>\n",
       "      <td>высшее</td>\n",
       "      <td>0</td>\n",
       "      <td>гражданский брак</td>\n",
       "      <td>1</td>\n",
       "      <td>M</td>\n",
       "      <td>сотрудник</td>\n",
       "      <td>0</td>\n",
       "      <td>90410.586745</td>\n",
       "      <td>строительство недвижимости</td>\n",
       "    </tr>\n",
       "    <tr>\n",
       "      <td>18</td>\n",
       "      <td>0</td>\n",
       "      <td>16678.380705</td>\n",
       "      <td>53</td>\n",
       "      <td>среднее</td>\n",
       "      <td>1</td>\n",
       "      <td>вдовец / вдова</td>\n",
       "      <td>2</td>\n",
       "      <td>F</td>\n",
       "      <td>пенсионер</td>\n",
       "      <td>0</td>\n",
       "      <td>56823.777243</td>\n",
       "      <td>на покупку подержанного автомобиля</td>\n",
       "    </tr>\n",
       "    <tr>\n",
       "      <td>19</td>\n",
       "      <td>0</td>\n",
       "      <td>10038.818549</td>\n",
       "      <td>48</td>\n",
       "      <td>СРЕДНЕЕ</td>\n",
       "      <td>1</td>\n",
       "      <td>в разводе</td>\n",
       "      <td>3</td>\n",
       "      <td>F</td>\n",
       "      <td>сотрудник</td>\n",
       "      <td>0</td>\n",
       "      <td>242831.107982</td>\n",
       "      <td>на покупку своего автомобиля</td>\n",
       "    </tr>\n",
       "    <tr>\n",
       "      <td>20</td>\n",
       "      <td>1</td>\n",
       "      <td>1311.604166</td>\n",
       "      <td>36</td>\n",
       "      <td>среднее</td>\n",
       "      <td>1</td>\n",
       "      <td>женат / замужем</td>\n",
       "      <td>0</td>\n",
       "      <td>M</td>\n",
       "      <td>сотрудник</td>\n",
       "      <td>0</td>\n",
       "      <td>209552.644578</td>\n",
       "      <td>недвижимость</td>\n",
       "    </tr>\n",
       "    <tr>\n",
       "      <td>21</td>\n",
       "      <td>1</td>\n",
       "      <td>253.685166</td>\n",
       "      <td>33</td>\n",
       "      <td>среднее</td>\n",
       "      <td>1</td>\n",
       "      <td>гражданский брак</td>\n",
       "      <td>1</td>\n",
       "      <td>F</td>\n",
       "      <td>сотрудник</td>\n",
       "      <td>0</td>\n",
       "      <td>131812.203909</td>\n",
       "      <td>приобретение автомобиля</td>\n",
       "    </tr>\n",
       "    <tr>\n",
       "      <td>22</td>\n",
       "      <td>1</td>\n",
       "      <td>1766.644138</td>\n",
       "      <td>24</td>\n",
       "      <td>среднее</td>\n",
       "      <td>1</td>\n",
       "      <td>гражданский брак</td>\n",
       "      <td>1</td>\n",
       "      <td>F</td>\n",
       "      <td>сотрудник</td>\n",
       "      <td>0</td>\n",
       "      <td>149681.140731</td>\n",
       "      <td>на покупку подержанного автомобиля</td>\n",
       "    </tr>\n",
       "    <tr>\n",
       "      <td>23</td>\n",
       "      <td>0</td>\n",
       "      <td>272.981385</td>\n",
       "      <td>21</td>\n",
       "      <td>высшее</td>\n",
       "      <td>0</td>\n",
       "      <td>гражданский брак</td>\n",
       "      <td>1</td>\n",
       "      <td>M</td>\n",
       "      <td>сотрудник</td>\n",
       "      <td>0</td>\n",
       "      <td>128265.720871</td>\n",
       "      <td>сыграть свадьбу</td>\n",
       "    </tr>\n",
       "    <tr>\n",
       "      <td>24</td>\n",
       "      <td>1</td>\n",
       "      <td>14106.331371</td>\n",
       "      <td>57</td>\n",
       "      <td>среднее</td>\n",
       "      <td>1</td>\n",
       "      <td>Не женат / не замужем</td>\n",
       "      <td>4</td>\n",
       "      <td>F</td>\n",
       "      <td>пенсионер</td>\n",
       "      <td>0</td>\n",
       "      <td>290547.235997</td>\n",
       "      <td>операции с коммерческой недвижимостью</td>\n",
       "    </tr>\n",
       "    <tr>\n",
       "      <td>25</td>\n",
       "      <td>0</td>\n",
       "      <td>15147.853723</td>\n",
       "      <td>67</td>\n",
       "      <td>среднее</td>\n",
       "      <td>1</td>\n",
       "      <td>женат / замужем</td>\n",
       "      <td>0</td>\n",
       "      <td>M</td>\n",
       "      <td>пенсионер</td>\n",
       "      <td>0</td>\n",
       "      <td>55112.757732</td>\n",
       "      <td>покупка недвижимости</td>\n",
       "    </tr>\n",
       "    <tr>\n",
       "      <td>26</td>\n",
       "      <td>0</td>\n",
       "      <td>1864.657692</td>\n",
       "      <td>41</td>\n",
       "      <td>среднее</td>\n",
       "      <td>1</td>\n",
       "      <td>женат / замужем</td>\n",
       "      <td>0</td>\n",
       "      <td>M</td>\n",
       "      <td>госслужащий</td>\n",
       "      <td>0</td>\n",
       "      <td>150447.935283</td>\n",
       "      <td>образование</td>\n",
       "    </tr>\n",
       "    <tr>\n",
       "      <td>27</td>\n",
       "      <td>0</td>\n",
       "      <td>529.191635</td>\n",
       "      <td>28</td>\n",
       "      <td>высшее</td>\n",
       "      <td>0</td>\n",
       "      <td>женат / замужем</td>\n",
       "      <td>0</td>\n",
       "      <td>M</td>\n",
       "      <td>сотрудник</td>\n",
       "      <td>0</td>\n",
       "      <td>308848.983691</td>\n",
       "      <td>строительство собственной недвижимости</td>\n",
       "    </tr>\n",
       "    <tr>\n",
       "      <td>28</td>\n",
       "      <td>1</td>\n",
       "      <td>717.274324</td>\n",
       "      <td>26</td>\n",
       "      <td>высшее</td>\n",
       "      <td>0</td>\n",
       "      <td>женат / замужем</td>\n",
       "      <td>0</td>\n",
       "      <td>F</td>\n",
       "      <td>сотрудник</td>\n",
       "      <td>0</td>\n",
       "      <td>187863.237306</td>\n",
       "      <td>строительство собственной недвижимости</td>\n",
       "    </tr>\n",
       "    <tr>\n",
       "      <td>29</td>\n",
       "      <td>0</td>\n",
       "      <td>14936.762331</td>\n",
       "      <td>63</td>\n",
       "      <td>среднее</td>\n",
       "      <td>1</td>\n",
       "      <td>Не женат / не замужем</td>\n",
       "      <td>4</td>\n",
       "      <td>F</td>\n",
       "      <td>пенсионер</td>\n",
       "      <td>0</td>\n",
       "      <td>118514.486412</td>\n",
       "      <td>строительство жилой недвижимости</td>\n",
       "    </tr>\n",
       "  </tbody>\n",
       "</table>\n",
       "</div>"
      ],
      "text/plain": [
       "    children  days_employed  dob_years            education  education_id  \\\n",
       "0          1    8437.673028         42               высшее             0   \n",
       "1          1    4024.803754         36              среднее             1   \n",
       "2          0    5623.422610         33              Среднее             1   \n",
       "3          3    4124.747207         32              среднее             1   \n",
       "4          0   14177.753002         53              среднее             1   \n",
       "5          0     926.185831         27               высшее             0   \n",
       "6          0    2879.202052         43               высшее             0   \n",
       "7          0     152.779569         50              СРЕДНЕЕ             1   \n",
       "8          2    6929.865299         35               ВЫСШЕЕ             0   \n",
       "9          0    2188.756445         41              среднее             1   \n",
       "10         2    4171.483647         36               высшее             0   \n",
       "11         0     792.701887         40              среднее             1   \n",
       "12         0   14902.851210         65              среднее             1   \n",
       "13         0    1846.641941         54  неоконченное высшее             2   \n",
       "14         0    1844.956182         56               высшее             0   \n",
       "15         1     972.364419         26              среднее             1   \n",
       "16         0    1719.934226         35              среднее             1   \n",
       "17         0    2369.999720         33               высшее             0   \n",
       "18         0   16678.380705         53              среднее             1   \n",
       "19         0   10038.818549         48              СРЕДНЕЕ             1   \n",
       "20         1    1311.604166         36              среднее             1   \n",
       "21         1     253.685166         33              среднее             1   \n",
       "22         1    1766.644138         24              среднее             1   \n",
       "23         0     272.981385         21               высшее             0   \n",
       "24         1   14106.331371         57              среднее             1   \n",
       "25         0   15147.853723         67              среднее             1   \n",
       "26         0    1864.657692         41              среднее             1   \n",
       "27         0     529.191635         28               высшее             0   \n",
       "28         1     717.274324         26               высшее             0   \n",
       "29         0   14936.762331         63              среднее             1   \n",
       "\n",
       "            family_status  family_status_id gender  income_type  debt  \\\n",
       "0         женат / замужем                 0      F    сотрудник     0   \n",
       "1         женат / замужем                 0      F    сотрудник     0   \n",
       "2         женат / замужем                 0      M    сотрудник     0   \n",
       "3         женат / замужем                 0      M    сотрудник     0   \n",
       "4        гражданский брак                 1      F    пенсионер     0   \n",
       "5        гражданский брак                 1      M    компаньон     0   \n",
       "6         женат / замужем                 0      F    компаньон     0   \n",
       "7         женат / замужем                 0      M    сотрудник     0   \n",
       "8        гражданский брак                 1      F    сотрудник     0   \n",
       "9         женат / замужем                 0      M    сотрудник     0   \n",
       "10        женат / замужем                 0      M    компаньон     0   \n",
       "11        женат / замужем                 0      F    сотрудник     0   \n",
       "12       гражданский брак                 1      M    пенсионер     0   \n",
       "13        женат / замужем                 0      F    сотрудник     0   \n",
       "14       гражданский брак                 1      F    компаньон     1   \n",
       "15        женат / замужем                 0      F    сотрудник     0   \n",
       "16        женат / замужем                 0      F    сотрудник     0   \n",
       "17       гражданский брак                 1      M    сотрудник     0   \n",
       "18         вдовец / вдова                 2      F    пенсионер     0   \n",
       "19              в разводе                 3      F    сотрудник     0   \n",
       "20        женат / замужем                 0      M    сотрудник     0   \n",
       "21       гражданский брак                 1      F    сотрудник     0   \n",
       "22       гражданский брак                 1      F    сотрудник     0   \n",
       "23       гражданский брак                 1      M    сотрудник     0   \n",
       "24  Не женат / не замужем                 4      F    пенсионер     0   \n",
       "25        женат / замужем                 0      M    пенсионер     0   \n",
       "26        женат / замужем                 0      M  госслужащий     0   \n",
       "27        женат / замужем                 0      M    сотрудник     0   \n",
       "28        женат / замужем                 0      F    сотрудник     0   \n",
       "29  Не женат / не замужем                 4      F    пенсионер     0   \n",
       "\n",
       "     total_income                                 purpose  \n",
       "0   253875.639453                           покупка жилья  \n",
       "1   112080.014102                 приобретение автомобиля  \n",
       "2   145885.952297                           покупка жилья  \n",
       "3   267628.550329              дополнительное образование  \n",
       "4   158616.077870                         сыграть свадьбу  \n",
       "5   255763.565419                           покупка жилья  \n",
       "6   240525.971920                       операции с жильем  \n",
       "7   135823.934197                             образование  \n",
       "8    95856.832424                   на проведение свадьбы  \n",
       "9   144425.938277                 покупка жилья для семьи  \n",
       "10  113943.491460                    покупка недвижимости  \n",
       "11   77069.234271       покупка коммерческой недвижимости  \n",
       "12  118514.486412                         сыграть свадьбу  \n",
       "13  130458.228857                 приобретение автомобиля  \n",
       "14  165127.911772              покупка жилой недвижимости  \n",
       "15  116820.904450  строительство собственной недвижимости  \n",
       "16  289202.704229                            недвижимость  \n",
       "17   90410.586745              строительство недвижимости  \n",
       "18   56823.777243      на покупку подержанного автомобиля  \n",
       "19  242831.107982            на покупку своего автомобиля  \n",
       "20  209552.644578                            недвижимость  \n",
       "21  131812.203909                 приобретение автомобиля  \n",
       "22  149681.140731      на покупку подержанного автомобиля  \n",
       "23  128265.720871                         сыграть свадьбу  \n",
       "24  290547.235997   операции с коммерческой недвижимостью  \n",
       "25   55112.757732                    покупка недвижимости  \n",
       "26  150447.935283                             образование  \n",
       "27  308848.983691  строительство собственной недвижимости  \n",
       "28  187863.237306  строительство собственной недвижимости  \n",
       "29  118514.486412        строительство жилой недвижимости  "
      ]
     },
     "execution_count": 30,
     "metadata": {},
     "output_type": "execute_result"
    }
   ],
   "source": [
    "data.head(30)"
   ]
  },
  {
   "cell_type": "code",
   "execution_count": 31,
   "metadata": {},
   "outputs": [],
   "source": [
    "# Уберем отрицательные значения в колонке children\n",
    "data['children'] = abs(data['children'])"
   ]
  },
  {
   "cell_type": "code",
   "execution_count": 32,
   "metadata": {},
   "outputs": [
    {
     "data": {
      "text/plain": [
       "0     14149\n",
       "1      4865\n",
       "2      2055\n",
       "3       330\n",
       "20       76\n",
       "4        41\n",
       "5         9\n",
       "Name: children, dtype: int64"
      ]
     },
     "execution_count": 32,
     "metadata": {},
     "output_type": "execute_result"
    }
   ],
   "source": [
    "# Проверим наличие отрицательных значений в колонке children\n",
    "data['children'].value_counts()"
   ]
  },
  {
   "cell_type": "code",
   "execution_count": 33,
   "metadata": {},
   "outputs": [],
   "source": [
    "# Заминим в колонке children категорию количество детей 20 на 2. Скорее всего при заполнении данных опечатались.\n",
    "data.loc[data['children'] == 20, 'children'] = 2\n"
   ]
  },
  {
   "cell_type": "code",
   "execution_count": 34,
   "metadata": {},
   "outputs": [
    {
     "data": {
      "text/plain": [
       "0    14149\n",
       "1     4865\n",
       "2     2131\n",
       "3      330\n",
       "4       41\n",
       "5        9\n",
       "Name: children, dtype: int64"
      ]
     },
     "execution_count": 34,
     "metadata": {},
     "output_type": "execute_result"
    }
   ],
   "source": [
    "# Проверим замену категории 20 на 2\n",
    "data['children'].value_counts()"
   ]
  },
  {
   "cell_type": "code",
   "execution_count": 35,
   "metadata": {},
   "outputs": [],
   "source": [
    "# Убирем отрицательные значения в датасете в столбце days_employed\n",
    "data['days_employed'] = abs(data['days_employed'])"
   ]
  },
  {
   "cell_type": "code",
   "execution_count": 36,
   "metadata": {},
   "outputs": [
    {
     "data": {
      "text/plain": [
       "F      14236\n",
       "M       7288\n",
       "XNA        1\n",
       "Name: gender, dtype: int64"
      ]
     },
     "execution_count": 36,
     "metadata": {},
     "output_type": "execute_result"
    }
   ],
   "source": [
    "# Проверим клонку gender на уникальные значения и количество упоминаний \n",
    "data['gender'].value_counts()"
   ]
  },
  {
   "cell_type": "code",
   "execution_count": 37,
   "metadata": {},
   "outputs": [
    {
     "data": {
      "text/html": [
       "<div>\n",
       "<style scoped>\n",
       "    .dataframe tbody tr th:only-of-type {\n",
       "        vertical-align: middle;\n",
       "    }\n",
       "\n",
       "    .dataframe tbody tr th {\n",
       "        vertical-align: top;\n",
       "    }\n",
       "\n",
       "    .dataframe thead th {\n",
       "        text-align: right;\n",
       "    }\n",
       "</style>\n",
       "<table border=\"1\" class=\"dataframe\">\n",
       "  <thead>\n",
       "    <tr style=\"text-align: right;\">\n",
       "      <th></th>\n",
       "      <th>children</th>\n",
       "      <th>days_employed</th>\n",
       "      <th>dob_years</th>\n",
       "      <th>education</th>\n",
       "      <th>education_id</th>\n",
       "      <th>family_status</th>\n",
       "      <th>family_status_id</th>\n",
       "      <th>gender</th>\n",
       "      <th>income_type</th>\n",
       "      <th>debt</th>\n",
       "      <th>total_income</th>\n",
       "      <th>purpose</th>\n",
       "    </tr>\n",
       "  </thead>\n",
       "  <tbody>\n",
       "    <tr>\n",
       "      <td>10701</td>\n",
       "      <td>0</td>\n",
       "      <td>2358.600502</td>\n",
       "      <td>24</td>\n",
       "      <td>неоконченное высшее</td>\n",
       "      <td>2</td>\n",
       "      <td>гражданский брак</td>\n",
       "      <td>1</td>\n",
       "      <td>XNA</td>\n",
       "      <td>компаньон</td>\n",
       "      <td>0</td>\n",
       "      <td>203905.157261</td>\n",
       "      <td>покупка недвижимости</td>\n",
       "    </tr>\n",
       "  </tbody>\n",
       "</table>\n",
       "</div>"
      ],
      "text/plain": [
       "       children  days_employed  dob_years            education  education_id  \\\n",
       "10701         0    2358.600502         24  неоконченное высшее             2   \n",
       "\n",
       "          family_status  family_status_id gender income_type  debt  \\\n",
       "10701  гражданский брак                 1    XNA   компаньон     0   \n",
       "\n",
       "        total_income               purpose  \n",
       "10701  203905.157261  покупка недвижимости  "
      ]
     },
     "execution_count": 37,
     "metadata": {},
     "output_type": "execute_result"
    }
   ],
   "source": [
    "# Проверим что представляет из себя строка со сзначением XNA\n",
    "data.loc[data.loc[:,'gender'] == 'XNA']  "
   ]
  },
  {
   "cell_type": "markdown",
   "metadata": {},
   "source": [
    "Изучая строку сложно сразу определить к какому полу принадлежит заемщик. Зацепкой для определения пола может служить показатель месячного дохода. В данной строке доход достаточно высокий. Проверим средние доходы по половому признаку. Уточним чей средний доход ближе к доходу в строке с XNA"
   ]
  },
  {
   "cell_type": "code",
   "execution_count": 38,
   "metadata": {},
   "outputs": [
    {
     "data": {
      "text/plain": [
       "189005.6628540888"
      ]
     },
     "execution_count": 38,
     "metadata": {},
     "output_type": "execute_result"
    }
   ],
   "source": [
    "# Вычисляем средний доход у мужчин\n",
    "data.loc[data.loc[:,'gender'] == 'M']['total_income'].mean() "
   ]
  },
  {
   "cell_type": "code",
   "execution_count": 39,
   "metadata": {},
   "outputs": [
    {
     "data": {
      "text/plain": [
       "153048.46404320325"
      ]
     },
     "execution_count": 39,
     "metadata": {},
     "output_type": "execute_result"
    }
   ],
   "source": [
    "# Вычисляем средний доход у женщин\n",
    "data.loc[data.loc[:,'gender'] == 'F']['total_income'].mean() "
   ]
  },
  {
   "cell_type": "markdown",
   "metadata": {},
   "source": [
    "Средний доход мужчин ближе к значению дохода в строке с XNA. Заменим некорректное значение на M. Даже если предположение неверно, то оно не окажет значительного влияния на исследование поставленных вопросов."
   ]
  },
  {
   "cell_type": "code",
   "execution_count": 40,
   "metadata": {},
   "outputs": [],
   "source": [
    "# Заменим XNA  на значение M\n",
    "data.loc[data['gender'] == 'XNA', 'gender'] = 'M'"
   ]
  },
  {
   "cell_type": "code",
   "execution_count": 41,
   "metadata": {},
   "outputs": [
    {
     "data": {
      "text/plain": [
       "F    14236\n",
       "M     7289\n",
       "Name: gender, dtype: int64"
      ]
     },
     "execution_count": 41,
     "metadata": {},
     "output_type": "execute_result"
    }
   ],
   "source": [
    "# Проверим замену XNA на M\n",
    "data['gender'].value_counts()"
   ]
  },
  {
   "cell_type": "code",
   "execution_count": 42,
   "metadata": {},
   "outputs": [
    {
     "data": {
      "text/plain": [
       "35    617\n",
       "40    609\n",
       "41    607\n",
       "34    603\n",
       "38    598\n",
       "42    597\n",
       "33    581\n",
       "39    573\n",
       "31    560\n",
       "36    555\n",
       "44    547\n",
       "29    545\n",
       "30    540\n",
       "48    538\n",
       "37    537\n",
       "50    514\n",
       "43    513\n",
       "32    510\n",
       "49    508\n",
       "28    503\n",
       "45    497\n",
       "27    493\n",
       "56    487\n",
       "52    484\n",
       "47    480\n",
       "54    479\n",
       "46    475\n",
       "58    461\n",
       "57    460\n",
       "53    459\n",
       "51    448\n",
       "59    444\n",
       "55    443\n",
       "26    408\n",
       "60    377\n",
       "25    357\n",
       "61    355\n",
       "62    352\n",
       "63    269\n",
       "64    265\n",
       "24    264\n",
       "23    254\n",
       "65    194\n",
       "66    183\n",
       "22    183\n",
       "67    167\n",
       "21    111\n",
       "0     101\n",
       "68     99\n",
       "69     85\n",
       "70     65\n",
       "71     58\n",
       "20     51\n",
       "72     33\n",
       "19     14\n",
       "73      8\n",
       "74      6\n",
       "75      1\n",
       "Name: dob_years, dtype: int64"
      ]
     },
     "execution_count": 42,
     "metadata": {},
     "output_type": "execute_result"
    }
   ],
   "source": [
    "# Проверим уникальные значения с клонке с возрастом заемщиков\n",
    "data['dob_years'].value_counts()"
   ]
  },
  {
   "cell_type": "markdown",
   "metadata": {},
   "source": [
    "В колонке dob_years есть значения 0, заменим на медианное значение"
   ]
  },
  {
   "cell_type": "code",
   "execution_count": 43,
   "metadata": {},
   "outputs": [
    {
     "data": {
      "text/plain": [
       "42.0"
      ]
     },
     "execution_count": 43,
     "metadata": {},
     "output_type": "execute_result"
    }
   ],
   "source": [
    "data['dob_years'].median()"
   ]
  },
  {
   "cell_type": "code",
   "execution_count": 44,
   "metadata": {},
   "outputs": [],
   "source": [
    "data.loc[data['dob_years'] == 0, 'dob_years'] = 42"
   ]
  },
  {
   "cell_type": "code",
   "execution_count": 45,
   "metadata": {},
   "outputs": [
    {
     "data": {
      "text/plain": [
       "42    698\n",
       "35    617\n",
       "40    609\n",
       "41    607\n",
       "34    603\n",
       "38    598\n",
       "33    581\n",
       "39    573\n",
       "31    560\n",
       "36    555\n",
       "44    547\n",
       "29    545\n",
       "30    540\n",
       "48    538\n",
       "37    537\n",
       "50    514\n",
       "43    513\n",
       "32    510\n",
       "49    508\n",
       "28    503\n",
       "45    497\n",
       "27    493\n",
       "56    487\n",
       "52    484\n",
       "47    480\n",
       "54    479\n",
       "46    475\n",
       "58    461\n",
       "57    460\n",
       "53    459\n",
       "51    448\n",
       "59    444\n",
       "55    443\n",
       "26    408\n",
       "60    377\n",
       "25    357\n",
       "61    355\n",
       "62    352\n",
       "63    269\n",
       "64    265\n",
       "24    264\n",
       "23    254\n",
       "65    194\n",
       "66    183\n",
       "22    183\n",
       "67    167\n",
       "21    111\n",
       "68     99\n",
       "69     85\n",
       "70     65\n",
       "71     58\n",
       "20     51\n",
       "72     33\n",
       "19     14\n",
       "73      8\n",
       "74      6\n",
       "75      1\n",
       "Name: dob_years, dtype: int64"
      ]
     },
     "execution_count": 45,
     "metadata": {},
     "output_type": "execute_result"
    }
   ],
   "source": [
    "# Проверим замену\n",
    "data['dob_years'].value_counts()"
   ]
  },
  {
   "cell_type": "code",
   "execution_count": 46,
   "metadata": {},
   "outputs": [
    {
     "data": {
      "text/html": [
       "<div>\n",
       "<style scoped>\n",
       "    .dataframe tbody tr th:only-of-type {\n",
       "        vertical-align: middle;\n",
       "    }\n",
       "\n",
       "    .dataframe tbody tr th {\n",
       "        vertical-align: top;\n",
       "    }\n",
       "\n",
       "    .dataframe thead th {\n",
       "        text-align: right;\n",
       "    }\n",
       "</style>\n",
       "<table border=\"1\" class=\"dataframe\">\n",
       "  <thead>\n",
       "    <tr style=\"text-align: right;\">\n",
       "      <th></th>\n",
       "      <th>children</th>\n",
       "      <th>days_employed</th>\n",
       "      <th>dob_years</th>\n",
       "      <th>education_id</th>\n",
       "      <th>family_status_id</th>\n",
       "      <th>debt</th>\n",
       "      <th>total_income</th>\n",
       "    </tr>\n",
       "  </thead>\n",
       "  <tbody>\n",
       "    <tr>\n",
       "      <td>count</td>\n",
       "      <td>21525.000000</td>\n",
       "      <td>21525.000000</td>\n",
       "      <td>21525.000000</td>\n",
       "      <td>21525.000000</td>\n",
       "      <td>21525.000000</td>\n",
       "      <td>21525.000000</td>\n",
       "      <td>2.152500e+04</td>\n",
       "    </tr>\n",
       "    <tr>\n",
       "      <td>mean</td>\n",
       "      <td>0.479721</td>\n",
       "      <td>4629.994398</td>\n",
       "      <td>43.490453</td>\n",
       "      <td>0.817236</td>\n",
       "      <td>0.972544</td>\n",
       "      <td>0.080883</td>\n",
       "      <td>1.652253e+05</td>\n",
       "    </tr>\n",
       "    <tr>\n",
       "      <td>std</td>\n",
       "      <td>0.755528</td>\n",
       "      <td>5317.592062</td>\n",
       "      <td>12.218595</td>\n",
       "      <td>0.548138</td>\n",
       "      <td>1.420324</td>\n",
       "      <td>0.272661</td>\n",
       "      <td>9.804367e+04</td>\n",
       "    </tr>\n",
       "    <tr>\n",
       "      <td>min</td>\n",
       "      <td>0.000000</td>\n",
       "      <td>24.141633</td>\n",
       "      <td>19.000000</td>\n",
       "      <td>0.000000</td>\n",
       "      <td>0.000000</td>\n",
       "      <td>0.000000</td>\n",
       "      <td>2.066726e+04</td>\n",
       "    </tr>\n",
       "    <tr>\n",
       "      <td>25%</td>\n",
       "      <td>0.000000</td>\n",
       "      <td>1007.368820</td>\n",
       "      <td>34.000000</td>\n",
       "      <td>1.000000</td>\n",
       "      <td>0.000000</td>\n",
       "      <td>0.000000</td>\n",
       "      <td>1.077982e+05</td>\n",
       "    </tr>\n",
       "    <tr>\n",
       "      <td>50%</td>\n",
       "      <td>0.000000</td>\n",
       "      <td>2170.569747</td>\n",
       "      <td>42.000000</td>\n",
       "      <td>1.000000</td>\n",
       "      <td>0.000000</td>\n",
       "      <td>0.000000</td>\n",
       "      <td>1.425944e+05</td>\n",
       "    </tr>\n",
       "    <tr>\n",
       "      <td>75%</td>\n",
       "      <td>1.000000</td>\n",
       "      <td>5489.396756</td>\n",
       "      <td>53.000000</td>\n",
       "      <td>1.000000</td>\n",
       "      <td>1.000000</td>\n",
       "      <td>0.000000</td>\n",
       "      <td>1.955499e+05</td>\n",
       "    </tr>\n",
       "    <tr>\n",
       "      <td>max</td>\n",
       "      <td>5.000000</td>\n",
       "      <td>18388.949901</td>\n",
       "      <td>75.000000</td>\n",
       "      <td>4.000000</td>\n",
       "      <td>4.000000</td>\n",
       "      <td>1.000000</td>\n",
       "      <td>2.265604e+06</td>\n",
       "    </tr>\n",
       "  </tbody>\n",
       "</table>\n",
       "</div>"
      ],
      "text/plain": [
       "           children  days_employed     dob_years  education_id  \\\n",
       "count  21525.000000   21525.000000  21525.000000  21525.000000   \n",
       "mean       0.479721    4629.994398     43.490453      0.817236   \n",
       "std        0.755528    5317.592062     12.218595      0.548138   \n",
       "min        0.000000      24.141633     19.000000      0.000000   \n",
       "25%        0.000000    1007.368820     34.000000      1.000000   \n",
       "50%        0.000000    2170.569747     42.000000      1.000000   \n",
       "75%        1.000000    5489.396756     53.000000      1.000000   \n",
       "max        5.000000   18388.949901     75.000000      4.000000   \n",
       "\n",
       "       family_status_id          debt  total_income  \n",
       "count      21525.000000  21525.000000  2.152500e+04  \n",
       "mean           0.972544      0.080883  1.652253e+05  \n",
       "std            1.420324      0.272661  9.804367e+04  \n",
       "min            0.000000      0.000000  2.066726e+04  \n",
       "25%            0.000000      0.000000  1.077982e+05  \n",
       "50%            0.000000      0.000000  1.425944e+05  \n",
       "75%            1.000000      0.000000  1.955499e+05  \n",
       "max            4.000000      1.000000  2.265604e+06  "
      ]
     },
     "execution_count": 46,
     "metadata": {},
     "output_type": "execute_result"
    }
   ],
   "source": [
    "data.describe()"
   ]
  },
  {
   "cell_type": "code",
   "execution_count": 47,
   "metadata": {},
   "outputs": [
    {
     "data": {
      "text/html": [
       "<div>\n",
       "<style scoped>\n",
       "    .dataframe tbody tr th:only-of-type {\n",
       "        vertical-align: middle;\n",
       "    }\n",
       "\n",
       "    .dataframe tbody tr th {\n",
       "        vertical-align: top;\n",
       "    }\n",
       "\n",
       "    .dataframe thead th {\n",
       "        text-align: right;\n",
       "    }\n",
       "</style>\n",
       "<table border=\"1\" class=\"dataframe\">\n",
       "  <thead>\n",
       "    <tr style=\"text-align: right;\">\n",
       "      <th></th>\n",
       "      <th>children</th>\n",
       "      <th>days_employed</th>\n",
       "      <th>dob_years</th>\n",
       "      <th>education</th>\n",
       "      <th>education_id</th>\n",
       "      <th>family_status</th>\n",
       "      <th>family_status_id</th>\n",
       "      <th>gender</th>\n",
       "      <th>income_type</th>\n",
       "      <th>debt</th>\n",
       "      <th>total_income</th>\n",
       "      <th>purpose</th>\n",
       "    </tr>\n",
       "  </thead>\n",
       "  <tbody>\n",
       "    <tr>\n",
       "      <td>0</td>\n",
       "      <td>1</td>\n",
       "      <td>8437.673028</td>\n",
       "      <td>42</td>\n",
       "      <td>высшее</td>\n",
       "      <td>0</td>\n",
       "      <td>женат / замужем</td>\n",
       "      <td>0</td>\n",
       "      <td>F</td>\n",
       "      <td>сотрудник</td>\n",
       "      <td>0</td>\n",
       "      <td>253875.639453</td>\n",
       "      <td>покупка жилья</td>\n",
       "    </tr>\n",
       "    <tr>\n",
       "      <td>4</td>\n",
       "      <td>0</td>\n",
       "      <td>14177.753002</td>\n",
       "      <td>53</td>\n",
       "      <td>среднее</td>\n",
       "      <td>1</td>\n",
       "      <td>гражданский брак</td>\n",
       "      <td>1</td>\n",
       "      <td>F</td>\n",
       "      <td>пенсионер</td>\n",
       "      <td>0</td>\n",
       "      <td>158616.077870</td>\n",
       "      <td>сыграть свадьбу</td>\n",
       "    </tr>\n",
       "    <tr>\n",
       "      <td>12</td>\n",
       "      <td>0</td>\n",
       "      <td>14902.851210</td>\n",
       "      <td>65</td>\n",
       "      <td>среднее</td>\n",
       "      <td>1</td>\n",
       "      <td>гражданский брак</td>\n",
       "      <td>1</td>\n",
       "      <td>M</td>\n",
       "      <td>пенсионер</td>\n",
       "      <td>0</td>\n",
       "      <td>118514.486412</td>\n",
       "      <td>сыграть свадьбу</td>\n",
       "    </tr>\n",
       "    <tr>\n",
       "      <td>18</td>\n",
       "      <td>0</td>\n",
       "      <td>16678.380705</td>\n",
       "      <td>53</td>\n",
       "      <td>среднее</td>\n",
       "      <td>1</td>\n",
       "      <td>вдовец / вдова</td>\n",
       "      <td>2</td>\n",
       "      <td>F</td>\n",
       "      <td>пенсионер</td>\n",
       "      <td>0</td>\n",
       "      <td>56823.777243</td>\n",
       "      <td>на покупку подержанного автомобиля</td>\n",
       "    </tr>\n",
       "    <tr>\n",
       "      <td>19</td>\n",
       "      <td>0</td>\n",
       "      <td>10038.818549</td>\n",
       "      <td>48</td>\n",
       "      <td>СРЕДНЕЕ</td>\n",
       "      <td>1</td>\n",
       "      <td>в разводе</td>\n",
       "      <td>3</td>\n",
       "      <td>F</td>\n",
       "      <td>сотрудник</td>\n",
       "      <td>0</td>\n",
       "      <td>242831.107982</td>\n",
       "      <td>на покупку своего автомобиля</td>\n",
       "    </tr>\n",
       "    <tr>\n",
       "      <td>...</td>\n",
       "      <td>...</td>\n",
       "      <td>...</td>\n",
       "      <td>...</td>\n",
       "      <td>...</td>\n",
       "      <td>...</td>\n",
       "      <td>...</td>\n",
       "      <td>...</td>\n",
       "      <td>...</td>\n",
       "      <td>...</td>\n",
       "      <td>...</td>\n",
       "      <td>...</td>\n",
       "      <td>...</td>\n",
       "    </tr>\n",
       "    <tr>\n",
       "      <td>21505</td>\n",
       "      <td>0</td>\n",
       "      <td>14121.036100</td>\n",
       "      <td>53</td>\n",
       "      <td>среднее</td>\n",
       "      <td>1</td>\n",
       "      <td>гражданский брак</td>\n",
       "      <td>1</td>\n",
       "      <td>M</td>\n",
       "      <td>пенсионер</td>\n",
       "      <td>0</td>\n",
       "      <td>75439.993167</td>\n",
       "      <td>сыграть свадьбу</td>\n",
       "    </tr>\n",
       "    <tr>\n",
       "      <td>21508</td>\n",
       "      <td>0</td>\n",
       "      <td>16104.071420</td>\n",
       "      <td>62</td>\n",
       "      <td>среднее</td>\n",
       "      <td>1</td>\n",
       "      <td>женат / замужем</td>\n",
       "      <td>0</td>\n",
       "      <td>M</td>\n",
       "      <td>пенсионер</td>\n",
       "      <td>0</td>\n",
       "      <td>72638.590915</td>\n",
       "      <td>недвижимость</td>\n",
       "    </tr>\n",
       "    <tr>\n",
       "      <td>21509</td>\n",
       "      <td>0</td>\n",
       "      <td>15090.043922</td>\n",
       "      <td>59</td>\n",
       "      <td>высшее</td>\n",
       "      <td>0</td>\n",
       "      <td>женат / замужем</td>\n",
       "      <td>0</td>\n",
       "      <td>M</td>\n",
       "      <td>пенсионер</td>\n",
       "      <td>0</td>\n",
       "      <td>73029.059379</td>\n",
       "      <td>операции с недвижимостью</td>\n",
       "    </tr>\n",
       "    <tr>\n",
       "      <td>21518</td>\n",
       "      <td>0</td>\n",
       "      <td>15583.154618</td>\n",
       "      <td>59</td>\n",
       "      <td>СРЕДНЕЕ</td>\n",
       "      <td>1</td>\n",
       "      <td>женат / замужем</td>\n",
       "      <td>0</td>\n",
       "      <td>F</td>\n",
       "      <td>пенсионер</td>\n",
       "      <td>0</td>\n",
       "      <td>153864.650328</td>\n",
       "      <td>сделка с автомобилем</td>\n",
       "    </tr>\n",
       "    <tr>\n",
       "      <td>21521</td>\n",
       "      <td>0</td>\n",
       "      <td>14330.725172</td>\n",
       "      <td>67</td>\n",
       "      <td>среднее</td>\n",
       "      <td>1</td>\n",
       "      <td>женат / замужем</td>\n",
       "      <td>0</td>\n",
       "      <td>F</td>\n",
       "      <td>пенсионер</td>\n",
       "      <td>0</td>\n",
       "      <td>155999.806512</td>\n",
       "      <td>сделка с автомобилем</td>\n",
       "    </tr>\n",
       "  </tbody>\n",
       "</table>\n",
       "<p>4389 rows × 12 columns</p>\n",
       "</div>"
      ],
      "text/plain": [
       "       children  days_employed  dob_years education  education_id  \\\n",
       "0             1    8437.673028         42    высшее             0   \n",
       "4             0   14177.753002         53   среднее             1   \n",
       "12            0   14902.851210         65   среднее             1   \n",
       "18            0   16678.380705         53   среднее             1   \n",
       "19            0   10038.818549         48   СРЕДНЕЕ             1   \n",
       "...         ...            ...        ...       ...           ...   \n",
       "21505         0   14121.036100         53   среднее             1   \n",
       "21508         0   16104.071420         62   среднее             1   \n",
       "21509         0   15090.043922         59    высшее             0   \n",
       "21518         0   15583.154618         59   СРЕДНЕЕ             1   \n",
       "21521         0   14330.725172         67   среднее             1   \n",
       "\n",
       "          family_status  family_status_id gender income_type  debt  \\\n",
       "0       женат / замужем                 0      F   сотрудник     0   \n",
       "4      гражданский брак                 1      F   пенсионер     0   \n",
       "12     гражданский брак                 1      M   пенсионер     0   \n",
       "18       вдовец / вдова                 2      F   пенсионер     0   \n",
       "19            в разводе                 3      F   сотрудник     0   \n",
       "...                 ...               ...    ...         ...   ...   \n",
       "21505  гражданский брак                 1      M   пенсионер     0   \n",
       "21508   женат / замужем                 0      M   пенсионер     0   \n",
       "21509   женат / замужем                 0      M   пенсионер     0   \n",
       "21518   женат / замужем                 0      F   пенсионер     0   \n",
       "21521   женат / замужем                 0      F   пенсионер     0   \n",
       "\n",
       "        total_income                             purpose  \n",
       "0      253875.639453                       покупка жилья  \n",
       "4      158616.077870                     сыграть свадьбу  \n",
       "12     118514.486412                     сыграть свадьбу  \n",
       "18      56823.777243  на покупку подержанного автомобиля  \n",
       "19     242831.107982        на покупку своего автомобиля  \n",
       "...              ...                                 ...  \n",
       "21505   75439.993167                     сыграть свадьбу  \n",
       "21508   72638.590915                        недвижимость  \n",
       "21509   73029.059379            операции с недвижимостью  \n",
       "21518  153864.650328                сделка с автомобилем  \n",
       "21521  155999.806512                сделка с автомобилем  \n",
       "\n",
       "[4389 rows x 12 columns]"
      ]
     },
     "execution_count": 47,
     "metadata": {},
     "output_type": "execute_result"
    }
   ],
   "source": [
    "# В колонке days_employed видим большой показатель среднего и максимального стажа. \n",
    "# Средний стаж по выходу на пенсию в России составляет 8176.5 дней\n",
    "# Проверим в days_employed показатели выше среднего стажа по выходу на пенсию\n",
    "data.loc[data.loc[:,'days_employed'] >= 8176.5]"
   ]
  },
  {
   "cell_type": "markdown",
   "metadata": {},
   "source": [
    "Некорректные данные в количественных переменных заполняют характерными значениями. Значения характеризующие состояние набора данных для проведения исследования. Обчно используют медиану или среднее значение. Сделаем замену слишком больших данных о стаже на медианное значение."
   ]
  },
  {
   "cell_type": "code",
   "execution_count": 48,
   "metadata": {},
   "outputs": [
    {
     "data": {
      "text/html": [
       "<div>\n",
       "<style scoped>\n",
       "    .dataframe tbody tr th:only-of-type {\n",
       "        vertical-align: middle;\n",
       "    }\n",
       "\n",
       "    .dataframe tbody tr th {\n",
       "        vertical-align: top;\n",
       "    }\n",
       "\n",
       "    .dataframe thead th {\n",
       "        text-align: right;\n",
       "    }\n",
       "</style>\n",
       "<table border=\"1\" class=\"dataframe\">\n",
       "  <thead>\n",
       "    <tr style=\"text-align: right;\">\n",
       "      <th></th>\n",
       "      <th>children</th>\n",
       "      <th>days_employed</th>\n",
       "      <th>dob_years</th>\n",
       "      <th>education</th>\n",
       "      <th>education_id</th>\n",
       "      <th>family_status</th>\n",
       "      <th>family_status_id</th>\n",
       "      <th>gender</th>\n",
       "      <th>income_type</th>\n",
       "      <th>debt</th>\n",
       "      <th>total_income</th>\n",
       "      <th>purpose</th>\n",
       "    </tr>\n",
       "  </thead>\n",
       "  <tbody>\n",
       "    <tr>\n",
       "      <td>0</td>\n",
       "      <td>1</td>\n",
       "      <td>2170.569747</td>\n",
       "      <td>42</td>\n",
       "      <td>высшее</td>\n",
       "      <td>0</td>\n",
       "      <td>женат / замужем</td>\n",
       "      <td>0</td>\n",
       "      <td>F</td>\n",
       "      <td>сотрудник</td>\n",
       "      <td>0</td>\n",
       "      <td>253875.639453</td>\n",
       "      <td>покупка жилья</td>\n",
       "    </tr>\n",
       "    <tr>\n",
       "      <td>1</td>\n",
       "      <td>1</td>\n",
       "      <td>4024.803754</td>\n",
       "      <td>36</td>\n",
       "      <td>среднее</td>\n",
       "      <td>1</td>\n",
       "      <td>женат / замужем</td>\n",
       "      <td>0</td>\n",
       "      <td>F</td>\n",
       "      <td>сотрудник</td>\n",
       "      <td>0</td>\n",
       "      <td>112080.014102</td>\n",
       "      <td>приобретение автомобиля</td>\n",
       "    </tr>\n",
       "    <tr>\n",
       "      <td>2</td>\n",
       "      <td>0</td>\n",
       "      <td>5623.422610</td>\n",
       "      <td>33</td>\n",
       "      <td>Среднее</td>\n",
       "      <td>1</td>\n",
       "      <td>женат / замужем</td>\n",
       "      <td>0</td>\n",
       "      <td>M</td>\n",
       "      <td>сотрудник</td>\n",
       "      <td>0</td>\n",
       "      <td>145885.952297</td>\n",
       "      <td>покупка жилья</td>\n",
       "    </tr>\n",
       "    <tr>\n",
       "      <td>3</td>\n",
       "      <td>3</td>\n",
       "      <td>4124.747207</td>\n",
       "      <td>32</td>\n",
       "      <td>среднее</td>\n",
       "      <td>1</td>\n",
       "      <td>женат / замужем</td>\n",
       "      <td>0</td>\n",
       "      <td>M</td>\n",
       "      <td>сотрудник</td>\n",
       "      <td>0</td>\n",
       "      <td>267628.550329</td>\n",
       "      <td>дополнительное образование</td>\n",
       "    </tr>\n",
       "    <tr>\n",
       "      <td>4</td>\n",
       "      <td>0</td>\n",
       "      <td>2170.569747</td>\n",
       "      <td>53</td>\n",
       "      <td>среднее</td>\n",
       "      <td>1</td>\n",
       "      <td>гражданский брак</td>\n",
       "      <td>1</td>\n",
       "      <td>F</td>\n",
       "      <td>пенсионер</td>\n",
       "      <td>0</td>\n",
       "      <td>158616.077870</td>\n",
       "      <td>сыграть свадьбу</td>\n",
       "    </tr>\n",
       "    <tr>\n",
       "      <td>...</td>\n",
       "      <td>...</td>\n",
       "      <td>...</td>\n",
       "      <td>...</td>\n",
       "      <td>...</td>\n",
       "      <td>...</td>\n",
       "      <td>...</td>\n",
       "      <td>...</td>\n",
       "      <td>...</td>\n",
       "      <td>...</td>\n",
       "      <td>...</td>\n",
       "      <td>...</td>\n",
       "      <td>...</td>\n",
       "    </tr>\n",
       "    <tr>\n",
       "      <td>21520</td>\n",
       "      <td>1</td>\n",
       "      <td>4529.316663</td>\n",
       "      <td>43</td>\n",
       "      <td>среднее</td>\n",
       "      <td>1</td>\n",
       "      <td>гражданский брак</td>\n",
       "      <td>1</td>\n",
       "      <td>F</td>\n",
       "      <td>компаньон</td>\n",
       "      <td>0</td>\n",
       "      <td>224791.862382</td>\n",
       "      <td>операции с жильем</td>\n",
       "    </tr>\n",
       "    <tr>\n",
       "      <td>21521</td>\n",
       "      <td>0</td>\n",
       "      <td>2170.569747</td>\n",
       "      <td>67</td>\n",
       "      <td>среднее</td>\n",
       "      <td>1</td>\n",
       "      <td>женат / замужем</td>\n",
       "      <td>0</td>\n",
       "      <td>F</td>\n",
       "      <td>пенсионер</td>\n",
       "      <td>0</td>\n",
       "      <td>155999.806512</td>\n",
       "      <td>сделка с автомобилем</td>\n",
       "    </tr>\n",
       "    <tr>\n",
       "      <td>21522</td>\n",
       "      <td>1</td>\n",
       "      <td>2113.346888</td>\n",
       "      <td>38</td>\n",
       "      <td>среднее</td>\n",
       "      <td>1</td>\n",
       "      <td>гражданский брак</td>\n",
       "      <td>1</td>\n",
       "      <td>M</td>\n",
       "      <td>сотрудник</td>\n",
       "      <td>1</td>\n",
       "      <td>89672.561153</td>\n",
       "      <td>недвижимость</td>\n",
       "    </tr>\n",
       "    <tr>\n",
       "      <td>21523</td>\n",
       "      <td>3</td>\n",
       "      <td>3112.481705</td>\n",
       "      <td>38</td>\n",
       "      <td>среднее</td>\n",
       "      <td>1</td>\n",
       "      <td>женат / замужем</td>\n",
       "      <td>0</td>\n",
       "      <td>M</td>\n",
       "      <td>сотрудник</td>\n",
       "      <td>1</td>\n",
       "      <td>244093.050500</td>\n",
       "      <td>на покупку своего автомобиля</td>\n",
       "    </tr>\n",
       "    <tr>\n",
       "      <td>21524</td>\n",
       "      <td>2</td>\n",
       "      <td>1984.507589</td>\n",
       "      <td>40</td>\n",
       "      <td>среднее</td>\n",
       "      <td>1</td>\n",
       "      <td>женат / замужем</td>\n",
       "      <td>0</td>\n",
       "      <td>F</td>\n",
       "      <td>сотрудник</td>\n",
       "      <td>0</td>\n",
       "      <td>82047.418899</td>\n",
       "      <td>на покупку автомобиля</td>\n",
       "    </tr>\n",
       "  </tbody>\n",
       "</table>\n",
       "<p>21525 rows × 12 columns</p>\n",
       "</div>"
      ],
      "text/plain": [
       "       children  days_employed  dob_years education  education_id  \\\n",
       "0             1    2170.569747         42    высшее             0   \n",
       "1             1    4024.803754         36   среднее             1   \n",
       "2             0    5623.422610         33   Среднее             1   \n",
       "3             3    4124.747207         32   среднее             1   \n",
       "4             0    2170.569747         53   среднее             1   \n",
       "...         ...            ...        ...       ...           ...   \n",
       "21520         1    4529.316663         43   среднее             1   \n",
       "21521         0    2170.569747         67   среднее             1   \n",
       "21522         1    2113.346888         38   среднее             1   \n",
       "21523         3    3112.481705         38   среднее             1   \n",
       "21524         2    1984.507589         40   среднее             1   \n",
       "\n",
       "          family_status  family_status_id gender income_type  debt  \\\n",
       "0       женат / замужем                 0      F   сотрудник     0   \n",
       "1       женат / замужем                 0      F   сотрудник     0   \n",
       "2       женат / замужем                 0      M   сотрудник     0   \n",
       "3       женат / замужем                 0      M   сотрудник     0   \n",
       "4      гражданский брак                 1      F   пенсионер     0   \n",
       "...                 ...               ...    ...         ...   ...   \n",
       "21520  гражданский брак                 1      F   компаньон     0   \n",
       "21521   женат / замужем                 0      F   пенсионер     0   \n",
       "21522  гражданский брак                 1      M   сотрудник     1   \n",
       "21523   женат / замужем                 0      M   сотрудник     1   \n",
       "21524   женат / замужем                 0      F   сотрудник     0   \n",
       "\n",
       "        total_income                       purpose  \n",
       "0      253875.639453                 покупка жилья  \n",
       "1      112080.014102       приобретение автомобиля  \n",
       "2      145885.952297                 покупка жилья  \n",
       "3      267628.550329    дополнительное образование  \n",
       "4      158616.077870               сыграть свадьбу  \n",
       "...              ...                           ...  \n",
       "21520  224791.862382             операции с жильем  \n",
       "21521  155999.806512          сделка с автомобилем  \n",
       "21522   89672.561153                  недвижимость  \n",
       "21523  244093.050500  на покупку своего автомобиля  \n",
       "21524   82047.418899         на покупку автомобиля  \n",
       "\n",
       "[21525 rows x 12 columns]"
      ]
     },
     "execution_count": 48,
     "metadata": {},
     "output_type": "execute_result"
    }
   ],
   "source": [
    "data.loc[data['days_employed'] >= 8176.5, 'days_employed'] = data['days_employed'].median()\n",
    "data"
   ]
  },
  {
   "cell_type": "code",
   "execution_count": 49,
   "metadata": {},
   "outputs": [
    {
     "data": {
      "text/html": [
       "<div>\n",
       "<style scoped>\n",
       "    .dataframe tbody tr th:only-of-type {\n",
       "        vertical-align: middle;\n",
       "    }\n",
       "\n",
       "    .dataframe tbody tr th {\n",
       "        vertical-align: top;\n",
       "    }\n",
       "\n",
       "    .dataframe thead th {\n",
       "        text-align: right;\n",
       "    }\n",
       "</style>\n",
       "<table border=\"1\" class=\"dataframe\">\n",
       "  <thead>\n",
       "    <tr style=\"text-align: right;\">\n",
       "      <th></th>\n",
       "      <th>children</th>\n",
       "      <th>days_employed</th>\n",
       "      <th>dob_years</th>\n",
       "      <th>education_id</th>\n",
       "      <th>family_status_id</th>\n",
       "      <th>debt</th>\n",
       "      <th>total_income</th>\n",
       "    </tr>\n",
       "  </thead>\n",
       "  <tbody>\n",
       "    <tr>\n",
       "      <td>count</td>\n",
       "      <td>21525.000000</td>\n",
       "      <td>21525.000000</td>\n",
       "      <td>21525.000000</td>\n",
       "      <td>21525.000000</td>\n",
       "      <td>21525.000000</td>\n",
       "      <td>21525.000000</td>\n",
       "      <td>2.152500e+04</td>\n",
       "    </tr>\n",
       "    <tr>\n",
       "      <td>mean</td>\n",
       "      <td>0.479721</td>\n",
       "      <td>2104.274736</td>\n",
       "      <td>43.490453</td>\n",
       "      <td>0.817236</td>\n",
       "      <td>0.972544</td>\n",
       "      <td>0.080883</td>\n",
       "      <td>1.652253e+05</td>\n",
       "    </tr>\n",
       "    <tr>\n",
       "      <td>std</td>\n",
       "      <td>0.755528</td>\n",
       "      <td>1525.620627</td>\n",
       "      <td>12.218595</td>\n",
       "      <td>0.548138</td>\n",
       "      <td>1.420324</td>\n",
       "      <td>0.272661</td>\n",
       "      <td>9.804367e+04</td>\n",
       "    </tr>\n",
       "    <tr>\n",
       "      <td>min</td>\n",
       "      <td>0.000000</td>\n",
       "      <td>24.141633</td>\n",
       "      <td>19.000000</td>\n",
       "      <td>0.000000</td>\n",
       "      <td>0.000000</td>\n",
       "      <td>0.000000</td>\n",
       "      <td>2.066726e+04</td>\n",
       "    </tr>\n",
       "    <tr>\n",
       "      <td>25%</td>\n",
       "      <td>0.000000</td>\n",
       "      <td>1007.368820</td>\n",
       "      <td>34.000000</td>\n",
       "      <td>1.000000</td>\n",
       "      <td>0.000000</td>\n",
       "      <td>0.000000</td>\n",
       "      <td>1.077982e+05</td>\n",
       "    </tr>\n",
       "    <tr>\n",
       "      <td>50%</td>\n",
       "      <td>0.000000</td>\n",
       "      <td>2170.569747</td>\n",
       "      <td>42.000000</td>\n",
       "      <td>1.000000</td>\n",
       "      <td>0.000000</td>\n",
       "      <td>0.000000</td>\n",
       "      <td>1.425944e+05</td>\n",
       "    </tr>\n",
       "    <tr>\n",
       "      <td>75%</td>\n",
       "      <td>1.000000</td>\n",
       "      <td>2461.839054</td>\n",
       "      <td>53.000000</td>\n",
       "      <td>1.000000</td>\n",
       "      <td>1.000000</td>\n",
       "      <td>0.000000</td>\n",
       "      <td>1.955499e+05</td>\n",
       "    </tr>\n",
       "    <tr>\n",
       "      <td>max</td>\n",
       "      <td>5.000000</td>\n",
       "      <td>8172.406882</td>\n",
       "      <td>75.000000</td>\n",
       "      <td>4.000000</td>\n",
       "      <td>4.000000</td>\n",
       "      <td>1.000000</td>\n",
       "      <td>2.265604e+06</td>\n",
       "    </tr>\n",
       "  </tbody>\n",
       "</table>\n",
       "</div>"
      ],
      "text/plain": [
       "           children  days_employed     dob_years  education_id  \\\n",
       "count  21525.000000   21525.000000  21525.000000  21525.000000   \n",
       "mean       0.479721    2104.274736     43.490453      0.817236   \n",
       "std        0.755528    1525.620627     12.218595      0.548138   \n",
       "min        0.000000      24.141633     19.000000      0.000000   \n",
       "25%        0.000000    1007.368820     34.000000      1.000000   \n",
       "50%        0.000000    2170.569747     42.000000      1.000000   \n",
       "75%        1.000000    2461.839054     53.000000      1.000000   \n",
       "max        5.000000    8172.406882     75.000000      4.000000   \n",
       "\n",
       "       family_status_id          debt  total_income  \n",
       "count      21525.000000  21525.000000  2.152500e+04  \n",
       "mean           0.972544      0.080883  1.652253e+05  \n",
       "std            1.420324      0.272661  9.804367e+04  \n",
       "min            0.000000      0.000000  2.066726e+04  \n",
       "25%            0.000000      0.000000  1.077982e+05  \n",
       "50%            0.000000      0.000000  1.425944e+05  \n",
       "75%            1.000000      0.000000  1.955499e+05  \n",
       "max            4.000000      1.000000  2.265604e+06  "
      ]
     },
     "execution_count": 49,
     "metadata": {},
     "output_type": "execute_result"
    }
   ],
   "source": [
    "# Проверим теперь средний и максимальный показатель days_employed\n",
    "data.describe()"
   ]
  },
  {
   "cell_type": "code",
   "execution_count": 50,
   "metadata": {},
   "outputs": [
    {
     "name": "stdout",
     "output_type": "stream",
     "text": [
      "<class 'pandas.core.frame.DataFrame'>\n",
      "RangeIndex: 21525 entries, 0 to 21524\n",
      "Data columns (total 12 columns):\n",
      "children            21525 non-null int64\n",
      "days_employed       21525 non-null float64\n",
      "dob_years           21525 non-null int64\n",
      "education           21525 non-null object\n",
      "education_id        21525 non-null int64\n",
      "family_status       21525 non-null object\n",
      "family_status_id    21525 non-null int64\n",
      "gender              21525 non-null object\n",
      "income_type         21525 non-null object\n",
      "debt                21525 non-null int64\n",
      "total_income        21525 non-null float64\n",
      "purpose             21525 non-null object\n",
      "dtypes: float64(2), int64(5), object(5)\n",
      "memory usage: 2.0+ MB\n"
     ]
    }
   ],
   "source": [
    "data.info()"
   ]
  },
  {
   "cell_type": "markdown",
   "metadata": {},
   "source": [
    "**Вывод**\n",
    "\n",
    "В колонках days_employed, total_income имелись пустые значения. Отстутвие количества дней трудового стажа соответсвует отсутсвию дохода. Поэтому пустые значения можно заменить на 0. Использовали метод .fillna()"
   ]
  },
  {
   "cell_type": "markdown",
   "metadata": {},
   "source": [
    "### Замена типа данных"
   ]
  },
  {
   "cell_type": "code",
   "execution_count": 337,
   "metadata": {},
   "outputs": [
    {
     "data": {
      "text/plain": [
       "женат / замужем          12380\n",
       "гражданский брак          4177\n",
       "не женат / не замужем     2813\n",
       "в разводе                 1195\n",
       "вдовец / вдова             960\n",
       "Name: family_status, dtype: int64"
      ]
     },
     "execution_count": 337,
     "metadata": {},
     "output_type": "execute_result"
    }
   ],
   "source": [
    "# Приведем все нижнему к регистру.\n",
    "data['family_status'] = data['family_status'].str.lower()\n",
    "data['family_status'].value_counts()"
   ]
  },
  {
   "cell_type": "code",
   "execution_count": 338,
   "metadata": {},
   "outputs": [],
   "source": [
    "data['education'] = data['education'].str.lower()"
   ]
  },
  {
   "cell_type": "code",
   "execution_count": 339,
   "metadata": {},
   "outputs": [
    {
     "data": {
      "text/plain": [
       "среднее                15233\n",
       "высшее                  5260\n",
       "неоконченное высшее      744\n",
       "начальное                282\n",
       "ученая степень             6\n",
       "Name: education, dtype: int64"
      ]
     },
     "execution_count": 339,
     "metadata": {},
     "output_type": "execute_result"
    }
   ],
   "source": [
    "data['education'].value_counts()"
   ]
  },
  {
   "cell_type": "code",
   "execution_count": 340,
   "metadata": {},
   "outputs": [],
   "source": [
    "# Изменим тип данных с float на int методом .astype    — Этим методом переводят значения в нужный тип.  \n",
    "data['days_employed'] = data['days_employed'].astype(int)\n",
    "data['total_income'] = data['total_income'].astype(int)"
   ]
  },
  {
   "cell_type": "code",
   "execution_count": 341,
   "metadata": {},
   "outputs": [
    {
     "name": "stdout",
     "output_type": "stream",
     "text": [
      "<class 'pandas.core.frame.DataFrame'>\n",
      "RangeIndex: 21525 entries, 0 to 21524\n",
      "Data columns (total 13 columns):\n",
      "children            21525 non-null int64\n",
      "days_employed       21525 non-null int64\n",
      "dob_years           21525 non-null int64\n",
      "education           21525 non-null object\n",
      "education_id        21525 non-null int64\n",
      "family_status       21525 non-null object\n",
      "family_status_id    21525 non-null int64\n",
      "gender              21525 non-null object\n",
      "income_type         21525 non-null object\n",
      "debt                21525 non-null int64\n",
      "total_income        21525 non-null int64\n",
      "purpose             21525 non-null object\n",
      "days_employed       21525 non-null float64\n",
      "dtypes: float64(1), int64(7), object(5)\n",
      "memory usage: 2.1+ MB\n"
     ]
    }
   ],
   "source": [
    "# Проверим изменение типов данных \n",
    "data.info()"
   ]
  },
  {
   "cell_type": "markdown",
   "metadata": {},
   "source": [
    "**Вывод**\n",
    "\n",
    "<li>Привели к нижнему регистру наименования категорий в колонках education и family_status, избавились от дублей категорий</li>\n",
    "<li>В колонках со стажем и размером заработной платы преобразовали тип данных с float на int. Использовали метод .astype</li>\n"
   ]
  },
  {
   "cell_type": "markdown",
   "metadata": {},
   "source": [
    "### Обработка дубликатов"
   ]
  },
  {
   "cell_type": "code",
   "execution_count": 342,
   "metadata": {},
   "outputs": [
    {
     "data": {
      "text/plain": [
       "72"
      ]
     },
     "execution_count": 342,
     "metadata": {},
     "output_type": "execute_result"
    }
   ],
   "source": [
    "# Поиск явных дубликатов\n",
    "data.duplicated().sum()"
   ]
  },
  {
   "cell_type": "code",
   "execution_count": 343,
   "metadata": {},
   "outputs": [
    {
     "data": {
      "text/html": [
       "<div>\n",
       "<style scoped>\n",
       "    .dataframe tbody tr th:only-of-type {\n",
       "        vertical-align: middle;\n",
       "    }\n",
       "\n",
       "    .dataframe tbody tr th {\n",
       "        vertical-align: top;\n",
       "    }\n",
       "\n",
       "    .dataframe thead th {\n",
       "        text-align: right;\n",
       "    }\n",
       "</style>\n",
       "<table border=\"1\" class=\"dataframe\">\n",
       "  <thead>\n",
       "    <tr style=\"text-align: right;\">\n",
       "      <th></th>\n",
       "      <th>children</th>\n",
       "      <th>days_employed</th>\n",
       "      <th>dob_years</th>\n",
       "      <th>education</th>\n",
       "      <th>education_id</th>\n",
       "      <th>family_status</th>\n",
       "      <th>family_status_id</th>\n",
       "      <th>gender</th>\n",
       "      <th>income_type</th>\n",
       "      <th>debt</th>\n",
       "      <th>total_income</th>\n",
       "      <th>purpose</th>\n",
       "      <th>days_employed</th>\n",
       "    </tr>\n",
       "  </thead>\n",
       "  <tbody>\n",
       "    <tr>\n",
       "      <td>2849</td>\n",
       "      <td>0</td>\n",
       "      <td>1574</td>\n",
       "      <td>41</td>\n",
       "      <td>среднее</td>\n",
       "      <td>1</td>\n",
       "      <td>женат / замужем</td>\n",
       "      <td>0</td>\n",
       "      <td>F</td>\n",
       "      <td>сотрудник</td>\n",
       "      <td>0</td>\n",
       "      <td>142594</td>\n",
       "      <td>покупка жилья для семьи</td>\n",
       "      <td>-1574.202821</td>\n",
       "    </tr>\n",
       "    <tr>\n",
       "      <td>3290</td>\n",
       "      <td>0</td>\n",
       "      <td>365213</td>\n",
       "      <td>58</td>\n",
       "      <td>среднее</td>\n",
       "      <td>1</td>\n",
       "      <td>гражданский брак</td>\n",
       "      <td>1</td>\n",
       "      <td>F</td>\n",
       "      <td>пенсионер</td>\n",
       "      <td>0</td>\n",
       "      <td>118514</td>\n",
       "      <td>сыграть свадьбу</td>\n",
       "      <td>365213.306266</td>\n",
       "    </tr>\n",
       "    <tr>\n",
       "      <td>4182</td>\n",
       "      <td>1</td>\n",
       "      <td>1574</td>\n",
       "      <td>34</td>\n",
       "      <td>высшее</td>\n",
       "      <td>0</td>\n",
       "      <td>гражданский брак</td>\n",
       "      <td>1</td>\n",
       "      <td>F</td>\n",
       "      <td>сотрудник</td>\n",
       "      <td>0</td>\n",
       "      <td>142594</td>\n",
       "      <td>свадьба</td>\n",
       "      <td>-1574.202821</td>\n",
       "    </tr>\n",
       "    <tr>\n",
       "      <td>4851</td>\n",
       "      <td>0</td>\n",
       "      <td>365213</td>\n",
       "      <td>60</td>\n",
       "      <td>среднее</td>\n",
       "      <td>1</td>\n",
       "      <td>гражданский брак</td>\n",
       "      <td>1</td>\n",
       "      <td>F</td>\n",
       "      <td>пенсионер</td>\n",
       "      <td>0</td>\n",
       "      <td>118514</td>\n",
       "      <td>свадьба</td>\n",
       "      <td>365213.306266</td>\n",
       "    </tr>\n",
       "    <tr>\n",
       "      <td>5557</td>\n",
       "      <td>0</td>\n",
       "      <td>365213</td>\n",
       "      <td>58</td>\n",
       "      <td>среднее</td>\n",
       "      <td>1</td>\n",
       "      <td>гражданский брак</td>\n",
       "      <td>1</td>\n",
       "      <td>F</td>\n",
       "      <td>пенсионер</td>\n",
       "      <td>0</td>\n",
       "      <td>118514</td>\n",
       "      <td>сыграть свадьбу</td>\n",
       "      <td>365213.306266</td>\n",
       "    </tr>\n",
       "    <tr>\n",
       "      <td>6312</td>\n",
       "      <td>0</td>\n",
       "      <td>1574</td>\n",
       "      <td>30</td>\n",
       "      <td>среднее</td>\n",
       "      <td>1</td>\n",
       "      <td>женат / замужем</td>\n",
       "      <td>0</td>\n",
       "      <td>M</td>\n",
       "      <td>сотрудник</td>\n",
       "      <td>0</td>\n",
       "      <td>142594</td>\n",
       "      <td>строительство жилой недвижимости</td>\n",
       "      <td>-1574.202821</td>\n",
       "    </tr>\n",
       "    <tr>\n",
       "      <td>7808</td>\n",
       "      <td>0</td>\n",
       "      <td>365213</td>\n",
       "      <td>57</td>\n",
       "      <td>среднее</td>\n",
       "      <td>1</td>\n",
       "      <td>гражданский брак</td>\n",
       "      <td>1</td>\n",
       "      <td>F</td>\n",
       "      <td>пенсионер</td>\n",
       "      <td>0</td>\n",
       "      <td>118514</td>\n",
       "      <td>на проведение свадьбы</td>\n",
       "      <td>365213.306266</td>\n",
       "    </tr>\n",
       "    <tr>\n",
       "      <td>7921</td>\n",
       "      <td>0</td>\n",
       "      <td>365213</td>\n",
       "      <td>64</td>\n",
       "      <td>высшее</td>\n",
       "      <td>0</td>\n",
       "      <td>гражданский брак</td>\n",
       "      <td>1</td>\n",
       "      <td>F</td>\n",
       "      <td>пенсионер</td>\n",
       "      <td>0</td>\n",
       "      <td>118514</td>\n",
       "      <td>на проведение свадьбы</td>\n",
       "      <td>365213.306266</td>\n",
       "    </tr>\n",
       "    <tr>\n",
       "      <td>7938</td>\n",
       "      <td>0</td>\n",
       "      <td>365213</td>\n",
       "      <td>71</td>\n",
       "      <td>среднее</td>\n",
       "      <td>1</td>\n",
       "      <td>гражданский брак</td>\n",
       "      <td>1</td>\n",
       "      <td>F</td>\n",
       "      <td>пенсионер</td>\n",
       "      <td>0</td>\n",
       "      <td>118514</td>\n",
       "      <td>на проведение свадьбы</td>\n",
       "      <td>365213.306266</td>\n",
       "    </tr>\n",
       "    <tr>\n",
       "      <td>8583</td>\n",
       "      <td>0</td>\n",
       "      <td>365213</td>\n",
       "      <td>58</td>\n",
       "      <td>высшее</td>\n",
       "      <td>0</td>\n",
       "      <td>не женат / не замужем</td>\n",
       "      <td>4</td>\n",
       "      <td>F</td>\n",
       "      <td>пенсионер</td>\n",
       "      <td>0</td>\n",
       "      <td>118514</td>\n",
       "      <td>дополнительное образование</td>\n",
       "      <td>365213.306266</td>\n",
       "    </tr>\n",
       "    <tr>\n",
       "      <td>9238</td>\n",
       "      <td>2</td>\n",
       "      <td>1574</td>\n",
       "      <td>34</td>\n",
       "      <td>среднее</td>\n",
       "      <td>1</td>\n",
       "      <td>женат / замужем</td>\n",
       "      <td>0</td>\n",
       "      <td>F</td>\n",
       "      <td>сотрудник</td>\n",
       "      <td>0</td>\n",
       "      <td>142594</td>\n",
       "      <td>покупка жилья для сдачи</td>\n",
       "      <td>-1574.202821</td>\n",
       "    </tr>\n",
       "    <tr>\n",
       "      <td>9528</td>\n",
       "      <td>0</td>\n",
       "      <td>365213</td>\n",
       "      <td>66</td>\n",
       "      <td>среднее</td>\n",
       "      <td>1</td>\n",
       "      <td>вдовец / вдова</td>\n",
       "      <td>2</td>\n",
       "      <td>F</td>\n",
       "      <td>пенсионер</td>\n",
       "      <td>0</td>\n",
       "      <td>118514</td>\n",
       "      <td>операции со своей недвижимостью</td>\n",
       "      <td>365213.306266</td>\n",
       "    </tr>\n",
       "    <tr>\n",
       "      <td>9604</td>\n",
       "      <td>0</td>\n",
       "      <td>365213</td>\n",
       "      <td>71</td>\n",
       "      <td>среднее</td>\n",
       "      <td>1</td>\n",
       "      <td>гражданский брак</td>\n",
       "      <td>1</td>\n",
       "      <td>F</td>\n",
       "      <td>пенсионер</td>\n",
       "      <td>0</td>\n",
       "      <td>118514</td>\n",
       "      <td>на проведение свадьбы</td>\n",
       "      <td>365213.306266</td>\n",
       "    </tr>\n",
       "    <tr>\n",
       "      <td>9627</td>\n",
       "      <td>0</td>\n",
       "      <td>365213</td>\n",
       "      <td>56</td>\n",
       "      <td>среднее</td>\n",
       "      <td>1</td>\n",
       "      <td>женат / замужем</td>\n",
       "      <td>0</td>\n",
       "      <td>F</td>\n",
       "      <td>пенсионер</td>\n",
       "      <td>0</td>\n",
       "      <td>118514</td>\n",
       "      <td>операции со своей недвижимостью</td>\n",
       "      <td>365213.306266</td>\n",
       "    </tr>\n",
       "    <tr>\n",
       "      <td>9855</td>\n",
       "      <td>0</td>\n",
       "      <td>365213</td>\n",
       "      <td>62</td>\n",
       "      <td>среднее</td>\n",
       "      <td>1</td>\n",
       "      <td>женат / замужем</td>\n",
       "      <td>0</td>\n",
       "      <td>F</td>\n",
       "      <td>пенсионер</td>\n",
       "      <td>0</td>\n",
       "      <td>118514</td>\n",
       "      <td>получение дополнительного образования</td>\n",
       "      <td>365213.306266</td>\n",
       "    </tr>\n",
       "    <tr>\n",
       "      <td>10462</td>\n",
       "      <td>0</td>\n",
       "      <td>365213</td>\n",
       "      <td>62</td>\n",
       "      <td>среднее</td>\n",
       "      <td>1</td>\n",
       "      <td>женат / замужем</td>\n",
       "      <td>0</td>\n",
       "      <td>F</td>\n",
       "      <td>пенсионер</td>\n",
       "      <td>0</td>\n",
       "      <td>118514</td>\n",
       "      <td>покупка коммерческой недвижимости</td>\n",
       "      <td>365213.306266</td>\n",
       "    </tr>\n",
       "    <tr>\n",
       "      <td>10697</td>\n",
       "      <td>0</td>\n",
       "      <td>1547</td>\n",
       "      <td>40</td>\n",
       "      <td>среднее</td>\n",
       "      <td>1</td>\n",
       "      <td>гражданский брак</td>\n",
       "      <td>1</td>\n",
       "      <td>F</td>\n",
       "      <td>компаньон</td>\n",
       "      <td>0</td>\n",
       "      <td>172357</td>\n",
       "      <td>сыграть свадьбу</td>\n",
       "      <td>-1547.382223</td>\n",
       "    </tr>\n",
       "    <tr>\n",
       "      <td>10864</td>\n",
       "      <td>0</td>\n",
       "      <td>365213</td>\n",
       "      <td>62</td>\n",
       "      <td>среднее</td>\n",
       "      <td>1</td>\n",
       "      <td>женат / замужем</td>\n",
       "      <td>0</td>\n",
       "      <td>F</td>\n",
       "      <td>пенсионер</td>\n",
       "      <td>0</td>\n",
       "      <td>118514</td>\n",
       "      <td>ремонт жилью</td>\n",
       "      <td>365213.306266</td>\n",
       "    </tr>\n",
       "    <tr>\n",
       "      <td>10994</td>\n",
       "      <td>0</td>\n",
       "      <td>365213</td>\n",
       "      <td>62</td>\n",
       "      <td>среднее</td>\n",
       "      <td>1</td>\n",
       "      <td>женат / замужем</td>\n",
       "      <td>0</td>\n",
       "      <td>F</td>\n",
       "      <td>пенсионер</td>\n",
       "      <td>0</td>\n",
       "      <td>118514</td>\n",
       "      <td>ремонт жилью</td>\n",
       "      <td>365213.306266</td>\n",
       "    </tr>\n",
       "    <tr>\n",
       "      <td>11791</td>\n",
       "      <td>0</td>\n",
       "      <td>1574</td>\n",
       "      <td>47</td>\n",
       "      <td>среднее</td>\n",
       "      <td>1</td>\n",
       "      <td>женат / замужем</td>\n",
       "      <td>0</td>\n",
       "      <td>F</td>\n",
       "      <td>сотрудник</td>\n",
       "      <td>0</td>\n",
       "      <td>142594</td>\n",
       "      <td>строительство недвижимости</td>\n",
       "      <td>-1574.202821</td>\n",
       "    </tr>\n",
       "  </tbody>\n",
       "</table>\n",
       "</div>"
      ],
      "text/plain": [
       "       children  days_employed  dob_years education  education_id  \\\n",
       "2849          0           1574         41   среднее             1   \n",
       "3290          0         365213         58   среднее             1   \n",
       "4182          1           1574         34    высшее             0   \n",
       "4851          0         365213         60   среднее             1   \n",
       "5557          0         365213         58   среднее             1   \n",
       "6312          0           1574         30   среднее             1   \n",
       "7808          0         365213         57   среднее             1   \n",
       "7921          0         365213         64    высшее             0   \n",
       "7938          0         365213         71   среднее             1   \n",
       "8583          0         365213         58    высшее             0   \n",
       "9238          2           1574         34   среднее             1   \n",
       "9528          0         365213         66   среднее             1   \n",
       "9604          0         365213         71   среднее             1   \n",
       "9627          0         365213         56   среднее             1   \n",
       "9855          0         365213         62   среднее             1   \n",
       "10462         0         365213         62   среднее             1   \n",
       "10697         0           1547         40   среднее             1   \n",
       "10864         0         365213         62   среднее             1   \n",
       "10994         0         365213         62   среднее             1   \n",
       "11791         0           1574         47   среднее             1   \n",
       "\n",
       "               family_status  family_status_id gender income_type  debt  \\\n",
       "2849         женат / замужем                 0      F   сотрудник     0   \n",
       "3290        гражданский брак                 1      F   пенсионер     0   \n",
       "4182        гражданский брак                 1      F   сотрудник     0   \n",
       "4851        гражданский брак                 1      F   пенсионер     0   \n",
       "5557        гражданский брак                 1      F   пенсионер     0   \n",
       "6312         женат / замужем                 0      M   сотрудник     0   \n",
       "7808        гражданский брак                 1      F   пенсионер     0   \n",
       "7921        гражданский брак                 1      F   пенсионер     0   \n",
       "7938        гражданский брак                 1      F   пенсионер     0   \n",
       "8583   не женат / не замужем                 4      F   пенсионер     0   \n",
       "9238         женат / замужем                 0      F   сотрудник     0   \n",
       "9528          вдовец / вдова                 2      F   пенсионер     0   \n",
       "9604        гражданский брак                 1      F   пенсионер     0   \n",
       "9627         женат / замужем                 0      F   пенсионер     0   \n",
       "9855         женат / замужем                 0      F   пенсионер     0   \n",
       "10462        женат / замужем                 0      F   пенсионер     0   \n",
       "10697       гражданский брак                 1      F   компаньон     0   \n",
       "10864        женат / замужем                 0      F   пенсионер     0   \n",
       "10994        женат / замужем                 0      F   пенсионер     0   \n",
       "11791        женат / замужем                 0      F   сотрудник     0   \n",
       "\n",
       "       total_income                                purpose  days_employed   \n",
       "2849         142594                покупка жилья для семьи    -1574.202821  \n",
       "3290         118514                        сыграть свадьбу   365213.306266  \n",
       "4182         142594                                свадьба    -1574.202821  \n",
       "4851         118514                                свадьба   365213.306266  \n",
       "5557         118514                        сыграть свадьбу   365213.306266  \n",
       "6312         142594       строительство жилой недвижимости    -1574.202821  \n",
       "7808         118514                  на проведение свадьбы   365213.306266  \n",
       "7921         118514                  на проведение свадьбы   365213.306266  \n",
       "7938         118514                  на проведение свадьбы   365213.306266  \n",
       "8583         118514             дополнительное образование   365213.306266  \n",
       "9238         142594                покупка жилья для сдачи    -1574.202821  \n",
       "9528         118514        операции со своей недвижимостью   365213.306266  \n",
       "9604         118514                  на проведение свадьбы   365213.306266  \n",
       "9627         118514        операции со своей недвижимостью   365213.306266  \n",
       "9855         118514  получение дополнительного образования   365213.306266  \n",
       "10462        118514      покупка коммерческой недвижимости   365213.306266  \n",
       "10697        172357                        сыграть свадьбу    -1547.382223  \n",
       "10864        118514                           ремонт жилью   365213.306266  \n",
       "10994        118514                           ремонт жилью   365213.306266  \n",
       "11791        142594             строительство недвижимости    -1574.202821  "
      ]
     },
     "metadata": {},
     "output_type": "display_data"
    }
   ],
   "source": [
    "# Посмотрим датафрейм с дубликатами\n",
    "duplicated_data = data[data.duplicated()].head(20) \n",
    "display(duplicated_data) "
   ]
  },
  {
   "cell_type": "code",
   "execution_count": 344,
   "metadata": {},
   "outputs": [],
   "source": [
    "# Удаление явных дубликатов\n",
    "data = data.drop_duplicates().reset_index()"
   ]
  },
  {
   "cell_type": "code",
   "execution_count": 345,
   "metadata": {},
   "outputs": [
    {
     "data": {
      "text/plain": [
       "0"
      ]
     },
     "execution_count": 345,
     "metadata": {},
     "output_type": "execute_result"
    }
   ],
   "source": [
    "# Проверим удлаились ли дубликаты\n",
    "data.duplicated().sum()"
   ]
  },
  {
   "cell_type": "code",
   "execution_count": 346,
   "metadata": {},
   "outputs": [],
   "source": [
    "# Методом unique() проверим неявный дубли"
   ]
  },
  {
   "cell_type": "code",
   "execution_count": 347,
   "metadata": {},
   "outputs": [
    {
     "data": {
      "text/plain": [
       "array([1, 0, 3, 2, 4, 5])"
      ]
     },
     "execution_count": 347,
     "metadata": {},
     "output_type": "execute_result"
    }
   ],
   "source": [
    "data['children'].unique()"
   ]
  },
  {
   "cell_type": "code",
   "execution_count": 348,
   "metadata": {},
   "outputs": [
    {
     "data": {
      "text/plain": [
       "array(['высшее', 'среднее', 'неоконченное высшее', 'начальное',\n",
       "       'ученая степень'], dtype=object)"
      ]
     },
     "execution_count": 348,
     "metadata": {},
     "output_type": "execute_result"
    }
   ],
   "source": [
    "data['education'].unique()"
   ]
  },
  {
   "cell_type": "code",
   "execution_count": 349,
   "metadata": {},
   "outputs": [
    {
     "data": {
      "text/plain": [
       "array(['женат / замужем', 'гражданский брак', 'вдовец / вдова',\n",
       "       'в разводе', 'не женат / не замужем'], dtype=object)"
      ]
     },
     "execution_count": 349,
     "metadata": {},
     "output_type": "execute_result"
    }
   ],
   "source": [
    "data['family_status'].unique()"
   ]
  },
  {
   "cell_type": "code",
   "execution_count": 350,
   "metadata": {},
   "outputs": [
    {
     "data": {
      "text/plain": [
       "array(['сотрудник', 'пенсионер', 'компаньон', 'госслужащий',\n",
       "       'безработный', 'предприниматель', 'студент', 'в декрете'],\n",
       "      dtype=object)"
      ]
     },
     "execution_count": 350,
     "metadata": {},
     "output_type": "execute_result"
    }
   ],
   "source": [
    "data['income_type'].unique()"
   ]
  },
  {
   "cell_type": "code",
   "execution_count": 351,
   "metadata": {},
   "outputs": [
    {
     "data": {
      "text/plain": [
       "array(['покупка жилья', 'приобретение автомобиля',\n",
       "       'дополнительное образование', 'сыграть свадьбу',\n",
       "       'операции с жильем', 'образование', 'на проведение свадьбы',\n",
       "       'покупка жилья для семьи', 'покупка недвижимости',\n",
       "       'покупка коммерческой недвижимости', 'покупка жилой недвижимости',\n",
       "       'строительство собственной недвижимости', 'недвижимость',\n",
       "       'строительство недвижимости', 'на покупку подержанного автомобиля',\n",
       "       'на покупку своего автомобиля',\n",
       "       'операции с коммерческой недвижимостью',\n",
       "       'строительство жилой недвижимости', 'жилье',\n",
       "       'операции со своей недвижимостью', 'автомобили',\n",
       "       'заняться образованием', 'сделка с подержанным автомобилем',\n",
       "       'получение образования', 'автомобиль', 'свадьба',\n",
       "       'получение дополнительного образования', 'покупка своего жилья',\n",
       "       'операции с недвижимостью', 'получение высшего образования',\n",
       "       'свой автомобиль', 'сделка с автомобилем',\n",
       "       'профильное образование', 'высшее образование',\n",
       "       'покупка жилья для сдачи', 'на покупку автомобиля', 'ремонт жилью',\n",
       "       'заняться высшим образованием'], dtype=object)"
      ]
     },
     "execution_count": 351,
     "metadata": {},
     "output_type": "execute_result"
    }
   ],
   "source": [
    "data['purpose'].unique()"
   ]
  },
  {
   "cell_type": "markdown",
   "metadata": {},
   "source": [
    "**Вывод**\n",
    "\n",
    "<li>Выявили и удалили явные дубли таблице.</li>\n",
    "<li>Выяывили неявные дубли в колонке purpose, к примеру 'высшее образование' и 'получение высшего образования' являются смысловыми дублями. Для обработки потребуется лемматизация</li>\n"
   ]
  },
  {
   "cell_type": "markdown",
   "metadata": {},
   "source": [
    "### Лемматизация"
   ]
  },
  {
   "cell_type": "code",
   "execution_count": 352,
   "metadata": {},
   "outputs": [],
   "source": [
    "# Функция для лемматизации категорий колонки purpose. \n",
    "# Приведем слова строк к словарной форме и добавим соответсвущие значения в выбранные категории.\n",
    "def purpose_lemma(value):\n",
    "    lemmas = m.lemmatize(value)\n",
    "    for word in lemmas:\n",
    "        try:\n",
    "            if 'свадьба' in word:\n",
    "                return 'свадьба'\n",
    "        \n",
    "            if 'недвижимость' in word:\n",
    "                return 'недвижимость'\n",
    "        \n",
    "            if 'жилье' in word:\n",
    "                return 'недвижимость'\n",
    "        \n",
    "            if 'автомобиль' in word:\n",
    "                return 'автомобиль'\n",
    "        \n",
    "            if 'образование' in word:\n",
    "                return 'образование'\n",
    "\n",
    "        except:\n",
    "            print('Error in lemmatization')"
   ]
  },
  {
   "cell_type": "code",
   "execution_count": 353,
   "metadata": {},
   "outputs": [],
   "source": [
    "# новая колонка с распределенными данными\n",
    "data['grouped_purpose'] = data['purpose'].apply(purpose_lemma)"
   ]
  },
  {
   "cell_type": "code",
   "execution_count": 354,
   "metadata": {},
   "outputs": [
    {
     "data": {
      "text/plain": [
       "недвижимость    10811\n",
       "автомобиль       4306\n",
       "образование      4013\n",
       "свадьба          2323\n",
       "Name: grouped_purpose, dtype: int64"
      ]
     },
     "execution_count": 354,
     "metadata": {},
     "output_type": "execute_result"
    }
   ],
   "source": [
    "# проверим какие категории теперь у нас имеются\n",
    "data['grouped_purpose'].value_counts()"
   ]
  },
  {
   "cell_type": "markdown",
   "metadata": {},
   "source": [
    "**Вывод**\n",
    "\n",
    "<li>Лемматизацией удалось избавится от неявных дублей категорий. Выявили основные четыре категории в колонке purpose</li>"
   ]
  },
  {
   "cell_type": "markdown",
   "metadata": {},
   "source": [
    "### Категоризация данных"
   ]
  },
  {
   "cell_type": "code",
   "execution_count": 355,
   "metadata": {},
   "outputs": [
    {
     "data": {
      "text/plain": [
       "142594.0"
      ]
     },
     "execution_count": 355,
     "metadata": {},
     "output_type": "execute_result"
    }
   ],
   "source": [
    "#  Рассчитаем медианау колонки total_income\n",
    "data['total_income'].median() \n"
   ]
  },
  {
   "cell_type": "code",
   "execution_count": 356,
   "metadata": {},
   "outputs": [],
   "source": [
    "# Сегметируем численные данные на категории с помощью функции cut. Полученные категории поместим в колонку grouped_total_income, которую в свою очередь добавим в датафрейм.\n",
    "data['grouped_total_income'] = pd.cut(data['total_income'], bins=[0, 54000, 135781, 200000, 2300000], include_lowest=True, labels=['низкий доход', 'средний доход', 'доход выше среднего','высокий доход'])"
   ]
  },
  {
   "cell_type": "code",
   "execution_count": 357,
   "metadata": {},
   "outputs": [
    {
     "data": {
      "text/plain": [
       "средний доход          8484\n",
       "доход выше среднего    7376\n",
       "высокий доход          5067\n",
       "низкий доход            526\n",
       "Name: grouped_total_income, dtype: int64"
      ]
     },
     "execution_count": 357,
     "metadata": {},
     "output_type": "execute_result"
    }
   ],
   "source": [
    "data['grouped_total_income'].value_counts()"
   ]
  },
  {
   "cell_type": "code",
   "execution_count": 358,
   "metadata": {},
   "outputs": [
    {
     "data": {
      "text/html": [
       "<div>\n",
       "<style scoped>\n",
       "    .dataframe tbody tr th:only-of-type {\n",
       "        vertical-align: middle;\n",
       "    }\n",
       "\n",
       "    .dataframe tbody tr th {\n",
       "        vertical-align: top;\n",
       "    }\n",
       "\n",
       "    .dataframe thead th {\n",
       "        text-align: right;\n",
       "    }\n",
       "</style>\n",
       "<table border=\"1\" class=\"dataframe\">\n",
       "  <thead>\n",
       "    <tr style=\"text-align: right;\">\n",
       "      <th></th>\n",
       "      <th>index</th>\n",
       "      <th>children</th>\n",
       "      <th>days_employed</th>\n",
       "      <th>dob_years</th>\n",
       "      <th>education</th>\n",
       "      <th>education_id</th>\n",
       "      <th>family_status</th>\n",
       "      <th>family_status_id</th>\n",
       "      <th>gender</th>\n",
       "      <th>income_type</th>\n",
       "      <th>debt</th>\n",
       "      <th>total_income</th>\n",
       "      <th>purpose</th>\n",
       "      <th>days_employed</th>\n",
       "      <th>grouped_purpose</th>\n",
       "      <th>grouped_total_income</th>\n",
       "    </tr>\n",
       "  </thead>\n",
       "  <tbody>\n",
       "    <tr>\n",
       "      <td>0</td>\n",
       "      <td>0</td>\n",
       "      <td>1</td>\n",
       "      <td>8437</td>\n",
       "      <td>42</td>\n",
       "      <td>высшее</td>\n",
       "      <td>0</td>\n",
       "      <td>женат / замужем</td>\n",
       "      <td>0</td>\n",
       "      <td>F</td>\n",
       "      <td>сотрудник</td>\n",
       "      <td>0</td>\n",
       "      <td>253875</td>\n",
       "      <td>покупка жилья</td>\n",
       "      <td>-8437.673028</td>\n",
       "      <td>недвижимость</td>\n",
       "      <td>высокий доход</td>\n",
       "    </tr>\n",
       "    <tr>\n",
       "      <td>1</td>\n",
       "      <td>1</td>\n",
       "      <td>1</td>\n",
       "      <td>4024</td>\n",
       "      <td>36</td>\n",
       "      <td>среднее</td>\n",
       "      <td>1</td>\n",
       "      <td>женат / замужем</td>\n",
       "      <td>0</td>\n",
       "      <td>F</td>\n",
       "      <td>сотрудник</td>\n",
       "      <td>0</td>\n",
       "      <td>112080</td>\n",
       "      <td>приобретение автомобиля</td>\n",
       "      <td>-4024.803754</td>\n",
       "      <td>автомобиль</td>\n",
       "      <td>средний доход</td>\n",
       "    </tr>\n",
       "    <tr>\n",
       "      <td>2</td>\n",
       "      <td>2</td>\n",
       "      <td>0</td>\n",
       "      <td>5623</td>\n",
       "      <td>33</td>\n",
       "      <td>среднее</td>\n",
       "      <td>1</td>\n",
       "      <td>женат / замужем</td>\n",
       "      <td>0</td>\n",
       "      <td>M</td>\n",
       "      <td>сотрудник</td>\n",
       "      <td>0</td>\n",
       "      <td>145885</td>\n",
       "      <td>покупка жилья</td>\n",
       "      <td>-5623.422610</td>\n",
       "      <td>недвижимость</td>\n",
       "      <td>доход выше среднего</td>\n",
       "    </tr>\n",
       "    <tr>\n",
       "      <td>3</td>\n",
       "      <td>3</td>\n",
       "      <td>3</td>\n",
       "      <td>4124</td>\n",
       "      <td>32</td>\n",
       "      <td>среднее</td>\n",
       "      <td>1</td>\n",
       "      <td>женат / замужем</td>\n",
       "      <td>0</td>\n",
       "      <td>M</td>\n",
       "      <td>сотрудник</td>\n",
       "      <td>0</td>\n",
       "      <td>267628</td>\n",
       "      <td>дополнительное образование</td>\n",
       "      <td>-4124.747207</td>\n",
       "      <td>образование</td>\n",
       "      <td>высокий доход</td>\n",
       "    </tr>\n",
       "    <tr>\n",
       "      <td>4</td>\n",
       "      <td>4</td>\n",
       "      <td>0</td>\n",
       "      <td>340266</td>\n",
       "      <td>53</td>\n",
       "      <td>среднее</td>\n",
       "      <td>1</td>\n",
       "      <td>гражданский брак</td>\n",
       "      <td>1</td>\n",
       "      <td>F</td>\n",
       "      <td>пенсионер</td>\n",
       "      <td>0</td>\n",
       "      <td>158616</td>\n",
       "      <td>сыграть свадьбу</td>\n",
       "      <td>340266.072047</td>\n",
       "      <td>свадьба</td>\n",
       "      <td>доход выше среднего</td>\n",
       "    </tr>\n",
       "  </tbody>\n",
       "</table>\n",
       "</div>"
      ],
      "text/plain": [
       "   index  children  days_employed  dob_years education  education_id  \\\n",
       "0      0         1           8437         42    высшее             0   \n",
       "1      1         1           4024         36   среднее             1   \n",
       "2      2         0           5623         33   среднее             1   \n",
       "3      3         3           4124         32   среднее             1   \n",
       "4      4         0         340266         53   среднее             1   \n",
       "\n",
       "      family_status  family_status_id gender income_type  debt  total_income  \\\n",
       "0   женат / замужем                 0      F   сотрудник     0        253875   \n",
       "1   женат / замужем                 0      F   сотрудник     0        112080   \n",
       "2   женат / замужем                 0      M   сотрудник     0        145885   \n",
       "3   женат / замужем                 0      M   сотрудник     0        267628   \n",
       "4  гражданский брак                 1      F   пенсионер     0        158616   \n",
       "\n",
       "                      purpose  days_employed  grouped_purpose  \\\n",
       "0               покупка жилья    -8437.673028    недвижимость   \n",
       "1     приобретение автомобиля    -4024.803754      автомобиль   \n",
       "2               покупка жилья    -5623.422610    недвижимость   \n",
       "3  дополнительное образование    -4124.747207     образование   \n",
       "4             сыграть свадьбу   340266.072047         свадьба   \n",
       "\n",
       "  grouped_total_income  \n",
       "0        высокий доход  \n",
       "1        средний доход  \n",
       "2  доход выше среднего  \n",
       "3        высокий доход  \n",
       "4  доход выше среднего  "
      ]
     },
     "execution_count": 358,
     "metadata": {},
     "output_type": "execute_result"
    }
   ],
   "source": [
    "data.head()"
   ]
  },
  {
   "cell_type": "markdown",
   "metadata": {},
   "source": [
    "**Вывод**"
   ]
  },
  {
   "cell_type": "markdown",
   "metadata": {},
   "source": [
    "1. Использовали медиану колонки total_income для формирования категорий уровня дохода заемщиков\n",
    "2. Взяли данные по средней заработной плате в России за 2021 г. для формирования категорий. Числовые данные разделили на несколько сегментов (категорий) для дальнейшего анализа. Использовали для этого функцию cut\n",
    "3. Создали новую колонку grouped_total_income в дадафрейме и поместили в нее категории уровня дохода\n"
   ]
  },
  {
   "cell_type": "code",
   "execution_count": 381,
   "metadata": {},
   "outputs": [],
   "source": [
    "# Создадим категории бездетные, малодетные, многодетные \n",
    "def group_children(children):\n",
    "    if children == 0:\n",
    "        return 'бездетные'\n",
    "    if 0 < children < 3:\n",
    "        return 'малодетные'\n",
    "    if  children > 2:\n",
    "        return 'многодетные'\n",
    "    "
   ]
  },
  {
   "cell_type": "code",
   "execution_count": null,
   "metadata": {},
   "outputs": [],
   "source": [
    "data['group_children'] = data['children'].apply(group_children)"
   ]
  },
  {
   "cell_type": "code",
   "execution_count": 374,
   "metadata": {},
   "outputs": [
    {
     "data": {
      "text/plain": [
       "бездетные      14090\n",
       "малодетные      6983\n",
       "многодетные      380\n",
       "Name: group_children, dtype: int64"
      ]
     },
     "execution_count": 374,
     "metadata": {},
     "output_type": "execute_result"
    }
   ],
   "source": [
    "data['group_children'].value_counts()"
   ]
  },
  {
   "cell_type": "code",
   "execution_count": 382,
   "metadata": {},
   "outputs": [],
   "source": [
    "# Создадим категории бездетные, имеют детей\n",
    "def group_children_two(children):\n",
    "    if children == 0:\n",
    "        return 'Нет детей'\n",
    "    else:\n",
    "        return 'Есть дети'"
   ]
  },
  {
   "cell_type": "code",
   "execution_count": 383,
   "metadata": {},
   "outputs": [],
   "source": [
    "data['group_children_two'] = data['children'].apply(group_children_two)"
   ]
  },
  {
   "cell_type": "code",
   "execution_count": 384,
   "metadata": {},
   "outputs": [
    {
     "data": {
      "text/plain": [
       "Нет детей    14090\n",
       "Есть дети     7363\n",
       "Name: group_children_two, dtype: int64"
      ]
     },
     "execution_count": 384,
     "metadata": {},
     "output_type": "execute_result"
    }
   ],
   "source": [
    "data['group_children_two'].value_counts()"
   ]
  },
  {
   "cell_type": "markdown",
   "metadata": {},
   "source": [
    "##  Отвечаем на вопросы"
   ]
  },
  {
   "cell_type": "markdown",
   "metadata": {},
   "source": [
    "- Есть ли зависимость между наличием детей и возвратом кредита в срок?"
   ]
  },
  {
   "cell_type": "code",
   "execution_count": 367,
   "metadata": {},
   "outputs": [
    {
     "data": {
      "text/html": [
       "<div>\n",
       "<style scoped>\n",
       "    .dataframe tbody tr th:only-of-type {\n",
       "        vertical-align: middle;\n",
       "    }\n",
       "\n",
       "    .dataframe tbody tr th {\n",
       "        vertical-align: top;\n",
       "    }\n",
       "\n",
       "    .dataframe thead tr th {\n",
       "        text-align: left;\n",
       "    }\n",
       "\n",
       "    .dataframe thead tr:last-of-type th {\n",
       "        text-align: right;\n",
       "    }\n",
       "</style>\n",
       "<table border=\"1\" class=\"dataframe\">\n",
       "  <thead>\n",
       "    <tr>\n",
       "      <th></th>\n",
       "      <th>count</th>\n",
       "      <th>sum</th>\n",
       "      <th>mean</th>\n",
       "    </tr>\n",
       "    <tr>\n",
       "      <th></th>\n",
       "      <th>debt</th>\n",
       "      <th>debt</th>\n",
       "      <th>debt</th>\n",
       "    </tr>\n",
       "    <tr>\n",
       "      <th>children</th>\n",
       "      <th></th>\n",
       "      <th></th>\n",
       "      <th></th>\n",
       "    </tr>\n",
       "  </thead>\n",
       "  <tbody>\n",
       "    <tr>\n",
       "      <td>0</td>\n",
       "      <td>14090</td>\n",
       "      <td>1063</td>\n",
       "      <td>0.075444</td>\n",
       "    </tr>\n",
       "    <tr>\n",
       "      <td>1</td>\n",
       "      <td>4855</td>\n",
       "      <td>445</td>\n",
       "      <td>0.091658</td>\n",
       "    </tr>\n",
       "    <tr>\n",
       "      <td>2</td>\n",
       "      <td>2128</td>\n",
       "      <td>202</td>\n",
       "      <td>0.094925</td>\n",
       "    </tr>\n",
       "    <tr>\n",
       "      <td>3</td>\n",
       "      <td>330</td>\n",
       "      <td>27</td>\n",
       "      <td>0.081818</td>\n",
       "    </tr>\n",
       "    <tr>\n",
       "      <td>4</td>\n",
       "      <td>41</td>\n",
       "      <td>4</td>\n",
       "      <td>0.097561</td>\n",
       "    </tr>\n",
       "    <tr>\n",
       "      <td>5</td>\n",
       "      <td>9</td>\n",
       "      <td>0</td>\n",
       "      <td>0.000000</td>\n",
       "    </tr>\n",
       "  </tbody>\n",
       "</table>\n",
       "</div>"
      ],
      "text/plain": [
       "          count   sum      mean\n",
       "           debt  debt      debt\n",
       "children                       \n",
       "0         14090  1063  0.075444\n",
       "1          4855   445  0.091658\n",
       "2          2128   202  0.094925\n",
       "3           330    27  0.081818\n",
       "4            41     4  0.097561\n",
       "5             9     0  0.000000"
      ]
     },
     "execution_count": 367,
     "metadata": {},
     "output_type": "execute_result"
    }
   ],
   "source": [
    "# С помощью pivot_table посмотрим сводную таблицу. Посмотрим взаимосвязь колонок children и debt\n",
    "pd.pivot_table(data, index='children', values='debt', aggfunc = ['count', 'sum', 'mean'])"
   ]
  },
  {
   "cell_type": "code",
   "execution_count": 386,
   "metadata": {},
   "outputs": [
    {
     "data": {
      "text/html": [
       "<div>\n",
       "<style scoped>\n",
       "    .dataframe tbody tr th:only-of-type {\n",
       "        vertical-align: middle;\n",
       "    }\n",
       "\n",
       "    .dataframe tbody tr th {\n",
       "        vertical-align: top;\n",
       "    }\n",
       "\n",
       "    .dataframe thead tr th {\n",
       "        text-align: left;\n",
       "    }\n",
       "\n",
       "    .dataframe thead tr:last-of-type th {\n",
       "        text-align: right;\n",
       "    }\n",
       "</style>\n",
       "<table border=\"1\" class=\"dataframe\">\n",
       "  <thead>\n",
       "    <tr>\n",
       "      <th></th>\n",
       "      <th>count</th>\n",
       "      <th>sum</th>\n",
       "      <th>mean</th>\n",
       "    </tr>\n",
       "    <tr>\n",
       "      <th></th>\n",
       "      <th>debt</th>\n",
       "      <th>debt</th>\n",
       "      <th>debt</th>\n",
       "    </tr>\n",
       "    <tr>\n",
       "      <th>group_children</th>\n",
       "      <th></th>\n",
       "      <th></th>\n",
       "      <th></th>\n",
       "    </tr>\n",
       "  </thead>\n",
       "  <tbody>\n",
       "    <tr>\n",
       "      <td>бездетные</td>\n",
       "      <td>14090</td>\n",
       "      <td>1063</td>\n",
       "      <td>0.075444</td>\n",
       "    </tr>\n",
       "    <tr>\n",
       "      <td>малодетные</td>\n",
       "      <td>6983</td>\n",
       "      <td>647</td>\n",
       "      <td>0.092654</td>\n",
       "    </tr>\n",
       "    <tr>\n",
       "      <td>многодетные</td>\n",
       "      <td>380</td>\n",
       "      <td>31</td>\n",
       "      <td>0.081579</td>\n",
       "    </tr>\n",
       "  </tbody>\n",
       "</table>\n",
       "</div>"
      ],
      "text/plain": [
       "                count   sum      mean\n",
       "                 debt  debt      debt\n",
       "group_children                       \n",
       "бездетные       14090  1063  0.075444\n",
       "малодетные       6983   647  0.092654\n",
       "многодетные       380    31  0.081579"
      ]
     },
     "execution_count": 386,
     "metadata": {},
     "output_type": "execute_result"
    }
   ],
   "source": [
    "pd.pivot_table(data, index='group_children', values='debt', aggfunc = ['count', 'sum', 'mean'])"
   ]
  },
  {
   "cell_type": "code",
   "execution_count": 387,
   "metadata": {},
   "outputs": [
    {
     "data": {
      "text/html": [
       "<div>\n",
       "<style scoped>\n",
       "    .dataframe tbody tr th:only-of-type {\n",
       "        vertical-align: middle;\n",
       "    }\n",
       "\n",
       "    .dataframe tbody tr th {\n",
       "        vertical-align: top;\n",
       "    }\n",
       "\n",
       "    .dataframe thead tr th {\n",
       "        text-align: left;\n",
       "    }\n",
       "\n",
       "    .dataframe thead tr:last-of-type th {\n",
       "        text-align: right;\n",
       "    }\n",
       "</style>\n",
       "<table border=\"1\" class=\"dataframe\">\n",
       "  <thead>\n",
       "    <tr>\n",
       "      <th></th>\n",
       "      <th>count</th>\n",
       "      <th>sum</th>\n",
       "      <th>mean</th>\n",
       "    </tr>\n",
       "    <tr>\n",
       "      <th></th>\n",
       "      <th>debt</th>\n",
       "      <th>debt</th>\n",
       "      <th>debt</th>\n",
       "    </tr>\n",
       "    <tr>\n",
       "      <th>group_children_two</th>\n",
       "      <th></th>\n",
       "      <th></th>\n",
       "      <th></th>\n",
       "    </tr>\n",
       "  </thead>\n",
       "  <tbody>\n",
       "    <tr>\n",
       "      <td>Есть дети</td>\n",
       "      <td>7363</td>\n",
       "      <td>678</td>\n",
       "      <td>0.092082</td>\n",
       "    </tr>\n",
       "    <tr>\n",
       "      <td>Нет детей</td>\n",
       "      <td>14090</td>\n",
       "      <td>1063</td>\n",
       "      <td>0.075444</td>\n",
       "    </tr>\n",
       "  </tbody>\n",
       "</table>\n",
       "</div>"
      ],
      "text/plain": [
       "                    count   sum      mean\n",
       "                     debt  debt      debt\n",
       "group_children_two                       \n",
       "Есть дети            7363   678  0.092082\n",
       "Нет детей           14090  1063  0.075444"
      ]
     },
     "execution_count": 387,
     "metadata": {},
     "output_type": "execute_result"
    }
   ],
   "source": [
    "pd.pivot_table(data, index='group_children_two', values='debt', aggfunc = ['count', 'sum', 'mean'])"
   ]
  },
  {
   "cell_type": "markdown",
   "metadata": {},
   "source": [
    "**Вывод**\n",
    "\n",
    "1. Заемщики с пятью детьми не имеют задолженностей по кредитам. \n",
    "2. Малодетные возращают кредиты хуже бездетных и многодетных.\n",
    "2. Бездетные возвращают кридиты лучше других категорий.\n"
   ]
  },
  {
   "cell_type": "markdown",
   "metadata": {},
   "source": [
    "- Есть ли зависимость между семейным положением и возвратом кредита в срок?"
   ]
  },
  {
   "cell_type": "code",
   "execution_count": 360,
   "metadata": {},
   "outputs": [
    {
     "data": {
      "text/html": [
       "<div>\n",
       "<style scoped>\n",
       "    .dataframe tbody tr th:only-of-type {\n",
       "        vertical-align: middle;\n",
       "    }\n",
       "\n",
       "    .dataframe tbody tr th {\n",
       "        vertical-align: top;\n",
       "    }\n",
       "\n",
       "    .dataframe thead th {\n",
       "        text-align: right;\n",
       "    }\n",
       "</style>\n",
       "<table border=\"1\" class=\"dataframe\">\n",
       "  <thead>\n",
       "    <tr style=\"text-align: right;\">\n",
       "      <th></th>\n",
       "      <th>debt</th>\n",
       "    </tr>\n",
       "    <tr>\n",
       "      <th>family_status</th>\n",
       "      <th></th>\n",
       "    </tr>\n",
       "  </thead>\n",
       "  <tbody>\n",
       "    <tr>\n",
       "      <td>вдовец / вдова</td>\n",
       "      <td>0.065693</td>\n",
       "    </tr>\n",
       "    <tr>\n",
       "      <td>в разводе</td>\n",
       "      <td>0.071130</td>\n",
       "    </tr>\n",
       "    <tr>\n",
       "      <td>женат / замужем</td>\n",
       "      <td>0.075452</td>\n",
       "    </tr>\n",
       "    <tr>\n",
       "      <td>гражданский брак</td>\n",
       "      <td>0.093494</td>\n",
       "    </tr>\n",
       "    <tr>\n",
       "      <td>не женат / не замужем</td>\n",
       "      <td>0.097509</td>\n",
       "    </tr>\n",
       "  </tbody>\n",
       "</table>\n",
       "</div>"
      ],
      "text/plain": [
       "                           debt\n",
       "family_status                  \n",
       "вдовец / вдова         0.065693\n",
       "в разводе              0.071130\n",
       "женат / замужем        0.075452\n",
       "гражданский брак       0.093494\n",
       "не женат / не замужем  0.097509"
      ]
     },
     "execution_count": 360,
     "metadata": {},
     "output_type": "execute_result"
    }
   ],
   "source": [
    "pd.pivot_table(data, index='family_status', values='debt').sort_values(by='debt', ascending=True)"
   ]
  },
  {
   "cell_type": "markdown",
   "metadata": {},
   "source": [
    "**Вывод**\n",
    "\n",
    "Семейное положение влиятет на возврат кредита заемщиками. Заемщики имевшие или имеющие узаконенные отношения чаще возвращают кредиты.  Заемщики состоящие в гражданском браке и заемщики ведущие одинокий образ жизни кредиты возвращают реже. "
   ]
  },
  {
   "cell_type": "markdown",
   "metadata": {},
   "source": [
    "- Есть ли зависимость между уровнем дохода и возвратом кредита в срок?"
   ]
  },
  {
   "cell_type": "code",
   "execution_count": 361,
   "metadata": {},
   "outputs": [
    {
     "data": {
      "text/html": [
       "<div>\n",
       "<style scoped>\n",
       "    .dataframe tbody tr th:only-of-type {\n",
       "        vertical-align: middle;\n",
       "    }\n",
       "\n",
       "    .dataframe tbody tr th {\n",
       "        vertical-align: top;\n",
       "    }\n",
       "\n",
       "    .dataframe thead th {\n",
       "        text-align: right;\n",
       "    }\n",
       "</style>\n",
       "<table border=\"1\" class=\"dataframe\">\n",
       "  <thead>\n",
       "    <tr style=\"text-align: right;\">\n",
       "      <th></th>\n",
       "      <th>debt</th>\n",
       "    </tr>\n",
       "    <tr>\n",
       "      <th>grouped_total_income</th>\n",
       "      <th></th>\n",
       "    </tr>\n",
       "  </thead>\n",
       "  <tbody>\n",
       "    <tr>\n",
       "      <td>низкий доход</td>\n",
       "      <td>0.064639</td>\n",
       "    </tr>\n",
       "    <tr>\n",
       "      <td>высокий доход</td>\n",
       "      <td>0.070653</td>\n",
       "    </tr>\n",
       "    <tr>\n",
       "      <td>средний доход</td>\n",
       "      <td>0.083451</td>\n",
       "    </tr>\n",
       "    <tr>\n",
       "      <td>доход выше среднего</td>\n",
       "      <td>0.086903</td>\n",
       "    </tr>\n",
       "  </tbody>\n",
       "</table>\n",
       "</div>"
      ],
      "text/plain": [
       "                          debt\n",
       "grouped_total_income          \n",
       "низкий доход          0.064639\n",
       "высокий доход         0.070653\n",
       "средний доход         0.083451\n",
       "доход выше среднего   0.086903"
      ]
     },
     "execution_count": 361,
     "metadata": {},
     "output_type": "execute_result"
    }
   ],
   "source": [
    "pd.pivot_table(data, index='grouped_total_income', values='debt').sort_values(by='debt', ascending=True)"
   ]
  },
  {
   "cell_type": "markdown",
   "metadata": {},
   "source": [
    "**Вывод**\n",
    "\n",
    "Возвращаемость кредиов выше у заемщиков с высоким доходом. \n"
   ]
  },
  {
   "cell_type": "markdown",
   "metadata": {},
   "source": [
    "- Как разные цели кредита влияют на его возврат в срок?"
   ]
  },
  {
   "cell_type": "code",
   "execution_count": 362,
   "metadata": {},
   "outputs": [
    {
     "data": {
      "text/html": [
       "<div>\n",
       "<style scoped>\n",
       "    .dataframe tbody tr th:only-of-type {\n",
       "        vertical-align: middle;\n",
       "    }\n",
       "\n",
       "    .dataframe tbody tr th {\n",
       "        vertical-align: top;\n",
       "    }\n",
       "\n",
       "    .dataframe thead th {\n",
       "        text-align: right;\n",
       "    }\n",
       "</style>\n",
       "<table border=\"1\" class=\"dataframe\">\n",
       "  <thead>\n",
       "    <tr style=\"text-align: right;\">\n",
       "      <th></th>\n",
       "      <th>debt</th>\n",
       "    </tr>\n",
       "    <tr>\n",
       "      <th>grouped_purpose</th>\n",
       "      <th></th>\n",
       "    </tr>\n",
       "  </thead>\n",
       "  <tbody>\n",
       "    <tr>\n",
       "      <td>недвижимость</td>\n",
       "      <td>0.072334</td>\n",
       "    </tr>\n",
       "    <tr>\n",
       "      <td>свадьба</td>\n",
       "      <td>0.080069</td>\n",
       "    </tr>\n",
       "    <tr>\n",
       "      <td>образование</td>\n",
       "      <td>0.092200</td>\n",
       "    </tr>\n",
       "    <tr>\n",
       "      <td>автомобиль</td>\n",
       "      <td>0.093590</td>\n",
       "    </tr>\n",
       "  </tbody>\n",
       "</table>\n",
       "</div>"
      ],
      "text/plain": [
       "                     debt\n",
       "grouped_purpose          \n",
       "недвижимость     0.072334\n",
       "свадьба          0.080069\n",
       "образование      0.092200\n",
       "автомобиль       0.093590"
      ]
     },
     "execution_count": 362,
     "metadata": {},
     "output_type": "execute_result"
    }
   ],
   "source": [
    "pd.pivot_table(data, index='grouped_purpose', values='debt').sort_values(by='debt', ascending=True)"
   ]
  },
  {
   "cell_type": "markdown",
   "metadata": {},
   "source": [
    "**Вывод**\n",
    "\n",
    "Заемщики с целью приобретения недвижимости возвращают кредиты чаще. Возможно это связано с тем, что недвижимость на весь период займа находится в залоге у банка. В случае невозврата кредита можно потеярять недвижимость. Во стальных случаеях потери менее ощутимы."
   ]
  },
  {
   "cell_type": "markdown",
   "metadata": {},
   "source": [
    "## Общий вывод"
   ]
  },
  {
   "cell_type": "markdown",
   "metadata": {},
   "source": [
    "1. Замечено влияние количества детей у заемщика на возвращаемость кредита. Чем больше детей, тем меньше вероятность возврата кредита.\n",
    "2. Семейное положение заемщика также влияет на возращаемость кредита. Заемщики имещие неофрмленный брак и заемщики ведущие одинокий образ жизни кредиты возвращают реже. \n",
    "3. Заемщики с целью на приобретение недвижимости возвращают кредиты чаще заемщиков с прочими целями.\n",
    "4. Заемщики с более высоким доходом возращают кредиты чаше. Заемщики со срденим доходом переоценивают свои возможности, вовращают кредиты реже."
   ]
  }
 ],
 "metadata": {
  "ExecuteTimeLog": [
   {
    "duration": 605,
    "start_time": "2021-12-15T20:10:06.827Z"
   },
   {
    "duration": 57,
    "start_time": "2021-12-15T20:10:11.367Z"
   },
   {
    "duration": 60,
    "start_time": "2021-12-15T20:14:31.790Z"
   },
   {
    "duration": 12,
    "start_time": "2021-12-15T20:17:21.224Z"
   },
   {
    "duration": 223,
    "start_time": "2021-12-15T20:25:27.725Z"
   },
   {
    "duration": 185,
    "start_time": "2021-12-15T20:25:36.300Z"
   },
   {
    "duration": 5,
    "start_time": "2021-12-15T20:26:47.072Z"
   },
   {
    "duration": 4,
    "start_time": "2021-12-15T20:27:04.881Z"
   },
   {
    "duration": 11,
    "start_time": "2021-12-15T21:48:14.759Z"
   },
   {
    "duration": 10,
    "start_time": "2021-12-15T21:49:16.418Z"
   },
   {
    "duration": 60,
    "start_time": "2021-12-15T22:04:50.001Z"
   },
   {
    "duration": 345,
    "start_time": "2021-12-16T21:28:24.036Z"
   },
   {
    "duration": 265,
    "start_time": "2021-12-16T21:28:45.978Z"
   },
   {
    "duration": 900,
    "start_time": "2021-12-16T21:29:10.060Z"
   },
   {
    "duration": 15,
    "start_time": "2021-12-16T21:29:12.510Z"
   },
   {
    "duration": 6,
    "start_time": "2021-12-16T21:29:14.337Z"
   },
   {
    "duration": 17,
    "start_time": "2021-12-16T21:29:15.274Z"
   },
   {
    "duration": 11,
    "start_time": "2021-12-16T21:29:19.505Z"
   },
   {
    "duration": 15,
    "start_time": "2021-12-16T21:33:12.713Z"
   },
   {
    "duration": 26,
    "start_time": "2021-12-16T21:33:28.376Z"
   },
   {
    "duration": 28,
    "start_time": "2021-12-16T21:44:38.612Z"
   },
   {
    "duration": 33,
    "start_time": "2021-12-16T21:44:52.025Z"
   },
   {
    "duration": 7,
    "start_time": "2021-12-16T21:45:19.057Z"
   },
   {
    "duration": 329,
    "start_time": "2021-12-16T21:45:43.606Z"
   },
   {
    "duration": 280,
    "start_time": "2021-12-16T21:45:47.465Z"
   },
   {
    "duration": 25,
    "start_time": "2021-12-16T21:46:09.646Z"
   },
   {
    "duration": 27,
    "start_time": "2021-12-16T21:46:23.072Z"
   },
   {
    "duration": 9,
    "start_time": "2021-12-16T21:47:59.747Z"
   },
   {
    "duration": 8,
    "start_time": "2021-12-16T21:48:48.884Z"
   },
   {
    "duration": 8,
    "start_time": "2021-12-16T21:59:29.352Z"
   },
   {
    "duration": 8,
    "start_time": "2021-12-16T22:00:14.047Z"
   },
   {
    "duration": 35,
    "start_time": "2021-12-16T22:00:30.408Z"
   },
   {
    "duration": 7,
    "start_time": "2021-12-16T22:00:48.106Z"
   },
   {
    "duration": 3370,
    "start_time": "2021-12-16T22:01:23.467Z"
   },
   {
    "duration": 4107,
    "start_time": "2021-12-16T22:01:29.545Z"
   },
   {
    "duration": 3330,
    "start_time": "2021-12-16T22:02:06.616Z"
   },
   {
    "duration": 4074,
    "start_time": "2021-12-16T22:02:14.097Z"
   },
   {
    "duration": 7,
    "start_time": "2021-12-16T22:02:30.421Z"
   },
   {
    "duration": 6,
    "start_time": "2021-12-16T22:02:31.506Z"
   },
   {
    "duration": 3557,
    "start_time": "2021-12-16T22:02:37.787Z"
   },
   {
    "duration": 3518,
    "start_time": "2021-12-16T22:03:42.396Z"
   },
   {
    "duration": 3586,
    "start_time": "2021-12-16T22:06:48.631Z"
   },
   {
    "duration": 4337,
    "start_time": "2021-12-16T22:07:25.218Z"
   },
   {
    "duration": 3355,
    "start_time": "2021-12-16T22:07:48.725Z"
   },
   {
    "duration": 293,
    "start_time": "2021-12-16T22:11:57.111Z"
   },
   {
    "duration": 6,
    "start_time": "2021-12-16T22:12:17.043Z"
   },
   {
    "duration": 132,
    "start_time": "2021-12-16T22:12:39.023Z"
   },
   {
    "duration": 21,
    "start_time": "2021-12-16T22:12:40.163Z"
   },
   {
    "duration": 5,
    "start_time": "2021-12-16T22:12:41.827Z"
   },
   {
    "duration": 13,
    "start_time": "2021-12-16T22:12:43.023Z"
   },
   {
    "duration": 42,
    "start_time": "2021-12-16T22:12:48.451Z"
   },
   {
    "duration": 7,
    "start_time": "2021-12-16T22:13:59.892Z"
   },
   {
    "duration": 33,
    "start_time": "2021-12-16T22:14:32.514Z"
   },
   {
    "duration": 5,
    "start_time": "2021-12-16T22:15:09.944Z"
   },
   {
    "duration": 33,
    "start_time": "2021-12-16T22:15:14.126Z"
   },
   {
    "duration": 20,
    "start_time": "2021-12-16T22:17:02.714Z"
   },
   {
    "duration": 25,
    "start_time": "2021-12-16T22:20:39.084Z"
   },
   {
    "duration": 10,
    "start_time": "2021-12-16T22:23:39.858Z"
   },
   {
    "duration": 6,
    "start_time": "2021-12-16T22:26:35.739Z"
   },
   {
    "duration": 6,
    "start_time": "2021-12-16T22:27:35.706Z"
   },
   {
    "duration": 277,
    "start_time": "2021-12-16T22:44:57.137Z"
   },
   {
    "duration": 116,
    "start_time": "2021-12-16T22:45:13.184Z"
   },
   {
    "duration": 106,
    "start_time": "2021-12-16T22:45:17.416Z"
   },
   {
    "duration": 14,
    "start_time": "2021-12-16T22:48:01.798Z"
   },
   {
    "duration": 119,
    "start_time": "2021-12-16T22:48:23.723Z"
   },
   {
    "duration": 19,
    "start_time": "2021-12-16T22:48:28.553Z"
   },
   {
    "duration": 7,
    "start_time": "2021-12-16T22:50:05.410Z"
   },
   {
    "duration": 264,
    "start_time": "2021-12-16T22:50:47.150Z"
   },
   {
    "duration": 328,
    "start_time": "2021-12-16T22:50:57.029Z"
   },
   {
    "duration": 11,
    "start_time": "2021-12-16T22:57:50.121Z"
   },
   {
    "duration": 12,
    "start_time": "2021-12-16T22:58:26.951Z"
   },
   {
    "duration": 15,
    "start_time": "2021-12-16T22:58:38.700Z"
   },
   {
    "duration": 47,
    "start_time": "2021-12-16T23:02:46.310Z"
   },
   {
    "duration": 12,
    "start_time": "2021-12-16T23:05:02.421Z"
   },
   {
    "duration": 8,
    "start_time": "2021-12-16T23:06:28.691Z"
   },
   {
    "duration": 5,
    "start_time": "2021-12-16T23:09:13.390Z"
   },
   {
    "duration": 7,
    "start_time": "2021-12-16T23:09:42.330Z"
   },
   {
    "duration": 5,
    "start_time": "2021-12-16T23:24:24.831Z"
   },
   {
    "duration": 70,
    "start_time": "2021-12-16T23:25:40.108Z"
   },
   {
    "duration": 53,
    "start_time": "2021-12-16T23:26:45.489Z"
   },
   {
    "duration": 9,
    "start_time": "2021-12-16T23:30:10.150Z"
   },
   {
    "duration": 17,
    "start_time": "2021-12-16T23:35:24.190Z"
   },
   {
    "duration": 3,
    "start_time": "2021-12-16T23:35:37.509Z"
   },
   {
    "duration": 14,
    "start_time": "2021-12-16T23:35:40.449Z"
   },
   {
    "duration": 88,
    "start_time": "2021-12-16T23:35:49.161Z"
   },
   {
    "duration": 5,
    "start_time": "2021-12-16T23:35:50.240Z"
   },
   {
    "duration": 21,
    "start_time": "2021-12-16T23:35:51.770Z"
   },
   {
    "duration": 14,
    "start_time": "2021-12-16T23:35:55.360Z"
   },
   {
    "duration": 8,
    "start_time": "2021-12-16T23:36:01.776Z"
   },
   {
    "duration": 15,
    "start_time": "2021-12-16T23:36:04.170Z"
   },
   {
    "duration": 6,
    "start_time": "2021-12-16T23:36:13.601Z"
   },
   {
    "duration": 20,
    "start_time": "2021-12-16T23:36:15.756Z"
   },
   {
    "duration": 6,
    "start_time": "2021-12-16T23:36:19.971Z"
   },
   {
    "duration": 15,
    "start_time": "2021-12-16T23:36:20.931Z"
   },
   {
    "duration": 18,
    "start_time": "2021-12-16T23:36:23.560Z"
   },
   {
    "duration": 11,
    "start_time": "2021-12-16T23:36:51.991Z"
   },
   {
    "duration": 12,
    "start_time": "2021-12-16T23:37:07.579Z"
   },
   {
    "duration": 6,
    "start_time": "2021-12-16T23:37:39.722Z"
   },
   {
    "duration": 35,
    "start_time": "2021-12-16T23:37:41.058Z"
   },
   {
    "duration": 6,
    "start_time": "2021-12-16T23:38:20.520Z"
   },
   {
    "duration": 9,
    "start_time": "2021-12-16T23:38:23.757Z"
   },
   {
    "duration": 6,
    "start_time": "2021-12-16T23:38:52.350Z"
   },
   {
    "duration": 14,
    "start_time": "2021-12-16T23:40:15.420Z"
   },
   {
    "duration": 9,
    "start_time": "2021-12-16T23:41:02.578Z"
   },
   {
    "duration": 37,
    "start_time": "2021-12-16T23:42:26.174Z"
   },
   {
    "duration": 379,
    "start_time": "2021-12-17T21:31:21.936Z"
   },
   {
    "duration": 694,
    "start_time": "2021-12-17T21:32:17.268Z"
   },
   {
    "duration": 32,
    "start_time": "2021-12-17T21:32:19.297Z"
   },
   {
    "duration": 31,
    "start_time": "2021-12-17T21:32:27.987Z"
   },
   {
    "duration": 152,
    "start_time": "2021-12-17T21:48:11.547Z"
   },
   {
    "duration": 62,
    "start_time": "2021-12-17T21:48:31.737Z"
   },
   {
    "duration": 29,
    "start_time": "2021-12-17T21:48:35.548Z"
   },
   {
    "duration": 59,
    "start_time": "2021-12-17T21:48:40.032Z"
   },
   {
    "duration": 58,
    "start_time": "2021-12-17T21:49:09.009Z"
   },
   {
    "duration": 58,
    "start_time": "2021-12-17T21:49:17.776Z"
   },
   {
    "duration": 51,
    "start_time": "2021-12-17T22:14:46.091Z"
   },
   {
    "duration": 4,
    "start_time": "2021-12-17T22:16:02.477Z"
   },
   {
    "duration": 11,
    "start_time": "2021-12-17T22:20:20.096Z"
   },
   {
    "duration": 15,
    "start_time": "2021-12-17T22:23:29.096Z"
   },
   {
    "duration": 3,
    "start_time": "2021-12-18T10:24:04.542Z"
   },
   {
    "duration": 899,
    "start_time": "2021-12-18T10:24:05.266Z"
   },
   {
    "duration": 9,
    "start_time": "2021-12-18T10:24:06.743Z"
   },
   {
    "duration": 10,
    "start_time": "2021-12-18T10:24:07.794Z"
   },
   {
    "duration": 15,
    "start_time": "2021-12-18T10:24:08.704Z"
   },
   {
    "duration": 29,
    "start_time": "2021-12-18T10:24:10.064Z"
   },
   {
    "duration": 9,
    "start_time": "2021-12-18T10:24:11.652Z"
   },
   {
    "duration": 29,
    "start_time": "2021-12-18T10:59:41.368Z"
   },
   {
    "duration": 3,
    "start_time": "2021-12-18T10:59:54.571Z"
   },
   {
    "duration": 29,
    "start_time": "2021-12-18T10:59:56.238Z"
   },
   {
    "duration": 4,
    "start_time": "2021-12-18T11:02:32.628Z"
   },
   {
    "duration": 13,
    "start_time": "2021-12-18T11:02:33.418Z"
   },
   {
    "duration": 29,
    "start_time": "2021-12-18T11:17:25.188Z"
   },
   {
    "duration": 9,
    "start_time": "2021-12-18T11:21:01.212Z"
   },
   {
    "duration": 28,
    "start_time": "2021-12-18T11:22:57.142Z"
   },
   {
    "duration": 271,
    "start_time": "2021-12-18T11:22:57.172Z"
   },
   {
    "duration": 5,
    "start_time": "2021-12-18T11:23:17.231Z"
   },
   {
    "duration": 10,
    "start_time": "2021-12-18T11:31:26.590Z"
   },
   {
    "duration": 10,
    "start_time": "2021-12-18T11:33:35.692Z"
   },
   {
    "duration": 9,
    "start_time": "2021-12-18T11:37:35.991Z"
   },
   {
    "duration": 81,
    "start_time": "2021-12-18T11:53:24.487Z"
   },
   {
    "duration": 7,
    "start_time": "2021-12-18T11:55:32.305Z"
   },
   {
    "duration": 7,
    "start_time": "2021-12-18T11:56:12.915Z"
   },
   {
    "duration": 8,
    "start_time": "2021-12-18T11:56:22.794Z"
   },
   {
    "duration": 2,
    "start_time": "2021-12-18T12:53:21.639Z"
   },
   {
    "duration": 550,
    "start_time": "2021-12-19T07:05:27.583Z"
   },
   {
    "duration": 3,
    "start_time": "2021-12-19T07:05:35.408Z"
   },
   {
    "duration": 863,
    "start_time": "2021-12-19T07:05:38.523Z"
   },
   {
    "duration": 14,
    "start_time": "2021-12-19T07:05:40.002Z"
   },
   {
    "duration": 16,
    "start_time": "2021-12-19T07:05:40.922Z"
   },
   {
    "duration": 27,
    "start_time": "2021-12-19T07:05:42.032Z"
   },
   {
    "duration": 8,
    "start_time": "2021-12-19T07:05:43.605Z"
   },
   {
    "duration": 50,
    "start_time": "2021-12-19T07:05:52.573Z"
   },
   {
    "duration": 7,
    "start_time": "2021-12-19T07:06:42.062Z"
   },
   {
    "duration": 500,
    "start_time": "2021-12-19T07:25:41.032Z"
   },
   {
    "duration": 15,
    "start_time": "2021-12-19T07:25:52.224Z"
   },
   {
    "duration": 15,
    "start_time": "2021-12-19T07:25:58.023Z"
   },
   {
    "duration": 356,
    "start_time": "2021-12-19T07:27:06.803Z"
   },
   {
    "duration": 13,
    "start_time": "2021-12-19T07:27:10.633Z"
   },
   {
    "duration": 390,
    "start_time": "2021-12-19T07:27:11.713Z"
   },
   {
    "duration": 12,
    "start_time": "2021-12-19T07:27:25.533Z"
   },
   {
    "duration": 4,
    "start_time": "2021-12-19T07:29:57.824Z"
   },
   {
    "duration": 15,
    "start_time": "2021-12-19T07:29:58.942Z"
   },
   {
    "duration": 5,
    "start_time": "2021-12-19T07:32:30.933Z"
   },
   {
    "duration": 5,
    "start_time": "2021-12-19T07:32:33.012Z"
   },
   {
    "duration": 64,
    "start_time": "2021-12-19T07:32:51.323Z"
   },
   {
    "duration": 8,
    "start_time": "2021-12-19T07:43:10.302Z"
   },
   {
    "duration": 9,
    "start_time": "2021-12-19T07:47:15.873Z"
   },
   {
    "duration": 8,
    "start_time": "2021-12-19T07:47:19.132Z"
   },
   {
    "duration": 7,
    "start_time": "2021-12-19T07:47:20.614Z"
   },
   {
    "duration": 9,
    "start_time": "2021-12-19T07:47:40.343Z"
   },
   {
    "duration": 11,
    "start_time": "2021-12-19T07:48:04.575Z"
   },
   {
    "duration": 11,
    "start_time": "2021-12-19T07:48:05.523Z"
   },
   {
    "duration": 5,
    "start_time": "2021-12-19T07:48:17.123Z"
   },
   {
    "duration": 49,
    "start_time": "2021-12-19T07:48:18.152Z"
   },
   {
    "duration": 7,
    "start_time": "2021-12-19T07:49:04.203Z"
   },
   {
    "duration": 4,
    "start_time": "2021-12-19T07:49:33.913Z"
   },
   {
    "duration": 50,
    "start_time": "2021-12-19T07:49:34.782Z"
   },
   {
    "duration": 419,
    "start_time": "2021-12-19T08:03:18.199Z"
   },
   {
    "duration": 373,
    "start_time": "2021-12-19T08:03:34.580Z"
   },
   {
    "duration": 427,
    "start_time": "2021-12-19T08:03:50.380Z"
   },
   {
    "duration": 407,
    "start_time": "2021-12-19T08:04:24.612Z"
   },
   {
    "duration": 437,
    "start_time": "2021-12-19T08:05:27.669Z"
   },
   {
    "duration": 148,
    "start_time": "2021-12-19T08:07:19.920Z"
   },
   {
    "duration": 135,
    "start_time": "2021-12-19T08:07:33.550Z"
   },
   {
    "duration": 139,
    "start_time": "2021-12-19T08:07:54.068Z"
   },
   {
    "duration": 125,
    "start_time": "2021-12-19T08:08:13.889Z"
   },
   {
    "duration": 397,
    "start_time": "2021-12-19T08:13:31.081Z"
   },
   {
    "duration": 37,
    "start_time": "2021-12-19T08:14:38.304Z"
   },
   {
    "duration": 390,
    "start_time": "2021-12-19T08:14:47.420Z"
   },
   {
    "duration": -3,
    "start_time": "2021-12-19T08:15:03.154Z"
   },
   {
    "duration": 7570,
    "start_time": "2021-12-19T08:15:10.812Z"
   },
   {
    "duration": 410,
    "start_time": "2021-12-19T08:15:21.510Z"
   },
   {
    "duration": 7383,
    "start_time": "2021-12-19T08:15:37.369Z"
   },
   {
    "duration": 62,
    "start_time": "2021-12-19T09:38:52.487Z"
   },
   {
    "duration": 5,
    "start_time": "2021-12-19T09:38:55.137Z"
   },
   {
    "duration": 16,
    "start_time": "2021-12-19T09:38:56.057Z"
   },
   {
    "duration": 24,
    "start_time": "2021-12-19T09:39:05.907Z"
   },
   {
    "duration": 13,
    "start_time": "2021-12-19T09:39:15.677Z"
   },
   {
    "duration": 1551,
    "start_time": "2021-12-19T09:39:31.819Z"
   },
   {
    "duration": 13,
    "start_time": "2021-12-19T09:39:58.119Z"
   },
   {
    "duration": 9,
    "start_time": "2021-12-19T09:41:05.787Z"
   },
   {
    "duration": 13,
    "start_time": "2021-12-19T09:42:24.197Z"
   },
   {
    "duration": 129,
    "start_time": "2021-12-19T09:52:45.709Z"
   },
   {
    "duration": 373,
    "start_time": "2021-12-19T09:52:57.538Z"
   },
   {
    "duration": 413,
    "start_time": "2021-12-19T09:53:11.446Z"
   },
   {
    "duration": 6,
    "start_time": "2021-12-19T09:54:08.231Z"
   },
   {
    "duration": 89,
    "start_time": "2021-12-19T09:54:53.732Z"
   },
   {
    "duration": 8,
    "start_time": "2021-12-19T09:55:40.526Z"
   },
   {
    "duration": 15,
    "start_time": "2021-12-19T09:56:01.248Z"
   },
   {
    "duration": 74,
    "start_time": "2021-12-19T09:56:18.855Z"
   },
   {
    "duration": 370,
    "start_time": "2021-12-19T09:58:05.028Z"
   },
   {
    "duration": 518,
    "start_time": "2021-12-19T09:58:17.457Z"
   },
   {
    "duration": 365,
    "start_time": "2021-12-19T09:59:18.058Z"
   },
   {
    "duration": 379,
    "start_time": "2021-12-19T09:59:27.829Z"
   },
   {
    "duration": 13,
    "start_time": "2021-12-19T09:59:38.921Z"
   },
   {
    "duration": 13,
    "start_time": "2021-12-19T10:00:00.147Z"
   },
   {
    "duration": 7,
    "start_time": "2021-12-19T10:00:01.328Z"
   },
   {
    "duration": 9,
    "start_time": "2021-12-19T10:03:48.737Z"
   },
   {
    "duration": 408,
    "start_time": "2021-12-19T10:04:06.056Z"
   },
   {
    "duration": 8,
    "start_time": "2021-12-19T10:05:18.678Z"
   },
   {
    "duration": 8,
    "start_time": "2021-12-19T10:06:24.700Z"
   },
   {
    "duration": 12,
    "start_time": "2021-12-19T10:10:52.738Z"
   },
   {
    "duration": 12,
    "start_time": "2021-12-19T10:11:12.157Z"
   },
   {
    "duration": 13,
    "start_time": "2021-12-19T10:11:23.697Z"
   },
   {
    "duration": 33,
    "start_time": "2021-12-19T10:11:49.138Z"
   },
   {
    "duration": 12,
    "start_time": "2021-12-19T10:12:40.257Z"
   },
   {
    "duration": 702,
    "start_time": "2021-12-19T10:15:22.507Z"
   },
   {
    "duration": 559,
    "start_time": "2021-12-19T10:15:35.865Z"
   },
   {
    "duration": 515,
    "start_time": "2021-12-19T10:15:49.406Z"
   },
   {
    "duration": 378,
    "start_time": "2021-12-19T10:16:19.466Z"
   },
   {
    "duration": 34,
    "start_time": "2021-12-19T10:20:25.355Z"
   },
   {
    "duration": 52,
    "start_time": "2021-12-19T10:31:25.304Z"
   },
   {
    "duration": 11,
    "start_time": "2021-12-19T10:31:56.884Z"
   },
   {
    "duration": 29,
    "start_time": "2021-12-19T10:32:37.056Z"
   },
   {
    "duration": 18,
    "start_time": "2021-12-19T10:32:38.115Z"
   },
   {
    "duration": 11,
    "start_time": "2021-12-19T10:32:38.825Z"
   },
   {
    "duration": 393,
    "start_time": "2021-12-19T10:40:54.452Z"
   },
   {
    "duration": 394,
    "start_time": "2021-12-19T10:41:13.405Z"
   },
   {
    "duration": 442,
    "start_time": "2021-12-19T10:41:57.395Z"
   },
   {
    "duration": 124,
    "start_time": "2021-12-19T10:46:11.172Z"
   },
   {
    "duration": 123,
    "start_time": "2021-12-19T10:47:03.587Z"
   },
   {
    "duration": 130,
    "start_time": "2021-12-19T10:47:28.004Z"
   },
   {
    "duration": 396,
    "start_time": "2021-12-19T10:50:23.084Z"
   },
   {
    "duration": 394,
    "start_time": "2021-12-19T10:53:13.974Z"
   },
   {
    "duration": 388,
    "start_time": "2021-12-19T10:53:30.963Z"
   },
   {
    "duration": 64,
    "start_time": "2021-12-19T10:53:44.204Z"
   },
   {
    "duration": 5,
    "start_time": "2021-12-19T10:53:45.654Z"
   },
   {
    "duration": 2,
    "start_time": "2021-12-19T10:53:49.895Z"
   },
   {
    "duration": 63,
    "start_time": "2021-12-19T10:53:50.684Z"
   },
   {
    "duration": 5,
    "start_time": "2021-12-19T10:53:52.396Z"
   },
   {
    "duration": 23,
    "start_time": "2021-12-19T10:54:03.240Z"
   },
   {
    "duration": 37,
    "start_time": "2021-12-19T10:54:24.328Z"
   },
   {
    "duration": 8,
    "start_time": "2021-12-19T10:54:30.193Z"
   },
   {
    "duration": 10,
    "start_time": "2021-12-19T10:54:35.316Z"
   },
   {
    "duration": 9,
    "start_time": "2021-12-19T10:55:51.073Z"
   },
   {
    "duration": 13,
    "start_time": "2021-12-19T10:56:07.534Z"
   },
   {
    "duration": 13,
    "start_time": "2021-12-19T10:56:13.104Z"
   },
   {
    "duration": 12,
    "start_time": "2021-12-19T10:56:15.035Z"
   },
   {
    "duration": 4,
    "start_time": "2021-12-19T10:56:20.086Z"
   },
   {
    "duration": 9,
    "start_time": "2021-12-19T10:56:21.854Z"
   },
   {
    "duration": 8,
    "start_time": "2021-12-19T10:56:34.865Z"
   },
   {
    "duration": 9,
    "start_time": "2021-12-19T10:56:35.574Z"
   },
   {
    "duration": 5,
    "start_time": "2021-12-19T10:56:41.115Z"
   },
   {
    "duration": 49,
    "start_time": "2021-12-19T10:56:41.955Z"
   },
   {
    "duration": 34,
    "start_time": "2021-12-19T10:56:46.028Z"
   },
   {
    "duration": 25,
    "start_time": "2021-12-19T10:56:51.815Z"
   },
   {
    "duration": 17,
    "start_time": "2021-12-19T10:56:58.045Z"
   },
   {
    "duration": 11,
    "start_time": "2021-12-19T10:56:59.263Z"
   },
   {
    "duration": 7,
    "start_time": "2021-12-19T10:57:38.846Z"
   },
   {
    "duration": 15,
    "start_time": "2021-12-19T10:57:57.015Z"
   },
   {
    "duration": 14,
    "start_time": "2021-12-19T10:59:08.875Z"
   },
   {
    "duration": 15,
    "start_time": "2021-12-19T11:03:42.473Z"
   },
   {
    "duration": 28,
    "start_time": "2021-12-19T11:12:45.617Z"
   },
   {
    "duration": 48,
    "start_time": "2021-12-19T11:14:22.117Z"
   },
   {
    "duration": 26,
    "start_time": "2021-12-19T11:15:03.018Z"
   },
   {
    "duration": 25,
    "start_time": "2021-12-19T11:15:17.727Z"
   },
   {
    "duration": 26,
    "start_time": "2021-12-19T11:15:53.168Z"
   },
   {
    "duration": 24,
    "start_time": "2021-12-19T11:16:05.787Z"
   },
   {
    "duration": 23,
    "start_time": "2021-12-19T11:16:17.337Z"
   },
   {
    "duration": 21,
    "start_time": "2021-12-19T11:18:00.588Z"
   },
   {
    "duration": 67,
    "start_time": "2021-12-19T11:19:07.877Z"
   },
   {
    "duration": 5,
    "start_time": "2021-12-19T11:19:09.368Z"
   },
   {
    "duration": 17,
    "start_time": "2021-12-19T11:19:10.077Z"
   },
   {
    "duration": 23,
    "start_time": "2021-12-19T11:19:10.755Z"
   },
   {
    "duration": 36,
    "start_time": "2021-12-19T11:19:11.588Z"
   },
   {
    "duration": 8,
    "start_time": "2021-12-19T11:19:12.479Z"
   },
   {
    "duration": 10,
    "start_time": "2021-12-19T11:19:13.767Z"
   },
   {
    "duration": 9,
    "start_time": "2021-12-19T11:19:15.278Z"
   },
   {
    "duration": 10,
    "start_time": "2021-12-19T11:19:18.108Z"
   },
   {
    "duration": 4,
    "start_time": "2021-12-19T11:19:22.628Z"
   },
   {
    "duration": 13,
    "start_time": "2021-12-19T11:19:23.597Z"
   },
   {
    "duration": 18,
    "start_time": "2021-12-19T11:19:25.548Z"
   },
   {
    "duration": 14,
    "start_time": "2021-12-19T11:19:26.900Z"
   },
   {
    "duration": 4,
    "start_time": "2021-12-19T11:19:28.230Z"
   },
   {
    "duration": 8,
    "start_time": "2021-12-19T11:19:29.767Z"
   },
   {
    "duration": 8,
    "start_time": "2021-12-19T11:19:30.548Z"
   },
   {
    "duration": 8,
    "start_time": "2021-12-19T11:19:31.737Z"
   },
   {
    "duration": 5,
    "start_time": "2021-12-19T11:19:32.837Z"
   },
   {
    "duration": 45,
    "start_time": "2021-12-19T11:19:33.437Z"
   },
   {
    "duration": 15,
    "start_time": "2021-12-19T11:19:34.249Z"
   },
   {
    "duration": 25,
    "start_time": "2021-12-19T11:19:37.898Z"
   },
   {
    "duration": 17,
    "start_time": "2021-12-19T11:19:38.937Z"
   },
   {
    "duration": 11,
    "start_time": "2021-12-19T11:19:43.497Z"
   },
   {
    "duration": 6,
    "start_time": "2021-12-19T11:19:49.576Z"
   },
   {
    "duration": 17,
    "start_time": "2021-12-19T11:19:50.907Z"
   },
   {
    "duration": 28,
    "start_time": "2021-12-19T11:19:55.398Z"
   },
   {
    "duration": 30,
    "start_time": "2021-12-19T11:21:30.887Z"
   },
   {
    "duration": 35,
    "start_time": "2021-12-19T11:21:41.388Z"
   },
   {
    "duration": 39,
    "start_time": "2021-12-19T11:22:07.927Z"
   },
   {
    "duration": 33,
    "start_time": "2021-12-19T11:23:20.120Z"
   },
   {
    "duration": 27,
    "start_time": "2021-12-19T11:24:44.796Z"
   },
   {
    "duration": 27,
    "start_time": "2021-12-19T11:25:23.255Z"
   },
   {
    "duration": 33,
    "start_time": "2021-12-19T11:26:02.748Z"
   },
   {
    "duration": 26,
    "start_time": "2021-12-19T11:26:08.257Z"
   },
   {
    "duration": 33,
    "start_time": "2021-12-19T11:26:11.647Z"
   },
   {
    "duration": 26,
    "start_time": "2021-12-19T11:27:01.837Z"
   },
   {
    "duration": 31,
    "start_time": "2021-12-19T11:27:13.347Z"
   },
   {
    "duration": 26,
    "start_time": "2021-12-19T11:27:17.535Z"
   },
   {
    "duration": 11,
    "start_time": "2021-12-19T11:27:23.918Z"
   },
   {
    "duration": 6,
    "start_time": "2021-12-19T11:27:24.817Z"
   },
   {
    "duration": 15,
    "start_time": "2021-12-19T11:27:25.567Z"
   },
   {
    "duration": 27,
    "start_time": "2021-12-19T11:27:31.188Z"
   },
   {
    "duration": 64,
    "start_time": "2021-12-19T11:27:38.256Z"
   },
   {
    "duration": 5,
    "start_time": "2021-12-19T11:27:39.556Z"
   },
   {
    "duration": 14,
    "start_time": "2021-12-19T11:27:40.088Z"
   },
   {
    "duration": 23,
    "start_time": "2021-12-19T11:27:40.807Z"
   },
   {
    "duration": 37,
    "start_time": "2021-12-19T11:27:41.377Z"
   },
   {
    "duration": 9,
    "start_time": "2021-12-19T11:27:42.457Z"
   },
   {
    "duration": 11,
    "start_time": "2021-12-19T11:27:43.147Z"
   },
   {
    "duration": 10,
    "start_time": "2021-12-19T11:27:43.937Z"
   },
   {
    "duration": 15,
    "start_time": "2021-12-19T11:27:44.775Z"
   },
   {
    "duration": 4,
    "start_time": "2021-12-19T11:27:49.317Z"
   },
   {
    "duration": 13,
    "start_time": "2021-12-19T11:27:49.957Z"
   },
   {
    "duration": 16,
    "start_time": "2021-12-19T11:27:52.177Z"
   },
   {
    "duration": 16,
    "start_time": "2021-12-19T11:27:52.748Z"
   },
   {
    "duration": 6,
    "start_time": "2021-12-19T11:27:54.359Z"
   },
   {
    "duration": 7,
    "start_time": "2021-12-19T11:27:55.158Z"
   },
   {
    "duration": 9,
    "start_time": "2021-12-19T11:27:55.748Z"
   },
   {
    "duration": 8,
    "start_time": "2021-12-19T11:27:56.617Z"
   },
   {
    "duration": 5,
    "start_time": "2021-12-19T11:27:57.417Z"
   },
   {
    "duration": 45,
    "start_time": "2021-12-19T11:27:58.277Z"
   },
   {
    "duration": 16,
    "start_time": "2021-12-19T11:28:01.577Z"
   },
   {
    "duration": 24,
    "start_time": "2021-12-19T11:28:06.698Z"
   },
   {
    "duration": 14,
    "start_time": "2021-12-19T11:28:07.323Z"
   },
   {
    "duration": 11,
    "start_time": "2021-12-19T11:28:08.068Z"
   },
   {
    "duration": 6,
    "start_time": "2021-12-19T11:28:08.879Z"
   },
   {
    "duration": 17,
    "start_time": "2021-12-19T11:28:09.747Z"
   },
   {
    "duration": 28,
    "start_time": "2021-12-19T11:28:12.917Z"
   },
   {
    "duration": 35,
    "start_time": "2021-12-19T11:28:14.257Z"
   },
   {
    "duration": 30,
    "start_time": "2021-12-19T11:28:16.863Z"
   },
   {
    "duration": 7,
    "start_time": "2021-12-19T11:31:00.487Z"
   },
   {
    "duration": 405,
    "start_time": "2021-12-19T11:31:47.067Z"
   },
   {
    "duration": 130,
    "start_time": "2021-12-19T11:31:58.903Z"
   },
   {
    "duration": 6,
    "start_time": "2021-12-19T11:32:09.147Z"
   },
   {
    "duration": 8,
    "start_time": "2021-12-19T11:32:44.466Z"
   },
   {
    "duration": 10,
    "start_time": "2021-12-19T11:33:10.888Z"
   },
   {
    "duration": 8,
    "start_time": "2021-12-19T11:33:39.909Z"
   },
   {
    "duration": 8,
    "start_time": "2021-12-19T11:34:21.768Z"
   },
   {
    "duration": 419,
    "start_time": "2021-12-19T11:59:22.177Z"
   },
   {
    "duration": 6,
    "start_time": "2021-12-19T11:59:29.648Z"
   },
   {
    "duration": 385,
    "start_time": "2021-12-19T11:59:30.968Z"
   },
   {
    "duration": 4547,
    "start_time": "2021-12-19T11:59:56.397Z"
   },
   {
    "duration": 10,
    "start_time": "2021-12-19T12:00:24.718Z"
   },
   {
    "duration": 9,
    "start_time": "2021-12-19T12:01:05.517Z"
   },
   {
    "duration": 1488,
    "start_time": "2021-12-19T12:01:07.057Z"
   },
   {
    "duration": 29,
    "start_time": "2021-12-19T12:01:08.519Z"
   },
   {
    "duration": 6,
    "start_time": "2021-12-19T12:01:26.828Z"
   },
   {
    "duration": 3816,
    "start_time": "2021-12-19T12:01:28.147Z"
   },
   {
    "duration": 10,
    "start_time": "2021-12-19T12:01:31.966Z"
   },
   {
    "duration": 5,
    "start_time": "2021-12-19T12:01:33.348Z"
   },
   {
    "duration": 4129,
    "start_time": "2021-12-19T12:01:34.108Z"
   },
   {
    "duration": 21,
    "start_time": "2021-12-19T12:01:38.240Z"
   },
   {
    "duration": 368,
    "start_time": "2021-12-19T12:03:36.937Z"
   },
   {
    "duration": 389,
    "start_time": "2021-12-19T12:03:42.729Z"
   },
   {
    "duration": 5,
    "start_time": "2021-12-19T12:03:55.529Z"
   },
   {
    "duration": 5,
    "start_time": "2021-12-19T12:05:18.288Z"
   },
   {
    "duration": 4230,
    "start_time": "2021-12-19T12:05:19.787Z"
   },
   {
    "duration": 10,
    "start_time": "2021-12-19T12:05:24.020Z"
   },
   {
    "duration": 11,
    "start_time": "2021-12-19T12:05:25.597Z"
   },
   {
    "duration": 16,
    "start_time": "2021-12-19T12:59:02.865Z"
   },
   {
    "duration": 17,
    "start_time": "2021-12-19T12:59:46.022Z"
   },
   {
    "duration": 22,
    "start_time": "2021-12-19T13:00:29.742Z"
   },
   {
    "duration": 15,
    "start_time": "2021-12-19T13:00:49.172Z"
   },
   {
    "duration": 20,
    "start_time": "2021-12-19T13:00:51.723Z"
   },
   {
    "duration": 10,
    "start_time": "2021-12-19T13:01:46.225Z"
   },
   {
    "duration": 37,
    "start_time": "2021-12-19T13:01:50.362Z"
   },
   {
    "duration": 380,
    "start_time": "2021-12-19T13:07:29.460Z"
   },
   {
    "duration": 8,
    "start_time": "2021-12-19T13:07:52.105Z"
   },
   {
    "duration": 1918,
    "start_time": "2021-12-19T13:07:53.221Z"
   },
   {
    "duration": 1564,
    "start_time": "2021-12-19T13:10:23.674Z"
   },
   {
    "duration": 37,
    "start_time": "2021-12-19T13:10:25.203Z"
   },
   {
    "duration": 15,
    "start_time": "2021-12-19T13:11:00.542Z"
   },
   {
    "duration": 10,
    "start_time": "2021-12-19T13:12:20.695Z"
   },
   {
    "duration": 10,
    "start_time": "2021-12-19T13:13:16.143Z"
   },
   {
    "duration": 44,
    "start_time": "2021-12-19T13:14:52.842Z"
   },
   {
    "duration": 21,
    "start_time": "2021-12-19T13:15:45.274Z"
   },
   {
    "duration": 19,
    "start_time": "2021-12-19T13:19:02.740Z"
   },
   {
    "duration": 9,
    "start_time": "2021-12-19T13:19:04.568Z"
   },
   {
    "duration": 11,
    "start_time": "2021-12-19T13:19:06.415Z"
   },
   {
    "duration": 14,
    "start_time": "2021-12-19T13:21:01.286Z"
   },
   {
    "duration": 9,
    "start_time": "2021-12-19T13:22:13.813Z"
   },
   {
    "duration": 42,
    "start_time": "2021-12-19T13:22:28.338Z"
   },
   {
    "duration": 89,
    "start_time": "2021-12-19T13:22:46.216Z"
   },
   {
    "duration": 7,
    "start_time": "2021-12-19T13:22:46.308Z"
   },
   {
    "duration": 15,
    "start_time": "2021-12-19T13:22:48.353Z"
   },
   {
    "duration": 25,
    "start_time": "2021-12-19T13:22:50.243Z"
   },
   {
    "duration": 50,
    "start_time": "2021-12-19T13:22:51.462Z"
   },
   {
    "duration": 9,
    "start_time": "2021-12-19T13:22:53.023Z"
   },
   {
    "duration": 11,
    "start_time": "2021-12-19T13:22:54.713Z"
   },
   {
    "duration": 10,
    "start_time": "2021-12-19T13:22:56.080Z"
   },
   {
    "duration": 11,
    "start_time": "2021-12-19T13:22:57.447Z"
   },
   {
    "duration": 3,
    "start_time": "2021-12-19T13:23:02.732Z"
   },
   {
    "duration": 14,
    "start_time": "2021-12-19T13:23:03.422Z"
   },
   {
    "duration": 14,
    "start_time": "2021-12-19T13:23:04.975Z"
   },
   {
    "duration": 14,
    "start_time": "2021-12-19T13:23:05.492Z"
   },
   {
    "duration": 7,
    "start_time": "2021-12-19T13:23:06.624Z"
   },
   {
    "duration": 9,
    "start_time": "2021-12-19T13:23:07.735Z"
   },
   {
    "duration": 9,
    "start_time": "2021-12-19T13:23:08.443Z"
   },
   {
    "duration": 12,
    "start_time": "2021-12-19T13:23:10.051Z"
   },
   {
    "duration": 5,
    "start_time": "2021-12-19T13:23:11.023Z"
   },
   {
    "duration": 66,
    "start_time": "2021-12-19T13:23:11.640Z"
   },
   {
    "duration": 16,
    "start_time": "2021-12-19T13:23:16.782Z"
   },
   {
    "duration": 40,
    "start_time": "2021-12-19T13:23:20.503Z"
   },
   {
    "duration": 19,
    "start_time": "2021-12-19T13:23:21.243Z"
   },
   {
    "duration": 13,
    "start_time": "2021-12-19T13:23:22.632Z"
   },
   {
    "duration": 9,
    "start_time": "2021-12-19T13:23:24.063Z"
   },
   {
    "duration": 25,
    "start_time": "2021-12-19T13:23:26.473Z"
   },
   {
    "duration": 27,
    "start_time": "2021-12-19T13:23:29.825Z"
   },
   {
    "duration": 49,
    "start_time": "2021-12-19T13:23:30.643Z"
   },
   {
    "duration": 28,
    "start_time": "2021-12-19T13:23:31.274Z"
   },
   {
    "duration": 29,
    "start_time": "2021-12-19T13:23:32.256Z"
   },
   {
    "duration": 3,
    "start_time": "2021-12-19T13:23:32.823Z"
   },
   {
    "duration": 6,
    "start_time": "2021-12-19T13:23:33.450Z"
   },
   {
    "duration": 6,
    "start_time": "2021-12-19T13:23:33.959Z"
   },
   {
    "duration": 11,
    "start_time": "2021-12-19T13:23:34.575Z"
   },
   {
    "duration": 7,
    "start_time": "2021-12-19T13:23:35.278Z"
   },
   {
    "duration": 8,
    "start_time": "2021-12-19T13:23:36.493Z"
   },
   {
    "duration": 6,
    "start_time": "2021-12-19T13:23:39.965Z"
   },
   {
    "duration": 5878,
    "start_time": "2021-12-19T13:23:47.458Z"
   },
   {
    "duration": 23,
    "start_time": "2021-12-19T13:24:05.334Z"
   },
   {
    "duration": 17,
    "start_time": "2021-12-19T13:25:31.352Z"
   },
   {
    "duration": 7,
    "start_time": "2021-12-19T13:26:27.907Z"
   },
   {
    "duration": 10,
    "start_time": "2021-12-19T13:26:28.509Z"
   },
   {
    "duration": 6,
    "start_time": "2021-12-19T13:26:32.621Z"
   },
   {
    "duration": 4329,
    "start_time": "2021-12-19T13:26:33.804Z"
   },
   {
    "duration": 10,
    "start_time": "2021-12-19T13:26:38.135Z"
   },
   {
    "duration": 12,
    "start_time": "2021-12-19T13:26:38.623Z"
   },
   {
    "duration": 11,
    "start_time": "2021-12-19T13:26:51.962Z"
   },
   {
    "duration": 44,
    "start_time": "2021-12-19T13:26:53.173Z"
   },
   {
    "duration": 35,
    "start_time": "2021-12-19T13:27:10.473Z"
   },
   {
    "duration": 18,
    "start_time": "2021-12-19T13:27:37.602Z"
   },
   {
    "duration": 9,
    "start_time": "2021-12-19T13:28:21.545Z"
   },
   {
    "duration": 9,
    "start_time": "2021-12-19T13:28:25.723Z"
   },
   {
    "duration": 17,
    "start_time": "2021-12-19T13:28:28.228Z"
   },
   {
    "duration": 9,
    "start_time": "2021-12-19T13:28:40.742Z"
   },
   {
    "duration": 9,
    "start_time": "2021-12-19T13:28:42.122Z"
   },
   {
    "duration": 26,
    "start_time": "2021-12-19T13:28:45.972Z"
   },
   {
    "duration": 9,
    "start_time": "2021-12-19T13:29:02.988Z"
   },
   {
    "duration": 9,
    "start_time": "2021-12-19T13:29:03.058Z"
   },
   {
    "duration": 18,
    "start_time": "2021-12-19T13:29:08.067Z"
   },
   {
    "duration": 639,
    "start_time": "2021-12-19T20:53:09.322Z"
   },
   {
    "duration": 9,
    "start_time": "2021-12-19T20:53:10.412Z"
   },
   {
    "duration": 12,
    "start_time": "2021-12-19T20:53:10.818Z"
   },
   {
    "duration": 16,
    "start_time": "2021-12-19T20:53:11.240Z"
   },
   {
    "duration": 30,
    "start_time": "2021-12-19T20:53:11.843Z"
   },
   {
    "duration": 7,
    "start_time": "2021-12-19T20:53:12.399Z"
   },
   {
    "duration": 7,
    "start_time": "2021-12-19T20:53:13.091Z"
   },
   {
    "duration": 9,
    "start_time": "2021-12-19T20:53:13.779Z"
   },
   {
    "duration": 8,
    "start_time": "2021-12-19T20:53:14.456Z"
   },
   {
    "duration": 2,
    "start_time": "2021-12-19T20:53:17.571Z"
   },
   {
    "duration": 14,
    "start_time": "2021-12-19T20:53:18.142Z"
   },
   {
    "duration": 17,
    "start_time": "2021-12-19T20:53:19.502Z"
   },
   {
    "duration": 13,
    "start_time": "2021-12-19T20:53:19.813Z"
   },
   {
    "duration": 3,
    "start_time": "2021-12-19T20:53:20.361Z"
   },
   {
    "duration": 7,
    "start_time": "2021-12-19T20:53:21.173Z"
   },
   {
    "duration": 8,
    "start_time": "2021-12-19T20:53:21.619Z"
   },
   {
    "duration": 8,
    "start_time": "2021-12-19T20:53:22.531Z"
   },
   {
    "duration": 4,
    "start_time": "2021-12-19T20:53:23.602Z"
   },
   {
    "duration": 35,
    "start_time": "2021-12-19T20:53:24.166Z"
   },
   {
    "duration": 7,
    "start_time": "2021-12-19T20:54:33.531Z"
   },
   {
    "duration": 8,
    "start_time": "2021-12-19T20:54:34.486Z"
   },
   {
    "duration": 12,
    "start_time": "2021-12-19T20:54:41.599Z"
   },
   {
    "duration": 20,
    "start_time": "2021-12-19T20:55:03.490Z"
   },
   {
    "duration": 25,
    "start_time": "2021-12-19T20:55:04.781Z"
   },
   {
    "duration": 20,
    "start_time": "2021-12-19T20:55:07.609Z"
   },
   {
    "duration": 18,
    "start_time": "2021-12-19T20:55:08.903Z"
   },
   {
    "duration": 3,
    "start_time": "2021-12-19T20:55:09.805Z"
   },
   {
    "duration": 12,
    "start_time": "2021-12-19T20:56:45.210Z"
   },
   {
    "duration": 19,
    "start_time": "2021-12-19T20:57:01.702Z"
   },
   {
    "duration": 11,
    "start_time": "2021-12-19T20:57:02.720Z"
   },
   {
    "duration": 13,
    "start_time": "2021-12-19T20:57:03.362Z"
   },
   {
    "duration": 5,
    "start_time": "2021-12-19T20:57:04.360Z"
   },
   {
    "duration": 13,
    "start_time": "2021-12-19T20:57:05.332Z"
   },
   {
    "duration": 27,
    "start_time": "2021-12-19T20:57:11.572Z"
   },
   {
    "duration": 19,
    "start_time": "2021-12-19T20:57:15.622Z"
   },
   {
    "duration": 4,
    "start_time": "2021-12-19T20:57:19.648Z"
   },
   {
    "duration": 12,
    "start_time": "2021-12-19T20:57:20.501Z"
   },
   {
    "duration": 18,
    "start_time": "2021-12-19T20:57:24.815Z"
   },
   {
    "duration": 3,
    "start_time": "2021-12-19T20:57:33.862Z"
   },
   {
    "duration": 55,
    "start_time": "2021-12-19T20:57:34.731Z"
   },
   {
    "duration": 4,
    "start_time": "2021-12-19T20:57:36.000Z"
   },
   {
    "duration": 13,
    "start_time": "2021-12-19T20:57:36.926Z"
   },
   {
    "duration": 15,
    "start_time": "2021-12-19T20:57:37.885Z"
   },
   {
    "duration": 23,
    "start_time": "2021-12-19T20:57:38.891Z"
   },
   {
    "duration": 6,
    "start_time": "2021-12-19T20:57:39.744Z"
   },
   {
    "duration": 8,
    "start_time": "2021-12-19T20:57:40.587Z"
   },
   {
    "duration": 8,
    "start_time": "2021-12-19T20:57:41.342Z"
   },
   {
    "duration": 8,
    "start_time": "2021-12-19T20:57:42.292Z"
   },
   {
    "duration": 3,
    "start_time": "2021-12-19T20:57:47.727Z"
   },
   {
    "duration": 10,
    "start_time": "2021-12-19T20:57:48.646Z"
   },
   {
    "duration": 16,
    "start_time": "2021-12-19T20:57:55.363Z"
   },
   {
    "duration": 10,
    "start_time": "2021-12-19T20:57:56.822Z"
   },
   {
    "duration": 4,
    "start_time": "2021-12-19T20:57:58.126Z"
   },
   {
    "duration": 7,
    "start_time": "2021-12-19T20:57:59.733Z"
   },
   {
    "duration": 7,
    "start_time": "2021-12-19T20:58:01.606Z"
   },
   {
    "duration": 7,
    "start_time": "2021-12-19T20:58:02.532Z"
   },
   {
    "duration": 3,
    "start_time": "2021-12-19T20:58:04.613Z"
   },
   {
    "duration": 30,
    "start_time": "2021-12-19T20:58:05.783Z"
   },
   {
    "duration": 13,
    "start_time": "2021-12-19T20:58:09.368Z"
   },
   {
    "duration": 17,
    "start_time": "2021-12-19T20:58:13.846Z"
   },
   {
    "duration": 11,
    "start_time": "2021-12-19T20:58:18.120Z"
   },
   {
    "duration": 13,
    "start_time": "2021-12-19T20:58:19.962Z"
   },
   {
    "duration": 6,
    "start_time": "2021-12-19T20:58:26.492Z"
   },
   {
    "duration": 12,
    "start_time": "2021-12-19T20:58:28.022Z"
   },
   {
    "duration": 25,
    "start_time": "2021-12-19T20:58:38.764Z"
   },
   {
    "duration": 22,
    "start_time": "2021-12-19T20:58:40.333Z"
   },
   {
    "duration": 21,
    "start_time": "2021-12-19T20:58:41.726Z"
   },
   {
    "duration": 23,
    "start_time": "2021-12-19T20:58:42.960Z"
   },
   {
    "duration": 2,
    "start_time": "2021-12-19T20:58:45.645Z"
   },
   {
    "duration": 7,
    "start_time": "2021-12-19T20:58:46.262Z"
   },
   {
    "duration": 5,
    "start_time": "2021-12-19T20:58:47.103Z"
   },
   {
    "duration": 6,
    "start_time": "2021-12-19T20:58:47.647Z"
   },
   {
    "duration": 5,
    "start_time": "2021-12-19T20:58:49.241Z"
   },
   {
    "duration": 5,
    "start_time": "2021-12-19T20:58:50.486Z"
   },
   {
    "duration": 5,
    "start_time": "2021-12-19T20:58:56.169Z"
   },
   {
    "duration": 3666,
    "start_time": "2021-12-19T20:59:02.604Z"
   },
   {
    "duration": 9,
    "start_time": "2021-12-19T20:59:06.273Z"
   },
   {
    "duration": 8,
    "start_time": "2021-12-19T20:59:07.148Z"
   },
   {
    "duration": 6,
    "start_time": "2021-12-19T20:59:09.212Z"
   },
   {
    "duration": 18,
    "start_time": "2021-12-19T20:59:20.816Z"
   },
   {
    "duration": 6,
    "start_time": "2021-12-19T21:02:46.767Z"
   },
   {
    "duration": 6,
    "start_time": "2021-12-19T21:03:21.047Z"
   },
   {
    "duration": 7,
    "start_time": "2021-12-19T21:03:22.422Z"
   },
   {
    "duration": 14,
    "start_time": "2021-12-19T21:03:23.563Z"
   },
   {
    "duration": 13,
    "start_time": "2021-12-19T21:03:44.502Z"
   },
   {
    "duration": 17,
    "start_time": "2021-12-19T21:05:31.062Z"
   },
   {
    "duration": 18,
    "start_time": "2021-12-19T21:38:13.880Z"
   },
   {
    "duration": 4,
    "start_time": "2021-12-19T21:42:47.930Z"
   },
   {
    "duration": 17,
    "start_time": "2021-12-19T21:45:16.238Z"
   },
   {
    "duration": 17,
    "start_time": "2021-12-19T21:46:12.471Z"
   },
   {
    "duration": 21,
    "start_time": "2021-12-19T21:51:57.371Z"
   },
   {
    "duration": 18,
    "start_time": "2021-12-19T22:00:23.369Z"
   },
   {
    "duration": 15,
    "start_time": "2021-12-19T22:00:48.991Z"
   },
   {
    "duration": 24,
    "start_time": "2021-12-19T22:38:19.196Z"
   },
   {
    "duration": 24,
    "start_time": "2021-12-19T22:38:26.696Z"
   },
   {
    "duration": 28,
    "start_time": "2021-12-19T22:38:27.663Z"
   },
   {
    "duration": 25,
    "start_time": "2021-12-19T22:38:33.515Z"
   },
   {
    "duration": 3,
    "start_time": "2021-12-19T22:38:47.325Z"
   },
   {
    "duration": 70,
    "start_time": "2021-12-19T22:38:48.007Z"
   },
   {
    "duration": 6,
    "start_time": "2021-12-19T22:38:49.178Z"
   },
   {
    "duration": 11,
    "start_time": "2021-12-19T22:38:49.985Z"
   },
   {
    "duration": 14,
    "start_time": "2021-12-19T22:38:51.066Z"
   },
   {
    "duration": 20,
    "start_time": "2021-12-19T22:38:52.527Z"
   },
   {
    "duration": 7,
    "start_time": "2021-12-19T22:38:53.255Z"
   },
   {
    "duration": 7,
    "start_time": "2021-12-19T22:38:55.439Z"
   },
   {
    "duration": 11,
    "start_time": "2021-12-19T22:38:56.095Z"
   },
   {
    "duration": 11,
    "start_time": "2021-12-19T22:38:57.055Z"
   },
   {
    "duration": 3,
    "start_time": "2021-12-19T22:39:00.146Z"
   },
   {
    "duration": 10,
    "start_time": "2021-12-19T22:39:00.866Z"
   },
   {
    "duration": 13,
    "start_time": "2021-12-19T22:39:02.135Z"
   },
   {
    "duration": 9,
    "start_time": "2021-12-19T22:39:02.659Z"
   },
   {
    "duration": 4,
    "start_time": "2021-12-19T22:39:03.355Z"
   },
   {
    "duration": 7,
    "start_time": "2021-12-19T22:39:04.156Z"
   },
   {
    "duration": 6,
    "start_time": "2021-12-19T22:39:05.017Z"
   },
   {
    "duration": 8,
    "start_time": "2021-12-19T22:39:05.767Z"
   },
   {
    "duration": 3,
    "start_time": "2021-12-19T22:39:07.624Z"
   },
   {
    "duration": 30,
    "start_time": "2021-12-19T22:39:08.336Z"
   },
   {
    "duration": 11,
    "start_time": "2021-12-19T22:39:09.515Z"
   },
   {
    "duration": 20,
    "start_time": "2021-12-19T22:39:13.606Z"
   },
   {
    "duration": 12,
    "start_time": "2021-12-19T22:39:14.845Z"
   },
   {
    "duration": 9,
    "start_time": "2021-12-19T22:39:15.864Z"
   },
   {
    "duration": 5,
    "start_time": "2021-12-19T22:39:16.692Z"
   },
   {
    "duration": 14,
    "start_time": "2021-12-19T22:39:18.555Z"
   },
   {
    "duration": 20,
    "start_time": "2021-12-19T22:39:21.856Z"
   },
   {
    "duration": 27,
    "start_time": "2021-12-19T22:39:23.356Z"
   },
   {
    "duration": 20,
    "start_time": "2021-12-19T22:39:25.466Z"
   },
   {
    "duration": 14,
    "start_time": "2021-12-19T22:51:10.189Z"
   },
   {
    "duration": 12,
    "start_time": "2021-12-19T22:52:29.637Z"
   },
   {
    "duration": 7,
    "start_time": "2021-12-19T22:54:46.953Z"
   },
   {
    "duration": 8,
    "start_time": "2021-12-19T22:54:49.596Z"
   },
   {
    "duration": 383,
    "start_time": "2021-12-20T20:36:01.717Z"
   },
   {
    "duration": 873,
    "start_time": "2021-12-20T20:36:13.751Z"
   },
   {
    "duration": 13,
    "start_time": "2021-12-20T20:36:16.363Z"
   },
   {
    "duration": 23,
    "start_time": "2021-12-20T20:36:17.589Z"
   },
   {
    "duration": 25,
    "start_time": "2021-12-20T20:36:19.503Z"
   },
   {
    "duration": 54,
    "start_time": "2021-12-20T20:36:21.626Z"
   },
   {
    "duration": 11,
    "start_time": "2021-12-20T20:36:23.081Z"
   },
   {
    "duration": 16,
    "start_time": "2021-12-20T20:36:24.064Z"
   },
   {
    "duration": 14,
    "start_time": "2021-12-20T20:36:24.712Z"
   },
   {
    "duration": 10,
    "start_time": "2021-12-20T20:36:25.464Z"
   },
   {
    "duration": 3,
    "start_time": "2021-12-20T20:36:28.440Z"
   },
   {
    "duration": 19,
    "start_time": "2021-12-20T20:36:29.230Z"
   },
   {
    "duration": 22,
    "start_time": "2021-12-20T20:36:30.746Z"
   },
   {
    "duration": 19,
    "start_time": "2021-12-20T20:36:31.273Z"
   },
   {
    "duration": 5,
    "start_time": "2021-12-20T20:36:32.039Z"
   },
   {
    "duration": 8,
    "start_time": "2021-12-20T20:36:32.516Z"
   },
   {
    "duration": 8,
    "start_time": "2021-12-20T20:36:33.636Z"
   },
   {
    "duration": 8,
    "start_time": "2021-12-20T20:36:34.270Z"
   },
   {
    "duration": 6,
    "start_time": "2021-12-20T20:36:36.760Z"
   },
   {
    "duration": 10,
    "start_time": "2021-12-20T20:36:38.187Z"
   },
   {
    "duration": 51,
    "start_time": "2021-12-20T20:36:39.267Z"
   },
   {
    "duration": 17,
    "start_time": "2021-12-20T20:36:40.227Z"
   },
   {
    "duration": 9,
    "start_time": "2021-12-20T20:37:43.711Z"
   },
   {
    "duration": 18,
    "start_time": "2021-12-20T20:42:05.792Z"
   },
   {
    "duration": 9,
    "start_time": "2021-12-20T21:01:32.635Z"
   },
   {
    "duration": 9,
    "start_time": "2021-12-20T21:01:40.600Z"
   },
   {
    "duration": 11,
    "start_time": "2021-12-20T21:01:57.473Z"
   },
   {
    "duration": 46,
    "start_time": "2021-12-20T21:42:10.788Z"
   },
   {
    "duration": 110,
    "start_time": "2021-12-20T21:50:50.467Z"
   },
   {
    "duration": 10,
    "start_time": "2021-12-20T21:51:08.632Z"
   },
   {
    "duration": 12,
    "start_time": "2021-12-20T21:51:27.107Z"
   },
   {
    "duration": 11,
    "start_time": "2021-12-20T21:51:40.879Z"
   },
   {
    "duration": 12,
    "start_time": "2021-12-20T21:51:51.497Z"
   },
   {
    "duration": 11,
    "start_time": "2021-12-20T21:56:55.834Z"
   },
   {
    "duration": 11,
    "start_time": "2021-12-20T21:58:50.696Z"
   },
   {
    "duration": 14,
    "start_time": "2021-12-20T22:00:13.583Z"
   },
   {
    "duration": 13,
    "start_time": "2021-12-20T22:06:37.424Z"
   },
   {
    "duration": 15,
    "start_time": "2021-12-20T22:06:41.830Z"
   },
   {
    "duration": 11,
    "start_time": "2021-12-20T22:11:36.700Z"
   },
   {
    "duration": 12,
    "start_time": "2021-12-20T22:11:40.552Z"
   },
   {
    "duration": 15,
    "start_time": "2021-12-20T22:13:26.751Z"
   },
   {
    "duration": 13,
    "start_time": "2021-12-20T22:13:32.910Z"
   },
   {
    "duration": 9,
    "start_time": "2021-12-20T22:18:52.590Z"
   },
   {
    "duration": 9,
    "start_time": "2021-12-20T22:21:21.069Z"
   },
   {
    "duration": 7,
    "start_time": "2021-12-20T22:34:44.750Z"
   },
   {
    "duration": 9,
    "start_time": "2021-12-20T22:35:48.529Z"
   },
   {
    "duration": 12,
    "start_time": "2021-12-20T22:36:11.399Z"
   },
   {
    "duration": 15,
    "start_time": "2021-12-20T22:36:54.909Z"
   },
   {
    "duration": 10,
    "start_time": "2021-12-20T22:37:05.468Z"
   },
   {
    "duration": 9,
    "start_time": "2021-12-20T22:39:24.711Z"
   },
   {
    "duration": 40,
    "start_time": "2021-12-20T22:41:28.641Z"
   },
   {
    "duration": 33,
    "start_time": "2021-12-20T22:54:45.147Z"
   },
   {
    "duration": 36,
    "start_time": "2021-12-20T23:00:24.880Z"
   },
   {
    "duration": 37,
    "start_time": "2021-12-20T23:02:49.472Z"
   },
   {
    "duration": 8,
    "start_time": "2021-12-20T23:09:22.998Z"
   },
   {
    "duration": 321,
    "start_time": "2021-12-20T23:21:12.272Z"
   },
   {
    "duration": 37,
    "start_time": "2021-12-20T23:21:24.974Z"
   },
   {
    "duration": 101,
    "start_time": "2021-12-20T23:26:06.702Z"
   },
   {
    "duration": 37,
    "start_time": "2021-12-20T23:26:34.612Z"
   },
   {
    "duration": 43,
    "start_time": "2021-12-20T23:27:56.429Z"
   },
   {
    "duration": 42,
    "start_time": "2021-12-20T23:29:27.382Z"
   },
   {
    "duration": 35,
    "start_time": "2021-12-20T23:30:18.812Z"
   },
   {
    "duration": 36,
    "start_time": "2021-12-20T23:30:25.223Z"
   },
   {
    "duration": 7,
    "start_time": "2021-12-20T23:38:09.641Z"
   },
   {
    "duration": 8,
    "start_time": "2021-12-20T23:38:15.771Z"
   },
   {
    "duration": 37,
    "start_time": "2021-12-20T23:38:20.831Z"
   },
   {
    "duration": 11,
    "start_time": "2021-12-20T23:39:33.861Z"
   },
   {
    "duration": 38,
    "start_time": "2021-12-20T23:39:40.931Z"
   },
   {
    "duration": 13,
    "start_time": "2021-12-20T23:42:29.690Z"
   },
   {
    "duration": 14,
    "start_time": "2021-12-20T23:42:35.670Z"
   },
   {
    "duration": 45,
    "start_time": "2021-12-20T23:42:43.420Z"
   },
   {
    "duration": 740,
    "start_time": "2021-12-20T23:44:26.761Z"
   },
   {
    "duration": 287,
    "start_time": "2021-12-20T23:53:04.233Z"
   },
   {
    "duration": 293,
    "start_time": "2021-12-20T23:53:44.470Z"
   },
   {
    "duration": 319,
    "start_time": "2021-12-20T23:54:50.041Z"
   },
   {
    "duration": 279,
    "start_time": "2021-12-20T23:54:54.490Z"
   },
   {
    "duration": 3,
    "start_time": "2021-12-20T23:55:07.398Z"
   },
   {
    "duration": 64,
    "start_time": "2021-12-20T23:55:08.048Z"
   },
   {
    "duration": 6,
    "start_time": "2021-12-20T23:55:09.590Z"
   },
   {
    "duration": 16,
    "start_time": "2021-12-20T23:55:09.940Z"
   },
   {
    "duration": 23,
    "start_time": "2021-12-20T23:55:10.719Z"
   },
   {
    "duration": 36,
    "start_time": "2021-12-20T23:55:11.349Z"
   },
   {
    "duration": 8,
    "start_time": "2021-12-20T23:55:11.988Z"
   },
   {
    "duration": 10,
    "start_time": "2021-12-20T23:55:12.639Z"
   },
   {
    "duration": 10,
    "start_time": "2021-12-20T23:55:13.168Z"
   },
   {
    "duration": 14,
    "start_time": "2021-12-20T23:55:13.760Z"
   },
   {
    "duration": 4,
    "start_time": "2021-12-20T23:55:16.989Z"
   },
   {
    "duration": 13,
    "start_time": "2021-12-20T23:55:17.609Z"
   },
   {
    "duration": 16,
    "start_time": "2021-12-20T23:55:18.759Z"
   },
   {
    "duration": 12,
    "start_time": "2021-12-20T23:55:19.407Z"
   },
   {
    "duration": 6,
    "start_time": "2021-12-20T23:55:20.239Z"
   },
   {
    "duration": 10,
    "start_time": "2021-12-20T23:55:20.984Z"
   },
   {
    "duration": 10,
    "start_time": "2021-12-20T23:55:21.744Z"
   },
   {
    "duration": 10,
    "start_time": "2021-12-20T23:55:22.346Z"
   },
   {
    "duration": 6,
    "start_time": "2021-12-20T23:55:23.812Z"
   },
   {
    "duration": 14,
    "start_time": "2021-12-20T23:55:25.346Z"
   },
   {
    "duration": 28,
    "start_time": "2021-12-20T23:55:26.096Z"
   },
   {
    "duration": 14,
    "start_time": "2021-12-20T23:55:30.380Z"
   },
   {
    "duration": 14,
    "start_time": "2021-12-20T23:55:31.103Z"
   },
   {
    "duration": 9,
    "start_time": "2021-12-20T23:55:32.829Z"
   },
   {
    "duration": 11,
    "start_time": "2021-12-20T23:55:33.953Z"
   },
   {
    "duration": 8,
    "start_time": "2021-12-20T23:55:34.829Z"
   },
   {
    "duration": 6,
    "start_time": "2021-12-20T23:55:37.020Z"
   },
   {
    "duration": 8,
    "start_time": "2021-12-20T23:55:38.233Z"
   },
   {
    "duration": 12,
    "start_time": "2021-12-20T23:55:39.016Z"
   },
   {
    "duration": 65,
    "start_time": "2021-12-20T23:55:39.904Z"
   },
   {
    "duration": 55,
    "start_time": "2021-12-20T23:55:42.984Z"
   },
   {
    "duration": 2154,
    "start_time": "2021-12-20T23:59:58.428Z"
   },
   {
    "duration": 296,
    "start_time": "2021-12-21T00:00:14.581Z"
   },
   {
    "duration": 36,
    "start_time": "2021-12-21T00:00:18.630Z"
   },
   {
    "duration": 302,
    "start_time": "2021-12-21T00:00:27.928Z"
   },
   {
    "duration": 11,
    "start_time": "2021-12-21T00:04:43.109Z"
   },
   {
    "duration": 309,
    "start_time": "2021-12-21T00:05:57.539Z"
   },
   {
    "duration": 576,
    "start_time": "2021-12-21T00:06:15.409Z"
   },
   {
    "duration": 290,
    "start_time": "2021-12-21T00:06:59.254Z"
   },
   {
    "duration": 455,
    "start_time": "2021-12-21T00:07:03.434Z"
   },
   {
    "duration": 315,
    "start_time": "2021-12-21T00:07:13.849Z"
   },
   {
    "duration": 63,
    "start_time": "2021-12-21T00:07:22.960Z"
   },
   {
    "duration": 5,
    "start_time": "2021-12-21T00:07:25.166Z"
   },
   {
    "duration": 15,
    "start_time": "2021-12-21T00:07:25.919Z"
   },
   {
    "duration": 23,
    "start_time": "2021-12-21T00:07:26.589Z"
   },
   {
    "duration": 36,
    "start_time": "2021-12-21T00:07:27.458Z"
   },
   {
    "duration": 9,
    "start_time": "2021-12-21T00:07:28.038Z"
   },
   {
    "duration": 15,
    "start_time": "2021-12-21T00:07:28.778Z"
   },
   {
    "duration": 15,
    "start_time": "2021-12-21T00:07:29.488Z"
   },
   {
    "duration": 15,
    "start_time": "2021-12-21T00:07:30.129Z"
   },
   {
    "duration": 4,
    "start_time": "2021-12-21T00:07:33.338Z"
   },
   {
    "duration": 13,
    "start_time": "2021-12-21T00:07:34.148Z"
   },
   {
    "duration": 18,
    "start_time": "2021-12-21T00:07:35.486Z"
   },
   {
    "duration": 12,
    "start_time": "2021-12-21T00:07:36.088Z"
   },
   {
    "duration": 5,
    "start_time": "2021-12-21T00:07:37.160Z"
   },
   {
    "duration": 9,
    "start_time": "2021-12-21T00:07:37.708Z"
   },
   {
    "duration": 8,
    "start_time": "2021-12-21T00:07:38.180Z"
   },
   {
    "duration": 9,
    "start_time": "2021-12-21T00:07:43.085Z"
   },
   {
    "duration": 5,
    "start_time": "2021-12-21T00:07:43.388Z"
   },
   {
    "duration": 9,
    "start_time": "2021-12-21T00:07:45.079Z"
   },
   {
    "duration": 19,
    "start_time": "2021-12-21T00:07:45.928Z"
   },
   {
    "duration": 11,
    "start_time": "2021-12-21T00:07:49.451Z"
   },
   {
    "duration": 11,
    "start_time": "2021-12-21T00:07:49.830Z"
   },
   {
    "duration": 9,
    "start_time": "2021-12-21T00:07:51.138Z"
   },
   {
    "duration": 10,
    "start_time": "2021-12-21T00:07:51.618Z"
   },
   {
    "duration": 12,
    "start_time": "2021-12-21T00:07:52.378Z"
   },
   {
    "duration": 9,
    "start_time": "2021-12-21T00:07:53.828Z"
   },
   {
    "duration": 11,
    "start_time": "2021-12-21T00:07:54.278Z"
   },
   {
    "duration": 11,
    "start_time": "2021-12-21T00:07:54.948Z"
   },
   {
    "duration": 46,
    "start_time": "2021-12-21T00:07:55.679Z"
   },
   {
    "duration": 36,
    "start_time": "2021-12-21T00:07:57.339Z"
   },
   {
    "duration": 11,
    "start_time": "2021-12-21T00:07:58.888Z"
   },
   {
    "duration": 36,
    "start_time": "2021-12-21T00:08:09.068Z"
   },
   {
    "duration": 306,
    "start_time": "2021-12-21T00:08:42.148Z"
   },
   {
    "duration": 94,
    "start_time": "2021-12-21T00:08:56.446Z"
   },
   {
    "duration": 831,
    "start_time": "2021-12-21T00:09:40.678Z"
   },
   {
    "duration": 864,
    "start_time": "2021-12-21T00:10:09.558Z"
   },
   {
    "duration": 58,
    "start_time": "2021-12-21T00:14:51.059Z"
   },
   {
    "duration": 53,
    "start_time": "2021-12-21T00:15:14.669Z"
   },
   {
    "duration": 18,
    "start_time": "2021-12-21T00:17:41.956Z"
   },
   {
    "duration": 15,
    "start_time": "2021-12-21T00:17:50.358Z"
   },
   {
    "duration": 61,
    "start_time": "2021-12-21T00:17:57.461Z"
   },
   {
    "duration": 738,
    "start_time": "2021-12-21T00:18:17.327Z"
   },
   {
    "duration": 14,
    "start_time": "2021-12-21T00:18:36.399Z"
   },
   {
    "duration": 14,
    "start_time": "2021-12-21T00:18:41.339Z"
   },
   {
    "duration": 35,
    "start_time": "2021-12-21T00:18:51.899Z"
   },
   {
    "duration": 65,
    "start_time": "2021-12-21T00:19:01.638Z"
   },
   {
    "duration": 5,
    "start_time": "2021-12-21T00:19:02.778Z"
   },
   {
    "duration": 17,
    "start_time": "2021-12-21T00:19:03.319Z"
   },
   {
    "duration": 24,
    "start_time": "2021-12-21T00:19:03.918Z"
   },
   {
    "duration": 33,
    "start_time": "2021-12-21T00:19:04.559Z"
   },
   {
    "duration": 8,
    "start_time": "2021-12-21T00:19:05.239Z"
   },
   {
    "duration": 9,
    "start_time": "2021-12-21T00:19:06.167Z"
   },
   {
    "duration": 9,
    "start_time": "2021-12-21T00:19:06.738Z"
   },
   {
    "duration": 10,
    "start_time": "2021-12-21T00:19:07.461Z"
   },
   {
    "duration": 3,
    "start_time": "2021-12-21T00:19:10.079Z"
   },
   {
    "duration": 13,
    "start_time": "2021-12-21T00:19:10.618Z"
   },
   {
    "duration": 14,
    "start_time": "2021-12-21T00:19:11.898Z"
   },
   {
    "duration": 15,
    "start_time": "2021-12-21T00:19:12.418Z"
   },
   {
    "duration": 5,
    "start_time": "2021-12-21T00:19:13.098Z"
   },
   {
    "duration": 8,
    "start_time": "2021-12-21T00:19:13.846Z"
   },
   {
    "duration": 10,
    "start_time": "2021-12-21T00:19:14.359Z"
   },
   {
    "duration": 8,
    "start_time": "2021-12-21T00:19:15.058Z"
   },
   {
    "duration": 5,
    "start_time": "2021-12-21T00:19:16.038Z"
   },
   {
    "duration": 9,
    "start_time": "2021-12-21T00:19:17.178Z"
   },
   {
    "duration": 19,
    "start_time": "2021-12-21T00:19:17.678Z"
   },
   {
    "duration": 11,
    "start_time": "2021-12-21T00:19:19.019Z"
   },
   {
    "duration": 11,
    "start_time": "2021-12-21T00:19:19.538Z"
   },
   {
    "duration": 9,
    "start_time": "2021-12-21T00:19:20.718Z"
   },
   {
    "duration": 14,
    "start_time": "2021-12-21T00:19:21.400Z"
   },
   {
    "duration": 11,
    "start_time": "2021-12-21T00:19:24.699Z"
   },
   {
    "duration": 8,
    "start_time": "2021-12-21T00:19:26.120Z"
   },
   {
    "duration": 10,
    "start_time": "2021-12-21T00:19:27.318Z"
   },
   {
    "duration": 11,
    "start_time": "2021-12-21T00:19:28.219Z"
   },
   {
    "duration": 47,
    "start_time": "2021-12-21T00:19:29.058Z"
   },
   {
    "duration": 35,
    "start_time": "2021-12-21T00:19:34.518Z"
   },
   {
    "duration": 38,
    "start_time": "2021-12-21T00:19:36.935Z"
   },
   {
    "duration": 93,
    "start_time": "2021-12-21T00:20:09.120Z"
   },
   {
    "duration": 103,
    "start_time": "2021-12-21T00:20:30.627Z"
   },
   {
    "duration": 128,
    "start_time": "2021-12-21T00:20:44.698Z"
   },
   {
    "duration": 37,
    "start_time": "2021-12-21T00:20:52.281Z"
   },
   {
    "duration": 111,
    "start_time": "2021-12-21T00:22:44.305Z"
   },
   {
    "duration": 286,
    "start_time": "2021-12-21T00:23:15.820Z"
   },
   {
    "duration": 37,
    "start_time": "2021-12-21T00:23:27.705Z"
   },
   {
    "duration": 75,
    "start_time": "2021-12-21T00:30:29.027Z"
   },
   {
    "duration": 29,
    "start_time": "2021-12-21T00:32:05.083Z"
   },
   {
    "duration": 299,
    "start_time": "2021-12-21T00:35:09.546Z"
   },
   {
    "duration": 12,
    "start_time": "2021-12-21T00:35:54.947Z"
   },
   {
    "duration": 8,
    "start_time": "2021-12-21T00:35:58.075Z"
   },
   {
    "duration": 39,
    "start_time": "2021-12-21T00:36:04.665Z"
   },
   {
    "duration": 15,
    "start_time": "2021-12-21T00:36:21.985Z"
   },
   {
    "duration": 16,
    "start_time": "2021-12-21T00:36:29.385Z"
   },
   {
    "duration": 34,
    "start_time": "2021-12-21T00:36:59.064Z"
   },
   {
    "duration": 63,
    "start_time": "2021-12-21T00:37:16.145Z"
   },
   {
    "duration": 6,
    "start_time": "2021-12-21T00:37:17.225Z"
   },
   {
    "duration": 16,
    "start_time": "2021-12-21T00:37:17.626Z"
   },
   {
    "duration": 22,
    "start_time": "2021-12-21T00:37:18.346Z"
   },
   {
    "duration": 35,
    "start_time": "2021-12-21T00:37:18.985Z"
   },
   {
    "duration": 8,
    "start_time": "2021-12-21T00:37:19.614Z"
   },
   {
    "duration": 10,
    "start_time": "2021-12-21T00:37:20.386Z"
   },
   {
    "duration": 10,
    "start_time": "2021-12-21T00:37:21.025Z"
   },
   {
    "duration": 10,
    "start_time": "2021-12-21T00:37:21.693Z"
   },
   {
    "duration": 3,
    "start_time": "2021-12-21T00:37:24.305Z"
   },
   {
    "duration": 14,
    "start_time": "2021-12-21T00:37:24.905Z"
   },
   {
    "duration": 20,
    "start_time": "2021-12-21T00:37:26.153Z"
   },
   {
    "duration": 18,
    "start_time": "2021-12-21T00:37:26.634Z"
   },
   {
    "duration": 6,
    "start_time": "2021-12-21T00:37:27.145Z"
   },
   {
    "duration": 9,
    "start_time": "2021-12-21T00:37:27.825Z"
   },
   {
    "duration": 9,
    "start_time": "2021-12-21T00:37:28.345Z"
   },
   {
    "duration": 8,
    "start_time": "2021-12-21T00:37:29.066Z"
   },
   {
    "duration": 5,
    "start_time": "2021-12-21T00:37:30.114Z"
   },
   {
    "duration": 11,
    "start_time": "2021-12-21T00:37:31.466Z"
   },
   {
    "duration": 18,
    "start_time": "2021-12-21T00:37:32.225Z"
   },
   {
    "duration": 13,
    "start_time": "2021-12-21T00:37:34.154Z"
   },
   {
    "duration": 11,
    "start_time": "2021-12-21T00:37:36.465Z"
   },
   {
    "duration": 8,
    "start_time": "2021-12-21T00:37:37.665Z"
   },
   {
    "duration": 11,
    "start_time": "2021-12-21T00:37:38.146Z"
   },
   {
    "duration": 9,
    "start_time": "2021-12-21T00:37:39.065Z"
   },
   {
    "duration": 6,
    "start_time": "2021-12-21T00:37:40.265Z"
   },
   {
    "duration": 8,
    "start_time": "2021-12-21T00:37:40.705Z"
   },
   {
    "duration": 9,
    "start_time": "2021-12-21T00:37:41.257Z"
   },
   {
    "duration": 46,
    "start_time": "2021-12-21T00:37:43.017Z"
   },
   {
    "duration": 35,
    "start_time": "2021-12-21T00:37:43.313Z"
   },
   {
    "duration": 36,
    "start_time": "2021-12-21T00:37:45.145Z"
   },
   {
    "duration": 35,
    "start_time": "2021-12-21T00:39:02.626Z"
   },
   {
    "duration": 36,
    "start_time": "2021-12-21T00:39:03.665Z"
   },
   {
    "duration": 35,
    "start_time": "2021-12-21T00:44:54.226Z"
   },
   {
    "duration": 572,
    "start_time": "2021-12-21T00:48:08.065Z"
   },
   {
    "duration": 123,
    "start_time": "2021-12-21T00:48:20.185Z"
   },
   {
    "duration": 136,
    "start_time": "2021-12-21T00:48:54.664Z"
   },
   {
    "duration": 90,
    "start_time": "2021-12-21T00:49:02.785Z"
   },
   {
    "duration": 367,
    "start_time": "2021-12-21T00:49:27.026Z"
   },
   {
    "duration": 292,
    "start_time": "2021-12-21T00:51:05.345Z"
   },
   {
    "duration": 304,
    "start_time": "2021-12-21T00:51:09.146Z"
   },
   {
    "duration": 287,
    "start_time": "2021-12-21T00:51:27.464Z"
   },
   {
    "duration": 4645,
    "start_time": "2021-12-21T00:51:43.070Z"
   },
   {
    "duration": 3559,
    "start_time": "2021-12-21T00:52:02.694Z"
   },
   {
    "duration": 39,
    "start_time": "2021-12-21T00:52:18.824Z"
   },
   {
    "duration": 11,
    "start_time": "2021-12-21T01:09:29.476Z"
   },
   {
    "duration": 8,
    "start_time": "2021-12-21T01:09:34.434Z"
   },
   {
    "duration": 8,
    "start_time": "2021-12-21T01:09:47.454Z"
   },
   {
    "duration": 92,
    "start_time": "2021-12-21T01:09:54.054Z"
   },
   {
    "duration": 35,
    "start_time": "2021-12-21T01:10:00.855Z"
   },
   {
    "duration": 10,
    "start_time": "2021-12-21T01:10:36.155Z"
   },
   {
    "duration": 54,
    "start_time": "2021-12-21T01:10:43.652Z"
   },
   {
    "duration": 23,
    "start_time": "2021-12-21T01:11:28.395Z"
   },
   {
    "duration": 73,
    "start_time": "2021-12-21T01:12:10.115Z"
   },
   {
    "duration": 288,
    "start_time": "2021-12-21T01:12:55.012Z"
   },
   {
    "duration": 289,
    "start_time": "2021-12-21T01:13:04.595Z"
   },
   {
    "duration": 315,
    "start_time": "2021-12-21T01:13:18.135Z"
   },
   {
    "duration": 47,
    "start_time": "2021-12-21T01:13:24.835Z"
   },
   {
    "duration": 95,
    "start_time": "2021-12-21T01:26:42.254Z"
   },
   {
    "duration": 12,
    "start_time": "2021-12-21T01:27:10.964Z"
   },
   {
    "duration": 106,
    "start_time": "2021-12-21T01:27:25.435Z"
   },
   {
    "duration": 13,
    "start_time": "2021-12-21T01:27:26.435Z"
   },
   {
    "duration": 34,
    "start_time": "2021-12-21T01:30:52.094Z"
   },
   {
    "duration": 26,
    "start_time": "2021-12-21T01:31:28.835Z"
   },
   {
    "duration": 352,
    "start_time": "2021-12-21T01:37:08.694Z"
   },
   {
    "duration": 11,
    "start_time": "2021-12-21T01:37:29.114Z"
   },
   {
    "duration": 19,
    "start_time": "2021-12-21T01:37:30.475Z"
   },
   {
    "duration": 13,
    "start_time": "2021-12-21T01:38:08.715Z"
   },
   {
    "duration": 20,
    "start_time": "2021-12-21T01:38:10.616Z"
   },
   {
    "duration": 22,
    "start_time": "2021-12-21T01:44:54.094Z"
   },
   {
    "duration": 4,
    "start_time": "2021-12-21T01:44:55.862Z"
   },
   {
    "duration": 14,
    "start_time": "2021-12-21T01:44:58.474Z"
   },
   {
    "duration": 29,
    "start_time": "2021-12-21T01:45:02.142Z"
   },
   {
    "duration": 11,
    "start_time": "2021-12-21T01:52:17.755Z"
   },
   {
    "duration": 14,
    "start_time": "2021-12-21T01:52:19.135Z"
   },
   {
    "duration": 92,
    "start_time": "2021-12-21T01:52:30.575Z"
   },
   {
    "duration": 7,
    "start_time": "2021-12-21T01:52:31.815Z"
   },
   {
    "duration": 21,
    "start_time": "2021-12-21T01:52:32.416Z"
   },
   {
    "duration": 34,
    "start_time": "2021-12-21T01:52:32.814Z"
   },
   {
    "duration": 54,
    "start_time": "2021-12-21T01:52:33.435Z"
   },
   {
    "duration": 11,
    "start_time": "2021-12-21T01:52:34.183Z"
   },
   {
    "duration": 10,
    "start_time": "2021-12-21T01:52:34.895Z"
   },
   {
    "duration": 10,
    "start_time": "2021-12-21T01:52:35.574Z"
   },
   {
    "duration": 11,
    "start_time": "2021-12-21T01:52:36.416Z"
   },
   {
    "duration": 3,
    "start_time": "2021-12-21T01:52:41.054Z"
   },
   {
    "duration": 14,
    "start_time": "2021-12-21T01:52:41.943Z"
   },
   {
    "duration": 3,
    "start_time": "2021-12-21T01:52:45.194Z"
   },
   {
    "duration": 3,
    "start_time": "2021-12-21T01:52:45.836Z"
   },
   {
    "duration": 10,
    "start_time": "2021-12-21T01:52:46.835Z"
   },
   {
    "duration": 13,
    "start_time": "2021-12-21T01:52:47.574Z"
   },
   {
    "duration": 27,
    "start_time": "2021-12-21T01:52:48.974Z"
   },
   {
    "duration": 12,
    "start_time": "2021-12-21T01:53:33.954Z"
   },
   {
    "duration": 14,
    "start_time": "2021-12-21T01:53:36.255Z"
   },
   {
    "duration": 28,
    "start_time": "2021-12-21T01:53:37.715Z"
   },
   {
    "duration": 6881,
    "start_time": "2021-12-21T01:58:47.275Z"
   },
   {
    "duration": 103,
    "start_time": "2021-12-21T01:58:54.057Z"
   },
   {
    "duration": 9,
    "start_time": "2021-12-21T01:59:28.595Z"
   },
   {
    "duration": 15,
    "start_time": "2021-12-21T01:59:31.261Z"
   },
   {
    "duration": 10,
    "start_time": "2021-12-21T02:00:29.215Z"
   },
   {
    "duration": 14,
    "start_time": "2021-12-21T02:00:31.294Z"
   },
   {
    "duration": 10,
    "start_time": "2021-12-21T02:00:45.416Z"
   },
   {
    "duration": 13,
    "start_time": "2021-12-21T02:00:47.515Z"
   },
   {
    "duration": 10,
    "start_time": "2021-12-21T02:01:21.016Z"
   },
   {
    "duration": 12,
    "start_time": "2021-12-21T02:01:22.475Z"
   },
   {
    "duration": 10,
    "start_time": "2021-12-21T02:01:48.095Z"
   },
   {
    "duration": 12,
    "start_time": "2021-12-21T02:01:49.574Z"
   },
   {
    "duration": 29,
    "start_time": "2021-12-21T02:02:00.594Z"
   },
   {
    "duration": 13,
    "start_time": "2021-12-21T02:02:46.275Z"
   },
   {
    "duration": 29,
    "start_time": "2021-12-21T02:02:47.254Z"
   },
   {
    "duration": 4,
    "start_time": "2021-12-21T02:02:50.212Z"
   },
   {
    "duration": 8,
    "start_time": "2021-12-21T02:02:50.935Z"
   },
   {
    "duration": 8,
    "start_time": "2021-12-21T02:02:51.696Z"
   },
   {
    "duration": 8,
    "start_time": "2021-12-21T02:02:52.315Z"
   },
   {
    "duration": 4,
    "start_time": "2021-12-21T02:02:53.743Z"
   },
   {
    "duration": 9,
    "start_time": "2021-12-21T02:02:55.260Z"
   },
   {
    "duration": 23,
    "start_time": "2021-12-21T02:02:55.643Z"
   },
   {
    "duration": 10,
    "start_time": "2021-12-21T02:02:57.177Z"
   },
   {
    "duration": 10,
    "start_time": "2021-12-21T02:02:57.863Z"
   },
   {
    "duration": 9,
    "start_time": "2021-12-21T02:02:59.074Z"
   },
   {
    "duration": 10,
    "start_time": "2021-12-21T02:02:59.655Z"
   },
   {
    "duration": 10,
    "start_time": "2021-12-21T02:03:00.515Z"
   },
   {
    "duration": 7,
    "start_time": "2021-12-21T02:03:01.716Z"
   },
   {
    "duration": 8,
    "start_time": "2021-12-21T02:03:02.214Z"
   },
   {
    "duration": 8,
    "start_time": "2021-12-21T02:03:02.882Z"
   },
   {
    "duration": 52,
    "start_time": "2021-12-21T02:03:03.514Z"
   },
   {
    "duration": 38,
    "start_time": "2021-12-21T02:03:04.695Z"
   },
   {
    "duration": 14,
    "start_time": "2021-12-21T02:05:39.136Z"
   },
   {
    "duration": 26,
    "start_time": "2021-12-21T02:05:42.970Z"
   },
   {
    "duration": 25,
    "start_time": "2021-12-21T02:05:42.999Z"
   },
   {
    "duration": 40,
    "start_time": "2021-12-21T02:05:43.027Z"
   },
   {
    "duration": 6,
    "start_time": "2021-12-21T02:05:43.436Z"
   },
   {
    "duration": 17,
    "start_time": "2021-12-21T02:05:45.374Z"
   },
   {
    "duration": 30,
    "start_time": "2021-12-21T02:05:48.535Z"
   },
   {
    "duration": 47,
    "start_time": "2021-12-21T02:06:00.695Z"
   },
   {
    "duration": 29,
    "start_time": "2021-12-21T02:06:02.995Z"
   },
   {
    "duration": 28,
    "start_time": "2021-12-21T02:06:06.055Z"
   },
   {
    "duration": 3,
    "start_time": "2021-12-21T02:06:07.975Z"
   },
   {
    "duration": 6,
    "start_time": "2021-12-21T02:06:08.915Z"
   },
   {
    "duration": 6,
    "start_time": "2021-12-21T02:06:10.455Z"
   },
   {
    "duration": 8,
    "start_time": "2021-12-21T02:06:10.844Z"
   },
   {
    "duration": 7,
    "start_time": "2021-12-21T02:06:12.715Z"
   },
   {
    "duration": 10,
    "start_time": "2021-12-21T02:06:13.855Z"
   },
   {
    "duration": 5,
    "start_time": "2021-12-21T02:06:16.839Z"
   },
   {
    "duration": 4891,
    "start_time": "2021-12-21T02:06:17.855Z"
   },
   {
    "duration": 19,
    "start_time": "2021-12-21T02:06:22.749Z"
   },
   {
    "duration": 19,
    "start_time": "2021-12-21T02:06:22.771Z"
   },
   {
    "duration": 18,
    "start_time": "2021-12-21T02:06:22.793Z"
   },
   {
    "duration": 28,
    "start_time": "2021-12-21T02:06:22.814Z"
   },
   {
    "duration": 30,
    "start_time": "2021-12-21T02:06:22.845Z"
   },
   {
    "duration": 26,
    "start_time": "2021-12-21T02:06:29.195Z"
   },
   {
    "duration": 22,
    "start_time": "2021-12-21T02:06:31.995Z"
   },
   {
    "duration": 26,
    "start_time": "2021-12-21T02:06:34.235Z"
   },
   {
    "duration": 22,
    "start_time": "2021-12-21T02:06:38.755Z"
   },
   {
    "duration": 14,
    "start_time": "2021-12-21T02:10:44.459Z"
   },
   {
    "duration": 41,
    "start_time": "2021-12-21T02:11:07.004Z"
   },
   {
    "duration": 39,
    "start_time": "2021-12-21T02:27:39.615Z"
   },
   {
    "duration": 17,
    "start_time": "2021-12-21T02:29:22.795Z"
   },
   {
    "duration": 39,
    "start_time": "2021-12-21T02:29:35.395Z"
   },
   {
    "duration": 4,
    "start_time": "2021-12-21T03:00:04.697Z"
   },
   {
    "duration": 11,
    "start_time": "2021-12-21T03:01:13.097Z"
   },
   {
    "duration": 10,
    "start_time": "2021-12-21T03:01:43.938Z"
   },
   {
    "duration": 7906,
    "start_time": "2021-12-21T03:04:38.977Z"
   },
   {
    "duration": 71,
    "start_time": "2021-12-21T03:04:46.815Z"
   },
   {
    "duration": 66,
    "start_time": "2021-12-21T03:04:46.821Z"
   },
   {
    "duration": -169,
    "start_time": "2021-12-21T03:04:54.639Z"
   },
   {
    "duration": 6898,
    "start_time": "2021-12-21T03:05:18.916Z"
   },
   {
    "duration": 122,
    "start_time": "2021-12-21T03:05:25.696Z"
   },
   {
    "duration": 119,
    "start_time": "2021-12-21T03:05:25.700Z"
   },
   {
    "duration": 14,
    "start_time": "2021-12-21T03:05:27.556Z"
   },
   {
    "duration": 5,
    "start_time": "2021-12-21T03:05:30.535Z"
   },
   {
    "duration": 15,
    "start_time": "2021-12-21T03:05:32.135Z"
   },
   {
    "duration": 4,
    "start_time": "2021-12-21T03:06:58.208Z"
   },
   {
    "duration": 10,
    "start_time": "2021-12-21T03:06:59.034Z"
   },
   {
    "duration": 36,
    "start_time": "2021-12-21T03:07:01.444Z"
   },
   {
    "duration": 24,
    "start_time": "2021-12-21T03:07:24.956Z"
   },
   {
    "duration": 4,
    "start_time": "2021-12-21T03:08:18.437Z"
   },
   {
    "duration": 3,
    "start_time": "2021-12-21T03:09:24.337Z"
   },
   {
    "duration": 9,
    "start_time": "2021-12-21T03:09:25.635Z"
   },
   {
    "duration": 10,
    "start_time": "2021-12-21T03:09:26.763Z"
   },
   {
    "duration": 23,
    "start_time": "2021-12-21T03:09:32.659Z"
   },
   {
    "duration": 49,
    "start_time": "2021-12-21T03:10:26.977Z"
   },
   {
    "duration": 43,
    "start_time": "2021-12-21T03:10:51.816Z"
   },
   {
    "duration": 3,
    "start_time": "2021-12-21T16:58:57.205Z"
   },
   {
    "duration": 834,
    "start_time": "2021-12-21T16:58:57.211Z"
   },
   {
    "duration": 8,
    "start_time": "2021-12-21T16:58:58.047Z"
   },
   {
    "duration": 15,
    "start_time": "2021-12-21T16:58:58.057Z"
   },
   {
    "duration": 15,
    "start_time": "2021-12-21T16:58:58.074Z"
   },
   {
    "duration": 19,
    "start_time": "2021-12-21T16:58:58.091Z"
   },
   {
    "duration": 4,
    "start_time": "2021-12-21T16:58:58.112Z"
   },
   {
    "duration": 28,
    "start_time": "2021-12-21T16:58:58.118Z"
   },
   {
    "duration": 9,
    "start_time": "2021-12-21T16:58:58.148Z"
   },
   {
    "duration": 9,
    "start_time": "2021-12-21T16:58:58.158Z"
   },
   {
    "duration": 4,
    "start_time": "2021-12-21T16:58:58.169Z"
   },
   {
    "duration": 11,
    "start_time": "2021-12-21T16:58:58.175Z"
   },
   {
    "duration": 6,
    "start_time": "2021-12-21T16:58:58.188Z"
   },
   {
    "duration": 14,
    "start_time": "2021-12-21T16:58:58.196Z"
   },
   {
    "duration": 3,
    "start_time": "2021-12-21T17:00:47.105Z"
   },
   {
    "duration": 56,
    "start_time": "2021-12-21T17:00:47.118Z"
   },
   {
    "duration": 4,
    "start_time": "2021-12-21T17:00:47.176Z"
   },
   {
    "duration": 14,
    "start_time": "2021-12-21T17:00:47.182Z"
   },
   {
    "duration": 15,
    "start_time": "2021-12-21T17:00:47.198Z"
   },
   {
    "duration": 46,
    "start_time": "2021-12-21T17:00:47.214Z"
   },
   {
    "duration": 6,
    "start_time": "2021-12-21T17:00:47.262Z"
   },
   {
    "duration": 9,
    "start_time": "2021-12-21T17:00:47.269Z"
   },
   {
    "duration": 9,
    "start_time": "2021-12-21T17:00:47.280Z"
   },
   {
    "duration": 13,
    "start_time": "2021-12-21T17:00:47.291Z"
   },
   {
    "duration": 38,
    "start_time": "2021-12-21T17:00:47.306Z"
   },
   {
    "duration": 11,
    "start_time": "2021-12-21T17:00:47.347Z"
   },
   {
    "duration": 16,
    "start_time": "2021-12-21T17:00:47.360Z"
   },
   {
    "duration": 15,
    "start_time": "2021-12-21T17:00:47.378Z"
   },
   {
    "duration": 12,
    "start_time": "2021-12-21T17:00:47.395Z"
   },
   {
    "duration": 43,
    "start_time": "2021-12-21T17:00:47.408Z"
   },
   {
    "duration": 6,
    "start_time": "2021-12-21T17:00:47.452Z"
   },
   {
    "duration": 9,
    "start_time": "2021-12-21T17:00:47.459Z"
   },
   {
    "duration": 10,
    "start_time": "2021-12-21T17:00:47.470Z"
   },
   {
    "duration": 12,
    "start_time": "2021-12-21T17:00:47.482Z"
   },
   {
    "duration": 4,
    "start_time": "2021-12-21T17:00:47.496Z"
   },
   {
    "duration": 12,
    "start_time": "2021-12-21T17:00:47.502Z"
   },
   {
    "duration": 28,
    "start_time": "2021-12-21T17:00:47.516Z"
   },
   {
    "duration": 46,
    "start_time": "2021-12-21T17:00:47.546Z"
   },
   {
    "duration": 15,
    "start_time": "2021-12-21T17:00:47.593Z"
   },
   {
    "duration": 12,
    "start_time": "2021-12-21T17:00:47.610Z"
   },
   {
    "duration": 12,
    "start_time": "2021-12-21T17:00:47.624Z"
   },
   {
    "duration": 12,
    "start_time": "2021-12-21T17:00:47.638Z"
   },
   {
    "duration": 8,
    "start_time": "2021-12-21T17:00:47.651Z"
   },
   {
    "duration": 19,
    "start_time": "2021-12-21T17:00:47.661Z"
   },
   {
    "duration": 13,
    "start_time": "2021-12-21T17:00:47.682Z"
   },
   {
    "duration": 32,
    "start_time": "2021-12-21T17:00:47.697Z"
   },
   {
    "duration": 26,
    "start_time": "2021-12-21T17:00:47.731Z"
   },
   {
    "duration": 23,
    "start_time": "2021-12-21T17:00:47.759Z"
   },
   {
    "duration": 30,
    "start_time": "2021-12-21T17:00:47.784Z"
   },
   {
    "duration": 12,
    "start_time": "2021-12-21T17:00:47.842Z"
   }
  ],
  "kernelspec": {
   "display_name": "Python 3 (ipykernel)",
   "language": "python",
   "name": "python3"
  },
  "language_info": {
   "codemirror_mode": {
    "name": "ipython",
    "version": 3
   },
   "file_extension": ".py",
   "mimetype": "text/x-python",
   "name": "python",
   "nbconvert_exporter": "python",
   "pygments_lexer": "ipython3",
   "version": "3.9.5"
  },
  "toc": {
   "base_numbering": 1,
   "nav_menu": {},
   "number_sections": true,
   "sideBar": true,
   "skip_h1_title": true,
   "title_cell": "Table of Contents",
   "title_sidebar": "Contents",
   "toc_cell": false,
   "toc_position": {},
   "toc_section_display": true,
   "toc_window_display": false
  }
 },
 "nbformat": 4,
 "nbformat_minor": 2
}
