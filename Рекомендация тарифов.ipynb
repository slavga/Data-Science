{
 "cells": [
  {
   "cell_type": "markdown",
   "metadata": {},
   "source": [
    "# Рекомендация тарифов"
   ]
  },
  {
   "cell_type": "markdown",
   "metadata": {},
   "source": [
    "В распоряжении есть данные о поведении клиентов, которые уже перешли на эти тарифы. Нужно построить модель для задачи классификации, которая выберет подходящий тариф. Предобработка данных не понадобится — данные обработаны.\n",
    "\n",
    "Построим модель с максимально большим значением *accuracy*. Доведем долю правильных ответов по крайней мере до 0.75. Проверим *accuracy* на тестовой выборке."
   ]
  },
  {
   "cell_type": "markdown",
   "metadata": {},
   "source": [
    "\n",
    "\n",
    "<font size = 4> **Описание данных**</font>\n",
    "\n",
    "Каждый объект в наборе данных — это информация о поведении одного пользователя за месяц. Известно:\n",
    "\n",
    "- сalls — количество звонков,\n",
    "- minutes — суммарная длительность звонков в минутах,\n",
    "- messages — количество sms-сообщений,\n",
    "- mb_used — израсходованный интернет-трафик в Мб,\n",
    "- is_ultra — каким тарифом пользовался в течение месяца («Ультра» — 1, «Смарт» — 0).\n",
    "\n",
    "<font size = 4> **Оглавление проекта:**</font>\n",
    "- Откроем и изучим файл\n",
    "- Разобьём данные на выборки\n",
    "- Исследуем модели\n",
    "- Проверим модель на тестовой выборке\n",
    "- Проверим модель на адекватность"
   ]
  },
  {
   "cell_type": "markdown",
   "metadata": {},
   "source": [
    "## Открываем и изучаем данные"
   ]
  },
  {
   "cell_type": "markdown",
   "metadata": {},
   "source": [
    "Подключаем библиотеки:"
   ]
  },
  {
   "cell_type": "code",
   "execution_count": 1,
   "metadata": {},
   "outputs": [],
   "source": [
    "import pandas as pd\n",
    "import matplotlib.pyplot as plt\n",
    "import seaborn as sns\n",
    "from sklearn.model_selection import train_test_split\n",
    "from sklearn.metrics import accuracy_score\n",
    "from sklearn.tree import DecisionTreeClassifier\n",
    "from sklearn.dummy import DummyClassifier\n",
    "from sklearn.linear_model import LogisticRegression\n",
    "from sklearn.ensemble import RandomForestClassifier\n",
    "import warnings\n",
    "warnings.filterwarnings('ignore')"
   ]
  },
  {
   "cell_type": "markdown",
   "metadata": {},
   "source": [
    "Загрузим данные из файла users_behavior.csv, выведем первые 10 строк таблицы для первого взгляда на данные.\n",
    "Также с помощью метода info() изучим структуру таблицы: типы данных, количество строк, столбцов, пропущенных данных."
   ]
  },
  {
   "cell_type": "code",
   "execution_count": 2,
   "metadata": {},
   "outputs": [
    {
     "data": {
      "text/html": [
       "<div>\n",
       "<style scoped>\n",
       "    .dataframe tbody tr th:only-of-type {\n",
       "        vertical-align: middle;\n",
       "    }\n",
       "\n",
       "    .dataframe tbody tr th {\n",
       "        vertical-align: top;\n",
       "    }\n",
       "\n",
       "    .dataframe thead th {\n",
       "        text-align: right;\n",
       "    }\n",
       "</style>\n",
       "<table border=\"1\" class=\"dataframe\">\n",
       "  <thead>\n",
       "    <tr style=\"text-align: right;\">\n",
       "      <th></th>\n",
       "      <th>calls</th>\n",
       "      <th>minutes</th>\n",
       "      <th>messages</th>\n",
       "      <th>mb_used</th>\n",
       "      <th>is_ultra</th>\n",
       "    </tr>\n",
       "  </thead>\n",
       "  <tbody>\n",
       "    <tr>\n",
       "      <th>0</th>\n",
       "      <td>40.0</td>\n",
       "      <td>311.90</td>\n",
       "      <td>83.0</td>\n",
       "      <td>19915.42</td>\n",
       "      <td>0</td>\n",
       "    </tr>\n",
       "    <tr>\n",
       "      <th>1</th>\n",
       "      <td>85.0</td>\n",
       "      <td>516.75</td>\n",
       "      <td>56.0</td>\n",
       "      <td>22696.96</td>\n",
       "      <td>0</td>\n",
       "    </tr>\n",
       "    <tr>\n",
       "      <th>2</th>\n",
       "      <td>77.0</td>\n",
       "      <td>467.66</td>\n",
       "      <td>86.0</td>\n",
       "      <td>21060.45</td>\n",
       "      <td>0</td>\n",
       "    </tr>\n",
       "    <tr>\n",
       "      <th>3</th>\n",
       "      <td>106.0</td>\n",
       "      <td>745.53</td>\n",
       "      <td>81.0</td>\n",
       "      <td>8437.39</td>\n",
       "      <td>1</td>\n",
       "    </tr>\n",
       "    <tr>\n",
       "      <th>4</th>\n",
       "      <td>66.0</td>\n",
       "      <td>418.74</td>\n",
       "      <td>1.0</td>\n",
       "      <td>14502.75</td>\n",
       "      <td>0</td>\n",
       "    </tr>\n",
       "    <tr>\n",
       "      <th>5</th>\n",
       "      <td>58.0</td>\n",
       "      <td>344.56</td>\n",
       "      <td>21.0</td>\n",
       "      <td>15823.37</td>\n",
       "      <td>0</td>\n",
       "    </tr>\n",
       "    <tr>\n",
       "      <th>6</th>\n",
       "      <td>57.0</td>\n",
       "      <td>431.64</td>\n",
       "      <td>20.0</td>\n",
       "      <td>3738.90</td>\n",
       "      <td>1</td>\n",
       "    </tr>\n",
       "    <tr>\n",
       "      <th>7</th>\n",
       "      <td>15.0</td>\n",
       "      <td>132.40</td>\n",
       "      <td>6.0</td>\n",
       "      <td>21911.60</td>\n",
       "      <td>0</td>\n",
       "    </tr>\n",
       "    <tr>\n",
       "      <th>8</th>\n",
       "      <td>7.0</td>\n",
       "      <td>43.39</td>\n",
       "      <td>3.0</td>\n",
       "      <td>2538.67</td>\n",
       "      <td>1</td>\n",
       "    </tr>\n",
       "    <tr>\n",
       "      <th>9</th>\n",
       "      <td>90.0</td>\n",
       "      <td>665.41</td>\n",
       "      <td>38.0</td>\n",
       "      <td>17358.61</td>\n",
       "      <td>0</td>\n",
       "    </tr>\n",
       "  </tbody>\n",
       "</table>\n",
       "</div>"
      ],
      "text/plain": [
       "   calls  minutes  messages   mb_used  is_ultra\n",
       "0   40.0   311.90      83.0  19915.42         0\n",
       "1   85.0   516.75      56.0  22696.96         0\n",
       "2   77.0   467.66      86.0  21060.45         0\n",
       "3  106.0   745.53      81.0   8437.39         1\n",
       "4   66.0   418.74       1.0  14502.75         0\n",
       "5   58.0   344.56      21.0  15823.37         0\n",
       "6   57.0   431.64      20.0   3738.90         1\n",
       "7   15.0   132.40       6.0  21911.60         0\n",
       "8    7.0    43.39       3.0   2538.67         1\n",
       "9   90.0   665.41      38.0  17358.61         0"
      ]
     },
     "execution_count": 2,
     "metadata": {},
     "output_type": "execute_result"
    }
   ],
   "source": [
    "# читаем данные из .csv файла с помощью метода read_csv()\n",
    "users = pd.read_csv('/datasets/users_behavior.csv')\n",
    "# выведем первые 10 строк таблицы с помощью метода head()\n",
    "users.head(10)\n",
    "# с помощью метода info() изучим структуры таблицы: типы данных, количество строк, столбцов, пропущенных данных.\n"
   ]
  },
  {
   "cell_type": "code",
   "execution_count": 3,
   "metadata": {},
   "outputs": [
    {
     "name": "stdout",
     "output_type": "stream",
     "text": [
      "<class 'pandas.core.frame.DataFrame'>\n",
      "RangeIndex: 3214 entries, 0 to 3213\n",
      "Data columns (total 5 columns):\n",
      " #   Column    Non-Null Count  Dtype  \n",
      "---  ------    --------------  -----  \n",
      " 0   calls     3214 non-null   float64\n",
      " 1   minutes   3214 non-null   float64\n",
      " 2   messages  3214 non-null   float64\n",
      " 3   mb_used   3214 non-null   float64\n",
      " 4   is_ultra  3214 non-null   int64  \n",
      "dtypes: float64(4), int64(1)\n",
      "memory usage: 125.7 KB\n"
     ]
    }
   ],
   "source": [
    "# с помощью метода info() изучим структуры таблицы: типы данных, количество строк, столбцов, пропущенных данных.\n",
    "users.info()"
   ]
  },
  {
   "cell_type": "markdown",
   "metadata": {},
   "source": [
    "В таблице данных 3214 объектов. Пропусков нет.\n",
    "В столбцах calls и messages содержится целочисленная информация. Заменим тип данных в них на int64 для уменьшения занимаемого места."
   ]
  },
  {
   "cell_type": "code",
   "execution_count": 4,
   "metadata": {},
   "outputs": [],
   "source": [
    "users['calls'] = users['calls'].astype('int16')\n",
    "users['messages'] = users['messages'].astype('int16')"
   ]
  },
  {
   "cell_type": "markdown",
   "metadata": {},
   "source": [
    "Рассмотрим распределение данных"
   ]
  },
  {
   "cell_type": "code",
   "execution_count": 5,
   "metadata": {},
   "outputs": [
    {
     "data": {
      "text/html": [
       "<div>\n",
       "<style scoped>\n",
       "    .dataframe tbody tr th:only-of-type {\n",
       "        vertical-align: middle;\n",
       "    }\n",
       "\n",
       "    .dataframe tbody tr th {\n",
       "        vertical-align: top;\n",
       "    }\n",
       "\n",
       "    .dataframe thead th {\n",
       "        text-align: right;\n",
       "    }\n",
       "</style>\n",
       "<table border=\"1\" class=\"dataframe\">\n",
       "  <thead>\n",
       "    <tr style=\"text-align: right;\">\n",
       "      <th></th>\n",
       "      <th>calls</th>\n",
       "      <th>minutes</th>\n",
       "      <th>messages</th>\n",
       "      <th>mb_used</th>\n",
       "      <th>is_ultra</th>\n",
       "    </tr>\n",
       "  </thead>\n",
       "  <tbody>\n",
       "    <tr>\n",
       "      <th>count</th>\n",
       "      <td>3214.000000</td>\n",
       "      <td>3214.000000</td>\n",
       "      <td>3214.000000</td>\n",
       "      <td>3214.000000</td>\n",
       "      <td>3214.000000</td>\n",
       "    </tr>\n",
       "    <tr>\n",
       "      <th>mean</th>\n",
       "      <td>63.038892</td>\n",
       "      <td>438.208787</td>\n",
       "      <td>38.281269</td>\n",
       "      <td>17207.673836</td>\n",
       "      <td>0.306472</td>\n",
       "    </tr>\n",
       "    <tr>\n",
       "      <th>std</th>\n",
       "      <td>33.236368</td>\n",
       "      <td>234.569872</td>\n",
       "      <td>36.148326</td>\n",
       "      <td>7570.968246</td>\n",
       "      <td>0.461100</td>\n",
       "    </tr>\n",
       "    <tr>\n",
       "      <th>min</th>\n",
       "      <td>0.000000</td>\n",
       "      <td>0.000000</td>\n",
       "      <td>0.000000</td>\n",
       "      <td>0.000000</td>\n",
       "      <td>0.000000</td>\n",
       "    </tr>\n",
       "    <tr>\n",
       "      <th>25%</th>\n",
       "      <td>40.000000</td>\n",
       "      <td>274.575000</td>\n",
       "      <td>9.000000</td>\n",
       "      <td>12491.902500</td>\n",
       "      <td>0.000000</td>\n",
       "    </tr>\n",
       "    <tr>\n",
       "      <th>50%</th>\n",
       "      <td>62.000000</td>\n",
       "      <td>430.600000</td>\n",
       "      <td>30.000000</td>\n",
       "      <td>16943.235000</td>\n",
       "      <td>0.000000</td>\n",
       "    </tr>\n",
       "    <tr>\n",
       "      <th>75%</th>\n",
       "      <td>82.000000</td>\n",
       "      <td>571.927500</td>\n",
       "      <td>57.000000</td>\n",
       "      <td>21424.700000</td>\n",
       "      <td>1.000000</td>\n",
       "    </tr>\n",
       "    <tr>\n",
       "      <th>max</th>\n",
       "      <td>244.000000</td>\n",
       "      <td>1632.060000</td>\n",
       "      <td>224.000000</td>\n",
       "      <td>49745.730000</td>\n",
       "      <td>1.000000</td>\n",
       "    </tr>\n",
       "  </tbody>\n",
       "</table>\n",
       "</div>"
      ],
      "text/plain": [
       "             calls      minutes     messages       mb_used     is_ultra\n",
       "count  3214.000000  3214.000000  3214.000000   3214.000000  3214.000000\n",
       "mean     63.038892   438.208787    38.281269  17207.673836     0.306472\n",
       "std      33.236368   234.569872    36.148326   7570.968246     0.461100\n",
       "min       0.000000     0.000000     0.000000      0.000000     0.000000\n",
       "25%      40.000000   274.575000     9.000000  12491.902500     0.000000\n",
       "50%      62.000000   430.600000    30.000000  16943.235000     0.000000\n",
       "75%      82.000000   571.927500    57.000000  21424.700000     1.000000\n",
       "max     244.000000  1632.060000   224.000000  49745.730000     1.000000"
      ]
     },
     "execution_count": 5,
     "metadata": {},
     "output_type": "execute_result"
    }
   ],
   "source": [
    "users.describe()"
   ]
  },
  {
   "cell_type": "markdown",
   "metadata": {},
   "source": [
    "По всем признакам медиана и среднее значение не сильно отличаются друг от друга. Перекоса в данных почти не наблюдается.\n",
    "Построим графики распределений признаков (гистограммы и boxplot)"
   ]
  },
  {
   "cell_type": "code",
   "execution_count": 6,
   "metadata": {},
   "outputs": [],
   "source": [
    "def show_hists(data, data_label, num_bins, rug=False, log_scale=False):\n",
    "    \"\"\"\n",
    "    input: data - данные для построения гистограммы\n",
    "           data_label - описание данных\n",
    "           num_bins - количество ячеек\n",
    "    output: None\n",
    "    description: Функция строит гистограмму и boxplot для выбранного параметра:\n",
    "                - Плотность распределения (методом distplot() библиотеки seaborn)\n",
    "                - Boxplot (метод boxplot() библиотеки seaborn)\n",
    "    \"\"\"\n",
    "    sns.set()\n",
    "    f, axes = plt.subplots(1, 2, figsize=(16, 4))\n",
    "    axes[0].set_title(data_label + \". Плотность распределения\", fontsize=18)\n",
    "    axes[0].set_ylabel('плотность', fontsize=15)\n",
    "    sns.distplot(data, bins=num_bins, rug=rug, ax=axes[0])\n",
    "    axes[1].set_title(data_label + \". Boxplot\", fontsize=18)\n",
    "    sns.boxplot(data=users, x=data_label, ax=axes[1])\n",
    "    plt.show()"
   ]
  },
  {
   "cell_type": "code",
   "execution_count": 7,
   "metadata": {},
   "outputs": [
    {
     "data": {
      "image/png": "[encoded data removed]",
      "text/plain": [
       "<Figure size 1152x288 with 2 Axes>"
      ]
     },
     "metadata": {},
     "output_type": "display_data"
    },
    {
     "data": {
      "image/png": "[encoded data removed]",
      "text/plain": [
       "<Figure size 1152x288 with 2 Axes>"
      ]
     },
     "metadata": {},
     "output_type": "display_data"
    },
    {
     "data": {
      "image/png": "[encoded data removed]",
      "text/plain": [
       "<Figure size 1152x288 with 2 Axes>"
      ]
     },
     "metadata": {},
     "output_type": "display_data"
    },
    {
     "data": {
      "image/png": "[encoded data removed]",
      "text/plain": [
       "<Figure size 1152x288 with 2 Axes>"
      ]
     },
     "metadata": {},
     "output_type": "display_data"
    }
   ],
   "source": [
    "for column in users.drop('is_ultra', axis=1).columns:\n",
    "    show_hists(users[column], column, num_bins=30)"
   ]
  },
  {
   "cell_type": "markdown",
   "metadata": {},
   "source": [
    "- messages существенная доля пользователей не отправляющих сообщения"
   ]
  },
  {
   "cell_type": "code",
   "execution_count": 8,
   "metadata": {},
   "outputs": [
    {
     "name": "stdout",
     "output_type": "stream",
     "text": [
      "Доля пользователей, не отправляющих сообщения: 15.46 %\n"
     ]
    }
   ],
   "source": [
    "zero_mes_rate = round(len(users.loc[users['messages'] == 0]) / len(users) * 100, 2)\n",
    "print('Доля пользователей, не отправляющих сообщения: {} %'.format(zero_mes_rate))"
   ]
  },
  {
   "cell_type": "markdown",
   "metadata": {},
   "source": [
    "- определим доли выбросов по всем признакам"
   ]
  },
  {
   "cell_type": "code",
   "execution_count": 9,
   "metadata": {},
   "outputs": [],
   "source": [
    "def outliers_rate(data, column):\n",
    "    \"\"\"\n",
    "    input: data - таблица данных\n",
    "           column - признак для подсчета доли выбросов\n",
    "    output: None\n",
    "    description: Функция считает и выводит долю выбросов по выбранному признаку в %.\n",
    "                 функция возвращает значение границы выбросов.\n",
    "    \"\"\"\n",
    "    # квантили считаются методом quantile()\n",
    "    # граница выбросов считается по формуле  [ q.75 + (q.75 - q.25)*1.5 ]\n",
    "    max_val = (data[column].quantile(0.75) - data[column].quantile(0.25))*1.5 + data[column].quantile(0.75)\n",
    "    rate = round(len(data.loc[data[column] > max_val]) / len(data) * 100, 2)\n",
    "    print('Доля выбросов в параметре {}: {} %'.format(column, rate))\n",
    "    return max_val"
   ]
  },
  {
   "cell_type": "code",
   "execution_count": 10,
   "metadata": {},
   "outputs": [
    {
     "name": "stdout",
     "output_type": "stream",
     "text": [
      "Доля выбросов в параметре calls: 1.93 %\n",
      "Доля выбросов в параметре minutes: 1.9 %\n",
      "Доля выбросов в параметре messages: 2.83 %\n",
      "Доля выбросов в параметре mb_used: 2.4 %\n",
      "Общая доля выбросов: 6.47 %\n"
     ]
    }
   ],
   "source": [
    "# в переменной max_vals будем хранить границы выбросов по признакам\n",
    "max_vals = []\n",
    "# считаем границы выбросов по всем признакам и выводим доли выбросов по отдельным признакам\n",
    "for column in users.drop('is_ultra', axis=1).columns:\n",
    "    max_vals.append(outliers_rate(users, column))\n",
    "\n",
    "# считаем общую долю выбросов по всем признакам.\n",
    "whole_rate = len(users.loc[(users['calls'] > max_vals[0]) | \n",
    "                (users['minutes'] > max_vals[1]) | \n",
    "                (users['messages'] > max_vals[2]) | \n",
    "                (users['mb_used'] > max_vals[3]) \n",
    "                          ]) / len(users)\n",
    "print('Общая доля выбросов: {} %'.format(round(whole_rate*100, 2)))"
   ]
  },
  {
   "cell_type": "markdown",
   "metadata": {},
   "source": [
    "Выбросов около 6.5%. Не будем их удалять.\n",
    "\n",
    "<font size = 4> **Выводы**</font>\n",
    "\n",
    "- Данные успешно загружены и проанализированы. \n",
    "- Таблица данных содержит 3214 объектов, пропусков нет.\n",
    "- Типы данных признаков calls и messages заменены на целочисленный int64.\n",
    "- Сильного перекоса в распределениях признаков не наблюдается.\n",
    "- Общая доля выбросов составляет 6.5%. Выбросы не удалены."
   ]
  },
  {
   "cell_type": "markdown",
   "metadata": {},
   "source": [
    "## Делим данные на выборки"
   ]
  },
  {
   "cell_type": "markdown",
   "metadata": {},
   "source": [
    "Для корректной проверки будущей модели нам необходимо разбить данные на 3 выборки - обучающую, валидационную и тестовую.\n",
    "Сначала отделим от датасета 60% наблюдений - это будет обучающая выборка. Оставщиеся данные поделим пополам - на тестовую и валидационную выборки. Таким образом мы разобьем данные в соотношении 60/20/20."
   ]
  },
  {
   "cell_type": "code",
   "execution_count": 11,
   "metadata": {},
   "outputs": [],
   "source": [
    "users_train, users_test = train_test_split(users, test_size=0.4, random_state=12345)\n",
    "users_test, users_valid = train_test_split(users_test, test_size=0.5, random_state=12345)\n"
   ]
  },
  {
   "cell_type": "code",
   "execution_count": 12,
   "metadata": {},
   "outputs": [
    {
     "data": {
      "text/plain": [
       "(1928, 5)"
      ]
     },
     "execution_count": 12,
     "metadata": {},
     "output_type": "execute_result"
    }
   ],
   "source": [
    "users_train.shape"
   ]
  },
  {
   "cell_type": "code",
   "execution_count": 13,
   "metadata": {},
   "outputs": [
    {
     "data": {
      "text/plain": [
       "(643, 5)"
      ]
     },
     "execution_count": 13,
     "metadata": {},
     "output_type": "execute_result"
    }
   ],
   "source": [
    "users_test.shape"
   ]
  },
  {
   "cell_type": "code",
   "execution_count": 14,
   "metadata": {},
   "outputs": [
    {
     "data": {
      "text/plain": [
       "(643, 5)"
      ]
     },
     "execution_count": 14,
     "metadata": {},
     "output_type": "execute_result"
    }
   ],
   "source": [
    "users_valid.shape"
   ]
  },
  {
   "cell_type": "markdown",
   "metadata": {},
   "source": [
    "<font size=4> **Вывод:** </font>\n",
    "\n",
    "Разделили данные на три выборки в соотношении 60/20/20 соответственно:\n",
    "\n",
    "- users_train - обучающая\n",
    "- users_test - тестовая\n",
    "- users_valid - валидационная"
   ]
  },
  {
   "cell_type": "markdown",
   "metadata": {},
   "source": [
    "## Исследуем модели"
   ]
  },
  {
   "cell_type": "markdown",
   "metadata": {},
   "source": [
    "Подготовим данные и обучим модель, а затем исследуем качество разных моделей, меняя гиперпараметры."
   ]
  },
  {
   "cell_type": "code",
   "execution_count": 15,
   "metadata": {},
   "outputs": [],
   "source": [
    "#подготовим признаки и целевой признак обучающей и валидационной выборок\n",
    "features_train = users_train.drop(['is_ultra'], axis=1)\n",
    "target_train = users_train['is_ultra']"
   ]
  },
  {
   "cell_type": "code",
   "execution_count": 16,
   "metadata": {},
   "outputs": [],
   "source": [
    "features_valid = users_valid.drop(['is_ultra'], axis=1)\n",
    "target_valid = users_valid['is_ultra']"
   ]
  },
  {
   "cell_type": "markdown",
   "metadata": {},
   "source": [
    "### Решающее дерево"
   ]
  },
  {
   "cell_type": "markdown",
   "metadata": {},
   "source": [
    "DecisionTreeClassifier"
   ]
  },
  {
   "cell_type": "code",
   "execution_count": 17,
   "metadata": {},
   "outputs": [
    {
     "name": "stdout",
     "output_type": "stream",
     "text": [
      "Accuracy при max_depth = 3\n",
      "Обучающая выборка: 0.8075726141078838\n",
      "Валидационная выборка: 0.7791601866251944\n",
      "\n",
      "Accuracy при max_depth = 4\n",
      "Обучающая выборка: 0.8106846473029046\n",
      "Валидационная выборка: 0.7744945567651633\n",
      "\n",
      "Accuracy при max_depth = 5\n",
      "Обучающая выборка: 0.8200207468879668\n",
      "Валидационная выборка: 0.7838258164852255\n",
      "\n",
      "Accuracy при max_depth = 6\n",
      "Обучающая выборка: 0.8376556016597511\n",
      "Валидационная выборка: 0.776049766718507\n",
      "\n"
     ]
    }
   ],
   "source": [
    "#исследуем работу модели с различными значениями гиперпараметра max_depth\n",
    "for depth in range(3, 7, 1):\n",
    "    model1 = DecisionTreeClassifier(random_state=12345, max_depth=depth)\n",
    "    model1.fit(features_train, target_train)\n",
    "    predictions_train = model1.predict(features_train)\n",
    "    predictions_valid = model1.predict(features_valid)\n",
    "    print(\"Accuracy при max_depth =\", depth)\n",
    "    print(\"Обучающая выборка:\", accuracy_score(target_train, predictions_train))\n",
    "    print(\"Валидационная выборка:\", accuracy_score(target_valid, predictions_valid))\n",
    "    print()"
   ]
  },
  {
   "cell_type": "markdown",
   "metadata": {},
   "source": [
    "### Случайный лес"
   ]
  },
  {
   "cell_type": "markdown",
   "metadata": {},
   "source": [
    "RandomForestClassifier"
   ]
  },
  {
   "cell_type": "code",
   "execution_count": 18,
   "metadata": {},
   "outputs": [
    {
     "name": "stdout",
     "output_type": "stream",
     "text": [
      "Accuracy при n_estimators = 2\n",
      "Обучающая выборка: 0.9118257261410788\n",
      "Валидационная выборка: 0.7713841368584758\n",
      "\n",
      "Accuracy при n_estimators = 3\n",
      "Обучающая выборка: 0.9507261410788381\n",
      "Валидационная выборка: 0.7822706065318819\n",
      "\n",
      "Accuracy при n_estimators = 4\n",
      "Обучающая выборка: 0.9413900414937759\n",
      "Валидационная выборка: 0.7729393468118196\n",
      "\n",
      "Accuracy при n_estimators = 5\n",
      "Обучающая выборка: 0.9626556016597511\n",
      "Валидационная выборка: 0.7931570762052877\n",
      "\n"
     ]
    }
   ],
   "source": [
    "#исследуем работу модели с различными значениями гиперпараметра n_estimators\n",
    "for estim in range(2, 6, 1):\n",
    "    model2 = RandomForestClassifier(random_state=123, n_estimators=estim)\n",
    "    model2.fit(features_train, target_train)\n",
    "    predictions_train2 = model2.predict(features_train)\n",
    "    predictions_valid2 = model2.predict(features_valid)\n",
    "    print(\"Accuracy при n_estimators =\", estim)\n",
    "    print(\"Обучающая выборка:\", accuracy_score(target_train, predictions_train2))\n",
    "    print(\"Валидационная выборка:\", accuracy_score(target_valid, predictions_valid2))\n",
    "    print()"
   ]
  },
  {
   "cell_type": "markdown",
   "metadata": {},
   "source": [
    "###  Логистическая регрессия"
   ]
  },
  {
   "cell_type": "markdown",
   "metadata": {},
   "source": [
    "LogisticRegression"
   ]
  },
  {
   "cell_type": "code",
   "execution_count": 19,
   "metadata": {},
   "outputs": [],
   "source": [
    "model3 = LogisticRegression(random_state=123, solver='lbfgs')\n",
    "\n"
   ]
  },
  {
   "cell_type": "code",
   "execution_count": 20,
   "metadata": {},
   "outputs": [
    {
     "data": {
      "text/plain": [
       "LogisticRegression(random_state=123)"
      ]
     },
     "execution_count": 20,
     "metadata": {},
     "output_type": "execute_result"
    }
   ],
   "source": [
    "model3.fit(features_train, target_train)\n"
   ]
  },
  {
   "cell_type": "code",
   "execution_count": 21,
   "metadata": {},
   "outputs": [
    {
     "data": {
      "text/plain": [
       "LogisticRegression(multi_class='warn', random_state=123)"
      ]
     },
     "execution_count": 21,
     "metadata": {},
     "output_type": "execute_result"
    }
   ],
   "source": [
    "LogisticRegression(C=1.0, class_weight=None, dual=False, fit_intercept=True,\n",
    "                   intercept_scaling=1, l1_ratio=None, max_iter=100,\n",
    "                   multi_class='warn', n_jobs=None, penalty='l2',\n",
    "                   random_state=123, solver='lbfgs', tol=0.0001, verbose=0,\n",
    "                   warm_start=False)\n"
   ]
  },
  {
   "cell_type": "code",
   "execution_count": 22,
   "metadata": {},
   "outputs": [],
   "source": [
    "predictions_train3 = model3.predict(features_train)\n",
    "predictions_valid3 = model3.predict(features_valid)\n"
   ]
  },
  {
   "cell_type": "code",
   "execution_count": 23,
   "metadata": {},
   "outputs": [
    {
     "name": "stdout",
     "output_type": "stream",
     "text": [
      "Обучающая выборка: 0.7131742738589212\n",
      "Валидационная выборка: 0.6842923794712286\n"
     ]
    }
   ],
   "source": [
    "print(\"Обучающая выборка:\", accuracy_score(target_train, predictions_train3))\n",
    "print(\"Валидационная выборка:\", accuracy_score(target_valid, predictions_valid3))"
   ]
  },
  {
   "cell_type": "markdown",
   "metadata": {},
   "source": [
    " <font size=4>**Вывод:**</font>\n",
    "\n",
    "Модель случайного леса  отработала лучше двух других моделей.\n",
    "При увеличении значения max_depth у модели решающего дерева луший резельтат работы на значении 5,\n",
    "в случае с RandomForestClassifier остановимся на значении n_estimators=5, которое дало наилучший результат на валидационной выборке.\n",
    "Логистическая регрессия показала низкий уровень точности, ниже 0,75."
   ]
  },
  {
   "cell_type": "markdown",
   "metadata": {},
   "source": [
    "## Проверяем модель на тестовой выборке"
   ]
  },
  {
   "cell_type": "markdown",
   "metadata": {},
   "source": [
    "По критерию accuracy наилучшей точности удалось достичь с моделью Случайного леса  \n",
    "Наилучшая точность: 0.79  \n",
    "Парамтеры модели: n_estimators = 5  \n",
    "Проведём обучение данной модели на всех доступных данных (обучающие + валидационные) и вычислим точность на тестовой выборке."
   ]
  },
  {
   "cell_type": "markdown",
   "metadata": {},
   "source": [
    "Объедим обучающую и валидационную выборки, а затем снова обучим модель перед тестовой проверкой."
   ]
  },
  {
   "cell_type": "code",
   "execution_count": 24,
   "metadata": {},
   "outputs": [],
   "source": [
    "features_merged = (users_train\n",
    "                   .drop(['is_ultra'], axis=1)\n",
    "                   .append([users_valid\n",
    "                            .drop(['is_ultra'], axis=1)])\n",
    "                  )\n",
    "target_merged = users_train['is_ultra'].append([users_valid['is_ultra']])"
   ]
  },
  {
   "cell_type": "code",
   "execution_count": 25,
   "metadata": {},
   "outputs": [],
   "source": [
    "features_test = users_test.drop(['is_ultra'], axis=1)\n",
    "target_test = users_test['is_ultra']"
   ]
  },
  {
   "cell_type": "markdown",
   "metadata": {},
   "source": [
    "RandomForestClassifier"
   ]
  },
  {
   "cell_type": "code",
   "execution_count": 26,
   "metadata": {},
   "outputs": [
    {
     "data": {
      "text/plain": [
       "0.7620528771384136"
      ]
     },
     "execution_count": 26,
     "metadata": {},
     "output_type": "execute_result"
    }
   ],
   "source": [
    "#точность при обучении на объединенной выборке\n",
    "model2 = RandomForestClassifier(random_state=123, n_estimators=5)\n",
    "model2.fit(features_merged, target_merged)\n",
    "model2.predict(features_test)\n",
    "model2.score(features_test, target_test)"
   ]
  },
  {
   "cell_type": "code",
   "execution_count": 27,
   "metadata": {},
   "outputs": [
    {
     "data": {
      "text/plain": [
       "0.7651632970451011"
      ]
     },
     "execution_count": 27,
     "metadata": {},
     "output_type": "execute_result"
    }
   ],
   "source": [
    "#точность при обучении только на обучающей выборке\n",
    "model2 = RandomForestClassifier(random_state=123, n_estimators=5)\n",
    "model2.fit(features_train, target_train)\n",
    "model2.predict(features_test)\n",
    "model2.score(features_test, target_test)"
   ]
  },
  {
   "cell_type": "markdown",
   "metadata": {},
   "source": [
    "<font size=4>Вывод:</font>\n",
    "\n",
    "На тестовой выборке модель RandomForestClassifier сработала хуже, но остается в рамках допустимой точности 0,75. \n",
    "\n",
    "Точность модели RandomForestClassifier на тесте для объединенной и обучающей выборки 0,76. Получается, что модель ошибается примерно в двух случаях из десяти.\n"
   ]
  },
  {
   "cell_type": "markdown",
   "metadata": {},
   "source": [
    "## Проверка модели на адекватность"
   ]
  },
  {
   "cell_type": "markdown",
   "metadata": {},
   "source": [
    "Для модели случайного леса посмотрим подробнее на зависимость точности от числа деревьев и максимальной глубины дерева."
   ]
  },
  {
   "cell_type": "markdown",
   "metadata": {},
   "source": [
    "Сравним наши лучшие модели с так называемым Dummy классификатором.   В случае, если точность наших моделей будет выше, значит их предсказания точнее случайного угадывания  \n",
    "Обучим модель Dummy классификатора и проверим его accuracy, для чего напишем функцию, которая принимает на вход тип гиперпараметра strategy, обучающую выборку и тестовую, а возвращает значение accuracy"
   ]
  },
  {
   "cell_type": "code",
   "execution_count": 28,
   "metadata": {},
   "outputs": [],
   "source": [
    "def train_fit_predict_dummy(features_train, target_train, features_test, target_test, strategy):\n",
    "    dummy_model = DummyClassifier(random_state=123, strategy=strategy)\n",
    "    dummy_model.fit(features_train, target_train)\n",
    "    dummy_predictions = dummy_model.predict(features_test)\n",
    "    dummy_accuracy = accuracy_score(target_test, dummy_predictions)\n",
    "    return dummy_accuracy"
   ]
  },
  {
   "cell_type": "markdown",
   "metadata": {},
   "source": [
    "Проверим теперь accuracy Dummy классификатора со следующими возможными значениями гиперпараметра strategy:\n",
    "\n",
    "- stratified\n",
    "- most_frequent\n",
    "- prior\n",
    "- uniform"
   ]
  },
  {
   "cell_type": "code",
   "execution_count": 29,
   "metadata": {},
   "outputs": [
    {
     "name": "stdout",
     "output_type": "stream",
     "text": [
      "Accuracy для Dummy классификатора со стратегией stratified на тестовой выборке: 0.567651632970451\n",
      "Accuracy для Dummy классификатора со стратегией most_frequent на тестовой выборке: 0.7060653188180405\n",
      "Accuracy для Dummy классификатора со стратегией prior на тестовой выборке: 0.7060653188180405\n",
      "Accuracy для Dummy классификатора со стратегией uniform на тестовой выборке: 0.4867807153965785\n"
     ]
    }
   ],
   "source": [
    "strategies = ['stratified', 'most_frequent', 'prior', 'uniform']\n",
    "for strategy in strategies:    \n",
    "    test_accuracy = train_fit_predict_dummy(features_train, target_train, features_test, target_test, strategy=strategy)\n",
    "    print('Accuracy для Dummy классификатора со стратегией', strategy, 'на тестовой выборке:', test_accuracy)"
   ]
  },
  {
   "cell_type": "markdown",
   "metadata": {},
   "source": [
    "С учётом полученных значений accuracy для Dummy классификатора, можем сказать, что модели дерева решений и случайного леса прошли проверку, т.к. их значение точности больше, чем точность случайного угадывания"
   ]
  },
  {
   "cell_type": "markdown",
   "metadata": {},
   "source": [
    "## Общий вывод\n",
    "\n",
    "- Данные успешно загружены и проанализированы.\n",
    "Пропусков не обнаружено, типы данных преобразованы в соответствии с хранимой информацией.\n",
    "Сильного перекоса в распределениях признаков не наблюдается.\n",
    "Общая доля выбросов составляет 6.5%. Выбросы не удалены.\n",
    "- Были проанализированы различные классификационные модели: Решающее дерево, Случайный лес, Логистическая регрессия. Модели обучены на различных сочетаниях гиперпараметров.Нашли оптимальные, значение accuracy которых оказалось наивысшим. Также мы выбрали модели, которые удовлетворяют условию задачи, а именно имеют значение точности больше 0.75\n",
    "\n",
    "Наилучшая точность (accuracy) была достигнута для модели Случайного леса:\n",
    "- Accuracy на вадидационной выборке: 0.79\n",
    "- Accuracy на тестовой тоже удовлетворяет условию 0.76\n",
    "\n",
    "Модель Решающего дерева также удовлетворяет условию, но по качеству ниже Случайного леса.\n",
    "Модель логистической регрессии не справилась с задачей, показав точность в 0.7 на валидационной выборке.\n"
   ]
  }
 ],
 "metadata": {
  "ExecuteTimeLog": [
   {
    "duration": 1282,
    "start_time": "2022-04-02T08:29:02.385Z"
   },
   {
    "duration": 38,
    "start_time": "2022-04-02T08:35:48.668Z"
   },
   {
    "duration": 21,
    "start_time": "2022-04-02T08:36:07.426Z"
   },
   {
    "duration": 20,
    "start_time": "2022-04-02T08:36:13.962Z"
   },
   {
    "duration": 20,
    "start_time": "2022-04-02T08:37:34.145Z"
   },
   {
    "duration": 21,
    "start_time": "2022-04-02T08:37:39.807Z"
   },
   {
    "duration": 11,
    "start_time": "2022-04-02T08:38:12.174Z"
   },
   {
    "duration": 4,
    "start_time": "2022-04-02T08:43:20.470Z"
   },
   {
    "duration": 25,
    "start_time": "2022-04-02T08:43:47.009Z"
   },
   {
    "duration": 5,
    "start_time": "2022-04-02T08:47:10.333Z"
   },
   {
    "duration": 108,
    "start_time": "2022-04-02T08:47:25.985Z"
   },
   {
    "duration": 510,
    "start_time": "2022-04-02T08:47:53.112Z"
   },
   {
    "duration": 33,
    "start_time": "2022-04-02T08:47:59.835Z"
   },
   {
    "duration": 4,
    "start_time": "2022-04-02T08:48:18.413Z"
   },
   {
    "duration": 23,
    "start_time": "2022-04-02T08:48:19.738Z"
   },
   {
    "duration": 12,
    "start_time": "2022-04-02T08:48:20.303Z"
   },
   {
    "duration": 145,
    "start_time": "2022-04-02T08:48:20.952Z"
   },
   {
    "duration": 4,
    "start_time": "2022-04-02T08:48:21.858Z"
   },
   {
    "duration": 24,
    "start_time": "2022-04-02T08:48:24.396Z"
   },
   {
    "duration": 5,
    "start_time": "2022-04-02T08:48:26.172Z"
   },
   {
    "duration": 1371,
    "start_time": "2022-04-02T08:48:26.942Z"
   },
   {
    "duration": 4,
    "start_time": "2022-04-02T08:49:11.228Z"
   },
   {
    "duration": 1672,
    "start_time": "2022-04-02T08:49:15.906Z"
   },
   {
    "duration": 26,
    "start_time": "2022-04-02T08:49:17.581Z"
   },
   {
    "duration": 13,
    "start_time": "2022-04-02T08:49:17.608Z"
   },
   {
    "duration": 139,
    "start_time": "2022-04-02T08:49:17.623Z"
   },
   {
    "duration": 0,
    "start_time": "2022-04-02T08:49:17.764Z"
   },
   {
    "duration": 1,
    "start_time": "2022-04-02T08:49:17.765Z"
   },
   {
    "duration": 0,
    "start_time": "2022-04-02T08:49:17.766Z"
   },
   {
    "duration": 0,
    "start_time": "2022-04-02T08:49:17.768Z"
   },
   {
    "duration": 113,
    "start_time": "2022-04-02T08:49:26.487Z"
   },
   {
    "duration": 4,
    "start_time": "2022-04-02T08:49:39.348Z"
   },
   {
    "duration": 22,
    "start_time": "2022-04-02T08:49:41.043Z"
   },
   {
    "duration": 13,
    "start_time": "2022-04-02T08:49:41.691Z"
   },
   {
    "duration": 151,
    "start_time": "2022-04-02T08:49:42.446Z"
   },
   {
    "duration": 5,
    "start_time": "2022-04-02T08:49:43.310Z"
   },
   {
    "duration": 4,
    "start_time": "2022-04-02T08:50:04.492Z"
   },
   {
    "duration": 23,
    "start_time": "2022-04-02T08:50:06.293Z"
   },
   {
    "duration": 5,
    "start_time": "2022-04-02T08:50:08.879Z"
   },
   {
    "duration": 1381,
    "start_time": "2022-04-02T08:50:09.994Z"
   },
   {
    "duration": 5,
    "start_time": "2022-04-02T08:52:51.842Z"
   },
   {
    "duration": 4,
    "start_time": "2022-04-02T08:57:05.563Z"
   },
   {
    "duration": 21,
    "start_time": "2022-04-02T08:57:06.294Z"
   },
   {
    "duration": 5,
    "start_time": "2022-04-02T09:19:23.664Z"
   },
   {
    "duration": 4,
    "start_time": "2022-04-02T09:19:28.707Z"
   },
   {
    "duration": 11,
    "start_time": "2022-04-02T09:32:14.395Z"
   },
   {
    "duration": 9,
    "start_time": "2022-04-02T09:32:28.572Z"
   },
   {
    "duration": 11,
    "start_time": "2022-04-02T09:34:02.795Z"
   },
   {
    "duration": 8,
    "start_time": "2022-04-02T09:34:10.356Z"
   },
   {
    "duration": 9,
    "start_time": "2022-04-02T09:34:11.520Z"
   },
   {
    "duration": 3,
    "start_time": "2022-04-02T09:34:24.292Z"
   },
   {
    "duration": 4,
    "start_time": "2022-04-02T09:34:26.715Z"
   },
   {
    "duration": 4,
    "start_time": "2022-04-02T09:34:57.950Z"
   },
   {
    "duration": 6,
    "start_time": "2022-04-02T09:34:59.620Z"
   },
   {
    "duration": 4,
    "start_time": "2022-04-02T09:35:48.205Z"
   },
   {
    "duration": 4,
    "start_time": "2022-04-02T09:41:32.609Z"
   },
   {
    "duration": 5,
    "start_time": "2022-04-02T09:41:33.299Z"
   },
   {
    "duration": 44,
    "start_time": "2022-04-02T09:42:48.817Z"
   },
   {
    "duration": 44,
    "start_time": "2022-04-02T09:43:55.779Z"
   },
   {
    "duration": 47,
    "start_time": "2022-04-02T09:44:00.008Z"
   },
   {
    "duration": 108,
    "start_time": "2022-04-02T09:52:42.286Z"
   },
   {
    "duration": 106,
    "start_time": "2022-04-02T09:55:04.325Z"
   },
   {
    "duration": 3,
    "start_time": "2022-04-02T09:56:54.414Z"
   },
   {
    "duration": 24,
    "start_time": "2022-04-02T09:56:55.034Z"
   },
   {
    "duration": 5,
    "start_time": "2022-04-02T09:56:55.955Z"
   },
   {
    "duration": 6,
    "start_time": "2022-04-02T09:56:57.148Z"
   },
   {
    "duration": 5,
    "start_time": "2022-04-02T09:56:58.298Z"
   },
   {
    "duration": 3,
    "start_time": "2022-04-02T09:57:11.766Z"
   },
   {
    "duration": 23,
    "start_time": "2022-04-02T09:57:12.747Z"
   },
   {
    "duration": 8,
    "start_time": "2022-04-02T09:57:14.073Z"
   },
   {
    "duration": 5,
    "start_time": "2022-04-02T09:57:46.494Z"
   },
   {
    "duration": 7,
    "start_time": "2022-04-02T09:57:51.222Z"
   },
   {
    "duration": 7,
    "start_time": "2022-04-02T09:57:52.100Z"
   },
   {
    "duration": 7,
    "start_time": "2022-04-02T09:59:37.122Z"
   },
   {
    "duration": 7,
    "start_time": "2022-04-02T09:59:41.305Z"
   },
   {
    "duration": 6,
    "start_time": "2022-04-02T09:59:41.940Z"
   },
   {
    "duration": 7,
    "start_time": "2022-04-02T10:10:34.305Z"
   },
   {
    "duration": 4,
    "start_time": "2022-04-02T10:10:35.063Z"
   },
   {
    "duration": 17,
    "start_time": "2022-04-02T10:11:44.940Z"
   },
   {
    "duration": 16,
    "start_time": "2022-04-02T10:11:45.815Z"
   },
   {
    "duration": 36,
    "start_time": "2022-04-02T10:12:36.935Z"
   },
   {
    "duration": 30,
    "start_time": "2022-04-02T10:12:37.808Z"
   },
   {
    "duration": 14,
    "start_time": "2022-04-02T10:19:49.724Z"
   },
   {
    "duration": 13,
    "start_time": "2022-04-02T10:40:21.404Z"
   },
   {
    "duration": 13,
    "start_time": "2022-04-02T10:40:36.718Z"
   },
   {
    "duration": 28,
    "start_time": "2022-04-02T10:42:49.033Z"
   },
   {
    "duration": 26,
    "start_time": "2022-04-02T10:43:29.785Z"
   },
   {
    "duration": 10,
    "start_time": "2022-04-02T10:46:07.024Z"
   },
   {
    "duration": 12,
    "start_time": "2022-04-02T10:46:16.409Z"
   },
   {
    "duration": 7,
    "start_time": "2022-04-02T10:46:23.765Z"
   },
   {
    "duration": 10,
    "start_time": "2022-04-02T10:46:47.776Z"
   },
   {
    "duration": 4,
    "start_time": "2022-04-02T10:50:52.628Z"
   },
   {
    "duration": 3,
    "start_time": "2022-04-02T10:50:56.165Z"
   },
   {
    "duration": 15,
    "start_time": "2022-04-02T10:51:29.724Z"
   },
   {
    "duration": 4,
    "start_time": "2022-04-02T10:52:46.757Z"
   },
   {
    "duration": 1592,
    "start_time": "2022-04-02T10:52:51.864Z"
   },
   {
    "duration": 25,
    "start_time": "2022-04-02T10:52:53.458Z"
   },
   {
    "duration": 11,
    "start_time": "2022-04-02T10:52:53.485Z"
   },
   {
    "duration": 7,
    "start_time": "2022-04-02T10:52:53.498Z"
   },
   {
    "duration": 26,
    "start_time": "2022-04-02T10:52:53.506Z"
   },
   {
    "duration": 6,
    "start_time": "2022-04-02T10:52:53.533Z"
   },
   {
    "duration": 1448,
    "start_time": "2022-04-02T10:52:53.540Z"
   },
   {
    "duration": 14,
    "start_time": "2022-04-02T10:52:54.991Z"
   },
   {
    "duration": 12,
    "start_time": "2022-04-02T10:52:55.008Z"
   },
   {
    "duration": 25,
    "start_time": "2022-04-02T10:52:55.025Z"
   },
   {
    "duration": 132,
    "start_time": "2022-04-02T10:52:55.052Z"
   },
   {
    "duration": 0,
    "start_time": "2022-04-02T10:52:55.187Z"
   },
   {
    "duration": 0,
    "start_time": "2022-04-02T10:52:55.189Z"
   },
   {
    "duration": 0,
    "start_time": "2022-04-02T10:52:55.190Z"
   },
   {
    "duration": 0,
    "start_time": "2022-04-02T10:52:55.201Z"
   },
   {
    "duration": 0,
    "start_time": "2022-04-02T10:52:55.202Z"
   },
   {
    "duration": 0,
    "start_time": "2022-04-02T10:52:55.204Z"
   },
   {
    "duration": 0,
    "start_time": "2022-04-02T10:52:55.206Z"
   },
   {
    "duration": 0,
    "start_time": "2022-04-02T10:52:55.208Z"
   },
   {
    "duration": 0,
    "start_time": "2022-04-02T10:52:55.209Z"
   },
   {
    "duration": 0,
    "start_time": "2022-04-02T10:52:55.211Z"
   },
   {
    "duration": 0,
    "start_time": "2022-04-02T10:52:55.213Z"
   },
   {
    "duration": 0,
    "start_time": "2022-04-02T10:52:55.214Z"
   },
   {
    "duration": 0,
    "start_time": "2022-04-02T10:52:55.216Z"
   },
   {
    "duration": 0,
    "start_time": "2022-04-02T10:52:55.218Z"
   },
   {
    "duration": 0,
    "start_time": "2022-04-02T10:52:55.220Z"
   },
   {
    "duration": 0,
    "start_time": "2022-04-02T10:52:55.221Z"
   },
   {
    "duration": 0,
    "start_time": "2022-04-02T10:52:55.223Z"
   },
   {
    "duration": 0,
    "start_time": "2022-04-02T10:52:55.224Z"
   },
   {
    "duration": 0,
    "start_time": "2022-04-02T10:52:55.226Z"
   },
   {
    "duration": 0,
    "start_time": "2022-04-02T10:52:55.227Z"
   },
   {
    "duration": 0,
    "start_time": "2022-04-02T10:52:55.229Z"
   },
   {
    "duration": 11,
    "start_time": "2022-04-02T10:52:59.215Z"
   },
   {
    "duration": 4,
    "start_time": "2022-04-02T10:58:34.062Z"
   },
   {
    "duration": 5,
    "start_time": "2022-04-02T10:58:45.341Z"
   },
   {
    "duration": 10,
    "start_time": "2022-04-02T10:58:57.740Z"
   },
   {
    "duration": 3,
    "start_time": "2022-04-02T10:59:15.008Z"
   },
   {
    "duration": 4,
    "start_time": "2022-04-02T11:00:09.258Z"
   },
   {
    "duration": 5,
    "start_time": "2022-04-02T11:00:30.198Z"
   },
   {
    "duration": 3,
    "start_time": "2022-04-02T11:02:37.288Z"
   },
   {
    "duration": 3,
    "start_time": "2022-04-02T11:02:37.977Z"
   },
   {
    "duration": 4,
    "start_time": "2022-04-02T11:03:22.749Z"
   },
   {
    "duration": 4,
    "start_time": "2022-04-02T11:03:23.412Z"
   },
   {
    "duration": 5,
    "start_time": "2022-04-02T11:14:03.649Z"
   },
   {
    "duration": 4,
    "start_time": "2022-04-02T11:14:47.858Z"
   },
   {
    "duration": 5,
    "start_time": "2022-04-02T11:16:55.035Z"
   },
   {
    "duration": 6,
    "start_time": "2022-04-02T11:17:12.887Z"
   },
   {
    "duration": 13,
    "start_time": "2022-04-02T11:35:58.436Z"
   },
   {
    "duration": 16,
    "start_time": "2022-04-02T11:36:20.089Z"
   },
   {
    "duration": 14,
    "start_time": "2022-04-02T11:37:11.378Z"
   },
   {
    "duration": 14,
    "start_time": "2022-04-02T11:37:32.637Z"
   },
   {
    "duration": 16,
    "start_time": "2022-04-02T11:39:11.973Z"
   },
   {
    "duration": 1645,
    "start_time": "2022-04-02T11:39:24.797Z"
   },
   {
    "duration": 26,
    "start_time": "2022-04-02T11:39:26.444Z"
   },
   {
    "duration": 14,
    "start_time": "2022-04-02T11:39:26.472Z"
   },
   {
    "duration": 15,
    "start_time": "2022-04-02T11:39:26.489Z"
   },
   {
    "duration": 30,
    "start_time": "2022-04-02T11:39:26.506Z"
   },
   {
    "duration": 6,
    "start_time": "2022-04-02T11:39:26.538Z"
   },
   {
    "duration": 1407,
    "start_time": "2022-04-02T11:39:26.546Z"
   },
   {
    "duration": 5,
    "start_time": "2022-04-02T11:39:27.955Z"
   },
   {
    "duration": 34,
    "start_time": "2022-04-02T11:39:27.962Z"
   },
   {
    "duration": 26,
    "start_time": "2022-04-02T11:39:27.999Z"
   },
   {
    "duration": 123,
    "start_time": "2022-04-02T11:39:28.027Z"
   },
   {
    "duration": 0,
    "start_time": "2022-04-02T11:39:28.153Z"
   },
   {
    "duration": 0,
    "start_time": "2022-04-02T11:39:28.154Z"
   },
   {
    "duration": 0,
    "start_time": "2022-04-02T11:39:28.155Z"
   },
   {
    "duration": 0,
    "start_time": "2022-04-02T11:39:28.157Z"
   },
   {
    "duration": 0,
    "start_time": "2022-04-02T11:39:28.158Z"
   },
   {
    "duration": 0,
    "start_time": "2022-04-02T11:39:28.160Z"
   },
   {
    "duration": 0,
    "start_time": "2022-04-02T11:39:28.161Z"
   },
   {
    "duration": 0,
    "start_time": "2022-04-02T11:39:28.162Z"
   },
   {
    "duration": 0,
    "start_time": "2022-04-02T11:39:28.164Z"
   },
   {
    "duration": 0,
    "start_time": "2022-04-02T11:39:28.165Z"
   },
   {
    "duration": 0,
    "start_time": "2022-04-02T11:39:28.166Z"
   },
   {
    "duration": 0,
    "start_time": "2022-04-02T11:39:28.167Z"
   },
   {
    "duration": 0,
    "start_time": "2022-04-02T11:39:28.168Z"
   },
   {
    "duration": 0,
    "start_time": "2022-04-02T11:39:28.201Z"
   },
   {
    "duration": 0,
    "start_time": "2022-04-02T11:39:28.203Z"
   },
   {
    "duration": 0,
    "start_time": "2022-04-02T11:39:28.204Z"
   },
   {
    "duration": 0,
    "start_time": "2022-04-02T11:39:28.205Z"
   },
   {
    "duration": 0,
    "start_time": "2022-04-02T11:39:28.207Z"
   },
   {
    "duration": 0,
    "start_time": "2022-04-02T11:39:28.208Z"
   },
   {
    "duration": 0,
    "start_time": "2022-04-02T11:39:28.209Z"
   },
   {
    "duration": 14,
    "start_time": "2022-04-02T11:39:33.961Z"
   },
   {
    "duration": 7,
    "start_time": "2022-04-02T11:41:03.251Z"
   },
   {
    "duration": 5,
    "start_time": "2022-04-02T11:41:08.084Z"
   },
   {
    "duration": 1547,
    "start_time": "2022-04-02T11:41:12.011Z"
   },
   {
    "duration": 30,
    "start_time": "2022-04-02T11:41:13.561Z"
   },
   {
    "duration": 13,
    "start_time": "2022-04-02T11:41:13.593Z"
   },
   {
    "duration": 9,
    "start_time": "2022-04-02T11:41:13.608Z"
   },
   {
    "duration": 26,
    "start_time": "2022-04-02T11:41:13.620Z"
   },
   {
    "duration": 5,
    "start_time": "2022-04-02T11:41:13.648Z"
   },
   {
    "duration": 1380,
    "start_time": "2022-04-02T11:41:13.655Z"
   },
   {
    "duration": 6,
    "start_time": "2022-04-02T11:41:15.037Z"
   },
   {
    "duration": 15,
    "start_time": "2022-04-02T11:41:15.045Z"
   },
   {
    "duration": 41,
    "start_time": "2022-04-02T11:41:15.062Z"
   },
   {
    "duration": 7,
    "start_time": "2022-04-02T11:41:15.105Z"
   },
   {
    "duration": 13,
    "start_time": "2022-04-02T11:41:15.114Z"
   },
   {
    "duration": 11,
    "start_time": "2022-04-02T11:41:15.129Z"
   },
   {
    "duration": 7,
    "start_time": "2022-04-02T11:41:15.144Z"
   },
   {
    "duration": 8,
    "start_time": "2022-04-02T11:41:15.153Z"
   },
   {
    "duration": 17,
    "start_time": "2022-04-02T11:41:15.162Z"
   },
   {
    "duration": 55,
    "start_time": "2022-04-02T11:41:15.181Z"
   },
   {
    "duration": 154,
    "start_time": "2022-04-02T11:41:15.237Z"
   },
   {
    "duration": 0,
    "start_time": "2022-04-02T11:41:15.393Z"
   },
   {
    "duration": 0,
    "start_time": "2022-04-02T11:41:15.394Z"
   },
   {
    "duration": 0,
    "start_time": "2022-04-02T11:41:15.401Z"
   },
   {
    "duration": 0,
    "start_time": "2022-04-02T11:41:15.402Z"
   },
   {
    "duration": 0,
    "start_time": "2022-04-02T11:41:15.403Z"
   },
   {
    "duration": 0,
    "start_time": "2022-04-02T11:41:15.404Z"
   },
   {
    "duration": 0,
    "start_time": "2022-04-02T11:41:15.406Z"
   },
   {
    "duration": 0,
    "start_time": "2022-04-02T11:41:15.407Z"
   },
   {
    "duration": 0,
    "start_time": "2022-04-02T11:41:15.408Z"
   },
   {
    "duration": 0,
    "start_time": "2022-04-02T11:41:15.409Z"
   },
   {
    "duration": 0,
    "start_time": "2022-04-02T11:41:15.410Z"
   },
   {
    "duration": 0,
    "start_time": "2022-04-02T11:41:15.411Z"
   },
   {
    "duration": 0,
    "start_time": "2022-04-02T11:41:15.412Z"
   },
   {
    "duration": 19,
    "start_time": "2022-04-02T11:41:21.038Z"
   },
   {
    "duration": 32,
    "start_time": "2022-04-02T11:42:22.042Z"
   },
   {
    "duration": 109,
    "start_time": "2022-04-02T11:42:43.302Z"
   },
   {
    "duration": 11,
    "start_time": "2022-04-02T11:43:13.718Z"
   },
   {
    "duration": 11,
    "start_time": "2022-04-02T11:43:38.174Z"
   },
   {
    "duration": 3,
    "start_time": "2022-04-02T11:43:47.693Z"
   },
   {
    "duration": 26,
    "start_time": "2022-04-02T11:43:48.323Z"
   },
   {
    "duration": 6,
    "start_time": "2022-04-02T11:43:49.364Z"
   },
   {
    "duration": 8,
    "start_time": "2022-04-02T11:43:50.154Z"
   },
   {
    "duration": 6,
    "start_time": "2022-04-02T11:43:51.480Z"
   },
   {
    "duration": 7,
    "start_time": "2022-04-02T11:44:05.955Z"
   },
   {
    "duration": 4,
    "start_time": "2022-04-02T11:44:06.635Z"
   },
   {
    "duration": 18,
    "start_time": "2022-04-02T11:44:08.058Z"
   },
   {
    "duration": 16,
    "start_time": "2022-04-02T11:44:08.984Z"
   },
   {
    "duration": 37,
    "start_time": "2022-04-02T11:44:10.510Z"
   },
   {
    "duration": 31,
    "start_time": "2022-04-02T11:44:11.276Z"
   },
   {
    "duration": 5,
    "start_time": "2022-04-02T11:44:16.800Z"
   },
   {
    "duration": 8459,
    "start_time": "2022-04-02T11:44:19.381Z"
   },
   {
    "duration": 10,
    "start_time": "2022-04-02T11:44:45.472Z"
   },
   {
    "duration": 43,
    "start_time": "2022-04-02T11:47:00.084Z"
   },
   {
    "duration": 1707,
    "start_time": "2022-04-02T11:48:05.963Z"
   },
   {
    "duration": 92,
    "start_time": "2022-04-02T11:51:53.138Z"
   },
   {
    "duration": 11,
    "start_time": "2022-04-02T11:56:51.755Z"
   },
   {
    "duration": 1830,
    "start_time": "2022-04-02T11:57:41.346Z"
   },
   {
    "duration": 8,
    "start_time": "2022-04-02T12:02:18.352Z"
   },
   {
    "duration": 4,
    "start_time": "2022-04-02T12:02:19.212Z"
   },
   {
    "duration": 18,
    "start_time": "2022-04-02T12:02:20.971Z"
   },
   {
    "duration": 16,
    "start_time": "2022-04-02T12:02:22.082Z"
   },
   {
    "duration": 37,
    "start_time": "2022-04-02T12:02:25.985Z"
   },
   {
    "duration": 31,
    "start_time": "2022-04-02T12:02:27.519Z"
   },
   {
    "duration": 16,
    "start_time": "2022-04-02T12:05:41.786Z"
   },
   {
    "duration": 16,
    "start_time": "2022-04-02T12:05:42.862Z"
   },
   {
    "duration": 38,
    "start_time": "2022-04-02T12:05:44.862Z"
   },
   {
    "duration": 31,
    "start_time": "2022-04-02T12:05:48.821Z"
   },
   {
    "duration": 8,
    "start_time": "2022-04-02T12:07:20.216Z"
   },
   {
    "duration": 1647,
    "start_time": "2022-04-02T12:13:24.173Z"
   },
   {
    "duration": 1710,
    "start_time": "2022-04-02T12:17:22.383Z"
   },
   {
    "duration": 27,
    "start_time": "2022-04-02T12:17:24.095Z"
   },
   {
    "duration": 13,
    "start_time": "2022-04-02T12:17:24.124Z"
   },
   {
    "duration": 15,
    "start_time": "2022-04-02T12:17:24.140Z"
   },
   {
    "duration": 45,
    "start_time": "2022-04-02T12:17:24.157Z"
   },
   {
    "duration": 6,
    "start_time": "2022-04-02T12:17:24.204Z"
   },
   {
    "duration": 1439,
    "start_time": "2022-04-02T12:17:24.213Z"
   },
   {
    "duration": 7,
    "start_time": "2022-04-02T12:17:25.654Z"
   },
   {
    "duration": 35,
    "start_time": "2022-04-02T12:17:25.663Z"
   },
   {
    "duration": 37,
    "start_time": "2022-04-02T12:17:25.702Z"
   },
   {
    "duration": 8,
    "start_time": "2022-04-02T12:17:25.742Z"
   },
   {
    "duration": 14,
    "start_time": "2022-04-02T12:17:25.753Z"
   },
   {
    "duration": 11,
    "start_time": "2022-04-02T12:17:25.769Z"
   },
   {
    "duration": 21,
    "start_time": "2022-04-02T12:17:25.782Z"
   },
   {
    "duration": 9,
    "start_time": "2022-04-02T12:17:25.805Z"
   },
   {
    "duration": 13,
    "start_time": "2022-04-02T12:17:25.816Z"
   },
   {
    "duration": 70,
    "start_time": "2022-04-02T12:17:25.831Z"
   },
   {
    "duration": 124,
    "start_time": "2022-04-02T12:17:25.903Z"
   },
   {
    "duration": 3,
    "start_time": "2022-04-02T12:17:26.029Z"
   },
   {
    "duration": 32,
    "start_time": "2022-04-02T12:17:26.034Z"
   },
   {
    "duration": 7,
    "start_time": "2022-04-02T12:17:26.068Z"
   },
   {
    "duration": 25,
    "start_time": "2022-04-02T12:17:26.101Z"
   },
   {
    "duration": 10,
    "start_time": "2022-04-02T12:17:26.128Z"
   },
   {
    "duration": 11,
    "start_time": "2022-04-02T12:17:26.140Z"
   },
   {
    "duration": 7,
    "start_time": "2022-04-02T12:17:26.153Z"
   },
   {
    "duration": 21,
    "start_time": "2022-04-02T12:17:26.162Z"
   },
   {
    "duration": 31,
    "start_time": "2022-04-02T12:17:26.185Z"
   },
   {
    "duration": 42,
    "start_time": "2022-04-02T12:17:26.219Z"
   },
   {
    "duration": 60,
    "start_time": "2022-04-02T12:17:26.264Z"
   },
   {
    "duration": 8379,
    "start_time": "2022-04-02T12:17:26.326Z"
   },
   {
    "duration": 10,
    "start_time": "2022-04-02T12:17:34.707Z"
   },
   {
    "duration": 1640,
    "start_time": "2022-04-02T12:17:34.719Z"
   },
   {
    "duration": 117,
    "start_time": "2022-04-02T12:27:15.349Z"
   },
   {
    "duration": 8338,
    "start_time": "2022-04-02T12:27:50.710Z"
   },
   {
    "duration": 10,
    "start_time": "2022-04-02T12:27:59.050Z"
   },
   {
    "duration": 1653,
    "start_time": "2022-04-02T12:27:59.062Z"
   },
   {
    "duration": 4,
    "start_time": "2022-04-02T12:31:11.449Z"
   },
   {
    "duration": 4,
    "start_time": "2022-04-02T12:31:23.126Z"
   },
   {
    "duration": 11,
    "start_time": "2022-04-02T12:31:49.504Z"
   },
   {
    "duration": 1634,
    "start_time": "2022-04-02T12:32:09.777Z"
   },
   {
    "duration": 27,
    "start_time": "2022-04-02T12:32:11.414Z"
   },
   {
    "duration": 14,
    "start_time": "2022-04-02T12:32:11.443Z"
   },
   {
    "duration": 16,
    "start_time": "2022-04-02T12:32:11.461Z"
   },
   {
    "duration": 39,
    "start_time": "2022-04-02T12:32:11.479Z"
   },
   {
    "duration": 7,
    "start_time": "2022-04-02T12:32:11.521Z"
   },
   {
    "duration": 1376,
    "start_time": "2022-04-02T12:32:11.530Z"
   },
   {
    "duration": 6,
    "start_time": "2022-04-02T12:32:12.909Z"
   },
   {
    "duration": 37,
    "start_time": "2022-04-02T12:32:12.917Z"
   },
   {
    "duration": 25,
    "start_time": "2022-04-02T12:32:12.957Z"
   },
   {
    "duration": 6,
    "start_time": "2022-04-02T12:32:12.984Z"
   },
   {
    "duration": 13,
    "start_time": "2022-04-02T12:32:12.991Z"
   },
   {
    "duration": 8,
    "start_time": "2022-04-02T12:32:13.006Z"
   },
   {
    "duration": 7,
    "start_time": "2022-04-02T12:32:13.016Z"
   },
   {
    "duration": 7,
    "start_time": "2022-04-02T12:32:13.025Z"
   },
   {
    "duration": 11,
    "start_time": "2022-04-02T12:32:13.034Z"
   },
   {
    "duration": 72,
    "start_time": "2022-04-02T12:32:13.047Z"
   },
   {
    "duration": 114,
    "start_time": "2022-04-02T12:32:13.121Z"
   },
   {
    "duration": 3,
    "start_time": "2022-04-02T12:32:13.237Z"
   },
   {
    "duration": 33,
    "start_time": "2022-04-02T12:32:13.242Z"
   },
   {
    "duration": 6,
    "start_time": "2022-04-02T12:32:13.277Z"
   },
   {
    "duration": 22,
    "start_time": "2022-04-02T12:32:13.284Z"
   },
   {
    "duration": 8,
    "start_time": "2022-04-02T12:32:13.307Z"
   },
   {
    "duration": 8,
    "start_time": "2022-04-02T12:32:13.317Z"
   },
   {
    "duration": 8,
    "start_time": "2022-04-02T12:32:13.326Z"
   },
   {
    "duration": 22,
    "start_time": "2022-04-02T12:32:13.335Z"
   },
   {
    "duration": 48,
    "start_time": "2022-04-02T12:32:13.359Z"
   },
   {
    "duration": 33,
    "start_time": "2022-04-02T12:32:13.411Z"
   },
   {
    "duration": 59,
    "start_time": "2022-04-02T12:32:13.446Z"
   },
   {
    "duration": 8415,
    "start_time": "2022-04-02T12:32:13.507Z"
   },
   {
    "duration": 12,
    "start_time": "2022-04-02T12:32:21.925Z"
   },
   {
    "duration": 1707,
    "start_time": "2022-04-02T12:32:21.939Z"
   },
   {
    "duration": 8701,
    "start_time": "2022-04-02T12:39:36.000Z"
   },
   {
    "duration": 11,
    "start_time": "2022-04-02T12:39:44.703Z"
   },
   {
    "duration": 1688,
    "start_time": "2022-04-02T12:40:30.980Z"
   },
   {
    "duration": 27,
    "start_time": "2022-04-02T12:40:32.670Z"
   },
   {
    "duration": 13,
    "start_time": "2022-04-02T12:40:32.699Z"
   },
   {
    "duration": 6,
    "start_time": "2022-04-02T12:40:32.715Z"
   },
   {
    "duration": 25,
    "start_time": "2022-04-02T12:40:32.724Z"
   },
   {
    "duration": 7,
    "start_time": "2022-04-02T12:40:32.751Z"
   },
   {
    "duration": 1457,
    "start_time": "2022-04-02T12:40:32.761Z"
   },
   {
    "duration": 7,
    "start_time": "2022-04-02T12:40:34.220Z"
   },
   {
    "duration": 25,
    "start_time": "2022-04-02T12:40:34.229Z"
   },
   {
    "duration": 24,
    "start_time": "2022-04-02T12:40:34.256Z"
   },
   {
    "duration": 25,
    "start_time": "2022-04-02T12:40:34.282Z"
   },
   {
    "duration": 6,
    "start_time": "2022-04-02T12:40:34.309Z"
   },
   {
    "duration": 8,
    "start_time": "2022-04-02T12:40:34.317Z"
   },
   {
    "duration": 7,
    "start_time": "2022-04-02T12:40:34.329Z"
   },
   {
    "duration": 9,
    "start_time": "2022-04-02T12:40:34.338Z"
   },
   {
    "duration": 20,
    "start_time": "2022-04-02T12:40:34.349Z"
   },
   {
    "duration": 72,
    "start_time": "2022-04-02T12:40:34.371Z"
   },
   {
    "duration": 124,
    "start_time": "2022-04-02T12:40:34.444Z"
   },
   {
    "duration": 3,
    "start_time": "2022-04-02T12:40:34.569Z"
   },
   {
    "duration": 41,
    "start_time": "2022-04-02T12:40:34.574Z"
   },
   {
    "duration": 6,
    "start_time": "2022-04-02T12:40:34.617Z"
   },
   {
    "duration": 19,
    "start_time": "2022-04-02T12:40:34.624Z"
   },
   {
    "duration": 12,
    "start_time": "2022-04-02T12:40:34.645Z"
   },
   {
    "duration": 10,
    "start_time": "2022-04-02T12:40:34.659Z"
   },
   {
    "duration": 13,
    "start_time": "2022-04-02T12:40:34.671Z"
   },
   {
    "duration": 18,
    "start_time": "2022-04-02T12:40:34.700Z"
   },
   {
    "duration": 15,
    "start_time": "2022-04-02T12:40:34.720Z"
   },
   {
    "duration": 36,
    "start_time": "2022-04-02T12:40:34.737Z"
   },
   {
    "duration": 31,
    "start_time": "2022-04-02T12:40:34.802Z"
   },
   {
    "duration": 8576,
    "start_time": "2022-04-02T12:40:34.835Z"
   },
   {
    "duration": 10,
    "start_time": "2022-04-02T12:40:43.413Z"
   },
   {
    "duration": 1654,
    "start_time": "2022-04-02T12:40:43.425Z"
   },
   {
    "duration": 83,
    "start_time": "2022-04-03T10:38:27.090Z"
   },
   {
    "duration": 8,
    "start_time": "2022-04-03T10:38:27.761Z"
   },
   {
    "duration": 2402,
    "start_time": "2022-04-03T10:38:37.724Z"
   },
   {
    "duration": 47,
    "start_time": "2022-04-03T10:38:40.129Z"
   },
   {
    "duration": 19,
    "start_time": "2022-04-03T10:38:40.179Z"
   },
   {
    "duration": 7,
    "start_time": "2022-04-03T10:38:40.202Z"
   },
   {
    "duration": 66,
    "start_time": "2022-04-03T10:38:40.211Z"
   },
   {
    "duration": 7,
    "start_time": "2022-04-03T10:38:40.279Z"
   },
   {
    "duration": 2314,
    "start_time": "2022-04-03T10:38:40.289Z"
   },
   {
    "duration": 7,
    "start_time": "2022-04-03T10:38:42.605Z"
   },
   {
    "duration": 7,
    "start_time": "2022-04-03T10:38:42.614Z"
   },
   {
    "duration": 37,
    "start_time": "2022-04-03T10:38:42.646Z"
   },
   {
    "duration": 8,
    "start_time": "2022-04-03T10:38:42.686Z"
   },
   {
    "duration": 7,
    "start_time": "2022-04-03T10:38:42.696Z"
   },
   {
    "duration": 40,
    "start_time": "2022-04-03T10:38:42.705Z"
   },
   {
    "duration": 6,
    "start_time": "2022-04-03T10:38:42.748Z"
   },
   {
    "duration": 8,
    "start_time": "2022-04-03T10:38:42.756Z"
   },
   {
    "duration": 10,
    "start_time": "2022-04-03T10:38:42.765Z"
   },
   {
    "duration": 101,
    "start_time": "2022-04-03T10:38:42.778Z"
   },
   {
    "duration": 143,
    "start_time": "2022-04-03T10:38:42.881Z"
   },
   {
    "duration": 18,
    "start_time": "2022-04-03T10:38:43.026Z"
   },
   {
    "duration": 39,
    "start_time": "2022-04-03T10:38:43.047Z"
   },
   {
    "duration": 7,
    "start_time": "2022-04-03T10:38:43.089Z"
   },
   {
    "duration": 19,
    "start_time": "2022-04-03T10:38:43.098Z"
   },
   {
    "duration": 25,
    "start_time": "2022-04-03T10:38:43.120Z"
   },
   {
    "duration": 13,
    "start_time": "2022-04-03T10:38:43.148Z"
   },
   {
    "duration": 6,
    "start_time": "2022-04-03T10:38:43.163Z"
   },
   {
    "duration": 86,
    "start_time": "2022-04-03T10:38:43.171Z"
   },
   {
    "duration": 43,
    "start_time": "2022-04-03T10:38:43.259Z"
   },
   {
    "duration": 11803,
    "start_time": "2022-04-03T10:38:43.306Z"
   },
   {
    "duration": 14,
    "start_time": "2022-04-03T10:38:55.111Z"
   },
   {
    "duration": 2647,
    "start_time": "2022-04-03T10:38:55.144Z"
   },
   {
    "duration": 6,
    "start_time": "2022-04-03T11:20:39.186Z"
   },
   {
    "duration": 166,
    "start_time": "2022-04-03T11:20:41.020Z"
   },
   {
    "duration": 7,
    "start_time": "2022-04-03T11:21:24.610Z"
   },
   {
    "duration": 2076,
    "start_time": "2022-04-03T11:21:29.581Z"
   },
   {
    "duration": 49,
    "start_time": "2022-04-03T11:21:31.660Z"
   },
   {
    "duration": 15,
    "start_time": "2022-04-03T11:21:31.711Z"
   },
   {
    "duration": 14,
    "start_time": "2022-04-03T11:21:31.729Z"
   },
   {
    "duration": 31,
    "start_time": "2022-04-03T11:21:31.745Z"
   },
   {
    "duration": 7,
    "start_time": "2022-04-03T11:21:31.778Z"
   },
   {
    "duration": 2134,
    "start_time": "2022-04-03T11:21:31.787Z"
   },
   {
    "duration": 7,
    "start_time": "2022-04-03T11:21:33.923Z"
   },
   {
    "duration": 7,
    "start_time": "2022-04-03T11:21:33.943Z"
   },
   {
    "duration": 28,
    "start_time": "2022-04-03T11:21:33.954Z"
   },
   {
    "duration": 8,
    "start_time": "2022-04-03T11:21:33.984Z"
   },
   {
    "duration": 7,
    "start_time": "2022-04-03T11:21:33.994Z"
   },
   {
    "duration": 41,
    "start_time": "2022-04-03T11:21:34.003Z"
   },
   {
    "duration": 9,
    "start_time": "2022-04-03T11:21:34.046Z"
   },
   {
    "duration": 8,
    "start_time": "2022-04-03T11:21:34.057Z"
   },
   {
    "duration": 11,
    "start_time": "2022-04-03T11:21:34.067Z"
   },
   {
    "duration": 79,
    "start_time": "2022-04-03T11:21:34.080Z"
   },
   {
    "duration": 170,
    "start_time": "2022-04-03T11:21:34.161Z"
   },
   {
    "duration": 11,
    "start_time": "2022-04-03T11:21:34.333Z"
   },
   {
    "duration": 50,
    "start_time": "2022-04-03T11:21:34.347Z"
   },
   {
    "duration": 9,
    "start_time": "2022-04-03T11:21:34.400Z"
   },
   {
    "duration": 39,
    "start_time": "2022-04-03T11:21:34.412Z"
   },
   {
    "duration": 8,
    "start_time": "2022-04-03T11:21:34.454Z"
   },
   {
    "duration": 13,
    "start_time": "2022-04-03T11:21:34.464Z"
   },
   {
    "duration": 10,
    "start_time": "2022-04-03T11:21:34.479Z"
   },
   {
    "duration": 101,
    "start_time": "2022-04-03T11:21:34.492Z"
   },
   {
    "duration": 70,
    "start_time": "2022-04-03T11:21:34.596Z"
   },
   {
    "duration": 6,
    "start_time": "2022-04-03T11:21:34.672Z"
   },
   {
    "duration": 186,
    "start_time": "2022-04-03T11:21:34.680Z"
   },
   {
    "duration": 0,
    "start_time": "2022-04-03T11:21:34.868Z"
   },
   {
    "duration": 0,
    "start_time": "2022-04-03T11:21:34.869Z"
   },
   {
    "duration": 0,
    "start_time": "2022-04-03T11:21:34.871Z"
   },
   {
    "duration": 5,
    "start_time": "2022-04-03T11:21:57.891Z"
   },
   {
    "duration": 19,
    "start_time": "2022-04-03T11:21:59.826Z"
   },
   {
    "duration": 4,
    "start_time": "2022-04-03T11:23:42.316Z"
   },
   {
    "duration": 14,
    "start_time": "2022-04-03T11:23:44.673Z"
   },
   {
    "duration": 2060,
    "start_time": "2022-04-03T11:45:43.248Z"
   },
   {
    "duration": 37,
    "start_time": "2022-04-03T11:45:45.311Z"
   },
   {
    "duration": 16,
    "start_time": "2022-04-03T11:45:45.350Z"
   },
   {
    "duration": 8,
    "start_time": "2022-04-03T11:45:45.368Z"
   },
   {
    "duration": 66,
    "start_time": "2022-04-03T11:45:45.378Z"
   },
   {
    "duration": 8,
    "start_time": "2022-04-03T11:45:45.447Z"
   },
   {
    "duration": 2078,
    "start_time": "2022-04-03T11:45:45.458Z"
   },
   {
    "duration": 7,
    "start_time": "2022-04-03T11:45:47.542Z"
   },
   {
    "duration": 8,
    "start_time": "2022-04-03T11:45:47.551Z"
   },
   {
    "duration": 30,
    "start_time": "2022-04-03T11:45:47.563Z"
   },
   {
    "duration": 9,
    "start_time": "2022-04-03T11:45:47.595Z"
   },
   {
    "duration": 39,
    "start_time": "2022-04-03T11:45:47.606Z"
   },
   {
    "duration": 5,
    "start_time": "2022-04-03T11:45:47.648Z"
   },
   {
    "duration": 5,
    "start_time": "2022-04-03T11:45:47.656Z"
   },
   {
    "duration": 6,
    "start_time": "2022-04-03T11:45:47.664Z"
   },
   {
    "duration": 8,
    "start_time": "2022-04-03T11:45:47.673Z"
   },
   {
    "duration": 109,
    "start_time": "2022-04-03T11:45:47.683Z"
   },
   {
    "duration": 145,
    "start_time": "2022-04-03T11:45:47.795Z"
   },
   {
    "duration": 4,
    "start_time": "2022-04-03T11:45:47.943Z"
   },
   {
    "duration": 32,
    "start_time": "2022-04-03T11:45:47.949Z"
   },
   {
    "duration": 7,
    "start_time": "2022-04-03T11:45:47.984Z"
   },
   {
    "duration": 11,
    "start_time": "2022-04-03T11:45:47.994Z"
   },
   {
    "duration": 40,
    "start_time": "2022-04-03T11:45:48.007Z"
   },
   {
    "duration": 9,
    "start_time": "2022-04-03T11:45:48.049Z"
   },
   {
    "duration": 8,
    "start_time": "2022-04-03T11:45:48.061Z"
   },
   {
    "duration": 81,
    "start_time": "2022-04-03T11:45:48.072Z"
   },
   {
    "duration": 43,
    "start_time": "2022-04-03T11:45:48.155Z"
   },
   {
    "duration": 6,
    "start_time": "2022-04-03T11:45:48.203Z"
   },
   {
    "duration": 42,
    "start_time": "2022-04-03T11:45:48.212Z"
   },
   {
    "duration": 74,
    "start_time": "2023-04-21T07:18:25.035Z"
   }
  ],
  "kernelspec": {
   "display_name": "Python 3 (ipykernel)",
   "language": "python",
   "name": "python3"
  },
  "language_info": {
   "codemirror_mode": {
    "name": "ipython",
    "version": 3
   },
   "file_extension": ".py",
   "mimetype": "text/x-python",
   "name": "python",
   "nbconvert_exporter": "python",
   "pygments_lexer": "ipython3",
   "version": "3.9.5"
  },
  "toc": {
   "base_numbering": 1,
   "nav_menu": {},
   "number_sections": true,
   "sideBar": true,
   "skip_h1_title": true,
   "title_cell": "Table of Contents",
   "title_sidebar": "Contents",
   "toc_cell": false,
   "toc_position": {},
   "toc_section_display": true,
   "toc_window_display": true
  }
 },
 "nbformat": 4,
 "nbformat_minor": 2
}
