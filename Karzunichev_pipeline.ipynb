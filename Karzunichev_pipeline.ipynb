{
 "cells": [
  {
   "cell_type": "markdown",
   "metadata": {},
   "source": [
    "Данный класс позволяет проанализировать и сделать предобработку данных, благодоря функции replase, можно увидеть все подсказки по методам\n",
    "1)\tУвидить как распределяются признаки, можно в порядке убывания или увеличения, что бы выделить аномальные значения\n",
    "2) Зависимость признаков числовых от целевого\n",
    "3)анализирую процент пропусков    Nan\n",
    "4) выводится таблица describe и корреляция\n",
    "5)Заменяю пропуски во всей таблице, автоматически анализирует тип данных и если что заменяет на среднию и Unknow\n",
    "6) Заменяю пропуске в признаке на медиану по значению другого признака, передается. Например имеются пропуски в признаке мощьность автомобиля. Можно по признаку марка автомобиля, заменить на медиану или среднию из признака мощьность\n",
    "7)Заменяю пропуске в признаке на среднию по значению другого признака, передается df, признак который нужно обработать и признаки на основании которого будет групировать и заменять\")\n",
    "8) Заменяю пропуске в признаке на нуль\n",
    "10)Заменяю пропуске в признаке на среднее в этом признаке\n",
    "11)далю пропуски в признаке (отредактировано) "
   ]
  },
  {
   "cell_type": "code",
   "execution_count": null,
   "metadata": {},
   "outputs": [],
   "source": [
    "class DataScience:\n",
    "    \n",
    "    def __init__(self, grade=123):  # *args, **kwargs\n",
    "        self.description_DataScience = grade\n",
    "        \n",
    "    def readmi(df):\n",
    "        print(\"Описание функций и методов\")\n",
    "        print(\"distribution_features\")\n",
    "        print(\"                     Как признаки распределяются в DataFrame т.е что бы увидеть анамальные значения. Передаются df, СПИСОК Признаков и порядок сортировки bool_sort=False или True\")\n",
    "        print(\"nomber_columns__plot \")\n",
    "        print(\"                     Зависимость признаков числовых от целевого, передается df и целевой признак\")\n",
    "        print(\"object_columns_plot\")\n",
    "        print(\"                     Зависимость признаков object от целевого , передается df и целевой признак\")      \n",
    "        print(\"nan_procent\")\n",
    "        print(\"                     анализирую процент пропусков    NaN, передается df\")      \n",
    "        print(\"analiz_df\")\n",
    "        print(\"                     выводится таблица describe и корреляция\")      \n",
    "        print(\"AntiMissings\")\n",
    "        print(\"                     Заменяю пропуски во всей таблице, автоматически анализирует тип данных и если что заменяет на среднию и Unknown\")\n",
    "        print('replase_values_columns_nan_median')\n",
    "        print(\"                     Заменяю пропуске в признаке на медиану по значению другого признака, передается df, признак который нужно обработать и признаки на основании которого будет групировать и заменять\")    \n",
    "    \n",
    "        print(\"replase_values_columns_nan_mean\")\n",
    "        print(\"                     Заменяю пропуске в признаке на среднию по значению другого признака, передается df, признак который нужно обработать и признаки на основании которого будет групировать и заменять\")    \n",
    "    \n",
    "        print(\"replase_values_nan_null\")\n",
    "        print(\"                     Заменяю пропуске в признаке на нуль\")\n",
    "        print(\"replase_values_nan_unknow\")\n",
    "        print(\"                     Заменяю пропуске в признаке на unknow\")\n",
    "        print(\"replase_values_nan_mean\")\n",
    "        print(\"                     Заменяю пропуске в признаке на среднее в этом признаке \")\n",
    "        print(\"delet_nan\")\n",
    "        print(\"                     Удалю пропуски в признаке \")\n",
    "        \n",
    "    # Как признаки распределяются в DataFrame т.е что бы увидеть анамальные значения\n",
    "    def distribution_features(self,row,columns,bool_sort):\n",
    "        for i in columns:\n",
    "            print('Рассматриваем признак',i)\n",
    "            row[i].hist()\n",
    "            if row[i].dtype!=\"object\":\n",
    "            \n",
    "                display(row[i].describe())\n",
    "                #data=row[i].unique()\n",
    "                print(\"Уникальные значения признака\",i)\n",
    "                display(row[i].sort_values(ascending=bool_sort).unique())\n",
    "               \n",
    "                \n",
    "            else:\n",
    "                print(\"Уникальные значения признака\",i)\n",
    "                display(row[i].sort_values().unique())\n",
    "                \n",
    "            plt.show()\n",
    "        \n",
    "        \n",
    "        \n",
    "    # Зависимость признаков числовых от целевого      \n",
    "    def nomber_columns__plot(self,row,columns_target):\n",
    "        # Определяю численые признаки\n",
    "        num_columns = df.dtypes[df.dtypes!=\"object\"].index.values\n",
    "        # Чищу список, что бы целевой признак не попадался\n",
    "        target=columns_target #Задаю целевой признак\n",
    "        new_num_columns=[]\n",
    "        \n",
    "        \n",
    "        for i in num_columns:\n",
    "            if i==target:\n",
    "                i=i\n",
    "            else:\n",
    "                new_num_columns.append(i)\n",
    "        new_num_columns\n",
    "        for i in new_num_columns:\n",
    "            \n",
    "            row.pivot_table(index=i,values=columns_target,aggfunc='mean').plot()\n",
    "            plt.show()\n",
    "            \n",
    "    # Зависимость признаков object от целевого        \n",
    "    def object_columns_plot(self,row,columns_target):\n",
    "        # Определяю численые признаки\n",
    "        num_columns = df.dtypes[df.dtypes==\"object\"].index.values\n",
    "        # Чищу список, что бы целевой признак не попадался\n",
    "        target=columns_target #Задаю целевой признак\n",
    "\n",
    "        new_num_columns=[]\n",
    "\n",
    "\n",
    "        for i in num_columns:\n",
    "            if i==target:\n",
    "                i=i\n",
    "            else:\n",
    "                new_num_columns.append(i)\n",
    "        new_num_columns\n",
    "        for i in new_num_columns:\n",
    "\n",
    "            row.pivot_table(index=i,values=columns_target,aggfunc='mean').plot()\n",
    "            plt.show()         \n",
    "            \n",
    "     # анализирую процент пропусков    NaN   \n",
    "    def nan_procent(self,row):\n",
    "        total = row.isnull().sum().sort_values(ascending=False)\n",
    "        percent = (df.isnull().sum()/df.isnull().count()).sort_values(ascending=False)\n",
    "        missing_data = pd.concat([total, percent], axis=1, keys=['Total', 'Percent'])\n",
    "        missing_data['Data Type'] = row.dtypes\n",
    "        return missing_data\n",
    "    \n",
    "    \n",
    "    # Анализ DataFrame        \n",
    "    def analiz_df(self,row):\n",
    "        import seaborn as sns\n",
    "        print(\"===================================Таблица describe====================\")\n",
    "        display(row.describe())\n",
    "        print(\"===================================Таблица корреляции==================\")\n",
    "        plt.figure(figsize=(12, 10), dpi=80)\n",
    "        sns.heatmap(row.corr(), xticklabels=row.corr().columns, yticklabels=row.corr().columns, cmap='RdYlGn', center=0,\n",
    "                    annot=True)\n",
    "        plt.title('Диаграмма корреляции', fontsize=22)\n",
    "        plt.xticks(fontsize=12)\n",
    "        plt.yticks(fontsize=12)\n",
    "        plt.show()\n",
    "        print(\"===================================Кол-во дубликатов ==================\")\n",
    "        print(\"Кол-во дубликатов \",row.duplicated().sum())\n",
    "        \n",
    "     # заменяю пропуски во всех столбцах на среднию или Unknown\n",
    "    def AntiMissings(row):\n",
    "        df1 = row.copy()\n",
    "        for col in df1.columns:\n",
    "                if df1[col].dtype == \"object\":\n",
    "                    df1[col] = df1[col].fillna(\"Unknown\")\n",
    "                    df1[col] = df1[col].astype(\"object\")\n",
    "                else:\n",
    "                    df1[col] = df1[col].fillna(np.mean(df1[col]))\n",
    "        return df1    \n",
    "        \n",
    "    # Заменяю пропуске в признаке на медиану по значению другого признака    \n",
    "    def replase_values_columns_nan_median(self,row,target,columns):\n",
    "        row[target] = row[target].fillna(row.groupby([columns])[target].transform('median'))\n",
    "        return row\n",
    "     # Заменяю пропуске в признаке на среднее по значению другого признака    \n",
    "    def replase_values_columns_nan_mean(self,row,target,columns):\n",
    "        row[target] = row[target].fillna(row.groupby([columns])[target].transform('mean'))\n",
    "        return row\n",
    "     # Заменяю пропуске в признаке на нуль \n",
    "    def replase_values_nan_null(self,row,target):\n",
    "        row[target] = row[target].fillna(0)\n",
    "        return row\n",
    "     # Заменяю пропуске в признаке на unknow \n",
    "    def replase_values_nan_unknow(self,row,target):\n",
    "        row[target] = row[target].fillna('unknow')\n",
    "        return row\n",
    " \n",
    "     # Заменяю пропуске в признаке на среднее в этом признаке \n",
    "    def replase_values_nan_mean(self,row,target):\n",
    "        row[target] = row[target].fillna(row[target].mean())\n",
    "        return row\n",
    "    # Удалю пропуски в признаке\n",
    "    def delet_nan(self,row,target):\n",
    "        # Удалю пропуски\n",
    "        row=row.dropna(subset=[target])\n",
    "        \n",
    "        \n",
    "DataScience = DataScience()    \n",
    "   "
   ]
  }
 ],
 "metadata": {
  "ExecuteTimeLog": [
   {
    "duration": 270,
    "start_time": "2021-12-01T05:26:54.618Z"
   },
   {
    "duration": 251,
    "start_time": "2021-12-01T05:27:19.546Z"
   },
   {
    "duration": 233,
    "start_time": "2021-12-01T05:28:51.793Z"
   },
   {
    "duration": 218,
    "start_time": "2021-12-01T05:29:04.824Z"
   },
   {
    "duration": 246,
    "start_time": "2021-12-01T05:29:10.344Z"
   },
   {
    "duration": 248,
    "start_time": "2021-12-01T05:30:02.111Z"
   },
   {
    "duration": 985,
    "start_time": "2021-12-01T05:30:14.427Z"
   },
   {
    "duration": 232,
    "start_time": "2021-12-01T05:30:21.147Z"
   },
   {
    "duration": 582,
    "start_time": "2021-12-01T05:30:34.672Z"
   },
   {
    "duration": 126,
    "start_time": "2021-12-01T05:30:38.746Z"
   },
   {
    "duration": 7,
    "start_time": "2021-12-01T05:30:43.679Z"
   },
   {
    "duration": 15,
    "start_time": "2021-12-01T05:31:04.479Z"
   },
   {
    "duration": 10,
    "start_time": "2021-12-01T05:31:11.735Z"
   },
   {
    "duration": 22,
    "start_time": "2021-12-01T05:31:39.201Z"
   },
   {
    "duration": 9,
    "start_time": "2021-12-01T05:32:16.912Z"
   },
   {
    "duration": 4,
    "start_time": "2021-12-01T05:39:31.665Z"
   },
   {
    "duration": 4,
    "start_time": "2021-12-01T05:46:20.440Z"
   },
   {
    "duration": 17,
    "start_time": "2021-12-01T05:46:35.365Z"
   },
   {
    "duration": 4,
    "start_time": "2021-12-01T05:46:38.269Z"
   },
   {
    "duration": 88,
    "start_time": "2021-12-01T05:51:01.026Z"
   },
   {
    "duration": 21,
    "start_time": "2021-12-01T05:51:07.445Z"
   },
   {
    "duration": 78,
    "start_time": "2021-12-01T05:55:49.890Z"
   },
   {
    "duration": 16,
    "start_time": "2021-12-01T05:56:27.709Z"
   },
   {
    "duration": 20,
    "start_time": "2021-12-01T05:56:51.194Z"
   },
   {
    "duration": 52,
    "start_time": "2021-12-01T06:24:06.715Z"
   },
   {
    "duration": 299,
    "start_time": "2021-12-01T06:25:36.995Z"
   },
   {
    "duration": 59,
    "start_time": "2021-12-01T06:26:23.351Z"
   },
   {
    "duration": 46,
    "start_time": "2021-12-01T06:26:47.173Z"
   },
   {
    "duration": 6,
    "start_time": "2021-12-01T10:12:32.040Z"
   },
   {
    "duration": 46,
    "start_time": "2021-12-01T10:24:38.031Z"
   },
   {
    "duration": 83,
    "start_time": "2021-12-01T10:37:25.717Z"
   },
   {
    "duration": 45,
    "start_time": "2021-12-01T10:37:33.575Z"
   },
   {
    "duration": 14,
    "start_time": "2021-12-01T10:47:56.694Z"
   },
   {
    "duration": 10,
    "start_time": "2021-12-01T10:49:33.369Z"
   },
   {
    "duration": 3,
    "start_time": "2021-12-01T10:51:39.311Z"
   },
   {
    "duration": 10,
    "start_time": "2021-12-01T10:51:43.869Z"
   },
   {
    "duration": 6,
    "start_time": "2021-12-01T10:51:47.050Z"
   },
   {
    "duration": 9,
    "start_time": "2021-12-01T10:59:35.111Z"
   },
   {
    "duration": 9,
    "start_time": "2021-12-01T11:01:39.070Z"
   },
   {
    "duration": 10,
    "start_time": "2021-12-01T11:01:44.825Z"
   },
   {
    "duration": 16,
    "start_time": "2021-12-01T11:01:53.212Z"
   },
   {
    "duration": 15,
    "start_time": "2021-12-01T11:02:56.583Z"
   },
   {
    "duration": 22,
    "start_time": "2021-12-01T11:04:34.034Z"
   },
   {
    "duration": 242,
    "start_time": "2021-12-01T11:10:46.178Z"
   },
   {
    "duration": 326,
    "start_time": "2021-12-01T11:11:03.540Z"
   },
   {
    "duration": 33,
    "start_time": "2021-12-01T11:11:47.521Z"
   },
   {
    "duration": 300,
    "start_time": "2021-12-01T11:12:14.742Z"
   },
   {
    "duration": 26,
    "start_time": "2021-12-01T11:13:03.474Z"
   },
   {
    "duration": 12,
    "start_time": "2021-12-01T11:14:03.556Z"
   },
   {
    "duration": 301,
    "start_time": "2021-12-01T11:27:11.018Z"
   },
   {
    "duration": 69,
    "start_time": "2021-12-01T11:30:51.716Z"
   },
   {
    "duration": 25,
    "start_time": "2021-12-01T11:31:20.160Z"
   },
   {
    "duration": 245,
    "start_time": "2021-12-01T11:34:27.191Z"
   },
   {
    "duration": 9,
    "start_time": "2021-12-01T11:35:01.483Z"
   },
   {
    "duration": 12,
    "start_time": "2021-12-01T11:37:47.579Z"
   },
   {
    "duration": 10,
    "start_time": "2021-12-01T11:37:52.228Z"
   },
   {
    "duration": 12,
    "start_time": "2021-12-01T11:38:04.386Z"
   },
   {
    "duration": 87,
    "start_time": "2021-12-02T04:35:08.805Z"
   },
   {
    "duration": 316,
    "start_time": "2021-12-02T04:36:37.401Z"
   },
   {
    "duration": 288,
    "start_time": "2021-12-02T04:36:59.934Z"
   },
   {
    "duration": 582,
    "start_time": "2021-12-02T04:37:11.845Z"
   },
   {
    "duration": 137,
    "start_time": "2021-12-02T04:37:16.885Z"
   },
   {
    "duration": 15,
    "start_time": "2021-12-02T04:37:20.130Z"
   },
   {
    "duration": 24,
    "start_time": "2021-12-02T04:37:24.400Z"
   },
   {
    "duration": 4,
    "start_time": "2021-12-02T04:37:28.682Z"
   },
   {
    "duration": 21,
    "start_time": "2021-12-02T04:37:33.644Z"
   },
   {
    "duration": 5,
    "start_time": "2021-12-02T04:37:36.521Z"
   },
   {
    "duration": 23,
    "start_time": "2021-12-02T04:37:40.006Z"
   },
   {
    "duration": 17,
    "start_time": "2021-12-02T04:37:45.370Z"
   },
   {
    "duration": 21,
    "start_time": "2021-12-02T04:37:47.930Z"
   },
   {
    "duration": 69,
    "start_time": "2021-12-02T04:37:52.314Z"
   },
   {
    "duration": 565,
    "start_time": "2021-12-02T04:38:06.165Z"
   },
   {
    "duration": 134,
    "start_time": "2021-12-02T04:38:06.732Z"
   },
   {
    "duration": 16,
    "start_time": "2021-12-02T04:38:06.870Z"
   },
   {
    "duration": 28,
    "start_time": "2021-12-02T04:38:06.887Z"
   },
   {
    "duration": 4,
    "start_time": "2021-12-02T04:38:06.916Z"
   },
   {
    "duration": 40,
    "start_time": "2021-12-02T04:38:06.921Z"
   },
   {
    "duration": 4,
    "start_time": "2021-12-02T04:38:06.964Z"
   },
   {
    "duration": 23,
    "start_time": "2021-12-02T04:38:06.970Z"
   },
   {
    "duration": 19,
    "start_time": "2021-12-02T04:38:06.994Z"
   },
   {
    "duration": 44,
    "start_time": "2021-12-02T04:38:07.014Z"
   },
   {
    "duration": 55,
    "start_time": "2021-12-02T04:38:07.060Z"
   },
   {
    "duration": 81,
    "start_time": "2021-12-02T04:38:07.117Z"
   },
   {
    "duration": 57,
    "start_time": "2021-12-02T04:38:07.200Z"
   },
   {
    "duration": 47,
    "start_time": "2021-12-02T04:38:07.258Z"
   },
   {
    "duration": 3,
    "start_time": "2021-12-02T04:38:07.307Z"
   },
   {
    "duration": 11,
    "start_time": "2021-12-02T04:38:07.311Z"
   },
   {
    "duration": 22,
    "start_time": "2021-12-02T04:38:07.324Z"
   },
   {
    "duration": 29,
    "start_time": "2021-12-02T04:38:07.348Z"
   },
   {
    "duration": 11,
    "start_time": "2021-12-02T04:38:07.379Z"
   },
   {
    "duration": 16,
    "start_time": "2021-12-02T04:38:07.391Z"
   },
   {
    "duration": 24,
    "start_time": "2021-12-02T04:38:07.409Z"
   },
   {
    "duration": 25,
    "start_time": "2021-12-02T04:38:07.436Z"
   },
   {
    "duration": 18,
    "start_time": "2021-12-02T04:38:07.463Z"
   },
   {
    "duration": 10,
    "start_time": "2021-12-02T04:38:07.482Z"
   },
   {
    "duration": 20,
    "start_time": "2021-12-02T04:38:07.494Z"
   },
   {
    "duration": 14,
    "start_time": "2021-12-02T04:38:07.516Z"
   },
   {
    "duration": 16,
    "start_time": "2021-12-02T04:38:07.532Z"
   },
   {
    "duration": 18,
    "start_time": "2021-12-02T04:38:07.550Z"
   },
   {
    "duration": 16,
    "start_time": "2021-12-02T04:38:07.569Z"
   },
   {
    "duration": 19,
    "start_time": "2021-12-02T04:38:07.587Z"
   },
   {
    "duration": 27,
    "start_time": "2021-12-02T04:38:07.607Z"
   },
   {
    "duration": 26,
    "start_time": "2021-12-02T04:38:07.636Z"
   },
   {
    "duration": 24,
    "start_time": "2021-12-02T04:38:07.664Z"
   },
   {
    "duration": 5,
    "start_time": "2021-12-02T04:38:07.690Z"
   },
   {
    "duration": 5,
    "start_time": "2021-12-02T04:38:07.696Z"
   },
   {
    "duration": 4,
    "start_time": "2021-12-02T04:38:07.702Z"
   },
   {
    "duration": 4,
    "start_time": "2021-12-02T04:38:07.708Z"
   },
   {
    "duration": 5,
    "start_time": "2021-12-02T04:38:07.713Z"
   },
   {
    "duration": 80,
    "start_time": "2021-12-02T04:39:28.491Z"
   },
   {
    "duration": 12,
    "start_time": "2021-12-02T04:40:10.574Z"
   },
   {
    "duration": 20,
    "start_time": "2021-12-02T04:40:19.815Z"
   },
   {
    "duration": 22,
    "start_time": "2021-12-02T04:41:13.701Z"
   },
   {
    "duration": 98,
    "start_time": "2021-12-02T04:42:16.331Z"
   },
   {
    "duration": 24,
    "start_time": "2021-12-02T04:42:33.695Z"
   },
   {
    "duration": 4,
    "start_time": "2021-12-02T04:44:46.376Z"
   },
   {
    "duration": 13,
    "start_time": "2021-12-02T04:45:18.815Z"
   },
   {
    "duration": 315,
    "start_time": "2021-12-02T04:46:20.836Z"
   },
   {
    "duration": 257,
    "start_time": "2021-12-02T04:47:02.553Z"
   },
   {
    "duration": 3,
    "start_time": "2021-12-02T04:47:47.898Z"
   },
   {
    "duration": 3,
    "start_time": "2021-12-02T04:47:58.146Z"
   },
   {
    "duration": 258,
    "start_time": "2021-12-02T04:48:17.526Z"
   },
   {
    "duration": 261,
    "start_time": "2021-12-02T04:49:08.858Z"
   },
   {
    "duration": 12,
    "start_time": "2021-12-02T04:49:16.881Z"
   },
   {
    "duration": 18,
    "start_time": "2021-12-02T04:49:53.398Z"
   },
   {
    "duration": 15,
    "start_time": "2021-12-02T04:50:32.659Z"
   },
   {
    "duration": 15,
    "start_time": "2021-12-02T04:53:23.092Z"
   },
   {
    "duration": 14,
    "start_time": "2021-12-02T04:53:25.462Z"
   },
   {
    "duration": 18,
    "start_time": "2021-12-02T04:53:27.199Z"
   },
   {
    "duration": 18,
    "start_time": "2021-12-02T04:53:30.100Z"
   },
   {
    "duration": 3,
    "start_time": "2021-12-02T05:11:51.874Z"
   },
   {
    "duration": 19,
    "start_time": "2021-12-02T05:11:54.087Z"
   },
   {
    "duration": 15,
    "start_time": "2021-12-02T05:11:56.960Z"
   },
   {
    "duration": 16,
    "start_time": "2021-12-02T05:11:59.207Z"
   },
   {
    "duration": 14,
    "start_time": "2021-12-02T05:12:01.773Z"
   },
   {
    "duration": 16,
    "start_time": "2021-12-02T05:12:04.972Z"
   },
   {
    "duration": 16,
    "start_time": "2021-12-02T05:12:06.852Z"
   },
   {
    "duration": 2,
    "start_time": "2021-12-02T05:14:55.881Z"
   },
   {
    "duration": 270,
    "start_time": "2021-12-02T05:17:25.453Z"
   },
   {
    "duration": 285,
    "start_time": "2021-12-02T05:19:10.455Z"
   },
   {
    "duration": 3,
    "start_time": "2021-12-02T05:25:12.553Z"
   },
   {
    "duration": 7,
    "start_time": "2021-12-02T05:25:28.209Z"
   },
   {
    "duration": 270,
    "start_time": "2021-12-02T05:31:34.880Z"
   },
   {
    "duration": 98,
    "start_time": "2021-12-02T05:32:26.256Z"
   },
   {
    "duration": 88,
    "start_time": "2021-12-02T05:32:41.272Z"
   },
   {
    "duration": 91,
    "start_time": "2021-12-02T05:33:10.803Z"
   },
   {
    "duration": 7,
    "start_time": "2021-12-02T05:33:21.101Z"
   },
   {
    "duration": 8,
    "start_time": "2021-12-02T05:33:48.015Z"
   },
   {
    "duration": 282,
    "start_time": "2021-12-02T05:34:52.762Z"
   },
   {
    "duration": 275,
    "start_time": "2021-12-02T05:35:28.898Z"
   },
   {
    "duration": 1131,
    "start_time": "2021-12-02T05:36:25.578Z"
   },
   {
    "duration": 263,
    "start_time": "2021-12-02T05:36:58.566Z"
   },
   {
    "duration": 293,
    "start_time": "2021-12-02T05:37:13.046Z"
   },
   {
    "duration": 8,
    "start_time": "2021-12-02T05:37:22.454Z"
   },
   {
    "duration": 288,
    "start_time": "2021-12-02T05:55:24.272Z"
   },
   {
    "duration": 477,
    "start_time": "2021-12-02T05:56:14.110Z"
   },
   {
    "duration": 8,
    "start_time": "2021-12-02T05:56:35.846Z"
   },
   {
    "duration": 271,
    "start_time": "2021-12-02T05:57:07.522Z"
   },
   {
    "duration": 7,
    "start_time": "2021-12-02T05:57:20.395Z"
   },
   {
    "duration": 268,
    "start_time": "2021-12-02T05:57:42.284Z"
   },
   {
    "duration": 278,
    "start_time": "2021-12-02T06:14:50.981Z"
   },
   {
    "duration": 83,
    "start_time": "2021-12-02T06:16:57.758Z"
   },
   {
    "duration": 267,
    "start_time": "2021-12-02T06:17:51.643Z"
   },
   {
    "duration": 278,
    "start_time": "2021-12-02T06:18:07.139Z"
   },
   {
    "duration": 92,
    "start_time": "2021-12-02T06:18:17.503Z"
   },
   {
    "duration": 272,
    "start_time": "2021-12-02T06:19:18.671Z"
   },
   {
    "duration": 316,
    "start_time": "2021-12-02T06:20:05.243Z"
   },
   {
    "duration": 275,
    "start_time": "2021-12-02T08:24:50.458Z"
   },
   {
    "duration": 5,
    "start_time": "2021-12-02T08:26:13.793Z"
   },
   {
    "duration": 5,
    "start_time": "2021-12-02T08:26:51.223Z"
   },
   {
    "duration": 11,
    "start_time": "2021-12-02T08:27:43.390Z"
   },
   {
    "duration": 275,
    "start_time": "2021-12-02T08:28:55.744Z"
   },
   {
    "duration": 7,
    "start_time": "2021-12-02T08:29:08.000Z"
   },
   {
    "duration": 277,
    "start_time": "2021-12-02T08:31:25.379Z"
   },
   {
    "duration": 297,
    "start_time": "2021-12-02T08:31:34.201Z"
   },
   {
    "duration": 5,
    "start_time": "2021-12-02T08:32:09.511Z"
   },
   {
    "duration": 7,
    "start_time": "2021-12-02T08:32:15.765Z"
   },
   {
    "duration": 6,
    "start_time": "2021-12-02T08:32:33.054Z"
   },
   {
    "duration": 7,
    "start_time": "2021-12-02T08:32:56.778Z"
   },
   {
    "duration": 91,
    "start_time": "2021-12-02T08:33:35.598Z"
   },
   {
    "duration": 268,
    "start_time": "2021-12-02T08:33:51.490Z"
   },
   {
    "duration": 51,
    "start_time": "2021-12-02T08:37:35.576Z"
   },
   {
    "duration": 3,
    "start_time": "2021-12-02T08:38:12.396Z"
   },
   {
    "duration": 10,
    "start_time": "2021-12-02T08:38:15.124Z"
   },
   {
    "duration": 7,
    "start_time": "2021-12-02T08:38:17.512Z"
   },
   {
    "duration": 9,
    "start_time": "2021-12-02T08:41:42.511Z"
   },
   {
    "duration": 265,
    "start_time": "2021-12-02T08:44:11.818Z"
   },
   {
    "duration": 270,
    "start_time": "2021-12-02T08:44:20.275Z"
   },
   {
    "duration": 352,
    "start_time": "2021-12-02T08:44:48.823Z"
   },
   {
    "duration": 262,
    "start_time": "2021-12-02T08:44:56.674Z"
   },
   {
    "duration": 9,
    "start_time": "2021-12-02T08:48:54.164Z"
   },
   {
    "duration": 286,
    "start_time": "2021-12-02T08:49:42.072Z"
   },
   {
    "duration": 6,
    "start_time": "2021-12-02T08:50:43.736Z"
   },
   {
    "duration": 6,
    "start_time": "2021-12-02T08:51:00.224Z"
   },
   {
    "duration": 6,
    "start_time": "2021-12-02T08:51:46.022Z"
   },
   {
    "duration": 253,
    "start_time": "2021-12-02T08:52:24.734Z"
   },
   {
    "duration": 262,
    "start_time": "2021-12-02T08:52:41.342Z"
   },
   {
    "duration": 299,
    "start_time": "2021-12-02T08:53:02.262Z"
   },
   {
    "duration": 7,
    "start_time": "2021-12-02T08:54:24.303Z"
   },
   {
    "duration": 9,
    "start_time": "2021-12-02T08:54:33.947Z"
   },
   {
    "duration": 10,
    "start_time": "2021-12-02T08:54:51.804Z"
   },
   {
    "duration": 8,
    "start_time": "2021-12-02T08:56:40.504Z"
   },
   {
    "duration": 268,
    "start_time": "2021-12-02T08:56:54.224Z"
   },
   {
    "duration": 8,
    "start_time": "2021-12-02T08:57:14.748Z"
   },
   {
    "duration": 7,
    "start_time": "2021-12-02T09:02:28.437Z"
   },
   {
    "duration": 6,
    "start_time": "2021-12-02T09:02:50.510Z"
   },
   {
    "duration": 8,
    "start_time": "2021-12-02T09:03:34.562Z"
   },
   {
    "duration": 7,
    "start_time": "2021-12-02T09:03:38.890Z"
   },
   {
    "duration": 287,
    "start_time": "2021-12-02T09:04:13.660Z"
   },
   {
    "duration": 586,
    "start_time": "2021-12-02T09:04:21.474Z"
   },
   {
    "duration": 141,
    "start_time": "2021-12-02T09:04:22.061Z"
   },
   {
    "duration": 16,
    "start_time": "2021-12-02T09:04:22.204Z"
   },
   {
    "duration": 28,
    "start_time": "2021-12-02T09:04:22.222Z"
   },
   {
    "duration": 4,
    "start_time": "2021-12-02T09:04:22.252Z"
   },
   {
    "duration": 22,
    "start_time": "2021-12-02T09:04:22.258Z"
   },
   {
    "duration": 6,
    "start_time": "2021-12-02T09:04:22.282Z"
   },
   {
    "duration": 25,
    "start_time": "2021-12-02T09:04:22.289Z"
   },
   {
    "duration": 44,
    "start_time": "2021-12-02T09:04:22.317Z"
   },
   {
    "duration": 24,
    "start_time": "2021-12-02T09:04:22.363Z"
   },
   {
    "duration": 75,
    "start_time": "2021-12-02T09:04:22.389Z"
   },
   {
    "duration": 64,
    "start_time": "2021-12-02T09:04:22.465Z"
   },
   {
    "duration": 60,
    "start_time": "2021-12-02T09:04:22.531Z"
   },
   {
    "duration": 55,
    "start_time": "2021-12-02T09:04:22.592Z"
   },
   {
    "duration": 3,
    "start_time": "2021-12-02T09:04:22.648Z"
   },
   {
    "duration": 11,
    "start_time": "2021-12-02T09:04:22.653Z"
   },
   {
    "duration": 6,
    "start_time": "2021-12-02T09:04:22.666Z"
   },
   {
    "duration": 29,
    "start_time": "2021-12-02T09:04:22.673Z"
   },
   {
    "duration": 48,
    "start_time": "2021-12-02T09:04:22.704Z"
   },
   {
    "duration": 4,
    "start_time": "2021-12-02T09:04:22.755Z"
   },
   {
    "duration": 22,
    "start_time": "2021-12-02T09:04:22.761Z"
   },
   {
    "duration": 17,
    "start_time": "2021-12-02T09:04:22.785Z"
   },
   {
    "duration": 41,
    "start_time": "2021-12-02T09:04:22.803Z"
   },
   {
    "duration": 16,
    "start_time": "2021-12-02T09:04:22.846Z"
   },
   {
    "duration": 21,
    "start_time": "2021-12-02T09:04:22.864Z"
   },
   {
    "duration": 23,
    "start_time": "2021-12-02T09:04:22.886Z"
   },
   {
    "duration": 17,
    "start_time": "2021-12-02T09:04:22.911Z"
   },
   {
    "duration": 31,
    "start_time": "2021-12-02T09:04:22.929Z"
   },
   {
    "duration": 8,
    "start_time": "2021-12-02T09:04:22.962Z"
   },
   {
    "duration": 17,
    "start_time": "2021-12-02T09:04:22.971Z"
   },
   {
    "duration": 28,
    "start_time": "2021-12-02T09:04:22.990Z"
   },
   {
    "duration": 19,
    "start_time": "2021-12-02T09:04:23.020Z"
   },
   {
    "duration": 27,
    "start_time": "2021-12-02T09:04:23.041Z"
   },
   {
    "duration": 23,
    "start_time": "2021-12-02T09:04:23.070Z"
   },
   {
    "duration": 26,
    "start_time": "2021-12-02T09:04:23.095Z"
   },
   {
    "duration": 17,
    "start_time": "2021-12-02T09:04:23.122Z"
   },
   {
    "duration": 37,
    "start_time": "2021-12-02T09:04:23.141Z"
   },
   {
    "duration": 6,
    "start_time": "2021-12-02T09:04:23.180Z"
   },
   {
    "duration": 9,
    "start_time": "2021-12-02T09:05:05.097Z"
   },
   {
    "duration": 14,
    "start_time": "2021-12-02T09:05:08.506Z"
   },
   {
    "duration": 348,
    "start_time": "2021-12-02T09:13:19.565Z"
   },
   {
    "duration": 18,
    "start_time": "2021-12-02T09:13:36.722Z"
   },
   {
    "duration": 89,
    "start_time": "2021-12-02T09:19:16.070Z"
   },
   {
    "duration": 98,
    "start_time": "2021-12-02T09:19:38.380Z"
   },
   {
    "duration": 122,
    "start_time": "2021-12-02T09:21:42.219Z"
   },
   {
    "duration": 87,
    "start_time": "2021-12-02T09:22:06.279Z"
   },
   {
    "duration": 1155,
    "start_time": "2021-12-02T09:23:41.481Z"
   },
   {
    "duration": 1054,
    "start_time": "2021-12-02T09:24:08.062Z"
   },
   {
    "duration": 14,
    "start_time": "2021-12-02T09:24:24.926Z"
   },
   {
    "duration": 1219,
    "start_time": "2021-12-02T09:24:36.418Z"
   },
   {
    "duration": 86,
    "start_time": "2021-12-02T09:24:57.203Z"
   },
   {
    "duration": 265,
    "start_time": "2021-12-02T09:34:38.493Z"
   },
   {
    "duration": 278,
    "start_time": "2021-12-02T09:34:54.531Z"
   },
   {
    "duration": 262,
    "start_time": "2021-12-02T09:35:38.235Z"
   },
   {
    "duration": 11,
    "start_time": "2021-12-02T09:39:43.609Z"
   },
   {
    "duration": 8,
    "start_time": "2021-12-02T09:39:47.794Z"
   },
   {
    "duration": 37,
    "start_time": "2021-12-02T09:39:53.331Z"
   },
   {
    "duration": 36,
    "start_time": "2021-12-02T09:39:58.221Z"
   },
   {
    "duration": 39,
    "start_time": "2021-12-02T09:40:12.873Z"
   },
   {
    "duration": 11,
    "start_time": "2021-12-02T09:41:39.254Z"
   },
   {
    "duration": 10,
    "start_time": "2021-12-02T09:47:51.172Z"
   },
   {
    "duration": 12,
    "start_time": "2021-12-02T09:48:10.532Z"
   },
   {
    "duration": 11,
    "start_time": "2021-12-02T09:50:06.549Z"
   },
   {
    "duration": 12,
    "start_time": "2021-12-02T09:50:11.837Z"
   },
   {
    "duration": 12,
    "start_time": "2021-12-02T09:51:06.614Z"
   },
   {
    "duration": 12,
    "start_time": "2021-12-02T09:51:11.669Z"
   },
   {
    "duration": 24,
    "start_time": "2021-12-02T09:53:08.885Z"
   },
   {
    "duration": 120,
    "start_time": "2021-12-02T09:59:25.865Z"
   },
   {
    "duration": 96,
    "start_time": "2021-12-02T10:00:29.274Z"
   },
   {
    "duration": 91,
    "start_time": "2021-12-02T10:00:49.590Z"
   },
   {
    "duration": 83,
    "start_time": "2021-12-02T10:01:46.853Z"
   },
   {
    "duration": 92,
    "start_time": "2021-12-02T10:04:27.980Z"
   },
   {
    "duration": 4,
    "start_time": "2021-12-02T10:04:44.893Z"
   },
   {
    "duration": 98,
    "start_time": "2021-12-02T10:06:17.962Z"
   },
   {
    "duration": 92,
    "start_time": "2021-12-02T10:06:45.596Z"
   },
   {
    "duration": 97,
    "start_time": "2021-12-02T10:07:28.616Z"
   },
   {
    "duration": 95,
    "start_time": "2021-12-02T10:08:43.585Z"
   },
   {
    "duration": 97,
    "start_time": "2021-12-02T10:08:57.999Z"
   },
   {
    "duration": 98,
    "start_time": "2021-12-02T10:09:44.900Z"
   },
   {
    "duration": 5,
    "start_time": "2021-12-02T10:11:01.086Z"
   },
   {
    "duration": 4,
    "start_time": "2021-12-02T10:11:08.948Z"
   },
   {
    "duration": 4,
    "start_time": "2021-12-02T10:11:19.531Z"
   },
   {
    "duration": 676,
    "start_time": "2021-12-02T10:22:30.986Z"
   },
   {
    "duration": 10002,
    "start_time": "2021-12-02T10:23:25.551Z"
   },
   {
    "duration": 611,
    "start_time": "2021-12-02T10:25:41.336Z"
   },
   {
    "duration": 5,
    "start_time": "2021-12-02T10:26:13.564Z"
   },
   {
    "duration": 21,
    "start_time": "2021-12-02T10:26:16.284Z"
   },
   {
    "duration": 18,
    "start_time": "2021-12-02T10:26:57.144Z"
   },
   {
    "duration": 24,
    "start_time": "2021-12-02T10:28:34.469Z"
   },
   {
    "duration": 18,
    "start_time": "2021-12-02T10:28:38.310Z"
   },
   {
    "duration": 12,
    "start_time": "2021-12-02T10:29:20.194Z"
   },
   {
    "duration": 27,
    "start_time": "2021-12-02T10:29:21.961Z"
   },
   {
    "duration": 19,
    "start_time": "2021-12-02T10:29:39.130Z"
   },
   {
    "duration": 24,
    "start_time": "2021-12-02T10:29:50.038Z"
   },
   {
    "duration": 23,
    "start_time": "2021-12-02T10:30:14.278Z"
   },
   {
    "duration": 17,
    "start_time": "2021-12-02T10:30:17.046Z"
   },
   {
    "duration": 23,
    "start_time": "2021-12-02T10:30:20.319Z"
   },
   {
    "duration": 19,
    "start_time": "2021-12-02T10:30:22.515Z"
   },
   {
    "duration": 6,
    "start_time": "2021-12-02T12:40:37.400Z"
   },
   {
    "duration": 20,
    "start_time": "2021-12-02T12:40:40.723Z"
   },
   {
    "duration": 14,
    "start_time": "2021-12-02T12:40:43.819Z"
   },
   {
    "duration": 20,
    "start_time": "2021-12-02T12:40:46.584Z"
   },
   {
    "duration": 15,
    "start_time": "2021-12-02T12:40:49.331Z"
   },
   {
    "duration": 9,
    "start_time": "2021-12-03T03:56:51.830Z"
   },
   {
    "duration": 258,
    "start_time": "2021-12-03T04:06:14.363Z"
   },
   {
    "duration": 271,
    "start_time": "2021-12-03T04:07:35.841Z"
   },
   {
    "duration": 315,
    "start_time": "2021-12-03T04:07:52.265Z"
   },
   {
    "duration": 13,
    "start_time": "2021-12-03T04:08:22.628Z"
   },
   {
    "duration": 261,
    "start_time": "2021-12-03T04:10:51.446Z"
   },
   {
    "duration": 265,
    "start_time": "2021-12-03T04:12:25.779Z"
   },
   {
    "duration": 15,
    "start_time": "2021-12-03T04:13:22.764Z"
   },
   {
    "duration": 9,
    "start_time": "2021-12-03T04:13:32.791Z"
   },
   {
    "duration": 10,
    "start_time": "2021-12-03T04:14:20.637Z"
   },
   {
    "duration": 257,
    "start_time": "2021-12-03T04:14:46.290Z"
   },
   {
    "duration": 10,
    "start_time": "2021-12-03T04:15:01.018Z"
   },
   {
    "duration": 8,
    "start_time": "2021-12-03T04:15:39.037Z"
   },
   {
    "duration": 5,
    "start_time": "2021-12-03T04:15:41.529Z"
   },
   {
    "duration": 252,
    "start_time": "2021-12-03T04:29:20.374Z"
   },
   {
    "duration": 255,
    "start_time": "2021-12-03T04:29:46.517Z"
   },
   {
    "duration": 292,
    "start_time": "2021-12-03T04:30:22.353Z"
   },
   {
    "duration": 275,
    "start_time": "2021-12-03T04:30:27.273Z"
   },
   {
    "duration": 5,
    "start_time": "2021-12-03T04:30:55.126Z"
   },
   {
    "duration": 6,
    "start_time": "2021-12-03T04:31:00.486Z"
   },
   {
    "duration": 5,
    "start_time": "2021-12-03T04:31:34.113Z"
   },
   {
    "duration": 30,
    "start_time": "2021-12-03T04:42:19.958Z"
   },
   {
    "duration": 31,
    "start_time": "2021-12-03T04:42:32.587Z"
   },
   {
    "duration": 30,
    "start_time": "2021-12-03T04:42:37.034Z"
   },
   {
    "duration": 32,
    "start_time": "2021-12-03T04:42:44.283Z"
   },
   {
    "duration": 9,
    "start_time": "2021-12-03T04:44:37.262Z"
   },
   {
    "duration": 13,
    "start_time": "2021-12-03T04:45:12.864Z"
   },
   {
    "duration": 9,
    "start_time": "2021-12-03T04:45:16.756Z"
   }
  ],
  "colab": {
   "collapsed_sections": [
    "E0vqbgi9ay0H",
    "VUC88oWjTJw2"
   ],
   "name": "yandex_music_project_2021.2.ipynb",
   "provenance": []
  },
  "kernelspec": {
   "display_name": "Python 3 (ipykernel)",
   "language": "python",
   "name": "python3"
  },
  "language_info": {
   "codemirror_mode": {
    "name": "ipython",
    "version": 3
   },
   "file_extension": ".py",
   "mimetype": "text/x-python",
   "name": "python",
   "nbconvert_exporter": "python",
   "pygments_lexer": "ipython3",
   "version": "3.9.5"
  },
  "toc": {
   "base_numbering": 1,
   "nav_menu": {},
   "number_sections": true,
   "sideBar": true,
   "skip_h1_title": true,
   "title_cell": "Table of Contents",
   "title_sidebar": "Contents",
   "toc_cell": false,
   "toc_position": {
    "height": "calc(100% - 180px)",
    "left": "10px",
    "top": "150px",
    "width": "406.349px"
   },
   "toc_section_display": true,
   "toc_window_display": true
  }
 },
 "nbformat": 4,
 "nbformat_minor": 1
}
